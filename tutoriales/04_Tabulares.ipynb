{
 "cells": [
  {
   "cell_type": "markdown",
   "metadata": {},
   "source": [
    "## Modelo datos estructurados\n",
    "Este notebook desarrolla un primer modelo para resolver el problema de Petfinder. Empezamos haciendo un modelo inicial muy simple para ver la viabilidad de resolver el problema. Luego analizamos como se comporta la métrica kappa propuesta y vemos la matriz de confusión. Finalmente hacemos una optimizacin de hiperparametros evaluando con train/test y otra validando con 5 fold CV y testeando en el 20% de los datos"
   ]
  },
  {
   "cell_type": "code",
   "execution_count": 1,
   "metadata": {},
   "outputs": [
    {
     "name": "stderr",
     "output_type": "stream",
     "text": [
      "c:\\Users\\cacic\\anaconda3\\envs\\ldi2\\Lib\\site-packages\\tqdm\\auto.py:21: TqdmWarning: IProgress not found. Please update jupyter and ipywidgets. See https://ipywidgets.readthedocs.io/en/stable/user_install.html\n",
      "  from .autonotebook import tqdm as notebook_tqdm\n"
     ]
    }
   ],
   "source": [
    "#Import de librerias basicas tablas y matrices\n",
    "import numpy as np \n",
    "import pandas as pd \n",
    "\n",
    "#Gradient Boosting\n",
    "import lightgbm as lgb\n",
    "\n",
    "#Funciones auxiliares sklearn\n",
    "from sklearn.model_selection import train_test_split, StratifiedKFold #Split y cross Validation\n",
    "from sklearn.metrics import cohen_kappa_score, accuracy_score, balanced_accuracy_score #Metricas\n",
    "from sklearn.utils import shuffle \n",
    "\n",
    "#Visualizacióon\n",
    "from plotly import express as px\n",
    "\n",
    "#Plot de matriz de confusion normalizada en actuals\n",
    "from utils import plot_confusion_matrix\n",
    "\n",
    "import os\n",
    "\n",
    "#Optimizacion de hiperparametros\n",
    "import optuna\n",
    "from optuna.artifacts import FileSystemArtifactStore, upload_artifact\n",
    "\n",
    "#Guardado de objetos en archivos joblib\n",
    "from joblib import load, dump\n"
   ]
  },
  {
   "cell_type": "code",
   "execution_count": 2,
   "metadata": {},
   "outputs": [],
   "source": [
    "# Paths para acceso archivos\n",
    "#Este notebook asume la siguiente estructura de carpetas a partir de la ubicacion de base_dir \n",
    "#(dos niveles arriba de la carpeta donde se ejecuta el notebook). \n",
    "# /UA_MDM_LDI_II/\n",
    "# /UA_MDM_LDI_II/input\n",
    "# /UA_MDM_LDI_II/input/petfinder-adoption-prediction/            <- Aca deben ir todos los archivos de datos de la competencia \n",
    "# /UA_MDM_LDI_II/tutoriales/                       <- Aca deben poner los notebooks y scripts que les compartimos\n",
    "# /UA_MDM_LDI_II/work/                             <- Resultados de notebooks iran dentro de esta carpeta en subcarpetas\n",
    "# /UA_MDM_LDI_II/work/models/                     <- Modelos entrenados en archivos joblibs\n",
    "# /UA_MDM_LDI_II/work/optuna_temp_artifacts/      <- Archivos que queremos dejar como artefacto de un trial de optuna (optuna los copiara a la carpeta de abajo)\n",
    "# /UA_MDM_LDI_II/work/optuna_artifacts/           <- Archivos con artefactos que sibimos a optuna\n",
    "\n",
    "#Subimos dos niveles para quedar en la carpeta que contiene input y UA_MDM_LDI_II\n",
    "BASE_DIR = '../'\n",
    "\n",
    "#Datos de entrenamiento \n",
    "PATH_TO_TRAIN = os.path.join(BASE_DIR, \"input/petfinder-adoption-prediction/train/train.csv\")\n",
    "\n",
    "#Salida de modelos entrenados\n",
    "PATH_TO_MODELS = os.path.join(BASE_DIR, \"work/models\")\n",
    "\n",
    "#Artefactos a subir a optuna\n",
    "PATH_TO_TEMP_FILES = os.path.join(BASE_DIR, \"work/optuna_temp_artifacts\")\n",
    "\n",
    "#Artefactos que optuna gestiona\n",
    "PATH_TO_OPTUNA_ARTIFACTS = os.path.join(BASE_DIR, \"work/optuna_artifacts\")\n",
    "\n",
    "\n",
    "SEED = 42 #Semilla de procesos aleatorios (para poder replicar exactamente al volver a correr un modelo)\n",
    "TEST_SIZE = 0.2 #Facción para train/test= split"
   ]
  },
  {
   "cell_type": "code",
   "execution_count": 3,
   "metadata": {},
   "outputs": [],
   "source": [
    "# Datos Tabulares\n",
    "dataset = pd.read_csv(PATH_TO_TRAIN)"
   ]
  },
  {
   "cell_type": "code",
   "execution_count": 4,
   "metadata": {},
   "outputs": [
    {
     "data": {
      "text/plain": [
       "Index(['Type', 'Name', 'Age', 'Breed1', 'Breed2', 'Gender', 'Color1', 'Color2',\n",
       "       'Color3', 'MaturitySize', 'FurLength', 'Vaccinated', 'Dewormed',\n",
       "       'Sterilized', 'Health', 'Quantity', 'Fee', 'State', 'RescuerID',\n",
       "       'VideoAmt', 'Description', 'PetID', 'PhotoAmt', 'AdoptionSpeed'],\n",
       "      dtype='object')"
      ]
     },
     "execution_count": 4,
     "metadata": {},
     "output_type": "execute_result"
    }
   ],
   "source": [
    "#Columnas del dataset\n",
    "dataset.columns"
   ]
  },
  {
   "cell_type": "code",
   "execution_count": 5,
   "metadata": {},
   "outputs": [],
   "source": [
    "#Separo un 20% para test estratificado opr target\n",
    "train, test = train_test_split(dataset,\n",
    "                               test_size = TEST_SIZE,\n",
    "                               random_state = SEED,\n",
    "                               stratify = dataset.AdoptionSpeed)"
   ]
  },
  {
   "cell_type": "code",
   "execution_count": 6,
   "metadata": {},
   "outputs": [],
   "source": [
    "#Armo listas con features de texto y numericas\n",
    "char_feats = [f for f in dataset.columns if dataset[f].dtype=='O']\n",
    "numeric_feats = [f for f in dataset.columns if dataset[f].dtype!='O']"
   ]
  },
  {
   "cell_type": "code",
   "execution_count": 7,
   "metadata": {},
   "outputs": [
    {
     "data": {
      "text/plain": [
       "['Type',\n",
       " 'Age',\n",
       " 'Breed1',\n",
       " 'Breed2',\n",
       " 'Gender',\n",
       " 'Color1',\n",
       " 'Color2',\n",
       " 'Color3',\n",
       " 'MaturitySize',\n",
       " 'FurLength',\n",
       " 'Vaccinated',\n",
       " 'Dewormed',\n",
       " 'Sterilized',\n",
       " 'Health',\n",
       " 'Quantity',\n",
       " 'Fee',\n",
       " 'State',\n",
       " 'VideoAmt',\n",
       " 'PhotoAmt',\n",
       " 'AdoptionSpeed']"
      ]
     },
     "execution_count": 7,
     "metadata": {},
     "output_type": "execute_result"
    }
   ],
   "source": [
    "#Lista de features numericas\n",
    "numeric_feats"
   ]
  },
  {
   "cell_type": "code",
   "execution_count": 8,
   "metadata": {},
   "outputs": [],
   "source": [
    "\n",
    "#Defino features a usar en un primer modelo de prueba\n",
    "features = ['Type',\n",
    " 'Age',\n",
    " 'Breed1',\n",
    " 'Breed2',\n",
    " 'Gender',\n",
    " 'Color1',\n",
    " 'Color2',\n",
    " 'Color3',\n",
    " 'MaturitySize',\n",
    " 'FurLength',\n",
    " 'Vaccinated',\n",
    " 'Dewormed',\n",
    " 'Sterilized',\n",
    " 'Health',\n",
    " 'Quantity',\n",
    " 'Fee',\n",
    " 'State',\n",
    " 'VideoAmt',\n",
    " 'PhotoAmt']\n",
    "\n",
    "label = 'AdoptionSpeed'"
   ]
  },
  {
   "cell_type": "code",
   "execution_count": 9,
   "metadata": {},
   "outputs": [],
   "source": [
    "#Genero dataframes de train y test con sus respectivos targets\n",
    "X_train = train[features]\n",
    "y_train = train[label]\n",
    "\n",
    "X_test = test[features]\n",
    "y_test = test[label]"
   ]
  },
  {
   "cell_type": "code",
   "execution_count": 10,
   "metadata": {},
   "outputs": [
    {
     "name": "stdout",
     "output_type": "stream",
     "text": [
      "[LightGBM] [Info] Auto-choosing row-wise multi-threading, the overhead of testing was 0.002176 seconds.\n",
      "You can set `force_row_wise=true` to remove the overhead.\n",
      "And if memory is not enough, you can set `force_col_wise=true`.\n",
      "[LightGBM] [Info] Total Bins 438\n",
      "[LightGBM] [Info] Number of data points in the train set: 11994, number of used features: 19\n",
      "[LightGBM] [Info] Start training from score -3.599148\n",
      "[LightGBM] [Info] Start training from score -1.579379\n",
      "[LightGBM] [Info] Start training from score -1.311924\n",
      "[LightGBM] [Info] Start training from score -1.526206\n",
      "[LightGBM] [Info] Start training from score -1.273359\n"
     ]
    }
   ],
   "source": [
    "#Entreno un modelo inicial sin modificar hiperparametros. Solamente especifico el numero de clases y el tipo de modelo como clasificacoión\n",
    "lgb_params = params = {\n",
    "                        'objective': 'multiclass',\n",
    "                        'num_class': len(y_train.unique())\n",
    "                        }\n",
    "\n",
    "\n",
    "#genero el objeto Dataset que debo pasarle a lightgbm para que entrene\n",
    "lgb_train_dataset = lgb.Dataset(data=X_train,\n",
    "                                label=y_train)\n",
    "\n",
    "#entreno el modelo con los parametros por defecto\n",
    "lgb_model = lgb.train(lgb_params,\n",
    "                      lgb_train_dataset)"
   ]
  },
  {
   "cell_type": "code",
   "execution_count": 11,
   "metadata": {},
   "outputs": [
    {
     "data": {
      "text/plain": [
       "np.float64(0.31327315052086113)"
      ]
     },
     "execution_count": 11,
     "metadata": {},
     "output_type": "execute_result"
    }
   ],
   "source": [
    "#Obtengo las predicciones sobre el set de test. El modelo me da una lista de probabilidades para cada clase y tomo la clase con mayor probabilidad con la funcion argmax\n",
    "y_pred = lgb_model.predict(X_test).argmax(axis=1)\n",
    "\n",
    "#Calculo el Kappa\n",
    "cohen_kappa_score(y_test,y_pred, weights = 'quadratic')"
   ]
  },
  {
   "cell_type": "code",
   "execution_count": 12,
   "metadata": {},
   "outputs": [
    {
     "data": {
      "application/vnd.plotly.v1+json": {
       "config": {
        "plotlyServerURL": "https://plot.ly"
       },
       "data": [
        {
         "type": "heatmap",
         "x": [
          0,
          1,
          2,
          3,
          4
         ],
         "y": [
          0,
          1,
          2,
          3,
          4
         ],
         "z": [
          [
           6.097560975609756,
           39.02439024390244,
           26.82926829268293,
           10.975609756097562,
           17.073170731707318
          ],
          [
           0.3236245954692557,
           35.11326860841424,
           36.084142394822,
           7.605177993527508,
           20.87378640776699
          ],
          [
           0,
           24.411400247831473,
           36.926889714993806,
           11.400247831474598,
           27.261462205700127
          ],
          [
           0,
           17.94478527607362,
           34.20245398773007,
           18.55828220858896,
           29.29447852760736
          ],
          [
           0.4761904761904762,
           11.666666666666666,
           21.071428571428573,
           7.261904761904763,
           59.523809523809526
          ]
         ]
        }
       ],
       "layout": {
        "annotations": [
         {
          "font": {
           "color": "white"
          },
          "showarrow": false,
          "text": "6.1 - 5",
          "x": 0,
          "xref": "x",
          "y": 0,
          "yref": "y"
         },
         {
          "font": {
           "color": "white"
          },
          "showarrow": false,
          "text": "39.0 - 32",
          "x": 1,
          "xref": "x",
          "y": 0,
          "yref": "y"
         },
         {
          "font": {
           "color": "white"
          },
          "showarrow": false,
          "text": "26.8 - 22",
          "x": 2,
          "xref": "x",
          "y": 0,
          "yref": "y"
         },
         {
          "font": {
           "color": "white"
          },
          "showarrow": false,
          "text": "11.0 - 9",
          "x": 3,
          "xref": "x",
          "y": 0,
          "yref": "y"
         },
         {
          "font": {
           "color": "white"
          },
          "showarrow": false,
          "text": "17.1 - 14",
          "x": 4,
          "xref": "x",
          "y": 0,
          "yref": "y"
         },
         {
          "font": {
           "color": "white"
          },
          "showarrow": false,
          "text": "0.3 - 2",
          "x": 0,
          "xref": "x",
          "y": 1,
          "yref": "y"
         },
         {
          "font": {
           "color": "white"
          },
          "showarrow": false,
          "text": "35.1 - 217",
          "x": 1,
          "xref": "x",
          "y": 1,
          "yref": "y"
         },
         {
          "font": {
           "color": "white"
          },
          "showarrow": false,
          "text": "36.1 - 223",
          "x": 2,
          "xref": "x",
          "y": 1,
          "yref": "y"
         },
         {
          "font": {
           "color": "white"
          },
          "showarrow": false,
          "text": "7.6 - 47",
          "x": 3,
          "xref": "x",
          "y": 1,
          "yref": "y"
         },
         {
          "font": {
           "color": "white"
          },
          "showarrow": false,
          "text": "20.9 - 129",
          "x": 4,
          "xref": "x",
          "y": 1,
          "yref": "y"
         },
         {
          "font": {
           "color": "white"
          },
          "showarrow": false,
          "text": "0.0 - 0",
          "x": 0,
          "xref": "x",
          "y": 2,
          "yref": "y"
         },
         {
          "font": {
           "color": "white"
          },
          "showarrow": false,
          "text": "24.4 - 197",
          "x": 1,
          "xref": "x",
          "y": 2,
          "yref": "y"
         },
         {
          "font": {
           "color": "white"
          },
          "showarrow": false,
          "text": "36.9 - 298",
          "x": 2,
          "xref": "x",
          "y": 2,
          "yref": "y"
         },
         {
          "font": {
           "color": "white"
          },
          "showarrow": false,
          "text": "11.4 - 92",
          "x": 3,
          "xref": "x",
          "y": 2,
          "yref": "y"
         },
         {
          "font": {
           "color": "white"
          },
          "showarrow": false,
          "text": "27.3 - 220",
          "x": 4,
          "xref": "x",
          "y": 2,
          "yref": "y"
         },
         {
          "font": {
           "color": "white"
          },
          "showarrow": false,
          "text": "0.0 - 0",
          "x": 0,
          "xref": "x",
          "y": 3,
          "yref": "y"
         },
         {
          "font": {
           "color": "white"
          },
          "showarrow": false,
          "text": "17.9 - 117",
          "x": 1,
          "xref": "x",
          "y": 3,
          "yref": "y"
         },
         {
          "font": {
           "color": "white"
          },
          "showarrow": false,
          "text": "34.2 - 223",
          "x": 2,
          "xref": "x",
          "y": 3,
          "yref": "y"
         },
         {
          "font": {
           "color": "white"
          },
          "showarrow": false,
          "text": "18.6 - 121",
          "x": 3,
          "xref": "x",
          "y": 3,
          "yref": "y"
         },
         {
          "font": {
           "color": "white"
          },
          "showarrow": false,
          "text": "29.3 - 191",
          "x": 4,
          "xref": "x",
          "y": 3,
          "yref": "y"
         },
         {
          "font": {
           "color": "white"
          },
          "showarrow": false,
          "text": "0.5 - 4",
          "x": 0,
          "xref": "x",
          "y": 4,
          "yref": "y"
         },
         {
          "font": {
           "color": "white"
          },
          "showarrow": false,
          "text": "11.7 - 98",
          "x": 1,
          "xref": "x",
          "y": 4,
          "yref": "y"
         },
         {
          "font": {
           "color": "white"
          },
          "showarrow": false,
          "text": "21.1 - 177",
          "x": 2,
          "xref": "x",
          "y": 4,
          "yref": "y"
         },
         {
          "font": {
           "color": "white"
          },
          "showarrow": false,
          "text": "7.3 - 61",
          "x": 3,
          "xref": "x",
          "y": 4,
          "yref": "y"
         },
         {
          "font": {
           "color": "white"
          },
          "showarrow": false,
          "text": "59.5 - 500",
          "x": 4,
          "xref": "x",
          "y": 4,
          "yref": "y"
         }
        ],
        "height": 800,
        "template": {
         "data": {
          "bar": [
           {
            "error_x": {
             "color": "#2a3f5f"
            },
            "error_y": {
             "color": "#2a3f5f"
            },
            "marker": {
             "line": {
              "color": "#E5ECF6",
              "width": 0.5
             },
             "pattern": {
              "fillmode": "overlay",
              "size": 10,
              "solidity": 0.2
             }
            },
            "type": "bar"
           }
          ],
          "barpolar": [
           {
            "marker": {
             "line": {
              "color": "#E5ECF6",
              "width": 0.5
             },
             "pattern": {
              "fillmode": "overlay",
              "size": 10,
              "solidity": 0.2
             }
            },
            "type": "barpolar"
           }
          ],
          "carpet": [
           {
            "aaxis": {
             "endlinecolor": "#2a3f5f",
             "gridcolor": "white",
             "linecolor": "white",
             "minorgridcolor": "white",
             "startlinecolor": "#2a3f5f"
            },
            "baxis": {
             "endlinecolor": "#2a3f5f",
             "gridcolor": "white",
             "linecolor": "white",
             "minorgridcolor": "white",
             "startlinecolor": "#2a3f5f"
            },
            "type": "carpet"
           }
          ],
          "choropleth": [
           {
            "colorbar": {
             "outlinewidth": 0,
             "ticks": ""
            },
            "type": "choropleth"
           }
          ],
          "contour": [
           {
            "colorbar": {
             "outlinewidth": 0,
             "ticks": ""
            },
            "colorscale": [
             [
              0,
              "#0d0887"
             ],
             [
              0.1111111111111111,
              "#46039f"
             ],
             [
              0.2222222222222222,
              "#7201a8"
             ],
             [
              0.3333333333333333,
              "#9c179e"
             ],
             [
              0.4444444444444444,
              "#bd3786"
             ],
             [
              0.5555555555555556,
              "#d8576b"
             ],
             [
              0.6666666666666666,
              "#ed7953"
             ],
             [
              0.7777777777777778,
              "#fb9f3a"
             ],
             [
              0.8888888888888888,
              "#fdca26"
             ],
             [
              1,
              "#f0f921"
             ]
            ],
            "type": "contour"
           }
          ],
          "contourcarpet": [
           {
            "colorbar": {
             "outlinewidth": 0,
             "ticks": ""
            },
            "type": "contourcarpet"
           }
          ],
          "heatmap": [
           {
            "colorbar": {
             "outlinewidth": 0,
             "ticks": ""
            },
            "colorscale": [
             [
              0,
              "#0d0887"
             ],
             [
              0.1111111111111111,
              "#46039f"
             ],
             [
              0.2222222222222222,
              "#7201a8"
             ],
             [
              0.3333333333333333,
              "#9c179e"
             ],
             [
              0.4444444444444444,
              "#bd3786"
             ],
             [
              0.5555555555555556,
              "#d8576b"
             ],
             [
              0.6666666666666666,
              "#ed7953"
             ],
             [
              0.7777777777777778,
              "#fb9f3a"
             ],
             [
              0.8888888888888888,
              "#fdca26"
             ],
             [
              1,
              "#f0f921"
             ]
            ],
            "type": "heatmap"
           }
          ],
          "heatmapgl": [
           {
            "colorbar": {
             "outlinewidth": 0,
             "ticks": ""
            },
            "colorscale": [
             [
              0,
              "#0d0887"
             ],
             [
              0.1111111111111111,
              "#46039f"
             ],
             [
              0.2222222222222222,
              "#7201a8"
             ],
             [
              0.3333333333333333,
              "#9c179e"
             ],
             [
              0.4444444444444444,
              "#bd3786"
             ],
             [
              0.5555555555555556,
              "#d8576b"
             ],
             [
              0.6666666666666666,
              "#ed7953"
             ],
             [
              0.7777777777777778,
              "#fb9f3a"
             ],
             [
              0.8888888888888888,
              "#fdca26"
             ],
             [
              1,
              "#f0f921"
             ]
            ],
            "type": "heatmapgl"
           }
          ],
          "histogram": [
           {
            "marker": {
             "pattern": {
              "fillmode": "overlay",
              "size": 10,
              "solidity": 0.2
             }
            },
            "type": "histogram"
           }
          ],
          "histogram2d": [
           {
            "colorbar": {
             "outlinewidth": 0,
             "ticks": ""
            },
            "colorscale": [
             [
              0,
              "#0d0887"
             ],
             [
              0.1111111111111111,
              "#46039f"
             ],
             [
              0.2222222222222222,
              "#7201a8"
             ],
             [
              0.3333333333333333,
              "#9c179e"
             ],
             [
              0.4444444444444444,
              "#bd3786"
             ],
             [
              0.5555555555555556,
              "#d8576b"
             ],
             [
              0.6666666666666666,
              "#ed7953"
             ],
             [
              0.7777777777777778,
              "#fb9f3a"
             ],
             [
              0.8888888888888888,
              "#fdca26"
             ],
             [
              1,
              "#f0f921"
             ]
            ],
            "type": "histogram2d"
           }
          ],
          "histogram2dcontour": [
           {
            "colorbar": {
             "outlinewidth": 0,
             "ticks": ""
            },
            "colorscale": [
             [
              0,
              "#0d0887"
             ],
             [
              0.1111111111111111,
              "#46039f"
             ],
             [
              0.2222222222222222,
              "#7201a8"
             ],
             [
              0.3333333333333333,
              "#9c179e"
             ],
             [
              0.4444444444444444,
              "#bd3786"
             ],
             [
              0.5555555555555556,
              "#d8576b"
             ],
             [
              0.6666666666666666,
              "#ed7953"
             ],
             [
              0.7777777777777778,
              "#fb9f3a"
             ],
             [
              0.8888888888888888,
              "#fdca26"
             ],
             [
              1,
              "#f0f921"
             ]
            ],
            "type": "histogram2dcontour"
           }
          ],
          "mesh3d": [
           {
            "colorbar": {
             "outlinewidth": 0,
             "ticks": ""
            },
            "type": "mesh3d"
           }
          ],
          "parcoords": [
           {
            "line": {
             "colorbar": {
              "outlinewidth": 0,
              "ticks": ""
             }
            },
            "type": "parcoords"
           }
          ],
          "pie": [
           {
            "automargin": true,
            "type": "pie"
           }
          ],
          "scatter": [
           {
            "fillpattern": {
             "fillmode": "overlay",
             "size": 10,
             "solidity": 0.2
            },
            "type": "scatter"
           }
          ],
          "scatter3d": [
           {
            "line": {
             "colorbar": {
              "outlinewidth": 0,
              "ticks": ""
             }
            },
            "marker": {
             "colorbar": {
              "outlinewidth": 0,
              "ticks": ""
             }
            },
            "type": "scatter3d"
           }
          ],
          "scattercarpet": [
           {
            "marker": {
             "colorbar": {
              "outlinewidth": 0,
              "ticks": ""
             }
            },
            "type": "scattercarpet"
           }
          ],
          "scattergeo": [
           {
            "marker": {
             "colorbar": {
              "outlinewidth": 0,
              "ticks": ""
             }
            },
            "type": "scattergeo"
           }
          ],
          "scattergl": [
           {
            "marker": {
             "colorbar": {
              "outlinewidth": 0,
              "ticks": ""
             }
            },
            "type": "scattergl"
           }
          ],
          "scattermapbox": [
           {
            "marker": {
             "colorbar": {
              "outlinewidth": 0,
              "ticks": ""
             }
            },
            "type": "scattermapbox"
           }
          ],
          "scatterpolar": [
           {
            "marker": {
             "colorbar": {
              "outlinewidth": 0,
              "ticks": ""
             }
            },
            "type": "scatterpolar"
           }
          ],
          "scatterpolargl": [
           {
            "marker": {
             "colorbar": {
              "outlinewidth": 0,
              "ticks": ""
             }
            },
            "type": "scatterpolargl"
           }
          ],
          "scatterternary": [
           {
            "marker": {
             "colorbar": {
              "outlinewidth": 0,
              "ticks": ""
             }
            },
            "type": "scatterternary"
           }
          ],
          "surface": [
           {
            "colorbar": {
             "outlinewidth": 0,
             "ticks": ""
            },
            "colorscale": [
             [
              0,
              "#0d0887"
             ],
             [
              0.1111111111111111,
              "#46039f"
             ],
             [
              0.2222222222222222,
              "#7201a8"
             ],
             [
              0.3333333333333333,
              "#9c179e"
             ],
             [
              0.4444444444444444,
              "#bd3786"
             ],
             [
              0.5555555555555556,
              "#d8576b"
             ],
             [
              0.6666666666666666,
              "#ed7953"
             ],
             [
              0.7777777777777778,
              "#fb9f3a"
             ],
             [
              0.8888888888888888,
              "#fdca26"
             ],
             [
              1,
              "#f0f921"
             ]
            ],
            "type": "surface"
           }
          ],
          "table": [
           {
            "cells": {
             "fill": {
              "color": "#EBF0F8"
             },
             "line": {
              "color": "white"
             }
            },
            "header": {
             "fill": {
              "color": "#C8D4E3"
             },
             "line": {
              "color": "white"
             }
            },
            "type": "table"
           }
          ]
         },
         "layout": {
          "annotationdefaults": {
           "arrowcolor": "#2a3f5f",
           "arrowhead": 0,
           "arrowwidth": 1
          },
          "autotypenumbers": "strict",
          "coloraxis": {
           "colorbar": {
            "outlinewidth": 0,
            "ticks": ""
           }
          },
          "colorscale": {
           "diverging": [
            [
             0,
             "#8e0152"
            ],
            [
             0.1,
             "#c51b7d"
            ],
            [
             0.2,
             "#de77ae"
            ],
            [
             0.3,
             "#f1b6da"
            ],
            [
             0.4,
             "#fde0ef"
            ],
            [
             0.5,
             "#f7f7f7"
            ],
            [
             0.6,
             "#e6f5d0"
            ],
            [
             0.7,
             "#b8e186"
            ],
            [
             0.8,
             "#7fbc41"
            ],
            [
             0.9,
             "#4d9221"
            ],
            [
             1,
             "#276419"
            ]
           ],
           "sequential": [
            [
             0,
             "#0d0887"
            ],
            [
             0.1111111111111111,
             "#46039f"
            ],
            [
             0.2222222222222222,
             "#7201a8"
            ],
            [
             0.3333333333333333,
             "#9c179e"
            ],
            [
             0.4444444444444444,
             "#bd3786"
            ],
            [
             0.5555555555555556,
             "#d8576b"
            ],
            [
             0.6666666666666666,
             "#ed7953"
            ],
            [
             0.7777777777777778,
             "#fb9f3a"
            ],
            [
             0.8888888888888888,
             "#fdca26"
            ],
            [
             1,
             "#f0f921"
            ]
           ],
           "sequentialminus": [
            [
             0,
             "#0d0887"
            ],
            [
             0.1111111111111111,
             "#46039f"
            ],
            [
             0.2222222222222222,
             "#7201a8"
            ],
            [
             0.3333333333333333,
             "#9c179e"
            ],
            [
             0.4444444444444444,
             "#bd3786"
            ],
            [
             0.5555555555555556,
             "#d8576b"
            ],
            [
             0.6666666666666666,
             "#ed7953"
            ],
            [
             0.7777777777777778,
             "#fb9f3a"
            ],
            [
             0.8888888888888888,
             "#fdca26"
            ],
            [
             1,
             "#f0f921"
            ]
           ]
          },
          "colorway": [
           "#636efa",
           "#EF553B",
           "#00cc96",
           "#ab63fa",
           "#FFA15A",
           "#19d3f3",
           "#FF6692",
           "#B6E880",
           "#FF97FF",
           "#FECB52"
          ],
          "font": {
           "color": "#2a3f5f"
          },
          "geo": {
           "bgcolor": "white",
           "lakecolor": "white",
           "landcolor": "#E5ECF6",
           "showlakes": true,
           "showland": true,
           "subunitcolor": "white"
          },
          "hoverlabel": {
           "align": "left"
          },
          "hovermode": "closest",
          "mapbox": {
           "style": "light"
          },
          "paper_bgcolor": "white",
          "plot_bgcolor": "#E5ECF6",
          "polar": {
           "angularaxis": {
            "gridcolor": "white",
            "linecolor": "white",
            "ticks": ""
           },
           "bgcolor": "#E5ECF6",
           "radialaxis": {
            "gridcolor": "white",
            "linecolor": "white",
            "ticks": ""
           }
          },
          "scene": {
           "xaxis": {
            "backgroundcolor": "#E5ECF6",
            "gridcolor": "white",
            "gridwidth": 2,
            "linecolor": "white",
            "showbackground": true,
            "ticks": "",
            "zerolinecolor": "white"
           },
           "yaxis": {
            "backgroundcolor": "#E5ECF6",
            "gridcolor": "white",
            "gridwidth": 2,
            "linecolor": "white",
            "showbackground": true,
            "ticks": "",
            "zerolinecolor": "white"
           },
           "zaxis": {
            "backgroundcolor": "#E5ECF6",
            "gridcolor": "white",
            "gridwidth": 2,
            "linecolor": "white",
            "showbackground": true,
            "ticks": "",
            "zerolinecolor": "white"
           }
          },
          "shapedefaults": {
           "line": {
            "color": "#2a3f5f"
           }
          },
          "ternary": {
           "aaxis": {
            "gridcolor": "white",
            "linecolor": "white",
            "ticks": ""
           },
           "baxis": {
            "gridcolor": "white",
            "linecolor": "white",
            "ticks": ""
           },
           "bgcolor": "#E5ECF6",
           "caxis": {
            "gridcolor": "white",
            "linecolor": "white",
            "ticks": ""
           }
          },
          "title": {
           "x": 0.05
          },
          "xaxis": {
           "automargin": true,
           "gridcolor": "white",
           "linecolor": "white",
           "ticks": "",
           "title": {
            "standoff": 15
           },
           "zerolinecolor": "white",
           "zerolinewidth": 2
          },
          "yaxis": {
           "automargin": true,
           "gridcolor": "white",
           "linecolor": "white",
           "ticks": "",
           "title": {
            "standoff": 15
           },
           "zerolinecolor": "white",
           "zerolinewidth": 2
          }
         }
        },
        "title": {
         "text": "Conf Matrix"
        },
        "width": 800,
        "xaxis": {
         "title": {
          "text": "Predicted value"
         }
        },
        "yaxis": {
         "title": {
          "text": "Real value"
         }
        }
       }
      }
     },
     "metadata": {},
     "output_type": "display_data"
    }
   ],
   "source": [
    "#Muestro la matriz de confusión\n",
    "display(plot_confusion_matrix(y_test,y_pred))"
   ]
  },
  {
   "cell_type": "code",
   "execution_count": 13,
   "metadata": {},
   "outputs": [
    {
     "data": {
      "text/plain": [
       "np.float64(1.0)"
      ]
     },
     "execution_count": 13,
     "metadata": {},
     "output_type": "execute_result"
    }
   ],
   "source": [
    "#Vamos a poner en perspectiva el score de Kappa\n",
    "\n",
    "\n",
    "#Cual es el score perfecto? Evaluo la clase real contra si misma. Es decir, el caso en que el modelo establece todas las clases en su valor real\n",
    "cohen_kappa_score(y_test,y_test, weights = 'quadratic')"
   ]
  },
  {
   "cell_type": "code",
   "execution_count": 14,
   "metadata": {},
   "outputs": [
    {
     "data": {
      "application/vnd.plotly.v1+json": {
       "config": {
        "plotlyServerURL": "https://plot.ly"
       },
       "data": [
        {
         "type": "heatmap",
         "x": [
          0,
          1,
          2,
          3,
          4
         ],
         "y": [
          0,
          1,
          2,
          3,
          4
         ],
         "z": [
          [
           100,
           0,
           0,
           0,
           0
          ],
          [
           0,
           100,
           0,
           0,
           0
          ],
          [
           0,
           0,
           100,
           0,
           0
          ],
          [
           0,
           0,
           0,
           100,
           0
          ],
          [
           0,
           0,
           0,
           0,
           100
          ]
         ]
        }
       ],
       "layout": {
        "annotations": [
         {
          "font": {
           "color": "white"
          },
          "showarrow": false,
          "text": "100.0 - 82",
          "x": 0,
          "xref": "x",
          "y": 0,
          "yref": "y"
         },
         {
          "font": {
           "color": "white"
          },
          "showarrow": false,
          "text": "0.0 - 0",
          "x": 1,
          "xref": "x",
          "y": 0,
          "yref": "y"
         },
         {
          "font": {
           "color": "white"
          },
          "showarrow": false,
          "text": "0.0 - 0",
          "x": 2,
          "xref": "x",
          "y": 0,
          "yref": "y"
         },
         {
          "font": {
           "color": "white"
          },
          "showarrow": false,
          "text": "0.0 - 0",
          "x": 3,
          "xref": "x",
          "y": 0,
          "yref": "y"
         },
         {
          "font": {
           "color": "white"
          },
          "showarrow": false,
          "text": "0.0 - 0",
          "x": 4,
          "xref": "x",
          "y": 0,
          "yref": "y"
         },
         {
          "font": {
           "color": "white"
          },
          "showarrow": false,
          "text": "0.0 - 0",
          "x": 0,
          "xref": "x",
          "y": 1,
          "yref": "y"
         },
         {
          "font": {
           "color": "white"
          },
          "showarrow": false,
          "text": "100.0 - 618",
          "x": 1,
          "xref": "x",
          "y": 1,
          "yref": "y"
         },
         {
          "font": {
           "color": "white"
          },
          "showarrow": false,
          "text": "0.0 - 0",
          "x": 2,
          "xref": "x",
          "y": 1,
          "yref": "y"
         },
         {
          "font": {
           "color": "white"
          },
          "showarrow": false,
          "text": "0.0 - 0",
          "x": 3,
          "xref": "x",
          "y": 1,
          "yref": "y"
         },
         {
          "font": {
           "color": "white"
          },
          "showarrow": false,
          "text": "0.0 - 0",
          "x": 4,
          "xref": "x",
          "y": 1,
          "yref": "y"
         },
         {
          "font": {
           "color": "white"
          },
          "showarrow": false,
          "text": "0.0 - 0",
          "x": 0,
          "xref": "x",
          "y": 2,
          "yref": "y"
         },
         {
          "font": {
           "color": "white"
          },
          "showarrow": false,
          "text": "0.0 - 0",
          "x": 1,
          "xref": "x",
          "y": 2,
          "yref": "y"
         },
         {
          "font": {
           "color": "white"
          },
          "showarrow": false,
          "text": "100.0 - 807",
          "x": 2,
          "xref": "x",
          "y": 2,
          "yref": "y"
         },
         {
          "font": {
           "color": "white"
          },
          "showarrow": false,
          "text": "0.0 - 0",
          "x": 3,
          "xref": "x",
          "y": 2,
          "yref": "y"
         },
         {
          "font": {
           "color": "white"
          },
          "showarrow": false,
          "text": "0.0 - 0",
          "x": 4,
          "xref": "x",
          "y": 2,
          "yref": "y"
         },
         {
          "font": {
           "color": "white"
          },
          "showarrow": false,
          "text": "0.0 - 0",
          "x": 0,
          "xref": "x",
          "y": 3,
          "yref": "y"
         },
         {
          "font": {
           "color": "white"
          },
          "showarrow": false,
          "text": "0.0 - 0",
          "x": 1,
          "xref": "x",
          "y": 3,
          "yref": "y"
         },
         {
          "font": {
           "color": "white"
          },
          "showarrow": false,
          "text": "0.0 - 0",
          "x": 2,
          "xref": "x",
          "y": 3,
          "yref": "y"
         },
         {
          "font": {
           "color": "white"
          },
          "showarrow": false,
          "text": "100.0 - 652",
          "x": 3,
          "xref": "x",
          "y": 3,
          "yref": "y"
         },
         {
          "font": {
           "color": "white"
          },
          "showarrow": false,
          "text": "0.0 - 0",
          "x": 4,
          "xref": "x",
          "y": 3,
          "yref": "y"
         },
         {
          "font": {
           "color": "white"
          },
          "showarrow": false,
          "text": "0.0 - 0",
          "x": 0,
          "xref": "x",
          "y": 4,
          "yref": "y"
         },
         {
          "font": {
           "color": "white"
          },
          "showarrow": false,
          "text": "0.0 - 0",
          "x": 1,
          "xref": "x",
          "y": 4,
          "yref": "y"
         },
         {
          "font": {
           "color": "white"
          },
          "showarrow": false,
          "text": "0.0 - 0",
          "x": 2,
          "xref": "x",
          "y": 4,
          "yref": "y"
         },
         {
          "font": {
           "color": "white"
          },
          "showarrow": false,
          "text": "0.0 - 0",
          "x": 3,
          "xref": "x",
          "y": 4,
          "yref": "y"
         },
         {
          "font": {
           "color": "white"
          },
          "showarrow": false,
          "text": "100.0 - 840",
          "x": 4,
          "xref": "x",
          "y": 4,
          "yref": "y"
         }
        ],
        "height": 800,
        "template": {
         "data": {
          "bar": [
           {
            "error_x": {
             "color": "#2a3f5f"
            },
            "error_y": {
             "color": "#2a3f5f"
            },
            "marker": {
             "line": {
              "color": "#E5ECF6",
              "width": 0.5
             },
             "pattern": {
              "fillmode": "overlay",
              "size": 10,
              "solidity": 0.2
             }
            },
            "type": "bar"
           }
          ],
          "barpolar": [
           {
            "marker": {
             "line": {
              "color": "#E5ECF6",
              "width": 0.5
             },
             "pattern": {
              "fillmode": "overlay",
              "size": 10,
              "solidity": 0.2
             }
            },
            "type": "barpolar"
           }
          ],
          "carpet": [
           {
            "aaxis": {
             "endlinecolor": "#2a3f5f",
             "gridcolor": "white",
             "linecolor": "white",
             "minorgridcolor": "white",
             "startlinecolor": "#2a3f5f"
            },
            "baxis": {
             "endlinecolor": "#2a3f5f",
             "gridcolor": "white",
             "linecolor": "white",
             "minorgridcolor": "white",
             "startlinecolor": "#2a3f5f"
            },
            "type": "carpet"
           }
          ],
          "choropleth": [
           {
            "colorbar": {
             "outlinewidth": 0,
             "ticks": ""
            },
            "type": "choropleth"
           }
          ],
          "contour": [
           {
            "colorbar": {
             "outlinewidth": 0,
             "ticks": ""
            },
            "colorscale": [
             [
              0,
              "#0d0887"
             ],
             [
              0.1111111111111111,
              "#46039f"
             ],
             [
              0.2222222222222222,
              "#7201a8"
             ],
             [
              0.3333333333333333,
              "#9c179e"
             ],
             [
              0.4444444444444444,
              "#bd3786"
             ],
             [
              0.5555555555555556,
              "#d8576b"
             ],
             [
              0.6666666666666666,
              "#ed7953"
             ],
             [
              0.7777777777777778,
              "#fb9f3a"
             ],
             [
              0.8888888888888888,
              "#fdca26"
             ],
             [
              1,
              "#f0f921"
             ]
            ],
            "type": "contour"
           }
          ],
          "contourcarpet": [
           {
            "colorbar": {
             "outlinewidth": 0,
             "ticks": ""
            },
            "type": "contourcarpet"
           }
          ],
          "heatmap": [
           {
            "colorbar": {
             "outlinewidth": 0,
             "ticks": ""
            },
            "colorscale": [
             [
              0,
              "#0d0887"
             ],
             [
              0.1111111111111111,
              "#46039f"
             ],
             [
              0.2222222222222222,
              "#7201a8"
             ],
             [
              0.3333333333333333,
              "#9c179e"
             ],
             [
              0.4444444444444444,
              "#bd3786"
             ],
             [
              0.5555555555555556,
              "#d8576b"
             ],
             [
              0.6666666666666666,
              "#ed7953"
             ],
             [
              0.7777777777777778,
              "#fb9f3a"
             ],
             [
              0.8888888888888888,
              "#fdca26"
             ],
             [
              1,
              "#f0f921"
             ]
            ],
            "type": "heatmap"
           }
          ],
          "heatmapgl": [
           {
            "colorbar": {
             "outlinewidth": 0,
             "ticks": ""
            },
            "colorscale": [
             [
              0,
              "#0d0887"
             ],
             [
              0.1111111111111111,
              "#46039f"
             ],
             [
              0.2222222222222222,
              "#7201a8"
             ],
             [
              0.3333333333333333,
              "#9c179e"
             ],
             [
              0.4444444444444444,
              "#bd3786"
             ],
             [
              0.5555555555555556,
              "#d8576b"
             ],
             [
              0.6666666666666666,
              "#ed7953"
             ],
             [
              0.7777777777777778,
              "#fb9f3a"
             ],
             [
              0.8888888888888888,
              "#fdca26"
             ],
             [
              1,
              "#f0f921"
             ]
            ],
            "type": "heatmapgl"
           }
          ],
          "histogram": [
           {
            "marker": {
             "pattern": {
              "fillmode": "overlay",
              "size": 10,
              "solidity": 0.2
             }
            },
            "type": "histogram"
           }
          ],
          "histogram2d": [
           {
            "colorbar": {
             "outlinewidth": 0,
             "ticks": ""
            },
            "colorscale": [
             [
              0,
              "#0d0887"
             ],
             [
              0.1111111111111111,
              "#46039f"
             ],
             [
              0.2222222222222222,
              "#7201a8"
             ],
             [
              0.3333333333333333,
              "#9c179e"
             ],
             [
              0.4444444444444444,
              "#bd3786"
             ],
             [
              0.5555555555555556,
              "#d8576b"
             ],
             [
              0.6666666666666666,
              "#ed7953"
             ],
             [
              0.7777777777777778,
              "#fb9f3a"
             ],
             [
              0.8888888888888888,
              "#fdca26"
             ],
             [
              1,
              "#f0f921"
             ]
            ],
            "type": "histogram2d"
           }
          ],
          "histogram2dcontour": [
           {
            "colorbar": {
             "outlinewidth": 0,
             "ticks": ""
            },
            "colorscale": [
             [
              0,
              "#0d0887"
             ],
             [
              0.1111111111111111,
              "#46039f"
             ],
             [
              0.2222222222222222,
              "#7201a8"
             ],
             [
              0.3333333333333333,
              "#9c179e"
             ],
             [
              0.4444444444444444,
              "#bd3786"
             ],
             [
              0.5555555555555556,
              "#d8576b"
             ],
             [
              0.6666666666666666,
              "#ed7953"
             ],
             [
              0.7777777777777778,
              "#fb9f3a"
             ],
             [
              0.8888888888888888,
              "#fdca26"
             ],
             [
              1,
              "#f0f921"
             ]
            ],
            "type": "histogram2dcontour"
           }
          ],
          "mesh3d": [
           {
            "colorbar": {
             "outlinewidth": 0,
             "ticks": ""
            },
            "type": "mesh3d"
           }
          ],
          "parcoords": [
           {
            "line": {
             "colorbar": {
              "outlinewidth": 0,
              "ticks": ""
             }
            },
            "type": "parcoords"
           }
          ],
          "pie": [
           {
            "automargin": true,
            "type": "pie"
           }
          ],
          "scatter": [
           {
            "fillpattern": {
             "fillmode": "overlay",
             "size": 10,
             "solidity": 0.2
            },
            "type": "scatter"
           }
          ],
          "scatter3d": [
           {
            "line": {
             "colorbar": {
              "outlinewidth": 0,
              "ticks": ""
             }
            },
            "marker": {
             "colorbar": {
              "outlinewidth": 0,
              "ticks": ""
             }
            },
            "type": "scatter3d"
           }
          ],
          "scattercarpet": [
           {
            "marker": {
             "colorbar": {
              "outlinewidth": 0,
              "ticks": ""
             }
            },
            "type": "scattercarpet"
           }
          ],
          "scattergeo": [
           {
            "marker": {
             "colorbar": {
              "outlinewidth": 0,
              "ticks": ""
             }
            },
            "type": "scattergeo"
           }
          ],
          "scattergl": [
           {
            "marker": {
             "colorbar": {
              "outlinewidth": 0,
              "ticks": ""
             }
            },
            "type": "scattergl"
           }
          ],
          "scattermapbox": [
           {
            "marker": {
             "colorbar": {
              "outlinewidth": 0,
              "ticks": ""
             }
            },
            "type": "scattermapbox"
           }
          ],
          "scatterpolar": [
           {
            "marker": {
             "colorbar": {
              "outlinewidth": 0,
              "ticks": ""
             }
            },
            "type": "scatterpolar"
           }
          ],
          "scatterpolargl": [
           {
            "marker": {
             "colorbar": {
              "outlinewidth": 0,
              "ticks": ""
             }
            },
            "type": "scatterpolargl"
           }
          ],
          "scatterternary": [
           {
            "marker": {
             "colorbar": {
              "outlinewidth": 0,
              "ticks": ""
             }
            },
            "type": "scatterternary"
           }
          ],
          "surface": [
           {
            "colorbar": {
             "outlinewidth": 0,
             "ticks": ""
            },
            "colorscale": [
             [
              0,
              "#0d0887"
             ],
             [
              0.1111111111111111,
              "#46039f"
             ],
             [
              0.2222222222222222,
              "#7201a8"
             ],
             [
              0.3333333333333333,
              "#9c179e"
             ],
             [
              0.4444444444444444,
              "#bd3786"
             ],
             [
              0.5555555555555556,
              "#d8576b"
             ],
             [
              0.6666666666666666,
              "#ed7953"
             ],
             [
              0.7777777777777778,
              "#fb9f3a"
             ],
             [
              0.8888888888888888,
              "#fdca26"
             ],
             [
              1,
              "#f0f921"
             ]
            ],
            "type": "surface"
           }
          ],
          "table": [
           {
            "cells": {
             "fill": {
              "color": "#EBF0F8"
             },
             "line": {
              "color": "white"
             }
            },
            "header": {
             "fill": {
              "color": "#C8D4E3"
             },
             "line": {
              "color": "white"
             }
            },
            "type": "table"
           }
          ]
         },
         "layout": {
          "annotationdefaults": {
           "arrowcolor": "#2a3f5f",
           "arrowhead": 0,
           "arrowwidth": 1
          },
          "autotypenumbers": "strict",
          "coloraxis": {
           "colorbar": {
            "outlinewidth": 0,
            "ticks": ""
           }
          },
          "colorscale": {
           "diverging": [
            [
             0,
             "#8e0152"
            ],
            [
             0.1,
             "#c51b7d"
            ],
            [
             0.2,
             "#de77ae"
            ],
            [
             0.3,
             "#f1b6da"
            ],
            [
             0.4,
             "#fde0ef"
            ],
            [
             0.5,
             "#f7f7f7"
            ],
            [
             0.6,
             "#e6f5d0"
            ],
            [
             0.7,
             "#b8e186"
            ],
            [
             0.8,
             "#7fbc41"
            ],
            [
             0.9,
             "#4d9221"
            ],
            [
             1,
             "#276419"
            ]
           ],
           "sequential": [
            [
             0,
             "#0d0887"
            ],
            [
             0.1111111111111111,
             "#46039f"
            ],
            [
             0.2222222222222222,
             "#7201a8"
            ],
            [
             0.3333333333333333,
             "#9c179e"
            ],
            [
             0.4444444444444444,
             "#bd3786"
            ],
            [
             0.5555555555555556,
             "#d8576b"
            ],
            [
             0.6666666666666666,
             "#ed7953"
            ],
            [
             0.7777777777777778,
             "#fb9f3a"
            ],
            [
             0.8888888888888888,
             "#fdca26"
            ],
            [
             1,
             "#f0f921"
            ]
           ],
           "sequentialminus": [
            [
             0,
             "#0d0887"
            ],
            [
             0.1111111111111111,
             "#46039f"
            ],
            [
             0.2222222222222222,
             "#7201a8"
            ],
            [
             0.3333333333333333,
             "#9c179e"
            ],
            [
             0.4444444444444444,
             "#bd3786"
            ],
            [
             0.5555555555555556,
             "#d8576b"
            ],
            [
             0.6666666666666666,
             "#ed7953"
            ],
            [
             0.7777777777777778,
             "#fb9f3a"
            ],
            [
             0.8888888888888888,
             "#fdca26"
            ],
            [
             1,
             "#f0f921"
            ]
           ]
          },
          "colorway": [
           "#636efa",
           "#EF553B",
           "#00cc96",
           "#ab63fa",
           "#FFA15A",
           "#19d3f3",
           "#FF6692",
           "#B6E880",
           "#FF97FF",
           "#FECB52"
          ],
          "font": {
           "color": "#2a3f5f"
          },
          "geo": {
           "bgcolor": "white",
           "lakecolor": "white",
           "landcolor": "#E5ECF6",
           "showlakes": true,
           "showland": true,
           "subunitcolor": "white"
          },
          "hoverlabel": {
           "align": "left"
          },
          "hovermode": "closest",
          "mapbox": {
           "style": "light"
          },
          "paper_bgcolor": "white",
          "plot_bgcolor": "#E5ECF6",
          "polar": {
           "angularaxis": {
            "gridcolor": "white",
            "linecolor": "white",
            "ticks": ""
           },
           "bgcolor": "#E5ECF6",
           "radialaxis": {
            "gridcolor": "white",
            "linecolor": "white",
            "ticks": ""
           }
          },
          "scene": {
           "xaxis": {
            "backgroundcolor": "#E5ECF6",
            "gridcolor": "white",
            "gridwidth": 2,
            "linecolor": "white",
            "showbackground": true,
            "ticks": "",
            "zerolinecolor": "white"
           },
           "yaxis": {
            "backgroundcolor": "#E5ECF6",
            "gridcolor": "white",
            "gridwidth": 2,
            "linecolor": "white",
            "showbackground": true,
            "ticks": "",
            "zerolinecolor": "white"
           },
           "zaxis": {
            "backgroundcolor": "#E5ECF6",
            "gridcolor": "white",
            "gridwidth": 2,
            "linecolor": "white",
            "showbackground": true,
            "ticks": "",
            "zerolinecolor": "white"
           }
          },
          "shapedefaults": {
           "line": {
            "color": "#2a3f5f"
           }
          },
          "ternary": {
           "aaxis": {
            "gridcolor": "white",
            "linecolor": "white",
            "ticks": ""
           },
           "baxis": {
            "gridcolor": "white",
            "linecolor": "white",
            "ticks": ""
           },
           "bgcolor": "#E5ECF6",
           "caxis": {
            "gridcolor": "white",
            "linecolor": "white",
            "ticks": ""
           }
          },
          "title": {
           "x": 0.05
          },
          "xaxis": {
           "automargin": true,
           "gridcolor": "white",
           "linecolor": "white",
           "ticks": "",
           "title": {
            "standoff": 15
           },
           "zerolinecolor": "white",
           "zerolinewidth": 2
          },
          "yaxis": {
           "automargin": true,
           "gridcolor": "white",
           "linecolor": "white",
           "ticks": "",
           "title": {
            "standoff": 15
           },
           "zerolinecolor": "white",
           "zerolinewidth": 2
          }
         }
        },
        "title": {
         "text": "Conf Matrix"
        },
        "width": 800,
        "xaxis": {
         "title": {
          "text": "Predicted value"
         }
        },
        "yaxis": {
         "title": {
          "text": "Real value"
         }
        }
       }
      }
     },
     "metadata": {},
     "output_type": "display_data"
    }
   ],
   "source": [
    "#Como se veria la matriz de confusión\n",
    "display(plot_confusion_matrix(y_test,y_test))"
   ]
  },
  {
   "cell_type": "code",
   "execution_count": 15,
   "metadata": {},
   "outputs": [],
   "source": [
    "#Vamos a ver como se comporta kappa si hago una predicción al azar (respetando las proporciones de cada clase)\n",
    "y_shuffled = shuffle(y_test,\n",
    "                     random_state = 42)\n",
    "\n",
    "\n",
    "#Genero diccionarios para cambiar algunas predicicones reales por una prediccion cercana y_cerca y una lejana y_lejos a la real \n",
    "# ejemplo: la real se 0 voy a estimar 1 para la cercana y 4 para la lejana\n",
    "dict_map_cerca = {0:1,\n",
    "                  1:2,\n",
    "                  2:3,\n",
    "                  3:4,\n",
    "                  4:3}\n",
    "\n",
    "dict_map_lejos = {0:4,\n",
    "                  1:4,\n",
    "                  2:0,\n",
    "                  3:0,\n",
    "                  4:0}\n",
    "\n",
    "y_cerca = [dict_map_cerca[i] for i in y_test]\n",
    "\n",
    "y_lejos = [dict_map_lejos[i] for i in y_test]\n"
   ]
  },
  {
   "cell_type": "code",
   "execution_count": 16,
   "metadata": {},
   "outputs": [],
   "source": [
    "\n",
    "#Vamos a simular que la probabilidad de tener la prediccion real en casa muestra varia de 0 a 100. \n",
    "#Genero una numero aleatorio para cada muestra\n",
    "random_list =  np.random.rand(len(y_test))\n",
    "\n",
    "#inicializo un dataframe de resultados vacio\n",
    "kappa_progression = pd.DataFrame()\n",
    "\n",
    "#La variable i tiene un umbral para ir variando la cantidad de aciertos desde 0% a 100%\n",
    "for i in range(101):\n",
    "\n",
    "    #Genero la prediccion para i% de aciertos donde cuando no acierto me quedo con una prediccion al azar (podria ser la \"correcta\" pero solo por azar)\n",
    "    y_simulado = [y_test.iloc[sample] if random_list[sample]<i/100 else y_shuffled.iloc[sample] for sample in range(len(y_test))]\n",
    "\n",
    "    #Genero la prediccion para i% de aciertos donde cuando no acierto me quedo con una prediccion cercana o lejana a la correcta\n",
    "    y_simulado_cerca = [y_test.iloc[sample] if random_list[sample]<i/100 else y_cerca[sample] for sample in range(len(y_test))]\n",
    "    y_simulado_lejos = [y_test.iloc[sample] if random_list[sample]<i/100 else y_lejos[sample] for sample in range(len(y_test))]\n",
    "\n",
    "\n",
    "    #Grabo los resultados en un dataframe para cada i% de aciertos\n",
    "    kappa_progression = pd.concat([kappa_progression,\n",
    "                                   pd.DataFrame({'Conocidos':[i],\n",
    "                                                'kappa':cohen_kappa_score(y_test,\n",
    "                                                                        y_simulado,\n",
    "                                                                        weights = 'quadratic'),\n",
    "                                                'kappa_cerca':cohen_kappa_score(y_test,\n",
    "                                                                        y_simulado_cerca,\n",
    "                                                                        weights = 'quadratic'),\n",
    "                                                'kappa_lejos':cohen_kappa_score(y_test,\n",
    "                                                                        y_simulado_lejos,\n",
    "                                                                        weights = 'quadratic'),                                                                        \n",
    "                                                'accuracy':accuracy_score(y_test,\n",
    "                                                                        y_simulado),\n",
    "                                                'balanced_accuracy':balanced_accuracy_score(y_test,\n",
    "                                                                        y_simulado),\n",
    "                                                                        })],\n",
    "                ignore_index=True)"
   ]
  },
  {
   "cell_type": "code",
   "execution_count": 17,
   "metadata": {},
   "outputs": [
    {
     "data": {
      "application/vnd.plotly.v1+json": {
       "config": {
        "plotlyServerURL": "https://plot.ly"
       },
       "data": [
        {
         "hovertemplate": "variable=kappa<br>Conocidos=%{x}<br>value=%{y}<extra></extra>",
         "legendgroup": "kappa",
         "line": {
          "color": "#636efa",
          "dash": "solid"
         },
         "marker": {
          "symbol": "circle"
         },
         "mode": "lines",
         "name": "kappa",
         "orientation": "v",
         "showlegend": true,
         "type": "scatter",
         "x": [
          0,
          1,
          2,
          3,
          4,
          5,
          6,
          7,
          8,
          9,
          10,
          11,
          12,
          13,
          14,
          15,
          16,
          17,
          18,
          19,
          20,
          21,
          22,
          23,
          24,
          25,
          26,
          27,
          28,
          29,
          30,
          31,
          32,
          33,
          34,
          35,
          36,
          37,
          38,
          39,
          40,
          41,
          42,
          43,
          44,
          45,
          46,
          47,
          48,
          49,
          50,
          51,
          52,
          53,
          54,
          55,
          56,
          57,
          58,
          59,
          60,
          61,
          62,
          63,
          64,
          65,
          66,
          67,
          68,
          69,
          70,
          71,
          72,
          73,
          74,
          75,
          76,
          77,
          78,
          79,
          80,
          81,
          82,
          83,
          84,
          85,
          86,
          87,
          88,
          89,
          90,
          91,
          92,
          93,
          94,
          95,
          96,
          97,
          98,
          99,
          100
         ],
         "xaxis": "x",
         "y": [
          -0.0084438812302563,
          0.0024254053701917577,
          0.017800849582905287,
          0.02649309402579514,
          0.041588779960437416,
          0.05307526714612809,
          0.06118635248410398,
          0.0672550207025947,
          0.08041311150880559,
          0.0889919120621171,
          0.09244816079646023,
          0.10254118922592292,
          0.11321717265095144,
          0.12520925949841866,
          0.13488833299673553,
          0.1395343328918569,
          0.15384046493371173,
          0.16153859595208075,
          0.17100985049561146,
          0.18187929145094894,
          0.19233274084117158,
          0.20261264755674313,
          0.20544414828347635,
          0.21485534160619613,
          0.22699406612859596,
          0.23557299552419608,
          0.24418167753874165,
          0.2514459963554133,
          0.2618657486063747,
          0.2744533905065608,
          0.2806289365877852,
          0.2936165786554079,
          0.30516900356045906,
          0.32426239827158587,
          0.33081271681863733,
          0.33997180873289834,
          0.3491196242345419,
          0.35457722247329704,
          0.3623482154055624,
          0.3726978227520067,
          0.3830379167732749,
          0.3938153599784652,
          0.4002720153844189,
          0.4052541246996443,
          0.41722747905716806,
          0.4228757158620835,
          0.43111630436839654,
          0.44517623914799564,
          0.4580319399582409,
          0.47581622717526106,
          0.49017081158448983,
          0.49992429327004906,
          0.5104939153520343,
          0.5180733477090154,
          0.5296297209283962,
          0.5403543297211473,
          0.552594637334038,
          0.5602537969660338,
          0.5700541675250492,
          0.5786142466568185,
          0.5890182144769733,
          0.593496516915879,
          0.6031703644580733,
          0.6133273903095489,
          0.6241096719532233,
          0.6392633569942987,
          0.6493227197398488,
          0.6596898197105135,
          0.666107364481282,
          0.6794367214067498,
          0.6906397936910929,
          0.7063647024886535,
          0.7185424856616474,
          0.7315676876675128,
          0.7401496888219109,
          0.7508243110152794,
          0.7633147572597617,
          0.7742168838651065,
          0.7819499175118793,
          0.7945074168528786,
          0.799014273473603,
          0.8106586067958821,
          0.8178160131260737,
          0.8279874165646872,
          0.8424728421947182,
          0.8497498876329825,
          0.8652706117389667,
          0.8778354618616512,
          0.8839413481134939,
          0.8914032216755667,
          0.8995306990885348,
          0.9159354082409332,
          0.9283035652605536,
          0.933748313444209,
          0.9427036232417557,
          0.9525236269716061,
          0.9630115498507075,
          0.9699908373490976,
          0.9769374717780337,
          0.9867755622620912,
          1
         ],
         "yaxis": "y"
        },
        {
         "hovertemplate": "variable=kappa_cerca<br>Conocidos=%{x}<br>value=%{y}<extra></extra>",
         "legendgroup": "kappa_cerca",
         "line": {
          "color": "#EF553B",
          "dash": "solid"
         },
         "marker": {
          "symbol": "circle"
         },
         "mode": "lines",
         "name": "kappa_cerca",
         "orientation": "v",
         "showlegend": true,
         "type": "scatter",
         "x": [
          0,
          1,
          2,
          3,
          4,
          5,
          6,
          7,
          8,
          9,
          10,
          11,
          12,
          13,
          14,
          15,
          16,
          17,
          18,
          19,
          20,
          21,
          22,
          23,
          24,
          25,
          26,
          27,
          28,
          29,
          30,
          31,
          32,
          33,
          34,
          35,
          36,
          37,
          38,
          39,
          40,
          41,
          42,
          43,
          44,
          45,
          46,
          47,
          48,
          49,
          50,
          51,
          52,
          53,
          54,
          55,
          56,
          57,
          58,
          59,
          60,
          61,
          62,
          63,
          64,
          65,
          66,
          67,
          68,
          69,
          70,
          71,
          72,
          73,
          74,
          75,
          76,
          77,
          78,
          79,
          80,
          81,
          82,
          83,
          84,
          85,
          86,
          87,
          88,
          89,
          90,
          91,
          92,
          93,
          94,
          95,
          96,
          97,
          98,
          99,
          100
         ],
         "xaxis": "x",
         "y": [
          0.5261777791943391,
          0.5324624135484037,
          0.5392449087208282,
          0.5454519186676998,
          0.5519902735297164,
          0.5591688161764874,
          0.5639550494913859,
          0.5682953537854896,
          0.5750744923821776,
          0.5796648610479165,
          0.5829740223688713,
          0.5878783950735662,
          0.5926757217109475,
          0.5981690371513849,
          0.6042801042993714,
          0.6078081940591558,
          0.6141656214975042,
          0.6189794170695734,
          0.6240731597203903,
          0.630390934998418,
          0.6367108612195156,
          0.641976788004396,
          0.6451434811696426,
          0.650148527344904,
          0.6568955629168088,
          0.6614485527645906,
          0.6673239148976184,
          0.6724851307944537,
          0.6798338942935983,
          0.6849301042210513,
          0.689036884700325,
          0.6952335673169068,
          0.7016278473032358,
          0.7094582854639635,
          0.7123605972629315,
          0.7180276263042951,
          0.7235539664797674,
          0.7285299144610171,
          0.7325606371988305,
          0.7381647943743452,
          0.7427897309604576,
          0.7480902412959615,
          0.752163446889615,
          0.7549239137413549,
          0.7602376468964085,
          0.7645610254678027,
          0.768663861964422,
          0.7746419652797629,
          0.7819048357406495,
          0.7874874400812958,
          0.7927349068123494,
          0.7969033530797166,
          0.8023507890353314,
          0.8061102536316962,
          0.811113560958935,
          0.8166605442568717,
          0.82289247843258,
          0.8262438754122358,
          0.8304310241350252,
          0.8338964573554095,
          0.8380046111030963,
          0.8414486707342927,
          0.8463225343956865,
          0.8508206757846276,
          0.8548122891452796,
          0.8596138463031594,
          0.8640469454858664,
          0.8682432917324066,
          0.871831446288034,
          0.8760948118048444,
          0.8814669608376906,
          0.8867200573694136,
          0.8925370906235095,
          0.8971629615320884,
          0.9007979845219785,
          0.90506188050937,
          0.9089857986699823,
          0.9134950090112861,
          0.9170442046815124,
          0.9212004220072166,
          0.9245010397408503,
          0.9296745307266491,
          0.9337968153844622,
          0.9380477119901458,
          0.9437302431144018,
          0.9483408972396913,
          0.9524529153881879,
          0.9566921176005359,
          0.9595038847733016,
          0.9621712438235712,
          0.9647059714283104,
          0.9694468189813495,
          0.9735493860431387,
          0.9761741786283313,
          0.9792552275540772,
          0.9824633499867944,
          0.9855368600930594,
          0.9883607874515266,
          0.9912882017686168,
          0.9954081116242847,
          1
         ],
         "yaxis": "y"
        },
        {
         "hovertemplate": "variable=kappa_lejos<br>Conocidos=%{x}<br>value=%{y}<extra></extra>",
         "legendgroup": "kappa_lejos",
         "line": {
          "color": "#00cc96",
          "dash": "solid"
         },
         "marker": {
          "symbol": "circle"
         },
         "mode": "lines",
         "name": "kappa_lejos",
         "orientation": "v",
         "showlegend": true,
         "type": "scatter",
         "x": [
          0,
          1,
          2,
          3,
          4,
          5,
          6,
          7,
          8,
          9,
          10,
          11,
          12,
          13,
          14,
          15,
          16,
          17,
          18,
          19,
          20,
          21,
          22,
          23,
          24,
          25,
          26,
          27,
          28,
          29,
          30,
          31,
          32,
          33,
          34,
          35,
          36,
          37,
          38,
          39,
          40,
          41,
          42,
          43,
          44,
          45,
          46,
          47,
          48,
          49,
          50,
          51,
          52,
          53,
          54,
          55,
          56,
          57,
          58,
          59,
          60,
          61,
          62,
          63,
          64,
          65,
          66,
          67,
          68,
          69,
          70,
          71,
          72,
          73,
          74,
          75,
          76,
          77,
          78,
          79,
          80,
          81,
          82,
          83,
          84,
          85,
          86,
          87,
          88,
          89,
          90,
          91,
          92,
          93,
          94,
          95,
          96,
          97,
          98,
          99,
          100
         ],
         "xaxis": "x",
         "y": [
          -0.45165018440277804,
          -0.4479520769020602,
          -0.43841084459575264,
          -0.43176437524771694,
          -0.42305137468088994,
          -0.41681112690915034,
          -0.41391847187787123,
          -0.41062558587169384,
          -0.4018379242372454,
          -0.3963954737517854,
          -0.3936466138309562,
          -0.38907931079774505,
          -0.384412692440413,
          -0.3784563697919612,
          -0.3685684951638031,
          -0.36668673794831785,
          -0.35738265438465455,
          -0.34993710685876644,
          -0.34467571669569597,
          -0.3334918505880746,
          -0.32318603113850286,
          -0.3151109701292387,
          -0.31268322331312426,
          -0.30504415559667786,
          -0.29398247797506083,
          -0.28802546568176113,
          -0.2797282793955733,
          -0.27316671581585283,
          -0.26198369700351387,
          -0.2520136517804932,
          -0.2446580942967027,
          -0.236656419814264,
          -0.22419553401689463,
          -0.21105277674836298,
          -0.20632235999314585,
          -0.1978089404205814,
          -0.19035187391969854,
          -0.18138748997620446,
          -0.17785649909984902,
          -0.16502256908261503,
          -0.15894792989945516,
          -0.14544490981241132,
          -0.13468271128065634,
          -0.1312097593648971,
          -0.11938398202293055,
          -0.10928362752701903,
          -0.10092912592539283,
          -0.08826416912832258,
          -0.0750166219867785,
          -0.058098255213657524,
          -0.042805373458029816,
          -0.03246518122397113,
          -0.01391743077559049,
          -0.002961220525343311,
          0.007601372119155347,
          0.024939150542682254,
          0.04464464466450613,
          0.054509011051084855,
          0.06981577531260041,
          0.07858918533733972,
          0.09462520666400576,
          0.10329412279486305,
          0.12144981991780224,
          0.13885123678220912,
          0.15459964231366374,
          0.1730086423329794,
          0.1907489036423159,
          0.2048293042834035,
          0.216302004387258,
          0.2354587675087213,
          0.2611296145382923,
          0.28431272865378665,
          0.30899201908749974,
          0.33266689773989866,
          0.3490539407678136,
          0.36782108764810006,
          0.3875856258080299,
          0.4135316556554164,
          0.431172926602569,
          0.4557515640420735,
          0.4687273258392506,
          0.4991569064188438,
          0.5221610592077407,
          0.5451346053398747,
          0.57766096036669,
          0.6054799564129685,
          0.6281144114483004,
          0.6563605960106127,
          0.6732364670293887,
          0.6921655108656741,
          0.7106111745575274,
          0.7482888173034519,
          0.7822605490041149,
          0.804550084008442,
          0.8274272028093371,
          0.8502308378177057,
          0.8749893986488431,
          0.9020676524895486,
          0.9232240790701679,
          0.9557159265433095,
          1
         ],
         "yaxis": "y"
        },
        {
         "hovertemplate": "variable=accuracy<br>Conocidos=%{x}<br>value=%{y}<extra></extra>",
         "legendgroup": "accuracy",
         "line": {
          "color": "#ab63fa",
          "dash": "solid"
         },
         "marker": {
          "symbol": "circle"
         },
         "mode": "lines",
         "name": "accuracy",
         "orientation": "v",
         "showlegend": true,
         "type": "scatter",
         "x": [
          0,
          1,
          2,
          3,
          4,
          5,
          6,
          7,
          8,
          9,
          10,
          11,
          12,
          13,
          14,
          15,
          16,
          17,
          18,
          19,
          20,
          21,
          22,
          23,
          24,
          25,
          26,
          27,
          28,
          29,
          30,
          31,
          32,
          33,
          34,
          35,
          36,
          37,
          38,
          39,
          40,
          41,
          42,
          43,
          44,
          45,
          46,
          47,
          48,
          49,
          50,
          51,
          52,
          53,
          54,
          55,
          56,
          57,
          58,
          59,
          60,
          61,
          62,
          63,
          64,
          65,
          66,
          67,
          68,
          69,
          70,
          71,
          72,
          73,
          74,
          75,
          76,
          77,
          78,
          79,
          80,
          81,
          82,
          83,
          84,
          85,
          86,
          87,
          88,
          89,
          90,
          91,
          92,
          93,
          94,
          95,
          96,
          97,
          98,
          99,
          100
         ],
         "xaxis": "x",
         "y": [
          0.24141380460153383,
          0.24974991663887963,
          0.25808602867622543,
          0.26675558519506504,
          0.2750916972324108,
          0.2847615871957319,
          0.2940980326775592,
          0.30110036678892965,
          0.3081027009003001,
          0.3147715905301767,
          0.3187729243081027,
          0.32710903634544847,
          0.33344448149383127,
          0.3401133711237079,
          0.3464488162720907,
          0.35245081693897967,
          0.3604534844948316,
          0.36612204068022675,
          0.3741247082360787,
          0.3801267089029677,
          0.38779593197732576,
          0.3951317105701901,
          0.39846615538512836,
          0.40480160053351116,
          0.41413804601533843,
          0.41947315771923976,
          0.42914304768256084,
          0.436812270756919,
          0.4464821607202401,
          0.4531510503501167,
          0.4601533844614872,
          0.4708236078692898,
          0.4798266088696232,
          0.4904968322774258,
          0.49383127709236413,
          0.5008336112037346,
          0.5091697232410803,
          0.5161720573524509,
          0.5225075025008337,
          0.5298432810936979,
          0.5381793931310437,
          0.5461820606868957,
          0.5525175058352785,
          0.5571857285761921,
          0.5665221740580193,
          0.573191063687896,
          0.5791930643547849,
          0.5898632877625876,
          0.600866955651884,
          0.610536845615205,
          0.6202067355785261,
          0.6265421807269089,
          0.6362120706902301,
          0.642214071357119,
          0.6512170723574525,
          0.6608869623207736,
          0.6698899633211071,
          0.6762254084694899,
          0.6842280760253417,
          0.6905635211737245,
          0.6975658552850951,
          0.7032344114704902,
          0.7122374124708236,
          0.719239746582194,
          0.7255751917305768,
          0.7345781927309103,
          0.7415805268422807,
          0.7492497499166388,
          0.754918306102034,
          0.7622540846948983,
          0.7709236412137379,
          0.7812604201400467,
          0.7932644214738246,
          0.8026008669556519,
          0.8099366455485162,
          0.8169389796598866,
          0.8246082027342447,
          0.8329443147715905,
          0.837945981993998,
          0.8452817605868623,
          0.8509503167722574,
          0.8606202067355785,
          0.8682894298099366,
          0.8746248749583194,
          0.8849616538846282,
          0.8926308769589864,
          0.9016338779593198,
          0.910970323441147,
          0.9166388796265422,
          0.9223074358119373,
          0.9283094364788262,
          0.938646215405135,
          0.9476492164054685,
          0.952650883627876,
          0.9589863287762588,
          0.9656552184061353,
          0.9716572190730244,
          0.9769923307769256,
          0.9836612204068023,
          0.9916638879626543,
          1
         ],
         "yaxis": "y"
        },
        {
         "hovertemplate": "variable=balanced_accuracy<br>Conocidos=%{x}<br>value=%{y}<extra></extra>",
         "legendgroup": "balanced_accuracy",
         "line": {
          "color": "#FFA15A",
          "dash": "solid"
         },
         "marker": {
          "symbol": "circle"
         },
         "mode": "lines",
         "name": "balanced_accuracy",
         "orientation": "v",
         "showlegend": true,
         "type": "scatter",
         "x": [
          0,
          1,
          2,
          3,
          4,
          5,
          6,
          7,
          8,
          9,
          10,
          11,
          12,
          13,
          14,
          15,
          16,
          17,
          18,
          19,
          20,
          21,
          22,
          23,
          24,
          25,
          26,
          27,
          28,
          29,
          30,
          31,
          32,
          33,
          34,
          35,
          36,
          37,
          38,
          39,
          40,
          41,
          42,
          43,
          44,
          45,
          46,
          47,
          48,
          49,
          50,
          51,
          52,
          53,
          54,
          55,
          56,
          57,
          58,
          59,
          60,
          61,
          62,
          63,
          64,
          65,
          66,
          67,
          68,
          69,
          70,
          71,
          72,
          73,
          74,
          75,
          76,
          77,
          78,
          79,
          80,
          81,
          82,
          83,
          84,
          85,
          86,
          87,
          88,
          89,
          90,
          91,
          92,
          93,
          94,
          95,
          96,
          97,
          98,
          99,
          100
         ],
         "xaxis": "x",
         "y": [
          0.19781671101270798,
          0.20481556586524916,
          0.21395693245092673,
          0.22568955880726005,
          0.23923538004102748,
          0.25148866500745376,
          0.25927160751375916,
          0.26500826861037,
          0.27267838583918946,
          0.27828390073320775,
          0.2816159239272544,
          0.2885544141556588,
          0.293766203593569,
          0.3012008219280856,
          0.30860525191411886,
          0.31557196837647067,
          0.3285544530718584,
          0.337557200225343,
          0.3462188124248904,
          0.3553658368550706,
          0.36384567446439064,
          0.3696370395040542,
          0.3722039795238416,
          0.379808676934129,
          0.389634620951938,
          0.396070773495356,
          0.40849366954405397,
          0.41500515005142613,
          0.42299128682608755,
          0.43078799463575246,
          0.4409756947918191,
          0.4520072129965301,
          0.4638114194251277,
          0.4749078458028926,
          0.47767555281958235,
          0.48573242468413913,
          0.49444824125409087,
          0.5004835312852727,
          0.5075479406129542,
          0.5176668184685195,
          0.5245632678344749,
          0.5332980768111018,
          0.5384243368916379,
          0.5423795932547021,
          0.5499708558619393,
          0.5555354786048249,
          0.5627044096965553,
          0.5716179317626994,
          0.5805968420682261,
          0.5908545084283231,
          0.6010810188737895,
          0.6083435988545809,
          0.6185337606978314,
          0.6235606796290737,
          0.6308477901138457,
          0.6388816600111891,
          0.6485284257825631,
          0.6537345229602403,
          0.6604282776304882,
          0.6659089877208149,
          0.6715477868797571,
          0.6782569356310096,
          0.6880481477514182,
          0.6979781111240467,
          0.7030202894796853,
          0.7127342608467455,
          0.7208137011007468,
          0.7273589338665423,
          0.7320745607826098,
          0.7405871710113757,
          0.7524252987707354,
          0.7696395655312309,
          0.7796848158685294,
          0.7963071744469772,
          0.8047368516621616,
          0.8104202880273453,
          0.8210661538190747,
          0.8280583683515544,
          0.8343224825412472,
          0.8449673686939991,
          0.8494867721620813,
          0.8573330061366254,
          0.8636313870668009,
          0.8730468641558986,
          0.884023029278889,
          0.8903648987039897,
          0.9000082696377628,
          0.9097415444054884,
          0.9141656822796944,
          0.9208399300612076,
          0.9278475386746923,
          0.9384635615276589,
          0.9502268758051239,
          0.9565791156959829,
          0.9617514606152369,
          0.9692910807801317,
          0.9743348758405854,
          0.9807612921475013,
          0.9865501983365622,
          0.9934805690332797,
          1
         ],
         "yaxis": "y"
        }
       ],
       "layout": {
        "legend": {
         "title": {
          "text": "variable"
         },
         "tracegroupgap": 0
        },
        "margin": {
         "t": 60
        },
        "template": {
         "data": {
          "bar": [
           {
            "error_x": {
             "color": "#2a3f5f"
            },
            "error_y": {
             "color": "#2a3f5f"
            },
            "marker": {
             "line": {
              "color": "#E5ECF6",
              "width": 0.5
             },
             "pattern": {
              "fillmode": "overlay",
              "size": 10,
              "solidity": 0.2
             }
            },
            "type": "bar"
           }
          ],
          "barpolar": [
           {
            "marker": {
             "line": {
              "color": "#E5ECF6",
              "width": 0.5
             },
             "pattern": {
              "fillmode": "overlay",
              "size": 10,
              "solidity": 0.2
             }
            },
            "type": "barpolar"
           }
          ],
          "carpet": [
           {
            "aaxis": {
             "endlinecolor": "#2a3f5f",
             "gridcolor": "white",
             "linecolor": "white",
             "minorgridcolor": "white",
             "startlinecolor": "#2a3f5f"
            },
            "baxis": {
             "endlinecolor": "#2a3f5f",
             "gridcolor": "white",
             "linecolor": "white",
             "minorgridcolor": "white",
             "startlinecolor": "#2a3f5f"
            },
            "type": "carpet"
           }
          ],
          "choropleth": [
           {
            "colorbar": {
             "outlinewidth": 0,
             "ticks": ""
            },
            "type": "choropleth"
           }
          ],
          "contour": [
           {
            "colorbar": {
             "outlinewidth": 0,
             "ticks": ""
            },
            "colorscale": [
             [
              0,
              "#0d0887"
             ],
             [
              0.1111111111111111,
              "#46039f"
             ],
             [
              0.2222222222222222,
              "#7201a8"
             ],
             [
              0.3333333333333333,
              "#9c179e"
             ],
             [
              0.4444444444444444,
              "#bd3786"
             ],
             [
              0.5555555555555556,
              "#d8576b"
             ],
             [
              0.6666666666666666,
              "#ed7953"
             ],
             [
              0.7777777777777778,
              "#fb9f3a"
             ],
             [
              0.8888888888888888,
              "#fdca26"
             ],
             [
              1,
              "#f0f921"
             ]
            ],
            "type": "contour"
           }
          ],
          "contourcarpet": [
           {
            "colorbar": {
             "outlinewidth": 0,
             "ticks": ""
            },
            "type": "contourcarpet"
           }
          ],
          "heatmap": [
           {
            "colorbar": {
             "outlinewidth": 0,
             "ticks": ""
            },
            "colorscale": [
             [
              0,
              "#0d0887"
             ],
             [
              0.1111111111111111,
              "#46039f"
             ],
             [
              0.2222222222222222,
              "#7201a8"
             ],
             [
              0.3333333333333333,
              "#9c179e"
             ],
             [
              0.4444444444444444,
              "#bd3786"
             ],
             [
              0.5555555555555556,
              "#d8576b"
             ],
             [
              0.6666666666666666,
              "#ed7953"
             ],
             [
              0.7777777777777778,
              "#fb9f3a"
             ],
             [
              0.8888888888888888,
              "#fdca26"
             ],
             [
              1,
              "#f0f921"
             ]
            ],
            "type": "heatmap"
           }
          ],
          "heatmapgl": [
           {
            "colorbar": {
             "outlinewidth": 0,
             "ticks": ""
            },
            "colorscale": [
             [
              0,
              "#0d0887"
             ],
             [
              0.1111111111111111,
              "#46039f"
             ],
             [
              0.2222222222222222,
              "#7201a8"
             ],
             [
              0.3333333333333333,
              "#9c179e"
             ],
             [
              0.4444444444444444,
              "#bd3786"
             ],
             [
              0.5555555555555556,
              "#d8576b"
             ],
             [
              0.6666666666666666,
              "#ed7953"
             ],
             [
              0.7777777777777778,
              "#fb9f3a"
             ],
             [
              0.8888888888888888,
              "#fdca26"
             ],
             [
              1,
              "#f0f921"
             ]
            ],
            "type": "heatmapgl"
           }
          ],
          "histogram": [
           {
            "marker": {
             "pattern": {
              "fillmode": "overlay",
              "size": 10,
              "solidity": 0.2
             }
            },
            "type": "histogram"
           }
          ],
          "histogram2d": [
           {
            "colorbar": {
             "outlinewidth": 0,
             "ticks": ""
            },
            "colorscale": [
             [
              0,
              "#0d0887"
             ],
             [
              0.1111111111111111,
              "#46039f"
             ],
             [
              0.2222222222222222,
              "#7201a8"
             ],
             [
              0.3333333333333333,
              "#9c179e"
             ],
             [
              0.4444444444444444,
              "#bd3786"
             ],
             [
              0.5555555555555556,
              "#d8576b"
             ],
             [
              0.6666666666666666,
              "#ed7953"
             ],
             [
              0.7777777777777778,
              "#fb9f3a"
             ],
             [
              0.8888888888888888,
              "#fdca26"
             ],
             [
              1,
              "#f0f921"
             ]
            ],
            "type": "histogram2d"
           }
          ],
          "histogram2dcontour": [
           {
            "colorbar": {
             "outlinewidth": 0,
             "ticks": ""
            },
            "colorscale": [
             [
              0,
              "#0d0887"
             ],
             [
              0.1111111111111111,
              "#46039f"
             ],
             [
              0.2222222222222222,
              "#7201a8"
             ],
             [
              0.3333333333333333,
              "#9c179e"
             ],
             [
              0.4444444444444444,
              "#bd3786"
             ],
             [
              0.5555555555555556,
              "#d8576b"
             ],
             [
              0.6666666666666666,
              "#ed7953"
             ],
             [
              0.7777777777777778,
              "#fb9f3a"
             ],
             [
              0.8888888888888888,
              "#fdca26"
             ],
             [
              1,
              "#f0f921"
             ]
            ],
            "type": "histogram2dcontour"
           }
          ],
          "mesh3d": [
           {
            "colorbar": {
             "outlinewidth": 0,
             "ticks": ""
            },
            "type": "mesh3d"
           }
          ],
          "parcoords": [
           {
            "line": {
             "colorbar": {
              "outlinewidth": 0,
              "ticks": ""
             }
            },
            "type": "parcoords"
           }
          ],
          "pie": [
           {
            "automargin": true,
            "type": "pie"
           }
          ],
          "scatter": [
           {
            "fillpattern": {
             "fillmode": "overlay",
             "size": 10,
             "solidity": 0.2
            },
            "type": "scatter"
           }
          ],
          "scatter3d": [
           {
            "line": {
             "colorbar": {
              "outlinewidth": 0,
              "ticks": ""
             }
            },
            "marker": {
             "colorbar": {
              "outlinewidth": 0,
              "ticks": ""
             }
            },
            "type": "scatter3d"
           }
          ],
          "scattercarpet": [
           {
            "marker": {
             "colorbar": {
              "outlinewidth": 0,
              "ticks": ""
             }
            },
            "type": "scattercarpet"
           }
          ],
          "scattergeo": [
           {
            "marker": {
             "colorbar": {
              "outlinewidth": 0,
              "ticks": ""
             }
            },
            "type": "scattergeo"
           }
          ],
          "scattergl": [
           {
            "marker": {
             "colorbar": {
              "outlinewidth": 0,
              "ticks": ""
             }
            },
            "type": "scattergl"
           }
          ],
          "scattermapbox": [
           {
            "marker": {
             "colorbar": {
              "outlinewidth": 0,
              "ticks": ""
             }
            },
            "type": "scattermapbox"
           }
          ],
          "scatterpolar": [
           {
            "marker": {
             "colorbar": {
              "outlinewidth": 0,
              "ticks": ""
             }
            },
            "type": "scatterpolar"
           }
          ],
          "scatterpolargl": [
           {
            "marker": {
             "colorbar": {
              "outlinewidth": 0,
              "ticks": ""
             }
            },
            "type": "scatterpolargl"
           }
          ],
          "scatterternary": [
           {
            "marker": {
             "colorbar": {
              "outlinewidth": 0,
              "ticks": ""
             }
            },
            "type": "scatterternary"
           }
          ],
          "surface": [
           {
            "colorbar": {
             "outlinewidth": 0,
             "ticks": ""
            },
            "colorscale": [
             [
              0,
              "#0d0887"
             ],
             [
              0.1111111111111111,
              "#46039f"
             ],
             [
              0.2222222222222222,
              "#7201a8"
             ],
             [
              0.3333333333333333,
              "#9c179e"
             ],
             [
              0.4444444444444444,
              "#bd3786"
             ],
             [
              0.5555555555555556,
              "#d8576b"
             ],
             [
              0.6666666666666666,
              "#ed7953"
             ],
             [
              0.7777777777777778,
              "#fb9f3a"
             ],
             [
              0.8888888888888888,
              "#fdca26"
             ],
             [
              1,
              "#f0f921"
             ]
            ],
            "type": "surface"
           }
          ],
          "table": [
           {
            "cells": {
             "fill": {
              "color": "#EBF0F8"
             },
             "line": {
              "color": "white"
             }
            },
            "header": {
             "fill": {
              "color": "#C8D4E3"
             },
             "line": {
              "color": "white"
             }
            },
            "type": "table"
           }
          ]
         },
         "layout": {
          "annotationdefaults": {
           "arrowcolor": "#2a3f5f",
           "arrowhead": 0,
           "arrowwidth": 1
          },
          "autotypenumbers": "strict",
          "coloraxis": {
           "colorbar": {
            "outlinewidth": 0,
            "ticks": ""
           }
          },
          "colorscale": {
           "diverging": [
            [
             0,
             "#8e0152"
            ],
            [
             0.1,
             "#c51b7d"
            ],
            [
             0.2,
             "#de77ae"
            ],
            [
             0.3,
             "#f1b6da"
            ],
            [
             0.4,
             "#fde0ef"
            ],
            [
             0.5,
             "#f7f7f7"
            ],
            [
             0.6,
             "#e6f5d0"
            ],
            [
             0.7,
             "#b8e186"
            ],
            [
             0.8,
             "#7fbc41"
            ],
            [
             0.9,
             "#4d9221"
            ],
            [
             1,
             "#276419"
            ]
           ],
           "sequential": [
            [
             0,
             "#0d0887"
            ],
            [
             0.1111111111111111,
             "#46039f"
            ],
            [
             0.2222222222222222,
             "#7201a8"
            ],
            [
             0.3333333333333333,
             "#9c179e"
            ],
            [
             0.4444444444444444,
             "#bd3786"
            ],
            [
             0.5555555555555556,
             "#d8576b"
            ],
            [
             0.6666666666666666,
             "#ed7953"
            ],
            [
             0.7777777777777778,
             "#fb9f3a"
            ],
            [
             0.8888888888888888,
             "#fdca26"
            ],
            [
             1,
             "#f0f921"
            ]
           ],
           "sequentialminus": [
            [
             0,
             "#0d0887"
            ],
            [
             0.1111111111111111,
             "#46039f"
            ],
            [
             0.2222222222222222,
             "#7201a8"
            ],
            [
             0.3333333333333333,
             "#9c179e"
            ],
            [
             0.4444444444444444,
             "#bd3786"
            ],
            [
             0.5555555555555556,
             "#d8576b"
            ],
            [
             0.6666666666666666,
             "#ed7953"
            ],
            [
             0.7777777777777778,
             "#fb9f3a"
            ],
            [
             0.8888888888888888,
             "#fdca26"
            ],
            [
             1,
             "#f0f921"
            ]
           ]
          },
          "colorway": [
           "#636efa",
           "#EF553B",
           "#00cc96",
           "#ab63fa",
           "#FFA15A",
           "#19d3f3",
           "#FF6692",
           "#B6E880",
           "#FF97FF",
           "#FECB52"
          ],
          "font": {
           "color": "#2a3f5f"
          },
          "geo": {
           "bgcolor": "white",
           "lakecolor": "white",
           "landcolor": "#E5ECF6",
           "showlakes": true,
           "showland": true,
           "subunitcolor": "white"
          },
          "hoverlabel": {
           "align": "left"
          },
          "hovermode": "closest",
          "mapbox": {
           "style": "light"
          },
          "paper_bgcolor": "white",
          "plot_bgcolor": "#E5ECF6",
          "polar": {
           "angularaxis": {
            "gridcolor": "white",
            "linecolor": "white",
            "ticks": ""
           },
           "bgcolor": "#E5ECF6",
           "radialaxis": {
            "gridcolor": "white",
            "linecolor": "white",
            "ticks": ""
           }
          },
          "scene": {
           "xaxis": {
            "backgroundcolor": "#E5ECF6",
            "gridcolor": "white",
            "gridwidth": 2,
            "linecolor": "white",
            "showbackground": true,
            "ticks": "",
            "zerolinecolor": "white"
           },
           "yaxis": {
            "backgroundcolor": "#E5ECF6",
            "gridcolor": "white",
            "gridwidth": 2,
            "linecolor": "white",
            "showbackground": true,
            "ticks": "",
            "zerolinecolor": "white"
           },
           "zaxis": {
            "backgroundcolor": "#E5ECF6",
            "gridcolor": "white",
            "gridwidth": 2,
            "linecolor": "white",
            "showbackground": true,
            "ticks": "",
            "zerolinecolor": "white"
           }
          },
          "shapedefaults": {
           "line": {
            "color": "#2a3f5f"
           }
          },
          "ternary": {
           "aaxis": {
            "gridcolor": "white",
            "linecolor": "white",
            "ticks": ""
           },
           "baxis": {
            "gridcolor": "white",
            "linecolor": "white",
            "ticks": ""
           },
           "bgcolor": "#E5ECF6",
           "caxis": {
            "gridcolor": "white",
            "linecolor": "white",
            "ticks": ""
           }
          },
          "title": {
           "x": 0.05
          },
          "xaxis": {
           "automargin": true,
           "gridcolor": "white",
           "linecolor": "white",
           "ticks": "",
           "title": {
            "standoff": 15
           },
           "zerolinecolor": "white",
           "zerolinewidth": 2
          },
          "yaxis": {
           "automargin": true,
           "gridcolor": "white",
           "linecolor": "white",
           "ticks": "",
           "title": {
            "standoff": 15
           },
           "zerolinecolor": "white",
           "zerolinewidth": 2
          }
         }
        },
        "xaxis": {
         "anchor": "y",
         "domain": [
          0,
          1
         ],
         "title": {
          "text": "Conocidos"
         }
        },
        "yaxis": {
         "anchor": "x",
         "domain": [
          0,
          1
         ],
         "title": {
          "text": "value"
         }
        }
       }
      }
     },
     "metadata": {},
     "output_type": "display_data"
    }
   ],
   "source": [
    "#Grafico el comportamiento de la métrica a medida que incremento los aciertos. Tambien muestro lor resultados de otras metricas como Accuracy y Balanced Accuracy\n",
    "px.line(kappa_progression,x='Conocidos',y=['kappa',\n",
    "                                           'kappa_cerca',\n",
    "                                           'kappa_lejos',\n",
    "                                           'accuracy',\n",
    "                                           'balanced_accuracy'])"
   ]
  },
  {
   "cell_type": "code",
   "execution_count": 18,
   "metadata": {},
   "outputs": [
    {
     "data": {
      "application/vnd.plotly.v1+json": {
       "config": {
        "plotlyServerURL": "https://plot.ly"
       },
       "data": [
        {
         "type": "heatmap",
         "x": [
          0,
          1,
          2,
          3,
          4
         ],
         "y": [
          0,
          1,
          2,
          3,
          4
         ],
         "z": [
          [
           51.21951219512195,
           48.78048780487805,
           0,
           0,
           0
          ],
          [
           0,
           47.57281553398058,
           52.42718446601942,
           0,
           0
          ],
          [
           0,
           0,
           50.92936802973978,
           49.07063197026022,
           0
          ],
          [
           0,
           0,
           0,
           50.61349693251533,
           49.38650306748466
          ],
          [
           0,
           0,
           0,
           50.71428571428571,
           49.28571428571429
          ]
         ]
        }
       ],
       "layout": {
        "annotations": [
         {
          "font": {
           "color": "white"
          },
          "showarrow": false,
          "text": "51.2 - 42",
          "x": 0,
          "xref": "x",
          "y": 0,
          "yref": "y"
         },
         {
          "font": {
           "color": "white"
          },
          "showarrow": false,
          "text": "48.8 - 40",
          "x": 1,
          "xref": "x",
          "y": 0,
          "yref": "y"
         },
         {
          "font": {
           "color": "white"
          },
          "showarrow": false,
          "text": "0.0 - 0",
          "x": 2,
          "xref": "x",
          "y": 0,
          "yref": "y"
         },
         {
          "font": {
           "color": "white"
          },
          "showarrow": false,
          "text": "0.0 - 0",
          "x": 3,
          "xref": "x",
          "y": 0,
          "yref": "y"
         },
         {
          "font": {
           "color": "white"
          },
          "showarrow": false,
          "text": "0.0 - 0",
          "x": 4,
          "xref": "x",
          "y": 0,
          "yref": "y"
         },
         {
          "font": {
           "color": "white"
          },
          "showarrow": false,
          "text": "0.0 - 0",
          "x": 0,
          "xref": "x",
          "y": 1,
          "yref": "y"
         },
         {
          "font": {
           "color": "white"
          },
          "showarrow": false,
          "text": "47.6 - 294",
          "x": 1,
          "xref": "x",
          "y": 1,
          "yref": "y"
         },
         {
          "font": {
           "color": "white"
          },
          "showarrow": false,
          "text": "52.4 - 324",
          "x": 2,
          "xref": "x",
          "y": 1,
          "yref": "y"
         },
         {
          "font": {
           "color": "white"
          },
          "showarrow": false,
          "text": "0.0 - 0",
          "x": 3,
          "xref": "x",
          "y": 1,
          "yref": "y"
         },
         {
          "font": {
           "color": "white"
          },
          "showarrow": false,
          "text": "0.0 - 0",
          "x": 4,
          "xref": "x",
          "y": 1,
          "yref": "y"
         },
         {
          "font": {
           "color": "white"
          },
          "showarrow": false,
          "text": "0.0 - 0",
          "x": 0,
          "xref": "x",
          "y": 2,
          "yref": "y"
         },
         {
          "font": {
           "color": "white"
          },
          "showarrow": false,
          "text": "0.0 - 0",
          "x": 1,
          "xref": "x",
          "y": 2,
          "yref": "y"
         },
         {
          "font": {
           "color": "white"
          },
          "showarrow": false,
          "text": "50.9 - 411",
          "x": 2,
          "xref": "x",
          "y": 2,
          "yref": "y"
         },
         {
          "font": {
           "color": "white"
          },
          "showarrow": false,
          "text": "49.1 - 396",
          "x": 3,
          "xref": "x",
          "y": 2,
          "yref": "y"
         },
         {
          "font": {
           "color": "white"
          },
          "showarrow": false,
          "text": "0.0 - 0",
          "x": 4,
          "xref": "x",
          "y": 2,
          "yref": "y"
         },
         {
          "font": {
           "color": "white"
          },
          "showarrow": false,
          "text": "0.0 - 0",
          "x": 0,
          "xref": "x",
          "y": 3,
          "yref": "y"
         },
         {
          "font": {
           "color": "white"
          },
          "showarrow": false,
          "text": "0.0 - 0",
          "x": 1,
          "xref": "x",
          "y": 3,
          "yref": "y"
         },
         {
          "font": {
           "color": "white"
          },
          "showarrow": false,
          "text": "0.0 - 0",
          "x": 2,
          "xref": "x",
          "y": 3,
          "yref": "y"
         },
         {
          "font": {
           "color": "white"
          },
          "showarrow": false,
          "text": "50.6 - 330",
          "x": 3,
          "xref": "x",
          "y": 3,
          "yref": "y"
         },
         {
          "font": {
           "color": "white"
          },
          "showarrow": false,
          "text": "49.4 - 322",
          "x": 4,
          "xref": "x",
          "y": 3,
          "yref": "y"
         },
         {
          "font": {
           "color": "white"
          },
          "showarrow": false,
          "text": "0.0 - 0",
          "x": 0,
          "xref": "x",
          "y": 4,
          "yref": "y"
         },
         {
          "font": {
           "color": "white"
          },
          "showarrow": false,
          "text": "0.0 - 0",
          "x": 1,
          "xref": "x",
          "y": 4,
          "yref": "y"
         },
         {
          "font": {
           "color": "white"
          },
          "showarrow": false,
          "text": "0.0 - 0",
          "x": 2,
          "xref": "x",
          "y": 4,
          "yref": "y"
         },
         {
          "font": {
           "color": "white"
          },
          "showarrow": false,
          "text": "50.7 - 426",
          "x": 3,
          "xref": "x",
          "y": 4,
          "yref": "y"
         },
         {
          "font": {
           "color": "white"
          },
          "showarrow": false,
          "text": "49.3 - 414",
          "x": 4,
          "xref": "x",
          "y": 4,
          "yref": "y"
         }
        ],
        "height": 800,
        "template": {
         "data": {
          "bar": [
           {
            "error_x": {
             "color": "#2a3f5f"
            },
            "error_y": {
             "color": "#2a3f5f"
            },
            "marker": {
             "line": {
              "color": "#E5ECF6",
              "width": 0.5
             },
             "pattern": {
              "fillmode": "overlay",
              "size": 10,
              "solidity": 0.2
             }
            },
            "type": "bar"
           }
          ],
          "barpolar": [
           {
            "marker": {
             "line": {
              "color": "#E5ECF6",
              "width": 0.5
             },
             "pattern": {
              "fillmode": "overlay",
              "size": 10,
              "solidity": 0.2
             }
            },
            "type": "barpolar"
           }
          ],
          "carpet": [
           {
            "aaxis": {
             "endlinecolor": "#2a3f5f",
             "gridcolor": "white",
             "linecolor": "white",
             "minorgridcolor": "white",
             "startlinecolor": "#2a3f5f"
            },
            "baxis": {
             "endlinecolor": "#2a3f5f",
             "gridcolor": "white",
             "linecolor": "white",
             "minorgridcolor": "white",
             "startlinecolor": "#2a3f5f"
            },
            "type": "carpet"
           }
          ],
          "choropleth": [
           {
            "colorbar": {
             "outlinewidth": 0,
             "ticks": ""
            },
            "type": "choropleth"
           }
          ],
          "contour": [
           {
            "colorbar": {
             "outlinewidth": 0,
             "ticks": ""
            },
            "colorscale": [
             [
              0,
              "#0d0887"
             ],
             [
              0.1111111111111111,
              "#46039f"
             ],
             [
              0.2222222222222222,
              "#7201a8"
             ],
             [
              0.3333333333333333,
              "#9c179e"
             ],
             [
              0.4444444444444444,
              "#bd3786"
             ],
             [
              0.5555555555555556,
              "#d8576b"
             ],
             [
              0.6666666666666666,
              "#ed7953"
             ],
             [
              0.7777777777777778,
              "#fb9f3a"
             ],
             [
              0.8888888888888888,
              "#fdca26"
             ],
             [
              1,
              "#f0f921"
             ]
            ],
            "type": "contour"
           }
          ],
          "contourcarpet": [
           {
            "colorbar": {
             "outlinewidth": 0,
             "ticks": ""
            },
            "type": "contourcarpet"
           }
          ],
          "heatmap": [
           {
            "colorbar": {
             "outlinewidth": 0,
             "ticks": ""
            },
            "colorscale": [
             [
              0,
              "#0d0887"
             ],
             [
              0.1111111111111111,
              "#46039f"
             ],
             [
              0.2222222222222222,
              "#7201a8"
             ],
             [
              0.3333333333333333,
              "#9c179e"
             ],
             [
              0.4444444444444444,
              "#bd3786"
             ],
             [
              0.5555555555555556,
              "#d8576b"
             ],
             [
              0.6666666666666666,
              "#ed7953"
             ],
             [
              0.7777777777777778,
              "#fb9f3a"
             ],
             [
              0.8888888888888888,
              "#fdca26"
             ],
             [
              1,
              "#f0f921"
             ]
            ],
            "type": "heatmap"
           }
          ],
          "heatmapgl": [
           {
            "colorbar": {
             "outlinewidth": 0,
             "ticks": ""
            },
            "colorscale": [
             [
              0,
              "#0d0887"
             ],
             [
              0.1111111111111111,
              "#46039f"
             ],
             [
              0.2222222222222222,
              "#7201a8"
             ],
             [
              0.3333333333333333,
              "#9c179e"
             ],
             [
              0.4444444444444444,
              "#bd3786"
             ],
             [
              0.5555555555555556,
              "#d8576b"
             ],
             [
              0.6666666666666666,
              "#ed7953"
             ],
             [
              0.7777777777777778,
              "#fb9f3a"
             ],
             [
              0.8888888888888888,
              "#fdca26"
             ],
             [
              1,
              "#f0f921"
             ]
            ],
            "type": "heatmapgl"
           }
          ],
          "histogram": [
           {
            "marker": {
             "pattern": {
              "fillmode": "overlay",
              "size": 10,
              "solidity": 0.2
             }
            },
            "type": "histogram"
           }
          ],
          "histogram2d": [
           {
            "colorbar": {
             "outlinewidth": 0,
             "ticks": ""
            },
            "colorscale": [
             [
              0,
              "#0d0887"
             ],
             [
              0.1111111111111111,
              "#46039f"
             ],
             [
              0.2222222222222222,
              "#7201a8"
             ],
             [
              0.3333333333333333,
              "#9c179e"
             ],
             [
              0.4444444444444444,
              "#bd3786"
             ],
             [
              0.5555555555555556,
              "#d8576b"
             ],
             [
              0.6666666666666666,
              "#ed7953"
             ],
             [
              0.7777777777777778,
              "#fb9f3a"
             ],
             [
              0.8888888888888888,
              "#fdca26"
             ],
             [
              1,
              "#f0f921"
             ]
            ],
            "type": "histogram2d"
           }
          ],
          "histogram2dcontour": [
           {
            "colorbar": {
             "outlinewidth": 0,
             "ticks": ""
            },
            "colorscale": [
             [
              0,
              "#0d0887"
             ],
             [
              0.1111111111111111,
              "#46039f"
             ],
             [
              0.2222222222222222,
              "#7201a8"
             ],
             [
              0.3333333333333333,
              "#9c179e"
             ],
             [
              0.4444444444444444,
              "#bd3786"
             ],
             [
              0.5555555555555556,
              "#d8576b"
             ],
             [
              0.6666666666666666,
              "#ed7953"
             ],
             [
              0.7777777777777778,
              "#fb9f3a"
             ],
             [
              0.8888888888888888,
              "#fdca26"
             ],
             [
              1,
              "#f0f921"
             ]
            ],
            "type": "histogram2dcontour"
           }
          ],
          "mesh3d": [
           {
            "colorbar": {
             "outlinewidth": 0,
             "ticks": ""
            },
            "type": "mesh3d"
           }
          ],
          "parcoords": [
           {
            "line": {
             "colorbar": {
              "outlinewidth": 0,
              "ticks": ""
             }
            },
            "type": "parcoords"
           }
          ],
          "pie": [
           {
            "automargin": true,
            "type": "pie"
           }
          ],
          "scatter": [
           {
            "fillpattern": {
             "fillmode": "overlay",
             "size": 10,
             "solidity": 0.2
            },
            "type": "scatter"
           }
          ],
          "scatter3d": [
           {
            "line": {
             "colorbar": {
              "outlinewidth": 0,
              "ticks": ""
             }
            },
            "marker": {
             "colorbar": {
              "outlinewidth": 0,
              "ticks": ""
             }
            },
            "type": "scatter3d"
           }
          ],
          "scattercarpet": [
           {
            "marker": {
             "colorbar": {
              "outlinewidth": 0,
              "ticks": ""
             }
            },
            "type": "scattercarpet"
           }
          ],
          "scattergeo": [
           {
            "marker": {
             "colorbar": {
              "outlinewidth": 0,
              "ticks": ""
             }
            },
            "type": "scattergeo"
           }
          ],
          "scattergl": [
           {
            "marker": {
             "colorbar": {
              "outlinewidth": 0,
              "ticks": ""
             }
            },
            "type": "scattergl"
           }
          ],
          "scattermapbox": [
           {
            "marker": {
             "colorbar": {
              "outlinewidth": 0,
              "ticks": ""
             }
            },
            "type": "scattermapbox"
           }
          ],
          "scatterpolar": [
           {
            "marker": {
             "colorbar": {
              "outlinewidth": 0,
              "ticks": ""
             }
            },
            "type": "scatterpolar"
           }
          ],
          "scatterpolargl": [
           {
            "marker": {
             "colorbar": {
              "outlinewidth": 0,
              "ticks": ""
             }
            },
            "type": "scatterpolargl"
           }
          ],
          "scatterternary": [
           {
            "marker": {
             "colorbar": {
              "outlinewidth": 0,
              "ticks": ""
             }
            },
            "type": "scatterternary"
           }
          ],
          "surface": [
           {
            "colorbar": {
             "outlinewidth": 0,
             "ticks": ""
            },
            "colorscale": [
             [
              0,
              "#0d0887"
             ],
             [
              0.1111111111111111,
              "#46039f"
             ],
             [
              0.2222222222222222,
              "#7201a8"
             ],
             [
              0.3333333333333333,
              "#9c179e"
             ],
             [
              0.4444444444444444,
              "#bd3786"
             ],
             [
              0.5555555555555556,
              "#d8576b"
             ],
             [
              0.6666666666666666,
              "#ed7953"
             ],
             [
              0.7777777777777778,
              "#fb9f3a"
             ],
             [
              0.8888888888888888,
              "#fdca26"
             ],
             [
              1,
              "#f0f921"
             ]
            ],
            "type": "surface"
           }
          ],
          "table": [
           {
            "cells": {
             "fill": {
              "color": "#EBF0F8"
             },
             "line": {
              "color": "white"
             }
            },
            "header": {
             "fill": {
              "color": "#C8D4E3"
             },
             "line": {
              "color": "white"
             }
            },
            "type": "table"
           }
          ]
         },
         "layout": {
          "annotationdefaults": {
           "arrowcolor": "#2a3f5f",
           "arrowhead": 0,
           "arrowwidth": 1
          },
          "autotypenumbers": "strict",
          "coloraxis": {
           "colorbar": {
            "outlinewidth": 0,
            "ticks": ""
           }
          },
          "colorscale": {
           "diverging": [
            [
             0,
             "#8e0152"
            ],
            [
             0.1,
             "#c51b7d"
            ],
            [
             0.2,
             "#de77ae"
            ],
            [
             0.3,
             "#f1b6da"
            ],
            [
             0.4,
             "#fde0ef"
            ],
            [
             0.5,
             "#f7f7f7"
            ],
            [
             0.6,
             "#e6f5d0"
            ],
            [
             0.7,
             "#b8e186"
            ],
            [
             0.8,
             "#7fbc41"
            ],
            [
             0.9,
             "#4d9221"
            ],
            [
             1,
             "#276419"
            ]
           ],
           "sequential": [
            [
             0,
             "#0d0887"
            ],
            [
             0.1111111111111111,
             "#46039f"
            ],
            [
             0.2222222222222222,
             "#7201a8"
            ],
            [
             0.3333333333333333,
             "#9c179e"
            ],
            [
             0.4444444444444444,
             "#bd3786"
            ],
            [
             0.5555555555555556,
             "#d8576b"
            ],
            [
             0.6666666666666666,
             "#ed7953"
            ],
            [
             0.7777777777777778,
             "#fb9f3a"
            ],
            [
             0.8888888888888888,
             "#fdca26"
            ],
            [
             1,
             "#f0f921"
            ]
           ],
           "sequentialminus": [
            [
             0,
             "#0d0887"
            ],
            [
             0.1111111111111111,
             "#46039f"
            ],
            [
             0.2222222222222222,
             "#7201a8"
            ],
            [
             0.3333333333333333,
             "#9c179e"
            ],
            [
             0.4444444444444444,
             "#bd3786"
            ],
            [
             0.5555555555555556,
             "#d8576b"
            ],
            [
             0.6666666666666666,
             "#ed7953"
            ],
            [
             0.7777777777777778,
             "#fb9f3a"
            ],
            [
             0.8888888888888888,
             "#fdca26"
            ],
            [
             1,
             "#f0f921"
            ]
           ]
          },
          "colorway": [
           "#636efa",
           "#EF553B",
           "#00cc96",
           "#ab63fa",
           "#FFA15A",
           "#19d3f3",
           "#FF6692",
           "#B6E880",
           "#FF97FF",
           "#FECB52"
          ],
          "font": {
           "color": "#2a3f5f"
          },
          "geo": {
           "bgcolor": "white",
           "lakecolor": "white",
           "landcolor": "#E5ECF6",
           "showlakes": true,
           "showland": true,
           "subunitcolor": "white"
          },
          "hoverlabel": {
           "align": "left"
          },
          "hovermode": "closest",
          "mapbox": {
           "style": "light"
          },
          "paper_bgcolor": "white",
          "plot_bgcolor": "#E5ECF6",
          "polar": {
           "angularaxis": {
            "gridcolor": "white",
            "linecolor": "white",
            "ticks": ""
           },
           "bgcolor": "#E5ECF6",
           "radialaxis": {
            "gridcolor": "white",
            "linecolor": "white",
            "ticks": ""
           }
          },
          "scene": {
           "xaxis": {
            "backgroundcolor": "#E5ECF6",
            "gridcolor": "white",
            "gridwidth": 2,
            "linecolor": "white",
            "showbackground": true,
            "ticks": "",
            "zerolinecolor": "white"
           },
           "yaxis": {
            "backgroundcolor": "#E5ECF6",
            "gridcolor": "white",
            "gridwidth": 2,
            "linecolor": "white",
            "showbackground": true,
            "ticks": "",
            "zerolinecolor": "white"
           },
           "zaxis": {
            "backgroundcolor": "#E5ECF6",
            "gridcolor": "white",
            "gridwidth": 2,
            "linecolor": "white",
            "showbackground": true,
            "ticks": "",
            "zerolinecolor": "white"
           }
          },
          "shapedefaults": {
           "line": {
            "color": "#2a3f5f"
           }
          },
          "ternary": {
           "aaxis": {
            "gridcolor": "white",
            "linecolor": "white",
            "ticks": ""
           },
           "baxis": {
            "gridcolor": "white",
            "linecolor": "white",
            "ticks": ""
           },
           "bgcolor": "#E5ECF6",
           "caxis": {
            "gridcolor": "white",
            "linecolor": "white",
            "ticks": ""
           }
          },
          "title": {
           "x": 0.05
          },
          "xaxis": {
           "automargin": true,
           "gridcolor": "white",
           "linecolor": "white",
           "ticks": "",
           "title": {
            "standoff": 15
           },
           "zerolinecolor": "white",
           "zerolinewidth": 2
          },
          "yaxis": {
           "automargin": true,
           "gridcolor": "white",
           "linecolor": "white",
           "ticks": "",
           "title": {
            "standoff": 15
           },
           "zerolinecolor": "white",
           "zerolinewidth": 2
          }
         }
        },
        "title": {
         "text": "Kappa 0.7927349068123494"
        },
        "width": 800,
        "xaxis": {
         "title": {
          "text": "Predicted value"
         }
        },
        "yaxis": {
         "title": {
          "text": "Real value"
         }
        }
       }
      }
     },
     "metadata": {},
     "output_type": "display_data"
    }
   ],
   "source": [
    "\n",
    "#A modo de ejemplo muestro kappa y matriz de confusion para 50% de aciertos donde los errores quedan cerca de la clase correcta\n",
    "y_simulado_cerca = [y_test.iloc[sample] if random_list[sample]<50/100 else y_cerca[sample] for sample in range(len(y_test))]\n",
    "\n",
    "display(plot_confusion_matrix(y_test,y_simulado_cerca, \n",
    "                              title = \"Kappa \" + str(cohen_kappa_score(y_test,y_simulado_cerca, weights = 'quadratic'))))\n",
    "\n"
   ]
  },
  {
   "cell_type": "code",
   "execution_count": 19,
   "metadata": {},
   "outputs": [
    {
     "data": {
      "application/vnd.plotly.v1+json": {
       "config": {
        "plotlyServerURL": "https://plot.ly"
       },
       "data": [
        {
         "type": "heatmap",
         "x": [
          0,
          1,
          2,
          3,
          4
         ],
         "y": [
          0,
          1,
          2,
          3,
          4
         ],
         "z": [
          [
           51.21951219512195,
           0,
           0,
           0,
           48.78048780487805
          ],
          [
           0,
           47.57281553398058,
           0,
           0,
           52.42718446601942
          ],
          [
           49.07063197026022,
           0,
           50.92936802973978,
           0,
           0
          ],
          [
           49.38650306748466,
           0,
           0,
           50.61349693251533,
           0
          ],
          [
           50.71428571428571,
           0,
           0,
           0,
           49.28571428571429
          ]
         ]
        }
       ],
       "layout": {
        "annotations": [
         {
          "font": {
           "color": "white"
          },
          "showarrow": false,
          "text": "51.2 - 42",
          "x": 0,
          "xref": "x",
          "y": 0,
          "yref": "y"
         },
         {
          "font": {
           "color": "white"
          },
          "showarrow": false,
          "text": "0.0 - 0",
          "x": 1,
          "xref": "x",
          "y": 0,
          "yref": "y"
         },
         {
          "font": {
           "color": "white"
          },
          "showarrow": false,
          "text": "0.0 - 0",
          "x": 2,
          "xref": "x",
          "y": 0,
          "yref": "y"
         },
         {
          "font": {
           "color": "white"
          },
          "showarrow": false,
          "text": "0.0 - 0",
          "x": 3,
          "xref": "x",
          "y": 0,
          "yref": "y"
         },
         {
          "font": {
           "color": "white"
          },
          "showarrow": false,
          "text": "48.8 - 40",
          "x": 4,
          "xref": "x",
          "y": 0,
          "yref": "y"
         },
         {
          "font": {
           "color": "white"
          },
          "showarrow": false,
          "text": "0.0 - 0",
          "x": 0,
          "xref": "x",
          "y": 1,
          "yref": "y"
         },
         {
          "font": {
           "color": "white"
          },
          "showarrow": false,
          "text": "47.6 - 294",
          "x": 1,
          "xref": "x",
          "y": 1,
          "yref": "y"
         },
         {
          "font": {
           "color": "white"
          },
          "showarrow": false,
          "text": "0.0 - 0",
          "x": 2,
          "xref": "x",
          "y": 1,
          "yref": "y"
         },
         {
          "font": {
           "color": "white"
          },
          "showarrow": false,
          "text": "0.0 - 0",
          "x": 3,
          "xref": "x",
          "y": 1,
          "yref": "y"
         },
         {
          "font": {
           "color": "white"
          },
          "showarrow": false,
          "text": "52.4 - 324",
          "x": 4,
          "xref": "x",
          "y": 1,
          "yref": "y"
         },
         {
          "font": {
           "color": "white"
          },
          "showarrow": false,
          "text": "49.1 - 396",
          "x": 0,
          "xref": "x",
          "y": 2,
          "yref": "y"
         },
         {
          "font": {
           "color": "white"
          },
          "showarrow": false,
          "text": "0.0 - 0",
          "x": 1,
          "xref": "x",
          "y": 2,
          "yref": "y"
         },
         {
          "font": {
           "color": "white"
          },
          "showarrow": false,
          "text": "50.9 - 411",
          "x": 2,
          "xref": "x",
          "y": 2,
          "yref": "y"
         },
         {
          "font": {
           "color": "white"
          },
          "showarrow": false,
          "text": "0.0 - 0",
          "x": 3,
          "xref": "x",
          "y": 2,
          "yref": "y"
         },
         {
          "font": {
           "color": "white"
          },
          "showarrow": false,
          "text": "0.0 - 0",
          "x": 4,
          "xref": "x",
          "y": 2,
          "yref": "y"
         },
         {
          "font": {
           "color": "white"
          },
          "showarrow": false,
          "text": "49.4 - 322",
          "x": 0,
          "xref": "x",
          "y": 3,
          "yref": "y"
         },
         {
          "font": {
           "color": "white"
          },
          "showarrow": false,
          "text": "0.0 - 0",
          "x": 1,
          "xref": "x",
          "y": 3,
          "yref": "y"
         },
         {
          "font": {
           "color": "white"
          },
          "showarrow": false,
          "text": "0.0 - 0",
          "x": 2,
          "xref": "x",
          "y": 3,
          "yref": "y"
         },
         {
          "font": {
           "color": "white"
          },
          "showarrow": false,
          "text": "50.6 - 330",
          "x": 3,
          "xref": "x",
          "y": 3,
          "yref": "y"
         },
         {
          "font": {
           "color": "white"
          },
          "showarrow": false,
          "text": "0.0 - 0",
          "x": 4,
          "xref": "x",
          "y": 3,
          "yref": "y"
         },
         {
          "font": {
           "color": "white"
          },
          "showarrow": false,
          "text": "50.7 - 426",
          "x": 0,
          "xref": "x",
          "y": 4,
          "yref": "y"
         },
         {
          "font": {
           "color": "white"
          },
          "showarrow": false,
          "text": "0.0 - 0",
          "x": 1,
          "xref": "x",
          "y": 4,
          "yref": "y"
         },
         {
          "font": {
           "color": "white"
          },
          "showarrow": false,
          "text": "0.0 - 0",
          "x": 2,
          "xref": "x",
          "y": 4,
          "yref": "y"
         },
         {
          "font": {
           "color": "white"
          },
          "showarrow": false,
          "text": "0.0 - 0",
          "x": 3,
          "xref": "x",
          "y": 4,
          "yref": "y"
         },
         {
          "font": {
           "color": "white"
          },
          "showarrow": false,
          "text": "49.3 - 414",
          "x": 4,
          "xref": "x",
          "y": 4,
          "yref": "y"
         }
        ],
        "height": 800,
        "template": {
         "data": {
          "bar": [
           {
            "error_x": {
             "color": "#2a3f5f"
            },
            "error_y": {
             "color": "#2a3f5f"
            },
            "marker": {
             "line": {
              "color": "#E5ECF6",
              "width": 0.5
             },
             "pattern": {
              "fillmode": "overlay",
              "size": 10,
              "solidity": 0.2
             }
            },
            "type": "bar"
           }
          ],
          "barpolar": [
           {
            "marker": {
             "line": {
              "color": "#E5ECF6",
              "width": 0.5
             },
             "pattern": {
              "fillmode": "overlay",
              "size": 10,
              "solidity": 0.2
             }
            },
            "type": "barpolar"
           }
          ],
          "carpet": [
           {
            "aaxis": {
             "endlinecolor": "#2a3f5f",
             "gridcolor": "white",
             "linecolor": "white",
             "minorgridcolor": "white",
             "startlinecolor": "#2a3f5f"
            },
            "baxis": {
             "endlinecolor": "#2a3f5f",
             "gridcolor": "white",
             "linecolor": "white",
             "minorgridcolor": "white",
             "startlinecolor": "#2a3f5f"
            },
            "type": "carpet"
           }
          ],
          "choropleth": [
           {
            "colorbar": {
             "outlinewidth": 0,
             "ticks": ""
            },
            "type": "choropleth"
           }
          ],
          "contour": [
           {
            "colorbar": {
             "outlinewidth": 0,
             "ticks": ""
            },
            "colorscale": [
             [
              0,
              "#0d0887"
             ],
             [
              0.1111111111111111,
              "#46039f"
             ],
             [
              0.2222222222222222,
              "#7201a8"
             ],
             [
              0.3333333333333333,
              "#9c179e"
             ],
             [
              0.4444444444444444,
              "#bd3786"
             ],
             [
              0.5555555555555556,
              "#d8576b"
             ],
             [
              0.6666666666666666,
              "#ed7953"
             ],
             [
              0.7777777777777778,
              "#fb9f3a"
             ],
             [
              0.8888888888888888,
              "#fdca26"
             ],
             [
              1,
              "#f0f921"
             ]
            ],
            "type": "contour"
           }
          ],
          "contourcarpet": [
           {
            "colorbar": {
             "outlinewidth": 0,
             "ticks": ""
            },
            "type": "contourcarpet"
           }
          ],
          "heatmap": [
           {
            "colorbar": {
             "outlinewidth": 0,
             "ticks": ""
            },
            "colorscale": [
             [
              0,
              "#0d0887"
             ],
             [
              0.1111111111111111,
              "#46039f"
             ],
             [
              0.2222222222222222,
              "#7201a8"
             ],
             [
              0.3333333333333333,
              "#9c179e"
             ],
             [
              0.4444444444444444,
              "#bd3786"
             ],
             [
              0.5555555555555556,
              "#d8576b"
             ],
             [
              0.6666666666666666,
              "#ed7953"
             ],
             [
              0.7777777777777778,
              "#fb9f3a"
             ],
             [
              0.8888888888888888,
              "#fdca26"
             ],
             [
              1,
              "#f0f921"
             ]
            ],
            "type": "heatmap"
           }
          ],
          "heatmapgl": [
           {
            "colorbar": {
             "outlinewidth": 0,
             "ticks": ""
            },
            "colorscale": [
             [
              0,
              "#0d0887"
             ],
             [
              0.1111111111111111,
              "#46039f"
             ],
             [
              0.2222222222222222,
              "#7201a8"
             ],
             [
              0.3333333333333333,
              "#9c179e"
             ],
             [
              0.4444444444444444,
              "#bd3786"
             ],
             [
              0.5555555555555556,
              "#d8576b"
             ],
             [
              0.6666666666666666,
              "#ed7953"
             ],
             [
              0.7777777777777778,
              "#fb9f3a"
             ],
             [
              0.8888888888888888,
              "#fdca26"
             ],
             [
              1,
              "#f0f921"
             ]
            ],
            "type": "heatmapgl"
           }
          ],
          "histogram": [
           {
            "marker": {
             "pattern": {
              "fillmode": "overlay",
              "size": 10,
              "solidity": 0.2
             }
            },
            "type": "histogram"
           }
          ],
          "histogram2d": [
           {
            "colorbar": {
             "outlinewidth": 0,
             "ticks": ""
            },
            "colorscale": [
             [
              0,
              "#0d0887"
             ],
             [
              0.1111111111111111,
              "#46039f"
             ],
             [
              0.2222222222222222,
              "#7201a8"
             ],
             [
              0.3333333333333333,
              "#9c179e"
             ],
             [
              0.4444444444444444,
              "#bd3786"
             ],
             [
              0.5555555555555556,
              "#d8576b"
             ],
             [
              0.6666666666666666,
              "#ed7953"
             ],
             [
              0.7777777777777778,
              "#fb9f3a"
             ],
             [
              0.8888888888888888,
              "#fdca26"
             ],
             [
              1,
              "#f0f921"
             ]
            ],
            "type": "histogram2d"
           }
          ],
          "histogram2dcontour": [
           {
            "colorbar": {
             "outlinewidth": 0,
             "ticks": ""
            },
            "colorscale": [
             [
              0,
              "#0d0887"
             ],
             [
              0.1111111111111111,
              "#46039f"
             ],
             [
              0.2222222222222222,
              "#7201a8"
             ],
             [
              0.3333333333333333,
              "#9c179e"
             ],
             [
              0.4444444444444444,
              "#bd3786"
             ],
             [
              0.5555555555555556,
              "#d8576b"
             ],
             [
              0.6666666666666666,
              "#ed7953"
             ],
             [
              0.7777777777777778,
              "#fb9f3a"
             ],
             [
              0.8888888888888888,
              "#fdca26"
             ],
             [
              1,
              "#f0f921"
             ]
            ],
            "type": "histogram2dcontour"
           }
          ],
          "mesh3d": [
           {
            "colorbar": {
             "outlinewidth": 0,
             "ticks": ""
            },
            "type": "mesh3d"
           }
          ],
          "parcoords": [
           {
            "line": {
             "colorbar": {
              "outlinewidth": 0,
              "ticks": ""
             }
            },
            "type": "parcoords"
           }
          ],
          "pie": [
           {
            "automargin": true,
            "type": "pie"
           }
          ],
          "scatter": [
           {
            "fillpattern": {
             "fillmode": "overlay",
             "size": 10,
             "solidity": 0.2
            },
            "type": "scatter"
           }
          ],
          "scatter3d": [
           {
            "line": {
             "colorbar": {
              "outlinewidth": 0,
              "ticks": ""
             }
            },
            "marker": {
             "colorbar": {
              "outlinewidth": 0,
              "ticks": ""
             }
            },
            "type": "scatter3d"
           }
          ],
          "scattercarpet": [
           {
            "marker": {
             "colorbar": {
              "outlinewidth": 0,
              "ticks": ""
             }
            },
            "type": "scattercarpet"
           }
          ],
          "scattergeo": [
           {
            "marker": {
             "colorbar": {
              "outlinewidth": 0,
              "ticks": ""
             }
            },
            "type": "scattergeo"
           }
          ],
          "scattergl": [
           {
            "marker": {
             "colorbar": {
              "outlinewidth": 0,
              "ticks": ""
             }
            },
            "type": "scattergl"
           }
          ],
          "scattermapbox": [
           {
            "marker": {
             "colorbar": {
              "outlinewidth": 0,
              "ticks": ""
             }
            },
            "type": "scattermapbox"
           }
          ],
          "scatterpolar": [
           {
            "marker": {
             "colorbar": {
              "outlinewidth": 0,
              "ticks": ""
             }
            },
            "type": "scatterpolar"
           }
          ],
          "scatterpolargl": [
           {
            "marker": {
             "colorbar": {
              "outlinewidth": 0,
              "ticks": ""
             }
            },
            "type": "scatterpolargl"
           }
          ],
          "scatterternary": [
           {
            "marker": {
             "colorbar": {
              "outlinewidth": 0,
              "ticks": ""
             }
            },
            "type": "scatterternary"
           }
          ],
          "surface": [
           {
            "colorbar": {
             "outlinewidth": 0,
             "ticks": ""
            },
            "colorscale": [
             [
              0,
              "#0d0887"
             ],
             [
              0.1111111111111111,
              "#46039f"
             ],
             [
              0.2222222222222222,
              "#7201a8"
             ],
             [
              0.3333333333333333,
              "#9c179e"
             ],
             [
              0.4444444444444444,
              "#bd3786"
             ],
             [
              0.5555555555555556,
              "#d8576b"
             ],
             [
              0.6666666666666666,
              "#ed7953"
             ],
             [
              0.7777777777777778,
              "#fb9f3a"
             ],
             [
              0.8888888888888888,
              "#fdca26"
             ],
             [
              1,
              "#f0f921"
             ]
            ],
            "type": "surface"
           }
          ],
          "table": [
           {
            "cells": {
             "fill": {
              "color": "#EBF0F8"
             },
             "line": {
              "color": "white"
             }
            },
            "header": {
             "fill": {
              "color": "#C8D4E3"
             },
             "line": {
              "color": "white"
             }
            },
            "type": "table"
           }
          ]
         },
         "layout": {
          "annotationdefaults": {
           "arrowcolor": "#2a3f5f",
           "arrowhead": 0,
           "arrowwidth": 1
          },
          "autotypenumbers": "strict",
          "coloraxis": {
           "colorbar": {
            "outlinewidth": 0,
            "ticks": ""
           }
          },
          "colorscale": {
           "diverging": [
            [
             0,
             "#8e0152"
            ],
            [
             0.1,
             "#c51b7d"
            ],
            [
             0.2,
             "#de77ae"
            ],
            [
             0.3,
             "#f1b6da"
            ],
            [
             0.4,
             "#fde0ef"
            ],
            [
             0.5,
             "#f7f7f7"
            ],
            [
             0.6,
             "#e6f5d0"
            ],
            [
             0.7,
             "#b8e186"
            ],
            [
             0.8,
             "#7fbc41"
            ],
            [
             0.9,
             "#4d9221"
            ],
            [
             1,
             "#276419"
            ]
           ],
           "sequential": [
            [
             0,
             "#0d0887"
            ],
            [
             0.1111111111111111,
             "#46039f"
            ],
            [
             0.2222222222222222,
             "#7201a8"
            ],
            [
             0.3333333333333333,
             "#9c179e"
            ],
            [
             0.4444444444444444,
             "#bd3786"
            ],
            [
             0.5555555555555556,
             "#d8576b"
            ],
            [
             0.6666666666666666,
             "#ed7953"
            ],
            [
             0.7777777777777778,
             "#fb9f3a"
            ],
            [
             0.8888888888888888,
             "#fdca26"
            ],
            [
             1,
             "#f0f921"
            ]
           ],
           "sequentialminus": [
            [
             0,
             "#0d0887"
            ],
            [
             0.1111111111111111,
             "#46039f"
            ],
            [
             0.2222222222222222,
             "#7201a8"
            ],
            [
             0.3333333333333333,
             "#9c179e"
            ],
            [
             0.4444444444444444,
             "#bd3786"
            ],
            [
             0.5555555555555556,
             "#d8576b"
            ],
            [
             0.6666666666666666,
             "#ed7953"
            ],
            [
             0.7777777777777778,
             "#fb9f3a"
            ],
            [
             0.8888888888888888,
             "#fdca26"
            ],
            [
             1,
             "#f0f921"
            ]
           ]
          },
          "colorway": [
           "#636efa",
           "#EF553B",
           "#00cc96",
           "#ab63fa",
           "#FFA15A",
           "#19d3f3",
           "#FF6692",
           "#B6E880",
           "#FF97FF",
           "#FECB52"
          ],
          "font": {
           "color": "#2a3f5f"
          },
          "geo": {
           "bgcolor": "white",
           "lakecolor": "white",
           "landcolor": "#E5ECF6",
           "showlakes": true,
           "showland": true,
           "subunitcolor": "white"
          },
          "hoverlabel": {
           "align": "left"
          },
          "hovermode": "closest",
          "mapbox": {
           "style": "light"
          },
          "paper_bgcolor": "white",
          "plot_bgcolor": "#E5ECF6",
          "polar": {
           "angularaxis": {
            "gridcolor": "white",
            "linecolor": "white",
            "ticks": ""
           },
           "bgcolor": "#E5ECF6",
           "radialaxis": {
            "gridcolor": "white",
            "linecolor": "white",
            "ticks": ""
           }
          },
          "scene": {
           "xaxis": {
            "backgroundcolor": "#E5ECF6",
            "gridcolor": "white",
            "gridwidth": 2,
            "linecolor": "white",
            "showbackground": true,
            "ticks": "",
            "zerolinecolor": "white"
           },
           "yaxis": {
            "backgroundcolor": "#E5ECF6",
            "gridcolor": "white",
            "gridwidth": 2,
            "linecolor": "white",
            "showbackground": true,
            "ticks": "",
            "zerolinecolor": "white"
           },
           "zaxis": {
            "backgroundcolor": "#E5ECF6",
            "gridcolor": "white",
            "gridwidth": 2,
            "linecolor": "white",
            "showbackground": true,
            "ticks": "",
            "zerolinecolor": "white"
           }
          },
          "shapedefaults": {
           "line": {
            "color": "#2a3f5f"
           }
          },
          "ternary": {
           "aaxis": {
            "gridcolor": "white",
            "linecolor": "white",
            "ticks": ""
           },
           "baxis": {
            "gridcolor": "white",
            "linecolor": "white",
            "ticks": ""
           },
           "bgcolor": "#E5ECF6",
           "caxis": {
            "gridcolor": "white",
            "linecolor": "white",
            "ticks": ""
           }
          },
          "title": {
           "x": 0.05
          },
          "xaxis": {
           "automargin": true,
           "gridcolor": "white",
           "linecolor": "white",
           "ticks": "",
           "title": {
            "standoff": 15
           },
           "zerolinecolor": "white",
           "zerolinewidth": 2
          },
          "yaxis": {
           "automargin": true,
           "gridcolor": "white",
           "linecolor": "white",
           "ticks": "",
           "title": {
            "standoff": 15
           },
           "zerolinecolor": "white",
           "zerolinewidth": 2
          }
         }
        },
        "title": {
         "text": "Kappa -0.042805373458029816"
        },
        "width": 800,
        "xaxis": {
         "title": {
          "text": "Predicted value"
         }
        },
        "yaxis": {
         "title": {
          "text": "Real value"
         }
        }
       }
      }
     },
     "metadata": {},
     "output_type": "display_data"
    }
   ],
   "source": [
    "\n",
    "#A modo de ejemplo muestro kappa y matriz de confusion para 50% de aciertos donde los errores quedan lejos de la clase correcta\n",
    "y_simulado_lejos = [y_test.iloc[sample] if random_list[sample]<50/100 else y_lejos[sample] for sample in range(len(y_test))]\n",
    "\n",
    "display(plot_confusion_matrix(y_test,y_simulado_lejos, \n",
    "                              title = \"Kappa \" + str(cohen_kappa_score(y_test,y_simulado_lejos, weights = 'quadratic'))))\n"
   ]
  },
  {
   "cell_type": "code",
   "execution_count": 20,
   "metadata": {},
   "outputs": [
    {
     "name": "stdout",
     "output_type": "stream",
     "text": [
      "[LightGBM] [Info] Number of positive: 328, number of negative: 11666\n",
      "[LightGBM] [Info] Number of positive: 2472, number of negative: 9522\n",
      "[LightGBM] [Info] Number of positive: 3230, number of negative: 8764\n",
      "[LightGBM] [Info] Number of positive: 2607, number of negative: 9387\n",
      "[LightGBM] [Info] Number of positive: 3357, number of negative: 8637\n",
      "[LightGBM] [Info] Auto-choosing row-wise multi-threading, the overhead of testing was 0.001489 seconds.\n",
      "You can set `force_row_wise=true` to remove the overhead.\n",
      "And if memory is not enough, you can set `force_col_wise=true`.\n",
      "[LightGBM] [Info] Total Bins 438\n",
      "[LightGBM] [Info] Number of data points in the train set: 11994, number of used features: 19\n",
      "[LightGBM] [Info] [binary:BoostFromScore]: pavg=0.027347 -> initscore=-3.571420\n",
      "[LightGBM] [Info] Start training from score -3.571420\n",
      "[LightGBM] [Info] [binary:BoostFromScore]: pavg=0.206103 -> initscore=-1.348577\n",
      "[LightGBM] [Info] Start training from score -1.348577\n",
      "[LightGBM] [Info] [binary:BoostFromScore]: pavg=0.269301 -> initscore=-0.998170\n",
      "[LightGBM] [Info] Start training from score -0.998170\n",
      "[LightGBM] [Info] [binary:BoostFromScore]: pavg=0.217359 -> initscore=-1.281126\n",
      "[LightGBM] [Info] Start training from score -1.281126\n",
      "[LightGBM] [Info] [binary:BoostFromScore]: pavg=0.279890 -> initscore=-0.945008\n",
      "[LightGBM] [Info] Start training from score -0.945008\n"
     ]
    }
   ],
   "source": [
    "#Pruebo un modelo alternativo donde en vez de usar la version multiclass real de lightGBM utilizo One vs All\n",
    "\n",
    "lgb_params = params = {\n",
    "                        'objective': 'multiclassova',\n",
    "                        'num_class': len(y_train.unique())\n",
    "                        }\n",
    "\n",
    "\n",
    "lgb_train_dataset = lgb.Dataset(data=X_train,\n",
    "                                label=y_train)\n",
    "\n",
    "\n",
    "lgb_model = lgb.train(lgb_params,\n",
    "                      lgb_train_dataset)"
   ]
  },
  {
   "cell_type": "code",
   "execution_count": 21,
   "metadata": {},
   "outputs": [
    {
     "data": {
      "application/vnd.plotly.v1+json": {
       "config": {
        "plotlyServerURL": "https://plot.ly"
       },
       "data": [
        {
         "type": "heatmap",
         "x": [
          0,
          1,
          2,
          3,
          4
         ],
         "y": [
          0,
          1,
          2,
          3,
          4
         ],
         "z": [
          [
           7.317073170731707,
           39.02439024390244,
           28.04878048780488,
           7.317073170731707,
           18.29268292682927
          ],
          [
           0.48543689320388345,
           32.847896440129446,
           37.37864077669903,
           7.766990291262135,
           21.521035598705502
          ],
          [
           0.12391573729863693,
           21.437422552664188,
           38.53779429987608,
           11.152416356877323,
           28.74845105328377
          ],
          [
           0.4601226993865031,
           16.87116564417178,
           33.58895705521473,
           19.32515337423313,
           29.754601226993866
          ],
          [
           0.11904761904761905,
           9.047619047619047,
           21.785714285714285,
           6.190476190476191,
           62.857142857142854
          ]
         ]
        }
       ],
       "layout": {
        "annotations": [
         {
          "font": {
           "color": "white"
          },
          "showarrow": false,
          "text": "7.3 - 6",
          "x": 0,
          "xref": "x",
          "y": 0,
          "yref": "y"
         },
         {
          "font": {
           "color": "white"
          },
          "showarrow": false,
          "text": "39.0 - 32",
          "x": 1,
          "xref": "x",
          "y": 0,
          "yref": "y"
         },
         {
          "font": {
           "color": "white"
          },
          "showarrow": false,
          "text": "28.0 - 23",
          "x": 2,
          "xref": "x",
          "y": 0,
          "yref": "y"
         },
         {
          "font": {
           "color": "white"
          },
          "showarrow": false,
          "text": "7.3 - 6",
          "x": 3,
          "xref": "x",
          "y": 0,
          "yref": "y"
         },
         {
          "font": {
           "color": "white"
          },
          "showarrow": false,
          "text": "18.3 - 15",
          "x": 4,
          "xref": "x",
          "y": 0,
          "yref": "y"
         },
         {
          "font": {
           "color": "white"
          },
          "showarrow": false,
          "text": "0.5 - 3",
          "x": 0,
          "xref": "x",
          "y": 1,
          "yref": "y"
         },
         {
          "font": {
           "color": "white"
          },
          "showarrow": false,
          "text": "32.8 - 203",
          "x": 1,
          "xref": "x",
          "y": 1,
          "yref": "y"
         },
         {
          "font": {
           "color": "white"
          },
          "showarrow": false,
          "text": "37.4 - 231",
          "x": 2,
          "xref": "x",
          "y": 1,
          "yref": "y"
         },
         {
          "font": {
           "color": "white"
          },
          "showarrow": false,
          "text": "7.8 - 48",
          "x": 3,
          "xref": "x",
          "y": 1,
          "yref": "y"
         },
         {
          "font": {
           "color": "white"
          },
          "showarrow": false,
          "text": "21.5 - 133",
          "x": 4,
          "xref": "x",
          "y": 1,
          "yref": "y"
         },
         {
          "font": {
           "color": "white"
          },
          "showarrow": false,
          "text": "0.1 - 1",
          "x": 0,
          "xref": "x",
          "y": 2,
          "yref": "y"
         },
         {
          "font": {
           "color": "white"
          },
          "showarrow": false,
          "text": "21.4 - 173",
          "x": 1,
          "xref": "x",
          "y": 2,
          "yref": "y"
         },
         {
          "font": {
           "color": "white"
          },
          "showarrow": false,
          "text": "38.5 - 311",
          "x": 2,
          "xref": "x",
          "y": 2,
          "yref": "y"
         },
         {
          "font": {
           "color": "white"
          },
          "showarrow": false,
          "text": "11.2 - 90",
          "x": 3,
          "xref": "x",
          "y": 2,
          "yref": "y"
         },
         {
          "font": {
           "color": "white"
          },
          "showarrow": false,
          "text": "28.7 - 232",
          "x": 4,
          "xref": "x",
          "y": 2,
          "yref": "y"
         },
         {
          "font": {
           "color": "white"
          },
          "showarrow": false,
          "text": "0.5 - 3",
          "x": 0,
          "xref": "x",
          "y": 3,
          "yref": "y"
         },
         {
          "font": {
           "color": "white"
          },
          "showarrow": false,
          "text": "16.9 - 110",
          "x": 1,
          "xref": "x",
          "y": 3,
          "yref": "y"
         },
         {
          "font": {
           "color": "white"
          },
          "showarrow": false,
          "text": "33.6 - 219",
          "x": 2,
          "xref": "x",
          "y": 3,
          "yref": "y"
         },
         {
          "font": {
           "color": "white"
          },
          "showarrow": false,
          "text": "19.3 - 126",
          "x": 3,
          "xref": "x",
          "y": 3,
          "yref": "y"
         },
         {
          "font": {
           "color": "white"
          },
          "showarrow": false,
          "text": "29.8 - 194",
          "x": 4,
          "xref": "x",
          "y": 3,
          "yref": "y"
         },
         {
          "font": {
           "color": "white"
          },
          "showarrow": false,
          "text": "0.1 - 1",
          "x": 0,
          "xref": "x",
          "y": 4,
          "yref": "y"
         },
         {
          "font": {
           "color": "white"
          },
          "showarrow": false,
          "text": "9.0 - 76",
          "x": 1,
          "xref": "x",
          "y": 4,
          "yref": "y"
         },
         {
          "font": {
           "color": "white"
          },
          "showarrow": false,
          "text": "21.8 - 183",
          "x": 2,
          "xref": "x",
          "y": 4,
          "yref": "y"
         },
         {
          "font": {
           "color": "white"
          },
          "showarrow": false,
          "text": "6.2 - 52",
          "x": 3,
          "xref": "x",
          "y": 4,
          "yref": "y"
         },
         {
          "font": {
           "color": "white"
          },
          "showarrow": false,
          "text": "62.9 - 528",
          "x": 4,
          "xref": "x",
          "y": 4,
          "yref": "y"
         }
        ],
        "height": 800,
        "template": {
         "data": {
          "bar": [
           {
            "error_x": {
             "color": "#2a3f5f"
            },
            "error_y": {
             "color": "#2a3f5f"
            },
            "marker": {
             "line": {
              "color": "#E5ECF6",
              "width": 0.5
             },
             "pattern": {
              "fillmode": "overlay",
              "size": 10,
              "solidity": 0.2
             }
            },
            "type": "bar"
           }
          ],
          "barpolar": [
           {
            "marker": {
             "line": {
              "color": "#E5ECF6",
              "width": 0.5
             },
             "pattern": {
              "fillmode": "overlay",
              "size": 10,
              "solidity": 0.2
             }
            },
            "type": "barpolar"
           }
          ],
          "carpet": [
           {
            "aaxis": {
             "endlinecolor": "#2a3f5f",
             "gridcolor": "white",
             "linecolor": "white",
             "minorgridcolor": "white",
             "startlinecolor": "#2a3f5f"
            },
            "baxis": {
             "endlinecolor": "#2a3f5f",
             "gridcolor": "white",
             "linecolor": "white",
             "minorgridcolor": "white",
             "startlinecolor": "#2a3f5f"
            },
            "type": "carpet"
           }
          ],
          "choropleth": [
           {
            "colorbar": {
             "outlinewidth": 0,
             "ticks": ""
            },
            "type": "choropleth"
           }
          ],
          "contour": [
           {
            "colorbar": {
             "outlinewidth": 0,
             "ticks": ""
            },
            "colorscale": [
             [
              0,
              "#0d0887"
             ],
             [
              0.1111111111111111,
              "#46039f"
             ],
             [
              0.2222222222222222,
              "#7201a8"
             ],
             [
              0.3333333333333333,
              "#9c179e"
             ],
             [
              0.4444444444444444,
              "#bd3786"
             ],
             [
              0.5555555555555556,
              "#d8576b"
             ],
             [
              0.6666666666666666,
              "#ed7953"
             ],
             [
              0.7777777777777778,
              "#fb9f3a"
             ],
             [
              0.8888888888888888,
              "#fdca26"
             ],
             [
              1,
              "#f0f921"
             ]
            ],
            "type": "contour"
           }
          ],
          "contourcarpet": [
           {
            "colorbar": {
             "outlinewidth": 0,
             "ticks": ""
            },
            "type": "contourcarpet"
           }
          ],
          "heatmap": [
           {
            "colorbar": {
             "outlinewidth": 0,
             "ticks": ""
            },
            "colorscale": [
             [
              0,
              "#0d0887"
             ],
             [
              0.1111111111111111,
              "#46039f"
             ],
             [
              0.2222222222222222,
              "#7201a8"
             ],
             [
              0.3333333333333333,
              "#9c179e"
             ],
             [
              0.4444444444444444,
              "#bd3786"
             ],
             [
              0.5555555555555556,
              "#d8576b"
             ],
             [
              0.6666666666666666,
              "#ed7953"
             ],
             [
              0.7777777777777778,
              "#fb9f3a"
             ],
             [
              0.8888888888888888,
              "#fdca26"
             ],
             [
              1,
              "#f0f921"
             ]
            ],
            "type": "heatmap"
           }
          ],
          "heatmapgl": [
           {
            "colorbar": {
             "outlinewidth": 0,
             "ticks": ""
            },
            "colorscale": [
             [
              0,
              "#0d0887"
             ],
             [
              0.1111111111111111,
              "#46039f"
             ],
             [
              0.2222222222222222,
              "#7201a8"
             ],
             [
              0.3333333333333333,
              "#9c179e"
             ],
             [
              0.4444444444444444,
              "#bd3786"
             ],
             [
              0.5555555555555556,
              "#d8576b"
             ],
             [
              0.6666666666666666,
              "#ed7953"
             ],
             [
              0.7777777777777778,
              "#fb9f3a"
             ],
             [
              0.8888888888888888,
              "#fdca26"
             ],
             [
              1,
              "#f0f921"
             ]
            ],
            "type": "heatmapgl"
           }
          ],
          "histogram": [
           {
            "marker": {
             "pattern": {
              "fillmode": "overlay",
              "size": 10,
              "solidity": 0.2
             }
            },
            "type": "histogram"
           }
          ],
          "histogram2d": [
           {
            "colorbar": {
             "outlinewidth": 0,
             "ticks": ""
            },
            "colorscale": [
             [
              0,
              "#0d0887"
             ],
             [
              0.1111111111111111,
              "#46039f"
             ],
             [
              0.2222222222222222,
              "#7201a8"
             ],
             [
              0.3333333333333333,
              "#9c179e"
             ],
             [
              0.4444444444444444,
              "#bd3786"
             ],
             [
              0.5555555555555556,
              "#d8576b"
             ],
             [
              0.6666666666666666,
              "#ed7953"
             ],
             [
              0.7777777777777778,
              "#fb9f3a"
             ],
             [
              0.8888888888888888,
              "#fdca26"
             ],
             [
              1,
              "#f0f921"
             ]
            ],
            "type": "histogram2d"
           }
          ],
          "histogram2dcontour": [
           {
            "colorbar": {
             "outlinewidth": 0,
             "ticks": ""
            },
            "colorscale": [
             [
              0,
              "#0d0887"
             ],
             [
              0.1111111111111111,
              "#46039f"
             ],
             [
              0.2222222222222222,
              "#7201a8"
             ],
             [
              0.3333333333333333,
              "#9c179e"
             ],
             [
              0.4444444444444444,
              "#bd3786"
             ],
             [
              0.5555555555555556,
              "#d8576b"
             ],
             [
              0.6666666666666666,
              "#ed7953"
             ],
             [
              0.7777777777777778,
              "#fb9f3a"
             ],
             [
              0.8888888888888888,
              "#fdca26"
             ],
             [
              1,
              "#f0f921"
             ]
            ],
            "type": "histogram2dcontour"
           }
          ],
          "mesh3d": [
           {
            "colorbar": {
             "outlinewidth": 0,
             "ticks": ""
            },
            "type": "mesh3d"
           }
          ],
          "parcoords": [
           {
            "line": {
             "colorbar": {
              "outlinewidth": 0,
              "ticks": ""
             }
            },
            "type": "parcoords"
           }
          ],
          "pie": [
           {
            "automargin": true,
            "type": "pie"
           }
          ],
          "scatter": [
           {
            "fillpattern": {
             "fillmode": "overlay",
             "size": 10,
             "solidity": 0.2
            },
            "type": "scatter"
           }
          ],
          "scatter3d": [
           {
            "line": {
             "colorbar": {
              "outlinewidth": 0,
              "ticks": ""
             }
            },
            "marker": {
             "colorbar": {
              "outlinewidth": 0,
              "ticks": ""
             }
            },
            "type": "scatter3d"
           }
          ],
          "scattercarpet": [
           {
            "marker": {
             "colorbar": {
              "outlinewidth": 0,
              "ticks": ""
             }
            },
            "type": "scattercarpet"
           }
          ],
          "scattergeo": [
           {
            "marker": {
             "colorbar": {
              "outlinewidth": 0,
              "ticks": ""
             }
            },
            "type": "scattergeo"
           }
          ],
          "scattergl": [
           {
            "marker": {
             "colorbar": {
              "outlinewidth": 0,
              "ticks": ""
             }
            },
            "type": "scattergl"
           }
          ],
          "scattermapbox": [
           {
            "marker": {
             "colorbar": {
              "outlinewidth": 0,
              "ticks": ""
             }
            },
            "type": "scattermapbox"
           }
          ],
          "scatterpolar": [
           {
            "marker": {
             "colorbar": {
              "outlinewidth": 0,
              "ticks": ""
             }
            },
            "type": "scatterpolar"
           }
          ],
          "scatterpolargl": [
           {
            "marker": {
             "colorbar": {
              "outlinewidth": 0,
              "ticks": ""
             }
            },
            "type": "scatterpolargl"
           }
          ],
          "scatterternary": [
           {
            "marker": {
             "colorbar": {
              "outlinewidth": 0,
              "ticks": ""
             }
            },
            "type": "scatterternary"
           }
          ],
          "surface": [
           {
            "colorbar": {
             "outlinewidth": 0,
             "ticks": ""
            },
            "colorscale": [
             [
              0,
              "#0d0887"
             ],
             [
              0.1111111111111111,
              "#46039f"
             ],
             [
              0.2222222222222222,
              "#7201a8"
             ],
             [
              0.3333333333333333,
              "#9c179e"
             ],
             [
              0.4444444444444444,
              "#bd3786"
             ],
             [
              0.5555555555555556,
              "#d8576b"
             ],
             [
              0.6666666666666666,
              "#ed7953"
             ],
             [
              0.7777777777777778,
              "#fb9f3a"
             ],
             [
              0.8888888888888888,
              "#fdca26"
             ],
             [
              1,
              "#f0f921"
             ]
            ],
            "type": "surface"
           }
          ],
          "table": [
           {
            "cells": {
             "fill": {
              "color": "#EBF0F8"
             },
             "line": {
              "color": "white"
             }
            },
            "header": {
             "fill": {
              "color": "#C8D4E3"
             },
             "line": {
              "color": "white"
             }
            },
            "type": "table"
           }
          ]
         },
         "layout": {
          "annotationdefaults": {
           "arrowcolor": "#2a3f5f",
           "arrowhead": 0,
           "arrowwidth": 1
          },
          "autotypenumbers": "strict",
          "coloraxis": {
           "colorbar": {
            "outlinewidth": 0,
            "ticks": ""
           }
          },
          "colorscale": {
           "diverging": [
            [
             0,
             "#8e0152"
            ],
            [
             0.1,
             "#c51b7d"
            ],
            [
             0.2,
             "#de77ae"
            ],
            [
             0.3,
             "#f1b6da"
            ],
            [
             0.4,
             "#fde0ef"
            ],
            [
             0.5,
             "#f7f7f7"
            ],
            [
             0.6,
             "#e6f5d0"
            ],
            [
             0.7,
             "#b8e186"
            ],
            [
             0.8,
             "#7fbc41"
            ],
            [
             0.9,
             "#4d9221"
            ],
            [
             1,
             "#276419"
            ]
           ],
           "sequential": [
            [
             0,
             "#0d0887"
            ],
            [
             0.1111111111111111,
             "#46039f"
            ],
            [
             0.2222222222222222,
             "#7201a8"
            ],
            [
             0.3333333333333333,
             "#9c179e"
            ],
            [
             0.4444444444444444,
             "#bd3786"
            ],
            [
             0.5555555555555556,
             "#d8576b"
            ],
            [
             0.6666666666666666,
             "#ed7953"
            ],
            [
             0.7777777777777778,
             "#fb9f3a"
            ],
            [
             0.8888888888888888,
             "#fdca26"
            ],
            [
             1,
             "#f0f921"
            ]
           ],
           "sequentialminus": [
            [
             0,
             "#0d0887"
            ],
            [
             0.1111111111111111,
             "#46039f"
            ],
            [
             0.2222222222222222,
             "#7201a8"
            ],
            [
             0.3333333333333333,
             "#9c179e"
            ],
            [
             0.4444444444444444,
             "#bd3786"
            ],
            [
             0.5555555555555556,
             "#d8576b"
            ],
            [
             0.6666666666666666,
             "#ed7953"
            ],
            [
             0.7777777777777778,
             "#fb9f3a"
            ],
            [
             0.8888888888888888,
             "#fdca26"
            ],
            [
             1,
             "#f0f921"
            ]
           ]
          },
          "colorway": [
           "#636efa",
           "#EF553B",
           "#00cc96",
           "#ab63fa",
           "#FFA15A",
           "#19d3f3",
           "#FF6692",
           "#B6E880",
           "#FF97FF",
           "#FECB52"
          ],
          "font": {
           "color": "#2a3f5f"
          },
          "geo": {
           "bgcolor": "white",
           "lakecolor": "white",
           "landcolor": "#E5ECF6",
           "showlakes": true,
           "showland": true,
           "subunitcolor": "white"
          },
          "hoverlabel": {
           "align": "left"
          },
          "hovermode": "closest",
          "mapbox": {
           "style": "light"
          },
          "paper_bgcolor": "white",
          "plot_bgcolor": "#E5ECF6",
          "polar": {
           "angularaxis": {
            "gridcolor": "white",
            "linecolor": "white",
            "ticks": ""
           },
           "bgcolor": "#E5ECF6",
           "radialaxis": {
            "gridcolor": "white",
            "linecolor": "white",
            "ticks": ""
           }
          },
          "scene": {
           "xaxis": {
            "backgroundcolor": "#E5ECF6",
            "gridcolor": "white",
            "gridwidth": 2,
            "linecolor": "white",
            "showbackground": true,
            "ticks": "",
            "zerolinecolor": "white"
           },
           "yaxis": {
            "backgroundcolor": "#E5ECF6",
            "gridcolor": "white",
            "gridwidth": 2,
            "linecolor": "white",
            "showbackground": true,
            "ticks": "",
            "zerolinecolor": "white"
           },
           "zaxis": {
            "backgroundcolor": "#E5ECF6",
            "gridcolor": "white",
            "gridwidth": 2,
            "linecolor": "white",
            "showbackground": true,
            "ticks": "",
            "zerolinecolor": "white"
           }
          },
          "shapedefaults": {
           "line": {
            "color": "#2a3f5f"
           }
          },
          "ternary": {
           "aaxis": {
            "gridcolor": "white",
            "linecolor": "white",
            "ticks": ""
           },
           "baxis": {
            "gridcolor": "white",
            "linecolor": "white",
            "ticks": ""
           },
           "bgcolor": "#E5ECF6",
           "caxis": {
            "gridcolor": "white",
            "linecolor": "white",
            "ticks": ""
           }
          },
          "title": {
           "x": 0.05
          },
          "xaxis": {
           "automargin": true,
           "gridcolor": "white",
           "linecolor": "white",
           "ticks": "",
           "title": {
            "standoff": 15
           },
           "zerolinecolor": "white",
           "zerolinewidth": 2
          },
          "yaxis": {
           "automargin": true,
           "gridcolor": "white",
           "linecolor": "white",
           "ticks": "",
           "title": {
            "standoff": 15
           },
           "zerolinecolor": "white",
           "zerolinewidth": 2
          }
         }
        },
        "title": {
         "text": "Conf Matrix"
        },
        "width": 800,
        "xaxis": {
         "title": {
          "text": "Predicted value"
         }
        },
        "yaxis": {
         "title": {
          "text": "Real value"
         }
        }
       }
      }
     },
     "metadata": {},
     "output_type": "display_data"
    },
    {
     "data": {
      "text/plain": [
       "{'kappa': np.float64(0.33093403829656054),\n",
       " 'accuracy': 0.3914638212737579,\n",
       " 'balanced_accuracy': np.float64(0.32177012028422647)}"
      ]
     },
     "execution_count": 21,
     "metadata": {},
     "output_type": "execute_result"
    }
   ],
   "source": [
    "#MAtriz de confusion y Kappa dfe OVA\n",
    "y_pred = lgb_model.predict(X_test).argmax(axis=1)\n",
    "\n",
    "display(plot_confusion_matrix(y_test,y_pred))\n",
    "\n",
    "{'kappa':cohen_kappa_score(y_test,\n",
    "                y_pred,\n",
    "                weights = 'quadratic'),\n",
    " 'accuracy':accuracy_score(y_test,y_pred),\n",
    " 'balanced_accuracy':balanced_accuracy_score(y_test,y_pred)}\n",
    "\n",
    "\n"
   ]
  },
  {
   "cell_type": "markdown",
   "metadata": {},
   "source": [
    "## Optimizacion de hiperparametros modelo train/test"
   ]
  },
  {
   "cell_type": "code",
   "execution_count": 22,
   "metadata": {},
   "outputs": [],
   "source": [
    "\n",
    "#Funcion que vamos a optimizar. Optuna requiere que usemos el objeto trial para generar los parametros a optimizar\n",
    "def lgb_objective(trial):\n",
    "    #PArametros para LightGBM\n",
    "    lgb_params = {      \n",
    "                        #PArametros fijos\n",
    "                        'objective': 'multiclass',\n",
    "                        'verbosity':-1,\n",
    "                        'num_class': len(y_train.unique()),\n",
    "                        #Hiperparametros a optimizar utilizando suggest_float o suggest_int segun el tipo de dato\n",
    "                        #Se indica el nombre del parametro, valor minimo, valor maximo \n",
    "                        #en elgunos casos el parametro log=True para parametros que requieren buscar en esa escala\n",
    "                        'lambda_l1': trial.suggest_float('lambda_l1', 1e-8, 10.0, log=True),\n",
    "                        'lambda_l2': trial.suggest_float('lambda_l2', 1e-8, 10.0, log=True),\n",
    "                        'num_leaves': trial.suggest_int('num_leaves', 2, 256),\n",
    "                        'feature_fraction': trial.suggest_float('feature_fraction', 0.4, 1.0),\n",
    "                        'bagging_fraction': trial.suggest_float('bagging_fraction', 0.4, 1.0),\n",
    "                        'bagging_freq': trial.suggest_int('bagging_freq', 1, 7),\n",
    "                        'min_child_samples': trial.suggest_int('min_child_samples', 5, 100),\n",
    "                        } \n",
    "\n",
    "    #Genero objeto dataset de entrenamiento\n",
    "    lgb_train_dataset = lgb.Dataset(data=X_train,\n",
    "                                    label=y_train)\n",
    "\n",
    "    #ajuste de modelo\n",
    "    lgb_model = lgb.train(lgb_params,\n",
    "                        lgb_train_dataset)\n",
    "    \n",
    "    #Devuelvo el score en test\n",
    "    return(cohen_kappa_score(y_test,lgb_model.predict(X_test).argmax(axis=1),\n",
    "                             weights = 'quadratic'))"
   ]
  },
  {
   "cell_type": "code",
   "execution_count": 23,
   "metadata": {},
   "outputs": [
    {
     "name": "stderr",
     "output_type": "stream",
     "text": [
      "[I 2024-08-16 23:28:55,597] Using an existing study with name '04 - LGB Multiclass' instead of creating a new one.\n",
      "[I 2024-08-16 23:28:57,982] Trial 300 finished with value: 0.3076780242061423 and parameters: {'lambda_l1': 0.6907014693156471, 'lambda_l2': 5.383328563727764e-07, 'num_leaves': 31, 'feature_fraction': 0.9569383538510485, 'bagging_fraction': 0.5342893927435172, 'bagging_freq': 7, 'min_child_samples': 73}. Best is trial 241 with value: 0.33769755881911834.\n",
      "[I 2024-08-16 23:29:00,295] Trial 301 finished with value: 0.327455004831692 and parameters: {'lambda_l1': 3.6912782658985037, 'lambda_l2': 1.0222838686384494e-07, 'num_leaves': 56, 'feature_fraction': 0.7312793628811229, 'bagging_fraction': 0.5842357939487035, 'bagging_freq': 6, 'min_child_samples': 67}. Best is trial 241 with value: 0.33769755881911834.\n",
      "[I 2024-08-16 23:29:02,137] Trial 302 finished with value: 0.31850957994397544 and parameters: {'lambda_l1': 4.3274047063278305, 'lambda_l2': 6.029285848550593e-08, 'num_leaves': 69, 'feature_fraction': 0.6855283663670332, 'bagging_fraction': 0.574872918996615, 'bagging_freq': 6, 'min_child_samples': 67}. Best is trial 241 with value: 0.33769755881911834.\n",
      "[I 2024-08-16 23:29:04,536] Trial 303 finished with value: 0.320640761626798 and parameters: {'lambda_l1': 2.7790795067225074, 'lambda_l2': 8.689262963431501e-08, 'num_leaves': 44, 'feature_fraction': 0.8188815363470449, 'bagging_fraction': 0.5534603775116377, 'bagging_freq': 6, 'min_child_samples': 55}. Best is trial 241 with value: 0.33769755881911834.\n",
      "[I 2024-08-16 23:29:06,977] Trial 304 finished with value: 0.3208321238603229 and parameters: {'lambda_l1': 8.878519629545702e-05, 'lambda_l2': 1.1181129802821193e-07, 'num_leaves': 47, 'feature_fraction': 0.865855624994852, 'bagging_fraction': 0.5831826978680148, 'bagging_freq': 6, 'min_child_samples': 64}. Best is trial 241 with value: 0.33769755881911834.\n",
      "[I 2024-08-16 23:29:08,942] Trial 305 finished with value: 0.3116478741842482 and parameters: {'lambda_l1': 4.269401608269953, 'lambda_l2': 5.1283024816443085e-08, 'num_leaves': 55, 'feature_fraction': 0.9015844450918765, 'bagging_fraction': 0.5903999920306795, 'bagging_freq': 6, 'min_child_samples': 68}. Best is trial 241 with value: 0.33769755881911834.\n",
      "[I 2024-08-16 23:29:11,022] Trial 306 finished with value: 0.306292586487225 and parameters: {'lambda_l1': 1.8591114235085104, 'lambda_l2': 1.6783098042821247e-07, 'num_leaves': 38, 'feature_fraction': 0.7626094576605209, 'bagging_fraction': 0.5667348098143397, 'bagging_freq': 6, 'min_child_samples': 65}. Best is trial 241 with value: 0.33769755881911834.\n",
      "[I 2024-08-16 23:29:13,498] Trial 307 finished with value: 0.33068178732641273 and parameters: {'lambda_l1': 0.002021432151449966, 'lambda_l2': 0.014669097537706859, 'num_leaves': 42, 'feature_fraction': 0.73473038920788, 'bagging_fraction': 0.5618255366413225, 'bagging_freq': 6, 'min_child_samples': 92}. Best is trial 241 with value: 0.33769755881911834.\n",
      "[I 2024-08-16 23:29:15,998] Trial 308 finished with value: 0.3227628132353577 and parameters: {'lambda_l1': 0.0005703946897095972, 'lambda_l2': 0.02235275973186579, 'num_leaves': 52, 'feature_fraction': 0.7290049844550177, 'bagging_fraction': 0.5555118964047374, 'bagging_freq': 6, 'min_child_samples': 97}. Best is trial 241 with value: 0.33769755881911834.\n",
      "[I 2024-08-16 23:29:18,591] Trial 309 finished with value: 0.3150052745780698 and parameters: {'lambda_l1': 0.00029646164883996465, 'lambda_l2': 0.005930634366369753, 'num_leaves': 60, 'feature_fraction': 0.7299307647362894, 'bagging_fraction': 0.5419472077250514, 'bagging_freq': 6, 'min_child_samples': 91}. Best is trial 241 with value: 0.33769755881911834.\n",
      "[I 2024-08-16 23:29:20,962] Trial 310 finished with value: 0.3019387485241146 and parameters: {'lambda_l1': 0.0007175315165043227, 'lambda_l2': 0.011616384250024564, 'num_leaves': 47, 'feature_fraction': 0.5887189756781286, 'bagging_fraction': 0.5249315027905023, 'bagging_freq': 6, 'min_child_samples': 93}. Best is trial 241 with value: 0.33769755881911834.\n",
      "[I 2024-08-16 23:29:22,908] Trial 311 finished with value: 0.31949236789092195 and parameters: {'lambda_l1': 0.0015378189599248248, 'lambda_l2': 0.009795816596823695, 'num_leaves': 39, 'feature_fraction': 0.6213929559153988, 'bagging_fraction': 0.5060477814910784, 'bagging_freq': 6, 'min_child_samples': 96}. Best is trial 241 with value: 0.33769755881911834.\n",
      "[I 2024-08-16 23:29:25,119] Trial 312 finished with value: 0.30437659017602636 and parameters: {'lambda_l1': 0.0021689327493299836, 'lambda_l2': 2.1382429292229113e-07, 'num_leaves': 43, 'feature_fraction': 0.9756538891912017, 'bagging_fraction': 0.5353812511258086, 'bagging_freq': 6, 'min_child_samples': 89}. Best is trial 241 with value: 0.33769755881911834.\n",
      "[I 2024-08-16 23:29:27,029] Trial 313 finished with value: 0.3206115926139863 and parameters: {'lambda_l1': 1.214129334269673, 'lambda_l2': 1.0877690634193343e-07, 'num_leaves': 35, 'feature_fraction': 0.9315662653178165, 'bagging_fraction': 0.5607339268675702, 'bagging_freq': 6, 'min_child_samples': 92}. Best is trial 241 with value: 0.33769755881911834.\n",
      "[I 2024-08-16 23:29:28,812] Trial 314 finished with value: 0.31316166707195825 and parameters: {'lambda_l1': 2.557806237014637, 'lambda_l2': 0.015036351178572846, 'num_leaves': 30, 'feature_fraction': 0.5550154950164525, 'bagging_fraction': 0.5144257829948367, 'bagging_freq': 6, 'min_child_samples': 52}. Best is trial 241 with value: 0.33769755881911834.\n",
      "[I 2024-08-16 23:29:30,978] Trial 315 finished with value: 0.3220331276513013 and parameters: {'lambda_l1': 0.0009513746482623457, 'lambda_l2': 8.095947504233414e-07, 'num_leaves': 42, 'feature_fraction': 0.7013313648766205, 'bagging_fraction': 0.5448058093274931, 'bagging_freq': 6, 'min_child_samples': 61}. Best is trial 241 with value: 0.33769755881911834.\n",
      "[I 2024-08-16 23:29:32,755] Trial 316 finished with value: 0.31961856327617755 and parameters: {'lambda_l1': 0.00013295877773807413, 'lambda_l2': 0.004084976662878853, 'num_leaves': 33, 'feature_fraction': 0.7404272430984338, 'bagging_fraction': 0.4962744416329077, 'bagging_freq': 6, 'min_child_samples': 69}. Best is trial 241 with value: 0.33769755881911834.\n",
      "[I 2024-08-16 23:29:34,354] Trial 317 finished with value: 0.3125434817470586 and parameters: {'lambda_l1': 0.9250939456902572, 'lambda_l2': 3.6245128809213917e-07, 'num_leaves': 26, 'feature_fraction': 0.7149237611880318, 'bagging_fraction': 0.5961995718549343, 'bagging_freq': 6, 'min_child_samples': 67}. Best is trial 241 with value: 0.33769755881911834.\n",
      "[I 2024-08-16 23:29:36,012] Trial 318 finished with value: 0.32359222142973987 and parameters: {'lambda_l1': 6.415854352885054, 'lambda_l2': 1.4833607675028616e-07, 'num_leaves': 49, 'feature_fraction': 0.8878068831316869, 'bagging_fraction': 0.5241233518131355, 'bagging_freq': 6, 'min_child_samples': 71}. Best is trial 241 with value: 0.33769755881911834.\n",
      "[I 2024-08-16 23:29:38,518] Trial 319 finished with value: 0.31291533741956745 and parameters: {'lambda_l1': 1.5580027389528728, 'lambda_l2': 8.175763976313237e-08, 'num_leaves': 91, 'feature_fraction': 0.94363686956211, 'bagging_fraction': 0.6344005258640868, 'bagging_freq': 6, 'min_child_samples': 93}. Best is trial 241 with value: 0.33769755881911834.\n",
      "[I 2024-08-16 23:29:41,250] Trial 320 finished with value: 0.3030084355331303 and parameters: {'lambda_l1': 0.46527894265904773, 'lambda_l2': 0.06297523147523247, 'num_leaves': 58, 'feature_fraction': 0.91668751986581, 'bagging_fraction': 0.6766741139410517, 'bagging_freq': 6, 'min_child_samples': 95}. Best is trial 241 with value: 0.33769755881911834.\n",
      "[I 2024-08-16 23:29:43,475] Trial 321 finished with value: 0.31193965535240653 and parameters: {'lambda_l1': 2.977327070278328e-08, 'lambda_l2': 2.45308597723076e-07, 'num_leaves': 39, 'feature_fraction': 0.9570834450150193, 'bagging_fraction': 0.6538445869853627, 'bagging_freq': 4, 'min_child_samples': 70}. Best is trial 241 with value: 0.33769755881911834.\n",
      "[I 2024-08-16 23:29:45,327] Trial 322 finished with value: 0.32090833620815096 and parameters: {'lambda_l1': 3.819246871678233, 'lambda_l2': 4.764652019128302e-08, 'num_leaves': 63, 'feature_fraction': 0.9023919541014618, 'bagging_fraction': 0.5145538254768725, 'bagging_freq': 6, 'min_child_samples': 91}. Best is trial 241 with value: 0.33769755881911834.\n",
      "[I 2024-08-16 23:29:47,141] Trial 323 finished with value: 0.32926124849266813 and parameters: {'lambda_l1': 2.1221528315283655, 'lambda_l2': 2.4496786726878734, 'num_leaves': 31, 'feature_fraction': 0.9259854373377043, 'bagging_fraction': 0.5336240872344448, 'bagging_freq': 6, 'min_child_samples': 98}. Best is trial 241 with value: 0.33769755881911834.\n",
      "[I 2024-08-16 23:29:49,116] Trial 324 finished with value: 0.3149170960297133 and parameters: {'lambda_l1': 0.0011475570646797143, 'lambda_l2': 0.7654381188196843, 'num_leaves': 32, 'feature_fraction': 0.9350443938953337, 'bagging_fraction': 0.5319750994269865, 'bagging_freq': 6, 'min_child_samples': 97}. Best is trial 241 with value: 0.33769755881911834.\n",
      "[I 2024-08-16 23:29:51,166] Trial 325 finished with value: 0.3211556412157438 and parameters: {'lambda_l1': 2.678919299385327, 'lambda_l2': 1.4404173492081467, 'num_leaves': 54, 'feature_fraction': 0.9216573779763044, 'bagging_fraction': 0.5494126461689018, 'bagging_freq': 6, 'min_child_samples': 97}. Best is trial 241 with value: 0.33769755881911834.\n",
      "[I 2024-08-16 23:29:53,103] Trial 326 finished with value: 0.3229958377578087 and parameters: {'lambda_l1': 1.8525740176779308, 'lambda_l2': 4.619972679054233, 'num_leaves': 45, 'feature_fraction': 0.7464200906556457, 'bagging_fraction': 0.5641326481835196, 'bagging_freq': 6, 'min_child_samples': 100}. Best is trial 241 with value: 0.33769755881911834.\n",
      "[I 2024-08-16 23:29:54,418] Trial 327 finished with value: 0.32201559612294484 and parameters: {'lambda_l1': 9.641729335374011, 'lambda_l2': 2.3045346384831995, 'num_leaves': 35, 'feature_fraction': 0.9654507488579038, 'bagging_fraction': 0.535789498358204, 'bagging_freq': 6, 'min_child_samples': 98}. Best is trial 241 with value: 0.33769755881911834.\n",
      "[I 2024-08-16 23:29:56,512] Trial 328 finished with value: 0.3136282178046901 and parameters: {'lambda_l1': 0.8002763069083415, 'lambda_l2': 3.495986245545788, 'num_leaves': 40, 'feature_fraction': 0.46920900558976575, 'bagging_fraction': 0.48254975582240467, 'bagging_freq': 6, 'min_child_samples': 95}. Best is trial 241 with value: 0.33769755881911834.\n",
      "[I 2024-08-16 23:29:58,176] Trial 329 finished with value: 0.32979023000262964 and parameters: {'lambda_l1': 1.175964207938676, 'lambda_l2': 4.992099953883829e-07, 'num_leaves': 27, 'feature_fraction': 0.9473235678940285, 'bagging_fraction': 0.5234702635118652, 'bagging_freq': 6, 'min_child_samples': 89}. Best is trial 241 with value: 0.33769755881911834.\n",
      "[I 2024-08-16 23:29:59,960] Trial 330 finished with value: 0.3185732793484294 and parameters: {'lambda_l1': 0.3437168231514516, 'lambda_l2': 1.0291367652794583e-06, 'num_leaves': 30, 'feature_fraction': 0.953330606240255, 'bagging_fraction': 0.5260590342345383, 'bagging_freq': 6, 'min_child_samples': 88}. Best is trial 241 with value: 0.33769755881911834.\n",
      "[I 2024-08-16 23:30:02,581] Trial 331 finished with value: 0.3307774105295952 and parameters: {'lambda_l1': 1.1920577466156277, 'lambda_l2': 5.718345188990968e-07, 'num_leaves': 238, 'feature_fraction': 0.9853186157145237, 'bagging_fraction': 0.5461101713205485, 'bagging_freq': 6, 'min_child_samples': 90}. Best is trial 241 with value: 0.33769755881911834.\n",
      "[I 2024-08-16 23:30:05,056] Trial 332 finished with value: 0.31027040729374966 and parameters: {'lambda_l1': 0.5387745197947195, 'lambda_l2': 6.338504403047322e-07, 'num_leaves': 223, 'feature_fraction': 0.9768538890688416, 'bagging_fraction': 0.5382476388504499, 'bagging_freq': 6, 'min_child_samples': 87}. Best is trial 241 with value: 0.33769755881911834.\n",
      "[I 2024-08-16 23:30:07,289] Trial 333 finished with value: 0.3124576994485504 and parameters: {'lambda_l1': 1.0605988904705748, 'lambda_l2': 1.6716710078203e-06, 'num_leaves': 253, 'feature_fraction': 0.9677749295696256, 'bagging_fraction': 0.5472888580429461, 'bagging_freq': 7, 'min_child_samples': 90}. Best is trial 241 with value: 0.33769755881911834.\n",
      "[I 2024-08-16 23:30:09,034] Trial 334 finished with value: 0.321638806446811 and parameters: {'lambda_l1': 0.7960166164887166, 'lambda_l2': 5.2745030629089e-07, 'num_leaves': 26, 'feature_fraction': 0.9897712782076653, 'bagging_fraction': 0.5238356116088496, 'bagging_freq': 6, 'min_child_samples': 88}. Best is trial 241 with value: 0.33769755881911834.\n",
      "[I 2024-08-16 23:30:11,218] Trial 335 finished with value: 0.32273848484729495 and parameters: {'lambda_l1': 1.3184104342820802, 'lambda_l2': 1.0569223369784365e-06, 'num_leaves': 244, 'feature_fraction': 0.997318265903179, 'bagging_fraction': 0.5113202374341212, 'bagging_freq': 6, 'min_child_samples': 91}. Best is trial 241 with value: 0.33769755881911834.\n",
      "[I 2024-08-16 23:30:14,265] Trial 336 finished with value: 0.3129521472828233 and parameters: {'lambda_l1': 0.0003372736052883699, 'lambda_l2': 4.244046062365903e-07, 'num_leaves': 228, 'feature_fraction': 0.9423976491188849, 'bagging_fraction': 0.5364988859193147, 'bagging_freq': 6, 'min_child_samples': 92}. Best is trial 241 with value: 0.33769755881911834.\n",
      "[I 2024-08-16 23:30:16,274] Trial 337 finished with value: 0.3194101674217349 and parameters: {'lambda_l1': 0.6542062793641805, 'lambda_l2': 7.29663729718566, 'num_leaves': 239, 'feature_fraction': 0.9817655046915664, 'bagging_fraction': 0.5544888402469524, 'bagging_freq': 7, 'min_child_samples': 99}. Best is trial 241 with value: 0.33769755881911834.\n",
      "[I 2024-08-16 23:30:18,497] Trial 338 finished with value: 0.31744623515171677 and parameters: {'lambda_l1': 0.2588072416384382, 'lambda_l2': 8.217145311660868e-07, 'num_leaves': 236, 'feature_fraction': 0.9607384347791043, 'bagging_fraction': 0.5262552343664985, 'bagging_freq': 6, 'min_child_samples': 94}. Best is trial 241 with value: 0.33769755881911834.\n",
      "[I 2024-08-16 23:30:20,869] Trial 339 finished with value: 0.310341627090317 and parameters: {'lambda_l1': 0.0034631781003707004, 'lambda_l2': 3.2410714613692847e-07, 'num_leaves': 207, 'feature_fraction': 0.9825506498359852, 'bagging_fraction': 0.5101634745769078, 'bagging_freq': 6, 'min_child_samples': 90}. Best is trial 241 with value: 0.33769755881911834.\n",
      "[I 2024-08-16 23:30:23,167] Trial 340 finished with value: 0.3242976698107458 and parameters: {'lambda_l1': 1.337868836399421, 'lambda_l2': 0.038696246190092425, 'num_leaves': 228, 'feature_fraction': 0.9541367011436707, 'bagging_fraction': 0.5453465804133893, 'bagging_freq': 6, 'min_child_samples': 89}. Best is trial 241 with value: 0.33769755881911834.\n",
      "[I 2024-08-16 23:30:24,898] Trial 341 finished with value: 0.31433798298032356 and parameters: {'lambda_l1': 1.1937594015917554, 'lambda_l2': 2.552864821950326, 'num_leaves': 29, 'feature_fraction': 0.9420718988637903, 'bagging_fraction': 0.5201224471861451, 'bagging_freq': 4, 'min_child_samples': 94}. Best is trial 241 with value: 0.33769755881911834.\n",
      "[I 2024-08-16 23:30:28,178] Trial 342 finished with value: 0.30332654189249286 and parameters: {'lambda_l1': 4.529016086264021e-05, 'lambda_l2': 0.015287946042826552, 'num_leaves': 234, 'feature_fraction': 0.929695564269179, 'bagging_fraction': 0.6918247859827517, 'bagging_freq': 6, 'min_child_samples': 72}. Best is trial 241 with value: 0.33769755881911834.\n",
      "[I 2024-08-16 23:30:29,943] Trial 343 finished with value: 0.3255812595099926 and parameters: {'lambda_l1': 2.0626236986260604, 'lambda_l2': 0.18649717997652807, 'num_leaves': 34, 'feature_fraction': 0.9103941219910751, 'bagging_fraction': 0.5316229524687954, 'bagging_freq': 6, 'min_child_samples': 74}. Best is trial 241 with value: 0.33769755881911834.\n",
      "[I 2024-08-16 23:30:31,974] Trial 344 finished with value: 0.327790107670742 and parameters: {'lambda_l1': 0.4477920194060697, 'lambda_l2': 5.949995114573493e-07, 'num_leaves': 165, 'feature_fraction': 0.9675112643085158, 'bagging_fraction': 0.5018166672642215, 'bagging_freq': 7, 'min_child_samples': 96}. Best is trial 241 with value: 0.33769755881911834.\n",
      "[I 2024-08-16 23:30:33,539] Trial 345 finished with value: 0.3139239783633593 and parameters: {'lambda_l1': 0.39065085943717376, 'lambda_l2': 6.337567854241603e-07, 'num_leaves': 24, 'feature_fraction': 0.9703182395697013, 'bagging_fraction': 0.5042557903635068, 'bagging_freq': 7, 'min_child_samples': 98}. Best is trial 241 with value: 0.33769755881911834.\n",
      "[I 2024-08-16 23:30:35,525] Trial 346 finished with value: 0.32900779926599366 and parameters: {'lambda_l1': 0.48855186450603194, 'lambda_l2': 2.355802273764495e-06, 'num_leaves': 128, 'feature_fraction': 0.9837905103300757, 'bagging_fraction': 0.4679962218854854, 'bagging_freq': 7, 'min_child_samples': 96}. Best is trial 241 with value: 0.33769755881911834.\n",
      "[I 2024-08-16 23:30:37,468] Trial 347 finished with value: 0.32135087349845115 and parameters: {'lambda_l1': 0.5678426885915504, 'lambda_l2': 3.068357569758218e-06, 'num_leaves': 134, 'feature_fraction': 0.9868832579426161, 'bagging_fraction': 0.4571358450561908, 'bagging_freq': 7, 'min_child_samples': 96}. Best is trial 241 with value: 0.33769755881911834.\n",
      "[I 2024-08-16 23:30:39,416] Trial 348 finished with value: 0.3186957794115257 and parameters: {'lambda_l1': 0.7767418720451894, 'lambda_l2': 1.910739517867773e-06, 'num_leaves': 131, 'feature_fraction': 0.9961605689640739, 'bagging_fraction': 0.4780282971089932, 'bagging_freq': 7, 'min_child_samples': 95}. Best is trial 241 with value: 0.33769755881911834.\n",
      "[I 2024-08-16 23:30:41,387] Trial 349 finished with value: 0.3248417616407445 and parameters: {'lambda_l1': 0.4026651707805974, 'lambda_l2': 1.2656320420079157e-06, 'num_leaves': 164, 'feature_fraction': 0.9814581072028306, 'bagging_fraction': 0.4425452197361805, 'bagging_freq': 7, 'min_child_samples': 99}. Best is trial 241 with value: 0.33769755881911834.\n",
      "[I 2024-08-16 23:30:43,911] Trial 350 finished with value: 0.31282234079690263 and parameters: {'lambda_l1': 0.69585499224324, 'lambda_l2': 1.0101063177730544e-06, 'num_leaves': 215, 'feature_fraction': 0.9711202915381238, 'bagging_fraction': 0.4925129738096043, 'bagging_freq': 7, 'min_child_samples': 96}. Best is trial 241 with value: 0.33769755881911834.\n",
      "[I 2024-08-16 23:30:45,780] Trial 351 finished with value: 0.3055192901168091 and parameters: {'lambda_l1': 0.9730958061074162, 'lambda_l2': 0.4850585488120797, 'num_leaves': 121, 'feature_fraction': 0.9692177453396367, 'bagging_fraction': 0.4651742779032312, 'bagging_freq': 7, 'min_child_samples': 94}. Best is trial 241 with value: 0.33769755881911834.\n",
      "[I 2024-08-16 23:30:47,656] Trial 352 finished with value: 0.3070282219092846 and parameters: {'lambda_l1': 0.29728070786624394, 'lambda_l2': 6.236658241666117e-07, 'num_leaves': 128, 'feature_fraction': 0.9875392386801793, 'bagging_fraction': 0.4211039393957082, 'bagging_freq': 7, 'min_child_samples': 92}. Best is trial 241 with value: 0.33769755881911834.\n",
      "[I 2024-08-16 23:30:49,659] Trial 353 finished with value: 0.3104385372514161 and parameters: {'lambda_l1': 0.4708699673582784, 'lambda_l2': 0.010164769680509724, 'num_leaves': 104, 'feature_fraction': 0.9490927282625868, 'bagging_fraction': 0.5044789226348331, 'bagging_freq': 7, 'min_child_samples': 97}. Best is trial 241 with value: 0.33769755881911834.\n",
      "[I 2024-08-16 23:30:51,702] Trial 354 finished with value: 0.3215277394443252 and parameters: {'lambda_l1': 1.0895320295341946, 'lambda_l2': 5.144149918328185e-07, 'num_leaves': 126, 'feature_fraction': 0.9633129759964273, 'bagging_fraction': 0.5616189523918744, 'bagging_freq': 7, 'min_child_samples': 100}. Best is trial 241 with value: 0.33769755881911834.\n",
      "[I 2024-08-16 23:30:53,317] Trial 355 finished with value: 0.3276359745594942 and parameters: {'lambda_l1': 0.00016853206556027543, 'lambda_l2': 0.006313557356902562, 'num_leaves': 27, 'feature_fraction': 0.9373118139805265, 'bagging_fraction': 0.5402803876374916, 'bagging_freq': 7, 'min_child_samples': 92}. Best is trial 241 with value: 0.33769755881911834.\n",
      "[I 2024-08-16 23:30:55,182] Trial 356 finished with value: 0.3131579873129856 and parameters: {'lambda_l1': 1.5782335002387529, 'lambda_l2': 8.920729336006182e-07, 'num_leaves': 144, 'feature_fraction': 0.8775022282826281, 'bagging_fraction': 0.4697015162669755, 'bagging_freq': 7, 'min_child_samples': 95}. Best is trial 241 with value: 0.33769755881911834.\n",
      "[I 2024-08-16 23:30:57,646] Trial 357 finished with value: 0.3065229714798149 and parameters: {'lambda_l1': 0.5964061895858639, 'lambda_l2': 2.0985481744805065e-06, 'num_leaves': 116, 'feature_fraction': 0.8509314097967389, 'bagging_fraction': 0.7071947673895131, 'bagging_freq': 7, 'min_child_samples': 98}. Best is trial 241 with value: 0.33769755881911834.\n",
      "[I 2024-08-16 23:30:59,044] Trial 358 finished with value: 0.33357768637353113 and parameters: {'lambda_l1': 7.10371903940587e-05, 'lambda_l2': 3.392945054599702e-07, 'num_leaves': 20, 'feature_fraction': 0.9237031212285401, 'bagging_fraction': 0.5191136909326408, 'bagging_freq': 7, 'min_child_samples': 93}. Best is trial 241 with value: 0.33769755881911834.\n",
      "[I 2024-08-16 23:31:00,475] Trial 359 finished with value: 0.3214616121084568 and parameters: {'lambda_l1': 2.0790871445951575, 'lambda_l2': 1.9902738064102217e-07, 'num_leaves': 21, 'feature_fraction': 0.9257643160941676, 'bagging_fraction': 0.552758591555433, 'bagging_freq': 7, 'min_child_samples': 22}. Best is trial 241 with value: 0.33769755881911834.\n",
      "[I 2024-08-16 23:31:01,891] Trial 360 finished with value: 0.3127394037609187 and parameters: {'lambda_l1': 8.84651510554963e-05, 'lambda_l2': 0.003051667813244956, 'num_leaves': 20, 'feature_fraction': 0.9192221571661507, 'bagging_fraction': 0.5190160052878217, 'bagging_freq': 7, 'min_child_samples': 86}. Best is trial 241 with value: 0.33769755881911834.\n",
      "[I 2024-08-16 23:31:03,439] Trial 361 finished with value: 0.32341447074142127 and parameters: {'lambda_l1': 6.0190321354075326e-05, 'lambda_l2': 3.640768275546475e-07, 'num_leaves': 25, 'feature_fraction': 0.9337310904700312, 'bagging_fraction': 0.5311667121689955, 'bagging_freq': 7, 'min_child_samples': 90}. Best is trial 241 with value: 0.33769755881911834.\n",
      "[I 2024-08-16 23:31:04,738] Trial 362 finished with value: 0.3309753909179909 and parameters: {'lambda_l1': 1.5131740988725304e-05, 'lambda_l2': 0.030575770996657172, 'num_leaves': 18, 'feature_fraction': 0.8901380390505795, 'bagging_fraction': 0.5453189138756956, 'bagging_freq': 6, 'min_child_samples': 93}. Best is trial 241 with value: 0.33769755881911834.\n",
      "[I 2024-08-16 23:31:06,169] Trial 363 finished with value: 0.3333033177934154 and parameters: {'lambda_l1': 1.336940416117566e-05, 'lambda_l2': 0.11293649580124121, 'num_leaves': 16, 'feature_fraction': 0.8890792000330107, 'bagging_fraction': 0.5375453671320953, 'bagging_freq': 6, 'min_child_samples': 93}. Best is trial 241 with value: 0.33769755881911834.\n",
      "[I 2024-08-16 23:31:07,834] Trial 364 finished with value: 0.32274955291701124 and parameters: {'lambda_l1': 2.2318395192149766e-05, 'lambda_l2': 1.6767747638730526, 'num_leaves': 13, 'feature_fraction': 0.8699598497088462, 'bagging_fraction': 0.5414964738665967, 'bagging_freq': 6, 'min_child_samples': 93}. Best is trial 241 with value: 0.33769755881911834.\n",
      "[I 2024-08-16 23:31:09,400] Trial 365 finished with value: 0.3295537288101098 and parameters: {'lambda_l1': 1.5208722321788725e-05, 'lambda_l2': 0.04515530150277004, 'num_leaves': 18, 'feature_fraction': 0.8884935168457448, 'bagging_fraction': 0.5161601784767247, 'bagging_freq': 6, 'min_child_samples': 94}. Best is trial 241 with value: 0.33769755881911834.\n",
      "[I 2024-08-16 23:31:10,898] Trial 366 finished with value: 0.3226107801521165 and parameters: {'lambda_l1': 1.0029425547310646e-05, 'lambda_l2': 0.09532878260390154, 'num_leaves': 18, 'feature_fraction': 0.8845807340713566, 'bagging_fraction': 0.513704409925702, 'bagging_freq': 3, 'min_child_samples': 94}. Best is trial 241 with value: 0.33769755881911834.\n",
      "[I 2024-08-16 23:31:12,213] Trial 367 finished with value: 0.3264603188222428 and parameters: {'lambda_l1': 1.4108262969182674e-05, 'lambda_l2': 0.05516779370026001, 'num_leaves': 16, 'feature_fraction': 0.8930035300785385, 'bagging_fraction': 0.5350517277819579, 'bagging_freq': 6, 'min_child_samples': 94}. Best is trial 241 with value: 0.33769755881911834.\n",
      "[I 2024-08-16 23:31:14,477] Trial 368 finished with value: 0.30950524286916914 and parameters: {'lambda_l1': 1.9447001014552536e-06, 'lambda_l2': 0.03174511800686106, 'num_leaves': 245, 'feature_fraction': 0.838897878624079, 'bagging_fraction': 0.5490022209581599, 'bagging_freq': 6, 'min_child_samples': 96}. Best is trial 241 with value: 0.33769755881911834.\n",
      "[I 2024-08-16 23:31:16,658] Trial 369 finished with value: 0.3157503213955266 and parameters: {'lambda_l1': 1.685089249964864e-05, 'lambda_l2': 0.027661120858901975, 'num_leaves': 78, 'feature_fraction': 0.8671870253326971, 'bagging_fraction': 0.5170950660682376, 'bagging_freq': 6, 'min_child_samples': 93}. Best is trial 241 with value: 0.33769755881911834.\n",
      "[I 2024-08-16 23:31:18,756] Trial 370 finished with value: 0.2953823698998689 and parameters: {'lambda_l1': 1.1307756220159813e-05, 'lambda_l2': 0.10919030978079941, 'num_leaves': 139, 'feature_fraction': 0.8787452478495414, 'bagging_fraction': 0.48938282294510516, 'bagging_freq': 6, 'min_child_samples': 91}. Best is trial 241 with value: 0.33769755881911834.\n",
      "[I 2024-08-16 23:31:20,187] Trial 371 finished with value: 0.3297051693782236 and parameters: {'lambda_l1': 6.022105252563633e-06, 'lambda_l2': 0.022418517789501314, 'num_leaves': 21, 'feature_fraction': 0.8901355405142894, 'bagging_fraction': 0.446849846934468, 'bagging_freq': 6, 'min_child_samples': 89}. Best is trial 241 with value: 0.33769755881911834.\n",
      "[I 2024-08-16 23:31:22,606] Trial 372 finished with value: 0.3160850344155941 and parameters: {'lambda_l1': 5.0363429050341545e-06, 'lambda_l2': 0.022330415014768713, 'num_leaves': 116, 'feature_fraction': 0.8859277282679713, 'bagging_fraction': 0.5135185079443622, 'bagging_freq': 6, 'min_child_samples': 87}. Best is trial 241 with value: 0.33769755881911834.\n",
      "[I 2024-08-16 23:31:23,751] Trial 373 finished with value: 0.33305106542140994 and parameters: {'lambda_l1': 3.723860732920493e-06, 'lambda_l2': 0.05493949041204179, 'num_leaves': 10, 'feature_fraction': 0.8917229475121585, 'bagging_fraction': 0.45143046413431076, 'bagging_freq': 6, 'min_child_samples': 89}. Best is trial 241 with value: 0.33769755881911834.\n",
      "[I 2024-08-16 23:31:24,706] Trial 374 finished with value: 0.3117920794748471 and parameters: {'lambda_l1': 3.1907614126937338e-06, 'lambda_l2': 0.04961022290737366, 'num_leaves': 7, 'feature_fraction': 0.899065676910455, 'bagging_fraction': 0.42826630253445463, 'bagging_freq': 6, 'min_child_samples': 85}. Best is trial 241 with value: 0.33769755881911834.\n",
      "[I 2024-08-16 23:31:25,848] Trial 375 finished with value: 0.32084584564587504 and parameters: {'lambda_l1': 6.427554734560744e-06, 'lambda_l2': 0.10352768424488583, 'num_leaves': 11, 'feature_fraction': 0.8529052640897122, 'bagging_fraction': 0.4348102876113463, 'bagging_freq': 6, 'min_child_samples': 89}. Best is trial 241 with value: 0.33769755881911834.\n",
      "[I 2024-08-16 23:31:26,913] Trial 376 finished with value: 0.3198312893799853 and parameters: {'lambda_l1': 7.362118119816375e-06, 'lambda_l2': 0.062029286028005545, 'num_leaves': 11, 'feature_fraction': 0.8908513277240574, 'bagging_fraction': 0.43892198303806074, 'bagging_freq': 6, 'min_child_samples': 89}. Best is trial 241 with value: 0.33769755881911834.\n",
      "[I 2024-08-16 23:31:28,395] Trial 377 finished with value: 0.31253050017722206 and parameters: {'lambda_l1': 2.4411493336559173e-06, 'lambda_l2': 0.018015222138759248, 'num_leaves': 18, 'feature_fraction': 0.8679977197767027, 'bagging_fraction': 0.4447749067862825, 'bagging_freq': 6, 'min_child_samples': 91}. Best is trial 241 with value: 0.33769755881911834.\n",
      "[I 2024-08-16 23:31:29,910] Trial 378 finished with value: 0.30903885736438585 and parameters: {'lambda_l1': 3.424071348257859e-05, 'lambda_l2': 0.04195596609951259, 'num_leaves': 21, 'feature_fraction': 0.907491030333253, 'bagging_fraction': 0.43031895734554604, 'bagging_freq': 6, 'min_child_samples': 57}. Best is trial 241 with value: 0.33769755881911834.\n",
      "[I 2024-08-16 23:31:31,259] Trial 379 finished with value: 0.2999741248476899 and parameters: {'lambda_l1': 9.055174878274472e-06, 'lambda_l2': 0.14203445735819836, 'num_leaves': 16, 'feature_fraction': 0.879316384168136, 'bagging_fraction': 0.4530201478023127, 'bagging_freq': 6, 'min_child_samples': 92}. Best is trial 241 with value: 0.33769755881911834.\n",
      "[I 2024-08-16 23:31:32,041] Trial 380 finished with value: 0.3145845424579894 and parameters: {'lambda_l1': 4.4474434397804465e-06, 'lambda_l2': 0.031969194063009014, 'num_leaves': 5, 'feature_fraction': 0.8943968149281335, 'bagging_fraction': 0.40528119922325584, 'bagging_freq': 6, 'min_child_samples': 88}. Best is trial 241 with value: 0.33769755881911834.\n",
      "[I 2024-08-16 23:31:33,223] Trial 381 finished with value: 0.3263145764498864 and parameters: {'lambda_l1': 3.3534837245188483e-06, 'lambda_l2': 0.04847639830407362, 'num_leaves': 14, 'feature_fraction': 0.8898145657573289, 'bagging_fraction': 0.4800246980847262, 'bagging_freq': 6, 'min_child_samples': 90}. Best is trial 241 with value: 0.33769755881911834.\n",
      "[I 2024-08-16 23:31:34,671] Trial 382 finished with value: 0.3339137613975247 and parameters: {'lambda_l1': 1.7596412917539657e-05, 'lambda_l2': 0.027666535093179876, 'num_leaves': 22, 'feature_fraction': 0.8769323630378435, 'bagging_fraction': 0.4493745115987958, 'bagging_freq': 6, 'min_child_samples': 94}. Best is trial 241 with value: 0.33769755881911834.\n",
      "[I 2024-08-16 23:31:36,224] Trial 383 finished with value: 0.3138684409041749 and parameters: {'lambda_l1': 1.2103118740007028e-06, 'lambda_l2': 0.019795578448135707, 'num_leaves': 23, 'feature_fraction': 0.8585491943237245, 'bagging_fraction': 0.41093096838076637, 'bagging_freq': 6, 'min_child_samples': 94}. Best is trial 241 with value: 0.33769755881911834.\n",
      "[I 2024-08-16 23:31:37,704] Trial 384 finished with value: 0.3219407201564145 and parameters: {'lambda_l1': 1.638697940088702e-05, 'lambda_l2': 0.07127607345527481, 'num_leaves': 22, 'feature_fraction': 0.8780317102792952, 'bagging_fraction': 0.45963782191260766, 'bagging_freq': 6, 'min_child_samples': 98}. Best is trial 241 with value: 0.33769755881911834.\n",
      "[I 2024-08-16 23:31:39,234] Trial 385 finished with value: 0.31621439746901714 and parameters: {'lambda_l1': 1.8325073329431782e-05, 'lambda_l2': 0.028591669290851555, 'num_leaves': 24, 'feature_fraction': 0.8691858739298031, 'bagging_fraction': 0.4458370564469288, 'bagging_freq': 6, 'min_child_samples': 95}. Best is trial 241 with value: 0.33769755881911834.\n",
      "[I 2024-08-16 23:31:40,898] Trial 386 finished with value: 0.2990962690523694 and parameters: {'lambda_l1': 2.3436468174467294e-05, 'lambda_l2': 0.01648562944339257, 'num_leaves': 29, 'feature_fraction': 0.8881949074929957, 'bagging_fraction': 0.46782653908047866, 'bagging_freq': 6, 'min_child_samples': 48}. Best is trial 241 with value: 0.33769755881911834.\n",
      "[I 2024-08-16 23:31:42,247] Trial 387 finished with value: 0.3190659163429558 and parameters: {'lambda_l1': 5.276416886848097e-06, 'lambda_l2': 0.24428799455470063, 'num_leaves': 19, 'feature_fraction': 0.902027762505248, 'bagging_fraction': 0.45662814477882213, 'bagging_freq': 6, 'min_child_samples': 93}. Best is trial 241 with value: 0.33769755881911834.\n",
      "[I 2024-08-16 23:31:43,229] Trial 388 finished with value: 0.3185111703209975 and parameters: {'lambda_l1': 8.098805658102663e-06, 'lambda_l2': 0.03228894841129352, 'num_leaves': 9, 'feature_fraction': 0.8764252223480716, 'bagging_fraction': 0.458439225090317, 'bagging_freq': 6, 'min_child_samples': 87}. Best is trial 241 with value: 0.33769755881911834.\n",
      "[I 2024-08-16 23:31:45,379] Trial 389 finished with value: 0.32062986118730974 and parameters: {'lambda_l1': 1.4299919011287346e-05, 'lambda_l2': 0.03943213009418616, 'num_leaves': 150, 'feature_fraction': 0.8958494796199753, 'bagging_fraction': 0.4688911266202193, 'bagging_freq': 6, 'min_child_samples': 91}. Best is trial 241 with value: 0.33769755881911834.\n",
      "[I 2024-08-16 23:31:47,258] Trial 390 finished with value: 0.3068274152399596 and parameters: {'lambda_l1': 3.405272944191466e-05, 'lambda_l2': 0.022485583958252852, 'num_leaves': 197, 'feature_fraction': 0.8820917315146658, 'bagging_fraction': 0.4236395321211234, 'bagging_freq': 6, 'min_child_samples': 97}. Best is trial 241 with value: 0.33769755881911834.\n",
      "[I 2024-08-16 23:31:49,239] Trial 391 finished with value: 0.32264520133779606 and parameters: {'lambda_l1': 1.0900465455666398e-05, 'lambda_l2': 0.06898848858823245, 'num_leaves': 173, 'feature_fraction': 0.9996585923068704, 'bagging_fraction': 0.4494122389927403, 'bagging_freq': 6, 'min_child_samples': 95}. Best is trial 241 with value: 0.33769755881911834.\n",
      "[I 2024-08-16 23:31:50,804] Trial 392 finished with value: 0.3208940231079641 and parameters: {'lambda_l1': 7.665204954651766e-06, 'lambda_l2': 0.011494423435335546, 'num_leaves': 26, 'feature_fraction': 0.8984935400259465, 'bagging_fraction': 0.4540991345449043, 'bagging_freq': 6, 'min_child_samples': 92}. Best is trial 241 with value: 0.33769755881911834.\n",
      "[I 2024-08-16 23:31:52,585] Trial 393 finished with value: 0.31979610692459615 and parameters: {'lambda_l1': 4.900984363871724e-05, 'lambda_l2': 0.38598089576052813, 'num_leaves': 30, 'feature_fraction': 0.9071314320631411, 'bagging_fraction': 0.43450852393086487, 'bagging_freq': 6, 'min_child_samples': 89}. Best is trial 241 with value: 0.33769755881911834.\n",
      "[I 2024-08-16 23:31:54,733] Trial 394 finished with value: 0.31232701363138593 and parameters: {'lambda_l1': 2.200493835823894e-05, 'lambda_l2': 0.05460315684180128, 'num_leaves': 250, 'feature_fraction': 0.8642031211543246, 'bagging_fraction': 0.5025693326938152, 'bagging_freq': 6, 'min_child_samples': 93}. Best is trial 241 with value: 0.33769755881911834.\n",
      "[I 2024-08-16 23:31:56,131] Trial 395 finished with value: 0.31531061532589844 and parameters: {'lambda_l1': 5.920774527318118e-06, 'lambda_l2': 0.019790825643583802, 'num_leaves': 20, 'feature_fraction': 0.8879656133214776, 'bagging_fraction': 0.4761407249224236, 'bagging_freq': 6, 'min_child_samples': 98}. Best is trial 241 with value: 0.33769755881911834.\n",
      "[I 2024-08-16 23:31:57,946] Trial 396 finished with value: 0.3311930730731226 and parameters: {'lambda_l1': 1.3387104591015562e-05, 'lambda_l2': 1.1731941686865577, 'num_leaves': 33, 'feature_fraction': 0.9052431607250906, 'bagging_fraction': 0.5263755077247696, 'bagging_freq': 6, 'min_child_samples': 90}. Best is trial 241 with value: 0.33769755881911834.\n",
      "[I 2024-08-16 23:31:59,777] Trial 397 finished with value: 0.3237999709391107 and parameters: {'lambda_l1': 3.0196105123138334e-05, 'lambda_l2': 0.8498606888573638, 'num_leaves': 34, 'feature_fraction': 0.9063975988184133, 'bagging_fraction': 0.5294737669040738, 'bagging_freq': 6, 'min_child_samples': 87}. Best is trial 241 with value: 0.33769755881911834.\n",
      "[I 2024-08-16 23:32:01,564] Trial 398 finished with value: 0.3284157675321828 and parameters: {'lambda_l1': 1.0949939989013459e-05, 'lambda_l2': 2.5837022815737183, 'num_leaves': 31, 'feature_fraction': 0.8976900683809513, 'bagging_fraction': 0.527369384049384, 'bagging_freq': 6, 'min_child_samples': 89}. Best is trial 241 with value: 0.33769755881911834.\n",
      "[I 2024-08-16 23:32:03,157] Trial 399 finished with value: 0.3264844656840028 and parameters: {'lambda_l1': 1.6401025930923164e-05, 'lambda_l2': 0.13876924305267163, 'num_leaves': 25, 'feature_fraction': 0.8720140368631081, 'bagging_fraction': 0.5398854948671603, 'bagging_freq': 6, 'min_child_samples': 85}. Best is trial 241 with value: 0.33769755881911834.\n"
     ]
    }
   ],
   "source": [
    "#Defino el estudio a optimizar\n",
    "study = optuna.create_study(direction='maximize', #buscamos maximizar la metrica\n",
    "                            storage=\"sqlite:///../work/db.sqlite3\",  # Specify the storage URL here.\n",
    "                            study_name=\"04 - LGB Multiclass\", #nombre del experimento\n",
    "                            load_if_exists=True) #continuar si ya existe\n",
    "\n",
    "#Corremos 100 trials para buscar mejores parametros\n",
    "study.optimize(lgb_objective, n_trials=100)"
   ]
  },
  {
   "cell_type": "code",
   "execution_count": 24,
   "metadata": {},
   "outputs": [
    {
     "data": {
      "text/plain": [
       "{'lambda_l1': 1.310525077276578,\n",
       " 'lambda_l2': 1.6977622299137084e-07,\n",
       " 'num_leaves': 40,\n",
       " 'feature_fraction': 0.8974523915259183,\n",
       " 'bagging_fraction': 0.523553173342081,\n",
       " 'bagging_freq': 6,\n",
       " 'min_child_samples': 74}"
      ]
     },
     "execution_count": 24,
     "metadata": {},
     "output_type": "execute_result"
    }
   ],
   "source": [
    "#Obtenemos mejor resultado\n",
    "study.best_params"
   ]
  },
  {
   "cell_type": "code",
   "execution_count": 25,
   "metadata": {},
   "outputs": [
    {
     "data": {
      "application/vnd.plotly.v1+json": {
       "config": {
        "plotlyServerURL": "https://plot.ly"
       },
       "data": [
        {
         "type": "heatmap",
         "x": [
          0,
          1,
          2,
          3,
          4
         ],
         "y": [
          0,
          1,
          2,
          3,
          4
         ],
         "z": [
          [
           4.878048780487805,
           40.243902439024396,
           28.04878048780488,
           9.75609756097561,
           17.073170731707318
          ],
          [
           0.48543689320388345,
           36.73139158576052,
           35.275080906148865,
           8.576051779935275,
           18.932038834951456
          ],
          [
           0.24783147459727387,
           23.296158612143742,
           33.95291201982652,
           14.869888475836431,
           27.63320941759603
          ],
          [
           0.15337423312883436,
           16.87116564417178,
           30.828220858895705,
           23.31288343558282,
           28.834355828220858
          ],
          [
           0.11904761904761905,
           11.547619047619047,
           18.333333333333332,
           9.880952380952381,
           60.11904761904761
          ]
         ]
        }
       ],
       "layout": {
        "annotations": [
         {
          "font": {
           "color": "white"
          },
          "showarrow": false,
          "text": "4.9 - 4",
          "x": 0,
          "xref": "x",
          "y": 0,
          "yref": "y"
         },
         {
          "font": {
           "color": "white"
          },
          "showarrow": false,
          "text": "40.2 - 33",
          "x": 1,
          "xref": "x",
          "y": 0,
          "yref": "y"
         },
         {
          "font": {
           "color": "white"
          },
          "showarrow": false,
          "text": "28.0 - 23",
          "x": 2,
          "xref": "x",
          "y": 0,
          "yref": "y"
         },
         {
          "font": {
           "color": "white"
          },
          "showarrow": false,
          "text": "9.8 - 8",
          "x": 3,
          "xref": "x",
          "y": 0,
          "yref": "y"
         },
         {
          "font": {
           "color": "white"
          },
          "showarrow": false,
          "text": "17.1 - 14",
          "x": 4,
          "xref": "x",
          "y": 0,
          "yref": "y"
         },
         {
          "font": {
           "color": "white"
          },
          "showarrow": false,
          "text": "0.5 - 3",
          "x": 0,
          "xref": "x",
          "y": 1,
          "yref": "y"
         },
         {
          "font": {
           "color": "white"
          },
          "showarrow": false,
          "text": "36.7 - 227",
          "x": 1,
          "xref": "x",
          "y": 1,
          "yref": "y"
         },
         {
          "font": {
           "color": "white"
          },
          "showarrow": false,
          "text": "35.3 - 218",
          "x": 2,
          "xref": "x",
          "y": 1,
          "yref": "y"
         },
         {
          "font": {
           "color": "white"
          },
          "showarrow": false,
          "text": "8.6 - 53",
          "x": 3,
          "xref": "x",
          "y": 1,
          "yref": "y"
         },
         {
          "font": {
           "color": "white"
          },
          "showarrow": false,
          "text": "18.9 - 117",
          "x": 4,
          "xref": "x",
          "y": 1,
          "yref": "y"
         },
         {
          "font": {
           "color": "white"
          },
          "showarrow": false,
          "text": "0.2 - 2",
          "x": 0,
          "xref": "x",
          "y": 2,
          "yref": "y"
         },
         {
          "font": {
           "color": "white"
          },
          "showarrow": false,
          "text": "23.3 - 188",
          "x": 1,
          "xref": "x",
          "y": 2,
          "yref": "y"
         },
         {
          "font": {
           "color": "white"
          },
          "showarrow": false,
          "text": "34.0 - 274",
          "x": 2,
          "xref": "x",
          "y": 2,
          "yref": "y"
         },
         {
          "font": {
           "color": "white"
          },
          "showarrow": false,
          "text": "14.9 - 120",
          "x": 3,
          "xref": "x",
          "y": 2,
          "yref": "y"
         },
         {
          "font": {
           "color": "white"
          },
          "showarrow": false,
          "text": "27.6 - 223",
          "x": 4,
          "xref": "x",
          "y": 2,
          "yref": "y"
         },
         {
          "font": {
           "color": "white"
          },
          "showarrow": false,
          "text": "0.2 - 1",
          "x": 0,
          "xref": "x",
          "y": 3,
          "yref": "y"
         },
         {
          "font": {
           "color": "white"
          },
          "showarrow": false,
          "text": "16.9 - 110",
          "x": 1,
          "xref": "x",
          "y": 3,
          "yref": "y"
         },
         {
          "font": {
           "color": "white"
          },
          "showarrow": false,
          "text": "30.8 - 201",
          "x": 2,
          "xref": "x",
          "y": 3,
          "yref": "y"
         },
         {
          "font": {
           "color": "white"
          },
          "showarrow": false,
          "text": "23.3 - 152",
          "x": 3,
          "xref": "x",
          "y": 3,
          "yref": "y"
         },
         {
          "font": {
           "color": "white"
          },
          "showarrow": false,
          "text": "28.8 - 188",
          "x": 4,
          "xref": "x",
          "y": 3,
          "yref": "y"
         },
         {
          "font": {
           "color": "white"
          },
          "showarrow": false,
          "text": "0.1 - 1",
          "x": 0,
          "xref": "x",
          "y": 4,
          "yref": "y"
         },
         {
          "font": {
           "color": "white"
          },
          "showarrow": false,
          "text": "11.5 - 97",
          "x": 1,
          "xref": "x",
          "y": 4,
          "yref": "y"
         },
         {
          "font": {
           "color": "white"
          },
          "showarrow": false,
          "text": "18.3 - 154",
          "x": 2,
          "xref": "x",
          "y": 4,
          "yref": "y"
         },
         {
          "font": {
           "color": "white"
          },
          "showarrow": false,
          "text": "9.9 - 83",
          "x": 3,
          "xref": "x",
          "y": 4,
          "yref": "y"
         },
         {
          "font": {
           "color": "white"
          },
          "showarrow": false,
          "text": "60.1 - 505",
          "x": 4,
          "xref": "x",
          "y": 4,
          "yref": "y"
         }
        ],
        "height": 800,
        "template": {
         "data": {
          "bar": [
           {
            "error_x": {
             "color": "#2a3f5f"
            },
            "error_y": {
             "color": "#2a3f5f"
            },
            "marker": {
             "line": {
              "color": "#E5ECF6",
              "width": 0.5
             },
             "pattern": {
              "fillmode": "overlay",
              "size": 10,
              "solidity": 0.2
             }
            },
            "type": "bar"
           }
          ],
          "barpolar": [
           {
            "marker": {
             "line": {
              "color": "#E5ECF6",
              "width": 0.5
             },
             "pattern": {
              "fillmode": "overlay",
              "size": 10,
              "solidity": 0.2
             }
            },
            "type": "barpolar"
           }
          ],
          "carpet": [
           {
            "aaxis": {
             "endlinecolor": "#2a3f5f",
             "gridcolor": "white",
             "linecolor": "white",
             "minorgridcolor": "white",
             "startlinecolor": "#2a3f5f"
            },
            "baxis": {
             "endlinecolor": "#2a3f5f",
             "gridcolor": "white",
             "linecolor": "white",
             "minorgridcolor": "white",
             "startlinecolor": "#2a3f5f"
            },
            "type": "carpet"
           }
          ],
          "choropleth": [
           {
            "colorbar": {
             "outlinewidth": 0,
             "ticks": ""
            },
            "type": "choropleth"
           }
          ],
          "contour": [
           {
            "colorbar": {
             "outlinewidth": 0,
             "ticks": ""
            },
            "colorscale": [
             [
              0,
              "#0d0887"
             ],
             [
              0.1111111111111111,
              "#46039f"
             ],
             [
              0.2222222222222222,
              "#7201a8"
             ],
             [
              0.3333333333333333,
              "#9c179e"
             ],
             [
              0.4444444444444444,
              "#bd3786"
             ],
             [
              0.5555555555555556,
              "#d8576b"
             ],
             [
              0.6666666666666666,
              "#ed7953"
             ],
             [
              0.7777777777777778,
              "#fb9f3a"
             ],
             [
              0.8888888888888888,
              "#fdca26"
             ],
             [
              1,
              "#f0f921"
             ]
            ],
            "type": "contour"
           }
          ],
          "contourcarpet": [
           {
            "colorbar": {
             "outlinewidth": 0,
             "ticks": ""
            },
            "type": "contourcarpet"
           }
          ],
          "heatmap": [
           {
            "colorbar": {
             "outlinewidth": 0,
             "ticks": ""
            },
            "colorscale": [
             [
              0,
              "#0d0887"
             ],
             [
              0.1111111111111111,
              "#46039f"
             ],
             [
              0.2222222222222222,
              "#7201a8"
             ],
             [
              0.3333333333333333,
              "#9c179e"
             ],
             [
              0.4444444444444444,
              "#bd3786"
             ],
             [
              0.5555555555555556,
              "#d8576b"
             ],
             [
              0.6666666666666666,
              "#ed7953"
             ],
             [
              0.7777777777777778,
              "#fb9f3a"
             ],
             [
              0.8888888888888888,
              "#fdca26"
             ],
             [
              1,
              "#f0f921"
             ]
            ],
            "type": "heatmap"
           }
          ],
          "heatmapgl": [
           {
            "colorbar": {
             "outlinewidth": 0,
             "ticks": ""
            },
            "colorscale": [
             [
              0,
              "#0d0887"
             ],
             [
              0.1111111111111111,
              "#46039f"
             ],
             [
              0.2222222222222222,
              "#7201a8"
             ],
             [
              0.3333333333333333,
              "#9c179e"
             ],
             [
              0.4444444444444444,
              "#bd3786"
             ],
             [
              0.5555555555555556,
              "#d8576b"
             ],
             [
              0.6666666666666666,
              "#ed7953"
             ],
             [
              0.7777777777777778,
              "#fb9f3a"
             ],
             [
              0.8888888888888888,
              "#fdca26"
             ],
             [
              1,
              "#f0f921"
             ]
            ],
            "type": "heatmapgl"
           }
          ],
          "histogram": [
           {
            "marker": {
             "pattern": {
              "fillmode": "overlay",
              "size": 10,
              "solidity": 0.2
             }
            },
            "type": "histogram"
           }
          ],
          "histogram2d": [
           {
            "colorbar": {
             "outlinewidth": 0,
             "ticks": ""
            },
            "colorscale": [
             [
              0,
              "#0d0887"
             ],
             [
              0.1111111111111111,
              "#46039f"
             ],
             [
              0.2222222222222222,
              "#7201a8"
             ],
             [
              0.3333333333333333,
              "#9c179e"
             ],
             [
              0.4444444444444444,
              "#bd3786"
             ],
             [
              0.5555555555555556,
              "#d8576b"
             ],
             [
              0.6666666666666666,
              "#ed7953"
             ],
             [
              0.7777777777777778,
              "#fb9f3a"
             ],
             [
              0.8888888888888888,
              "#fdca26"
             ],
             [
              1,
              "#f0f921"
             ]
            ],
            "type": "histogram2d"
           }
          ],
          "histogram2dcontour": [
           {
            "colorbar": {
             "outlinewidth": 0,
             "ticks": ""
            },
            "colorscale": [
             [
              0,
              "#0d0887"
             ],
             [
              0.1111111111111111,
              "#46039f"
             ],
             [
              0.2222222222222222,
              "#7201a8"
             ],
             [
              0.3333333333333333,
              "#9c179e"
             ],
             [
              0.4444444444444444,
              "#bd3786"
             ],
             [
              0.5555555555555556,
              "#d8576b"
             ],
             [
              0.6666666666666666,
              "#ed7953"
             ],
             [
              0.7777777777777778,
              "#fb9f3a"
             ],
             [
              0.8888888888888888,
              "#fdca26"
             ],
             [
              1,
              "#f0f921"
             ]
            ],
            "type": "histogram2dcontour"
           }
          ],
          "mesh3d": [
           {
            "colorbar": {
             "outlinewidth": 0,
             "ticks": ""
            },
            "type": "mesh3d"
           }
          ],
          "parcoords": [
           {
            "line": {
             "colorbar": {
              "outlinewidth": 0,
              "ticks": ""
             }
            },
            "type": "parcoords"
           }
          ],
          "pie": [
           {
            "automargin": true,
            "type": "pie"
           }
          ],
          "scatter": [
           {
            "fillpattern": {
             "fillmode": "overlay",
             "size": 10,
             "solidity": 0.2
            },
            "type": "scatter"
           }
          ],
          "scatter3d": [
           {
            "line": {
             "colorbar": {
              "outlinewidth": 0,
              "ticks": ""
             }
            },
            "marker": {
             "colorbar": {
              "outlinewidth": 0,
              "ticks": ""
             }
            },
            "type": "scatter3d"
           }
          ],
          "scattercarpet": [
           {
            "marker": {
             "colorbar": {
              "outlinewidth": 0,
              "ticks": ""
             }
            },
            "type": "scattercarpet"
           }
          ],
          "scattergeo": [
           {
            "marker": {
             "colorbar": {
              "outlinewidth": 0,
              "ticks": ""
             }
            },
            "type": "scattergeo"
           }
          ],
          "scattergl": [
           {
            "marker": {
             "colorbar": {
              "outlinewidth": 0,
              "ticks": ""
             }
            },
            "type": "scattergl"
           }
          ],
          "scattermapbox": [
           {
            "marker": {
             "colorbar": {
              "outlinewidth": 0,
              "ticks": ""
             }
            },
            "type": "scattermapbox"
           }
          ],
          "scatterpolar": [
           {
            "marker": {
             "colorbar": {
              "outlinewidth": 0,
              "ticks": ""
             }
            },
            "type": "scatterpolar"
           }
          ],
          "scatterpolargl": [
           {
            "marker": {
             "colorbar": {
              "outlinewidth": 0,
              "ticks": ""
             }
            },
            "type": "scatterpolargl"
           }
          ],
          "scatterternary": [
           {
            "marker": {
             "colorbar": {
              "outlinewidth": 0,
              "ticks": ""
             }
            },
            "type": "scatterternary"
           }
          ],
          "surface": [
           {
            "colorbar": {
             "outlinewidth": 0,
             "ticks": ""
            },
            "colorscale": [
             [
              0,
              "#0d0887"
             ],
             [
              0.1111111111111111,
              "#46039f"
             ],
             [
              0.2222222222222222,
              "#7201a8"
             ],
             [
              0.3333333333333333,
              "#9c179e"
             ],
             [
              0.4444444444444444,
              "#bd3786"
             ],
             [
              0.5555555555555556,
              "#d8576b"
             ],
             [
              0.6666666666666666,
              "#ed7953"
             ],
             [
              0.7777777777777778,
              "#fb9f3a"
             ],
             [
              0.8888888888888888,
              "#fdca26"
             ],
             [
              1,
              "#f0f921"
             ]
            ],
            "type": "surface"
           }
          ],
          "table": [
           {
            "cells": {
             "fill": {
              "color": "#EBF0F8"
             },
             "line": {
              "color": "white"
             }
            },
            "header": {
             "fill": {
              "color": "#C8D4E3"
             },
             "line": {
              "color": "white"
             }
            },
            "type": "table"
           }
          ]
         },
         "layout": {
          "annotationdefaults": {
           "arrowcolor": "#2a3f5f",
           "arrowhead": 0,
           "arrowwidth": 1
          },
          "autotypenumbers": "strict",
          "coloraxis": {
           "colorbar": {
            "outlinewidth": 0,
            "ticks": ""
           }
          },
          "colorscale": {
           "diverging": [
            [
             0,
             "#8e0152"
            ],
            [
             0.1,
             "#c51b7d"
            ],
            [
             0.2,
             "#de77ae"
            ],
            [
             0.3,
             "#f1b6da"
            ],
            [
             0.4,
             "#fde0ef"
            ],
            [
             0.5,
             "#f7f7f7"
            ],
            [
             0.6,
             "#e6f5d0"
            ],
            [
             0.7,
             "#b8e186"
            ],
            [
             0.8,
             "#7fbc41"
            ],
            [
             0.9,
             "#4d9221"
            ],
            [
             1,
             "#276419"
            ]
           ],
           "sequential": [
            [
             0,
             "#0d0887"
            ],
            [
             0.1111111111111111,
             "#46039f"
            ],
            [
             0.2222222222222222,
             "#7201a8"
            ],
            [
             0.3333333333333333,
             "#9c179e"
            ],
            [
             0.4444444444444444,
             "#bd3786"
            ],
            [
             0.5555555555555556,
             "#d8576b"
            ],
            [
             0.6666666666666666,
             "#ed7953"
            ],
            [
             0.7777777777777778,
             "#fb9f3a"
            ],
            [
             0.8888888888888888,
             "#fdca26"
            ],
            [
             1,
             "#f0f921"
            ]
           ],
           "sequentialminus": [
            [
             0,
             "#0d0887"
            ],
            [
             0.1111111111111111,
             "#46039f"
            ],
            [
             0.2222222222222222,
             "#7201a8"
            ],
            [
             0.3333333333333333,
             "#9c179e"
            ],
            [
             0.4444444444444444,
             "#bd3786"
            ],
            [
             0.5555555555555556,
             "#d8576b"
            ],
            [
             0.6666666666666666,
             "#ed7953"
            ],
            [
             0.7777777777777778,
             "#fb9f3a"
            ],
            [
             0.8888888888888888,
             "#fdca26"
            ],
            [
             1,
             "#f0f921"
            ]
           ]
          },
          "colorway": [
           "#636efa",
           "#EF553B",
           "#00cc96",
           "#ab63fa",
           "#FFA15A",
           "#19d3f3",
           "#FF6692",
           "#B6E880",
           "#FF97FF",
           "#FECB52"
          ],
          "font": {
           "color": "#2a3f5f"
          },
          "geo": {
           "bgcolor": "white",
           "lakecolor": "white",
           "landcolor": "#E5ECF6",
           "showlakes": true,
           "showland": true,
           "subunitcolor": "white"
          },
          "hoverlabel": {
           "align": "left"
          },
          "hovermode": "closest",
          "mapbox": {
           "style": "light"
          },
          "paper_bgcolor": "white",
          "plot_bgcolor": "#E5ECF6",
          "polar": {
           "angularaxis": {
            "gridcolor": "white",
            "linecolor": "white",
            "ticks": ""
           },
           "bgcolor": "#E5ECF6",
           "radialaxis": {
            "gridcolor": "white",
            "linecolor": "white",
            "ticks": ""
           }
          },
          "scene": {
           "xaxis": {
            "backgroundcolor": "#E5ECF6",
            "gridcolor": "white",
            "gridwidth": 2,
            "linecolor": "white",
            "showbackground": true,
            "ticks": "",
            "zerolinecolor": "white"
           },
           "yaxis": {
            "backgroundcolor": "#E5ECF6",
            "gridcolor": "white",
            "gridwidth": 2,
            "linecolor": "white",
            "showbackground": true,
            "ticks": "",
            "zerolinecolor": "white"
           },
           "zaxis": {
            "backgroundcolor": "#E5ECF6",
            "gridcolor": "white",
            "gridwidth": 2,
            "linecolor": "white",
            "showbackground": true,
            "ticks": "",
            "zerolinecolor": "white"
           }
          },
          "shapedefaults": {
           "line": {
            "color": "#2a3f5f"
           }
          },
          "ternary": {
           "aaxis": {
            "gridcolor": "white",
            "linecolor": "white",
            "ticks": ""
           },
           "baxis": {
            "gridcolor": "white",
            "linecolor": "white",
            "ticks": ""
           },
           "bgcolor": "#E5ECF6",
           "caxis": {
            "gridcolor": "white",
            "linecolor": "white",
            "ticks": ""
           }
          },
          "title": {
           "x": 0.05
          },
          "xaxis": {
           "automargin": true,
           "gridcolor": "white",
           "linecolor": "white",
           "ticks": "",
           "title": {
            "standoff": 15
           },
           "zerolinecolor": "white",
           "zerolinewidth": 2
          },
          "yaxis": {
           "automargin": true,
           "gridcolor": "white",
           "linecolor": "white",
           "ticks": "",
           "title": {
            "standoff": 15
           },
           "zerolinecolor": "white",
           "zerolinewidth": 2
          }
         }
        },
        "title": {
         "text": "Conf Matrix"
        },
        "width": 800,
        "xaxis": {
         "title": {
          "text": "Predicted value"
         }
        },
        "yaxis": {
         "title": {
          "text": "Real value"
         }
        }
       }
      }
     },
     "metadata": {},
     "output_type": "display_data"
    },
    {
     "data": {
      "text/plain": [
       "np.float64(0.33769755881911834)"
      ]
     },
     "execution_count": 25,
     "metadata": {},
     "output_type": "execute_result"
    }
   ],
   "source": [
    "#Vamos a replicar el resultado de la optimizacion reentrenando el modelo con el mejor conjunto de hiperparametros\n",
    "#Generamos parametros incluyendo los fijos y la mejor solución que encontro optuna\n",
    "lgb_params =  {      \n",
    "                        'objective': 'multiclass',\n",
    "                        'verbosity':-1,\n",
    "                        'num_class': len(y_train.unique())} | study.best_params\n",
    "\n",
    "lgb_train_dataset = lgb.Dataset(data=X_train,\n",
    "                                label=y_train)\n",
    "\n",
    "\n",
    "#Entreno\n",
    "lgb_model = lgb.train(lgb_params,\n",
    "                    lgb_train_dataset)\n",
    "\n",
    "#Muestro matriz de confusion y kappa\n",
    "display(plot_confusion_matrix(y_test,lgb_model.predict(X_test).argmax(axis=1)))\n",
    "\n",
    "cohen_kappa_score(y_test,lgb_model.predict(X_test).argmax(axis=1),\n",
    "                             weights = 'quadratic')\n"
   ]
  },
  {
   "cell_type": "markdown",
   "metadata": {},
   "source": [
    "## Modelo con cross validation y conjunto de test"
   ]
  },
  {
   "cell_type": "code",
   "execution_count": 26,
   "metadata": {},
   "outputs": [],
   "source": [
    "#Genero una metrica para que lightGBM haga la evaluación y pueda hacer early_stopping en el cross validation\n",
    "def lgb_custom_metric_kappa(dy_pred, dy_true):\n",
    "    metric_name = 'kappa'\n",
    "    value = cohen_kappa_score(dy_true.get_label(),dy_pred.argmax(axis=1),weights = 'quadratic')\n",
    "    is_higher_better = True\n",
    "    return(metric_name, value, is_higher_better)\n",
    "\n",
    "#Funcion objetivo a optimizar. En este caso vamos a hacer 5fold cv sobre el conjunto de train. \n",
    "# El score de CV es el objetivo a optimizar. Ademas vamos a usar los 5 modelos del CV para estimar el conjunto de test,\n",
    "# registraremos en optuna las predicciones, matriz de confusion y el score en test.\n",
    "# CV Score -> Se usa para determinar el rendimiento de los hiperparametros con precision \n",
    "# Test Score -> Nos permite testear que esta todo OK, no use (ni debo usar) esos datos para nada en el entrenamiento \n",
    "# o la optimizacion de hiperparametros\n",
    "\n",
    "def cv_es_lgb_objective(trial):\n",
    "\n",
    "    #PArametros para LightGBM\n",
    "    lgb_params = {      \n",
    "                        #PArametros fijos\n",
    "                        'objective': 'multiclass',\n",
    "                        'verbosity':-1,\n",
    "                        'num_class': len(y_train.unique()),\n",
    "                        #Hiperparametros a optimizar utilizando suggest_float o suggest_int segun el tipo de dato\n",
    "                        #Se indica el nombre del parametro, valor minimo, valor maximo \n",
    "                        #en elgunos casos el parametro log=True para parametros que requieren buscar en esa escala\n",
    "                        'lambda_l1': trial.suggest_float('lambda_l1', 1e-8, 10.0, log=True),\n",
    "                        'lambda_l2': trial.suggest_float('lambda_l2', 1e-8, 10.0, log=True),\n",
    "                        'num_leaves': trial.suggest_int('num_leaves', 2, 256),\n",
    "                        'feature_fraction': trial.suggest_float('feature_fraction', 0.4, 1.0),\n",
    "                        'bagging_fraction': trial.suggest_float('bagging_fraction', 0.4, 1.0),\n",
    "                        'bagging_freq': trial.suggest_int('bagging_freq', 1, 7),\n",
    "                        'min_child_samples': trial.suggest_int('min_child_samples', 5, 100),\n",
    "                        } \n",
    "\n",
    "    #Voy a generar estimaciones de los 5 modelos del CV sobre los datos test y los acumulo en la matriz scores_ensemble\n",
    "    scores_ensemble = np.zeros((len(y_test),len(y_train.unique())))\n",
    "\n",
    "    #Score del 5 fold CV inicializado en 0\n",
    "    score_folds = 0\n",
    "\n",
    "    #Numero de splits del CV\n",
    "    n_splits = 5\n",
    "\n",
    "    #Objeto para hacer el split estratificado de CV\n",
    "    skf = StratifiedKFold(n_splits=n_splits)\n",
    "\n",
    "    for i, (if_index, oof_index) in enumerate(skf.split(X_train, y_train)):\n",
    "        \n",
    "        #Dataset in fold (donde entreno) \n",
    "        lgb_if_dataset = lgb.Dataset(data=X_train.iloc[if_index],\n",
    "                                        label=y_train.iloc[if_index],\n",
    "                                        free_raw_data=False)\n",
    "        \n",
    "        #Dataset Out of fold (donde mido la performance del CV)\n",
    "        lgb_oof_dataset = lgb.Dataset(data=X_train.iloc[oof_index],\n",
    "                                        label=y_train.iloc[oof_index],\n",
    "                                        free_raw_data=False)\n",
    "\n",
    "        #Entreno el modelo\n",
    "        lgb_model = lgb.train(lgb_params,\n",
    "                                lgb_if_dataset,\n",
    "                                valid_sets=lgb_oof_dataset,\n",
    "                                callbacks=[lgb.early_stopping(10, verbose=False)],\n",
    "                                feval = lgb_custom_metric_kappa\n",
    "                                )\n",
    "        \n",
    "        #Acumulo los scores (probabilidades) de cada clase para cada uno de los modelos que determino en los folds\n",
    "        #Se predice el 20% de los datos que separe para tes y no uso para entrenar en ningun fold\n",
    "        scores_ensemble = scores_ensemble + lgb_model.predict(X_test)\n",
    "        \n",
    "        #Score del fold (registros de dataset train que en este fold quedan out of fold)\n",
    "        score_folds = score_folds + cohen_kappa_score(y_train.iloc[oof_index], \n",
    "                                                            lgb_model.predict(X_train.iloc[oof_index]).argmax(axis=1),weights = 'quadratic')/n_splits\n",
    "\n",
    "\n",
    "    #Guardo prediccion del trial sobre el conjunto de test\n",
    "    # Genero nombre de archivo\n",
    "    predicted_filename = os.path.join(PATH_TO_TEMP_FILES,f'test_{trial.study.study_name}_{trial.number}.joblib')\n",
    "    # Copia del dataset para guardar la prediccion\n",
    "    predicted_df = test.copy()\n",
    "    # Genero columna pred con predicciones sumadas de los 5 folds\n",
    "    predicted_df['pred'] = [scores_ensemble[p,:] for p in range(scores_ensemble.shape[0])]\n",
    "    # Grabo dataframe en temp_artifacts\n",
    "    dump(predicted_df, predicted_filename)\n",
    "    # Indico a optuna que asocie el archivo generado al trial\n",
    "    upload_artifact(trial, predicted_filename, artifact_store)    \n",
    "\n",
    "    #Grabo natriz de confusion\n",
    "    #Nombre de archivo\n",
    "    cm_filename = os.path.join(PATH_TO_TEMP_FILES,f'cm_{trial.study.study_name}_{trial.number}.jpg')\n",
    "    #Grabo archivo\n",
    "    plot_confusion_matrix(y_test,scores_ensemble.argmax(axis=1)).write_image(cm_filename)\n",
    "    #Asocio al trial\n",
    "    upload_artifact(trial, cm_filename, artifact_store)\n",
    "\n",
    "    #Determino score en conjunto de test y asocio como metrica adicional en optuna\n",
    "    test_score = cohen_kappa_score(y_test,scores_ensemble.argmax(axis=1),weights = 'quadratic')\n",
    "    trial.set_user_attr(\"test_score\", test_score)\n",
    "\n",
    "    #Devuelvo score del 5fold cv a optuna para que optimice en base a eso\n",
    "    return(score_folds)"
   ]
  },
  {
   "cell_type": "code",
   "execution_count": 27,
   "metadata": {},
   "outputs": [
    {
     "name": "stderr",
     "output_type": "stream",
     "text": [
      "C:\\Users\\cacic\\AppData\\Local\\Temp\\ipykernel_14144\\1746730829.py:2: ExperimentalWarning:\n",
      "\n",
      "FileSystemArtifactStore is experimental (supported from v3.3.0). The interface can change in the future.\n",
      "\n",
      "[I 2024-08-16 23:32:05,288] Using an existing study with name '04 - LGB Multiclass CV' instead of creating a new one.\n",
      "C:\\Users\\cacic\\AppData\\Local\\Temp\\ipykernel_14144\\4150719641.py:86: ExperimentalWarning:\n",
      "\n",
      "upload_artifact is experimental (supported from v3.3.0). The interface can change in the future.\n",
      "\n",
      "C:\\Users\\cacic\\AppData\\Local\\Temp\\ipykernel_14144\\4150719641.py:94: ExperimentalWarning:\n",
      "\n",
      "upload_artifact is experimental (supported from v3.3.0). The interface can change in the future.\n",
      "\n",
      "[I 2024-08-16 23:32:18,107] Trial 205 finished with value: 0.35763571984803993 and parameters: {'lambda_l1': 0.000995465264264705, 'lambda_l2': 0.0059255238122452895, 'num_leaves': 71, 'feature_fraction': 0.48815411318453866, 'bagging_fraction': 0.9729916661909219, 'bagging_freq': 7, 'min_child_samples': 18}. Best is trial 146 with value: 0.36619004818984.\n",
      "C:\\Users\\cacic\\AppData\\Local\\Temp\\ipykernel_14144\\4150719641.py:86: ExperimentalWarning:\n",
      "\n",
      "upload_artifact is experimental (supported from v3.3.0). The interface can change in the future.\n",
      "\n",
      "C:\\Users\\cacic\\AppData\\Local\\Temp\\ipykernel_14144\\4150719641.py:94: ExperimentalWarning:\n",
      "\n",
      "upload_artifact is experimental (supported from v3.3.0). The interface can change in the future.\n",
      "\n",
      "[I 2024-08-16 23:32:27,280] Trial 206 finished with value: 0.36436853254605633 and parameters: {'lambda_l1': 0.0014237852760712205, 'lambda_l2': 0.015234990404340938, 'num_leaves': 65, 'feature_fraction': 0.5641728606133813, 'bagging_fraction': 0.9801737913383349, 'bagging_freq': 7, 'min_child_samples': 11}. Best is trial 146 with value: 0.36619004818984.\n",
      "C:\\Users\\cacic\\AppData\\Local\\Temp\\ipykernel_14144\\4150719641.py:86: ExperimentalWarning:\n",
      "\n",
      "upload_artifact is experimental (supported from v3.3.0). The interface can change in the future.\n",
      "\n",
      "C:\\Users\\cacic\\AppData\\Local\\Temp\\ipykernel_14144\\4150719641.py:94: ExperimentalWarning:\n",
      "\n",
      "upload_artifact is experimental (supported from v3.3.0). The interface can change in the future.\n",
      "\n",
      "[I 2024-08-16 23:32:38,318] Trial 207 finished with value: 0.35940207033548816 and parameters: {'lambda_l1': 0.0012166195925135184, 'lambda_l2': 0.0217315668480634, 'num_leaves': 66, 'feature_fraction': 0.52172712012487, 'bagging_fraction': 0.9570992536139767, 'bagging_freq': 7, 'min_child_samples': 10}. Best is trial 146 with value: 0.36619004818984.\n",
      "C:\\Users\\cacic\\AppData\\Local\\Temp\\ipykernel_14144\\4150719641.py:86: ExperimentalWarning:\n",
      "\n",
      "upload_artifact is experimental (supported from v3.3.0). The interface can change in the future.\n",
      "\n",
      "C:\\Users\\cacic\\AppData\\Local\\Temp\\ipykernel_14144\\4150719641.py:94: ExperimentalWarning:\n",
      "\n",
      "upload_artifact is experimental (supported from v3.3.0). The interface can change in the future.\n",
      "\n",
      "[I 2024-08-16 23:32:47,308] Trial 208 finished with value: 0.3593088744772418 and parameters: {'lambda_l1': 0.003356057939306895, 'lambda_l2': 0.010984191870938341, 'num_leaves': 53, 'feature_fraction': 0.565904896007372, 'bagging_fraction': 0.9787299343804126, 'bagging_freq': 7, 'min_child_samples': 14}. Best is trial 146 with value: 0.36619004818984.\n",
      "C:\\Users\\cacic\\AppData\\Local\\Temp\\ipykernel_14144\\4150719641.py:86: ExperimentalWarning:\n",
      "\n",
      "upload_artifact is experimental (supported from v3.3.0). The interface can change in the future.\n",
      "\n",
      "C:\\Users\\cacic\\AppData\\Local\\Temp\\ipykernel_14144\\4150719641.py:94: ExperimentalWarning:\n",
      "\n",
      "upload_artifact is experimental (supported from v3.3.0). The interface can change in the future.\n",
      "\n",
      "[I 2024-08-16 23:32:58,529] Trial 209 finished with value: 0.36216426101484295 and parameters: {'lambda_l1': 0.0007783880474685383, 'lambda_l2': 0.006694604048736742, 'num_leaves': 75, 'feature_fraction': 0.5125538887037674, 'bagging_fraction': 0.9462974289778243, 'bagging_freq': 7, 'min_child_samples': 11}. Best is trial 146 with value: 0.36619004818984.\n",
      "C:\\Users\\cacic\\AppData\\Local\\Temp\\ipykernel_14144\\4150719641.py:86: ExperimentalWarning:\n",
      "\n",
      "upload_artifact is experimental (supported from v3.3.0). The interface can change in the future.\n",
      "\n",
      "C:\\Users\\cacic\\AppData\\Local\\Temp\\ipykernel_14144\\4150719641.py:94: ExperimentalWarning:\n",
      "\n",
      "upload_artifact is experimental (supported from v3.3.0). The interface can change in the future.\n",
      "\n",
      "[I 2024-08-16 23:33:07,003] Trial 210 finished with value: 0.3543129216813023 and parameters: {'lambda_l1': 0.008348481398240824, 'lambda_l2': 0.05717987527901407, 'num_leaves': 59, 'feature_fraction': 0.6878806042666046, 'bagging_fraction': 0.9669402452215304, 'bagging_freq': 7, 'min_child_samples': 13}. Best is trial 146 with value: 0.36619004818984.\n",
      "C:\\Users\\cacic\\AppData\\Local\\Temp\\ipykernel_14144\\4150719641.py:86: ExperimentalWarning:\n",
      "\n",
      "upload_artifact is experimental (supported from v3.3.0). The interface can change in the future.\n",
      "\n",
      "C:\\Users\\cacic\\AppData\\Local\\Temp\\ipykernel_14144\\4150719641.py:94: ExperimentalWarning:\n",
      "\n",
      "upload_artifact is experimental (supported from v3.3.0). The interface can change in the future.\n",
      "\n",
      "[I 2024-08-16 23:33:17,179] Trial 211 finished with value: 0.3602116953408189 and parameters: {'lambda_l1': 0.0004696157857492884, 'lambda_l2': 0.013702053554432683, 'num_leaves': 81, 'feature_fraction': 0.5344704510334659, 'bagging_fraction': 0.9852867038543675, 'bagging_freq': 7, 'min_child_samples': 21}. Best is trial 146 with value: 0.36619004818984.\n",
      "C:\\Users\\cacic\\AppData\\Local\\Temp\\ipykernel_14144\\4150719641.py:86: ExperimentalWarning:\n",
      "\n",
      "upload_artifact is experimental (supported from v3.3.0). The interface can change in the future.\n",
      "\n",
      "C:\\Users\\cacic\\AppData\\Local\\Temp\\ipykernel_14144\\4150719641.py:94: ExperimentalWarning:\n",
      "\n",
      "upload_artifact is experimental (supported from v3.3.0). The interface can change in the future.\n",
      "\n",
      "[I 2024-08-16 23:33:27,814] Trial 212 finished with value: 0.35296271195336454 and parameters: {'lambda_l1': 0.001394245905821039, 'lambda_l2': 0.0019717509649658017, 'num_leaves': 69, 'feature_fraction': 0.5516286851035145, 'bagging_fraction': 0.9587330340675283, 'bagging_freq': 7, 'min_child_samples': 16}. Best is trial 146 with value: 0.36619004818984.\n",
      "C:\\Users\\cacic\\AppData\\Local\\Temp\\ipykernel_14144\\4150719641.py:86: ExperimentalWarning:\n",
      "\n",
      "upload_artifact is experimental (supported from v3.3.0). The interface can change in the future.\n",
      "\n",
      "C:\\Users\\cacic\\AppData\\Local\\Temp\\ipykernel_14144\\4150719641.py:94: ExperimentalWarning:\n",
      "\n",
      "upload_artifact is experimental (supported from v3.3.0). The interface can change in the future.\n",
      "\n",
      "[I 2024-08-16 23:33:39,530] Trial 213 finished with value: 0.35933734500428954 and parameters: {'lambda_l1': 0.0021016894000615454, 'lambda_l2': 0.0004989085129764286, 'num_leaves': 51, 'feature_fraction': 0.5282697677315394, 'bagging_fraction': 0.976101620482062, 'bagging_freq': 7, 'min_child_samples': 9}. Best is trial 146 with value: 0.36619004818984.\n",
      "C:\\Users\\cacic\\AppData\\Local\\Temp\\ipykernel_14144\\4150719641.py:86: ExperimentalWarning:\n",
      "\n",
      "upload_artifact is experimental (supported from v3.3.0). The interface can change in the future.\n",
      "\n",
      "C:\\Users\\cacic\\AppData\\Local\\Temp\\ipykernel_14144\\4150719641.py:94: ExperimentalWarning:\n",
      "\n",
      "upload_artifact is experimental (supported from v3.3.0). The interface can change in the future.\n",
      "\n",
      "[I 2024-08-16 23:33:50,439] Trial 214 finished with value: 0.3637761023490507 and parameters: {'lambda_l1': 0.006701820705454518, 'lambda_l2': 0.0012183144062218707, 'num_leaves': 66, 'feature_fraction': 0.5157454387725855, 'bagging_fraction': 0.9432482749885079, 'bagging_freq': 7, 'min_child_samples': 7}. Best is trial 146 with value: 0.36619004818984.\n",
      "C:\\Users\\cacic\\AppData\\Local\\Temp\\ipykernel_14144\\4150719641.py:86: ExperimentalWarning:\n",
      "\n",
      "upload_artifact is experimental (supported from v3.3.0). The interface can change in the future.\n",
      "\n",
      "C:\\Users\\cacic\\AppData\\Local\\Temp\\ipykernel_14144\\4150719641.py:94: ExperimentalWarning:\n",
      "\n",
      "upload_artifact is experimental (supported from v3.3.0). The interface can change in the future.\n",
      "\n",
      "[I 2024-08-16 23:33:59,112] Trial 215 finished with value: 0.35974341774979673 and parameters: {'lambda_l1': 0.006268808931237385, 'lambda_l2': 0.0013462381222860554, 'num_leaves': 66, 'feature_fraction': 0.8014821417869986, 'bagging_fraction': 0.938777871363669, 'bagging_freq': 7, 'min_child_samples': 6}. Best is trial 146 with value: 0.36619004818984.\n",
      "C:\\Users\\cacic\\AppData\\Local\\Temp\\ipykernel_14144\\4150719641.py:86: ExperimentalWarning:\n",
      "\n",
      "upload_artifact is experimental (supported from v3.3.0). The interface can change in the future.\n",
      "\n",
      "C:\\Users\\cacic\\AppData\\Local\\Temp\\ipykernel_14144\\4150719641.py:94: ExperimentalWarning:\n",
      "\n",
      "upload_artifact is experimental (supported from v3.3.0). The interface can change in the future.\n",
      "\n",
      "[I 2024-08-16 23:34:10,150] Trial 216 finished with value: 0.3637798843845378 and parameters: {'lambda_l1': 0.004860515996430408, 'lambda_l2': 0.0026919256628059446, 'num_leaves': 72, 'feature_fraction': 0.5096411690489816, 'bagging_fraction': 0.9252702347080821, 'bagging_freq': 7, 'min_child_samples': 8}. Best is trial 146 with value: 0.36619004818984.\n",
      "C:\\Users\\cacic\\AppData\\Local\\Temp\\ipykernel_14144\\4150719641.py:86: ExperimentalWarning:\n",
      "\n",
      "upload_artifact is experimental (supported from v3.3.0). The interface can change in the future.\n",
      "\n",
      "C:\\Users\\cacic\\AppData\\Local\\Temp\\ipykernel_14144\\4150719641.py:94: ExperimentalWarning:\n",
      "\n",
      "upload_artifact is experimental (supported from v3.3.0). The interface can change in the future.\n",
      "\n",
      "[I 2024-08-16 23:34:21,924] Trial 217 finished with value: 0.35514047093705886 and parameters: {'lambda_l1': 0.010707100621556963, 'lambda_l2': 0.002244335071125775, 'num_leaves': 74, 'feature_fraction': 0.511900053054548, 'bagging_fraction': 0.9246000933250224, 'bagging_freq': 7, 'min_child_samples': 8}. Best is trial 146 with value: 0.36619004818984.\n",
      "C:\\Users\\cacic\\AppData\\Local\\Temp\\ipykernel_14144\\4150719641.py:86: ExperimentalWarning:\n",
      "\n",
      "upload_artifact is experimental (supported from v3.3.0). The interface can change in the future.\n",
      "\n",
      "C:\\Users\\cacic\\AppData\\Local\\Temp\\ipykernel_14144\\4150719641.py:94: ExperimentalWarning:\n",
      "\n",
      "upload_artifact is experimental (supported from v3.3.0). The interface can change in the future.\n",
      "\n",
      "[I 2024-08-16 23:34:31,802] Trial 218 finished with value: 0.3568960162630478 and parameters: {'lambda_l1': 0.00402260031557212, 'lambda_l2': 0.002533417437517466, 'num_leaves': 62, 'feature_fraction': 0.5194727415783688, 'bagging_fraction': 0.9540187430709873, 'bagging_freq': 7, 'min_child_samples': 5}. Best is trial 146 with value: 0.36619004818984.\n",
      "C:\\Users\\cacic\\AppData\\Local\\Temp\\ipykernel_14144\\4150719641.py:86: ExperimentalWarning:\n",
      "\n",
      "upload_artifact is experimental (supported from v3.3.0). The interface can change in the future.\n",
      "\n",
      "C:\\Users\\cacic\\AppData\\Local\\Temp\\ipykernel_14144\\4150719641.py:94: ExperimentalWarning:\n",
      "\n",
      "upload_artifact is experimental (supported from v3.3.0). The interface can change in the future.\n",
      "\n",
      "[I 2024-08-16 23:34:42,259] Trial 219 finished with value: 0.36172563478108755 and parameters: {'lambda_l1': 0.005242018146488595, 'lambda_l2': 0.005774991183086622, 'num_leaves': 70, 'feature_fraction': 0.5394398098505194, 'bagging_fraction': 0.9666357142993353, 'bagging_freq': 7, 'min_child_samples': 10}. Best is trial 146 with value: 0.36619004818984.\n",
      "C:\\Users\\cacic\\AppData\\Local\\Temp\\ipykernel_14144\\4150719641.py:86: ExperimentalWarning:\n",
      "\n",
      "upload_artifact is experimental (supported from v3.3.0). The interface can change in the future.\n",
      "\n",
      "C:\\Users\\cacic\\AppData\\Local\\Temp\\ipykernel_14144\\4150719641.py:94: ExperimentalWarning:\n",
      "\n",
      "upload_artifact is experimental (supported from v3.3.0). The interface can change in the future.\n",
      "\n",
      "[I 2024-08-16 23:34:53,820] Trial 220 finished with value: 0.35483052387064523 and parameters: {'lambda_l1': 0.01776425793472445, 'lambda_l2': 0.0009240260846757812, 'num_leaves': 82, 'feature_fraction': 0.5291953726145365, 'bagging_fraction': 0.9445753530803127, 'bagging_freq': 7, 'min_child_samples': 12}. Best is trial 146 with value: 0.36619004818984.\n",
      "C:\\Users\\cacic\\AppData\\Local\\Temp\\ipykernel_14144\\4150719641.py:86: ExperimentalWarning:\n",
      "\n",
      "upload_artifact is experimental (supported from v3.3.0). The interface can change in the future.\n",
      "\n",
      "C:\\Users\\cacic\\AppData\\Local\\Temp\\ipykernel_14144\\4150719641.py:94: ExperimentalWarning:\n",
      "\n",
      "upload_artifact is experimental (supported from v3.3.0). The interface can change in the future.\n",
      "\n",
      "[I 2024-08-16 23:35:04,690] Trial 221 finished with value: 0.3638406849183502 and parameters: {'lambda_l1': 0.002866361862196398, 'lambda_l2': 0.0033252918689095656, 'num_leaves': 57, 'feature_fraction': 0.49894361412415583, 'bagging_fraction': 0.9825763324429924, 'bagging_freq': 7, 'min_child_samples': 14}. Best is trial 146 with value: 0.36619004818984.\n",
      "C:\\Users\\cacic\\AppData\\Local\\Temp\\ipykernel_14144\\4150719641.py:86: ExperimentalWarning:\n",
      "\n",
      "upload_artifact is experimental (supported from v3.3.0). The interface can change in the future.\n",
      "\n",
      "C:\\Users\\cacic\\AppData\\Local\\Temp\\ipykernel_14144\\4150719641.py:94: ExperimentalWarning:\n",
      "\n",
      "upload_artifact is experimental (supported from v3.3.0). The interface can change in the future.\n",
      "\n",
      "[I 2024-08-16 23:35:15,146] Trial 222 finished with value: 0.36306069206258246 and parameters: {'lambda_l1': 0.00281989180476042, 'lambda_l2': 0.0013206354565820698, 'num_leaves': 57, 'feature_fraction': 0.5012651647432713, 'bagging_fraction': 0.9671114338927274, 'bagging_freq': 7, 'min_child_samples': 7}. Best is trial 146 with value: 0.36619004818984.\n",
      "C:\\Users\\cacic\\AppData\\Local\\Temp\\ipykernel_14144\\4150719641.py:86: ExperimentalWarning:\n",
      "\n",
      "upload_artifact is experimental (supported from v3.3.0). The interface can change in the future.\n",
      "\n",
      "C:\\Users\\cacic\\AppData\\Local\\Temp\\ipykernel_14144\\4150719641.py:94: ExperimentalWarning:\n",
      "\n",
      "upload_artifact is experimental (supported from v3.3.0). The interface can change in the future.\n",
      "\n",
      "[I 2024-08-16 23:35:25,251] Trial 223 finished with value: 0.3577675664184766 and parameters: {'lambda_l1': 0.0022195747915676185, 'lambda_l2': 0.0035909464411532656, 'num_leaves': 75, 'feature_fraction': 0.510065849314421, 'bagging_fraction': 0.9339440924883334, 'bagging_freq': 7, 'min_child_samples': 14}. Best is trial 146 with value: 0.36619004818984.\n",
      "C:\\Users\\cacic\\AppData\\Local\\Temp\\ipykernel_14144\\4150719641.py:86: ExperimentalWarning:\n",
      "\n",
      "upload_artifact is experimental (supported from v3.3.0). The interface can change in the future.\n",
      "\n",
      "C:\\Users\\cacic\\AppData\\Local\\Temp\\ipykernel_14144\\4150719641.py:94: ExperimentalWarning:\n",
      "\n",
      "upload_artifact is experimental (supported from v3.3.0). The interface can change in the future.\n",
      "\n",
      "[I 2024-08-16 23:35:36,733] Trial 224 finished with value: 0.35610126733547237 and parameters: {'lambda_l1': 0.007067223228409877, 'lambda_l2': 0.007439940601164601, 'num_leaves': 66, 'feature_fraction': 0.49556536873444484, 'bagging_fraction': 0.9530317256163322, 'bagging_freq': 7, 'min_child_samples': 11}. Best is trial 146 with value: 0.36619004818984.\n",
      "C:\\Users\\cacic\\AppData\\Local\\Temp\\ipykernel_14144\\4150719641.py:86: ExperimentalWarning:\n",
      "\n",
      "upload_artifact is experimental (supported from v3.3.0). The interface can change in the future.\n",
      "\n",
      "C:\\Users\\cacic\\AppData\\Local\\Temp\\ipykernel_14144\\4150719641.py:94: ExperimentalWarning:\n",
      "\n",
      "upload_artifact is experimental (supported from v3.3.0). The interface can change in the future.\n",
      "\n",
      "[I 2024-08-16 23:35:48,909] Trial 225 finished with value: 0.35824885980024385 and parameters: {'lambda_l1': 0.00395017908769584, 'lambda_l2': 0.013371552997725989, 'num_leaves': 63, 'feature_fraction': 0.480752025724894, 'bagging_fraction': 0.9722103506985055, 'bagging_freq': 2, 'min_child_samples': 16}. Best is trial 146 with value: 0.36619004818984.\n",
      "C:\\Users\\cacic\\AppData\\Local\\Temp\\ipykernel_14144\\4150719641.py:86: ExperimentalWarning:\n",
      "\n",
      "upload_artifact is experimental (supported from v3.3.0). The interface can change in the future.\n",
      "\n",
      "C:\\Users\\cacic\\AppData\\Local\\Temp\\ipykernel_14144\\4150719641.py:94: ExperimentalWarning:\n",
      "\n",
      "upload_artifact is experimental (supported from v3.3.0). The interface can change in the future.\n",
      "\n",
      "[I 2024-08-16 23:35:59,130] Trial 226 finished with value: 0.3615141310489435 and parameters: {'lambda_l1': 0.00148830922828667, 'lambda_l2': 0.003316154538813876, 'num_leaves': 56, 'feature_fraction': 0.5194169438479144, 'bagging_fraction': 0.9845473600169675, 'bagging_freq': 7, 'min_child_samples': 9}. Best is trial 146 with value: 0.36619004818984.\n",
      "C:\\Users\\cacic\\AppData\\Local\\Temp\\ipykernel_14144\\4150719641.py:86: ExperimentalWarning:\n",
      "\n",
      "upload_artifact is experimental (supported from v3.3.0). The interface can change in the future.\n",
      "\n",
      "C:\\Users\\cacic\\AppData\\Local\\Temp\\ipykernel_14144\\4150719641.py:94: ExperimentalWarning:\n",
      "\n",
      "upload_artifact is experimental (supported from v3.3.0). The interface can change in the future.\n",
      "\n",
      "[I 2024-08-16 23:36:10,085] Trial 227 finished with value: 0.3608610105239087 and parameters: {'lambda_l1': 0.0028283276705991112, 'lambda_l2': 1.19381125555091e-08, 'num_leaves': 72, 'feature_fraction': 0.5476321879270152, 'bagging_fraction': 0.9894325662369032, 'bagging_freq': 7, 'min_child_samples': 13}. Best is trial 146 with value: 0.36619004818984.\n",
      "C:\\Users\\cacic\\AppData\\Local\\Temp\\ipykernel_14144\\4150719641.py:86: ExperimentalWarning:\n",
      "\n",
      "upload_artifact is experimental (supported from v3.3.0). The interface can change in the future.\n",
      "\n",
      "C:\\Users\\cacic\\AppData\\Local\\Temp\\ipykernel_14144\\4150719641.py:94: ExperimentalWarning:\n",
      "\n",
      "upload_artifact is experimental (supported from v3.3.0). The interface can change in the future.\n",
      "\n",
      "[I 2024-08-16 23:36:20,332] Trial 228 finished with value: 0.36015600267174175 and parameters: {'lambda_l1': 0.0009161601512777444, 'lambda_l2': 0.005017453037521849, 'num_leaves': 61, 'feature_fraction': 0.5285282657829538, 'bagging_fraction': 0.9776395483261336, 'bagging_freq': 7, 'min_child_samples': 19}. Best is trial 146 with value: 0.36619004818984.\n",
      "C:\\Users\\cacic\\AppData\\Local\\Temp\\ipykernel_14144\\4150719641.py:86: ExperimentalWarning:\n",
      "\n",
      "upload_artifact is experimental (supported from v3.3.0). The interface can change in the future.\n",
      "\n",
      "C:\\Users\\cacic\\AppData\\Local\\Temp\\ipykernel_14144\\4150719641.py:94: ExperimentalWarning:\n",
      "\n",
      "upload_artifact is experimental (supported from v3.3.0). The interface can change in the future.\n",
      "\n",
      "[I 2024-08-16 23:36:28,971] Trial 229 finished with value: 0.3595629611951771 and parameters: {'lambda_l1': 0.010131841803176358, 'lambda_l2': 0.00020825223734123613, 'num_leaves': 51, 'feature_fraction': 0.5040989294250806, 'bagging_fraction': 0.9605771471072231, 'bagging_freq': 7, 'min_child_samples': 11}. Best is trial 146 with value: 0.36619004818984.\n",
      "C:\\Users\\cacic\\AppData\\Local\\Temp\\ipykernel_14144\\4150719641.py:86: ExperimentalWarning:\n",
      "\n",
      "upload_artifact is experimental (supported from v3.3.0). The interface can change in the future.\n",
      "\n",
      "C:\\Users\\cacic\\AppData\\Local\\Temp\\ipykernel_14144\\4150719641.py:94: ExperimentalWarning:\n",
      "\n",
      "upload_artifact is experimental (supported from v3.3.0). The interface can change in the future.\n",
      "\n",
      "[I 2024-08-16 23:36:39,260] Trial 230 finished with value: 0.3625955583335786 and parameters: {'lambda_l1': 0.005127036953956182, 'lambda_l2': 0.0006288816249820624, 'num_leaves': 70, 'feature_fraction': 0.514967457875351, 'bagging_fraction': 0.9810629447472036, 'bagging_freq': 7, 'min_child_samples': 15}. Best is trial 146 with value: 0.36619004818984.\n",
      "C:\\Users\\cacic\\AppData\\Local\\Temp\\ipykernel_14144\\4150719641.py:86: ExperimentalWarning:\n",
      "\n",
      "upload_artifact is experimental (supported from v3.3.0). The interface can change in the future.\n",
      "\n",
      "C:\\Users\\cacic\\AppData\\Local\\Temp\\ipykernel_14144\\4150719641.py:94: ExperimentalWarning:\n",
      "\n",
      "upload_artifact is experimental (supported from v3.3.0). The interface can change in the future.\n",
      "\n",
      "[I 2024-08-16 23:36:49,642] Trial 231 finished with value: 0.36116086289656496 and parameters: {'lambda_l1': 0.001756985952165466, 'lambda_l2': 1.015414887673973e-08, 'num_leaves': 77, 'feature_fraction': 0.5368733412649862, 'bagging_fraction': 0.9483556448692694, 'bagging_freq': 7, 'min_child_samples': 8}. Best is trial 146 with value: 0.36619004818984.\n",
      "C:\\Users\\cacic\\AppData\\Local\\Temp\\ipykernel_14144\\4150719641.py:86: ExperimentalWarning:\n",
      "\n",
      "upload_artifact is experimental (supported from v3.3.0). The interface can change in the future.\n",
      "\n",
      "C:\\Users\\cacic\\AppData\\Local\\Temp\\ipykernel_14144\\4150719641.py:94: ExperimentalWarning:\n",
      "\n",
      "upload_artifact is experimental (supported from v3.3.0). The interface can change in the future.\n",
      "\n",
      "[I 2024-08-16 23:37:01,500] Trial 232 finished with value: 0.36451462000421414 and parameters: {'lambda_l1': 0.003489674174076129, 'lambda_l2': 0.0025006379244322664, 'num_leaves': 89, 'feature_fraction': 0.5239915908889367, 'bagging_fraction': 0.9653150894206423, 'bagging_freq': 7, 'min_child_samples': 12}. Best is trial 146 with value: 0.36619004818984.\n",
      "C:\\Users\\cacic\\AppData\\Local\\Temp\\ipykernel_14144\\4150719641.py:86: ExperimentalWarning:\n",
      "\n",
      "upload_artifact is experimental (supported from v3.3.0). The interface can change in the future.\n",
      "\n",
      "C:\\Users\\cacic\\AppData\\Local\\Temp\\ipykernel_14144\\4150719641.py:94: ExperimentalWarning:\n",
      "\n",
      "upload_artifact is experimental (supported from v3.3.0). The interface can change in the future.\n",
      "\n",
      "[I 2024-08-16 23:37:16,096] Trial 233 finished with value: 0.35341996540261966 and parameters: {'lambda_l1': 0.004078608884408505, 'lambda_l2': 8.103708100998027, 'num_leaves': 90, 'feature_fraction': 0.49177092967940333, 'bagging_fraction': 0.9623308156219985, 'bagging_freq': 7, 'min_child_samples': 10}. Best is trial 146 with value: 0.36619004818984.\n",
      "C:\\Users\\cacic\\AppData\\Local\\Temp\\ipykernel_14144\\4150719641.py:86: ExperimentalWarning:\n",
      "\n",
      "upload_artifact is experimental (supported from v3.3.0). The interface can change in the future.\n",
      "\n",
      "C:\\Users\\cacic\\AppData\\Local\\Temp\\ipykernel_14144\\4150719641.py:94: ExperimentalWarning:\n",
      "\n",
      "upload_artifact is experimental (supported from v3.3.0). The interface can change in the future.\n",
      "\n",
      "[I 2024-08-16 23:37:26,905] Trial 234 finished with value: 0.360771390263649 and parameters: {'lambda_l1': 0.002720404536978226, 'lambda_l2': 0.002505536577113445, 'num_leaves': 87, 'feature_fraction': 0.5211020461702416, 'bagging_fraction': 0.9291527349486159, 'bagging_freq': 7, 'min_child_samples': 13}. Best is trial 146 with value: 0.36619004818984.\n",
      "C:\\Users\\cacic\\AppData\\Local\\Temp\\ipykernel_14144\\4150719641.py:86: ExperimentalWarning:\n",
      "\n",
      "upload_artifact is experimental (supported from v3.3.0). The interface can change in the future.\n",
      "\n",
      "C:\\Users\\cacic\\AppData\\Local\\Temp\\ipykernel_14144\\4150719641.py:94: ExperimentalWarning:\n",
      "\n",
      "upload_artifact is experimental (supported from v3.3.0). The interface can change in the future.\n",
      "\n",
      "[I 2024-08-16 23:37:38,392] Trial 235 finished with value: 0.3519877214044993 and parameters: {'lambda_l1': 0.007144326846936665, 'lambda_l2': 0.0019694135161902535, 'num_leaves': 83, 'feature_fraction': 0.5098173615996371, 'bagging_fraction': 0.9420053804745694, 'bagging_freq': 7, 'min_child_samples': 17}. Best is trial 146 with value: 0.36619004818984.\n",
      "C:\\Users\\cacic\\AppData\\Local\\Temp\\ipykernel_14144\\4150719641.py:86: ExperimentalWarning:\n",
      "\n",
      "upload_artifact is experimental (supported from v3.3.0). The interface can change in the future.\n",
      "\n",
      "C:\\Users\\cacic\\AppData\\Local\\Temp\\ipykernel_14144\\4150719641.py:94: ExperimentalWarning:\n",
      "\n",
      "upload_artifact is experimental (supported from v3.3.0). The interface can change in the future.\n",
      "\n",
      "[I 2024-08-16 23:37:50,907] Trial 236 finished with value: 0.367445363275 and parameters: {'lambda_l1': 0.0011758762226869704, 'lambda_l2': 0.0032846776849341243, 'num_leaves': 67, 'feature_fraction': 0.5309666100655083, 'bagging_fraction': 0.9720798444387746, 'bagging_freq': 7, 'min_child_samples': 12}. Best is trial 236 with value: 0.367445363275.\n",
      "C:\\Users\\cacic\\AppData\\Local\\Temp\\ipykernel_14144\\4150719641.py:86: ExperimentalWarning:\n",
      "\n",
      "upload_artifact is experimental (supported from v3.3.0). The interface can change in the future.\n",
      "\n",
      "C:\\Users\\cacic\\AppData\\Local\\Temp\\ipykernel_14144\\4150719641.py:94: ExperimentalWarning:\n",
      "\n",
      "upload_artifact is experimental (supported from v3.3.0). The interface can change in the future.\n",
      "\n",
      "[I 2024-08-16 23:38:02,095] Trial 237 finished with value: 0.370833783471845 and parameters: {'lambda_l1': 0.00117017855099504, 'lambda_l2': 0.0036334835777458714, 'num_leaves': 66, 'feature_fraction': 0.526672966870472, 'bagging_fraction': 0.9692011809126636, 'bagging_freq': 7, 'min_child_samples': 12}. Best is trial 237 with value: 0.370833783471845.\n",
      "C:\\Users\\cacic\\AppData\\Local\\Temp\\ipykernel_14144\\4150719641.py:86: ExperimentalWarning:\n",
      "\n",
      "upload_artifact is experimental (supported from v3.3.0). The interface can change in the future.\n",
      "\n",
      "C:\\Users\\cacic\\AppData\\Local\\Temp\\ipykernel_14144\\4150719641.py:94: ExperimentalWarning:\n",
      "\n",
      "upload_artifact is experimental (supported from v3.3.0). The interface can change in the future.\n",
      "\n",
      "[I 2024-08-16 23:38:13,932] Trial 238 finished with value: 0.36461712776955296 and parameters: {'lambda_l1': 0.0014074078959717576, 'lambda_l2': 0.00668891161825778, 'num_leaves': 78, 'feature_fraction': 0.5261726350435874, 'bagging_fraction': 0.9636928808746297, 'bagging_freq': 7, 'min_child_samples': 13}. Best is trial 237 with value: 0.370833783471845.\n",
      "C:\\Users\\cacic\\AppData\\Local\\Temp\\ipykernel_14144\\4150719641.py:86: ExperimentalWarning:\n",
      "\n",
      "upload_artifact is experimental (supported from v3.3.0). The interface can change in the future.\n",
      "\n",
      "C:\\Users\\cacic\\AppData\\Local\\Temp\\ipykernel_14144\\4150719641.py:94: ExperimentalWarning:\n",
      "\n",
      "upload_artifact is experimental (supported from v3.3.0). The interface can change in the future.\n",
      "\n",
      "[I 2024-08-16 23:38:25,070] Trial 239 finished with value: 0.36174630810388 and parameters: {'lambda_l1': 0.0012301034768266983, 'lambda_l2': 0.007418759279328215, 'num_leaves': 79, 'feature_fraction': 0.5325884752528908, 'bagging_fraction': 0.965426608742918, 'bagging_freq': 7, 'min_child_samples': 14}. Best is trial 237 with value: 0.370833783471845.\n",
      "C:\\Users\\cacic\\AppData\\Local\\Temp\\ipykernel_14144\\4150719641.py:86: ExperimentalWarning:\n",
      "\n",
      "upload_artifact is experimental (supported from v3.3.0). The interface can change in the future.\n",
      "\n",
      "C:\\Users\\cacic\\AppData\\Local\\Temp\\ipykernel_14144\\4150719641.py:94: ExperimentalWarning:\n",
      "\n",
      "upload_artifact is experimental (supported from v3.3.0). The interface can change in the future.\n",
      "\n",
      "[I 2024-08-16 23:38:35,972] Trial 240 finished with value: 0.3645152696951285 and parameters: {'lambda_l1': 0.001487354593046956, 'lambda_l2': 0.01819627192034031, 'num_leaves': 73, 'feature_fraction': 0.5450223225951054, 'bagging_fraction': 0.9578705265266092, 'bagging_freq': 7, 'min_child_samples': 12}. Best is trial 237 with value: 0.370833783471845.\n",
      "C:\\Users\\cacic\\AppData\\Local\\Temp\\ipykernel_14144\\4150719641.py:86: ExperimentalWarning:\n",
      "\n",
      "upload_artifact is experimental (supported from v3.3.0). The interface can change in the future.\n",
      "\n",
      "C:\\Users\\cacic\\AppData\\Local\\Temp\\ipykernel_14144\\4150719641.py:94: ExperimentalWarning:\n",
      "\n",
      "upload_artifact is experimental (supported from v3.3.0). The interface can change in the future.\n",
      "\n",
      "[I 2024-08-16 23:38:48,263] Trial 241 finished with value: 0.3592248101665606 and parameters: {'lambda_l1': 0.0005872984683781553, 'lambda_l2': 0.02391650969517155, 'num_leaves': 76, 'feature_fraction': 0.5617619127367238, 'bagging_fraction': 0.959412784463541, 'bagging_freq': 7, 'min_child_samples': 15}. Best is trial 237 with value: 0.370833783471845.\n",
      "C:\\Users\\cacic\\AppData\\Local\\Temp\\ipykernel_14144\\4150719641.py:86: ExperimentalWarning:\n",
      "\n",
      "upload_artifact is experimental (supported from v3.3.0). The interface can change in the future.\n",
      "\n",
      "C:\\Users\\cacic\\AppData\\Local\\Temp\\ipykernel_14144\\4150719641.py:94: ExperimentalWarning:\n",
      "\n",
      "upload_artifact is experimental (supported from v3.3.0). The interface can change in the future.\n",
      "\n",
      "[I 2024-08-16 23:39:00,865] Trial 242 finished with value: 0.361366007293258 and parameters: {'lambda_l1': 0.0017443994529233958, 'lambda_l2': 0.03943792639737296, 'num_leaves': 84, 'feature_fraction': 0.5465770919716679, 'bagging_fraction': 0.9723398865622451, 'bagging_freq': 7, 'min_child_samples': 13}. Best is trial 237 with value: 0.370833783471845.\n",
      "C:\\Users\\cacic\\AppData\\Local\\Temp\\ipykernel_14144\\4150719641.py:86: ExperimentalWarning:\n",
      "\n",
      "upload_artifact is experimental (supported from v3.3.0). The interface can change in the future.\n",
      "\n",
      "C:\\Users\\cacic\\AppData\\Local\\Temp\\ipykernel_14144\\4150719641.py:94: ExperimentalWarning:\n",
      "\n",
      "upload_artifact is experimental (supported from v3.3.0). The interface can change in the future.\n",
      "\n",
      "[I 2024-08-16 23:39:14,918] Trial 243 finished with value: 0.36030693679120307 and parameters: {'lambda_l1': 0.0011796797314725979, 'lambda_l2': 0.013150131446206373, 'num_leaves': 68, 'feature_fraction': 0.5526269944381316, 'bagging_fraction': 0.9561088851514946, 'bagging_freq': 7, 'min_child_samples': 12}. Best is trial 237 with value: 0.370833783471845.\n",
      "C:\\Users\\cacic\\AppData\\Local\\Temp\\ipykernel_14144\\4150719641.py:86: ExperimentalWarning:\n",
      "\n",
      "upload_artifact is experimental (supported from v3.3.0). The interface can change in the future.\n",
      "\n",
      "C:\\Users\\cacic\\AppData\\Local\\Temp\\ipykernel_14144\\4150719641.py:94: ExperimentalWarning:\n",
      "\n",
      "upload_artifact is experimental (supported from v3.3.0). The interface can change in the future.\n",
      "\n",
      "[I 2024-08-16 23:39:25,970] Trial 244 finished with value: 0.3569287191015869 and parameters: {'lambda_l1': 0.0020794423580508562, 'lambda_l2': 0.015320791785584612, 'num_leaves': 79, 'feature_fraction': 0.5293859488860727, 'bagging_fraction': 0.9835082900822579, 'bagging_freq': 7, 'min_child_samples': 18}. Best is trial 237 with value: 0.370833783471845.\n",
      "C:\\Users\\cacic\\AppData\\Local\\Temp\\ipykernel_14144\\4150719641.py:86: ExperimentalWarning:\n",
      "\n",
      "upload_artifact is experimental (supported from v3.3.0). The interface can change in the future.\n",
      "\n",
      "C:\\Users\\cacic\\AppData\\Local\\Temp\\ipykernel_14144\\4150719641.py:94: ExperimentalWarning:\n",
      "\n",
      "upload_artifact is experimental (supported from v3.3.0). The interface can change in the future.\n",
      "\n",
      "[I 2024-08-16 23:39:38,003] Trial 245 finished with value: 0.36044928903563034 and parameters: {'lambda_l1': 0.0014062022051336423, 'lambda_l2': 0.0046716690327042515, 'num_leaves': 73, 'feature_fraction': 0.5400935088736135, 'bagging_fraction': 0.970581898531914, 'bagging_freq': 7, 'min_child_samples': 15}. Best is trial 237 with value: 0.370833783471845.\n",
      "C:\\Users\\cacic\\AppData\\Local\\Temp\\ipykernel_14144\\4150719641.py:86: ExperimentalWarning:\n",
      "\n",
      "upload_artifact is experimental (supported from v3.3.0). The interface can change in the future.\n",
      "\n",
      "C:\\Users\\cacic\\AppData\\Local\\Temp\\ipykernel_14144\\4150719641.py:94: ExperimentalWarning:\n",
      "\n",
      "upload_artifact is experimental (supported from v3.3.0). The interface can change in the future.\n",
      "\n",
      "[I 2024-08-16 23:39:47,879] Trial 246 finished with value: 0.3552309762200704 and parameters: {'lambda_l1': 0.0028978955756485338, 'lambda_l2': 0.0061531293994293475, 'num_leaves': 72, 'feature_fraction': 0.5276696993127181, 'bagging_fraction': 0.9539335920546143, 'bagging_freq': 7, 'min_child_samples': 10}. Best is trial 237 with value: 0.370833783471845.\n",
      "C:\\Users\\cacic\\AppData\\Local\\Temp\\ipykernel_14144\\4150719641.py:86: ExperimentalWarning:\n",
      "\n",
      "upload_artifact is experimental (supported from v3.3.0). The interface can change in the future.\n",
      "\n",
      "C:\\Users\\cacic\\AppData\\Local\\Temp\\ipykernel_14144\\4150719641.py:94: ExperimentalWarning:\n",
      "\n",
      "upload_artifact is experimental (supported from v3.3.0). The interface can change in the future.\n",
      "\n",
      "[I 2024-08-16 23:39:59,483] Trial 247 finished with value: 0.36771719274149606 and parameters: {'lambda_l1': 0.0008479420899095033, 'lambda_l2': 0.003258039401797352, 'num_leaves': 68, 'feature_fraction': 0.5230477571794638, 'bagging_fraction': 0.9671662699039795, 'bagging_freq': 7, 'min_child_samples': 12}. Best is trial 237 with value: 0.370833783471845.\n",
      "C:\\Users\\cacic\\AppData\\Local\\Temp\\ipykernel_14144\\4150719641.py:86: ExperimentalWarning:\n",
      "\n",
      "upload_artifact is experimental (supported from v3.3.0). The interface can change in the future.\n",
      "\n",
      "C:\\Users\\cacic\\AppData\\Local\\Temp\\ipykernel_14144\\4150719641.py:94: ExperimentalWarning:\n",
      "\n",
      "upload_artifact is experimental (supported from v3.3.0). The interface can change in the future.\n",
      "\n",
      "[I 2024-08-16 23:40:09,255] Trial 248 finished with value: 0.36506006551552506 and parameters: {'lambda_l1': 0.0006953018068189047, 'lambda_l2': 0.007927492433846982, 'num_leaves': 67, 'feature_fraction': 0.5239781067636223, 'bagging_fraction': 0.9693236478025309, 'bagging_freq': 7, 'min_child_samples': 12}. Best is trial 237 with value: 0.370833783471845.\n",
      "C:\\Users\\cacic\\AppData\\Local\\Temp\\ipykernel_14144\\4150719641.py:86: ExperimentalWarning:\n",
      "\n",
      "upload_artifact is experimental (supported from v3.3.0). The interface can change in the future.\n",
      "\n",
      "C:\\Users\\cacic\\AppData\\Local\\Temp\\ipykernel_14144\\4150719641.py:94: ExperimentalWarning:\n",
      "\n",
      "upload_artifact is experimental (supported from v3.3.0). The interface can change in the future.\n",
      "\n",
      "[I 2024-08-16 23:40:20,393] Trial 249 finished with value: 0.3643381019295865 and parameters: {'lambda_l1': 0.0004649225347722815, 'lambda_l2': 0.01885967657544004, 'num_leaves': 67, 'feature_fraction': 0.5407873583743137, 'bagging_fraction': 0.964342218893607, 'bagging_freq': 7, 'min_child_samples': 12}. Best is trial 237 with value: 0.370833783471845.\n",
      "C:\\Users\\cacic\\AppData\\Local\\Temp\\ipykernel_14144\\4150719641.py:86: ExperimentalWarning:\n",
      "\n",
      "upload_artifact is experimental (supported from v3.3.0). The interface can change in the future.\n",
      "\n",
      "C:\\Users\\cacic\\AppData\\Local\\Temp\\ipykernel_14144\\4150719641.py:94: ExperimentalWarning:\n",
      "\n",
      "upload_artifact is experimental (supported from v3.3.0). The interface can change in the future.\n",
      "\n",
      "[I 2024-08-16 23:40:30,582] Trial 250 finished with value: 0.3673611958498546 and parameters: {'lambda_l1': 0.0005717409042331521, 'lambda_l2': 0.019919670184260753, 'num_leaves': 66, 'feature_fraction': 0.5447169148381481, 'bagging_fraction': 0.969529098824, 'bagging_freq': 7, 'min_child_samples': 12}. Best is trial 237 with value: 0.370833783471845.\n",
      "C:\\Users\\cacic\\AppData\\Local\\Temp\\ipykernel_14144\\4150719641.py:86: ExperimentalWarning:\n",
      "\n",
      "upload_artifact is experimental (supported from v3.3.0). The interface can change in the future.\n",
      "\n",
      "C:\\Users\\cacic\\AppData\\Local\\Temp\\ipykernel_14144\\4150719641.py:94: ExperimentalWarning:\n",
      "\n",
      "upload_artifact is experimental (supported from v3.3.0). The interface can change in the future.\n",
      "\n",
      "[I 2024-08-16 23:40:39,156] Trial 251 finished with value: 0.3576782369691422 and parameters: {'lambda_l1': 0.00025819724263880054, 'lambda_l2': 0.010445372906449415, 'num_leaves': 67, 'feature_fraction': 0.558210055859308, 'bagging_fraction': 0.9717009152729319, 'bagging_freq': 7, 'min_child_samples': 12}. Best is trial 237 with value: 0.370833783471845.\n",
      "C:\\Users\\cacic\\AppData\\Local\\Temp\\ipykernel_14144\\4150719641.py:86: ExperimentalWarning:\n",
      "\n",
      "upload_artifact is experimental (supported from v3.3.0). The interface can change in the future.\n",
      "\n",
      "C:\\Users\\cacic\\AppData\\Local\\Temp\\ipykernel_14144\\4150719641.py:94: ExperimentalWarning:\n",
      "\n",
      "upload_artifact is experimental (supported from v3.3.0). The interface can change in the future.\n",
      "\n",
      "[I 2024-08-16 23:40:50,027] Trial 252 finished with value: 0.35754291030038154 and parameters: {'lambda_l1': 0.00042533147131887486, 'lambda_l2': 0.040716039200686165, 'num_leaves': 67, 'feature_fraction': 0.5444010965652554, 'bagging_fraction': 0.96439910793013, 'bagging_freq': 7, 'min_child_samples': 10}. Best is trial 237 with value: 0.370833783471845.\n",
      "C:\\Users\\cacic\\AppData\\Local\\Temp\\ipykernel_14144\\4150719641.py:86: ExperimentalWarning:\n",
      "\n",
      "upload_artifact is experimental (supported from v3.3.0). The interface can change in the future.\n",
      "\n",
      "C:\\Users\\cacic\\AppData\\Local\\Temp\\ipykernel_14144\\4150719641.py:94: ExperimentalWarning:\n",
      "\n",
      "upload_artifact is experimental (supported from v3.3.0). The interface can change in the future.\n",
      "\n",
      "[I 2024-08-16 23:41:01,349] Trial 253 finished with value: 0.36155624857535573 and parameters: {'lambda_l1': 0.0005896071608086383, 'lambda_l2': 0.014348121048631082, 'num_leaves': 65, 'feature_fraction': 0.5467151025027686, 'bagging_fraction': 0.9789083250807015, 'bagging_freq': 7, 'min_child_samples': 12}. Best is trial 237 with value: 0.370833783471845.\n",
      "C:\\Users\\cacic\\AppData\\Local\\Temp\\ipykernel_14144\\4150719641.py:86: ExperimentalWarning:\n",
      "\n",
      "upload_artifact is experimental (supported from v3.3.0). The interface can change in the future.\n",
      "\n",
      "C:\\Users\\cacic\\AppData\\Local\\Temp\\ipykernel_14144\\4150719641.py:94: ExperimentalWarning:\n",
      "\n",
      "upload_artifact is experimental (supported from v3.3.0). The interface can change in the future.\n",
      "\n",
      "[I 2024-08-16 23:41:11,429] Trial 254 finished with value: 0.36511267885076826 and parameters: {'lambda_l1': 0.0007322046398440606, 'lambda_l2': 0.09337536078253053, 'num_leaves': 71, 'feature_fraction': 0.5369320382224014, 'bagging_fraction': 0.9895752758830378, 'bagging_freq': 7, 'min_child_samples': 13}. Best is trial 237 with value: 0.370833783471845.\n",
      "C:\\Users\\cacic\\AppData\\Local\\Temp\\ipykernel_14144\\4150719641.py:86: ExperimentalWarning:\n",
      "\n",
      "upload_artifact is experimental (supported from v3.3.0). The interface can change in the future.\n",
      "\n",
      "C:\\Users\\cacic\\AppData\\Local\\Temp\\ipykernel_14144\\4150719641.py:94: ExperimentalWarning:\n",
      "\n",
      "upload_artifact is experimental (supported from v3.3.0). The interface can change in the future.\n",
      "\n",
      "[I 2024-08-16 23:41:20,460] Trial 255 finished with value: 0.353087579377544 and parameters: {'lambda_l1': 0.00038243548562540364, 'lambda_l2': 0.26455172968245244, 'num_leaves': 72, 'feature_fraction': 0.5691239876497789, 'bagging_fraction': 0.98995280719519, 'bagging_freq': 7, 'min_child_samples': 13}. Best is trial 237 with value: 0.370833783471845.\n",
      "C:\\Users\\cacic\\AppData\\Local\\Temp\\ipykernel_14144\\4150719641.py:86: ExperimentalWarning:\n",
      "\n",
      "upload_artifact is experimental (supported from v3.3.0). The interface can change in the future.\n",
      "\n",
      "C:\\Users\\cacic\\AppData\\Local\\Temp\\ipykernel_14144\\4150719641.py:94: ExperimentalWarning:\n",
      "\n",
      "upload_artifact is experimental (supported from v3.3.0). The interface can change in the future.\n",
      "\n",
      "[I 2024-08-16 23:41:28,528] Trial 256 finished with value: 0.3568389127843407 and parameters: {'lambda_l1': 0.0008576356995709048, 'lambda_l2': 0.021284903943494023, 'num_leaves': 61, 'feature_fraction': 0.5563684524327952, 'bagging_fraction': 0.9902728750229559, 'bagging_freq': 7, 'min_child_samples': 10}. Best is trial 237 with value: 0.370833783471845.\n",
      "C:\\Users\\cacic\\AppData\\Local\\Temp\\ipykernel_14144\\4150719641.py:86: ExperimentalWarning:\n",
      "\n",
      "upload_artifact is experimental (supported from v3.3.0). The interface can change in the future.\n",
      "\n",
      "C:\\Users\\cacic\\AppData\\Local\\Temp\\ipykernel_14144\\4150719641.py:94: ExperimentalWarning:\n",
      "\n",
      "upload_artifact is experimental (supported from v3.3.0). The interface can change in the future.\n",
      "\n",
      "[I 2024-08-16 23:41:39,312] Trial 257 finished with value: 0.36608334434074113 and parameters: {'lambda_l1': 0.0008136114623042363, 'lambda_l2': 0.007612138603890224, 'num_leaves': 68, 'feature_fraction': 0.5389065187938487, 'bagging_fraction': 0.9580358363868884, 'bagging_freq': 7, 'min_child_samples': 15}. Best is trial 237 with value: 0.370833783471845.\n",
      "C:\\Users\\cacic\\AppData\\Local\\Temp\\ipykernel_14144\\4150719641.py:86: ExperimentalWarning:\n",
      "\n",
      "upload_artifact is experimental (supported from v3.3.0). The interface can change in the future.\n",
      "\n",
      "C:\\Users\\cacic\\AppData\\Local\\Temp\\ipykernel_14144\\4150719641.py:94: ExperimentalWarning:\n",
      "\n",
      "upload_artifact is experimental (supported from v3.3.0). The interface can change in the future.\n",
      "\n",
      "[I 2024-08-16 23:41:49,628] Trial 258 finished with value: 0.36379738716831034 and parameters: {'lambda_l1': 0.00011685398941696488, 'lambda_l2': 0.05245902997568146, 'num_leaves': 69, 'feature_fraction': 0.5401297730488666, 'bagging_fraction': 0.9697371033585778, 'bagging_freq': 7, 'min_child_samples': 16}. Best is trial 237 with value: 0.370833783471845.\n",
      "C:\\Users\\cacic\\AppData\\Local\\Temp\\ipykernel_14144\\4150719641.py:86: ExperimentalWarning:\n",
      "\n",
      "upload_artifact is experimental (supported from v3.3.0). The interface can change in the future.\n",
      "\n",
      "C:\\Users\\cacic\\AppData\\Local\\Temp\\ipykernel_14144\\4150719641.py:94: ExperimentalWarning:\n",
      "\n",
      "upload_artifact is experimental (supported from v3.3.0). The interface can change in the future.\n",
      "\n",
      "[I 2024-08-16 23:41:59,484] Trial 259 finished with value: 0.3627143424132733 and parameters: {'lambda_l1': 0.000776555902169042, 'lambda_l2': 0.00747580476171812, 'num_leaves': 63, 'feature_fraction': 0.539191093031946, 'bagging_fraction': 0.9550640389084769, 'bagging_freq': 7, 'min_child_samples': 14}. Best is trial 237 with value: 0.370833783471845.\n",
      "C:\\Users\\cacic\\AppData\\Local\\Temp\\ipykernel_14144\\4150719641.py:86: ExperimentalWarning:\n",
      "\n",
      "upload_artifact is experimental (supported from v3.3.0). The interface can change in the future.\n",
      "\n",
      "C:\\Users\\cacic\\AppData\\Local\\Temp\\ipykernel_14144\\4150719641.py:94: ExperimentalWarning:\n",
      "\n",
      "upload_artifact is experimental (supported from v3.3.0). The interface can change in the future.\n",
      "\n",
      "[I 2024-08-16 23:42:09,623] Trial 260 finished with value: 0.35653664897830745 and parameters: {'lambda_l1': 0.00029083853549909035, 'lambda_l2': 0.09316067348074832, 'num_leaves': 68, 'feature_fraction': 0.5555281148172335, 'bagging_fraction': 0.9836272273354916, 'bagging_freq': 7, 'min_child_samples': 12}. Best is trial 237 with value: 0.370833783471845.\n",
      "C:\\Users\\cacic\\AppData\\Local\\Temp\\ipykernel_14144\\4150719641.py:86: ExperimentalWarning:\n",
      "\n",
      "upload_artifact is experimental (supported from v3.3.0). The interface can change in the future.\n",
      "\n",
      "C:\\Users\\cacic\\AppData\\Local\\Temp\\ipykernel_14144\\4150719641.py:94: ExperimentalWarning:\n",
      "\n",
      "upload_artifact is experimental (supported from v3.3.0). The interface can change in the future.\n",
      "\n",
      "[I 2024-08-16 23:42:20,046] Trial 261 finished with value: 0.3619646064076897 and parameters: {'lambda_l1': 0.0005149529886220773, 'lambda_l2': 0.6680621172581889, 'num_leaves': 61, 'feature_fraction': 0.5333344433838008, 'bagging_fraction': 0.963417420697608, 'bagging_freq': 7, 'min_child_samples': 15}. Best is trial 237 with value: 0.370833783471845.\n",
      "C:\\Users\\cacic\\AppData\\Local\\Temp\\ipykernel_14144\\4150719641.py:86: ExperimentalWarning:\n",
      "\n",
      "upload_artifact is experimental (supported from v3.3.0). The interface can change in the future.\n",
      "\n",
      "C:\\Users\\cacic\\AppData\\Local\\Temp\\ipykernel_14144\\4150719641.py:94: ExperimentalWarning:\n",
      "\n",
      "upload_artifact is experimental (supported from v3.3.0). The interface can change in the future.\n",
      "\n",
      "[I 2024-08-16 23:42:30,441] Trial 262 finished with value: 0.3597194801000372 and parameters: {'lambda_l1': 0.001005021001281063, 'lambda_l2': 0.02682895459418197, 'num_leaves': 73, 'feature_fraction': 0.5218740683638364, 'bagging_fraction': 0.9765872011147921, 'bagging_freq': 7, 'min_child_samples': 13}. Best is trial 237 with value: 0.370833783471845.\n",
      "C:\\Users\\cacic\\AppData\\Local\\Temp\\ipykernel_14144\\4150719641.py:86: ExperimentalWarning:\n",
      "\n",
      "upload_artifact is experimental (supported from v3.3.0). The interface can change in the future.\n",
      "\n",
      "C:\\Users\\cacic\\AppData\\Local\\Temp\\ipykernel_14144\\4150719641.py:94: ExperimentalWarning:\n",
      "\n",
      "upload_artifact is experimental (supported from v3.3.0). The interface can change in the future.\n",
      "\n",
      "[I 2024-08-16 23:42:40,456] Trial 263 finished with value: 0.3559092534171626 and parameters: {'lambda_l1': 0.0007037478879874981, 'lambda_l2': 0.11084882167790915, 'num_leaves': 69, 'feature_fraction': 0.5442433894565689, 'bagging_fraction': 0.999329474691505, 'bagging_freq': 7, 'min_child_samples': 17}. Best is trial 237 with value: 0.370833783471845.\n",
      "C:\\Users\\cacic\\AppData\\Local\\Temp\\ipykernel_14144\\4150719641.py:86: ExperimentalWarning:\n",
      "\n",
      "upload_artifact is experimental (supported from v3.3.0). The interface can change in the future.\n",
      "\n",
      "C:\\Users\\cacic\\AppData\\Local\\Temp\\ipykernel_14144\\4150719641.py:94: ExperimentalWarning:\n",
      "\n",
      "upload_artifact is experimental (supported from v3.3.0). The interface can change in the future.\n",
      "\n",
      "[I 2024-08-16 23:42:49,013] Trial 264 finished with value: 0.3556860816018924 and parameters: {'lambda_l1': 0.0011754625235537287, 'lambda_l2': 0.008535221135723694, 'num_leaves': 64, 'feature_fraction': 0.565309025500252, 'bagging_fraction': 0.9509224915831664, 'bagging_freq': 7, 'min_child_samples': 11}. Best is trial 237 with value: 0.370833783471845.\n",
      "C:\\Users\\cacic\\AppData\\Local\\Temp\\ipykernel_14144\\4150719641.py:86: ExperimentalWarning:\n",
      "\n",
      "upload_artifact is experimental (supported from v3.3.0). The interface can change in the future.\n",
      "\n",
      "C:\\Users\\cacic\\AppData\\Local\\Temp\\ipykernel_14144\\4150719641.py:94: ExperimentalWarning:\n",
      "\n",
      "upload_artifact is experimental (supported from v3.3.0). The interface can change in the future.\n",
      "\n",
      "[I 2024-08-16 23:42:58,810] Trial 265 finished with value: 0.3582281514501241 and parameters: {'lambda_l1': 0.0005175816148932704, 'lambda_l2': 0.019124089521090477, 'num_leaves': 58, 'feature_fraction': 0.5216328049485165, 'bagging_fraction': 0.9685788950255941, 'bagging_freq': 7, 'min_child_samples': 9}. Best is trial 237 with value: 0.370833783471845.\n",
      "C:\\Users\\cacic\\AppData\\Local\\Temp\\ipykernel_14144\\4150719641.py:86: ExperimentalWarning:\n",
      "\n",
      "upload_artifact is experimental (supported from v3.3.0). The interface can change in the future.\n",
      "\n",
      "C:\\Users\\cacic\\AppData\\Local\\Temp\\ipykernel_14144\\4150719641.py:94: ExperimentalWarning:\n",
      "\n",
      "upload_artifact is experimental (supported from v3.3.0). The interface can change in the future.\n",
      "\n",
      "[I 2024-08-16 23:43:06,976] Trial 266 finished with value: 0.34591909372452595 and parameters: {'lambda_l1': 0.00112880626794698, 'lambda_l2': 0.005785529176263982, 'num_leaves': 67, 'feature_fraction': 0.5364501430025601, 'bagging_fraction': 0.5676899817305109, 'bagging_freq': 7, 'min_child_samples': 15}. Best is trial 237 with value: 0.370833783471845.\n",
      "C:\\Users\\cacic\\AppData\\Local\\Temp\\ipykernel_14144\\4150719641.py:86: ExperimentalWarning:\n",
      "\n",
      "upload_artifact is experimental (supported from v3.3.0). The interface can change in the future.\n",
      "\n",
      "C:\\Users\\cacic\\AppData\\Local\\Temp\\ipykernel_14144\\4150719641.py:94: ExperimentalWarning:\n",
      "\n",
      "upload_artifact is experimental (supported from v3.3.0). The interface can change in the future.\n",
      "\n",
      "[I 2024-08-16 23:43:17,216] Trial 267 finished with value: 0.36224996923182623 and parameters: {'lambda_l1': 0.0003557316887649605, 'lambda_l2': 0.010418560977687667, 'num_leaves': 73, 'feature_fraction': 0.5815969697881206, 'bagging_fraction': 0.9877756051711084, 'bagging_freq': 7, 'min_child_samples': 12}. Best is trial 237 with value: 0.370833783471845.\n",
      "C:\\Users\\cacic\\AppData\\Local\\Temp\\ipykernel_14144\\4150719641.py:86: ExperimentalWarning:\n",
      "\n",
      "upload_artifact is experimental (supported from v3.3.0). The interface can change in the future.\n",
      "\n",
      "C:\\Users\\cacic\\AppData\\Local\\Temp\\ipykernel_14144\\4150719641.py:94: ExperimentalWarning:\n",
      "\n",
      "upload_artifact is experimental (supported from v3.3.0). The interface can change in the future.\n",
      "\n",
      "[I 2024-08-16 23:43:27,838] Trial 268 finished with value: 0.36363884303777555 and parameters: {'lambda_l1': 0.0007953521102445076, 'lambda_l2': 0.017299851600718476, 'num_leaves': 61, 'feature_fraction': 0.550954061214862, 'bagging_fraction': 0.9450633563944986, 'bagging_freq': 7, 'min_child_samples': 14}. Best is trial 237 with value: 0.370833783471845.\n",
      "C:\\Users\\cacic\\AppData\\Local\\Temp\\ipykernel_14144\\4150719641.py:86: ExperimentalWarning:\n",
      "\n",
      "upload_artifact is experimental (supported from v3.3.0). The interface can change in the future.\n",
      "\n",
      "C:\\Users\\cacic\\AppData\\Local\\Temp\\ipykernel_14144\\4150719641.py:94: ExperimentalWarning:\n",
      "\n",
      "upload_artifact is experimental (supported from v3.3.0). The interface can change in the future.\n",
      "\n",
      "[I 2024-08-16 23:43:38,534] Trial 269 finished with value: 0.3642952995704659 and parameters: {'lambda_l1': 2.054984573914833e-06, 'lambda_l2': 0.00408898688139814, 'num_leaves': 75, 'feature_fraction': 0.5302169632645493, 'bagging_fraction': 0.977435654866429, 'bagging_freq': 7, 'min_child_samples': 11}. Best is trial 237 with value: 0.370833783471845.\n",
      "C:\\Users\\cacic\\AppData\\Local\\Temp\\ipykernel_14144\\4150719641.py:86: ExperimentalWarning:\n",
      "\n",
      "upload_artifact is experimental (supported from v3.3.0). The interface can change in the future.\n",
      "\n",
      "C:\\Users\\cacic\\AppData\\Local\\Temp\\ipykernel_14144\\4150719641.py:94: ExperimentalWarning:\n",
      "\n",
      "upload_artifact is experimental (supported from v3.3.0). The interface can change in the future.\n",
      "\n",
      "[I 2024-08-16 23:43:48,447] Trial 270 finished with value: 0.3602780749583978 and parameters: {'lambda_l1': 0.0016078535504153435, 'lambda_l2': 0.0070011417732005555, 'num_leaves': 66, 'feature_fraction': 0.5188329542064333, 'bagging_fraction': 0.9556779079573122, 'bagging_freq': 7, 'min_child_samples': 16}. Best is trial 237 with value: 0.370833783471845.\n",
      "C:\\Users\\cacic\\AppData\\Local\\Temp\\ipykernel_14144\\4150719641.py:86: ExperimentalWarning:\n",
      "\n",
      "upload_artifact is experimental (supported from v3.3.0). The interface can change in the future.\n",
      "\n",
      "C:\\Users\\cacic\\AppData\\Local\\Temp\\ipykernel_14144\\4150719641.py:94: ExperimentalWarning:\n",
      "\n",
      "upload_artifact is experimental (supported from v3.3.0). The interface can change in the future.\n",
      "\n",
      "[I 2024-08-16 23:44:01,816] Trial 271 finished with value: 0.35405031716127144 and parameters: {'lambda_l1': 0.0016995408600033735, 'lambda_l2': 0.011589817327615633, 'num_leaves': 134, 'feature_fraction': 0.5496002602122367, 'bagging_fraction': 0.9624536258487116, 'bagging_freq': 7, 'min_child_samples': 8}. Best is trial 237 with value: 0.370833783471845.\n",
      "C:\\Users\\cacic\\AppData\\Local\\Temp\\ipykernel_14144\\4150719641.py:86: ExperimentalWarning:\n",
      "\n",
      "upload_artifact is experimental (supported from v3.3.0). The interface can change in the future.\n",
      "\n",
      "C:\\Users\\cacic\\AppData\\Local\\Temp\\ipykernel_14144\\4150719641.py:94: ExperimentalWarning:\n",
      "\n",
      "upload_artifact is experimental (supported from v3.3.0). The interface can change in the future.\n",
      "\n",
      "[I 2024-08-16 23:44:10,390] Trial 272 finished with value: 0.3536064615078452 and parameters: {'lambda_l1': 0.0010458435512352988, 'lambda_l2': 0.004480034947051385, 'num_leaves': 55, 'feature_fraction': 0.642170300805481, 'bagging_fraction': 0.9891739831812899, 'bagging_freq': 7, 'min_child_samples': 13}. Best is trial 237 with value: 0.370833783471845.\n",
      "C:\\Users\\cacic\\AppData\\Local\\Temp\\ipykernel_14144\\4150719641.py:86: ExperimentalWarning:\n",
      "\n",
      "upload_artifact is experimental (supported from v3.3.0). The interface can change in the future.\n",
      "\n",
      "C:\\Users\\cacic\\AppData\\Local\\Temp\\ipykernel_14144\\4150719641.py:94: ExperimentalWarning:\n",
      "\n",
      "upload_artifact is experimental (supported from v3.3.0). The interface can change in the future.\n",
      "\n",
      "[I 2024-08-16 23:44:21,095] Trial 273 finished with value: 0.35507376779394817 and parameters: {'lambda_l1': 0.0005459642111250402, 'lambda_l2': 0.01727385610414649, 'num_leaves': 70, 'feature_fraction': 0.5324364686591727, 'bagging_fraction': 0.9356428739345518, 'bagging_freq': 7, 'min_child_samples': 10}. Best is trial 237 with value: 0.370833783471845.\n",
      "C:\\Users\\cacic\\AppData\\Local\\Temp\\ipykernel_14144\\4150719641.py:86: ExperimentalWarning:\n",
      "\n",
      "upload_artifact is experimental (supported from v3.3.0). The interface can change in the future.\n",
      "\n",
      "C:\\Users\\cacic\\AppData\\Local\\Temp\\ipykernel_14144\\4150719641.py:94: ExperimentalWarning:\n",
      "\n",
      "upload_artifact is experimental (supported from v3.3.0). The interface can change in the future.\n",
      "\n",
      "[I 2024-08-16 23:44:29,176] Trial 274 finished with value: 0.35907962500388596 and parameters: {'lambda_l1': 0.0007710830827401708, 'lambda_l2': 0.1157885982125607, 'num_leaves': 62, 'feature_fraction': 0.9356964640761498, 'bagging_fraction': 0.9744201590302477, 'bagging_freq': 7, 'min_child_samples': 14}. Best is trial 237 with value: 0.370833783471845.\n",
      "C:\\Users\\cacic\\AppData\\Local\\Temp\\ipykernel_14144\\4150719641.py:86: ExperimentalWarning:\n",
      "\n",
      "upload_artifact is experimental (supported from v3.3.0). The interface can change in the future.\n",
      "\n",
      "C:\\Users\\cacic\\AppData\\Local\\Temp\\ipykernel_14144\\4150719641.py:94: ExperimentalWarning:\n",
      "\n",
      "upload_artifact is experimental (supported from v3.3.0). The interface can change in the future.\n",
      "\n",
      "[I 2024-08-16 23:44:41,006] Trial 275 finished with value: 0.36213440883873105 and parameters: {'lambda_l1': 0.002055631394457657, 'lambda_l2': 0.008000397011175659, 'num_leaves': 76, 'feature_fraction': 0.5176673385238806, 'bagging_fraction': 0.951404039505937, 'bagging_freq': 7, 'min_child_samples': 12}. Best is trial 237 with value: 0.370833783471845.\n",
      "C:\\Users\\cacic\\AppData\\Local\\Temp\\ipykernel_14144\\4150719641.py:86: ExperimentalWarning:\n",
      "\n",
      "upload_artifact is experimental (supported from v3.3.0). The interface can change in the future.\n",
      "\n",
      "C:\\Users\\cacic\\AppData\\Local\\Temp\\ipykernel_14144\\4150719641.py:94: ExperimentalWarning:\n",
      "\n",
      "upload_artifact is experimental (supported from v3.3.0). The interface can change in the future.\n",
      "\n",
      "[I 2024-08-16 23:44:50,413] Trial 276 finished with value: 0.36664337477554065 and parameters: {'lambda_l1': 0.0011601981818961987, 'lambda_l2': 0.03276562564489708, 'num_leaves': 65, 'feature_fraction': 0.5404319819365292, 'bagging_fraction': 0.963376899903769, 'bagging_freq': 7, 'min_child_samples': 17}. Best is trial 237 with value: 0.370833783471845.\n",
      "C:\\Users\\cacic\\AppData\\Local\\Temp\\ipykernel_14144\\4150719641.py:86: ExperimentalWarning:\n",
      "\n",
      "upload_artifact is experimental (supported from v3.3.0). The interface can change in the future.\n",
      "\n",
      "C:\\Users\\cacic\\AppData\\Local\\Temp\\ipykernel_14144\\4150719641.py:94: ExperimentalWarning:\n",
      "\n",
      "upload_artifact is experimental (supported from v3.3.0). The interface can change in the future.\n",
      "\n",
      "[I 2024-08-16 23:44:59,319] Trial 277 finished with value: 0.3662487800118286 and parameters: {'lambda_l1': 1.1300214411538765e-07, 'lambda_l2': 0.16309809854770738, 'num_leaves': 59, 'feature_fraction': 0.5647847525636088, 'bagging_fraction': 0.9809074822894226, 'bagging_freq': 7, 'min_child_samples': 17}. Best is trial 237 with value: 0.370833783471845.\n",
      "C:\\Users\\cacic\\AppData\\Local\\Temp\\ipykernel_14144\\4150719641.py:86: ExperimentalWarning:\n",
      "\n",
      "upload_artifact is experimental (supported from v3.3.0). The interface can change in the future.\n",
      "\n",
      "C:\\Users\\cacic\\AppData\\Local\\Temp\\ipykernel_14144\\4150719641.py:94: ExperimentalWarning:\n",
      "\n",
      "upload_artifact is experimental (supported from v3.3.0). The interface can change in the future.\n",
      "\n",
      "[I 2024-08-16 23:45:07,385] Trial 278 finished with value: 0.35711860527876604 and parameters: {'lambda_l1': 6.375834061424132e-06, 'lambda_l2': 0.08090586777355825, 'num_leaves': 49, 'feature_fraction': 0.521192103434228, 'bagging_fraction': 0.9409818421872441, 'bagging_freq': 7, 'min_child_samples': 17}. Best is trial 237 with value: 0.370833783471845.\n",
      "C:\\Users\\cacic\\AppData\\Local\\Temp\\ipykernel_14144\\4150719641.py:86: ExperimentalWarning:\n",
      "\n",
      "upload_artifact is experimental (supported from v3.3.0). The interface can change in the future.\n",
      "\n",
      "C:\\Users\\cacic\\AppData\\Local\\Temp\\ipykernel_14144\\4150719641.py:94: ExperimentalWarning:\n",
      "\n",
      "upload_artifact is experimental (supported from v3.3.0). The interface can change in the future.\n",
      "\n",
      "[I 2024-08-16 23:45:16,817] Trial 279 finished with value: 0.3666640186619917 and parameters: {'lambda_l1': 1.650383313622198e-08, 'lambda_l2': 0.2627225996251226, 'num_leaves': 58, 'feature_fraction': 0.5305659717791994, 'bagging_fraction': 0.9901691251046373, 'bagging_freq': 7, 'min_child_samples': 18}. Best is trial 237 with value: 0.370833783471845.\n",
      "C:\\Users\\cacic\\AppData\\Local\\Temp\\ipykernel_14144\\4150719641.py:86: ExperimentalWarning:\n",
      "\n",
      "upload_artifact is experimental (supported from v3.3.0). The interface can change in the future.\n",
      "\n",
      "C:\\Users\\cacic\\AppData\\Local\\Temp\\ipykernel_14144\\4150719641.py:94: ExperimentalWarning:\n",
      "\n",
      "upload_artifact is experimental (supported from v3.3.0). The interface can change in the future.\n",
      "\n",
      "[I 2024-08-16 23:45:26,373] Trial 280 finished with value: 0.36095248007276903 and parameters: {'lambda_l1': 7.909658556156506e-08, 'lambda_l2': 0.0054841696866488885, 'num_leaves': 59, 'feature_fraction': 0.5343938552285857, 'bagging_fraction': 0.9992793230226594, 'bagging_freq': 7, 'min_child_samples': 18}. Best is trial 237 with value: 0.370833783471845.\n",
      "C:\\Users\\cacic\\AppData\\Local\\Temp\\ipykernel_14144\\4150719641.py:86: ExperimentalWarning:\n",
      "\n",
      "upload_artifact is experimental (supported from v3.3.0). The interface can change in the future.\n",
      "\n",
      "C:\\Users\\cacic\\AppData\\Local\\Temp\\ipykernel_14144\\4150719641.py:94: ExperimentalWarning:\n",
      "\n",
      "upload_artifact is experimental (supported from v3.3.0). The interface can change in the future.\n",
      "\n",
      "[I 2024-08-16 23:45:35,159] Trial 281 finished with value: 0.3611190608563372 and parameters: {'lambda_l1': 4.4170795017444864e-07, 'lambda_l2': 0.15406448803883496, 'num_leaves': 55, 'feature_fraction': 0.5547013846310571, 'bagging_fraction': 0.9898427959398147, 'bagging_freq': 7, 'min_child_samples': 16}. Best is trial 237 with value: 0.370833783471845.\n",
      "C:\\Users\\cacic\\AppData\\Local\\Temp\\ipykernel_14144\\4150719641.py:86: ExperimentalWarning:\n",
      "\n",
      "upload_artifact is experimental (supported from v3.3.0). The interface can change in the future.\n",
      "\n",
      "C:\\Users\\cacic\\AppData\\Local\\Temp\\ipykernel_14144\\4150719641.py:94: ExperimentalWarning:\n",
      "\n",
      "upload_artifact is experimental (supported from v3.3.0). The interface can change in the future.\n",
      "\n",
      "[I 2024-08-16 23:45:44,470] Trial 282 finished with value: 0.35505092051875814 and parameters: {'lambda_l1': 0.0010955448243168196, 'lambda_l2': 0.19557970375305855, 'num_leaves': 60, 'feature_fraction': 0.7390265714532203, 'bagging_fraction': 0.9790256815582818, 'bagging_freq': 7, 'min_child_samples': 17}. Best is trial 237 with value: 0.370833783471845.\n",
      "C:\\Users\\cacic\\AppData\\Local\\Temp\\ipykernel_14144\\4150719641.py:86: ExperimentalWarning:\n",
      "\n",
      "upload_artifact is experimental (supported from v3.3.0). The interface can change in the future.\n",
      "\n",
      "C:\\Users\\cacic\\AppData\\Local\\Temp\\ipykernel_14144\\4150719641.py:94: ExperimentalWarning:\n",
      "\n",
      "upload_artifact is experimental (supported from v3.3.0). The interface can change in the future.\n",
      "\n",
      "[I 2024-08-16 23:45:57,539] Trial 283 finished with value: 0.35676820426889877 and parameters: {'lambda_l1': 0.0019043011925450946, 'lambda_l2': 0.6434127388148062, 'num_leaves': 71, 'feature_fraction': 0.5299056591541265, 'bagging_fraction': 0.9700249752547813, 'bagging_freq': 4, 'min_child_samples': 21}. Best is trial 237 with value: 0.370833783471845.\n",
      "C:\\Users\\cacic\\AppData\\Local\\Temp\\ipykernel_14144\\4150719641.py:86: ExperimentalWarning:\n",
      "\n",
      "upload_artifact is experimental (supported from v3.3.0). The interface can change in the future.\n",
      "\n",
      "C:\\Users\\cacic\\AppData\\Local\\Temp\\ipykernel_14144\\4150719641.py:94: ExperimentalWarning:\n",
      "\n",
      "upload_artifact is experimental (supported from v3.3.0). The interface can change in the future.\n",
      "\n",
      "[I 2024-08-16 23:46:07,261] Trial 284 finished with value: 0.36474335236400474 and parameters: {'lambda_l1': 0.0007930557563950957, 'lambda_l2': 0.5397795566722168, 'num_leaves': 64, 'feature_fraction': 0.5712194439506345, 'bagging_fraction': 0.9798044145337498, 'bagging_freq': 6, 'min_child_samples': 15}. Best is trial 237 with value: 0.370833783471845.\n",
      "C:\\Users\\cacic\\AppData\\Local\\Temp\\ipykernel_14144\\4150719641.py:86: ExperimentalWarning:\n",
      "\n",
      "upload_artifact is experimental (supported from v3.3.0). The interface can change in the future.\n",
      "\n",
      "C:\\Users\\cacic\\AppData\\Local\\Temp\\ipykernel_14144\\4150719641.py:94: ExperimentalWarning:\n",
      "\n",
      "upload_artifact is experimental (supported from v3.3.0). The interface can change in the future.\n",
      "\n",
      "[I 2024-08-16 23:46:15,169] Trial 285 finished with value: 0.35444317090966265 and parameters: {'lambda_l1': 1.3268905534936674e-08, 'lambda_l2': 0.25864931278692027, 'num_leaves': 64, 'feature_fraction': 0.5654523916632006, 'bagging_fraction': 0.9914413324391819, 'bagging_freq': 5, 'min_child_samples': 19}. Best is trial 237 with value: 0.370833783471845.\n",
      "C:\\Users\\cacic\\AppData\\Local\\Temp\\ipykernel_14144\\4150719641.py:86: ExperimentalWarning:\n",
      "\n",
      "upload_artifact is experimental (supported from v3.3.0). The interface can change in the future.\n",
      "\n",
      "C:\\Users\\cacic\\AppData\\Local\\Temp\\ipykernel_14144\\4150719641.py:94: ExperimentalWarning:\n",
      "\n",
      "upload_artifact is experimental (supported from v3.3.0). The interface can change in the future.\n",
      "\n",
      "[I 2024-08-16 23:46:23,460] Trial 286 finished with value: 0.35679640799765033 and parameters: {'lambda_l1': 1.906236300144841e-08, 'lambda_l2': 2.156951544944737, 'num_leaves': 55, 'feature_fraction': 0.5906853032581817, 'bagging_fraction': 0.9831197741849299, 'bagging_freq': 6, 'min_child_samples': 15}. Best is trial 237 with value: 0.370833783471845.\n",
      "C:\\Users\\cacic\\AppData\\Local\\Temp\\ipykernel_14144\\4150719641.py:86: ExperimentalWarning:\n",
      "\n",
      "upload_artifact is experimental (supported from v3.3.0). The interface can change in the future.\n",
      "\n",
      "C:\\Users\\cacic\\AppData\\Local\\Temp\\ipykernel_14144\\4150719641.py:94: ExperimentalWarning:\n",
      "\n",
      "upload_artifact is experimental (supported from v3.3.0). The interface can change in the future.\n",
      "\n",
      "[I 2024-08-16 23:46:32,534] Trial 287 finished with value: 0.3601283494640516 and parameters: {'lambda_l1': 7.384379871656273e-08, 'lambda_l2': 1.0529787684716396, 'num_leaves': 60, 'feature_fraction': 0.5726497815642648, 'bagging_fraction': 0.9996220764007947, 'bagging_freq': 6, 'min_child_samples': 18}. Best is trial 237 with value: 0.370833783471845.\n",
      "C:\\Users\\cacic\\AppData\\Local\\Temp\\ipykernel_14144\\4150719641.py:86: ExperimentalWarning:\n",
      "\n",
      "upload_artifact is experimental (supported from v3.3.0). The interface can change in the future.\n",
      "\n",
      "C:\\Users\\cacic\\AppData\\Local\\Temp\\ipykernel_14144\\4150719641.py:94: ExperimentalWarning:\n",
      "\n",
      "upload_artifact is experimental (supported from v3.3.0). The interface can change in the future.\n",
      "\n",
      "[I 2024-08-16 23:46:42,689] Trial 288 finished with value: 0.36323908210053724 and parameters: {'lambda_l1': 3.043359283916224e-05, 'lambda_l2': 0.4354390624104764, 'num_leaves': 69, 'feature_fraction': 0.5481779637578055, 'bagging_fraction': 0.9772507991982806, 'bagging_freq': 3, 'min_child_samples': 16}. Best is trial 237 with value: 0.370833783471845.\n",
      "C:\\Users\\cacic\\AppData\\Local\\Temp\\ipykernel_14144\\4150719641.py:86: ExperimentalWarning:\n",
      "\n",
      "upload_artifact is experimental (supported from v3.3.0). The interface can change in the future.\n",
      "\n",
      "C:\\Users\\cacic\\AppData\\Local\\Temp\\ipykernel_14144\\4150719641.py:94: ExperimentalWarning:\n",
      "\n",
      "upload_artifact is experimental (supported from v3.3.0). The interface can change in the future.\n",
      "\n",
      "[I 2024-08-16 23:46:54,150] Trial 289 finished with value: 0.3681183340387588 and parameters: {'lambda_l1': 0.0007709537146256885, 'lambda_l2': 0.36733703913777543, 'num_leaves': 63, 'feature_fraction': 0.5428145019589372, 'bagging_fraction': 0.984153365297783, 'bagging_freq': 6, 'min_child_samples': 14}. Best is trial 237 with value: 0.370833783471845.\n",
      "C:\\Users\\cacic\\AppData\\Local\\Temp\\ipykernel_14144\\4150719641.py:86: ExperimentalWarning:\n",
      "\n",
      "upload_artifact is experimental (supported from v3.3.0). The interface can change in the future.\n",
      "\n",
      "C:\\Users\\cacic\\AppData\\Local\\Temp\\ipykernel_14144\\4150719641.py:94: ExperimentalWarning:\n",
      "\n",
      "upload_artifact is experimental (supported from v3.3.0). The interface can change in the future.\n",
      "\n",
      "[I 2024-08-16 23:47:03,649] Trial 290 finished with value: 0.36330119905866115 and parameters: {'lambda_l1': 1.4630197515946647e-07, 'lambda_l2': 0.10999690206073445, 'num_leaves': 54, 'feature_fraction': 0.5575227858882043, 'bagging_fraction': 0.9919851358065807, 'bagging_freq': 7, 'min_child_samples': 15}. Best is trial 237 with value: 0.370833783471845.\n",
      "C:\\Users\\cacic\\AppData\\Local\\Temp\\ipykernel_14144\\4150719641.py:86: ExperimentalWarning:\n",
      "\n",
      "upload_artifact is experimental (supported from v3.3.0). The interface can change in the future.\n",
      "\n",
      "C:\\Users\\cacic\\AppData\\Local\\Temp\\ipykernel_14144\\4150719641.py:94: ExperimentalWarning:\n",
      "\n",
      "upload_artifact is experimental (supported from v3.3.0). The interface can change in the future.\n",
      "\n",
      "[I 2024-08-16 23:47:14,437] Trial 291 finished with value: 0.3596516243804201 and parameters: {'lambda_l1': 0.000233423666790705, 'lambda_l2': 0.330938199625194, 'num_leaves': 64, 'feature_fraction': 0.511579431859301, 'bagging_fraction': 0.9799116290137884, 'bagging_freq': 6, 'min_child_samples': 17}. Best is trial 237 with value: 0.370833783471845.\n",
      "C:\\Users\\cacic\\AppData\\Local\\Temp\\ipykernel_14144\\4150719641.py:86: ExperimentalWarning:\n",
      "\n",
      "upload_artifact is experimental (supported from v3.3.0). The interface can change in the future.\n",
      "\n",
      "C:\\Users\\cacic\\AppData\\Local\\Temp\\ipykernel_14144\\4150719641.py:94: ExperimentalWarning:\n",
      "\n",
      "upload_artifact is experimental (supported from v3.3.0). The interface can change in the future.\n",
      "\n",
      "[I 2024-08-16 23:47:24,201] Trial 292 finished with value: 0.3651152724355901 and parameters: {'lambda_l1': 0.0007395891557508749, 'lambda_l2': 0.2733552969410628, 'num_leaves': 59, 'feature_fraction': 0.5370578436451217, 'bagging_fraction': 0.9850452738597681, 'bagging_freq': 5, 'min_child_samples': 19}. Best is trial 237 with value: 0.370833783471845.\n",
      "C:\\Users\\cacic\\AppData\\Local\\Temp\\ipykernel_14144\\4150719641.py:86: ExperimentalWarning:\n",
      "\n",
      "upload_artifact is experimental (supported from v3.3.0). The interface can change in the future.\n",
      "\n",
      "C:\\Users\\cacic\\AppData\\Local\\Temp\\ipykernel_14144\\4150719641.py:94: ExperimentalWarning:\n",
      "\n",
      "upload_artifact is experimental (supported from v3.3.0). The interface can change in the future.\n",
      "\n",
      "[I 2024-08-16 23:47:32,174] Trial 293 finished with value: 0.3495774664507315 and parameters: {'lambda_l1': 0.00046516600541205414, 'lambda_l2': 0.5534370670405176, 'num_leaves': 50, 'feature_fraction': 0.5353596438891305, 'bagging_fraction': 0.5948877159513548, 'bagging_freq': 5, 'min_child_samples': 22}. Best is trial 237 with value: 0.370833783471845.\n",
      "C:\\Users\\cacic\\AppData\\Local\\Temp\\ipykernel_14144\\4150719641.py:86: ExperimentalWarning:\n",
      "\n",
      "upload_artifact is experimental (supported from v3.3.0). The interface can change in the future.\n",
      "\n",
      "C:\\Users\\cacic\\AppData\\Local\\Temp\\ipykernel_14144\\4150719641.py:94: ExperimentalWarning:\n",
      "\n",
      "upload_artifact is experimental (supported from v3.3.0). The interface can change in the future.\n",
      "\n",
      "[I 2024-08-16 23:47:42,557] Trial 294 finished with value: 0.3642141217096949 and parameters: {'lambda_l1': 0.0006746371369389769, 'lambda_l2': 0.13900297787066646, 'num_leaves': 58, 'feature_fraction': 0.5150170446067095, 'bagging_fraction': 0.9903574086961943, 'bagging_freq': 5, 'min_child_samples': 24}. Best is trial 237 with value: 0.370833783471845.\n",
      "C:\\Users\\cacic\\AppData\\Local\\Temp\\ipykernel_14144\\4150719641.py:86: ExperimentalWarning:\n",
      "\n",
      "upload_artifact is experimental (supported from v3.3.0). The interface can change in the future.\n",
      "\n",
      "C:\\Users\\cacic\\AppData\\Local\\Temp\\ipykernel_14144\\4150719641.py:94: ExperimentalWarning:\n",
      "\n",
      "upload_artifact is experimental (supported from v3.3.0). The interface can change in the future.\n",
      "\n",
      "[I 2024-08-16 23:47:51,037] Trial 295 finished with value: 0.3471197820904159 and parameters: {'lambda_l1': 0.0007042004111450672, 'lambda_l2': 0.6448619139698138, 'num_leaves': 59, 'feature_fraction': 0.5329584826673587, 'bagging_fraction': 0.5206515271361278, 'bagging_freq': 6, 'min_child_samples': 20}. Best is trial 237 with value: 0.370833783471845.\n",
      "C:\\Users\\cacic\\AppData\\Local\\Temp\\ipykernel_14144\\4150719641.py:86: ExperimentalWarning:\n",
      "\n",
      "upload_artifact is experimental (supported from v3.3.0). The interface can change in the future.\n",
      "\n",
      "C:\\Users\\cacic\\AppData\\Local\\Temp\\ipykernel_14144\\4150719641.py:94: ExperimentalWarning:\n",
      "\n",
      "upload_artifact is experimental (supported from v3.3.0). The interface can change in the future.\n",
      "\n",
      "[I 2024-08-16 23:48:00,503] Trial 296 finished with value: 0.35771564786006077 and parameters: {'lambda_l1': 0.0003991405739306741, 'lambda_l2': 0.3444770469314536, 'num_leaves': 53, 'feature_fraction': 0.5752918911552054, 'bagging_fraction': 0.9854383339833018, 'bagging_freq': 5, 'min_child_samples': 19}. Best is trial 237 with value: 0.370833783471845.\n",
      "C:\\Users\\cacic\\AppData\\Local\\Temp\\ipykernel_14144\\4150719641.py:86: ExperimentalWarning:\n",
      "\n",
      "upload_artifact is experimental (supported from v3.3.0). The interface can change in the future.\n",
      "\n",
      "C:\\Users\\cacic\\AppData\\Local\\Temp\\ipykernel_14144\\4150719641.py:94: ExperimentalWarning:\n",
      "\n",
      "upload_artifact is experimental (supported from v3.3.0). The interface can change in the future.\n",
      "\n",
      "[I 2024-08-16 23:48:10,409] Trial 297 finished with value: 0.35995947240033854 and parameters: {'lambda_l1': 0.0009276925415977253, 'lambda_l2': 1.1276172764180294, 'num_leaves': 62, 'feature_fraction': 0.5242209018602406, 'bagging_fraction': 0.9688199604656155, 'bagging_freq': 6, 'min_child_samples': 18}. Best is trial 237 with value: 0.370833783471845.\n",
      "C:\\Users\\cacic\\AppData\\Local\\Temp\\ipykernel_14144\\4150719641.py:86: ExperimentalWarning:\n",
      "\n",
      "upload_artifact is experimental (supported from v3.3.0). The interface can change in the future.\n",
      "\n",
      "C:\\Users\\cacic\\AppData\\Local\\Temp\\ipykernel_14144\\4150719641.py:94: ExperimentalWarning:\n",
      "\n",
      "upload_artifact is experimental (supported from v3.3.0). The interface can change in the future.\n",
      "\n",
      "[I 2024-08-16 23:48:21,064] Trial 298 finished with value: 0.3624419102193045 and parameters: {'lambda_l1': 2.4270023014268084e-08, 'lambda_l2': 0.41768005211053355, 'num_leaves': 68, 'feature_fraction': 0.5081329705143594, 'bagging_fraction': 0.9996789475291453, 'bagging_freq': 6, 'min_child_samples': 15}. Best is trial 237 with value: 0.370833783471845.\n",
      "C:\\Users\\cacic\\AppData\\Local\\Temp\\ipykernel_14144\\4150719641.py:86: ExperimentalWarning:\n",
      "\n",
      "upload_artifact is experimental (supported from v3.3.0). The interface can change in the future.\n",
      "\n",
      "C:\\Users\\cacic\\AppData\\Local\\Temp\\ipykernel_14144\\4150719641.py:94: ExperimentalWarning:\n",
      "\n",
      "upload_artifact is experimental (supported from v3.3.0). The interface can change in the future.\n",
      "\n",
      "[I 2024-08-16 23:48:30,424] Trial 299 finished with value: 0.3591405105138455 and parameters: {'lambda_l1': 4.937332331597118e-08, 'lambda_l2': 0.23494294947201885, 'num_leaves': 64, 'feature_fraction': 0.5457272237264141, 'bagging_fraction': 0.9803117957361858, 'bagging_freq': 5, 'min_child_samples': 21}. Best is trial 237 with value: 0.370833783471845.\n",
      "C:\\Users\\cacic\\AppData\\Local\\Temp\\ipykernel_14144\\4150719641.py:86: ExperimentalWarning:\n",
      "\n",
      "upload_artifact is experimental (supported from v3.3.0). The interface can change in the future.\n",
      "\n",
      "C:\\Users\\cacic\\AppData\\Local\\Temp\\ipykernel_14144\\4150719641.py:94: ExperimentalWarning:\n",
      "\n",
      "upload_artifact is experimental (supported from v3.3.0). The interface can change in the future.\n",
      "\n",
      "[I 2024-08-16 23:48:40,164] Trial 300 finished with value: 0.36250049501349474 and parameters: {'lambda_l1': 0.0002668915229836292, 'lambda_l2': 0.16746272984739075, 'num_leaves': 78, 'feature_fraction': 0.5252821943486744, 'bagging_fraction': 0.9636336899671006, 'bagging_freq': 6, 'min_child_samples': 14}. Best is trial 237 with value: 0.370833783471845.\n",
      "C:\\Users\\cacic\\AppData\\Local\\Temp\\ipykernel_14144\\4150719641.py:86: ExperimentalWarning:\n",
      "\n",
      "upload_artifact is experimental (supported from v3.3.0). The interface can change in the future.\n",
      "\n",
      "C:\\Users\\cacic\\AppData\\Local\\Temp\\ipykernel_14144\\4150719641.py:94: ExperimentalWarning:\n",
      "\n",
      "upload_artifact is experimental (supported from v3.3.0). The interface can change in the future.\n",
      "\n",
      "[I 2024-08-16 23:48:52,462] Trial 301 finished with value: 0.3615632652543215 and parameters: {'lambda_l1': 7.00971126646486e-07, 'lambda_l2': 0.3689764152112212, 'num_leaves': 71, 'feature_fraction': 0.5391127445879198, 'bagging_fraction': 0.9877847997629212, 'bagging_freq': 7, 'min_child_samples': 17}. Best is trial 237 with value: 0.370833783471845.\n",
      "C:\\Users\\cacic\\AppData\\Local\\Temp\\ipykernel_14144\\4150719641.py:86: ExperimentalWarning:\n",
      "\n",
      "upload_artifact is experimental (supported from v3.3.0). The interface can change in the future.\n",
      "\n",
      "C:\\Users\\cacic\\AppData\\Local\\Temp\\ipykernel_14144\\4150719641.py:94: ExperimentalWarning:\n",
      "\n",
      "upload_artifact is experimental (supported from v3.3.0). The interface can change in the future.\n",
      "\n",
      "[I 2024-08-16 23:49:01,105] Trial 302 finished with value: 0.34135699628262717 and parameters: {'lambda_l1': 0.0006789381650483746, 'lambda_l2': 0.04698185337716488, 'num_leaves': 58, 'feature_fraction': 0.555836123477717, 'bagging_fraction': 0.4442814410912893, 'bagging_freq': 6, 'min_child_samples': 14}. Best is trial 237 with value: 0.370833783471845.\n",
      "C:\\Users\\cacic\\AppData\\Local\\Temp\\ipykernel_14144\\4150719641.py:86: ExperimentalWarning:\n",
      "\n",
      "upload_artifact is experimental (supported from v3.3.0). The interface can change in the future.\n",
      "\n",
      "C:\\Users\\cacic\\AppData\\Local\\Temp\\ipykernel_14144\\4150719641.py:94: ExperimentalWarning:\n",
      "\n",
      "upload_artifact is experimental (supported from v3.3.0). The interface can change in the future.\n",
      "\n",
      "[I 2024-08-16 23:49:08,479] Trial 303 finished with value: 0.3462285759921748 and parameters: {'lambda_l1': 0.0013194311892579086, 'lambda_l2': 0.2041946939350009, 'num_leaves': 67, 'feature_fraction': 0.9817700254757742, 'bagging_fraction': 0.8244236683355584, 'bagging_freq': 5, 'min_child_samples': 16}. Best is trial 237 with value: 0.370833783471845.\n",
      "C:\\Users\\cacic\\AppData\\Local\\Temp\\ipykernel_14144\\4150719641.py:86: ExperimentalWarning:\n",
      "\n",
      "upload_artifact is experimental (supported from v3.3.0). The interface can change in the future.\n",
      "\n",
      "C:\\Users\\cacic\\AppData\\Local\\Temp\\ipykernel_14144\\4150719641.py:94: ExperimentalWarning:\n",
      "\n",
      "upload_artifact is experimental (supported from v3.3.0). The interface can change in the future.\n",
      "\n",
      "[I 2024-08-16 23:49:18,937] Trial 304 finished with value: 0.3627124552166479 and parameters: {'lambda_l1': 0.002126214063419351, 'lambda_l2': 1.473846397739083e-08, 'num_leaves': 73, 'feature_fraction': 0.5109501439733272, 'bagging_fraction': 0.9655823587821918, 'bagging_freq': 7, 'min_child_samples': 19}. Best is trial 237 with value: 0.370833783471845.\n"
     ]
    }
   ],
   "source": [
    "#Inicio el store de artefactos (archivos) de optuna\n",
    "artifact_store = FileSystemArtifactStore(base_path=PATH_TO_OPTUNA_ARTIFACTS)\n",
    "\n",
    "#Genero estudio\n",
    "study = optuna.create_study(direction='maximize',\n",
    "                            storage=\"sqlite:///../work/db.sqlite3\",  # Specify the storage URL here.\n",
    "                            study_name=\"04 - LGB Multiclass CV\",\n",
    "                            load_if_exists = True)\n",
    "#Corro la optimizacion\n",
    "study.optimize(cv_es_lgb_objective, n_trials=100)"
   ]
  },
  {
   "cell_type": "markdown",
   "metadata": {},
   "source": [
    "Para ver el optuna dashboard tengo que correr este comando en la terminal\n",
    "##### Pasos necesarios:\n",
    "##### 1- Abrir la ventana de comandos de Anaconda, desde la opción \"Powershell Prompt\"\n",
    "##### 2- Cambiar de entorno tipeando **conda activate ldi2** y dandole Enter\n",
    "##### 3- Ir al directorio donde está este script, en este caso sería tipeando **cd 'C:\\Repositorios-Git\\MCD-Labo_Imp_II\\tutoriales'** y Enter\n",
    "##### 4- Tipear la instrucción del cuadro de abajo, SIN EL **!**"
   ]
  },
  {
   "cell_type": "code",
   "execution_count": 28,
   "metadata": {},
   "outputs": [
    {
     "name": "stdout",
     "output_type": "stream",
     "text": [
      "^C\n"
     ]
    }
   ],
   "source": [
    "!optuna-dashboard sqlite:///../work/db.sqlite3 --artifact-dir ../work/optuna_artifacts --port 8081"
   ]
  }
 ],
 "metadata": {
  "kernelspec": {
   "display_name": "ldi2",
   "language": "python",
   "name": "python3"
  },
  "language_info": {
   "codemirror_mode": {
    "name": "ipython",
    "version": 3
   },
   "file_extension": ".py",
   "mimetype": "text/x-python",
   "name": "python",
   "nbconvert_exporter": "python",
   "pygments_lexer": "ipython3",
   "version": "3.12.4"
  }
 },
 "nbformat": 4,
 "nbformat_minor": 2
}
