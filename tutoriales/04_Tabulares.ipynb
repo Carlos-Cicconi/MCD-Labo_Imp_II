{
 "cells": [
  {
   "cell_type": "markdown",
   "metadata": {},
   "source": [
    "## Modelo datos estructurados\n",
    "Este notebook desarrolla un primer modelo para resolver el problema de Petfinder. Empezamos haciendo un modelo inicial muy simple para ver la viabilidad de resolver el problema. Luego analizamos como se comporta la métrica kappa propuesta y vemos la matriz de confusión. Finalmente hacemos una optimizacin de hiperparametros evaluando con train/test y otra validando con 5 fold CV y testeando en el 20% de los datos"
   ]
  },
  {
   "cell_type": "code",
   "execution_count": 1,
   "metadata": {},
   "outputs": [
    {
     "name": "stderr",
     "output_type": "stream",
     "text": [
      "c:\\Users\\cacic\\anaconda3\\envs\\ldi2\\Lib\\site-packages\\tqdm\\auto.py:21: TqdmWarning: IProgress not found. Please update jupyter and ipywidgets. See https://ipywidgets.readthedocs.io/en/stable/user_install.html\n",
      "  from .autonotebook import tqdm as notebook_tqdm\n"
     ]
    }
   ],
   "source": [
    "#Import de librerias basicas tablas y matrices\n",
    "import numpy as np \n",
    "import pandas as pd \n",
    "\n",
    "#Gradient Boosting\n",
    "import lightgbm as lgb\n",
    "\n",
    "#Funciones auxiliares sklearn\n",
    "from sklearn.model_selection import train_test_split, StratifiedKFold #Split y cross Validation\n",
    "from sklearn.metrics import cohen_kappa_score, accuracy_score, balanced_accuracy_score #Metricas\n",
    "from sklearn.utils import shuffle \n",
    "\n",
    "#Visualizacióon\n",
    "from plotly import express as px\n",
    "\n",
    "#Plot de matriz de confusion normalizada en actuals\n",
    "from utils import plot_confusion_matrix\n",
    "\n",
    "import os\n",
    "\n",
    "#Optimizacion de hiperparametros\n",
    "import optuna\n",
    "from optuna.artifacts import FileSystemArtifactStore, upload_artifact\n",
    "\n",
    "#Guardado de objetos en archivos joblib\n",
    "from joblib import load, dump\n"
   ]
  },
  {
   "cell_type": "code",
   "execution_count": 2,
   "metadata": {},
   "outputs": [],
   "source": [
    "# Paths para acceso archivos\n",
    "#Este notebook asume la siguiente estructura de carpetas a partir de la ubicacion de base_dir \n",
    "#(dos niveles arriba de la carpeta donde se ejecuta el notebook). \n",
    "# /UA_MDM_LDI_II/\n",
    "# /UA_MDM_LDI_II/input\n",
    "# /UA_MDM_LDI_II/input/petfinder-adoption-prediction/            <- Aca deben ir todos los archivos de datos de la competencia \n",
    "# /UA_MDM_LDI_II/tutoriales/                       <- Aca deben poner los notebooks y scripts que les compartimos\n",
    "# /UA_MDM_LDI_II/work/                             <- Resultados de notebooks iran dentro de esta carpeta en subcarpetas\n",
    "# /UA_MDM_LDI_II/work/models/                     <- Modelos entrenados en archivos joblibs\n",
    "# /UA_MDM_LDI_II/work/optuna_temp_artifacts/      <- Archivos que queremos dejar como artefacto de un trial de optuna (optuna los copiara a la carpeta de abajo)\n",
    "# /UA_MDM_LDI_II/work/optuna_artifacts/           <- Archivos con artefactos que sibimos a optuna\n",
    "\n",
    "#Subimos dos niveles para quedar en la carpeta que contiene input y UA_MDM_LDI_II\n",
    "BASE_DIR = '../'\n",
    "\n",
    "#Datos de entrenamiento \n",
    "PATH_TO_TRAIN = os.path.join(BASE_DIR, \"input/petfinder-adoption-prediction/train/train.csv\")\n",
    "\n",
    "#Salida de modelos entrenados\n",
    "PATH_TO_MODELS = os.path.join(BASE_DIR, \"work/models\")\n",
    "\n",
    "#Artefactos a subir a optuna\n",
    "PATH_TO_TEMP_FILES = os.path.join(BASE_DIR, \"work/optuna_temp_artifacts\")\n",
    "\n",
    "#Artefactos que optuna gestiona\n",
    "PATH_TO_OPTUNA_ARTIFACTS = os.path.join(BASE_DIR, \"work/optuna_artifacts\")\n",
    "\n",
    "\n",
    "SEED = 42 #Semilla de procesos aleatorios (para poder replicar exactamente al volver a correr un modelo)\n",
    "TEST_SIZE = 0.2 #Facción para train/test= split"
   ]
  },
  {
   "cell_type": "code",
   "execution_count": 3,
   "metadata": {},
   "outputs": [],
   "source": [
    "# Datos Tabulares\n",
    "dataset = pd.read_csv(PATH_TO_TRAIN)"
   ]
  },
  {
   "cell_type": "code",
   "execution_count": 4,
   "metadata": {},
   "outputs": [
    {
     "data": {
      "text/plain": [
       "Index(['Type', 'Name', 'Age', 'Breed1', 'Breed2', 'Gender', 'Color1', 'Color2',\n",
       "       'Color3', 'MaturitySize', 'FurLength', 'Vaccinated', 'Dewormed',\n",
       "       'Sterilized', 'Health', 'Quantity', 'Fee', 'State', 'RescuerID',\n",
       "       'VideoAmt', 'Description', 'PetID', 'PhotoAmt', 'AdoptionSpeed'],\n",
       "      dtype='object')"
      ]
     },
     "execution_count": 4,
     "metadata": {},
     "output_type": "execute_result"
    }
   ],
   "source": [
    "#Columnas del dataset\n",
    "dataset.columns"
   ]
  },
  {
   "cell_type": "code",
   "execution_count": 5,
   "metadata": {},
   "outputs": [],
   "source": [
    "#Separo un 20% para test estratificado opr target\n",
    "train, test = train_test_split(dataset,\n",
    "                               test_size = TEST_SIZE,\n",
    "                               random_state = SEED,\n",
    "                               stratify = dataset.AdoptionSpeed)"
   ]
  },
  {
   "cell_type": "code",
   "execution_count": 6,
   "metadata": {},
   "outputs": [],
   "source": [
    "#Armo listas con features de texto y numericas\n",
    "char_feats = [f for f in dataset.columns if dataset[f].dtype=='O']\n",
    "numeric_feats = [f for f in dataset.columns if dataset[f].dtype!='O']"
   ]
  },
  {
   "cell_type": "code",
   "execution_count": 7,
   "metadata": {},
   "outputs": [
    {
     "data": {
      "text/plain": [
       "['Type',\n",
       " 'Age',\n",
       " 'Breed1',\n",
       " 'Breed2',\n",
       " 'Gender',\n",
       " 'Color1',\n",
       " 'Color2',\n",
       " 'Color3',\n",
       " 'MaturitySize',\n",
       " 'FurLength',\n",
       " 'Vaccinated',\n",
       " 'Dewormed',\n",
       " 'Sterilized',\n",
       " 'Health',\n",
       " 'Quantity',\n",
       " 'Fee',\n",
       " 'State',\n",
       " 'VideoAmt',\n",
       " 'PhotoAmt',\n",
       " 'AdoptionSpeed']"
      ]
     },
     "execution_count": 7,
     "metadata": {},
     "output_type": "execute_result"
    }
   ],
   "source": [
    "#Lista de features numericas\n",
    "numeric_feats"
   ]
  },
  {
   "cell_type": "code",
   "execution_count": 8,
   "metadata": {},
   "outputs": [],
   "source": [
    "\n",
    "#Defino features a usar en un primer modelo de prueba\n",
    "features = ['Type',\n",
    " 'Age',\n",
    " 'Breed1',\n",
    " 'Breed2',\n",
    " 'Gender',\n",
    " 'Color1',\n",
    " 'Color2',\n",
    " 'Color3',\n",
    " 'MaturitySize',\n",
    " 'FurLength',\n",
    " 'Vaccinated',\n",
    " 'Dewormed',\n",
    " 'Sterilized',\n",
    " 'Health',\n",
    " 'Quantity',\n",
    " 'Fee',\n",
    " 'State',\n",
    " 'VideoAmt',\n",
    " 'PhotoAmt']\n",
    "\n",
    "label = 'AdoptionSpeed'"
   ]
  },
  {
   "cell_type": "code",
   "execution_count": 9,
   "metadata": {},
   "outputs": [],
   "source": [
    "#Genero dataframes de train y test con sus respectivos targets\n",
    "X_train = train[features]\n",
    "y_train = train[label]\n",
    "\n",
    "X_test = test[features]\n",
    "y_test = test[label]"
   ]
  },
  {
   "cell_type": "code",
   "execution_count": 10,
   "metadata": {},
   "outputs": [
    {
     "name": "stdout",
     "output_type": "stream",
     "text": [
      "[LightGBM] [Info] Auto-choosing col-wise multi-threading, the overhead of testing was 0.008615 seconds.\n",
      "You can set `force_col_wise=true` to remove the overhead.\n",
      "[LightGBM] [Info] Total Bins 438\n",
      "[LightGBM] [Info] Number of data points in the train set: 11994, number of used features: 19\n",
      "[LightGBM] [Info] Start training from score -3.599148\n",
      "[LightGBM] [Info] Start training from score -1.579379\n",
      "[LightGBM] [Info] Start training from score -1.311924\n",
      "[LightGBM] [Info] Start training from score -1.526206\n",
      "[LightGBM] [Info] Start training from score -1.273359\n"
     ]
    }
   ],
   "source": [
    "#Entreno un modelo inicial sin modificar hiperparametros. Solamente especifico el numero de clases y el tipo de modelo como clasificacoión\n",
    "lgb_params = params = {\n",
    "                        'objective': 'multiclass',\n",
    "                        'num_class': len(y_train.unique())\n",
    "                        }\n",
    "\n",
    "\n",
    "#genero el objeto Dataset que debo pasarle a lightgbm para que entrene\n",
    "lgb_train_dataset = lgb.Dataset(data=X_train,\n",
    "                                label=y_train)\n",
    "\n",
    "#entreno el modelo con los parametros por defecto\n",
    "lgb_model = lgb.train(lgb_params,\n",
    "                      lgb_train_dataset)"
   ]
  },
  {
   "cell_type": "code",
   "execution_count": 11,
   "metadata": {},
   "outputs": [
    {
     "data": {
      "text/plain": [
       "np.float64(0.31327315052086113)"
      ]
     },
     "execution_count": 11,
     "metadata": {},
     "output_type": "execute_result"
    }
   ],
   "source": [
    "#Obtengo las predicciones sobre el set de test. El modelo me da una lista de probabilidades para cada clase y tomo la clase con mayor probabilidad con la funcion argmax\n",
    "y_pred = lgb_model.predict(X_test).argmax(axis=1)\n",
    "\n",
    "#Calculo el Kappa\n",
    "cohen_kappa_score(y_test,y_pred, weights = 'quadratic')"
   ]
  },
  {
   "cell_type": "code",
   "execution_count": 12,
   "metadata": {},
   "outputs": [
    {
     "data": {
      "application/vnd.plotly.v1+json": {
       "config": {
        "plotlyServerURL": "https://plot.ly"
       },
       "data": [
        {
         "type": "heatmap",
         "x": [
          0,
          1,
          2,
          3,
          4
         ],
         "y": [
          0,
          1,
          2,
          3,
          4
         ],
         "z": [
          [
           6.097560975609756,
           39.02439024390244,
           26.82926829268293,
           10.975609756097562,
           17.073170731707318
          ],
          [
           0.3236245954692557,
           35.11326860841424,
           36.084142394822,
           7.605177993527508,
           20.87378640776699
          ],
          [
           0,
           24.411400247831473,
           36.926889714993806,
           11.400247831474598,
           27.261462205700127
          ],
          [
           0,
           17.94478527607362,
           34.20245398773007,
           18.55828220858896,
           29.29447852760736
          ],
          [
           0.4761904761904762,
           11.666666666666666,
           21.071428571428573,
           7.261904761904763,
           59.523809523809526
          ]
         ]
        }
       ],
       "layout": {
        "annotations": [
         {
          "font": {
           "color": "white"
          },
          "showarrow": false,
          "text": "6.1 - 5",
          "x": 0,
          "xref": "x",
          "y": 0,
          "yref": "y"
         },
         {
          "font": {
           "color": "white"
          },
          "showarrow": false,
          "text": "39.0 - 32",
          "x": 1,
          "xref": "x",
          "y": 0,
          "yref": "y"
         },
         {
          "font": {
           "color": "white"
          },
          "showarrow": false,
          "text": "26.8 - 22",
          "x": 2,
          "xref": "x",
          "y": 0,
          "yref": "y"
         },
         {
          "font": {
           "color": "white"
          },
          "showarrow": false,
          "text": "11.0 - 9",
          "x": 3,
          "xref": "x",
          "y": 0,
          "yref": "y"
         },
         {
          "font": {
           "color": "white"
          },
          "showarrow": false,
          "text": "17.1 - 14",
          "x": 4,
          "xref": "x",
          "y": 0,
          "yref": "y"
         },
         {
          "font": {
           "color": "white"
          },
          "showarrow": false,
          "text": "0.3 - 2",
          "x": 0,
          "xref": "x",
          "y": 1,
          "yref": "y"
         },
         {
          "font": {
           "color": "white"
          },
          "showarrow": false,
          "text": "35.1 - 217",
          "x": 1,
          "xref": "x",
          "y": 1,
          "yref": "y"
         },
         {
          "font": {
           "color": "white"
          },
          "showarrow": false,
          "text": "36.1 - 223",
          "x": 2,
          "xref": "x",
          "y": 1,
          "yref": "y"
         },
         {
          "font": {
           "color": "white"
          },
          "showarrow": false,
          "text": "7.6 - 47",
          "x": 3,
          "xref": "x",
          "y": 1,
          "yref": "y"
         },
         {
          "font": {
           "color": "white"
          },
          "showarrow": false,
          "text": "20.9 - 129",
          "x": 4,
          "xref": "x",
          "y": 1,
          "yref": "y"
         },
         {
          "font": {
           "color": "white"
          },
          "showarrow": false,
          "text": "0.0 - 0",
          "x": 0,
          "xref": "x",
          "y": 2,
          "yref": "y"
         },
         {
          "font": {
           "color": "white"
          },
          "showarrow": false,
          "text": "24.4 - 197",
          "x": 1,
          "xref": "x",
          "y": 2,
          "yref": "y"
         },
         {
          "font": {
           "color": "white"
          },
          "showarrow": false,
          "text": "36.9 - 298",
          "x": 2,
          "xref": "x",
          "y": 2,
          "yref": "y"
         },
         {
          "font": {
           "color": "white"
          },
          "showarrow": false,
          "text": "11.4 - 92",
          "x": 3,
          "xref": "x",
          "y": 2,
          "yref": "y"
         },
         {
          "font": {
           "color": "white"
          },
          "showarrow": false,
          "text": "27.3 - 220",
          "x": 4,
          "xref": "x",
          "y": 2,
          "yref": "y"
         },
         {
          "font": {
           "color": "white"
          },
          "showarrow": false,
          "text": "0.0 - 0",
          "x": 0,
          "xref": "x",
          "y": 3,
          "yref": "y"
         },
         {
          "font": {
           "color": "white"
          },
          "showarrow": false,
          "text": "17.9 - 117",
          "x": 1,
          "xref": "x",
          "y": 3,
          "yref": "y"
         },
         {
          "font": {
           "color": "white"
          },
          "showarrow": false,
          "text": "34.2 - 223",
          "x": 2,
          "xref": "x",
          "y": 3,
          "yref": "y"
         },
         {
          "font": {
           "color": "white"
          },
          "showarrow": false,
          "text": "18.6 - 121",
          "x": 3,
          "xref": "x",
          "y": 3,
          "yref": "y"
         },
         {
          "font": {
           "color": "white"
          },
          "showarrow": false,
          "text": "29.3 - 191",
          "x": 4,
          "xref": "x",
          "y": 3,
          "yref": "y"
         },
         {
          "font": {
           "color": "white"
          },
          "showarrow": false,
          "text": "0.5 - 4",
          "x": 0,
          "xref": "x",
          "y": 4,
          "yref": "y"
         },
         {
          "font": {
           "color": "white"
          },
          "showarrow": false,
          "text": "11.7 - 98",
          "x": 1,
          "xref": "x",
          "y": 4,
          "yref": "y"
         },
         {
          "font": {
           "color": "white"
          },
          "showarrow": false,
          "text": "21.1 - 177",
          "x": 2,
          "xref": "x",
          "y": 4,
          "yref": "y"
         },
         {
          "font": {
           "color": "white"
          },
          "showarrow": false,
          "text": "7.3 - 61",
          "x": 3,
          "xref": "x",
          "y": 4,
          "yref": "y"
         },
         {
          "font": {
           "color": "white"
          },
          "showarrow": false,
          "text": "59.5 - 500",
          "x": 4,
          "xref": "x",
          "y": 4,
          "yref": "y"
         }
        ],
        "height": 800,
        "template": {
         "data": {
          "bar": [
           {
            "error_x": {
             "color": "#2a3f5f"
            },
            "error_y": {
             "color": "#2a3f5f"
            },
            "marker": {
             "line": {
              "color": "#E5ECF6",
              "width": 0.5
             },
             "pattern": {
              "fillmode": "overlay",
              "size": 10,
              "solidity": 0.2
             }
            },
            "type": "bar"
           }
          ],
          "barpolar": [
           {
            "marker": {
             "line": {
              "color": "#E5ECF6",
              "width": 0.5
             },
             "pattern": {
              "fillmode": "overlay",
              "size": 10,
              "solidity": 0.2
             }
            },
            "type": "barpolar"
           }
          ],
          "carpet": [
           {
            "aaxis": {
             "endlinecolor": "#2a3f5f",
             "gridcolor": "white",
             "linecolor": "white",
             "minorgridcolor": "white",
             "startlinecolor": "#2a3f5f"
            },
            "baxis": {
             "endlinecolor": "#2a3f5f",
             "gridcolor": "white",
             "linecolor": "white",
             "minorgridcolor": "white",
             "startlinecolor": "#2a3f5f"
            },
            "type": "carpet"
           }
          ],
          "choropleth": [
           {
            "colorbar": {
             "outlinewidth": 0,
             "ticks": ""
            },
            "type": "choropleth"
           }
          ],
          "contour": [
           {
            "colorbar": {
             "outlinewidth": 0,
             "ticks": ""
            },
            "colorscale": [
             [
              0,
              "#0d0887"
             ],
             [
              0.1111111111111111,
              "#46039f"
             ],
             [
              0.2222222222222222,
              "#7201a8"
             ],
             [
              0.3333333333333333,
              "#9c179e"
             ],
             [
              0.4444444444444444,
              "#bd3786"
             ],
             [
              0.5555555555555556,
              "#d8576b"
             ],
             [
              0.6666666666666666,
              "#ed7953"
             ],
             [
              0.7777777777777778,
              "#fb9f3a"
             ],
             [
              0.8888888888888888,
              "#fdca26"
             ],
             [
              1,
              "#f0f921"
             ]
            ],
            "type": "contour"
           }
          ],
          "contourcarpet": [
           {
            "colorbar": {
             "outlinewidth": 0,
             "ticks": ""
            },
            "type": "contourcarpet"
           }
          ],
          "heatmap": [
           {
            "colorbar": {
             "outlinewidth": 0,
             "ticks": ""
            },
            "colorscale": [
             [
              0,
              "#0d0887"
             ],
             [
              0.1111111111111111,
              "#46039f"
             ],
             [
              0.2222222222222222,
              "#7201a8"
             ],
             [
              0.3333333333333333,
              "#9c179e"
             ],
             [
              0.4444444444444444,
              "#bd3786"
             ],
             [
              0.5555555555555556,
              "#d8576b"
             ],
             [
              0.6666666666666666,
              "#ed7953"
             ],
             [
              0.7777777777777778,
              "#fb9f3a"
             ],
             [
              0.8888888888888888,
              "#fdca26"
             ],
             [
              1,
              "#f0f921"
             ]
            ],
            "type": "heatmap"
           }
          ],
          "heatmapgl": [
           {
            "colorbar": {
             "outlinewidth": 0,
             "ticks": ""
            },
            "colorscale": [
             [
              0,
              "#0d0887"
             ],
             [
              0.1111111111111111,
              "#46039f"
             ],
             [
              0.2222222222222222,
              "#7201a8"
             ],
             [
              0.3333333333333333,
              "#9c179e"
             ],
             [
              0.4444444444444444,
              "#bd3786"
             ],
             [
              0.5555555555555556,
              "#d8576b"
             ],
             [
              0.6666666666666666,
              "#ed7953"
             ],
             [
              0.7777777777777778,
              "#fb9f3a"
             ],
             [
              0.8888888888888888,
              "#fdca26"
             ],
             [
              1,
              "#f0f921"
             ]
            ],
            "type": "heatmapgl"
           }
          ],
          "histogram": [
           {
            "marker": {
             "pattern": {
              "fillmode": "overlay",
              "size": 10,
              "solidity": 0.2
             }
            },
            "type": "histogram"
           }
          ],
          "histogram2d": [
           {
            "colorbar": {
             "outlinewidth": 0,
             "ticks": ""
            },
            "colorscale": [
             [
              0,
              "#0d0887"
             ],
             [
              0.1111111111111111,
              "#46039f"
             ],
             [
              0.2222222222222222,
              "#7201a8"
             ],
             [
              0.3333333333333333,
              "#9c179e"
             ],
             [
              0.4444444444444444,
              "#bd3786"
             ],
             [
              0.5555555555555556,
              "#d8576b"
             ],
             [
              0.6666666666666666,
              "#ed7953"
             ],
             [
              0.7777777777777778,
              "#fb9f3a"
             ],
             [
              0.8888888888888888,
              "#fdca26"
             ],
             [
              1,
              "#f0f921"
             ]
            ],
            "type": "histogram2d"
           }
          ],
          "histogram2dcontour": [
           {
            "colorbar": {
             "outlinewidth": 0,
             "ticks": ""
            },
            "colorscale": [
             [
              0,
              "#0d0887"
             ],
             [
              0.1111111111111111,
              "#46039f"
             ],
             [
              0.2222222222222222,
              "#7201a8"
             ],
             [
              0.3333333333333333,
              "#9c179e"
             ],
             [
              0.4444444444444444,
              "#bd3786"
             ],
             [
              0.5555555555555556,
              "#d8576b"
             ],
             [
              0.6666666666666666,
              "#ed7953"
             ],
             [
              0.7777777777777778,
              "#fb9f3a"
             ],
             [
              0.8888888888888888,
              "#fdca26"
             ],
             [
              1,
              "#f0f921"
             ]
            ],
            "type": "histogram2dcontour"
           }
          ],
          "mesh3d": [
           {
            "colorbar": {
             "outlinewidth": 0,
             "ticks": ""
            },
            "type": "mesh3d"
           }
          ],
          "parcoords": [
           {
            "line": {
             "colorbar": {
              "outlinewidth": 0,
              "ticks": ""
             }
            },
            "type": "parcoords"
           }
          ],
          "pie": [
           {
            "automargin": true,
            "type": "pie"
           }
          ],
          "scatter": [
           {
            "fillpattern": {
             "fillmode": "overlay",
             "size": 10,
             "solidity": 0.2
            },
            "type": "scatter"
           }
          ],
          "scatter3d": [
           {
            "line": {
             "colorbar": {
              "outlinewidth": 0,
              "ticks": ""
             }
            },
            "marker": {
             "colorbar": {
              "outlinewidth": 0,
              "ticks": ""
             }
            },
            "type": "scatter3d"
           }
          ],
          "scattercarpet": [
           {
            "marker": {
             "colorbar": {
              "outlinewidth": 0,
              "ticks": ""
             }
            },
            "type": "scattercarpet"
           }
          ],
          "scattergeo": [
           {
            "marker": {
             "colorbar": {
              "outlinewidth": 0,
              "ticks": ""
             }
            },
            "type": "scattergeo"
           }
          ],
          "scattergl": [
           {
            "marker": {
             "colorbar": {
              "outlinewidth": 0,
              "ticks": ""
             }
            },
            "type": "scattergl"
           }
          ],
          "scattermapbox": [
           {
            "marker": {
             "colorbar": {
              "outlinewidth": 0,
              "ticks": ""
             }
            },
            "type": "scattermapbox"
           }
          ],
          "scatterpolar": [
           {
            "marker": {
             "colorbar": {
              "outlinewidth": 0,
              "ticks": ""
             }
            },
            "type": "scatterpolar"
           }
          ],
          "scatterpolargl": [
           {
            "marker": {
             "colorbar": {
              "outlinewidth": 0,
              "ticks": ""
             }
            },
            "type": "scatterpolargl"
           }
          ],
          "scatterternary": [
           {
            "marker": {
             "colorbar": {
              "outlinewidth": 0,
              "ticks": ""
             }
            },
            "type": "scatterternary"
           }
          ],
          "surface": [
           {
            "colorbar": {
             "outlinewidth": 0,
             "ticks": ""
            },
            "colorscale": [
             [
              0,
              "#0d0887"
             ],
             [
              0.1111111111111111,
              "#46039f"
             ],
             [
              0.2222222222222222,
              "#7201a8"
             ],
             [
              0.3333333333333333,
              "#9c179e"
             ],
             [
              0.4444444444444444,
              "#bd3786"
             ],
             [
              0.5555555555555556,
              "#d8576b"
             ],
             [
              0.6666666666666666,
              "#ed7953"
             ],
             [
              0.7777777777777778,
              "#fb9f3a"
             ],
             [
              0.8888888888888888,
              "#fdca26"
             ],
             [
              1,
              "#f0f921"
             ]
            ],
            "type": "surface"
           }
          ],
          "table": [
           {
            "cells": {
             "fill": {
              "color": "#EBF0F8"
             },
             "line": {
              "color": "white"
             }
            },
            "header": {
             "fill": {
              "color": "#C8D4E3"
             },
             "line": {
              "color": "white"
             }
            },
            "type": "table"
           }
          ]
         },
         "layout": {
          "annotationdefaults": {
           "arrowcolor": "#2a3f5f",
           "arrowhead": 0,
           "arrowwidth": 1
          },
          "autotypenumbers": "strict",
          "coloraxis": {
           "colorbar": {
            "outlinewidth": 0,
            "ticks": ""
           }
          },
          "colorscale": {
           "diverging": [
            [
             0,
             "#8e0152"
            ],
            [
             0.1,
             "#c51b7d"
            ],
            [
             0.2,
             "#de77ae"
            ],
            [
             0.3,
             "#f1b6da"
            ],
            [
             0.4,
             "#fde0ef"
            ],
            [
             0.5,
             "#f7f7f7"
            ],
            [
             0.6,
             "#e6f5d0"
            ],
            [
             0.7,
             "#b8e186"
            ],
            [
             0.8,
             "#7fbc41"
            ],
            [
             0.9,
             "#4d9221"
            ],
            [
             1,
             "#276419"
            ]
           ],
           "sequential": [
            [
             0,
             "#0d0887"
            ],
            [
             0.1111111111111111,
             "#46039f"
            ],
            [
             0.2222222222222222,
             "#7201a8"
            ],
            [
             0.3333333333333333,
             "#9c179e"
            ],
            [
             0.4444444444444444,
             "#bd3786"
            ],
            [
             0.5555555555555556,
             "#d8576b"
            ],
            [
             0.6666666666666666,
             "#ed7953"
            ],
            [
             0.7777777777777778,
             "#fb9f3a"
            ],
            [
             0.8888888888888888,
             "#fdca26"
            ],
            [
             1,
             "#f0f921"
            ]
           ],
           "sequentialminus": [
            [
             0,
             "#0d0887"
            ],
            [
             0.1111111111111111,
             "#46039f"
            ],
            [
             0.2222222222222222,
             "#7201a8"
            ],
            [
             0.3333333333333333,
             "#9c179e"
            ],
            [
             0.4444444444444444,
             "#bd3786"
            ],
            [
             0.5555555555555556,
             "#d8576b"
            ],
            [
             0.6666666666666666,
             "#ed7953"
            ],
            [
             0.7777777777777778,
             "#fb9f3a"
            ],
            [
             0.8888888888888888,
             "#fdca26"
            ],
            [
             1,
             "#f0f921"
            ]
           ]
          },
          "colorway": [
           "#636efa",
           "#EF553B",
           "#00cc96",
           "#ab63fa",
           "#FFA15A",
           "#19d3f3",
           "#FF6692",
           "#B6E880",
           "#FF97FF",
           "#FECB52"
          ],
          "font": {
           "color": "#2a3f5f"
          },
          "geo": {
           "bgcolor": "white",
           "lakecolor": "white",
           "landcolor": "#E5ECF6",
           "showlakes": true,
           "showland": true,
           "subunitcolor": "white"
          },
          "hoverlabel": {
           "align": "left"
          },
          "hovermode": "closest",
          "mapbox": {
           "style": "light"
          },
          "paper_bgcolor": "white",
          "plot_bgcolor": "#E5ECF6",
          "polar": {
           "angularaxis": {
            "gridcolor": "white",
            "linecolor": "white",
            "ticks": ""
           },
           "bgcolor": "#E5ECF6",
           "radialaxis": {
            "gridcolor": "white",
            "linecolor": "white",
            "ticks": ""
           }
          },
          "scene": {
           "xaxis": {
            "backgroundcolor": "#E5ECF6",
            "gridcolor": "white",
            "gridwidth": 2,
            "linecolor": "white",
            "showbackground": true,
            "ticks": "",
            "zerolinecolor": "white"
           },
           "yaxis": {
            "backgroundcolor": "#E5ECF6",
            "gridcolor": "white",
            "gridwidth": 2,
            "linecolor": "white",
            "showbackground": true,
            "ticks": "",
            "zerolinecolor": "white"
           },
           "zaxis": {
            "backgroundcolor": "#E5ECF6",
            "gridcolor": "white",
            "gridwidth": 2,
            "linecolor": "white",
            "showbackground": true,
            "ticks": "",
            "zerolinecolor": "white"
           }
          },
          "shapedefaults": {
           "line": {
            "color": "#2a3f5f"
           }
          },
          "ternary": {
           "aaxis": {
            "gridcolor": "white",
            "linecolor": "white",
            "ticks": ""
           },
           "baxis": {
            "gridcolor": "white",
            "linecolor": "white",
            "ticks": ""
           },
           "bgcolor": "#E5ECF6",
           "caxis": {
            "gridcolor": "white",
            "linecolor": "white",
            "ticks": ""
           }
          },
          "title": {
           "x": 0.05
          },
          "xaxis": {
           "automargin": true,
           "gridcolor": "white",
           "linecolor": "white",
           "ticks": "",
           "title": {
            "standoff": 15
           },
           "zerolinecolor": "white",
           "zerolinewidth": 2
          },
          "yaxis": {
           "automargin": true,
           "gridcolor": "white",
           "linecolor": "white",
           "ticks": "",
           "title": {
            "standoff": 15
           },
           "zerolinecolor": "white",
           "zerolinewidth": 2
          }
         }
        },
        "title": {
         "text": "Conf Matrix"
        },
        "width": 800,
        "xaxis": {
         "title": {
          "text": "Predicted value"
         }
        },
        "yaxis": {
         "title": {
          "text": "Real value"
         }
        }
       }
      }
     },
     "metadata": {},
     "output_type": "display_data"
    }
   ],
   "source": [
    "#Muestro la matriz de confusión\n",
    "display(plot_confusion_matrix(y_test,y_pred))"
   ]
  },
  {
   "cell_type": "code",
   "execution_count": 13,
   "metadata": {},
   "outputs": [
    {
     "data": {
      "text/plain": [
       "np.float64(1.0)"
      ]
     },
     "execution_count": 13,
     "metadata": {},
     "output_type": "execute_result"
    }
   ],
   "source": [
    "#Vamos a poner en perspectiva el score de Kappa\n",
    "\n",
    "\n",
    "#Cual es el score perfecto? Evaluo la clase real contra si misma. Es decir, el caso en que el modelo establece todas las clases en su valor real\n",
    "cohen_kappa_score(y_test,y_test, weights = 'quadratic')"
   ]
  },
  {
   "cell_type": "code",
   "execution_count": 14,
   "metadata": {},
   "outputs": [
    {
     "data": {
      "application/vnd.plotly.v1+json": {
       "config": {
        "plotlyServerURL": "https://plot.ly"
       },
       "data": [
        {
         "type": "heatmap",
         "x": [
          0,
          1,
          2,
          3,
          4
         ],
         "y": [
          0,
          1,
          2,
          3,
          4
         ],
         "z": [
          [
           100,
           0,
           0,
           0,
           0
          ],
          [
           0,
           100,
           0,
           0,
           0
          ],
          [
           0,
           0,
           100,
           0,
           0
          ],
          [
           0,
           0,
           0,
           100,
           0
          ],
          [
           0,
           0,
           0,
           0,
           100
          ]
         ]
        }
       ],
       "layout": {
        "annotations": [
         {
          "font": {
           "color": "white"
          },
          "showarrow": false,
          "text": "100.0 - 82",
          "x": 0,
          "xref": "x",
          "y": 0,
          "yref": "y"
         },
         {
          "font": {
           "color": "white"
          },
          "showarrow": false,
          "text": "0.0 - 0",
          "x": 1,
          "xref": "x",
          "y": 0,
          "yref": "y"
         },
         {
          "font": {
           "color": "white"
          },
          "showarrow": false,
          "text": "0.0 - 0",
          "x": 2,
          "xref": "x",
          "y": 0,
          "yref": "y"
         },
         {
          "font": {
           "color": "white"
          },
          "showarrow": false,
          "text": "0.0 - 0",
          "x": 3,
          "xref": "x",
          "y": 0,
          "yref": "y"
         },
         {
          "font": {
           "color": "white"
          },
          "showarrow": false,
          "text": "0.0 - 0",
          "x": 4,
          "xref": "x",
          "y": 0,
          "yref": "y"
         },
         {
          "font": {
           "color": "white"
          },
          "showarrow": false,
          "text": "0.0 - 0",
          "x": 0,
          "xref": "x",
          "y": 1,
          "yref": "y"
         },
         {
          "font": {
           "color": "white"
          },
          "showarrow": false,
          "text": "100.0 - 618",
          "x": 1,
          "xref": "x",
          "y": 1,
          "yref": "y"
         },
         {
          "font": {
           "color": "white"
          },
          "showarrow": false,
          "text": "0.0 - 0",
          "x": 2,
          "xref": "x",
          "y": 1,
          "yref": "y"
         },
         {
          "font": {
           "color": "white"
          },
          "showarrow": false,
          "text": "0.0 - 0",
          "x": 3,
          "xref": "x",
          "y": 1,
          "yref": "y"
         },
         {
          "font": {
           "color": "white"
          },
          "showarrow": false,
          "text": "0.0 - 0",
          "x": 4,
          "xref": "x",
          "y": 1,
          "yref": "y"
         },
         {
          "font": {
           "color": "white"
          },
          "showarrow": false,
          "text": "0.0 - 0",
          "x": 0,
          "xref": "x",
          "y": 2,
          "yref": "y"
         },
         {
          "font": {
           "color": "white"
          },
          "showarrow": false,
          "text": "0.0 - 0",
          "x": 1,
          "xref": "x",
          "y": 2,
          "yref": "y"
         },
         {
          "font": {
           "color": "white"
          },
          "showarrow": false,
          "text": "100.0 - 807",
          "x": 2,
          "xref": "x",
          "y": 2,
          "yref": "y"
         },
         {
          "font": {
           "color": "white"
          },
          "showarrow": false,
          "text": "0.0 - 0",
          "x": 3,
          "xref": "x",
          "y": 2,
          "yref": "y"
         },
         {
          "font": {
           "color": "white"
          },
          "showarrow": false,
          "text": "0.0 - 0",
          "x": 4,
          "xref": "x",
          "y": 2,
          "yref": "y"
         },
         {
          "font": {
           "color": "white"
          },
          "showarrow": false,
          "text": "0.0 - 0",
          "x": 0,
          "xref": "x",
          "y": 3,
          "yref": "y"
         },
         {
          "font": {
           "color": "white"
          },
          "showarrow": false,
          "text": "0.0 - 0",
          "x": 1,
          "xref": "x",
          "y": 3,
          "yref": "y"
         },
         {
          "font": {
           "color": "white"
          },
          "showarrow": false,
          "text": "0.0 - 0",
          "x": 2,
          "xref": "x",
          "y": 3,
          "yref": "y"
         },
         {
          "font": {
           "color": "white"
          },
          "showarrow": false,
          "text": "100.0 - 652",
          "x": 3,
          "xref": "x",
          "y": 3,
          "yref": "y"
         },
         {
          "font": {
           "color": "white"
          },
          "showarrow": false,
          "text": "0.0 - 0",
          "x": 4,
          "xref": "x",
          "y": 3,
          "yref": "y"
         },
         {
          "font": {
           "color": "white"
          },
          "showarrow": false,
          "text": "0.0 - 0",
          "x": 0,
          "xref": "x",
          "y": 4,
          "yref": "y"
         },
         {
          "font": {
           "color": "white"
          },
          "showarrow": false,
          "text": "0.0 - 0",
          "x": 1,
          "xref": "x",
          "y": 4,
          "yref": "y"
         },
         {
          "font": {
           "color": "white"
          },
          "showarrow": false,
          "text": "0.0 - 0",
          "x": 2,
          "xref": "x",
          "y": 4,
          "yref": "y"
         },
         {
          "font": {
           "color": "white"
          },
          "showarrow": false,
          "text": "0.0 - 0",
          "x": 3,
          "xref": "x",
          "y": 4,
          "yref": "y"
         },
         {
          "font": {
           "color": "white"
          },
          "showarrow": false,
          "text": "100.0 - 840",
          "x": 4,
          "xref": "x",
          "y": 4,
          "yref": "y"
         }
        ],
        "height": 800,
        "template": {
         "data": {
          "bar": [
           {
            "error_x": {
             "color": "#2a3f5f"
            },
            "error_y": {
             "color": "#2a3f5f"
            },
            "marker": {
             "line": {
              "color": "#E5ECF6",
              "width": 0.5
             },
             "pattern": {
              "fillmode": "overlay",
              "size": 10,
              "solidity": 0.2
             }
            },
            "type": "bar"
           }
          ],
          "barpolar": [
           {
            "marker": {
             "line": {
              "color": "#E5ECF6",
              "width": 0.5
             },
             "pattern": {
              "fillmode": "overlay",
              "size": 10,
              "solidity": 0.2
             }
            },
            "type": "barpolar"
           }
          ],
          "carpet": [
           {
            "aaxis": {
             "endlinecolor": "#2a3f5f",
             "gridcolor": "white",
             "linecolor": "white",
             "minorgridcolor": "white",
             "startlinecolor": "#2a3f5f"
            },
            "baxis": {
             "endlinecolor": "#2a3f5f",
             "gridcolor": "white",
             "linecolor": "white",
             "minorgridcolor": "white",
             "startlinecolor": "#2a3f5f"
            },
            "type": "carpet"
           }
          ],
          "choropleth": [
           {
            "colorbar": {
             "outlinewidth": 0,
             "ticks": ""
            },
            "type": "choropleth"
           }
          ],
          "contour": [
           {
            "colorbar": {
             "outlinewidth": 0,
             "ticks": ""
            },
            "colorscale": [
             [
              0,
              "#0d0887"
             ],
             [
              0.1111111111111111,
              "#46039f"
             ],
             [
              0.2222222222222222,
              "#7201a8"
             ],
             [
              0.3333333333333333,
              "#9c179e"
             ],
             [
              0.4444444444444444,
              "#bd3786"
             ],
             [
              0.5555555555555556,
              "#d8576b"
             ],
             [
              0.6666666666666666,
              "#ed7953"
             ],
             [
              0.7777777777777778,
              "#fb9f3a"
             ],
             [
              0.8888888888888888,
              "#fdca26"
             ],
             [
              1,
              "#f0f921"
             ]
            ],
            "type": "contour"
           }
          ],
          "contourcarpet": [
           {
            "colorbar": {
             "outlinewidth": 0,
             "ticks": ""
            },
            "type": "contourcarpet"
           }
          ],
          "heatmap": [
           {
            "colorbar": {
             "outlinewidth": 0,
             "ticks": ""
            },
            "colorscale": [
             [
              0,
              "#0d0887"
             ],
             [
              0.1111111111111111,
              "#46039f"
             ],
             [
              0.2222222222222222,
              "#7201a8"
             ],
             [
              0.3333333333333333,
              "#9c179e"
             ],
             [
              0.4444444444444444,
              "#bd3786"
             ],
             [
              0.5555555555555556,
              "#d8576b"
             ],
             [
              0.6666666666666666,
              "#ed7953"
             ],
             [
              0.7777777777777778,
              "#fb9f3a"
             ],
             [
              0.8888888888888888,
              "#fdca26"
             ],
             [
              1,
              "#f0f921"
             ]
            ],
            "type": "heatmap"
           }
          ],
          "heatmapgl": [
           {
            "colorbar": {
             "outlinewidth": 0,
             "ticks": ""
            },
            "colorscale": [
             [
              0,
              "#0d0887"
             ],
             [
              0.1111111111111111,
              "#46039f"
             ],
             [
              0.2222222222222222,
              "#7201a8"
             ],
             [
              0.3333333333333333,
              "#9c179e"
             ],
             [
              0.4444444444444444,
              "#bd3786"
             ],
             [
              0.5555555555555556,
              "#d8576b"
             ],
             [
              0.6666666666666666,
              "#ed7953"
             ],
             [
              0.7777777777777778,
              "#fb9f3a"
             ],
             [
              0.8888888888888888,
              "#fdca26"
             ],
             [
              1,
              "#f0f921"
             ]
            ],
            "type": "heatmapgl"
           }
          ],
          "histogram": [
           {
            "marker": {
             "pattern": {
              "fillmode": "overlay",
              "size": 10,
              "solidity": 0.2
             }
            },
            "type": "histogram"
           }
          ],
          "histogram2d": [
           {
            "colorbar": {
             "outlinewidth": 0,
             "ticks": ""
            },
            "colorscale": [
             [
              0,
              "#0d0887"
             ],
             [
              0.1111111111111111,
              "#46039f"
             ],
             [
              0.2222222222222222,
              "#7201a8"
             ],
             [
              0.3333333333333333,
              "#9c179e"
             ],
             [
              0.4444444444444444,
              "#bd3786"
             ],
             [
              0.5555555555555556,
              "#d8576b"
             ],
             [
              0.6666666666666666,
              "#ed7953"
             ],
             [
              0.7777777777777778,
              "#fb9f3a"
             ],
             [
              0.8888888888888888,
              "#fdca26"
             ],
             [
              1,
              "#f0f921"
             ]
            ],
            "type": "histogram2d"
           }
          ],
          "histogram2dcontour": [
           {
            "colorbar": {
             "outlinewidth": 0,
             "ticks": ""
            },
            "colorscale": [
             [
              0,
              "#0d0887"
             ],
             [
              0.1111111111111111,
              "#46039f"
             ],
             [
              0.2222222222222222,
              "#7201a8"
             ],
             [
              0.3333333333333333,
              "#9c179e"
             ],
             [
              0.4444444444444444,
              "#bd3786"
             ],
             [
              0.5555555555555556,
              "#d8576b"
             ],
             [
              0.6666666666666666,
              "#ed7953"
             ],
             [
              0.7777777777777778,
              "#fb9f3a"
             ],
             [
              0.8888888888888888,
              "#fdca26"
             ],
             [
              1,
              "#f0f921"
             ]
            ],
            "type": "histogram2dcontour"
           }
          ],
          "mesh3d": [
           {
            "colorbar": {
             "outlinewidth": 0,
             "ticks": ""
            },
            "type": "mesh3d"
           }
          ],
          "parcoords": [
           {
            "line": {
             "colorbar": {
              "outlinewidth": 0,
              "ticks": ""
             }
            },
            "type": "parcoords"
           }
          ],
          "pie": [
           {
            "automargin": true,
            "type": "pie"
           }
          ],
          "scatter": [
           {
            "fillpattern": {
             "fillmode": "overlay",
             "size": 10,
             "solidity": 0.2
            },
            "type": "scatter"
           }
          ],
          "scatter3d": [
           {
            "line": {
             "colorbar": {
              "outlinewidth": 0,
              "ticks": ""
             }
            },
            "marker": {
             "colorbar": {
              "outlinewidth": 0,
              "ticks": ""
             }
            },
            "type": "scatter3d"
           }
          ],
          "scattercarpet": [
           {
            "marker": {
             "colorbar": {
              "outlinewidth": 0,
              "ticks": ""
             }
            },
            "type": "scattercarpet"
           }
          ],
          "scattergeo": [
           {
            "marker": {
             "colorbar": {
              "outlinewidth": 0,
              "ticks": ""
             }
            },
            "type": "scattergeo"
           }
          ],
          "scattergl": [
           {
            "marker": {
             "colorbar": {
              "outlinewidth": 0,
              "ticks": ""
             }
            },
            "type": "scattergl"
           }
          ],
          "scattermapbox": [
           {
            "marker": {
             "colorbar": {
              "outlinewidth": 0,
              "ticks": ""
             }
            },
            "type": "scattermapbox"
           }
          ],
          "scatterpolar": [
           {
            "marker": {
             "colorbar": {
              "outlinewidth": 0,
              "ticks": ""
             }
            },
            "type": "scatterpolar"
           }
          ],
          "scatterpolargl": [
           {
            "marker": {
             "colorbar": {
              "outlinewidth": 0,
              "ticks": ""
             }
            },
            "type": "scatterpolargl"
           }
          ],
          "scatterternary": [
           {
            "marker": {
             "colorbar": {
              "outlinewidth": 0,
              "ticks": ""
             }
            },
            "type": "scatterternary"
           }
          ],
          "surface": [
           {
            "colorbar": {
             "outlinewidth": 0,
             "ticks": ""
            },
            "colorscale": [
             [
              0,
              "#0d0887"
             ],
             [
              0.1111111111111111,
              "#46039f"
             ],
             [
              0.2222222222222222,
              "#7201a8"
             ],
             [
              0.3333333333333333,
              "#9c179e"
             ],
             [
              0.4444444444444444,
              "#bd3786"
             ],
             [
              0.5555555555555556,
              "#d8576b"
             ],
             [
              0.6666666666666666,
              "#ed7953"
             ],
             [
              0.7777777777777778,
              "#fb9f3a"
             ],
             [
              0.8888888888888888,
              "#fdca26"
             ],
             [
              1,
              "#f0f921"
             ]
            ],
            "type": "surface"
           }
          ],
          "table": [
           {
            "cells": {
             "fill": {
              "color": "#EBF0F8"
             },
             "line": {
              "color": "white"
             }
            },
            "header": {
             "fill": {
              "color": "#C8D4E3"
             },
             "line": {
              "color": "white"
             }
            },
            "type": "table"
           }
          ]
         },
         "layout": {
          "annotationdefaults": {
           "arrowcolor": "#2a3f5f",
           "arrowhead": 0,
           "arrowwidth": 1
          },
          "autotypenumbers": "strict",
          "coloraxis": {
           "colorbar": {
            "outlinewidth": 0,
            "ticks": ""
           }
          },
          "colorscale": {
           "diverging": [
            [
             0,
             "#8e0152"
            ],
            [
             0.1,
             "#c51b7d"
            ],
            [
             0.2,
             "#de77ae"
            ],
            [
             0.3,
             "#f1b6da"
            ],
            [
             0.4,
             "#fde0ef"
            ],
            [
             0.5,
             "#f7f7f7"
            ],
            [
             0.6,
             "#e6f5d0"
            ],
            [
             0.7,
             "#b8e186"
            ],
            [
             0.8,
             "#7fbc41"
            ],
            [
             0.9,
             "#4d9221"
            ],
            [
             1,
             "#276419"
            ]
           ],
           "sequential": [
            [
             0,
             "#0d0887"
            ],
            [
             0.1111111111111111,
             "#46039f"
            ],
            [
             0.2222222222222222,
             "#7201a8"
            ],
            [
             0.3333333333333333,
             "#9c179e"
            ],
            [
             0.4444444444444444,
             "#bd3786"
            ],
            [
             0.5555555555555556,
             "#d8576b"
            ],
            [
             0.6666666666666666,
             "#ed7953"
            ],
            [
             0.7777777777777778,
             "#fb9f3a"
            ],
            [
             0.8888888888888888,
             "#fdca26"
            ],
            [
             1,
             "#f0f921"
            ]
           ],
           "sequentialminus": [
            [
             0,
             "#0d0887"
            ],
            [
             0.1111111111111111,
             "#46039f"
            ],
            [
             0.2222222222222222,
             "#7201a8"
            ],
            [
             0.3333333333333333,
             "#9c179e"
            ],
            [
             0.4444444444444444,
             "#bd3786"
            ],
            [
             0.5555555555555556,
             "#d8576b"
            ],
            [
             0.6666666666666666,
             "#ed7953"
            ],
            [
             0.7777777777777778,
             "#fb9f3a"
            ],
            [
             0.8888888888888888,
             "#fdca26"
            ],
            [
             1,
             "#f0f921"
            ]
           ]
          },
          "colorway": [
           "#636efa",
           "#EF553B",
           "#00cc96",
           "#ab63fa",
           "#FFA15A",
           "#19d3f3",
           "#FF6692",
           "#B6E880",
           "#FF97FF",
           "#FECB52"
          ],
          "font": {
           "color": "#2a3f5f"
          },
          "geo": {
           "bgcolor": "white",
           "lakecolor": "white",
           "landcolor": "#E5ECF6",
           "showlakes": true,
           "showland": true,
           "subunitcolor": "white"
          },
          "hoverlabel": {
           "align": "left"
          },
          "hovermode": "closest",
          "mapbox": {
           "style": "light"
          },
          "paper_bgcolor": "white",
          "plot_bgcolor": "#E5ECF6",
          "polar": {
           "angularaxis": {
            "gridcolor": "white",
            "linecolor": "white",
            "ticks": ""
           },
           "bgcolor": "#E5ECF6",
           "radialaxis": {
            "gridcolor": "white",
            "linecolor": "white",
            "ticks": ""
           }
          },
          "scene": {
           "xaxis": {
            "backgroundcolor": "#E5ECF6",
            "gridcolor": "white",
            "gridwidth": 2,
            "linecolor": "white",
            "showbackground": true,
            "ticks": "",
            "zerolinecolor": "white"
           },
           "yaxis": {
            "backgroundcolor": "#E5ECF6",
            "gridcolor": "white",
            "gridwidth": 2,
            "linecolor": "white",
            "showbackground": true,
            "ticks": "",
            "zerolinecolor": "white"
           },
           "zaxis": {
            "backgroundcolor": "#E5ECF6",
            "gridcolor": "white",
            "gridwidth": 2,
            "linecolor": "white",
            "showbackground": true,
            "ticks": "",
            "zerolinecolor": "white"
           }
          },
          "shapedefaults": {
           "line": {
            "color": "#2a3f5f"
           }
          },
          "ternary": {
           "aaxis": {
            "gridcolor": "white",
            "linecolor": "white",
            "ticks": ""
           },
           "baxis": {
            "gridcolor": "white",
            "linecolor": "white",
            "ticks": ""
           },
           "bgcolor": "#E5ECF6",
           "caxis": {
            "gridcolor": "white",
            "linecolor": "white",
            "ticks": ""
           }
          },
          "title": {
           "x": 0.05
          },
          "xaxis": {
           "automargin": true,
           "gridcolor": "white",
           "linecolor": "white",
           "ticks": "",
           "title": {
            "standoff": 15
           },
           "zerolinecolor": "white",
           "zerolinewidth": 2
          },
          "yaxis": {
           "automargin": true,
           "gridcolor": "white",
           "linecolor": "white",
           "ticks": "",
           "title": {
            "standoff": 15
           },
           "zerolinecolor": "white",
           "zerolinewidth": 2
          }
         }
        },
        "title": {
         "text": "Conf Matrix"
        },
        "width": 800,
        "xaxis": {
         "title": {
          "text": "Predicted value"
         }
        },
        "yaxis": {
         "title": {
          "text": "Real value"
         }
        }
       }
      }
     },
     "metadata": {},
     "output_type": "display_data"
    }
   ],
   "source": [
    "#Como se veria la matriz de confusión\n",
    "display(plot_confusion_matrix(y_test,y_test))"
   ]
  },
  {
   "cell_type": "code",
   "execution_count": 15,
   "metadata": {},
   "outputs": [],
   "source": [
    "#Vamos a ver como se comporta kappa si hago una predicción al azar (respetando las proporciones de cada clase)\n",
    "y_shuffled = shuffle(y_test,\n",
    "                     random_state = 42)\n",
    "\n",
    "\n",
    "#Genero diccionarios para cambiar algunas predicicones reales por una prediccion cercana y_cerca y una lejana y_lejos a la real \n",
    "# ejemplo: la real se 0 voy a estimar 1 para la cercana y 4 para la lejana\n",
    "dict_map_cerca = {0:1,\n",
    "                  1:2,\n",
    "                  2:3,\n",
    "                  3:4,\n",
    "                  4:3}\n",
    "\n",
    "dict_map_lejos = {0:4,\n",
    "                  1:4,\n",
    "                  2:0,\n",
    "                  3:0,\n",
    "                  4:0}\n",
    "\n",
    "y_cerca = [dict_map_cerca[i] for i in y_test]\n",
    "\n",
    "y_lejos = [dict_map_lejos[i] for i in y_test]\n"
   ]
  },
  {
   "cell_type": "code",
   "execution_count": 16,
   "metadata": {},
   "outputs": [],
   "source": [
    "\n",
    "#Vamos a simular que la probabilidad de tener la prediccion real en casa muestra varia de 0 a 100. \n",
    "#Genero una numero aleatorio para cada muestra\n",
    "random_list =  np.random.rand(len(y_test))\n",
    "\n",
    "#inicializo un dataframe de resultados vacio\n",
    "kappa_progression = pd.DataFrame()\n",
    "\n",
    "#La variable i tiene un umbral para ir variando la cantidad de aciertos desde 0% a 100%\n",
    "for i in range(101):\n",
    "\n",
    "    #Genero la prediccion para i% de aciertos donde cuando no acierto me quedo con una prediccion al azar (podria ser la \"correcta\" pero solo por azar)\n",
    "    y_simulado = [y_test.iloc[sample] if random_list[sample]<i/100 else y_shuffled.iloc[sample] for sample in range(len(y_test))]\n",
    "\n",
    "    #Genero la prediccion para i% de aciertos donde cuando no acierto me quedo con una prediccion cercana o lejana a la correcta\n",
    "    y_simulado_cerca = [y_test.iloc[sample] if random_list[sample]<i/100 else y_cerca[sample] for sample in range(len(y_test))]\n",
    "    y_simulado_lejos = [y_test.iloc[sample] if random_list[sample]<i/100 else y_lejos[sample] for sample in range(len(y_test))]\n",
    "\n",
    "\n",
    "    #Grabo los resultados en un dataframe para cada i% de aciertos\n",
    "    kappa_progression = pd.concat([kappa_progression,\n",
    "                                   pd.DataFrame({'Conocidos':[i],\n",
    "                                                'kappa':cohen_kappa_score(y_test,\n",
    "                                                                        y_simulado,\n",
    "                                                                        weights = 'quadratic'),\n",
    "                                                'kappa_cerca':cohen_kappa_score(y_test,\n",
    "                                                                        y_simulado_cerca,\n",
    "                                                                        weights = 'quadratic'),\n",
    "                                                'kappa_lejos':cohen_kappa_score(y_test,\n",
    "                                                                        y_simulado_lejos,\n",
    "                                                                        weights = 'quadratic'),                                                                        \n",
    "                                                'accuracy':accuracy_score(y_test,\n",
    "                                                                        y_simulado),\n",
    "                                                'balanced_accuracy':balanced_accuracy_score(y_test,\n",
    "                                                                        y_simulado),\n",
    "                                                                        })],\n",
    "                ignore_index=True)"
   ]
  },
  {
   "cell_type": "code",
   "execution_count": 17,
   "metadata": {},
   "outputs": [
    {
     "data": {
      "application/vnd.plotly.v1+json": {
       "config": {
        "plotlyServerURL": "https://plot.ly"
       },
       "data": [
        {
         "hovertemplate": "variable=kappa<br>Conocidos=%{x}<br>value=%{y}<extra></extra>",
         "legendgroup": "kappa",
         "line": {
          "color": "#636efa",
          "dash": "solid"
         },
         "marker": {
          "symbol": "circle"
         },
         "mode": "lines",
         "name": "kappa",
         "orientation": "v",
         "showlegend": true,
         "type": "scatter",
         "x": [
          0,
          1,
          2,
          3,
          4,
          5,
          6,
          7,
          8,
          9,
          10,
          11,
          12,
          13,
          14,
          15,
          16,
          17,
          18,
          19,
          20,
          21,
          22,
          23,
          24,
          25,
          26,
          27,
          28,
          29,
          30,
          31,
          32,
          33,
          34,
          35,
          36,
          37,
          38,
          39,
          40,
          41,
          42,
          43,
          44,
          45,
          46,
          47,
          48,
          49,
          50,
          51,
          52,
          53,
          54,
          55,
          56,
          57,
          58,
          59,
          60,
          61,
          62,
          63,
          64,
          65,
          66,
          67,
          68,
          69,
          70,
          71,
          72,
          73,
          74,
          75,
          76,
          77,
          78,
          79,
          80,
          81,
          82,
          83,
          84,
          85,
          86,
          87,
          88,
          89,
          90,
          91,
          92,
          93,
          94,
          95,
          96,
          97,
          98,
          99,
          100
         ],
         "xaxis": "x",
         "y": [
          -0.0084438812302563,
          0.0034244040761549632,
          0.007892249527410078,
          0.016515060613577437,
          0.02493291274117504,
          0.034915778186742186,
          0.04502974284220995,
          0.06361197706144839,
          0.07636669010788755,
          0.08687646167437213,
          0.09401928329869413,
          0.10131955314638041,
          0.10676093628745753,
          0.11749599046008707,
          0.13185379750394788,
          0.14213908033233746,
          0.15277161408644813,
          0.160690706648412,
          0.1726416053200912,
          0.1771793266303262,
          0.18599334313042137,
          0.19459205287240033,
          0.2011899496401992,
          0.20939922473621597,
          0.2241747715161515,
          0.236935915838153,
          0.2467398702467638,
          0.25563412060780755,
          0.26905851752547716,
          0.277827504731173,
          0.2860722461128944,
          0.2925821247068816,
          0.30658521121428794,
          0.31465608195269323,
          0.32141290775749953,
          0.33280019072410305,
          0.34035096856908176,
          0.34726526682165326,
          0.357244799561814,
          0.3662708734188964,
          0.37608740094038995,
          0.38434940198629564,
          0.3958849923355916,
          0.40099360233516035,
          0.41165256368439895,
          0.4243115555291981,
          0.4324500304267185,
          0.44103197356027524,
          0.4564679185425693,
          0.4634810510686188,
          0.4730211025658134,
          0.48251690120235735,
          0.4937998159467226,
          0.5063117690420071,
          0.5217316426283582,
          0.534993432220211,
          0.5477002562518374,
          0.5558991152443792,
          0.5674201648615178,
          0.588034943619305,
          0.5943004816235125,
          0.60398436219922,
          0.6146209908719988,
          0.6223551834688102,
          0.6286456290261784,
          0.6385770631189598,
          0.6472564725262663,
          0.6568356441415562,
          0.6709646152150817,
          0.6806094061166802,
          0.6891898400092429,
          0.6965472866365114,
          0.7089244329103804,
          0.7218713291067573,
          0.7365655597404207,
          0.7473536843597887,
          0.7546490580855104,
          0.7621205520997367,
          0.7709107408665927,
          0.7857535203792099,
          0.7947779743467437,
          0.8051504082672079,
          0.8162109508045945,
          0.8273581019208045,
          0.839566671093797,
          0.8487411400638236,
          0.8579065266623501,
          0.8749817319113732,
          0.8903988798604623,
          0.8996936937633968,
          0.9063189981552997,
          0.9159724015375122,
          0.9241012952668761,
          0.9367436614394687,
          0.9515136368926818,
          0.9609232093504454,
          0.9722942633054373,
          0.9811863833431427,
          0.9877015556930189,
          0.9939858049756384,
          1
         ],
         "yaxis": "y"
        },
        {
         "hovertemplate": "variable=kappa_cerca<br>Conocidos=%{x}<br>value=%{y}<extra></extra>",
         "legendgroup": "kappa_cerca",
         "line": {
          "color": "#EF553B",
          "dash": "solid"
         },
         "marker": {
          "symbol": "circle"
         },
         "mode": "lines",
         "name": "kappa_cerca",
         "orientation": "v",
         "showlegend": true,
         "type": "scatter",
         "x": [
          0,
          1,
          2,
          3,
          4,
          5,
          6,
          7,
          8,
          9,
          10,
          11,
          12,
          13,
          14,
          15,
          16,
          17,
          18,
          19,
          20,
          21,
          22,
          23,
          24,
          25,
          26,
          27,
          28,
          29,
          30,
          31,
          32,
          33,
          34,
          35,
          36,
          37,
          38,
          39,
          40,
          41,
          42,
          43,
          44,
          45,
          46,
          47,
          48,
          49,
          50,
          51,
          52,
          53,
          54,
          55,
          56,
          57,
          58,
          59,
          60,
          61,
          62,
          63,
          64,
          65,
          66,
          67,
          68,
          69,
          70,
          71,
          72,
          73,
          74,
          75,
          76,
          77,
          78,
          79,
          80,
          81,
          82,
          83,
          84,
          85,
          86,
          87,
          88,
          89,
          90,
          91,
          92,
          93,
          94,
          95,
          96,
          97,
          98,
          99,
          100
         ],
         "xaxis": "x",
         "y": [
          0.5261777791943391,
          0.5330112778866185,
          0.5378873698145283,
          0.5446262221835863,
          0.5511841705072873,
          0.5567408444487494,
          0.5624831993209597,
          0.5711232433442394,
          0.5774027270938118,
          0.5827558254583188,
          0.5875927951964175,
          0.5917468356437946,
          0.5962071888107978,
          0.6026509883979463,
          0.6076202649068656,
          0.6123824498039758,
          0.6189466015525636,
          0.6241373088614857,
          0.6294092816517287,
          0.6334281402909107,
          0.6384518711807503,
          0.6427333822450185,
          0.6467952897863454,
          0.6510634739726169,
          0.6581427888919922,
          0.6641868997068197,
          0.669885077890154,
          0.6750259246659249,
          0.6805804069117596,
          0.6861503720842708,
          0.6911018744279939,
          0.6961748337289432,
          0.7017255596242808,
          0.7070776631531916,
          0.7117573521368166,
          0.7169313208479713,
          0.7213100190544457,
          0.7257178008322525,
          0.7318663795665845,
          0.7361390775763468,
          0.7411960314822648,
          0.7453997225567299,
          0.7498698302057734,
          0.7538888446522659,
          0.7598569431286344,
          0.7656877630871328,
          0.7694383564081021,
          0.7737137310261,
          0.7786958298191775,
          0.7833722073481361,
          0.7897816236152164,
          0.794896613318032,
          0.7989733629427473,
          0.804608592646569,
          0.8106698727123459,
          0.815032021278365,
          0.8192436784163089,
          0.8236225726440726,
          0.8292375798463847,
          0.8342248895100863,
          0.8377486766893758,
          0.8439641434465825,
          0.8491297908941801,
          0.8527875957001407,
          0.8567064603602681,
          0.861544431277905,
          0.8655210894882475,
          0.8704007455381384,
          0.8759406890106175,
          0.879426947224623,
          0.8830904760427951,
          0.8864176048121037,
          0.891154187782756,
          0.8945308620277206,
          0.8999471168232318,
          0.9039680639573617,
          0.9084850632167948,
          0.9123103769207811,
          0.9163046741406627,
          0.9209770159839273,
          0.9244247072187599,
          0.9282922717410009,
          0.9327005777306409,
          0.93692067842123,
          0.9414154734089498,
          0.9452837119110757,
          0.949125087990141,
          0.9535077035899627,
          0.9579657330059714,
          0.9614971307448934,
          0.9637629936386766,
          0.967069535196207,
          0.9715284981005304,
          0.975704055042599,
          0.9797685267893065,
          0.9831052504383461,
          0.9862798835417428,
          0.9900711834751367,
          0.9934727886958725,
          0.9966286427416411,
          1
         ],
         "yaxis": "y"
        },
        {
         "hovertemplate": "variable=kappa_lejos<br>Conocidos=%{x}<br>value=%{y}<extra></extra>",
         "legendgroup": "kappa_lejos",
         "line": {
          "color": "#00cc96",
          "dash": "solid"
         },
         "marker": {
          "symbol": "circle"
         },
         "mode": "lines",
         "name": "kappa_lejos",
         "orientation": "v",
         "showlegend": true,
         "type": "scatter",
         "x": [
          0,
          1,
          2,
          3,
          4,
          5,
          6,
          7,
          8,
          9,
          10,
          11,
          12,
          13,
          14,
          15,
          16,
          17,
          18,
          19,
          20,
          21,
          22,
          23,
          24,
          25,
          26,
          27,
          28,
          29,
          30,
          31,
          32,
          33,
          34,
          35,
          36,
          37,
          38,
          39,
          40,
          41,
          42,
          43,
          44,
          45,
          46,
          47,
          48,
          49,
          50,
          51,
          52,
          53,
          54,
          55,
          56,
          57,
          58,
          59,
          60,
          61,
          62,
          63,
          64,
          65,
          66,
          67,
          68,
          69,
          70,
          71,
          72,
          73,
          74,
          75,
          76,
          77,
          78,
          79,
          80,
          81,
          82,
          83,
          84,
          85,
          86,
          87,
          88,
          89,
          90,
          91,
          92,
          93,
          94,
          95,
          96,
          97,
          98,
          99,
          100
         ],
         "xaxis": "x",
         "y": [
          -0.45165018440277804,
          -0.44390279046109304,
          -0.44157203937245915,
          -0.43277608422421165,
          -0.4236202519991883,
          -0.41787875300323374,
          -0.41246811337394407,
          -0.4018584475688618,
          -0.3950404277795012,
          -0.3888157810929853,
          -0.38283639883157483,
          -0.3783321018785921,
          -0.3749970231966835,
          -0.36442479222305435,
          -0.35780430755211134,
          -0.35320853744253466,
          -0.34679252209214995,
          -0.3409428626682576,
          -0.33382421796707384,
          -0.33004914218140713,
          -0.32281050911874254,
          -0.31825705296571694,
          -0.31018963262066745,
          -0.3047737493896936,
          -0.2939956651097364,
          -0.2853061086865898,
          -0.27429029738816446,
          -0.26664265978524515,
          -0.25598238865883705,
          -0.24712747284697967,
          -0.2401372060580682,
          -0.23449766735023592,
          -0.2238023101555804,
          -0.2142850800871967,
          -0.20729671390182092,
          -0.20003349358052058,
          -0.19437921861006147,
          -0.18672343405749925,
          -0.17664245995748074,
          -0.17075812227577414,
          -0.15967789229658846,
          -0.15156492832224266,
          -0.14269763477000907,
          -0.13414032970296752,
          -0.12109166581512953,
          -0.10523038232228221,
          -0.09730739921623188,
          -0.0875564217548126,
          -0.073106517187836,
          -0.06614193423249759,
          -0.048961544990505645,
          -0.03852613912863623,
          -0.02695169745439463,
          -0.015398752587621134,
          0.0014926639662036223,
          0.015042987418894205,
          0.025868082423433192,
          0.03722691520263732,
          0.05500775556664894,
          0.07332526786824245,
          0.08509505256709382,
          0.1069158919725397,
          0.1224310794593444,
          0.13130400392502506,
          0.14504030154730685,
          0.16476864426195037,
          0.17952434900229397,
          0.1943520642028761,
          0.21672676743843,
          0.2308645267404874,
          0.24843657368494965,
          0.26099597237735406,
          0.28373372133612396,
          0.30210041168249757,
          0.32639465624366726,
          0.34646174169556654,
          0.3686738868202942,
          0.38828987034122253,
          0.4072586699497952,
          0.4321368570975127,
          0.4517737446120742,
          0.47366179667367814,
          0.4978988769200917,
          0.5218386295130719,
          0.5499182286425097,
          0.5704386207176682,
          0.592542957924923,
          0.6199879414155481,
          0.6496803907397333,
          0.674311074203241,
          0.6913148896729384,
          0.719148055329722,
          0.7525476009777701,
          0.7883090506485513,
          0.8245357031772302,
          0.8544860141320314,
          0.8748254210203688,
          0.9039404597663668,
          0.9349660548175495,
          0.9684510726138587,
          1
         ],
         "yaxis": "y"
        },
        {
         "hovertemplate": "variable=accuracy<br>Conocidos=%{x}<br>value=%{y}<extra></extra>",
         "legendgroup": "accuracy",
         "line": {
          "color": "#ab63fa",
          "dash": "solid"
         },
         "marker": {
          "symbol": "circle"
         },
         "mode": "lines",
         "name": "accuracy",
         "orientation": "v",
         "showlegend": true,
         "type": "scatter",
         "x": [
          0,
          1,
          2,
          3,
          4,
          5,
          6,
          7,
          8,
          9,
          10,
          11,
          12,
          13,
          14,
          15,
          16,
          17,
          18,
          19,
          20,
          21,
          22,
          23,
          24,
          25,
          26,
          27,
          28,
          29,
          30,
          31,
          32,
          33,
          34,
          35,
          36,
          37,
          38,
          39,
          40,
          41,
          42,
          43,
          44,
          45,
          46,
          47,
          48,
          49,
          50,
          51,
          52,
          53,
          54,
          55,
          56,
          57,
          58,
          59,
          60,
          61,
          62,
          63,
          64,
          65,
          66,
          67,
          68,
          69,
          70,
          71,
          72,
          73,
          74,
          75,
          76,
          77,
          78,
          79,
          80,
          81,
          82,
          83,
          84,
          85,
          86,
          87,
          88,
          89,
          90,
          91,
          92,
          93,
          94,
          95,
          96,
          97,
          98,
          99,
          100
         ],
         "xaxis": "x",
         "y": [
          0.24141380460153383,
          0.25008336112037344,
          0.2570856952317439,
          0.26375458486162057,
          0.27109036345448484,
          0.2770923641213738,
          0.2847615871957319,
          0.296432144048016,
          0.3051017005668556,
          0.31177059019673226,
          0.3187729243081027,
          0.32510836945648547,
          0.33144381460486827,
          0.3387795931977326,
          0.3454484828276092,
          0.3527842614204735,
          0.3627875958652884,
          0.3694564854951651,
          0.3761253751250417,
          0.38112704234744915,
          0.3881293764588196,
          0.3951317105701901,
          0.40046682227409136,
          0.40746915638546183,
          0.41647215738579524,
          0.4264754918306102,
          0.43347782594198064,
          0.44081360453484497,
          0.44814938312770924,
          0.45715238412804265,
          0.464488162720907,
          0.4711570523507836,
          0.47815938646215406,
          0.48549516505501833,
          0.49183061020340113,
          0.5005001667222407,
          0.5065021673891297,
          0.5131710570190063,
          0.5215071690563521,
          0.5295098366122041,
          0.5375125041680561,
          0.5445148382794265,
          0.5515171723907969,
          0.5565188396132044,
          0.565188396132044,
          0.5745248416138713,
          0.5808602867622541,
          0.5881960653551184,
          0.5965321773924641,
          0.6052017339113037,
          0.6142047349116372,
          0.6232077359119707,
          0.6302100700233411,
          0.6405468489496499,
          0.6515505168389463,
          0.6585528509503168,
          0.6665555185061687,
          0.6732244081360453,
          0.6822274091363788,
          0.6908969656552184,
          0.6975658552850951,
          0.7065688562854284,
          0.7149049683227743,
          0.7219073024341447,
          0.7275758586195399,
          0.7355785261753918,
          0.7439146382127376,
          0.7525841947315772,
          0.7622540846948983,
          0.7692564188062687,
          0.7749249749916639,
          0.780593531177059,
          0.788596198732911,
          0.7962654218072691,
          0.8056018672890963,
          0.8136045348449483,
          0.8209403134378126,
          0.8266088696232078,
          0.8336112037345782,
          0.8436145381793931,
          0.8496165388462821,
          0.8576192064021341,
          0.8662887629209737,
          0.8746248749583194,
          0.8826275425141714,
          0.889296432144048,
          0.8979659886628877,
          0.9089696565521841,
          0.9196398799599866,
          0.9263087695898633,
          0.930643547849283,
          0.9353117705901968,
          0.9433144381460487,
          0.952650883627876,
          0.9613204401467156,
          0.968322774258086,
          0.9756585528509503,
          0.9819939979993331,
          0.9883294431477159,
          0.9936645548516172,
          1
         ],
         "yaxis": "y"
        },
        {
         "hovertemplate": "variable=balanced_accuracy<br>Conocidos=%{x}<br>value=%{y}<extra></extra>",
         "legendgroup": "balanced_accuracy",
         "line": {
          "color": "#FFA15A",
          "dash": "solid"
         },
         "marker": {
          "symbol": "circle"
         },
         "mode": "lines",
         "name": "balanced_accuracy",
         "orientation": "v",
         "showlegend": true,
         "type": "scatter",
         "x": [
          0,
          1,
          2,
          3,
          4,
          5,
          6,
          7,
          8,
          9,
          10,
          11,
          12,
          13,
          14,
          15,
          16,
          17,
          18,
          19,
          20,
          21,
          22,
          23,
          24,
          25,
          26,
          27,
          28,
          29,
          30,
          31,
          32,
          33,
          34,
          35,
          36,
          37,
          38,
          39,
          40,
          41,
          42,
          43,
          44,
          45,
          46,
          47,
          48,
          49,
          50,
          51,
          52,
          53,
          54,
          55,
          56,
          57,
          58,
          59,
          60,
          61,
          62,
          63,
          64,
          65,
          66,
          67,
          68,
          69,
          70,
          71,
          72,
          73,
          74,
          75,
          76,
          77,
          78,
          79,
          80,
          81,
          82,
          83,
          84,
          85,
          86,
          87,
          88,
          89,
          90,
          91,
          92,
          93,
          94,
          95,
          96,
          97,
          98,
          99,
          100
         ],
         "xaxis": "x",
         "y": [
          0.19781671101270798,
          0.20478474045092782,
          0.21045534466316873,
          0.21602451095497138,
          0.22236135676482585,
          0.22734363848982678,
          0.23784051438360465,
          0.24960773798073008,
          0.2607067578657061,
          0.27037460997831814,
          0.27840486947716125,
          0.2836530075172871,
          0.2910120018032706,
          0.30556504258908,
          0.31547001030081007,
          0.323356803089596,
          0.3318192994127867,
          0.33959199120053046,
          0.34945751439360423,
          0.35377988384706277,
          0.3595994779572552,
          0.36747815121435434,
          0.37415711161712345,
          0.3802948071348908,
          0.389714193543649,
          0.39842239299114357,
          0.4066436832503871,
          0.41706947864454885,
          0.42944820264392314,
          0.4370324944307897,
          0.4430241268947074,
          0.44864052673654375,
          0.4590038291562754,
          0.4669469425929293,
          0.4719496764299117,
          0.47893977468492804,
          0.4838780683423556,
          0.4892127153788327,
          0.49593955366251663,
          0.5048926549039252,
          0.511510616453301,
          0.521715192738579,
          0.529625021910309,
          0.5338255134041778,
          0.5453255677103103,
          0.5574533987343772,
          0.5649122021631539,
          0.5708940983905695,
          0.5822195179991841,
          0.589544593790987,
          0.5989722688037709,
          0.6061595701457497,
          0.6117732045714549,
          0.6204148791410804,
          0.6316916324765961,
          0.6395328084201635,
          0.6463330125532659,
          0.6517111480846681,
          0.6632095856859854,
          0.6810895916348649,
          0.688649183845412,
          0.6957374745384062,
          0.7067371532740883,
          0.7123319643654572,
          0.7173759284982498,
          0.7238508913310675,
          0.7328601441480053,
          0.7440667622071518,
          0.7542512317901693,
          0.7599263795513272,
          0.7668797837944072,
          0.7712941854321114,
          0.7802338053819096,
          0.7912106047341565,
          0.8030618756404492,
          0.8119580070953217,
          0.8182287960208063,
          0.8229152142273678,
          0.8288131978022246,
          0.8374779087547941,
          0.8423240327347863,
          0.8510250894529898,
          0.8604363563300612,
          0.8695142623751615,
          0.8781758745747087,
          0.8834192999935787,
          0.8931783765603794,
          0.9045912876409039,
          0.913453032608097,
          0.9232510512843243,
          0.9291399328519357,
          0.933356320836039,
          0.9401902772275644,
          0.9478321682224362,
          0.95510451885546,
          0.9651523162114094,
          0.9711900335140446,
          0.9787343663001954,
          0.9839067112194492,
          0.9925411965712234,
          1
         ],
         "yaxis": "y"
        }
       ],
       "layout": {
        "legend": {
         "title": {
          "text": "variable"
         },
         "tracegroupgap": 0
        },
        "margin": {
         "t": 60
        },
        "template": {
         "data": {
          "bar": [
           {
            "error_x": {
             "color": "#2a3f5f"
            },
            "error_y": {
             "color": "#2a3f5f"
            },
            "marker": {
             "line": {
              "color": "#E5ECF6",
              "width": 0.5
             },
             "pattern": {
              "fillmode": "overlay",
              "size": 10,
              "solidity": 0.2
             }
            },
            "type": "bar"
           }
          ],
          "barpolar": [
           {
            "marker": {
             "line": {
              "color": "#E5ECF6",
              "width": 0.5
             },
             "pattern": {
              "fillmode": "overlay",
              "size": 10,
              "solidity": 0.2
             }
            },
            "type": "barpolar"
           }
          ],
          "carpet": [
           {
            "aaxis": {
             "endlinecolor": "#2a3f5f",
             "gridcolor": "white",
             "linecolor": "white",
             "minorgridcolor": "white",
             "startlinecolor": "#2a3f5f"
            },
            "baxis": {
             "endlinecolor": "#2a3f5f",
             "gridcolor": "white",
             "linecolor": "white",
             "minorgridcolor": "white",
             "startlinecolor": "#2a3f5f"
            },
            "type": "carpet"
           }
          ],
          "choropleth": [
           {
            "colorbar": {
             "outlinewidth": 0,
             "ticks": ""
            },
            "type": "choropleth"
           }
          ],
          "contour": [
           {
            "colorbar": {
             "outlinewidth": 0,
             "ticks": ""
            },
            "colorscale": [
             [
              0,
              "#0d0887"
             ],
             [
              0.1111111111111111,
              "#46039f"
             ],
             [
              0.2222222222222222,
              "#7201a8"
             ],
             [
              0.3333333333333333,
              "#9c179e"
             ],
             [
              0.4444444444444444,
              "#bd3786"
             ],
             [
              0.5555555555555556,
              "#d8576b"
             ],
             [
              0.6666666666666666,
              "#ed7953"
             ],
             [
              0.7777777777777778,
              "#fb9f3a"
             ],
             [
              0.8888888888888888,
              "#fdca26"
             ],
             [
              1,
              "#f0f921"
             ]
            ],
            "type": "contour"
           }
          ],
          "contourcarpet": [
           {
            "colorbar": {
             "outlinewidth": 0,
             "ticks": ""
            },
            "type": "contourcarpet"
           }
          ],
          "heatmap": [
           {
            "colorbar": {
             "outlinewidth": 0,
             "ticks": ""
            },
            "colorscale": [
             [
              0,
              "#0d0887"
             ],
             [
              0.1111111111111111,
              "#46039f"
             ],
             [
              0.2222222222222222,
              "#7201a8"
             ],
             [
              0.3333333333333333,
              "#9c179e"
             ],
             [
              0.4444444444444444,
              "#bd3786"
             ],
             [
              0.5555555555555556,
              "#d8576b"
             ],
             [
              0.6666666666666666,
              "#ed7953"
             ],
             [
              0.7777777777777778,
              "#fb9f3a"
             ],
             [
              0.8888888888888888,
              "#fdca26"
             ],
             [
              1,
              "#f0f921"
             ]
            ],
            "type": "heatmap"
           }
          ],
          "heatmapgl": [
           {
            "colorbar": {
             "outlinewidth": 0,
             "ticks": ""
            },
            "colorscale": [
             [
              0,
              "#0d0887"
             ],
             [
              0.1111111111111111,
              "#46039f"
             ],
             [
              0.2222222222222222,
              "#7201a8"
             ],
             [
              0.3333333333333333,
              "#9c179e"
             ],
             [
              0.4444444444444444,
              "#bd3786"
             ],
             [
              0.5555555555555556,
              "#d8576b"
             ],
             [
              0.6666666666666666,
              "#ed7953"
             ],
             [
              0.7777777777777778,
              "#fb9f3a"
             ],
             [
              0.8888888888888888,
              "#fdca26"
             ],
             [
              1,
              "#f0f921"
             ]
            ],
            "type": "heatmapgl"
           }
          ],
          "histogram": [
           {
            "marker": {
             "pattern": {
              "fillmode": "overlay",
              "size": 10,
              "solidity": 0.2
             }
            },
            "type": "histogram"
           }
          ],
          "histogram2d": [
           {
            "colorbar": {
             "outlinewidth": 0,
             "ticks": ""
            },
            "colorscale": [
             [
              0,
              "#0d0887"
             ],
             [
              0.1111111111111111,
              "#46039f"
             ],
             [
              0.2222222222222222,
              "#7201a8"
             ],
             [
              0.3333333333333333,
              "#9c179e"
             ],
             [
              0.4444444444444444,
              "#bd3786"
             ],
             [
              0.5555555555555556,
              "#d8576b"
             ],
             [
              0.6666666666666666,
              "#ed7953"
             ],
             [
              0.7777777777777778,
              "#fb9f3a"
             ],
             [
              0.8888888888888888,
              "#fdca26"
             ],
             [
              1,
              "#f0f921"
             ]
            ],
            "type": "histogram2d"
           }
          ],
          "histogram2dcontour": [
           {
            "colorbar": {
             "outlinewidth": 0,
             "ticks": ""
            },
            "colorscale": [
             [
              0,
              "#0d0887"
             ],
             [
              0.1111111111111111,
              "#46039f"
             ],
             [
              0.2222222222222222,
              "#7201a8"
             ],
             [
              0.3333333333333333,
              "#9c179e"
             ],
             [
              0.4444444444444444,
              "#bd3786"
             ],
             [
              0.5555555555555556,
              "#d8576b"
             ],
             [
              0.6666666666666666,
              "#ed7953"
             ],
             [
              0.7777777777777778,
              "#fb9f3a"
             ],
             [
              0.8888888888888888,
              "#fdca26"
             ],
             [
              1,
              "#f0f921"
             ]
            ],
            "type": "histogram2dcontour"
           }
          ],
          "mesh3d": [
           {
            "colorbar": {
             "outlinewidth": 0,
             "ticks": ""
            },
            "type": "mesh3d"
           }
          ],
          "parcoords": [
           {
            "line": {
             "colorbar": {
              "outlinewidth": 0,
              "ticks": ""
             }
            },
            "type": "parcoords"
           }
          ],
          "pie": [
           {
            "automargin": true,
            "type": "pie"
           }
          ],
          "scatter": [
           {
            "fillpattern": {
             "fillmode": "overlay",
             "size": 10,
             "solidity": 0.2
            },
            "type": "scatter"
           }
          ],
          "scatter3d": [
           {
            "line": {
             "colorbar": {
              "outlinewidth": 0,
              "ticks": ""
             }
            },
            "marker": {
             "colorbar": {
              "outlinewidth": 0,
              "ticks": ""
             }
            },
            "type": "scatter3d"
           }
          ],
          "scattercarpet": [
           {
            "marker": {
             "colorbar": {
              "outlinewidth": 0,
              "ticks": ""
             }
            },
            "type": "scattercarpet"
           }
          ],
          "scattergeo": [
           {
            "marker": {
             "colorbar": {
              "outlinewidth": 0,
              "ticks": ""
             }
            },
            "type": "scattergeo"
           }
          ],
          "scattergl": [
           {
            "marker": {
             "colorbar": {
              "outlinewidth": 0,
              "ticks": ""
             }
            },
            "type": "scattergl"
           }
          ],
          "scattermapbox": [
           {
            "marker": {
             "colorbar": {
              "outlinewidth": 0,
              "ticks": ""
             }
            },
            "type": "scattermapbox"
           }
          ],
          "scatterpolar": [
           {
            "marker": {
             "colorbar": {
              "outlinewidth": 0,
              "ticks": ""
             }
            },
            "type": "scatterpolar"
           }
          ],
          "scatterpolargl": [
           {
            "marker": {
             "colorbar": {
              "outlinewidth": 0,
              "ticks": ""
             }
            },
            "type": "scatterpolargl"
           }
          ],
          "scatterternary": [
           {
            "marker": {
             "colorbar": {
              "outlinewidth": 0,
              "ticks": ""
             }
            },
            "type": "scatterternary"
           }
          ],
          "surface": [
           {
            "colorbar": {
             "outlinewidth": 0,
             "ticks": ""
            },
            "colorscale": [
             [
              0,
              "#0d0887"
             ],
             [
              0.1111111111111111,
              "#46039f"
             ],
             [
              0.2222222222222222,
              "#7201a8"
             ],
             [
              0.3333333333333333,
              "#9c179e"
             ],
             [
              0.4444444444444444,
              "#bd3786"
             ],
             [
              0.5555555555555556,
              "#d8576b"
             ],
             [
              0.6666666666666666,
              "#ed7953"
             ],
             [
              0.7777777777777778,
              "#fb9f3a"
             ],
             [
              0.8888888888888888,
              "#fdca26"
             ],
             [
              1,
              "#f0f921"
             ]
            ],
            "type": "surface"
           }
          ],
          "table": [
           {
            "cells": {
             "fill": {
              "color": "#EBF0F8"
             },
             "line": {
              "color": "white"
             }
            },
            "header": {
             "fill": {
              "color": "#C8D4E3"
             },
             "line": {
              "color": "white"
             }
            },
            "type": "table"
           }
          ]
         },
         "layout": {
          "annotationdefaults": {
           "arrowcolor": "#2a3f5f",
           "arrowhead": 0,
           "arrowwidth": 1
          },
          "autotypenumbers": "strict",
          "coloraxis": {
           "colorbar": {
            "outlinewidth": 0,
            "ticks": ""
           }
          },
          "colorscale": {
           "diverging": [
            [
             0,
             "#8e0152"
            ],
            [
             0.1,
             "#c51b7d"
            ],
            [
             0.2,
             "#de77ae"
            ],
            [
             0.3,
             "#f1b6da"
            ],
            [
             0.4,
             "#fde0ef"
            ],
            [
             0.5,
             "#f7f7f7"
            ],
            [
             0.6,
             "#e6f5d0"
            ],
            [
             0.7,
             "#b8e186"
            ],
            [
             0.8,
             "#7fbc41"
            ],
            [
             0.9,
             "#4d9221"
            ],
            [
             1,
             "#276419"
            ]
           ],
           "sequential": [
            [
             0,
             "#0d0887"
            ],
            [
             0.1111111111111111,
             "#46039f"
            ],
            [
             0.2222222222222222,
             "#7201a8"
            ],
            [
             0.3333333333333333,
             "#9c179e"
            ],
            [
             0.4444444444444444,
             "#bd3786"
            ],
            [
             0.5555555555555556,
             "#d8576b"
            ],
            [
             0.6666666666666666,
             "#ed7953"
            ],
            [
             0.7777777777777778,
             "#fb9f3a"
            ],
            [
             0.8888888888888888,
             "#fdca26"
            ],
            [
             1,
             "#f0f921"
            ]
           ],
           "sequentialminus": [
            [
             0,
             "#0d0887"
            ],
            [
             0.1111111111111111,
             "#46039f"
            ],
            [
             0.2222222222222222,
             "#7201a8"
            ],
            [
             0.3333333333333333,
             "#9c179e"
            ],
            [
             0.4444444444444444,
             "#bd3786"
            ],
            [
             0.5555555555555556,
             "#d8576b"
            ],
            [
             0.6666666666666666,
             "#ed7953"
            ],
            [
             0.7777777777777778,
             "#fb9f3a"
            ],
            [
             0.8888888888888888,
             "#fdca26"
            ],
            [
             1,
             "#f0f921"
            ]
           ]
          },
          "colorway": [
           "#636efa",
           "#EF553B",
           "#00cc96",
           "#ab63fa",
           "#FFA15A",
           "#19d3f3",
           "#FF6692",
           "#B6E880",
           "#FF97FF",
           "#FECB52"
          ],
          "font": {
           "color": "#2a3f5f"
          },
          "geo": {
           "bgcolor": "white",
           "lakecolor": "white",
           "landcolor": "#E5ECF6",
           "showlakes": true,
           "showland": true,
           "subunitcolor": "white"
          },
          "hoverlabel": {
           "align": "left"
          },
          "hovermode": "closest",
          "mapbox": {
           "style": "light"
          },
          "paper_bgcolor": "white",
          "plot_bgcolor": "#E5ECF6",
          "polar": {
           "angularaxis": {
            "gridcolor": "white",
            "linecolor": "white",
            "ticks": ""
           },
           "bgcolor": "#E5ECF6",
           "radialaxis": {
            "gridcolor": "white",
            "linecolor": "white",
            "ticks": ""
           }
          },
          "scene": {
           "xaxis": {
            "backgroundcolor": "#E5ECF6",
            "gridcolor": "white",
            "gridwidth": 2,
            "linecolor": "white",
            "showbackground": true,
            "ticks": "",
            "zerolinecolor": "white"
           },
           "yaxis": {
            "backgroundcolor": "#E5ECF6",
            "gridcolor": "white",
            "gridwidth": 2,
            "linecolor": "white",
            "showbackground": true,
            "ticks": "",
            "zerolinecolor": "white"
           },
           "zaxis": {
            "backgroundcolor": "#E5ECF6",
            "gridcolor": "white",
            "gridwidth": 2,
            "linecolor": "white",
            "showbackground": true,
            "ticks": "",
            "zerolinecolor": "white"
           }
          },
          "shapedefaults": {
           "line": {
            "color": "#2a3f5f"
           }
          },
          "ternary": {
           "aaxis": {
            "gridcolor": "white",
            "linecolor": "white",
            "ticks": ""
           },
           "baxis": {
            "gridcolor": "white",
            "linecolor": "white",
            "ticks": ""
           },
           "bgcolor": "#E5ECF6",
           "caxis": {
            "gridcolor": "white",
            "linecolor": "white",
            "ticks": ""
           }
          },
          "title": {
           "x": 0.05
          },
          "xaxis": {
           "automargin": true,
           "gridcolor": "white",
           "linecolor": "white",
           "ticks": "",
           "title": {
            "standoff": 15
           },
           "zerolinecolor": "white",
           "zerolinewidth": 2
          },
          "yaxis": {
           "automargin": true,
           "gridcolor": "white",
           "linecolor": "white",
           "ticks": "",
           "title": {
            "standoff": 15
           },
           "zerolinecolor": "white",
           "zerolinewidth": 2
          }
         }
        },
        "xaxis": {
         "anchor": "y",
         "domain": [
          0,
          1
         ],
         "title": {
          "text": "Conocidos"
         }
        },
        "yaxis": {
         "anchor": "x",
         "domain": [
          0,
          1
         ],
         "title": {
          "text": "value"
         }
        }
       }
      }
     },
     "metadata": {},
     "output_type": "display_data"
    }
   ],
   "source": [
    "#Grafico el comportamiento de la métrica a medida que incremento los aciertos. Tambien muestro lor resultados de otras metricas como Accuracy y Balanced Accuracy\n",
    "px.line(kappa_progression,x='Conocidos',y=['kappa',\n",
    "                                           'kappa_cerca',\n",
    "                                           'kappa_lejos',\n",
    "                                           'accuracy',\n",
    "                                           'balanced_accuracy'])"
   ]
  },
  {
   "cell_type": "code",
   "execution_count": 18,
   "metadata": {},
   "outputs": [
    {
     "data": {
      "application/vnd.plotly.v1+json": {
       "config": {
        "plotlyServerURL": "https://plot.ly"
       },
       "data": [
        {
         "type": "heatmap",
         "x": [
          0,
          1,
          2,
          3,
          4
         ],
         "y": [
          0,
          1,
          2,
          3,
          4
         ],
         "z": [
          [
           52.4390243902439,
           47.5609756097561,
           0,
           0,
           0
          ],
          [
           0,
           47.896440129449836,
           52.103559870550164,
           0,
           0
          ],
          [
           0,
           0,
           49.93804213135068,
           50.06195786864932,
           0
          ],
          [
           0,
           0,
           0,
           50.306748466257666,
           49.693251533742334
          ],
          [
           0,
           0,
           0,
           52.142857142857146,
           47.85714285714286
          ]
         ]
        }
       ],
       "layout": {
        "annotations": [
         {
          "font": {
           "color": "white"
          },
          "showarrow": false,
          "text": "52.4 - 43",
          "x": 0,
          "xref": "x",
          "y": 0,
          "yref": "y"
         },
         {
          "font": {
           "color": "white"
          },
          "showarrow": false,
          "text": "47.6 - 39",
          "x": 1,
          "xref": "x",
          "y": 0,
          "yref": "y"
         },
         {
          "font": {
           "color": "white"
          },
          "showarrow": false,
          "text": "0.0 - 0",
          "x": 2,
          "xref": "x",
          "y": 0,
          "yref": "y"
         },
         {
          "font": {
           "color": "white"
          },
          "showarrow": false,
          "text": "0.0 - 0",
          "x": 3,
          "xref": "x",
          "y": 0,
          "yref": "y"
         },
         {
          "font": {
           "color": "white"
          },
          "showarrow": false,
          "text": "0.0 - 0",
          "x": 4,
          "xref": "x",
          "y": 0,
          "yref": "y"
         },
         {
          "font": {
           "color": "white"
          },
          "showarrow": false,
          "text": "0.0 - 0",
          "x": 0,
          "xref": "x",
          "y": 1,
          "yref": "y"
         },
         {
          "font": {
           "color": "white"
          },
          "showarrow": false,
          "text": "47.9 - 296",
          "x": 1,
          "xref": "x",
          "y": 1,
          "yref": "y"
         },
         {
          "font": {
           "color": "white"
          },
          "showarrow": false,
          "text": "52.1 - 322",
          "x": 2,
          "xref": "x",
          "y": 1,
          "yref": "y"
         },
         {
          "font": {
           "color": "white"
          },
          "showarrow": false,
          "text": "0.0 - 0",
          "x": 3,
          "xref": "x",
          "y": 1,
          "yref": "y"
         },
         {
          "font": {
           "color": "white"
          },
          "showarrow": false,
          "text": "0.0 - 0",
          "x": 4,
          "xref": "x",
          "y": 1,
          "yref": "y"
         },
         {
          "font": {
           "color": "white"
          },
          "showarrow": false,
          "text": "0.0 - 0",
          "x": 0,
          "xref": "x",
          "y": 2,
          "yref": "y"
         },
         {
          "font": {
           "color": "white"
          },
          "showarrow": false,
          "text": "0.0 - 0",
          "x": 1,
          "xref": "x",
          "y": 2,
          "yref": "y"
         },
         {
          "font": {
           "color": "white"
          },
          "showarrow": false,
          "text": "49.9 - 403",
          "x": 2,
          "xref": "x",
          "y": 2,
          "yref": "y"
         },
         {
          "font": {
           "color": "white"
          },
          "showarrow": false,
          "text": "50.1 - 404",
          "x": 3,
          "xref": "x",
          "y": 2,
          "yref": "y"
         },
         {
          "font": {
           "color": "white"
          },
          "showarrow": false,
          "text": "0.0 - 0",
          "x": 4,
          "xref": "x",
          "y": 2,
          "yref": "y"
         },
         {
          "font": {
           "color": "white"
          },
          "showarrow": false,
          "text": "0.0 - 0",
          "x": 0,
          "xref": "x",
          "y": 3,
          "yref": "y"
         },
         {
          "font": {
           "color": "white"
          },
          "showarrow": false,
          "text": "0.0 - 0",
          "x": 1,
          "xref": "x",
          "y": 3,
          "yref": "y"
         },
         {
          "font": {
           "color": "white"
          },
          "showarrow": false,
          "text": "0.0 - 0",
          "x": 2,
          "xref": "x",
          "y": 3,
          "yref": "y"
         },
         {
          "font": {
           "color": "white"
          },
          "showarrow": false,
          "text": "50.3 - 328",
          "x": 3,
          "xref": "x",
          "y": 3,
          "yref": "y"
         },
         {
          "font": {
           "color": "white"
          },
          "showarrow": false,
          "text": "49.7 - 324",
          "x": 4,
          "xref": "x",
          "y": 3,
          "yref": "y"
         },
         {
          "font": {
           "color": "white"
          },
          "showarrow": false,
          "text": "0.0 - 0",
          "x": 0,
          "xref": "x",
          "y": 4,
          "yref": "y"
         },
         {
          "font": {
           "color": "white"
          },
          "showarrow": false,
          "text": "0.0 - 0",
          "x": 1,
          "xref": "x",
          "y": 4,
          "yref": "y"
         },
         {
          "font": {
           "color": "white"
          },
          "showarrow": false,
          "text": "0.0 - 0",
          "x": 2,
          "xref": "x",
          "y": 4,
          "yref": "y"
         },
         {
          "font": {
           "color": "white"
          },
          "showarrow": false,
          "text": "52.1 - 438",
          "x": 3,
          "xref": "x",
          "y": 4,
          "yref": "y"
         },
         {
          "font": {
           "color": "white"
          },
          "showarrow": false,
          "text": "47.9 - 402",
          "x": 4,
          "xref": "x",
          "y": 4,
          "yref": "y"
         }
        ],
        "height": 800,
        "template": {
         "data": {
          "bar": [
           {
            "error_x": {
             "color": "#2a3f5f"
            },
            "error_y": {
             "color": "#2a3f5f"
            },
            "marker": {
             "line": {
              "color": "#E5ECF6",
              "width": 0.5
             },
             "pattern": {
              "fillmode": "overlay",
              "size": 10,
              "solidity": 0.2
             }
            },
            "type": "bar"
           }
          ],
          "barpolar": [
           {
            "marker": {
             "line": {
              "color": "#E5ECF6",
              "width": 0.5
             },
             "pattern": {
              "fillmode": "overlay",
              "size": 10,
              "solidity": 0.2
             }
            },
            "type": "barpolar"
           }
          ],
          "carpet": [
           {
            "aaxis": {
             "endlinecolor": "#2a3f5f",
             "gridcolor": "white",
             "linecolor": "white",
             "minorgridcolor": "white",
             "startlinecolor": "#2a3f5f"
            },
            "baxis": {
             "endlinecolor": "#2a3f5f",
             "gridcolor": "white",
             "linecolor": "white",
             "minorgridcolor": "white",
             "startlinecolor": "#2a3f5f"
            },
            "type": "carpet"
           }
          ],
          "choropleth": [
           {
            "colorbar": {
             "outlinewidth": 0,
             "ticks": ""
            },
            "type": "choropleth"
           }
          ],
          "contour": [
           {
            "colorbar": {
             "outlinewidth": 0,
             "ticks": ""
            },
            "colorscale": [
             [
              0,
              "#0d0887"
             ],
             [
              0.1111111111111111,
              "#46039f"
             ],
             [
              0.2222222222222222,
              "#7201a8"
             ],
             [
              0.3333333333333333,
              "#9c179e"
             ],
             [
              0.4444444444444444,
              "#bd3786"
             ],
             [
              0.5555555555555556,
              "#d8576b"
             ],
             [
              0.6666666666666666,
              "#ed7953"
             ],
             [
              0.7777777777777778,
              "#fb9f3a"
             ],
             [
              0.8888888888888888,
              "#fdca26"
             ],
             [
              1,
              "#f0f921"
             ]
            ],
            "type": "contour"
           }
          ],
          "contourcarpet": [
           {
            "colorbar": {
             "outlinewidth": 0,
             "ticks": ""
            },
            "type": "contourcarpet"
           }
          ],
          "heatmap": [
           {
            "colorbar": {
             "outlinewidth": 0,
             "ticks": ""
            },
            "colorscale": [
             [
              0,
              "#0d0887"
             ],
             [
              0.1111111111111111,
              "#46039f"
             ],
             [
              0.2222222222222222,
              "#7201a8"
             ],
             [
              0.3333333333333333,
              "#9c179e"
             ],
             [
              0.4444444444444444,
              "#bd3786"
             ],
             [
              0.5555555555555556,
              "#d8576b"
             ],
             [
              0.6666666666666666,
              "#ed7953"
             ],
             [
              0.7777777777777778,
              "#fb9f3a"
             ],
             [
              0.8888888888888888,
              "#fdca26"
             ],
             [
              1,
              "#f0f921"
             ]
            ],
            "type": "heatmap"
           }
          ],
          "heatmapgl": [
           {
            "colorbar": {
             "outlinewidth": 0,
             "ticks": ""
            },
            "colorscale": [
             [
              0,
              "#0d0887"
             ],
             [
              0.1111111111111111,
              "#46039f"
             ],
             [
              0.2222222222222222,
              "#7201a8"
             ],
             [
              0.3333333333333333,
              "#9c179e"
             ],
             [
              0.4444444444444444,
              "#bd3786"
             ],
             [
              0.5555555555555556,
              "#d8576b"
             ],
             [
              0.6666666666666666,
              "#ed7953"
             ],
             [
              0.7777777777777778,
              "#fb9f3a"
             ],
             [
              0.8888888888888888,
              "#fdca26"
             ],
             [
              1,
              "#f0f921"
             ]
            ],
            "type": "heatmapgl"
           }
          ],
          "histogram": [
           {
            "marker": {
             "pattern": {
              "fillmode": "overlay",
              "size": 10,
              "solidity": 0.2
             }
            },
            "type": "histogram"
           }
          ],
          "histogram2d": [
           {
            "colorbar": {
             "outlinewidth": 0,
             "ticks": ""
            },
            "colorscale": [
             [
              0,
              "#0d0887"
             ],
             [
              0.1111111111111111,
              "#46039f"
             ],
             [
              0.2222222222222222,
              "#7201a8"
             ],
             [
              0.3333333333333333,
              "#9c179e"
             ],
             [
              0.4444444444444444,
              "#bd3786"
             ],
             [
              0.5555555555555556,
              "#d8576b"
             ],
             [
              0.6666666666666666,
              "#ed7953"
             ],
             [
              0.7777777777777778,
              "#fb9f3a"
             ],
             [
              0.8888888888888888,
              "#fdca26"
             ],
             [
              1,
              "#f0f921"
             ]
            ],
            "type": "histogram2d"
           }
          ],
          "histogram2dcontour": [
           {
            "colorbar": {
             "outlinewidth": 0,
             "ticks": ""
            },
            "colorscale": [
             [
              0,
              "#0d0887"
             ],
             [
              0.1111111111111111,
              "#46039f"
             ],
             [
              0.2222222222222222,
              "#7201a8"
             ],
             [
              0.3333333333333333,
              "#9c179e"
             ],
             [
              0.4444444444444444,
              "#bd3786"
             ],
             [
              0.5555555555555556,
              "#d8576b"
             ],
             [
              0.6666666666666666,
              "#ed7953"
             ],
             [
              0.7777777777777778,
              "#fb9f3a"
             ],
             [
              0.8888888888888888,
              "#fdca26"
             ],
             [
              1,
              "#f0f921"
             ]
            ],
            "type": "histogram2dcontour"
           }
          ],
          "mesh3d": [
           {
            "colorbar": {
             "outlinewidth": 0,
             "ticks": ""
            },
            "type": "mesh3d"
           }
          ],
          "parcoords": [
           {
            "line": {
             "colorbar": {
              "outlinewidth": 0,
              "ticks": ""
             }
            },
            "type": "parcoords"
           }
          ],
          "pie": [
           {
            "automargin": true,
            "type": "pie"
           }
          ],
          "scatter": [
           {
            "fillpattern": {
             "fillmode": "overlay",
             "size": 10,
             "solidity": 0.2
            },
            "type": "scatter"
           }
          ],
          "scatter3d": [
           {
            "line": {
             "colorbar": {
              "outlinewidth": 0,
              "ticks": ""
             }
            },
            "marker": {
             "colorbar": {
              "outlinewidth": 0,
              "ticks": ""
             }
            },
            "type": "scatter3d"
           }
          ],
          "scattercarpet": [
           {
            "marker": {
             "colorbar": {
              "outlinewidth": 0,
              "ticks": ""
             }
            },
            "type": "scattercarpet"
           }
          ],
          "scattergeo": [
           {
            "marker": {
             "colorbar": {
              "outlinewidth": 0,
              "ticks": ""
             }
            },
            "type": "scattergeo"
           }
          ],
          "scattergl": [
           {
            "marker": {
             "colorbar": {
              "outlinewidth": 0,
              "ticks": ""
             }
            },
            "type": "scattergl"
           }
          ],
          "scattermapbox": [
           {
            "marker": {
             "colorbar": {
              "outlinewidth": 0,
              "ticks": ""
             }
            },
            "type": "scattermapbox"
           }
          ],
          "scatterpolar": [
           {
            "marker": {
             "colorbar": {
              "outlinewidth": 0,
              "ticks": ""
             }
            },
            "type": "scatterpolar"
           }
          ],
          "scatterpolargl": [
           {
            "marker": {
             "colorbar": {
              "outlinewidth": 0,
              "ticks": ""
             }
            },
            "type": "scatterpolargl"
           }
          ],
          "scatterternary": [
           {
            "marker": {
             "colorbar": {
              "outlinewidth": 0,
              "ticks": ""
             }
            },
            "type": "scatterternary"
           }
          ],
          "surface": [
           {
            "colorbar": {
             "outlinewidth": 0,
             "ticks": ""
            },
            "colorscale": [
             [
              0,
              "#0d0887"
             ],
             [
              0.1111111111111111,
              "#46039f"
             ],
             [
              0.2222222222222222,
              "#7201a8"
             ],
             [
              0.3333333333333333,
              "#9c179e"
             ],
             [
              0.4444444444444444,
              "#bd3786"
             ],
             [
              0.5555555555555556,
              "#d8576b"
             ],
             [
              0.6666666666666666,
              "#ed7953"
             ],
             [
              0.7777777777777778,
              "#fb9f3a"
             ],
             [
              0.8888888888888888,
              "#fdca26"
             ],
             [
              1,
              "#f0f921"
             ]
            ],
            "type": "surface"
           }
          ],
          "table": [
           {
            "cells": {
             "fill": {
              "color": "#EBF0F8"
             },
             "line": {
              "color": "white"
             }
            },
            "header": {
             "fill": {
              "color": "#C8D4E3"
             },
             "line": {
              "color": "white"
             }
            },
            "type": "table"
           }
          ]
         },
         "layout": {
          "annotationdefaults": {
           "arrowcolor": "#2a3f5f",
           "arrowhead": 0,
           "arrowwidth": 1
          },
          "autotypenumbers": "strict",
          "coloraxis": {
           "colorbar": {
            "outlinewidth": 0,
            "ticks": ""
           }
          },
          "colorscale": {
           "diverging": [
            [
             0,
             "#8e0152"
            ],
            [
             0.1,
             "#c51b7d"
            ],
            [
             0.2,
             "#de77ae"
            ],
            [
             0.3,
             "#f1b6da"
            ],
            [
             0.4,
             "#fde0ef"
            ],
            [
             0.5,
             "#f7f7f7"
            ],
            [
             0.6,
             "#e6f5d0"
            ],
            [
             0.7,
             "#b8e186"
            ],
            [
             0.8,
             "#7fbc41"
            ],
            [
             0.9,
             "#4d9221"
            ],
            [
             1,
             "#276419"
            ]
           ],
           "sequential": [
            [
             0,
             "#0d0887"
            ],
            [
             0.1111111111111111,
             "#46039f"
            ],
            [
             0.2222222222222222,
             "#7201a8"
            ],
            [
             0.3333333333333333,
             "#9c179e"
            ],
            [
             0.4444444444444444,
             "#bd3786"
            ],
            [
             0.5555555555555556,
             "#d8576b"
            ],
            [
             0.6666666666666666,
             "#ed7953"
            ],
            [
             0.7777777777777778,
             "#fb9f3a"
            ],
            [
             0.8888888888888888,
             "#fdca26"
            ],
            [
             1,
             "#f0f921"
            ]
           ],
           "sequentialminus": [
            [
             0,
             "#0d0887"
            ],
            [
             0.1111111111111111,
             "#46039f"
            ],
            [
             0.2222222222222222,
             "#7201a8"
            ],
            [
             0.3333333333333333,
             "#9c179e"
            ],
            [
             0.4444444444444444,
             "#bd3786"
            ],
            [
             0.5555555555555556,
             "#d8576b"
            ],
            [
             0.6666666666666666,
             "#ed7953"
            ],
            [
             0.7777777777777778,
             "#fb9f3a"
            ],
            [
             0.8888888888888888,
             "#fdca26"
            ],
            [
             1,
             "#f0f921"
            ]
           ]
          },
          "colorway": [
           "#636efa",
           "#EF553B",
           "#00cc96",
           "#ab63fa",
           "#FFA15A",
           "#19d3f3",
           "#FF6692",
           "#B6E880",
           "#FF97FF",
           "#FECB52"
          ],
          "font": {
           "color": "#2a3f5f"
          },
          "geo": {
           "bgcolor": "white",
           "lakecolor": "white",
           "landcolor": "#E5ECF6",
           "showlakes": true,
           "showland": true,
           "subunitcolor": "white"
          },
          "hoverlabel": {
           "align": "left"
          },
          "hovermode": "closest",
          "mapbox": {
           "style": "light"
          },
          "paper_bgcolor": "white",
          "plot_bgcolor": "#E5ECF6",
          "polar": {
           "angularaxis": {
            "gridcolor": "white",
            "linecolor": "white",
            "ticks": ""
           },
           "bgcolor": "#E5ECF6",
           "radialaxis": {
            "gridcolor": "white",
            "linecolor": "white",
            "ticks": ""
           }
          },
          "scene": {
           "xaxis": {
            "backgroundcolor": "#E5ECF6",
            "gridcolor": "white",
            "gridwidth": 2,
            "linecolor": "white",
            "showbackground": true,
            "ticks": "",
            "zerolinecolor": "white"
           },
           "yaxis": {
            "backgroundcolor": "#E5ECF6",
            "gridcolor": "white",
            "gridwidth": 2,
            "linecolor": "white",
            "showbackground": true,
            "ticks": "",
            "zerolinecolor": "white"
           },
           "zaxis": {
            "backgroundcolor": "#E5ECF6",
            "gridcolor": "white",
            "gridwidth": 2,
            "linecolor": "white",
            "showbackground": true,
            "ticks": "",
            "zerolinecolor": "white"
           }
          },
          "shapedefaults": {
           "line": {
            "color": "#2a3f5f"
           }
          },
          "ternary": {
           "aaxis": {
            "gridcolor": "white",
            "linecolor": "white",
            "ticks": ""
           },
           "baxis": {
            "gridcolor": "white",
            "linecolor": "white",
            "ticks": ""
           },
           "bgcolor": "#E5ECF6",
           "caxis": {
            "gridcolor": "white",
            "linecolor": "white",
            "ticks": ""
           }
          },
          "title": {
           "x": 0.05
          },
          "xaxis": {
           "automargin": true,
           "gridcolor": "white",
           "linecolor": "white",
           "ticks": "",
           "title": {
            "standoff": 15
           },
           "zerolinecolor": "white",
           "zerolinewidth": 2
          },
          "yaxis": {
           "automargin": true,
           "gridcolor": "white",
           "linecolor": "white",
           "ticks": "",
           "title": {
            "standoff": 15
           },
           "zerolinecolor": "white",
           "zerolinewidth": 2
          }
         }
        },
        "title": {
         "text": "Kappa 0.7897816236152164"
        },
        "width": 800,
        "xaxis": {
         "title": {
          "text": "Predicted value"
         }
        },
        "yaxis": {
         "title": {
          "text": "Real value"
         }
        }
       }
      }
     },
     "metadata": {},
     "output_type": "display_data"
    }
   ],
   "source": [
    "\n",
    "#A modo de ejemplo muestro kappa y matriz de confusion para 50% de aciertos donde los errores quedan cerca de la clase correcta\n",
    "y_simulado_cerca = [y_test.iloc[sample] if random_list[sample]<50/100 else y_cerca[sample] for sample in range(len(y_test))]\n",
    "\n",
    "display(plot_confusion_matrix(y_test,y_simulado_cerca, \n",
    "                              title = \"Kappa \" + str(cohen_kappa_score(y_test,y_simulado_cerca, weights = 'quadratic'))))\n",
    "\n"
   ]
  },
  {
   "cell_type": "code",
   "execution_count": 19,
   "metadata": {},
   "outputs": [
    {
     "data": {
      "application/vnd.plotly.v1+json": {
       "config": {
        "plotlyServerURL": "https://plot.ly"
       },
       "data": [
        {
         "type": "heatmap",
         "x": [
          0,
          1,
          2,
          3,
          4
         ],
         "y": [
          0,
          1,
          2,
          3,
          4
         ],
         "z": [
          [
           52.4390243902439,
           0,
           0,
           0,
           47.5609756097561
          ],
          [
           0,
           47.896440129449836,
           0,
           0,
           52.103559870550164
          ],
          [
           50.06195786864932,
           0,
           49.93804213135068,
           0,
           0
          ],
          [
           49.693251533742334,
           0,
           0,
           50.306748466257666,
           0
          ],
          [
           52.142857142857146,
           0,
           0,
           0,
           47.85714285714286
          ]
         ]
        }
       ],
       "layout": {
        "annotations": [
         {
          "font": {
           "color": "white"
          },
          "showarrow": false,
          "text": "52.4 - 43",
          "x": 0,
          "xref": "x",
          "y": 0,
          "yref": "y"
         },
         {
          "font": {
           "color": "white"
          },
          "showarrow": false,
          "text": "0.0 - 0",
          "x": 1,
          "xref": "x",
          "y": 0,
          "yref": "y"
         },
         {
          "font": {
           "color": "white"
          },
          "showarrow": false,
          "text": "0.0 - 0",
          "x": 2,
          "xref": "x",
          "y": 0,
          "yref": "y"
         },
         {
          "font": {
           "color": "white"
          },
          "showarrow": false,
          "text": "0.0 - 0",
          "x": 3,
          "xref": "x",
          "y": 0,
          "yref": "y"
         },
         {
          "font": {
           "color": "white"
          },
          "showarrow": false,
          "text": "47.6 - 39",
          "x": 4,
          "xref": "x",
          "y": 0,
          "yref": "y"
         },
         {
          "font": {
           "color": "white"
          },
          "showarrow": false,
          "text": "0.0 - 0",
          "x": 0,
          "xref": "x",
          "y": 1,
          "yref": "y"
         },
         {
          "font": {
           "color": "white"
          },
          "showarrow": false,
          "text": "47.9 - 296",
          "x": 1,
          "xref": "x",
          "y": 1,
          "yref": "y"
         },
         {
          "font": {
           "color": "white"
          },
          "showarrow": false,
          "text": "0.0 - 0",
          "x": 2,
          "xref": "x",
          "y": 1,
          "yref": "y"
         },
         {
          "font": {
           "color": "white"
          },
          "showarrow": false,
          "text": "0.0 - 0",
          "x": 3,
          "xref": "x",
          "y": 1,
          "yref": "y"
         },
         {
          "font": {
           "color": "white"
          },
          "showarrow": false,
          "text": "52.1 - 322",
          "x": 4,
          "xref": "x",
          "y": 1,
          "yref": "y"
         },
         {
          "font": {
           "color": "white"
          },
          "showarrow": false,
          "text": "50.1 - 404",
          "x": 0,
          "xref": "x",
          "y": 2,
          "yref": "y"
         },
         {
          "font": {
           "color": "white"
          },
          "showarrow": false,
          "text": "0.0 - 0",
          "x": 1,
          "xref": "x",
          "y": 2,
          "yref": "y"
         },
         {
          "font": {
           "color": "white"
          },
          "showarrow": false,
          "text": "49.9 - 403",
          "x": 2,
          "xref": "x",
          "y": 2,
          "yref": "y"
         },
         {
          "font": {
           "color": "white"
          },
          "showarrow": false,
          "text": "0.0 - 0",
          "x": 3,
          "xref": "x",
          "y": 2,
          "yref": "y"
         },
         {
          "font": {
           "color": "white"
          },
          "showarrow": false,
          "text": "0.0 - 0",
          "x": 4,
          "xref": "x",
          "y": 2,
          "yref": "y"
         },
         {
          "font": {
           "color": "white"
          },
          "showarrow": false,
          "text": "49.7 - 324",
          "x": 0,
          "xref": "x",
          "y": 3,
          "yref": "y"
         },
         {
          "font": {
           "color": "white"
          },
          "showarrow": false,
          "text": "0.0 - 0",
          "x": 1,
          "xref": "x",
          "y": 3,
          "yref": "y"
         },
         {
          "font": {
           "color": "white"
          },
          "showarrow": false,
          "text": "0.0 - 0",
          "x": 2,
          "xref": "x",
          "y": 3,
          "yref": "y"
         },
         {
          "font": {
           "color": "white"
          },
          "showarrow": false,
          "text": "50.3 - 328",
          "x": 3,
          "xref": "x",
          "y": 3,
          "yref": "y"
         },
         {
          "font": {
           "color": "white"
          },
          "showarrow": false,
          "text": "0.0 - 0",
          "x": 4,
          "xref": "x",
          "y": 3,
          "yref": "y"
         },
         {
          "font": {
           "color": "white"
          },
          "showarrow": false,
          "text": "52.1 - 438",
          "x": 0,
          "xref": "x",
          "y": 4,
          "yref": "y"
         },
         {
          "font": {
           "color": "white"
          },
          "showarrow": false,
          "text": "0.0 - 0",
          "x": 1,
          "xref": "x",
          "y": 4,
          "yref": "y"
         },
         {
          "font": {
           "color": "white"
          },
          "showarrow": false,
          "text": "0.0 - 0",
          "x": 2,
          "xref": "x",
          "y": 4,
          "yref": "y"
         },
         {
          "font": {
           "color": "white"
          },
          "showarrow": false,
          "text": "0.0 - 0",
          "x": 3,
          "xref": "x",
          "y": 4,
          "yref": "y"
         },
         {
          "font": {
           "color": "white"
          },
          "showarrow": false,
          "text": "47.9 - 402",
          "x": 4,
          "xref": "x",
          "y": 4,
          "yref": "y"
         }
        ],
        "height": 800,
        "template": {
         "data": {
          "bar": [
           {
            "error_x": {
             "color": "#2a3f5f"
            },
            "error_y": {
             "color": "#2a3f5f"
            },
            "marker": {
             "line": {
              "color": "#E5ECF6",
              "width": 0.5
             },
             "pattern": {
              "fillmode": "overlay",
              "size": 10,
              "solidity": 0.2
             }
            },
            "type": "bar"
           }
          ],
          "barpolar": [
           {
            "marker": {
             "line": {
              "color": "#E5ECF6",
              "width": 0.5
             },
             "pattern": {
              "fillmode": "overlay",
              "size": 10,
              "solidity": 0.2
             }
            },
            "type": "barpolar"
           }
          ],
          "carpet": [
           {
            "aaxis": {
             "endlinecolor": "#2a3f5f",
             "gridcolor": "white",
             "linecolor": "white",
             "minorgridcolor": "white",
             "startlinecolor": "#2a3f5f"
            },
            "baxis": {
             "endlinecolor": "#2a3f5f",
             "gridcolor": "white",
             "linecolor": "white",
             "minorgridcolor": "white",
             "startlinecolor": "#2a3f5f"
            },
            "type": "carpet"
           }
          ],
          "choropleth": [
           {
            "colorbar": {
             "outlinewidth": 0,
             "ticks": ""
            },
            "type": "choropleth"
           }
          ],
          "contour": [
           {
            "colorbar": {
             "outlinewidth": 0,
             "ticks": ""
            },
            "colorscale": [
             [
              0,
              "#0d0887"
             ],
             [
              0.1111111111111111,
              "#46039f"
             ],
             [
              0.2222222222222222,
              "#7201a8"
             ],
             [
              0.3333333333333333,
              "#9c179e"
             ],
             [
              0.4444444444444444,
              "#bd3786"
             ],
             [
              0.5555555555555556,
              "#d8576b"
             ],
             [
              0.6666666666666666,
              "#ed7953"
             ],
             [
              0.7777777777777778,
              "#fb9f3a"
             ],
             [
              0.8888888888888888,
              "#fdca26"
             ],
             [
              1,
              "#f0f921"
             ]
            ],
            "type": "contour"
           }
          ],
          "contourcarpet": [
           {
            "colorbar": {
             "outlinewidth": 0,
             "ticks": ""
            },
            "type": "contourcarpet"
           }
          ],
          "heatmap": [
           {
            "colorbar": {
             "outlinewidth": 0,
             "ticks": ""
            },
            "colorscale": [
             [
              0,
              "#0d0887"
             ],
             [
              0.1111111111111111,
              "#46039f"
             ],
             [
              0.2222222222222222,
              "#7201a8"
             ],
             [
              0.3333333333333333,
              "#9c179e"
             ],
             [
              0.4444444444444444,
              "#bd3786"
             ],
             [
              0.5555555555555556,
              "#d8576b"
             ],
             [
              0.6666666666666666,
              "#ed7953"
             ],
             [
              0.7777777777777778,
              "#fb9f3a"
             ],
             [
              0.8888888888888888,
              "#fdca26"
             ],
             [
              1,
              "#f0f921"
             ]
            ],
            "type": "heatmap"
           }
          ],
          "heatmapgl": [
           {
            "colorbar": {
             "outlinewidth": 0,
             "ticks": ""
            },
            "colorscale": [
             [
              0,
              "#0d0887"
             ],
             [
              0.1111111111111111,
              "#46039f"
             ],
             [
              0.2222222222222222,
              "#7201a8"
             ],
             [
              0.3333333333333333,
              "#9c179e"
             ],
             [
              0.4444444444444444,
              "#bd3786"
             ],
             [
              0.5555555555555556,
              "#d8576b"
             ],
             [
              0.6666666666666666,
              "#ed7953"
             ],
             [
              0.7777777777777778,
              "#fb9f3a"
             ],
             [
              0.8888888888888888,
              "#fdca26"
             ],
             [
              1,
              "#f0f921"
             ]
            ],
            "type": "heatmapgl"
           }
          ],
          "histogram": [
           {
            "marker": {
             "pattern": {
              "fillmode": "overlay",
              "size": 10,
              "solidity": 0.2
             }
            },
            "type": "histogram"
           }
          ],
          "histogram2d": [
           {
            "colorbar": {
             "outlinewidth": 0,
             "ticks": ""
            },
            "colorscale": [
             [
              0,
              "#0d0887"
             ],
             [
              0.1111111111111111,
              "#46039f"
             ],
             [
              0.2222222222222222,
              "#7201a8"
             ],
             [
              0.3333333333333333,
              "#9c179e"
             ],
             [
              0.4444444444444444,
              "#bd3786"
             ],
             [
              0.5555555555555556,
              "#d8576b"
             ],
             [
              0.6666666666666666,
              "#ed7953"
             ],
             [
              0.7777777777777778,
              "#fb9f3a"
             ],
             [
              0.8888888888888888,
              "#fdca26"
             ],
             [
              1,
              "#f0f921"
             ]
            ],
            "type": "histogram2d"
           }
          ],
          "histogram2dcontour": [
           {
            "colorbar": {
             "outlinewidth": 0,
             "ticks": ""
            },
            "colorscale": [
             [
              0,
              "#0d0887"
             ],
             [
              0.1111111111111111,
              "#46039f"
             ],
             [
              0.2222222222222222,
              "#7201a8"
             ],
             [
              0.3333333333333333,
              "#9c179e"
             ],
             [
              0.4444444444444444,
              "#bd3786"
             ],
             [
              0.5555555555555556,
              "#d8576b"
             ],
             [
              0.6666666666666666,
              "#ed7953"
             ],
             [
              0.7777777777777778,
              "#fb9f3a"
             ],
             [
              0.8888888888888888,
              "#fdca26"
             ],
             [
              1,
              "#f0f921"
             ]
            ],
            "type": "histogram2dcontour"
           }
          ],
          "mesh3d": [
           {
            "colorbar": {
             "outlinewidth": 0,
             "ticks": ""
            },
            "type": "mesh3d"
           }
          ],
          "parcoords": [
           {
            "line": {
             "colorbar": {
              "outlinewidth": 0,
              "ticks": ""
             }
            },
            "type": "parcoords"
           }
          ],
          "pie": [
           {
            "automargin": true,
            "type": "pie"
           }
          ],
          "scatter": [
           {
            "fillpattern": {
             "fillmode": "overlay",
             "size": 10,
             "solidity": 0.2
            },
            "type": "scatter"
           }
          ],
          "scatter3d": [
           {
            "line": {
             "colorbar": {
              "outlinewidth": 0,
              "ticks": ""
             }
            },
            "marker": {
             "colorbar": {
              "outlinewidth": 0,
              "ticks": ""
             }
            },
            "type": "scatter3d"
           }
          ],
          "scattercarpet": [
           {
            "marker": {
             "colorbar": {
              "outlinewidth": 0,
              "ticks": ""
             }
            },
            "type": "scattercarpet"
           }
          ],
          "scattergeo": [
           {
            "marker": {
             "colorbar": {
              "outlinewidth": 0,
              "ticks": ""
             }
            },
            "type": "scattergeo"
           }
          ],
          "scattergl": [
           {
            "marker": {
             "colorbar": {
              "outlinewidth": 0,
              "ticks": ""
             }
            },
            "type": "scattergl"
           }
          ],
          "scattermapbox": [
           {
            "marker": {
             "colorbar": {
              "outlinewidth": 0,
              "ticks": ""
             }
            },
            "type": "scattermapbox"
           }
          ],
          "scatterpolar": [
           {
            "marker": {
             "colorbar": {
              "outlinewidth": 0,
              "ticks": ""
             }
            },
            "type": "scatterpolar"
           }
          ],
          "scatterpolargl": [
           {
            "marker": {
             "colorbar": {
              "outlinewidth": 0,
              "ticks": ""
             }
            },
            "type": "scatterpolargl"
           }
          ],
          "scatterternary": [
           {
            "marker": {
             "colorbar": {
              "outlinewidth": 0,
              "ticks": ""
             }
            },
            "type": "scatterternary"
           }
          ],
          "surface": [
           {
            "colorbar": {
             "outlinewidth": 0,
             "ticks": ""
            },
            "colorscale": [
             [
              0,
              "#0d0887"
             ],
             [
              0.1111111111111111,
              "#46039f"
             ],
             [
              0.2222222222222222,
              "#7201a8"
             ],
             [
              0.3333333333333333,
              "#9c179e"
             ],
             [
              0.4444444444444444,
              "#bd3786"
             ],
             [
              0.5555555555555556,
              "#d8576b"
             ],
             [
              0.6666666666666666,
              "#ed7953"
             ],
             [
              0.7777777777777778,
              "#fb9f3a"
             ],
             [
              0.8888888888888888,
              "#fdca26"
             ],
             [
              1,
              "#f0f921"
             ]
            ],
            "type": "surface"
           }
          ],
          "table": [
           {
            "cells": {
             "fill": {
              "color": "#EBF0F8"
             },
             "line": {
              "color": "white"
             }
            },
            "header": {
             "fill": {
              "color": "#C8D4E3"
             },
             "line": {
              "color": "white"
             }
            },
            "type": "table"
           }
          ]
         },
         "layout": {
          "annotationdefaults": {
           "arrowcolor": "#2a3f5f",
           "arrowhead": 0,
           "arrowwidth": 1
          },
          "autotypenumbers": "strict",
          "coloraxis": {
           "colorbar": {
            "outlinewidth": 0,
            "ticks": ""
           }
          },
          "colorscale": {
           "diverging": [
            [
             0,
             "#8e0152"
            ],
            [
             0.1,
             "#c51b7d"
            ],
            [
             0.2,
             "#de77ae"
            ],
            [
             0.3,
             "#f1b6da"
            ],
            [
             0.4,
             "#fde0ef"
            ],
            [
             0.5,
             "#f7f7f7"
            ],
            [
             0.6,
             "#e6f5d0"
            ],
            [
             0.7,
             "#b8e186"
            ],
            [
             0.8,
             "#7fbc41"
            ],
            [
             0.9,
             "#4d9221"
            ],
            [
             1,
             "#276419"
            ]
           ],
           "sequential": [
            [
             0,
             "#0d0887"
            ],
            [
             0.1111111111111111,
             "#46039f"
            ],
            [
             0.2222222222222222,
             "#7201a8"
            ],
            [
             0.3333333333333333,
             "#9c179e"
            ],
            [
             0.4444444444444444,
             "#bd3786"
            ],
            [
             0.5555555555555556,
             "#d8576b"
            ],
            [
             0.6666666666666666,
             "#ed7953"
            ],
            [
             0.7777777777777778,
             "#fb9f3a"
            ],
            [
             0.8888888888888888,
             "#fdca26"
            ],
            [
             1,
             "#f0f921"
            ]
           ],
           "sequentialminus": [
            [
             0,
             "#0d0887"
            ],
            [
             0.1111111111111111,
             "#46039f"
            ],
            [
             0.2222222222222222,
             "#7201a8"
            ],
            [
             0.3333333333333333,
             "#9c179e"
            ],
            [
             0.4444444444444444,
             "#bd3786"
            ],
            [
             0.5555555555555556,
             "#d8576b"
            ],
            [
             0.6666666666666666,
             "#ed7953"
            ],
            [
             0.7777777777777778,
             "#fb9f3a"
            ],
            [
             0.8888888888888888,
             "#fdca26"
            ],
            [
             1,
             "#f0f921"
            ]
           ]
          },
          "colorway": [
           "#636efa",
           "#EF553B",
           "#00cc96",
           "#ab63fa",
           "#FFA15A",
           "#19d3f3",
           "#FF6692",
           "#B6E880",
           "#FF97FF",
           "#FECB52"
          ],
          "font": {
           "color": "#2a3f5f"
          },
          "geo": {
           "bgcolor": "white",
           "lakecolor": "white",
           "landcolor": "#E5ECF6",
           "showlakes": true,
           "showland": true,
           "subunitcolor": "white"
          },
          "hoverlabel": {
           "align": "left"
          },
          "hovermode": "closest",
          "mapbox": {
           "style": "light"
          },
          "paper_bgcolor": "white",
          "plot_bgcolor": "#E5ECF6",
          "polar": {
           "angularaxis": {
            "gridcolor": "white",
            "linecolor": "white",
            "ticks": ""
           },
           "bgcolor": "#E5ECF6",
           "radialaxis": {
            "gridcolor": "white",
            "linecolor": "white",
            "ticks": ""
           }
          },
          "scene": {
           "xaxis": {
            "backgroundcolor": "#E5ECF6",
            "gridcolor": "white",
            "gridwidth": 2,
            "linecolor": "white",
            "showbackground": true,
            "ticks": "",
            "zerolinecolor": "white"
           },
           "yaxis": {
            "backgroundcolor": "#E5ECF6",
            "gridcolor": "white",
            "gridwidth": 2,
            "linecolor": "white",
            "showbackground": true,
            "ticks": "",
            "zerolinecolor": "white"
           },
           "zaxis": {
            "backgroundcolor": "#E5ECF6",
            "gridcolor": "white",
            "gridwidth": 2,
            "linecolor": "white",
            "showbackground": true,
            "ticks": "",
            "zerolinecolor": "white"
           }
          },
          "shapedefaults": {
           "line": {
            "color": "#2a3f5f"
           }
          },
          "ternary": {
           "aaxis": {
            "gridcolor": "white",
            "linecolor": "white",
            "ticks": ""
           },
           "baxis": {
            "gridcolor": "white",
            "linecolor": "white",
            "ticks": ""
           },
           "bgcolor": "#E5ECF6",
           "caxis": {
            "gridcolor": "white",
            "linecolor": "white",
            "ticks": ""
           }
          },
          "title": {
           "x": 0.05
          },
          "xaxis": {
           "automargin": true,
           "gridcolor": "white",
           "linecolor": "white",
           "ticks": "",
           "title": {
            "standoff": 15
           },
           "zerolinecolor": "white",
           "zerolinewidth": 2
          },
          "yaxis": {
           "automargin": true,
           "gridcolor": "white",
           "linecolor": "white",
           "ticks": "",
           "title": {
            "standoff": 15
           },
           "zerolinecolor": "white",
           "zerolinewidth": 2
          }
         }
        },
        "title": {
         "text": "Kappa -0.048961544990505645"
        },
        "width": 800,
        "xaxis": {
         "title": {
          "text": "Predicted value"
         }
        },
        "yaxis": {
         "title": {
          "text": "Real value"
         }
        }
       }
      }
     },
     "metadata": {},
     "output_type": "display_data"
    }
   ],
   "source": [
    "\n",
    "#A modo de ejemplo muestro kappa y matriz de confusion para 50% de aciertos donde los errores quedan lejos de la clase correcta\n",
    "y_simulado_lejos = [y_test.iloc[sample] if random_list[sample]<50/100 else y_lejos[sample] for sample in range(len(y_test))]\n",
    "\n",
    "display(plot_confusion_matrix(y_test,y_simulado_lejos, \n",
    "                              title = \"Kappa \" + str(cohen_kappa_score(y_test,y_simulado_lejos, weights = 'quadratic'))))\n"
   ]
  },
  {
   "cell_type": "code",
   "execution_count": 20,
   "metadata": {},
   "outputs": [
    {
     "name": "stdout",
     "output_type": "stream",
     "text": [
      "[LightGBM] [Info] Number of positive: 328, number of negative: 11666\n",
      "[LightGBM] [Info] Number of positive: 2472, number of negative: 9522\n",
      "[LightGBM] [Info] Number of positive: 3230, number of negative: 8764\n",
      "[LightGBM] [Info] Number of positive: 2607, number of negative: 9387\n",
      "[LightGBM] [Info] Number of positive: 3357, number of negative: 8637\n",
      "[LightGBM] [Info] Auto-choosing row-wise multi-threading, the overhead of testing was 0.001396 seconds.\n",
      "You can set `force_row_wise=true` to remove the overhead.\n",
      "And if memory is not enough, you can set `force_col_wise=true`.\n",
      "[LightGBM] [Info] Total Bins 438\n",
      "[LightGBM] [Info] Number of data points in the train set: 11994, number of used features: 19\n",
      "[LightGBM] [Info] [binary:BoostFromScore]: pavg=0.027347 -> initscore=-3.571420\n",
      "[LightGBM] [Info] Start training from score -3.571420\n",
      "[LightGBM] [Info] [binary:BoostFromScore]: pavg=0.206103 -> initscore=-1.348577\n",
      "[LightGBM] [Info] Start training from score -1.348577\n",
      "[LightGBM] [Info] [binary:BoostFromScore]: pavg=0.269301 -> initscore=-0.998170\n",
      "[LightGBM] [Info] Start training from score -0.998170\n",
      "[LightGBM] [Info] [binary:BoostFromScore]: pavg=0.217359 -> initscore=-1.281126\n",
      "[LightGBM] [Info] Start training from score -1.281126\n",
      "[LightGBM] [Info] [binary:BoostFromScore]: pavg=0.279890 -> initscore=-0.945008\n",
      "[LightGBM] [Info] Start training from score -0.945008\n"
     ]
    }
   ],
   "source": [
    "#Pruebo un modelo alternativo donde en vez de usar la version multiclass real de lightGBM utilizo One vs All\n",
    "\n",
    "lgb_params = params = {\n",
    "                        'objective': 'multiclassova',\n",
    "                        'num_class': len(y_train.unique())\n",
    "                        }\n",
    "\n",
    "\n",
    "lgb_train_dataset = lgb.Dataset(data=X_train,\n",
    "                                label=y_train)\n",
    "\n",
    "\n",
    "lgb_model = lgb.train(lgb_params,\n",
    "                      lgb_train_dataset)"
   ]
  },
  {
   "cell_type": "code",
   "execution_count": 21,
   "metadata": {},
   "outputs": [
    {
     "data": {
      "application/vnd.plotly.v1+json": {
       "config": {
        "plotlyServerURL": "https://plot.ly"
       },
       "data": [
        {
         "type": "heatmap",
         "x": [
          0,
          1,
          2,
          3,
          4
         ],
         "y": [
          0,
          1,
          2,
          3,
          4
         ],
         "z": [
          [
           7.317073170731707,
           39.02439024390244,
           28.04878048780488,
           7.317073170731707,
           18.29268292682927
          ],
          [
           0.48543689320388345,
           32.847896440129446,
           37.37864077669903,
           7.766990291262135,
           21.521035598705502
          ],
          [
           0.12391573729863693,
           21.437422552664188,
           38.53779429987608,
           11.152416356877323,
           28.74845105328377
          ],
          [
           0.4601226993865031,
           16.87116564417178,
           33.58895705521473,
           19.32515337423313,
           29.754601226993866
          ],
          [
           0.11904761904761905,
           9.047619047619047,
           21.785714285714285,
           6.190476190476191,
           62.857142857142854
          ]
         ]
        }
       ],
       "layout": {
        "annotations": [
         {
          "font": {
           "color": "white"
          },
          "showarrow": false,
          "text": "7.3 - 6",
          "x": 0,
          "xref": "x",
          "y": 0,
          "yref": "y"
         },
         {
          "font": {
           "color": "white"
          },
          "showarrow": false,
          "text": "39.0 - 32",
          "x": 1,
          "xref": "x",
          "y": 0,
          "yref": "y"
         },
         {
          "font": {
           "color": "white"
          },
          "showarrow": false,
          "text": "28.0 - 23",
          "x": 2,
          "xref": "x",
          "y": 0,
          "yref": "y"
         },
         {
          "font": {
           "color": "white"
          },
          "showarrow": false,
          "text": "7.3 - 6",
          "x": 3,
          "xref": "x",
          "y": 0,
          "yref": "y"
         },
         {
          "font": {
           "color": "white"
          },
          "showarrow": false,
          "text": "18.3 - 15",
          "x": 4,
          "xref": "x",
          "y": 0,
          "yref": "y"
         },
         {
          "font": {
           "color": "white"
          },
          "showarrow": false,
          "text": "0.5 - 3",
          "x": 0,
          "xref": "x",
          "y": 1,
          "yref": "y"
         },
         {
          "font": {
           "color": "white"
          },
          "showarrow": false,
          "text": "32.8 - 203",
          "x": 1,
          "xref": "x",
          "y": 1,
          "yref": "y"
         },
         {
          "font": {
           "color": "white"
          },
          "showarrow": false,
          "text": "37.4 - 231",
          "x": 2,
          "xref": "x",
          "y": 1,
          "yref": "y"
         },
         {
          "font": {
           "color": "white"
          },
          "showarrow": false,
          "text": "7.8 - 48",
          "x": 3,
          "xref": "x",
          "y": 1,
          "yref": "y"
         },
         {
          "font": {
           "color": "white"
          },
          "showarrow": false,
          "text": "21.5 - 133",
          "x": 4,
          "xref": "x",
          "y": 1,
          "yref": "y"
         },
         {
          "font": {
           "color": "white"
          },
          "showarrow": false,
          "text": "0.1 - 1",
          "x": 0,
          "xref": "x",
          "y": 2,
          "yref": "y"
         },
         {
          "font": {
           "color": "white"
          },
          "showarrow": false,
          "text": "21.4 - 173",
          "x": 1,
          "xref": "x",
          "y": 2,
          "yref": "y"
         },
         {
          "font": {
           "color": "white"
          },
          "showarrow": false,
          "text": "38.5 - 311",
          "x": 2,
          "xref": "x",
          "y": 2,
          "yref": "y"
         },
         {
          "font": {
           "color": "white"
          },
          "showarrow": false,
          "text": "11.2 - 90",
          "x": 3,
          "xref": "x",
          "y": 2,
          "yref": "y"
         },
         {
          "font": {
           "color": "white"
          },
          "showarrow": false,
          "text": "28.7 - 232",
          "x": 4,
          "xref": "x",
          "y": 2,
          "yref": "y"
         },
         {
          "font": {
           "color": "white"
          },
          "showarrow": false,
          "text": "0.5 - 3",
          "x": 0,
          "xref": "x",
          "y": 3,
          "yref": "y"
         },
         {
          "font": {
           "color": "white"
          },
          "showarrow": false,
          "text": "16.9 - 110",
          "x": 1,
          "xref": "x",
          "y": 3,
          "yref": "y"
         },
         {
          "font": {
           "color": "white"
          },
          "showarrow": false,
          "text": "33.6 - 219",
          "x": 2,
          "xref": "x",
          "y": 3,
          "yref": "y"
         },
         {
          "font": {
           "color": "white"
          },
          "showarrow": false,
          "text": "19.3 - 126",
          "x": 3,
          "xref": "x",
          "y": 3,
          "yref": "y"
         },
         {
          "font": {
           "color": "white"
          },
          "showarrow": false,
          "text": "29.8 - 194",
          "x": 4,
          "xref": "x",
          "y": 3,
          "yref": "y"
         },
         {
          "font": {
           "color": "white"
          },
          "showarrow": false,
          "text": "0.1 - 1",
          "x": 0,
          "xref": "x",
          "y": 4,
          "yref": "y"
         },
         {
          "font": {
           "color": "white"
          },
          "showarrow": false,
          "text": "9.0 - 76",
          "x": 1,
          "xref": "x",
          "y": 4,
          "yref": "y"
         },
         {
          "font": {
           "color": "white"
          },
          "showarrow": false,
          "text": "21.8 - 183",
          "x": 2,
          "xref": "x",
          "y": 4,
          "yref": "y"
         },
         {
          "font": {
           "color": "white"
          },
          "showarrow": false,
          "text": "6.2 - 52",
          "x": 3,
          "xref": "x",
          "y": 4,
          "yref": "y"
         },
         {
          "font": {
           "color": "white"
          },
          "showarrow": false,
          "text": "62.9 - 528",
          "x": 4,
          "xref": "x",
          "y": 4,
          "yref": "y"
         }
        ],
        "height": 800,
        "template": {
         "data": {
          "bar": [
           {
            "error_x": {
             "color": "#2a3f5f"
            },
            "error_y": {
             "color": "#2a3f5f"
            },
            "marker": {
             "line": {
              "color": "#E5ECF6",
              "width": 0.5
             },
             "pattern": {
              "fillmode": "overlay",
              "size": 10,
              "solidity": 0.2
             }
            },
            "type": "bar"
           }
          ],
          "barpolar": [
           {
            "marker": {
             "line": {
              "color": "#E5ECF6",
              "width": 0.5
             },
             "pattern": {
              "fillmode": "overlay",
              "size": 10,
              "solidity": 0.2
             }
            },
            "type": "barpolar"
           }
          ],
          "carpet": [
           {
            "aaxis": {
             "endlinecolor": "#2a3f5f",
             "gridcolor": "white",
             "linecolor": "white",
             "minorgridcolor": "white",
             "startlinecolor": "#2a3f5f"
            },
            "baxis": {
             "endlinecolor": "#2a3f5f",
             "gridcolor": "white",
             "linecolor": "white",
             "minorgridcolor": "white",
             "startlinecolor": "#2a3f5f"
            },
            "type": "carpet"
           }
          ],
          "choropleth": [
           {
            "colorbar": {
             "outlinewidth": 0,
             "ticks": ""
            },
            "type": "choropleth"
           }
          ],
          "contour": [
           {
            "colorbar": {
             "outlinewidth": 0,
             "ticks": ""
            },
            "colorscale": [
             [
              0,
              "#0d0887"
             ],
             [
              0.1111111111111111,
              "#46039f"
             ],
             [
              0.2222222222222222,
              "#7201a8"
             ],
             [
              0.3333333333333333,
              "#9c179e"
             ],
             [
              0.4444444444444444,
              "#bd3786"
             ],
             [
              0.5555555555555556,
              "#d8576b"
             ],
             [
              0.6666666666666666,
              "#ed7953"
             ],
             [
              0.7777777777777778,
              "#fb9f3a"
             ],
             [
              0.8888888888888888,
              "#fdca26"
             ],
             [
              1,
              "#f0f921"
             ]
            ],
            "type": "contour"
           }
          ],
          "contourcarpet": [
           {
            "colorbar": {
             "outlinewidth": 0,
             "ticks": ""
            },
            "type": "contourcarpet"
           }
          ],
          "heatmap": [
           {
            "colorbar": {
             "outlinewidth": 0,
             "ticks": ""
            },
            "colorscale": [
             [
              0,
              "#0d0887"
             ],
             [
              0.1111111111111111,
              "#46039f"
             ],
             [
              0.2222222222222222,
              "#7201a8"
             ],
             [
              0.3333333333333333,
              "#9c179e"
             ],
             [
              0.4444444444444444,
              "#bd3786"
             ],
             [
              0.5555555555555556,
              "#d8576b"
             ],
             [
              0.6666666666666666,
              "#ed7953"
             ],
             [
              0.7777777777777778,
              "#fb9f3a"
             ],
             [
              0.8888888888888888,
              "#fdca26"
             ],
             [
              1,
              "#f0f921"
             ]
            ],
            "type": "heatmap"
           }
          ],
          "heatmapgl": [
           {
            "colorbar": {
             "outlinewidth": 0,
             "ticks": ""
            },
            "colorscale": [
             [
              0,
              "#0d0887"
             ],
             [
              0.1111111111111111,
              "#46039f"
             ],
             [
              0.2222222222222222,
              "#7201a8"
             ],
             [
              0.3333333333333333,
              "#9c179e"
             ],
             [
              0.4444444444444444,
              "#bd3786"
             ],
             [
              0.5555555555555556,
              "#d8576b"
             ],
             [
              0.6666666666666666,
              "#ed7953"
             ],
             [
              0.7777777777777778,
              "#fb9f3a"
             ],
             [
              0.8888888888888888,
              "#fdca26"
             ],
             [
              1,
              "#f0f921"
             ]
            ],
            "type": "heatmapgl"
           }
          ],
          "histogram": [
           {
            "marker": {
             "pattern": {
              "fillmode": "overlay",
              "size": 10,
              "solidity": 0.2
             }
            },
            "type": "histogram"
           }
          ],
          "histogram2d": [
           {
            "colorbar": {
             "outlinewidth": 0,
             "ticks": ""
            },
            "colorscale": [
             [
              0,
              "#0d0887"
             ],
             [
              0.1111111111111111,
              "#46039f"
             ],
             [
              0.2222222222222222,
              "#7201a8"
             ],
             [
              0.3333333333333333,
              "#9c179e"
             ],
             [
              0.4444444444444444,
              "#bd3786"
             ],
             [
              0.5555555555555556,
              "#d8576b"
             ],
             [
              0.6666666666666666,
              "#ed7953"
             ],
             [
              0.7777777777777778,
              "#fb9f3a"
             ],
             [
              0.8888888888888888,
              "#fdca26"
             ],
             [
              1,
              "#f0f921"
             ]
            ],
            "type": "histogram2d"
           }
          ],
          "histogram2dcontour": [
           {
            "colorbar": {
             "outlinewidth": 0,
             "ticks": ""
            },
            "colorscale": [
             [
              0,
              "#0d0887"
             ],
             [
              0.1111111111111111,
              "#46039f"
             ],
             [
              0.2222222222222222,
              "#7201a8"
             ],
             [
              0.3333333333333333,
              "#9c179e"
             ],
             [
              0.4444444444444444,
              "#bd3786"
             ],
             [
              0.5555555555555556,
              "#d8576b"
             ],
             [
              0.6666666666666666,
              "#ed7953"
             ],
             [
              0.7777777777777778,
              "#fb9f3a"
             ],
             [
              0.8888888888888888,
              "#fdca26"
             ],
             [
              1,
              "#f0f921"
             ]
            ],
            "type": "histogram2dcontour"
           }
          ],
          "mesh3d": [
           {
            "colorbar": {
             "outlinewidth": 0,
             "ticks": ""
            },
            "type": "mesh3d"
           }
          ],
          "parcoords": [
           {
            "line": {
             "colorbar": {
              "outlinewidth": 0,
              "ticks": ""
             }
            },
            "type": "parcoords"
           }
          ],
          "pie": [
           {
            "automargin": true,
            "type": "pie"
           }
          ],
          "scatter": [
           {
            "fillpattern": {
             "fillmode": "overlay",
             "size": 10,
             "solidity": 0.2
            },
            "type": "scatter"
           }
          ],
          "scatter3d": [
           {
            "line": {
             "colorbar": {
              "outlinewidth": 0,
              "ticks": ""
             }
            },
            "marker": {
             "colorbar": {
              "outlinewidth": 0,
              "ticks": ""
             }
            },
            "type": "scatter3d"
           }
          ],
          "scattercarpet": [
           {
            "marker": {
             "colorbar": {
              "outlinewidth": 0,
              "ticks": ""
             }
            },
            "type": "scattercarpet"
           }
          ],
          "scattergeo": [
           {
            "marker": {
             "colorbar": {
              "outlinewidth": 0,
              "ticks": ""
             }
            },
            "type": "scattergeo"
           }
          ],
          "scattergl": [
           {
            "marker": {
             "colorbar": {
              "outlinewidth": 0,
              "ticks": ""
             }
            },
            "type": "scattergl"
           }
          ],
          "scattermapbox": [
           {
            "marker": {
             "colorbar": {
              "outlinewidth": 0,
              "ticks": ""
             }
            },
            "type": "scattermapbox"
           }
          ],
          "scatterpolar": [
           {
            "marker": {
             "colorbar": {
              "outlinewidth": 0,
              "ticks": ""
             }
            },
            "type": "scatterpolar"
           }
          ],
          "scatterpolargl": [
           {
            "marker": {
             "colorbar": {
              "outlinewidth": 0,
              "ticks": ""
             }
            },
            "type": "scatterpolargl"
           }
          ],
          "scatterternary": [
           {
            "marker": {
             "colorbar": {
              "outlinewidth": 0,
              "ticks": ""
             }
            },
            "type": "scatterternary"
           }
          ],
          "surface": [
           {
            "colorbar": {
             "outlinewidth": 0,
             "ticks": ""
            },
            "colorscale": [
             [
              0,
              "#0d0887"
             ],
             [
              0.1111111111111111,
              "#46039f"
             ],
             [
              0.2222222222222222,
              "#7201a8"
             ],
             [
              0.3333333333333333,
              "#9c179e"
             ],
             [
              0.4444444444444444,
              "#bd3786"
             ],
             [
              0.5555555555555556,
              "#d8576b"
             ],
             [
              0.6666666666666666,
              "#ed7953"
             ],
             [
              0.7777777777777778,
              "#fb9f3a"
             ],
             [
              0.8888888888888888,
              "#fdca26"
             ],
             [
              1,
              "#f0f921"
             ]
            ],
            "type": "surface"
           }
          ],
          "table": [
           {
            "cells": {
             "fill": {
              "color": "#EBF0F8"
             },
             "line": {
              "color": "white"
             }
            },
            "header": {
             "fill": {
              "color": "#C8D4E3"
             },
             "line": {
              "color": "white"
             }
            },
            "type": "table"
           }
          ]
         },
         "layout": {
          "annotationdefaults": {
           "arrowcolor": "#2a3f5f",
           "arrowhead": 0,
           "arrowwidth": 1
          },
          "autotypenumbers": "strict",
          "coloraxis": {
           "colorbar": {
            "outlinewidth": 0,
            "ticks": ""
           }
          },
          "colorscale": {
           "diverging": [
            [
             0,
             "#8e0152"
            ],
            [
             0.1,
             "#c51b7d"
            ],
            [
             0.2,
             "#de77ae"
            ],
            [
             0.3,
             "#f1b6da"
            ],
            [
             0.4,
             "#fde0ef"
            ],
            [
             0.5,
             "#f7f7f7"
            ],
            [
             0.6,
             "#e6f5d0"
            ],
            [
             0.7,
             "#b8e186"
            ],
            [
             0.8,
             "#7fbc41"
            ],
            [
             0.9,
             "#4d9221"
            ],
            [
             1,
             "#276419"
            ]
           ],
           "sequential": [
            [
             0,
             "#0d0887"
            ],
            [
             0.1111111111111111,
             "#46039f"
            ],
            [
             0.2222222222222222,
             "#7201a8"
            ],
            [
             0.3333333333333333,
             "#9c179e"
            ],
            [
             0.4444444444444444,
             "#bd3786"
            ],
            [
             0.5555555555555556,
             "#d8576b"
            ],
            [
             0.6666666666666666,
             "#ed7953"
            ],
            [
             0.7777777777777778,
             "#fb9f3a"
            ],
            [
             0.8888888888888888,
             "#fdca26"
            ],
            [
             1,
             "#f0f921"
            ]
           ],
           "sequentialminus": [
            [
             0,
             "#0d0887"
            ],
            [
             0.1111111111111111,
             "#46039f"
            ],
            [
             0.2222222222222222,
             "#7201a8"
            ],
            [
             0.3333333333333333,
             "#9c179e"
            ],
            [
             0.4444444444444444,
             "#bd3786"
            ],
            [
             0.5555555555555556,
             "#d8576b"
            ],
            [
             0.6666666666666666,
             "#ed7953"
            ],
            [
             0.7777777777777778,
             "#fb9f3a"
            ],
            [
             0.8888888888888888,
             "#fdca26"
            ],
            [
             1,
             "#f0f921"
            ]
           ]
          },
          "colorway": [
           "#636efa",
           "#EF553B",
           "#00cc96",
           "#ab63fa",
           "#FFA15A",
           "#19d3f3",
           "#FF6692",
           "#B6E880",
           "#FF97FF",
           "#FECB52"
          ],
          "font": {
           "color": "#2a3f5f"
          },
          "geo": {
           "bgcolor": "white",
           "lakecolor": "white",
           "landcolor": "#E5ECF6",
           "showlakes": true,
           "showland": true,
           "subunitcolor": "white"
          },
          "hoverlabel": {
           "align": "left"
          },
          "hovermode": "closest",
          "mapbox": {
           "style": "light"
          },
          "paper_bgcolor": "white",
          "plot_bgcolor": "#E5ECF6",
          "polar": {
           "angularaxis": {
            "gridcolor": "white",
            "linecolor": "white",
            "ticks": ""
           },
           "bgcolor": "#E5ECF6",
           "radialaxis": {
            "gridcolor": "white",
            "linecolor": "white",
            "ticks": ""
           }
          },
          "scene": {
           "xaxis": {
            "backgroundcolor": "#E5ECF6",
            "gridcolor": "white",
            "gridwidth": 2,
            "linecolor": "white",
            "showbackground": true,
            "ticks": "",
            "zerolinecolor": "white"
           },
           "yaxis": {
            "backgroundcolor": "#E5ECF6",
            "gridcolor": "white",
            "gridwidth": 2,
            "linecolor": "white",
            "showbackground": true,
            "ticks": "",
            "zerolinecolor": "white"
           },
           "zaxis": {
            "backgroundcolor": "#E5ECF6",
            "gridcolor": "white",
            "gridwidth": 2,
            "linecolor": "white",
            "showbackground": true,
            "ticks": "",
            "zerolinecolor": "white"
           }
          },
          "shapedefaults": {
           "line": {
            "color": "#2a3f5f"
           }
          },
          "ternary": {
           "aaxis": {
            "gridcolor": "white",
            "linecolor": "white",
            "ticks": ""
           },
           "baxis": {
            "gridcolor": "white",
            "linecolor": "white",
            "ticks": ""
           },
           "bgcolor": "#E5ECF6",
           "caxis": {
            "gridcolor": "white",
            "linecolor": "white",
            "ticks": ""
           }
          },
          "title": {
           "x": 0.05
          },
          "xaxis": {
           "automargin": true,
           "gridcolor": "white",
           "linecolor": "white",
           "ticks": "",
           "title": {
            "standoff": 15
           },
           "zerolinecolor": "white",
           "zerolinewidth": 2
          },
          "yaxis": {
           "automargin": true,
           "gridcolor": "white",
           "linecolor": "white",
           "ticks": "",
           "title": {
            "standoff": 15
           },
           "zerolinecolor": "white",
           "zerolinewidth": 2
          }
         }
        },
        "title": {
         "text": "Conf Matrix"
        },
        "width": 800,
        "xaxis": {
         "title": {
          "text": "Predicted value"
         }
        },
        "yaxis": {
         "title": {
          "text": "Real value"
         }
        }
       }
      }
     },
     "metadata": {},
     "output_type": "display_data"
    },
    {
     "data": {
      "text/plain": [
       "{'kappa': np.float64(0.33093403829656054),\n",
       " 'accuracy': 0.3914638212737579,\n",
       " 'balanced_accuracy': np.float64(0.32177012028422647)}"
      ]
     },
     "execution_count": 21,
     "metadata": {},
     "output_type": "execute_result"
    }
   ],
   "source": [
    "#MAtriz de confusion y Kappa dfe OVA\n",
    "y_pred = lgb_model.predict(X_test).argmax(axis=1)\n",
    "\n",
    "display(plot_confusion_matrix(y_test,y_pred))\n",
    "\n",
    "{'kappa':cohen_kappa_score(y_test,\n",
    "                y_pred,\n",
    "                weights = 'quadratic'),\n",
    " 'accuracy':accuracy_score(y_test,y_pred),\n",
    " 'balanced_accuracy':balanced_accuracy_score(y_test,y_pred)}\n",
    "\n",
    "\n"
   ]
  },
  {
   "cell_type": "markdown",
   "metadata": {},
   "source": [
    "## Optimizacion de hiperparametros modelo train/test"
   ]
  },
  {
   "cell_type": "code",
   "execution_count": 22,
   "metadata": {},
   "outputs": [],
   "source": [
    "\n",
    "#Funcion que vamos a optimizar. Optuna requiere que usemos el objeto trial para generar los parametros a optimizar\n",
    "def lgb_objective(trial):\n",
    "    #PArametros para LightGBM\n",
    "    lgb_params = {      \n",
    "                        #PArametros fijos\n",
    "                        'objective': 'multiclass',\n",
    "                        'verbosity':-1,\n",
    "                        'num_class': len(y_train.unique()),\n",
    "                        #Hiperparametros a optimizar utilizando suggest_float o suggest_int segun el tipo de dato\n",
    "                        #Se indica el nombre del parametro, valor minimo, valor maximo \n",
    "                        #en elgunos casos el parametro log=True para parametros que requieren buscar en esa escala\n",
    "                        'lambda_l1': trial.suggest_float('lambda_l1', 1e-8, 10.0, log=True),\n",
    "                        'lambda_l2': trial.suggest_float('lambda_l2', 1e-8, 10.0, log=True),\n",
    "                        'num_leaves': trial.suggest_int('num_leaves', 2, 256),\n",
    "                        'feature_fraction': trial.suggest_float('feature_fraction', 0.4, 1.0),\n",
    "                        'bagging_fraction': trial.suggest_float('bagging_fraction', 0.4, 1.0),\n",
    "                        'bagging_freq': trial.suggest_int('bagging_freq', 1, 7),\n",
    "                        'min_child_samples': trial.suggest_int('min_child_samples', 5, 100),\n",
    "                        } \n",
    "\n",
    "    #Genero objeto dataset de entrenamiento\n",
    "    lgb_train_dataset = lgb.Dataset(data=X_train,\n",
    "                                    label=y_train)\n",
    "\n",
    "    #ajuste de modelo\n",
    "    lgb_model = lgb.train(lgb_params,\n",
    "                        lgb_train_dataset)\n",
    "    \n",
    "    #Devuelvo el score en test\n",
    "    return(cohen_kappa_score(y_test,lgb_model.predict(X_test).argmax(axis=1),\n",
    "                             weights = 'quadratic'))"
   ]
  },
  {
   "cell_type": "code",
   "execution_count": 23,
   "metadata": {},
   "outputs": [
    {
     "name": "stderr",
     "output_type": "stream",
     "text": [
      "[I 2024-08-10 12:43:44,596] Using an existing study with name '04 - LGB Multiclass' instead of creating a new one.\n",
      "[I 2024-08-10 12:43:49,989] Trial 100 finished with value: 0.31476145328354077 and parameters: {'lambda_l1': 0.0018368992220171142, 'lambda_l2': 0.00041133873979813695, 'num_leaves': 5, 'feature_fraction': 0.8351484420696422, 'bagging_fraction': 0.9878212329208342, 'bagging_freq': 6, 'min_child_samples': 99}. Best is trial 32 with value: 0.329490460437426.\n",
      "[I 2024-08-10 12:43:59,580] Trial 101 finished with value: 0.30093624004053166 and parameters: {'lambda_l1': 0.5599630427695846, 'lambda_l2': 2.0931459099205446e-08, 'num_leaves': 41, 'feature_fraction': 0.9747210577902201, 'bagging_fraction': 0.6806710321793418, 'bagging_freq': 5, 'min_child_samples': 97}. Best is trial 32 with value: 0.329490460437426.\n",
      "[I 2024-08-10 12:44:09,267] Trial 102 finished with value: 0.3140938165607039 and parameters: {'lambda_l1': 1.7089767653497203, 'lambda_l2': 4.320167638071112e-08, 'num_leaves': 34, 'feature_fraction': 0.9532613771814819, 'bagging_fraction': 0.5756028714145407, 'bagging_freq': 4, 'min_child_samples': 76}. Best is trial 32 with value: 0.329490460437426.\n",
      "[I 2024-08-10 12:44:12,301] Trial 103 finished with value: 0.32677658812866284 and parameters: {'lambda_l1': 0.015627943077610944, 'lambda_l2': 1.8803549287134163e-08, 'num_leaves': 16, 'feature_fraction': 0.9260541792227577, 'bagging_fraction': 0.659779272773461, 'bagging_freq': 5, 'min_child_samples': 80}. Best is trial 32 with value: 0.329490460437426.\n",
      "[I 2024-08-10 12:44:15,617] Trial 104 finished with value: 0.3104503308498415 and parameters: {'lambda_l1': 0.01588232502547431, 'lambda_l2': 6.793842374025905e-08, 'num_leaves': 16, 'feature_fraction': 0.9267254604433853, 'bagging_fraction': 0.6623207999478296, 'bagging_freq': 5, 'min_child_samples': 83}. Best is trial 32 with value: 0.329490460437426.\n",
      "[I 2024-08-10 12:44:24,106] Trial 105 finished with value: 0.3220252315253821 and parameters: {'lambda_l1': 0.00647266242503329, 'lambda_l2': 2.1110567395120295e-07, 'num_leaves': 24, 'feature_fraction': 0.8961912241670399, 'bagging_fraction': 0.5297080640194829, 'bagging_freq': 6, 'min_child_samples': 80}. Best is trial 32 with value: 0.329490460437426.\n",
      "[I 2024-08-10 12:44:25,539] Trial 106 finished with value: 0.2718987356979219 and parameters: {'lambda_l1': 0.10204422116098115, 'lambda_l2': 9.146847303951529e-07, 'num_leaves': 2, 'feature_fraction': 0.8716403877132984, 'bagging_fraction': 0.6159825493700934, 'bagging_freq': 5, 'min_child_samples': 73}. Best is trial 32 with value: 0.329490460437426.\n",
      "[I 2024-08-10 12:44:29,057] Trial 107 finished with value: 0.32305164468500114 and parameters: {'lambda_l1': 6.792396903831708, 'lambda_l2': 1.78834284995328e-08, 'num_leaves': 53, 'feature_fraction': 0.9027462275335139, 'bagging_fraction': 0.6350876368215352, 'bagging_freq': 6, 'min_child_samples': 69}. Best is trial 32 with value: 0.329490460437426.\n",
      "[I 2024-08-10 12:44:32,190] Trial 108 finished with value: 0.31629549588338923 and parameters: {'lambda_l1': 0.0034601262390904206, 'lambda_l2': 0.0007352983528179052, 'num_leaves': 14, 'feature_fraction': 0.9407321590891734, 'bagging_fraction': 0.7012581084778071, 'bagging_freq': 7, 'min_child_samples': 39}. Best is trial 32 with value: 0.329490460437426.\n",
      "[I 2024-08-10 12:44:35,599] Trial 109 finished with value: 0.3184589911073268 and parameters: {'lambda_l1': 2.388367778334528e-07, 'lambda_l2': 0.07242387196322521, 'num_leaves': 8, 'feature_fraction': 0.8489122207755359, 'bagging_fraction': 0.5655335047512728, 'bagging_freq': 6, 'min_child_samples': 72}. Best is trial 32 with value: 0.329490460437426.\n",
      "[I 2024-08-10 12:44:42,878] Trial 110 finished with value: 0.3098556796707642 and parameters: {'lambda_l1': 0.008874705056974526, 'lambda_l2': 0.004887399985367244, 'num_leaves': 138, 'feature_fraction': 0.6621448727577693, 'bagging_fraction': 0.5458657186380825, 'bagging_freq': 7, 'min_child_samples': 62}. Best is trial 32 with value: 0.329490460437426.\n",
      "[I 2024-08-10 12:44:47,288] Trial 111 finished with value: 0.3257282311755455 and parameters: {'lambda_l1': 0.04915043863476521, 'lambda_l2': 4.355462054193705e-08, 'num_leaves': 30, 'feature_fraction': 0.9874818856813419, 'bagging_fraction': 0.6724037326913265, 'bagging_freq': 5, 'min_child_samples': 92}. Best is trial 32 with value: 0.329490460437426.\n",
      "[I 2024-08-10 12:44:57,419] Trial 112 finished with value: 0.3222529138996699 and parameters: {'lambda_l1': 0.022580087755497007, 'lambda_l2': 3.5508805585396366e-08, 'num_leaves': 31, 'feature_fraction': 0.9534778302253699, 'bagging_fraction': 0.6696102536686211, 'bagging_freq': 5, 'min_child_samples': 92}. Best is trial 32 with value: 0.329490460437426.\n",
      "[I 2024-08-10 12:45:04,285] Trial 113 finished with value: 0.32040356585151675 and parameters: {'lambda_l1': 0.0748565669328988, 'lambda_l2': 1.0867318747486104e-08, 'num_leaves': 37, 'feature_fraction': 0.9882210371716788, 'bagging_fraction': 0.6513311355892034, 'bagging_freq': 5, 'min_child_samples': 87}. Best is trial 32 with value: 0.329490460437426.\n",
      "[I 2024-08-10 12:45:09,576] Trial 114 finished with value: 0.3110785503257475 and parameters: {'lambda_l1': 0.05075051339369813, 'lambda_l2': 2.4409968364449764e-08, 'num_leaves': 19, 'feature_fraction': 0.9259774208916126, 'bagging_fraction': 0.5231055887270623, 'bagging_freq': 5, 'min_child_samples': 80}. Best is trial 32 with value: 0.329490460437426.\n",
      "[I 2024-08-10 12:45:14,855] Trial 115 finished with value: 0.3158819968042891 and parameters: {'lambda_l1': 3.756284890687556, 'lambda_l2': 0.002606923161706385, 'num_leaves': 27, 'feature_fraction': 0.9702334738469882, 'bagging_fraction': 0.6564322542763976, 'bagging_freq': 4, 'min_child_samples': 77}. Best is trial 32 with value: 0.329490460437426.\n",
      "[I 2024-08-10 12:45:19,676] Trial 116 finished with value: 0.3171172899783802 and parameters: {'lambda_l1': 0.23534658690999757, 'lambda_l2': 5.411399253866756e-08, 'num_leaves': 47, 'feature_fraction': 0.9149649072690401, 'bagging_fraction': 0.5894403883056505, 'bagging_freq': 3, 'min_child_samples': 84}. Best is trial 32 with value: 0.329490460437426.\n",
      "[I 2024-08-10 12:45:31,499] Trial 117 finished with value: 0.3166428465861786 and parameters: {'lambda_l1': 1.1718529650242058, 'lambda_l2': 0.02165564556452512, 'num_leaves': 35, 'feature_fraction': 0.9394826637866145, 'bagging_fraction': 0.6393695425741087, 'bagging_freq': 5, 'min_child_samples': 94}. Best is trial 32 with value: 0.329490460437426.\n",
      "[I 2024-08-10 12:45:34,602] Trial 118 finished with value: 0.30075372429246017 and parameters: {'lambda_l1': 0.029459901466974206, 'lambda_l2': 0.0001125846655779696, 'num_leaves': 23, 'feature_fraction': 0.886917193043984, 'bagging_fraction': 0.49845347881636615, 'bagging_freq': 4, 'min_child_samples': 66}. Best is trial 32 with value: 0.329490460437426.\n",
      "[I 2024-08-10 12:45:42,240] Trial 119 finished with value: 0.31504745872643447 and parameters: {'lambda_l1': 0.12126189514194313, 'lambda_l2': 1.565846589222483e-08, 'num_leaves': 106, 'feature_fraction': 0.9054277817958971, 'bagging_fraction': 0.6826387835119903, 'bagging_freq': 6, 'min_child_samples': 89}. Best is trial 32 with value: 0.329490460437426.\n",
      "[I 2024-08-10 12:45:47,999] Trial 120 finished with value: 0.308968887964281 and parameters: {'lambda_l1': 0.01399966346507952, 'lambda_l2': 0.0014998670835711472, 'num_leaves': 72, 'feature_fraction': 0.9599900992531918, 'bagging_fraction': 0.6113069413663537, 'bagging_freq': 7, 'min_child_samples': 82}. Best is trial 32 with value: 0.329490460437426.\n",
      "[I 2024-08-10 12:45:53,159] Trial 121 finished with value: 0.3152631624581289 and parameters: {'lambda_l1': 0.3931376254192852, 'lambda_l2': 1.283435793125322e-07, 'num_leaves': 61, 'feature_fraction': 0.9881159973582632, 'bagging_fraction': 0.7316682062397, 'bagging_freq': 5, 'min_child_samples': 99}. Best is trial 32 with value: 0.329490460437426.\n",
      "[I 2024-08-10 12:46:00,489] Trial 122 finished with value: 0.3131215367565571 and parameters: {'lambda_l1': 0.6985189901796586, 'lambda_l2': 3.8683779027984726e-07, 'num_leaves': 41, 'feature_fraction': 0.9444417810240868, 'bagging_fraction': 0.7039765138754049, 'bagging_freq': 5, 'min_child_samples': 96}. Best is trial 32 with value: 0.329490460437426.\n",
      "[I 2024-08-10 12:46:04,769] Trial 123 finished with value: 0.32500319691419477 and parameters: {'lambda_l1': 1.8484100363510558, 'lambda_l2': 7.36121546487918e-08, 'num_leaves': 28, 'feature_fraction': 0.9254348949895936, 'bagging_fraction': 0.6633597917595926, 'bagging_freq': 5, 'min_child_samples': 91}. Best is trial 32 with value: 0.329490460437426.\n",
      "[I 2024-08-10 12:46:09,542] Trial 124 finished with value: 0.32453515359149343 and parameters: {'lambda_l1': 0.20546890000805929, 'lambda_l2': 0.00033917196797915477, 'num_leaves': 14, 'feature_fraction': 0.9679133387365065, 'bagging_fraction': 0.6946137763729954, 'bagging_freq': 5, 'min_child_samples': 94}. Best is trial 32 with value: 0.329490460437426.\n",
      "[I 2024-08-10 12:46:16,469] Trial 125 finished with value: 0.3079253891411332 and parameters: {'lambda_l1': 2.7992449550646396e-05, 'lambda_l2': 3.456809709824827e-08, 'num_leaves': 19, 'feature_fraction': 0.9753448677003141, 'bagging_fraction': 0.4719044195541968, 'bagging_freq': 6, 'min_child_samples': 100}. Best is trial 32 with value: 0.329490460437426.\n",
      "[I 2024-08-10 12:46:19,697] Trial 126 finished with value: 0.3056806986093018 and parameters: {'lambda_l1': 1.0338350924340134, 'lambda_l2': 1.0885140197180217e-08, 'num_leaves': 8, 'feature_fraction': 0.9981640980089574, 'bagging_fraction': 0.675052629876801, 'bagging_freq': 7, 'min_child_samples': 75}. Best is trial 32 with value: 0.329490460437426.\n",
      "[I 2024-08-10 12:46:25,063] Trial 127 finished with value: 0.3101520362301263 and parameters: {'lambda_l1': 0.0857523245604728, 'lambda_l2': 0.0005197278481759777, 'num_leaves': 31, 'feature_fraction': 0.9329262397948092, 'bagging_fraction': 0.7191926211371243, 'bagging_freq': 2, 'min_child_samples': 87}. Best is trial 32 with value: 0.329490460437426.\n",
      "[I 2024-08-10 12:46:33,227] Trial 128 finished with value: 0.30825603355248177 and parameters: {'lambda_l1': 0.04165328595652255, 'lambda_l2': 0.00021177668578004655, 'num_leaves': 84, 'feature_fraction': 0.5722926173053638, 'bagging_fraction': 0.5107041206016081, 'bagging_freq': 5, 'min_child_samples': 71}. Best is trial 32 with value: 0.329490460437426.\n",
      "[I 2024-08-10 12:46:37,520] Trial 129 finished with value: 0.321260164997229 and parameters: {'lambda_l1': 0.31168244790327987, 'lambda_l2': 9.323227301676998e-08, 'num_leaves': 23, 'feature_fraction': 0.9571218219216571, 'bagging_fraction': 0.6231584629933364, 'bagging_freq': 6, 'min_child_samples': 97}. Best is trial 32 with value: 0.329490460437426.\n",
      "[I 2024-08-10 12:46:41,467] Trial 130 finished with value: 0.3166630576928047 and parameters: {'lambda_l1': 0.5003720405040336, 'lambda_l2': 0.009589356836830279, 'num_leaves': 43, 'feature_fraction': 0.4299004045607616, 'bagging_fraction': 0.544371121872579, 'bagging_freq': 4, 'min_child_samples': 78}. Best is trial 32 with value: 0.329490460437426.\n",
      "[I 2024-08-10 12:46:48,269] Trial 131 finished with value: 0.32835833026464534 and parameters: {'lambda_l1': 2.4809224202779014, 'lambda_l2': 5.978198739242983e-08, 'num_leaves': 28, 'feature_fraction': 0.9234270539851631, 'bagging_fraction': 0.6632708983475685, 'bagging_freq': 5, 'min_child_samples': 91}. Best is trial 32 with value: 0.329490460437426.\n",
      "[I 2024-08-10 12:46:52,075] Trial 132 finished with value: 0.3089983458013077 and parameters: {'lambda_l1': 2.465215421598886, 'lambda_l2': 2.305725072866076e-08, 'num_leaves': 38, 'feature_fraction': 0.9088100772613873, 'bagging_fraction': 0.6450341423438868, 'bagging_freq': 5, 'min_child_samples': 85}. Best is trial 32 with value: 0.329490460437426.\n",
      "[I 2024-08-10 12:46:57,357] Trial 133 finished with value: 0.3170415285474464 and parameters: {'lambda_l1': 3.3328041073150474, 'lambda_l2': 0.3032610846092121, 'num_leaves': 51, 'feature_fraction': 0.9478611861542265, 'bagging_fraction': 0.661413846466183, 'bagging_freq': 5, 'min_child_samples': 93}. Best is trial 32 with value: 0.329490460437426.\n",
      "[I 2024-08-10 12:47:03,749] Trial 134 finished with value: 0.30747604700214537 and parameters: {'lambda_l1': 0.8387746480003921, 'lambda_l2': 4.6158162763969496e-08, 'num_leaves': 33, 'feature_fraction': 0.9184159195416783, 'bagging_fraction': 0.5806098349651264, 'bagging_freq': 5, 'min_child_samples': 89}. Best is trial 32 with value: 0.329490460437426.\n",
      "[I 2024-08-10 12:47:07,197] Trial 135 finished with value: 0.30944161828577954 and parameters: {'lambda_l1': 4.874936737198793, 'lambda_l2': 1.781944200785757e-08, 'num_leaves': 24, 'feature_fraction': 0.8935676482894079, 'bagging_fraction': 0.6773662392822662, 'bagging_freq': 6, 'min_child_samples': 68}. Best is trial 32 with value: 0.329490460437426.\n",
      "[I 2024-08-10 12:47:09,240] Trial 136 finished with value: 0.3206633195113533 and parameters: {'lambda_l1': 1.4261204689686473, 'lambda_l2': 0.0010226023206436252, 'num_leaves': 12, 'feature_fraction': 0.8663176355996245, 'bagging_fraction': 0.762867206002054, 'bagging_freq': 4, 'min_child_samples': 23}. Best is trial 32 with value: 0.329490460437426.\n",
      "[I 2024-08-10 12:47:15,096] Trial 137 finished with value: 0.3115746261980663 and parameters: {'lambda_l1': 0.13498402081907687, 'lambda_l2': 7.334954007824035e-05, 'num_leaves': 18, 'feature_fraction': 0.9337278423875902, 'bagging_fraction': 0.6865804243131788, 'bagging_freq': 7, 'min_child_samples': 81}. Best is trial 32 with value: 0.329490460437426.\n",
      "[I 2024-08-10 12:47:23,461] Trial 138 finished with value: 0.31681555585113796 and parameters: {'lambda_l1': 0.000245528562157711, 'lambda_l2': 1.8923357832549355e-07, 'num_leaves': 57, 'feature_fraction': 0.9802891105479072, 'bagging_fraction': 0.5560963408985993, 'bagging_freq': 1, 'min_child_samples': 65}. Best is trial 32 with value: 0.329490460437426.\n",
      "[I 2024-08-10 12:47:26,372] Trial 139 finished with value: 0.3123630914816392 and parameters: {'lambda_l1': 9.242429711781712, 'lambda_l2': 3.0292990389197074e-07, 'num_leaves': 121, 'feature_fraction': 0.8077137656735787, 'bagging_fraction': 0.5990220284287245, 'bagging_freq': 5, 'min_child_samples': 91}. Best is trial 32 with value: 0.329490460437426.\n",
      "[I 2024-08-10 12:47:35,154] Trial 140 finished with value: 0.332736309994486 and parameters: {'lambda_l1': 0.020334357671336865, 'lambda_l2': 3.514829351072599e-08, 'num_leaves': 223, 'feature_fraction': 0.8836275139832891, 'bagging_fraction': 0.6335023680351043, 'bagging_freq': 6, 'min_child_samples': 95}. Best is trial 140 with value: 0.332736309994486.\n",
      "[I 2024-08-10 12:47:41,010] Trial 141 finished with value: 0.2997451346723212 and parameters: {'lambda_l1': 0.011519201306213407, 'lambda_l2': 3.2298595657664925e-08, 'num_leaves': 227, 'feature_fraction': 0.8843057593569118, 'bagging_fraction': 0.6320460461841976, 'bagging_freq': 6, 'min_child_samples': 95}. Best is trial 140 with value: 0.332736309994486.\n",
      "[I 2024-08-10 12:47:46,149] Trial 142 finished with value: 0.3196701100405076 and parameters: {'lambda_l1': 0.016977041290825612, 'lambda_l2': 5.000227431210755e-08, 'num_leaves': 180, 'feature_fraction': 0.913701758622607, 'bagging_fraction': 0.6525289885248899, 'bagging_freq': 6, 'min_child_samples': 98}. Best is trial 140 with value: 0.332736309994486.\n",
      "[I 2024-08-10 12:47:56,136] Trial 143 finished with value: 0.31641979430213996 and parameters: {'lambda_l1': 0.06370374257723618, 'lambda_l2': 9.885076785312714e-08, 'num_leaves': 153, 'feature_fraction': 0.7729496169407282, 'bagging_fraction': 0.6413443257562831, 'bagging_freq': 6, 'min_child_samples': 93}. Best is trial 140 with value: 0.332736309994486.\n",
      "[I 2024-08-10 12:48:04,334] Trial 144 finished with value: 0.3161910343382254 and parameters: {'lambda_l1': 0.006282183665126959, 'lambda_l2': 1.5334148984902463e-08, 'num_leaves': 195, 'feature_fraction': 0.8992538687499065, 'bagging_fraction': 0.7093388860896015, 'bagging_freq': 6, 'min_child_samples': 87}. Best is trial 140 with value: 0.332736309994486.\n",
      "[I 2024-08-10 12:48:09,554] Trial 145 finished with value: 0.3224065927348947 and parameters: {'lambda_l1': 0.6440932657743452, 'lambda_l2': 2.5840448107338562e-08, 'num_leaves': 29, 'feature_fraction': 0.9486016018423091, 'bagging_fraction': 0.6679486647535754, 'bagging_freq': 7, 'min_child_samples': 5}. Best is trial 140 with value: 0.332736309994486.\n",
      "[I 2024-08-10 12:48:14,872] Trial 146 finished with value: 0.3129912969010693 and parameters: {'lambda_l1': 0.025612593203920894, 'lambda_l2': 0.0017339441485843968, 'num_leaves': 236, 'feature_fraction': 0.8797083839521432, 'bagging_fraction': 0.6121461790427695, 'bagging_freq': 5, 'min_child_samples': 96}. Best is trial 140 with value: 0.332736309994486.\n",
      "[I 2024-08-10 12:48:22,577] Trial 147 finished with value: 0.3164265156456647 and parameters: {'lambda_l1': 0.0012991633993518258, 'lambda_l2': 1.738062741379025e-05, 'num_leaves': 38, 'feature_fraction': 0.8574908251467209, 'bagging_fraction': 0.6235552196307471, 'bagging_freq': 6, 'min_child_samples': 49}. Best is trial 140 with value: 0.332736309994486.\n",
      "[I 2024-08-10 12:48:26,491] Trial 148 finished with value: 0.32693255702076507 and parameters: {'lambda_l1': 0.03532281785141873, 'lambda_l2': 0.0006334180907228754, 'num_leaves': 21, 'feature_fraction': 0.9230603835231099, 'bagging_fraction': 0.657553971676128, 'bagging_freq': 5, 'min_child_samples': 73}. Best is trial 140 with value: 0.332736309994486.\n",
      "[I 2024-08-10 12:48:28,722] Trial 149 finished with value: 0.3185566615936217 and parameters: {'lambda_l1': 0.009353423900649157, 'lambda_l2': 0.0005983956247787157, 'num_leaves': 15, 'feature_fraction': 0.926087468128348, 'bagging_fraction': 0.6531156394551049, 'bagging_freq': 6, 'min_child_samples': 74}. Best is trial 140 with value: 0.332736309994486.\n",
      "[I 2024-08-10 12:48:39,908] Trial 150 finished with value: 0.3031477169919329 and parameters: {'lambda_l1': 0.03288040444612944, 'lambda_l2': 0.0004006005051458703, 'num_leaves': 91, 'feature_fraction': 0.905130889140663, 'bagging_fraction': 0.9702903447092358, 'bagging_freq': 7, 'min_child_samples': 72}. Best is trial 140 with value: 0.332736309994486.\n",
      "[I 2024-08-10 12:48:43,576] Trial 151 finished with value: 0.3125837273170148 and parameters: {'lambda_l1': 4.08337974508643e-06, 'lambda_l2': 0.00025568695097988325, 'num_leaves': 21, 'feature_fraction': 0.9358081596529445, 'bagging_fraction': 0.6959516905988732, 'bagging_freq': 5, 'min_child_samples': 76}. Best is trial 140 with value: 0.332736309994486.\n",
      "[I 2024-08-10 12:48:52,260] Trial 152 finished with value: 0.3112081672448279 and parameters: {'lambda_l1': 0.05924374336730913, 'lambda_l2': 0.0008649366483356475, 'num_leaves': 168, 'feature_fraction': 0.9159403953974524, 'bagging_fraction': 0.810092844377417, 'bagging_freq': 5, 'min_child_samples': 79}. Best is trial 140 with value: 0.332736309994486.\n",
      "[I 2024-08-10 12:48:54,438] Trial 153 finished with value: 0.3044803998571939 and parameters: {'lambda_l1': 0.018168326050456804, 'lambda_l2': 0.00016600423324451008, 'num_leaves': 5, 'feature_fraction': 0.9651832549204138, 'bagging_fraction': 0.671653006652176, 'bagging_freq': 5, 'min_child_samples': 68}. Best is trial 140 with value: 0.332736309994486.\n",
      "[I 2024-08-10 12:48:58,261] Trial 154 finished with value: 0.3255315730062227 and parameters: {'lambda_l1': 0.160301895369641, 'lambda_l2': 1.1425285379537504e-08, 'num_leaves': 27, 'feature_fraction': 0.9244084238714595, 'bagging_fraction': 0.638786131315433, 'bagging_freq': 5, 'min_child_samples': 83}. Best is trial 140 with value: 0.332736309994486.\n",
      "[I 2024-08-10 12:49:01,806] Trial 155 finished with value: 0.3098887887345698 and parameters: {'lambda_l1': 0.23292119229636685, 'lambda_l2': 1.105687508397682e-08, 'num_leaves': 26, 'feature_fraction': 0.8918654046761199, 'bagging_fraction': 0.6343037989151962, 'bagging_freq': 5, 'min_child_samples': 84}. Best is trial 140 with value: 0.332736309994486.\n",
      "[I 2024-08-10 12:49:07,975] Trial 156 finished with value: 0.31138665367874074 and parameters: {'lambda_l1': 0.08370287499865137, 'lambda_l2': 1.030773769544905e-08, 'num_leaves': 101, 'feature_fraction': 0.9226646456695281, 'bagging_fraction': 0.6458239311764142, 'bagging_freq': 5, 'min_child_samples': 82}. Best is trial 140 with value: 0.332736309994486.\n",
      "[I 2024-08-10 12:49:14,427] Trial 157 finished with value: 0.3195672314783681 and parameters: {'lambda_l1': 0.04123659236264157, 'lambda_l2': 3.167397784864221e-08, 'num_leaves': 33, 'feature_fraction': 0.901211884763929, 'bagging_fraction': 0.5714856103832098, 'bagging_freq': 6, 'min_child_samples': 70}. Best is trial 140 with value: 0.332736309994486.\n",
      "[I 2024-08-10 12:49:18,375] Trial 158 finished with value: 0.31628714531499336 and parameters: {'lambda_l1': 0.12989375483757262, 'lambda_l2': 1.8687692293143852e-08, 'num_leaves': 28, 'feature_fraction': 0.8280137510556254, 'bagging_fraction': 0.6050498954172272, 'bagging_freq': 7, 'min_child_samples': 80}. Best is trial 140 with value: 0.332736309994486.\n",
      "[I 2024-08-10 12:49:23,502] Trial 159 finished with value: 0.3167548734675576 and parameters: {'lambda_l1': 0.02515763410642538, 'lambda_l2': 0.001482137515766047, 'num_leaves': 17, 'feature_fraction': 0.9446686097170756, 'bagging_fraction': 0.6628226622696937, 'bagging_freq': 5, 'min_child_samples': 77}. Best is trial 140 with value: 0.332736309994486.\n",
      "[I 2024-08-10 12:49:27,898] Trial 160 finished with value: 0.3221644250234209 and parameters: {'lambda_l1': 0.34381624024215385, 'lambda_l2': 0.0030777696452115593, 'num_leaves': 11, 'feature_fraction': 0.9312324291383074, 'bagging_fraction': 0.5885303464775811, 'bagging_freq': 4, 'min_child_samples': 86}. Best is trial 140 with value: 0.332736309994486.\n",
      "[I 2024-08-10 12:49:31,759] Trial 161 finished with value: 0.320050274503644 and parameters: {'lambda_l1': 2.1274833470177787, 'lambda_l2': 6.690338814501627e-08, 'num_leaves': 22, 'feature_fraction': 0.6964734639717918, 'bagging_fraction': 0.685978817436373, 'bagging_freq': 5, 'min_child_samples': 89}. Best is trial 140 with value: 0.332736309994486.\n",
      "[I 2024-08-10 12:49:36,115] Trial 162 finished with value: 0.32772586339865173 and parameters: {'lambda_l1': 0.1999656423051973, 'lambda_l2': 4.2117287666719486e-08, 'num_leaves': 45, 'feature_fraction': 0.957009794167742, 'bagging_fraction': 0.6581702108179418, 'bagging_freq': 5, 'min_child_samples': 74}. Best is trial 140 with value: 0.332736309994486.\n",
      "[I 2024-08-10 12:49:43,525] Trial 163 finished with value: 0.3049692401378654 and parameters: {'lambda_l1': 0.18936918016783535, 'lambda_l2': 3.912042843198698e-08, 'num_leaves': 45, 'feature_fraction': 0.9572409556387308, 'bagging_fraction': 0.6287555832555405, 'bagging_freq': 5, 'min_child_samples': 73}. Best is trial 140 with value: 0.332736309994486.\n",
      "[I 2024-08-10 12:49:48,253] Trial 164 finished with value: 0.3087007041092802 and parameters: {'lambda_l1': 0.09977201870611792, 'lambda_l2': 2.0583615178788347e-08, 'num_leaves': 36, 'feature_fraction': 0.9154631250265735, 'bagging_fraction': 0.642705517740439, 'bagging_freq': 5, 'min_child_samples': 74}. Best is trial 140 with value: 0.332736309994486.\n",
      "[I 2024-08-10 12:49:52,735] Trial 165 finished with value: 0.3208489677410691 and parameters: {'lambda_l1': 0.04906044314099075, 'lambda_l2': 0.0006305885282218069, 'num_leaves': 42, 'feature_fraction': 0.8742458970591385, 'bagging_fraction': 0.6579764109613541, 'bagging_freq': 5, 'min_child_samples': 71}. Best is trial 140 with value: 0.332736309994486.\n",
      "[I 2024-08-10 12:49:59,010] Trial 166 finished with value: 0.31542284195477344 and parameters: {'lambda_l1': 0.1595792442114425, 'lambda_l2': 0.042142713514246, 'num_leaves': 31, 'feature_fraction': 0.9440560551089429, 'bagging_fraction': 0.6740734105929799, 'bagging_freq': 6, 'min_child_samples': 76}. Best is trial 140 with value: 0.332736309994486.\n",
      "[I 2024-08-10 12:50:07,029] Trial 167 finished with value: 0.31822978095956234 and parameters: {'lambda_l1': 0.38352640860306286, 'lambda_l2': 0.07822305031824472, 'num_leaves': 48, 'feature_fraction': 0.9049126983438343, 'bagging_fraction': 0.9009186882529839, 'bagging_freq': 3, 'min_child_samples': 79}. Best is trial 140 with value: 0.332736309994486.\n",
      "[I 2024-08-10 12:50:13,116] Trial 168 finished with value: 0.3141476501135869 and parameters: {'lambda_l1': 0.0030388080530368575, 'lambda_l2': 1.6001480060925435e-08, 'num_leaves': 26, 'feature_fraction': 0.9272531361131913, 'bagging_fraction': 0.6206138314632815, 'bagging_freq': 5, 'min_child_samples': 63}. Best is trial 140 with value: 0.332736309994486.\n",
      "[I 2024-08-10 12:50:20,367] Trial 169 finished with value: 0.3222723141252892 and parameters: {'lambda_l1': 0.005089299622862289, 'lambda_l2': 4.203201119918627, 'num_leaves': 66, 'feature_fraction': 0.8898119184745209, 'bagging_fraction': 0.5298227474174273, 'bagging_freq': 7, 'min_child_samples': 83}. Best is trial 140 with value: 0.332736309994486.\n",
      "[I 2024-08-10 12:50:23,433] Trial 170 finished with value: 0.3096758656784432 and parameters: {'lambda_l1': 1.2204753328670135, 'lambda_l2': 1.6636387101329289, 'num_leaves': 9, 'feature_fraction': 0.9353204417997086, 'bagging_fraction': 0.656272978677302, 'bagging_freq': 5, 'min_child_samples': 66}. Best is trial 140 with value: 0.332736309994486.\n",
      "[I 2024-08-10 12:50:32,579] Trial 171 finished with value: 0.3094779083601892 and parameters: {'lambda_l1': 0.8585988913790689, 'lambda_l2': 5.7661585387872156e-08, 'num_leaves': 34, 'feature_fraction': 0.9730443041016243, 'bagging_fraction': 0.6860959637653724, 'bagging_freq': 5, 'min_child_samples': 95}. Best is trial 140 with value: 0.332736309994486.\n",
      "[I 2024-08-10 12:50:37,428] Trial 172 finished with value: 0.32241567034611285 and parameters: {'lambda_l1': 0.47547199244481475, 'lambda_l2': 2.794945649154371e-08, 'num_leaves': 22, 'feature_fraction': 0.9875902534634751, 'bagging_fraction': 0.6402357514051797, 'bagging_freq': 5, 'min_child_samples': 98}. Best is trial 140 with value: 0.332736309994486.\n",
      "[I 2024-08-10 12:50:47,447] Trial 173 finished with value: 0.30992531741811336 and parameters: {'lambda_l1': 0.20812758594046704, 'lambda_l2': 4.0129558228349085e-08, 'num_leaves': 39, 'feature_fraction': 0.960481367563418, 'bagging_fraction': 0.5557988999314032, 'bagging_freq': 5, 'min_child_samples': 59}. Best is trial 140 with value: 0.332736309994486.\n",
      "[I 2024-08-10 12:50:55,329] Trial 174 finished with value: 0.33154099035961737 and parameters: {'lambda_l1': 0.08595304395286724, 'lambda_l2': 0.5477787291687825, 'num_leaves': 29, 'feature_fraction': 0.9514157077745294, 'bagging_fraction': 0.6774038363854447, 'bagging_freq': 6, 'min_child_samples': 91}. Best is trial 140 with value: 0.332736309994486.\n",
      "[I 2024-08-10 12:51:01,115] Trial 175 finished with value: 0.3214319069185789 and parameters: {'lambda_l1': 0.07763625205906427, 'lambda_l2': 0.3262146164841693, 'num_leaves': 16, 'feature_fraction': 0.9497976771780626, 'bagging_fraction': 0.6650389450397431, 'bagging_freq': 6, 'min_child_samples': 92}. Best is trial 140 with value: 0.332736309994486.\n",
      "[I 2024-08-10 12:51:10,329] Trial 176 finished with value: 0.31263095012255215 and parameters: {'lambda_l1': 0.033008914926483064, 'lambda_l2': 0.5492763389585561, 'num_leaves': 211, 'feature_fraction': 0.9170853901355744, 'bagging_fraction': 0.6780001904529358, 'bagging_freq': 6, 'min_child_samples': 90}. Best is trial 140 with value: 0.332736309994486.\n",
      "[I 2024-08-10 12:51:15,253] Trial 177 finished with value: 0.30659058453280064 and parameters: {'lambda_l1': 0.012430957105705796, 'lambda_l2': 0.0002838999475733335, 'num_leaves': 29, 'feature_fraction': 0.9089247457169224, 'bagging_fraction': 0.6508526870329596, 'bagging_freq': 6, 'min_child_samples': 88}. Best is trial 140 with value: 0.332736309994486.\n",
      "[I 2024-08-10 12:51:25,250] Trial 178 finished with value: 0.31138997740333496 and parameters: {'lambda_l1': 0.11538895931025098, 'lambda_l2': 0.0009609709693251489, 'num_leaves': 252, 'feature_fraction': 0.9356779985498457, 'bagging_fraction': 0.7011455430267887, 'bagging_freq': 6, 'min_child_samples': 84}. Best is trial 140 with value: 0.332736309994486.\n",
      "[I 2024-08-10 12:51:30,024] Trial 179 finished with value: 0.31168016969961543 and parameters: {'lambda_l1': 0.05969371608343317, 'lambda_l2': 0.7527780841420274, 'num_leaves': 20, 'feature_fraction': 0.9223671939030063, 'bagging_fraction': 0.669540156467047, 'bagging_freq': 6, 'min_child_samples': 81}. Best is trial 140 with value: 0.332736309994486.\n",
      "[I 2024-08-10 12:51:38,940] Trial 180 finished with value: 0.32085799133869 and parameters: {'lambda_l1': 0.02489470462938594, 'lambda_l2': 0.2146041600505619, 'num_leaves': 26, 'feature_fraction': 0.9540730621924912, 'bagging_fraction': 0.6356383524283605, 'bagging_freq': 6, 'min_child_samples': 75}. Best is trial 140 with value: 0.332736309994486.\n",
      "[I 2024-08-10 12:51:43,591] Trial 181 finished with value: 0.3180471947719682 and parameters: {'lambda_l1': 0.2648868897082991, 'lambda_l2': 0.9861179767424667, 'num_leaves': 32, 'feature_fraction': 0.965452296848689, 'bagging_fraction': 0.6893326699998724, 'bagging_freq': 5, 'min_child_samples': 94}. Best is trial 140 with value: 0.332736309994486.\n",
      "[I 2024-08-10 12:51:51,555] Trial 182 finished with value: 0.33114049651659705 and parameters: {'lambda_l1': 1.7145680852705858, 'lambda_l2': 1.4158744211772715e-07, 'num_leaves': 38, 'feature_fraction': 0.9837073973171093, 'bagging_fraction': 0.6620515390313134, 'bagging_freq': 5, 'min_child_samples': 69}. Best is trial 140 with value: 0.332736309994486.\n",
      "[I 2024-08-10 12:51:58,518] Trial 183 finished with value: 0.3195312309426608 and parameters: {'lambda_l1': 2.960154973726694, 'lambda_l2': 1.3661021904135708e-07, 'num_leaves': 38, 'feature_fraction': 0.9841015557007085, 'bagging_fraction': 0.656040313546381, 'bagging_freq': 7, 'min_child_samples': 69}. Best is trial 140 with value: 0.332736309994486.\n",
      "[I 2024-08-10 12:52:04,992] Trial 184 finished with value: 0.3106675343319607 and parameters: {'lambda_l1': 5.386171236554299, 'lambda_l2': 0.1517164453445501, 'num_leaves': 77, 'feature_fraction': 0.9735690851380008, 'bagging_fraction': 0.5410414888574675, 'bagging_freq': 5, 'min_child_samples': 72}. Best is trial 140 with value: 0.332736309994486.\n",
      "[I 2024-08-10 12:52:13,192] Trial 185 finished with value: 0.3149002933464047 and parameters: {'lambda_l1': 1.587497454451638, 'lambda_l2': 1.640199344823928e-08, 'num_leaves': 45, 'feature_fraction': 0.9960646737555972, 'bagging_fraction': 0.6707390996543531, 'bagging_freq': 6, 'min_child_samples': 70}. Best is trial 140 with value: 0.332736309994486.\n",
      "[I 2024-08-10 12:52:20,858] Trial 186 finished with value: 0.30495378921670413 and parameters: {'lambda_l1': 0.04091614859013423, 'lambda_l2': 2.6808234998197825e-08, 'num_leaves': 52, 'feature_fraction': 0.9453309135137128, 'bagging_fraction': 0.6495188116628726, 'bagging_freq': 5, 'min_child_samples': 66}. Best is trial 140 with value: 0.332736309994486.\n",
      "[I 2024-08-10 12:52:27,361] Trial 187 finished with value: 0.3165534244394199 and parameters: {'lambda_l1': 1.8438576015131485, 'lambda_l2': 1.006146974684961e-08, 'num_leaves': 24, 'feature_fraction': 0.8950125801330612, 'bagging_fraction': 0.8816917381338141, 'bagging_freq': 4, 'min_child_samples': 77}. Best is trial 140 with value: 0.332736309994486.\n",
      "[I 2024-08-10 12:52:31,629] Trial 188 finished with value: 0.3153956664694446 and parameters: {'lambda_l1': 0.620650672588883, 'lambda_l2': 0.00042062026330957127, 'num_leaves': 35, 'feature_fraction': 0.7108195015625701, 'bagging_fraction': 0.6283828576456639, 'bagging_freq': 6, 'min_child_samples': 86}. Best is trial 140 with value: 0.332736309994486.\n",
      "[I 2024-08-10 12:52:33,094] Trial 189 finished with value: 0.2705874605762527 and parameters: {'lambda_l1': 0.12840788866036754, 'lambda_l2': 7.581981707666434e-08, 'num_leaves': 2, 'feature_fraction': 0.9247316931763302, 'bagging_fraction': 0.6620042188466679, 'bagging_freq': 7, 'min_child_samples': 68}. Best is trial 140 with value: 0.332736309994486.\n",
      "[I 2024-08-10 12:52:40,327] Trial 190 finished with value: 0.3165069745132827 and parameters: {'lambda_l1': 0.016931040113443565, 'lambda_l2': 3.8503060662552146e-08, 'num_leaves': 16, 'feature_fraction': 0.9090652821032449, 'bagging_fraction': 0.6805302963712495, 'bagging_freq': 5, 'min_child_samples': 64}. Best is trial 140 with value: 0.332736309994486.\n",
      "[I 2024-08-10 12:52:44,955] Trial 191 finished with value: 0.31472254604359096 and parameters: {'lambda_l1': 1.0191180746952688, 'lambda_l2': 8.633925872452433e-08, 'num_leaves': 30, 'feature_fraction': 0.978133970332926, 'bagging_fraction': 0.6939800124649761, 'bagging_freq': 5, 'min_child_samples': 93}. Best is trial 140 with value: 0.332736309994486.\n",
      "[I 2024-08-10 12:52:50,180] Trial 192 finished with value: 0.3144645854752969 and parameters: {'lambda_l1': 0.29070103768141614, 'lambda_l2': 2.0841368935834322e-08, 'num_leaves': 40, 'feature_fraction': 0.9609663097352572, 'bagging_fraction': 0.6442733252481114, 'bagging_freq': 5, 'min_child_samples': 97}. Best is trial 140 with value: 0.332736309994486.\n",
      "[I 2024-08-10 12:52:55,449] Trial 193 finished with value: 0.31634451741804503 and parameters: {'lambda_l1': 3.6690910718078387, 'lambda_l2': 4.835106439743002e-08, 'num_leaves': 21, 'feature_fraction': 0.940089213603859, 'bagging_fraction': 0.5695354345543865, 'bagging_freq': 5, 'min_child_samples': 100}. Best is trial 140 with value: 0.332736309994486.\n",
      "[I 2024-08-10 12:53:00,914] Trial 194 finished with value: 0.31869886896538113 and parameters: {'lambda_l1': 0.5647500373478558, 'lambda_l2': 0.02132403855807407, 'num_leaves': 29, 'feature_fraction': 0.9534695640612737, 'bagging_fraction': 0.730586244278989, 'bagging_freq': 5, 'min_child_samples': 91}. Best is trial 140 with value: 0.332736309994486.\n",
      "[I 2024-08-10 12:53:09,588] Trial 195 finished with value: 0.3196855094221147 and parameters: {'lambda_l1': 0.08679651124918351, 'lambda_l2': 2.2470331943315454e-06, 'num_leaves': 130, 'feature_fraction': 0.9715924899617634, 'bagging_fraction': 0.614365381888618, 'bagging_freq': 5, 'min_child_samples': 74}. Best is trial 140 with value: 0.332736309994486.\n",
      "[I 2024-08-10 12:53:15,757] Trial 196 finished with value: 0.3173145902221196 and parameters: {'lambda_l1': 0.17795183519470884, 'lambda_l2': 0.0005465976539170778, 'num_leaves': 33, 'feature_fraction': 0.8843959011957635, 'bagging_fraction': 0.7099180970548317, 'bagging_freq': 6, 'min_child_samples': 71}. Best is trial 140 with value: 0.332736309994486.\n",
      "[I 2024-08-10 12:53:18,649] Trial 197 finished with value: 0.3208588109631725 and parameters: {'lambda_l1': 0.9203418833904613, 'lambda_l2': 1.5791122429239056e-08, 'num_leaves': 12, 'feature_fraction': 0.9989641026023268, 'bagging_fraction': 0.8378329081185826, 'bagging_freq': 5, 'min_child_samples': 81}. Best is trial 140 with value: 0.332736309994486.\n",
      "[I 2024-08-10 12:53:25,549] Trial 198 finished with value: 0.31266767210296187 and parameters: {'lambda_l1': 0.00039640044961263276, 'lambda_l2': 2.5245700104803264e-08, 'num_leaves': 43, 'feature_fraction': 0.936622844061963, 'bagging_fraction': 0.6759839845610149, 'bagging_freq': 2, 'min_child_samples': 78}. Best is trial 140 with value: 0.332736309994486.\n",
      "[I 2024-08-10 12:53:30,688] Trial 199 finished with value: 0.3306721943133253 and parameters: {'lambda_l1': 2.6657183823018564, 'lambda_l2': 1.5936312564405582e-07, 'num_leaves': 26, 'feature_fraction': 0.9253264663480585, 'bagging_fraction': 0.5199541974828706, 'bagging_freq': 6, 'min_child_samples': 96}. Best is trial 140 with value: 0.332736309994486.\n"
     ]
    }
   ],
   "source": [
    "#Defino el estudio a optimizar\n",
    "study = optuna.create_study(direction='maximize', #buscamos maximizar la metrica\n",
    "                            storage=\"sqlite:///../work/db.sqlite3\",  # Specify the storage URL here.\n",
    "                            study_name=\"04 - LGB Multiclass\", #nombre del experimento\n",
    "                            load_if_exists=True) #continuar si ya existe\n",
    "\n",
    "#Corremos 100 trials para buscar mejores parametros\n",
    "study.optimize(lgb_objective, n_trials=100)"
   ]
  },
  {
   "cell_type": "code",
   "execution_count": 28,
   "metadata": {},
   "outputs": [
    {
     "data": {
      "text/plain": [
       "{'lambda_l1': 0.23155295709162022,\n",
       " 'lambda_l2': 3.3482903711731363e-07,\n",
       " 'num_leaves': 40,\n",
       " 'feature_fraction': 0.5218952790070867,\n",
       " 'bagging_fraction': 0.9393459855409115,\n",
       " 'bagging_freq': 7,\n",
       " 'min_child_samples': 36}"
      ]
     },
     "execution_count": 28,
     "metadata": {},
     "output_type": "execute_result"
    }
   ],
   "source": [
    "#Obtenemos mejor resultado\n",
    "study.best_params"
   ]
  },
  {
   "cell_type": "code",
   "execution_count": 29,
   "metadata": {},
   "outputs": [
    {
     "data": {
      "application/vnd.plotly.v1+json": {
       "config": {
        "plotlyServerURL": "https://plot.ly"
       },
       "data": [
        {
         "type": "heatmap",
         "x": [
          0,
          1,
          2,
          3,
          4
         ],
         "y": [
          0,
          1,
          2,
          3,
          4
         ],
         "z": [
          [
           6.097560975609756,
           43.90243902439025,
           24.390243902439025,
           9.75609756097561,
           15.853658536585366
          ],
          [
           0.8090614886731391,
           33.33333333333333,
           35.92233009708738,
           7.766990291262135,
           22.168284789644012
          ],
          [
           0.24783147459727387,
           22.304832713754646,
           38.28996282527881,
           12.639405204460965,
           26.517967781908304
          ],
          [
           0,
           16.56441717791411,
           35.12269938650307,
           18.404907975460123,
           29.9079754601227
          ],
          [
           0,
           12.380952380952381,
           20.11904761904762,
           7.380952380952381,
           60.11904761904761
          ]
         ]
        }
       ],
       "layout": {
        "annotations": [
         {
          "font": {
           "color": "white"
          },
          "showarrow": false,
          "text": "6.1 - 5",
          "x": 0,
          "xref": "x",
          "y": 0,
          "yref": "y"
         },
         {
          "font": {
           "color": "white"
          },
          "showarrow": false,
          "text": "43.9 - 36",
          "x": 1,
          "xref": "x",
          "y": 0,
          "yref": "y"
         },
         {
          "font": {
           "color": "white"
          },
          "showarrow": false,
          "text": "24.4 - 20",
          "x": 2,
          "xref": "x",
          "y": 0,
          "yref": "y"
         },
         {
          "font": {
           "color": "white"
          },
          "showarrow": false,
          "text": "9.8 - 8",
          "x": 3,
          "xref": "x",
          "y": 0,
          "yref": "y"
         },
         {
          "font": {
           "color": "white"
          },
          "showarrow": false,
          "text": "15.9 - 13",
          "x": 4,
          "xref": "x",
          "y": 0,
          "yref": "y"
         },
         {
          "font": {
           "color": "white"
          },
          "showarrow": false,
          "text": "0.8 - 5",
          "x": 0,
          "xref": "x",
          "y": 1,
          "yref": "y"
         },
         {
          "font": {
           "color": "white"
          },
          "showarrow": false,
          "text": "33.3 - 206",
          "x": 1,
          "xref": "x",
          "y": 1,
          "yref": "y"
         },
         {
          "font": {
           "color": "white"
          },
          "showarrow": false,
          "text": "35.9 - 222",
          "x": 2,
          "xref": "x",
          "y": 1,
          "yref": "y"
         },
         {
          "font": {
           "color": "white"
          },
          "showarrow": false,
          "text": "7.8 - 48",
          "x": 3,
          "xref": "x",
          "y": 1,
          "yref": "y"
         },
         {
          "font": {
           "color": "white"
          },
          "showarrow": false,
          "text": "22.2 - 137",
          "x": 4,
          "xref": "x",
          "y": 1,
          "yref": "y"
         },
         {
          "font": {
           "color": "white"
          },
          "showarrow": false,
          "text": "0.2 - 2",
          "x": 0,
          "xref": "x",
          "y": 2,
          "yref": "y"
         },
         {
          "font": {
           "color": "white"
          },
          "showarrow": false,
          "text": "22.3 - 180",
          "x": 1,
          "xref": "x",
          "y": 2,
          "yref": "y"
         },
         {
          "font": {
           "color": "white"
          },
          "showarrow": false,
          "text": "38.3 - 309",
          "x": 2,
          "xref": "x",
          "y": 2,
          "yref": "y"
         },
         {
          "font": {
           "color": "white"
          },
          "showarrow": false,
          "text": "12.6 - 102",
          "x": 3,
          "xref": "x",
          "y": 2,
          "yref": "y"
         },
         {
          "font": {
           "color": "white"
          },
          "showarrow": false,
          "text": "26.5 - 214",
          "x": 4,
          "xref": "x",
          "y": 2,
          "yref": "y"
         },
         {
          "font": {
           "color": "white"
          },
          "showarrow": false,
          "text": "0.0 - 0",
          "x": 0,
          "xref": "x",
          "y": 3,
          "yref": "y"
         },
         {
          "font": {
           "color": "white"
          },
          "showarrow": false,
          "text": "16.6 - 108",
          "x": 1,
          "xref": "x",
          "y": 3,
          "yref": "y"
         },
         {
          "font": {
           "color": "white"
          },
          "showarrow": false,
          "text": "35.1 - 229",
          "x": 2,
          "xref": "x",
          "y": 3,
          "yref": "y"
         },
         {
          "font": {
           "color": "white"
          },
          "showarrow": false,
          "text": "18.4 - 120",
          "x": 3,
          "xref": "x",
          "y": 3,
          "yref": "y"
         },
         {
          "font": {
           "color": "white"
          },
          "showarrow": false,
          "text": "29.9 - 195",
          "x": 4,
          "xref": "x",
          "y": 3,
          "yref": "y"
         },
         {
          "font": {
           "color": "white"
          },
          "showarrow": false,
          "text": "0.0 - 0",
          "x": 0,
          "xref": "x",
          "y": 4,
          "yref": "y"
         },
         {
          "font": {
           "color": "white"
          },
          "showarrow": false,
          "text": "12.4 - 104",
          "x": 1,
          "xref": "x",
          "y": 4,
          "yref": "y"
         },
         {
          "font": {
           "color": "white"
          },
          "showarrow": false,
          "text": "20.1 - 169",
          "x": 2,
          "xref": "x",
          "y": 4,
          "yref": "y"
         },
         {
          "font": {
           "color": "white"
          },
          "showarrow": false,
          "text": "7.4 - 62",
          "x": 3,
          "xref": "x",
          "y": 4,
          "yref": "y"
         },
         {
          "font": {
           "color": "white"
          },
          "showarrow": false,
          "text": "60.1 - 505",
          "x": 4,
          "xref": "x",
          "y": 4,
          "yref": "y"
         }
        ],
        "height": 800,
        "template": {
         "data": {
          "bar": [
           {
            "error_x": {
             "color": "#2a3f5f"
            },
            "error_y": {
             "color": "#2a3f5f"
            },
            "marker": {
             "line": {
              "color": "#E5ECF6",
              "width": 0.5
             },
             "pattern": {
              "fillmode": "overlay",
              "size": 10,
              "solidity": 0.2
             }
            },
            "type": "bar"
           }
          ],
          "barpolar": [
           {
            "marker": {
             "line": {
              "color": "#E5ECF6",
              "width": 0.5
             },
             "pattern": {
              "fillmode": "overlay",
              "size": 10,
              "solidity": 0.2
             }
            },
            "type": "barpolar"
           }
          ],
          "carpet": [
           {
            "aaxis": {
             "endlinecolor": "#2a3f5f",
             "gridcolor": "white",
             "linecolor": "white",
             "minorgridcolor": "white",
             "startlinecolor": "#2a3f5f"
            },
            "baxis": {
             "endlinecolor": "#2a3f5f",
             "gridcolor": "white",
             "linecolor": "white",
             "minorgridcolor": "white",
             "startlinecolor": "#2a3f5f"
            },
            "type": "carpet"
           }
          ],
          "choropleth": [
           {
            "colorbar": {
             "outlinewidth": 0,
             "ticks": ""
            },
            "type": "choropleth"
           }
          ],
          "contour": [
           {
            "colorbar": {
             "outlinewidth": 0,
             "ticks": ""
            },
            "colorscale": [
             [
              0,
              "#0d0887"
             ],
             [
              0.1111111111111111,
              "#46039f"
             ],
             [
              0.2222222222222222,
              "#7201a8"
             ],
             [
              0.3333333333333333,
              "#9c179e"
             ],
             [
              0.4444444444444444,
              "#bd3786"
             ],
             [
              0.5555555555555556,
              "#d8576b"
             ],
             [
              0.6666666666666666,
              "#ed7953"
             ],
             [
              0.7777777777777778,
              "#fb9f3a"
             ],
             [
              0.8888888888888888,
              "#fdca26"
             ],
             [
              1,
              "#f0f921"
             ]
            ],
            "type": "contour"
           }
          ],
          "contourcarpet": [
           {
            "colorbar": {
             "outlinewidth": 0,
             "ticks": ""
            },
            "type": "contourcarpet"
           }
          ],
          "heatmap": [
           {
            "colorbar": {
             "outlinewidth": 0,
             "ticks": ""
            },
            "colorscale": [
             [
              0,
              "#0d0887"
             ],
             [
              0.1111111111111111,
              "#46039f"
             ],
             [
              0.2222222222222222,
              "#7201a8"
             ],
             [
              0.3333333333333333,
              "#9c179e"
             ],
             [
              0.4444444444444444,
              "#bd3786"
             ],
             [
              0.5555555555555556,
              "#d8576b"
             ],
             [
              0.6666666666666666,
              "#ed7953"
             ],
             [
              0.7777777777777778,
              "#fb9f3a"
             ],
             [
              0.8888888888888888,
              "#fdca26"
             ],
             [
              1,
              "#f0f921"
             ]
            ],
            "type": "heatmap"
           }
          ],
          "heatmapgl": [
           {
            "colorbar": {
             "outlinewidth": 0,
             "ticks": ""
            },
            "colorscale": [
             [
              0,
              "#0d0887"
             ],
             [
              0.1111111111111111,
              "#46039f"
             ],
             [
              0.2222222222222222,
              "#7201a8"
             ],
             [
              0.3333333333333333,
              "#9c179e"
             ],
             [
              0.4444444444444444,
              "#bd3786"
             ],
             [
              0.5555555555555556,
              "#d8576b"
             ],
             [
              0.6666666666666666,
              "#ed7953"
             ],
             [
              0.7777777777777778,
              "#fb9f3a"
             ],
             [
              0.8888888888888888,
              "#fdca26"
             ],
             [
              1,
              "#f0f921"
             ]
            ],
            "type": "heatmapgl"
           }
          ],
          "histogram": [
           {
            "marker": {
             "pattern": {
              "fillmode": "overlay",
              "size": 10,
              "solidity": 0.2
             }
            },
            "type": "histogram"
           }
          ],
          "histogram2d": [
           {
            "colorbar": {
             "outlinewidth": 0,
             "ticks": ""
            },
            "colorscale": [
             [
              0,
              "#0d0887"
             ],
             [
              0.1111111111111111,
              "#46039f"
             ],
             [
              0.2222222222222222,
              "#7201a8"
             ],
             [
              0.3333333333333333,
              "#9c179e"
             ],
             [
              0.4444444444444444,
              "#bd3786"
             ],
             [
              0.5555555555555556,
              "#d8576b"
             ],
             [
              0.6666666666666666,
              "#ed7953"
             ],
             [
              0.7777777777777778,
              "#fb9f3a"
             ],
             [
              0.8888888888888888,
              "#fdca26"
             ],
             [
              1,
              "#f0f921"
             ]
            ],
            "type": "histogram2d"
           }
          ],
          "histogram2dcontour": [
           {
            "colorbar": {
             "outlinewidth": 0,
             "ticks": ""
            },
            "colorscale": [
             [
              0,
              "#0d0887"
             ],
             [
              0.1111111111111111,
              "#46039f"
             ],
             [
              0.2222222222222222,
              "#7201a8"
             ],
             [
              0.3333333333333333,
              "#9c179e"
             ],
             [
              0.4444444444444444,
              "#bd3786"
             ],
             [
              0.5555555555555556,
              "#d8576b"
             ],
             [
              0.6666666666666666,
              "#ed7953"
             ],
             [
              0.7777777777777778,
              "#fb9f3a"
             ],
             [
              0.8888888888888888,
              "#fdca26"
             ],
             [
              1,
              "#f0f921"
             ]
            ],
            "type": "histogram2dcontour"
           }
          ],
          "mesh3d": [
           {
            "colorbar": {
             "outlinewidth": 0,
             "ticks": ""
            },
            "type": "mesh3d"
           }
          ],
          "parcoords": [
           {
            "line": {
             "colorbar": {
              "outlinewidth": 0,
              "ticks": ""
             }
            },
            "type": "parcoords"
           }
          ],
          "pie": [
           {
            "automargin": true,
            "type": "pie"
           }
          ],
          "scatter": [
           {
            "fillpattern": {
             "fillmode": "overlay",
             "size": 10,
             "solidity": 0.2
            },
            "type": "scatter"
           }
          ],
          "scatter3d": [
           {
            "line": {
             "colorbar": {
              "outlinewidth": 0,
              "ticks": ""
             }
            },
            "marker": {
             "colorbar": {
              "outlinewidth": 0,
              "ticks": ""
             }
            },
            "type": "scatter3d"
           }
          ],
          "scattercarpet": [
           {
            "marker": {
             "colorbar": {
              "outlinewidth": 0,
              "ticks": ""
             }
            },
            "type": "scattercarpet"
           }
          ],
          "scattergeo": [
           {
            "marker": {
             "colorbar": {
              "outlinewidth": 0,
              "ticks": ""
             }
            },
            "type": "scattergeo"
           }
          ],
          "scattergl": [
           {
            "marker": {
             "colorbar": {
              "outlinewidth": 0,
              "ticks": ""
             }
            },
            "type": "scattergl"
           }
          ],
          "scattermapbox": [
           {
            "marker": {
             "colorbar": {
              "outlinewidth": 0,
              "ticks": ""
             }
            },
            "type": "scattermapbox"
           }
          ],
          "scatterpolar": [
           {
            "marker": {
             "colorbar": {
              "outlinewidth": 0,
              "ticks": ""
             }
            },
            "type": "scatterpolar"
           }
          ],
          "scatterpolargl": [
           {
            "marker": {
             "colorbar": {
              "outlinewidth": 0,
              "ticks": ""
             }
            },
            "type": "scatterpolargl"
           }
          ],
          "scatterternary": [
           {
            "marker": {
             "colorbar": {
              "outlinewidth": 0,
              "ticks": ""
             }
            },
            "type": "scatterternary"
           }
          ],
          "surface": [
           {
            "colorbar": {
             "outlinewidth": 0,
             "ticks": ""
            },
            "colorscale": [
             [
              0,
              "#0d0887"
             ],
             [
              0.1111111111111111,
              "#46039f"
             ],
             [
              0.2222222222222222,
              "#7201a8"
             ],
             [
              0.3333333333333333,
              "#9c179e"
             ],
             [
              0.4444444444444444,
              "#bd3786"
             ],
             [
              0.5555555555555556,
              "#d8576b"
             ],
             [
              0.6666666666666666,
              "#ed7953"
             ],
             [
              0.7777777777777778,
              "#fb9f3a"
             ],
             [
              0.8888888888888888,
              "#fdca26"
             ],
             [
              1,
              "#f0f921"
             ]
            ],
            "type": "surface"
           }
          ],
          "table": [
           {
            "cells": {
             "fill": {
              "color": "#EBF0F8"
             },
             "line": {
              "color": "white"
             }
            },
            "header": {
             "fill": {
              "color": "#C8D4E3"
             },
             "line": {
              "color": "white"
             }
            },
            "type": "table"
           }
          ]
         },
         "layout": {
          "annotationdefaults": {
           "arrowcolor": "#2a3f5f",
           "arrowhead": 0,
           "arrowwidth": 1
          },
          "autotypenumbers": "strict",
          "coloraxis": {
           "colorbar": {
            "outlinewidth": 0,
            "ticks": ""
           }
          },
          "colorscale": {
           "diverging": [
            [
             0,
             "#8e0152"
            ],
            [
             0.1,
             "#c51b7d"
            ],
            [
             0.2,
             "#de77ae"
            ],
            [
             0.3,
             "#f1b6da"
            ],
            [
             0.4,
             "#fde0ef"
            ],
            [
             0.5,
             "#f7f7f7"
            ],
            [
             0.6,
             "#e6f5d0"
            ],
            [
             0.7,
             "#b8e186"
            ],
            [
             0.8,
             "#7fbc41"
            ],
            [
             0.9,
             "#4d9221"
            ],
            [
             1,
             "#276419"
            ]
           ],
           "sequential": [
            [
             0,
             "#0d0887"
            ],
            [
             0.1111111111111111,
             "#46039f"
            ],
            [
             0.2222222222222222,
             "#7201a8"
            ],
            [
             0.3333333333333333,
             "#9c179e"
            ],
            [
             0.4444444444444444,
             "#bd3786"
            ],
            [
             0.5555555555555556,
             "#d8576b"
            ],
            [
             0.6666666666666666,
             "#ed7953"
            ],
            [
             0.7777777777777778,
             "#fb9f3a"
            ],
            [
             0.8888888888888888,
             "#fdca26"
            ],
            [
             1,
             "#f0f921"
            ]
           ],
           "sequentialminus": [
            [
             0,
             "#0d0887"
            ],
            [
             0.1111111111111111,
             "#46039f"
            ],
            [
             0.2222222222222222,
             "#7201a8"
            ],
            [
             0.3333333333333333,
             "#9c179e"
            ],
            [
             0.4444444444444444,
             "#bd3786"
            ],
            [
             0.5555555555555556,
             "#d8576b"
            ],
            [
             0.6666666666666666,
             "#ed7953"
            ],
            [
             0.7777777777777778,
             "#fb9f3a"
            ],
            [
             0.8888888888888888,
             "#fdca26"
            ],
            [
             1,
             "#f0f921"
            ]
           ]
          },
          "colorway": [
           "#636efa",
           "#EF553B",
           "#00cc96",
           "#ab63fa",
           "#FFA15A",
           "#19d3f3",
           "#FF6692",
           "#B6E880",
           "#FF97FF",
           "#FECB52"
          ],
          "font": {
           "color": "#2a3f5f"
          },
          "geo": {
           "bgcolor": "white",
           "lakecolor": "white",
           "landcolor": "#E5ECF6",
           "showlakes": true,
           "showland": true,
           "subunitcolor": "white"
          },
          "hoverlabel": {
           "align": "left"
          },
          "hovermode": "closest",
          "mapbox": {
           "style": "light"
          },
          "paper_bgcolor": "white",
          "plot_bgcolor": "#E5ECF6",
          "polar": {
           "angularaxis": {
            "gridcolor": "white",
            "linecolor": "white",
            "ticks": ""
           },
           "bgcolor": "#E5ECF6",
           "radialaxis": {
            "gridcolor": "white",
            "linecolor": "white",
            "ticks": ""
           }
          },
          "scene": {
           "xaxis": {
            "backgroundcolor": "#E5ECF6",
            "gridcolor": "white",
            "gridwidth": 2,
            "linecolor": "white",
            "showbackground": true,
            "ticks": "",
            "zerolinecolor": "white"
           },
           "yaxis": {
            "backgroundcolor": "#E5ECF6",
            "gridcolor": "white",
            "gridwidth": 2,
            "linecolor": "white",
            "showbackground": true,
            "ticks": "",
            "zerolinecolor": "white"
           },
           "zaxis": {
            "backgroundcolor": "#E5ECF6",
            "gridcolor": "white",
            "gridwidth": 2,
            "linecolor": "white",
            "showbackground": true,
            "ticks": "",
            "zerolinecolor": "white"
           }
          },
          "shapedefaults": {
           "line": {
            "color": "#2a3f5f"
           }
          },
          "ternary": {
           "aaxis": {
            "gridcolor": "white",
            "linecolor": "white",
            "ticks": ""
           },
           "baxis": {
            "gridcolor": "white",
            "linecolor": "white",
            "ticks": ""
           },
           "bgcolor": "#E5ECF6",
           "caxis": {
            "gridcolor": "white",
            "linecolor": "white",
            "ticks": ""
           }
          },
          "title": {
           "x": 0.05
          },
          "xaxis": {
           "automargin": true,
           "gridcolor": "white",
           "linecolor": "white",
           "ticks": "",
           "title": {
            "standoff": 15
           },
           "zerolinecolor": "white",
           "zerolinewidth": 2
          },
          "yaxis": {
           "automargin": true,
           "gridcolor": "white",
           "linecolor": "white",
           "ticks": "",
           "title": {
            "standoff": 15
           },
           "zerolinecolor": "white",
           "zerolinewidth": 2
          }
         }
        },
        "title": {
         "text": "Conf Matrix"
        },
        "width": 800,
        "xaxis": {
         "title": {
          "text": "Predicted value"
         }
        },
        "yaxis": {
         "title": {
          "text": "Real value"
         }
        }
       }
      }
     },
     "metadata": {},
     "output_type": "display_data"
    },
    {
     "data": {
      "text/plain": [
       "np.float64(0.31572378167227944)"
      ]
     },
     "execution_count": 29,
     "metadata": {},
     "output_type": "execute_result"
    }
   ],
   "source": [
    "#Vamos a replicar el resultado de la optimizacion reentrenando el modelo con el mejor conjunto de hiperparametros\n",
    "#Generamos parametros incluyendo los fijos y la mejor solución que encontro optuna\n",
    "lgb_params =  {      \n",
    "                        'objective': 'multiclass',\n",
    "                        'verbosity':-1,\n",
    "                        'num_class': len(y_train.unique())} | study.best_params\n",
    "\n",
    "lgb_train_dataset = lgb.Dataset(data=X_train,\n",
    "                                label=y_train)\n",
    "\n",
    "\n",
    "#Entreno\n",
    "lgb_model = lgb.train(lgb_params,\n",
    "                    lgb_train_dataset)\n",
    "\n",
    "#Muestro matriz de confusion y kappa\n",
    "display(plot_confusion_matrix(y_test,lgb_model.predict(X_test).argmax(axis=1)))\n",
    "\n",
    "cohen_kappa_score(y_test,lgb_model.predict(X_test).argmax(axis=1),\n",
    "                             weights = 'quadratic')\n"
   ]
  },
  {
   "cell_type": "markdown",
   "metadata": {},
   "source": [
    "## Modelo con cross validation y conjunto de test"
   ]
  },
  {
   "cell_type": "code",
   "execution_count": 30,
   "metadata": {},
   "outputs": [],
   "source": [
    "#Genero una metrica para que lightGBM haga la evaluación y pueda hacer early_stopping en el cross validation\n",
    "def lgb_custom_metric_kappa(dy_pred, dy_true):\n",
    "    metric_name = 'kappa'\n",
    "    value = cohen_kappa_score(dy_true.get_label(),dy_pred.argmax(axis=1),weights = 'quadratic')\n",
    "    is_higher_better = True\n",
    "    return(metric_name, value, is_higher_better)\n",
    "\n",
    "#Funcion objetivo a optimizar. En este caso vamos a hacer 5fold cv sobre el conjunto de train. \n",
    "# El score de CV es el objetivo a optimizar. Ademas vamos a usar los 5 modelos del CV para estimar el conjunto de test,\n",
    "# registraremos en optuna las predicciones, matriz de confusion y el score en test.\n",
    "# CV Score -> Se usa para determinar el rendimiento de los hiperparametros con precision \n",
    "# Test Score -> Nos permite testear que esta todo OK, no use (ni debo usar) esos datos para nada en el entrenamiento \n",
    "# o la optimizacion de hiperparametros\n",
    "\n",
    "def cv_es_lgb_objective(trial):\n",
    "\n",
    "    #PArametros para LightGBM\n",
    "    lgb_params = {      \n",
    "                        #PArametros fijos\n",
    "                        'objective': 'multiclass',\n",
    "                        'verbosity':-1,\n",
    "                        'num_class': len(y_train.unique()),\n",
    "                        #Hiperparametros a optimizar utilizando suggest_float o suggest_int segun el tipo de dato\n",
    "                        #Se indica el nombre del parametro, valor minimo, valor maximo \n",
    "                        #en elgunos casos el parametro log=True para parametros que requieren buscar en esa escala\n",
    "                        'lambda_l1': trial.suggest_float('lambda_l1', 1e-8, 10.0, log=True),\n",
    "                        'lambda_l2': trial.suggest_float('lambda_l2', 1e-8, 10.0, log=True),\n",
    "                        'num_leaves': trial.suggest_int('num_leaves', 2, 256),\n",
    "                        'feature_fraction': trial.suggest_float('feature_fraction', 0.4, 1.0),\n",
    "                        'bagging_fraction': trial.suggest_float('bagging_fraction', 0.4, 1.0),\n",
    "                        'bagging_freq': trial.suggest_int('bagging_freq', 1, 7),\n",
    "                        'min_child_samples': trial.suggest_int('min_child_samples', 5, 100),\n",
    "                        } \n",
    "\n",
    "    #Voy a generar estimaciones de los 5 modelos del CV sobre los datos test y los acumulo en la matriz scores_ensemble\n",
    "    scores_ensemble = np.zeros((len(y_test),len(y_train.unique())))\n",
    "\n",
    "    #Score del 5 fold CV inicializado en 0\n",
    "    score_folds = 0\n",
    "\n",
    "    #Numero de splits del CV\n",
    "    n_splits = 5\n",
    "\n",
    "    #Objeto para hacer el split estratificado de CV\n",
    "    skf = StratifiedKFold(n_splits=n_splits)\n",
    "\n",
    "    for i, (if_index, oof_index) in enumerate(skf.split(X_train, y_train)):\n",
    "        \n",
    "        #Dataset in fold (donde entreno) \n",
    "        lgb_if_dataset = lgb.Dataset(data=X_train.iloc[if_index],\n",
    "                                        label=y_train.iloc[if_index],\n",
    "                                        free_raw_data=False)\n",
    "        \n",
    "        #Dataset Out of fold (donde mido la performance del CV)\n",
    "        lgb_oof_dataset = lgb.Dataset(data=X_train.iloc[oof_index],\n",
    "                                        label=y_train.iloc[oof_index],\n",
    "                                        free_raw_data=False)\n",
    "\n",
    "        #Entreno el modelo\n",
    "        lgb_model = lgb.train(lgb_params,\n",
    "                                lgb_if_dataset,\n",
    "                                valid_sets=lgb_oof_dataset,\n",
    "                                callbacks=[lgb.early_stopping(10, verbose=False)],\n",
    "                                feval = lgb_custom_metric_kappa\n",
    "                                )\n",
    "        \n",
    "        #Acumulo los scores (probabilidades) de cada clase para cada uno de los modelos que determino en los folds\n",
    "        #Se predice el 20% de los datos que separe para tes y no uso para entrenar en ningun fold\n",
    "        scores_ensemble = scores_ensemble + lgb_model.predict(X_test)\n",
    "        \n",
    "        #Score del fold (registros de dataset train que en este fold quedan out of fold)\n",
    "        score_folds = score_folds + cohen_kappa_score(y_train.iloc[oof_index], \n",
    "                                                            lgb_model.predict(X_train.iloc[oof_index]).argmax(axis=1),weights = 'quadratic')/n_splits\n",
    "\n",
    "\n",
    "    #Guardo prediccion del trial sobre el conjunto de test\n",
    "    # Genero nombre de archivo\n",
    "    predicted_filename = os.path.join(PATH_TO_TEMP_FILES,f'test_{trial.study.study_name}_{trial.number}.joblib')\n",
    "    # Copia del dataset para guardar la prediccion\n",
    "    predicted_df = test.copy()\n",
    "    # Genero columna pred con predicciones sumadas de los 5 folds\n",
    "    predicted_df['pred'] = [scores_ensemble[p,:] for p in range(scores_ensemble.shape[0])]\n",
    "    # Grabo dataframe en temp_artifacts\n",
    "    dump(predicted_df, predicted_filename)\n",
    "    # Indico a optuna que asocie el archivo generado al trial\n",
    "    upload_artifact(trial, predicted_filename, artifact_store)    \n",
    "\n",
    "    #Grabo natriz de confusion\n",
    "    #Nombre de archivo\n",
    "    cm_filename = os.path.join(PATH_TO_TEMP_FILES,f'cm_{trial.study.study_name}_{trial.number}.jpg')\n",
    "    #Grabo archivo\n",
    "    plot_confusion_matrix(y_test,scores_ensemble.argmax(axis=1)).write_image(cm_filename)\n",
    "    #Asocio al trial\n",
    "    upload_artifact(trial, cm_filename, artifact_store)\n",
    "\n",
    "    #Determino score en conjunto de test y asocio como metrica adicional en optuna\n",
    "    test_score = cohen_kappa_score(y_test,scores_ensemble.argmax(axis=1),weights = 'quadratic')\n",
    "    trial.set_user_attr(\"test_score\", test_score)\n",
    "\n",
    "    #Devuelvo score del 5fold cv a optuna para que optimice en base a eso\n",
    "    return(score_folds)"
   ]
  },
  {
   "cell_type": "code",
   "execution_count": 27,
   "metadata": {},
   "outputs": [
    {
     "name": "stderr",
     "output_type": "stream",
     "text": [
      "C:\\Users\\cacic\\AppData\\Local\\Temp\\ipykernel_1648\\1746730829.py:2: ExperimentalWarning:\n",
      "\n",
      "FileSystemArtifactStore is experimental (supported from v3.3.0). The interface can change in the future.\n",
      "\n",
      "[I 2024-08-10 12:53:36,565] Using an existing study with name '04 - LGB Multiclass CV' instead of creating a new one.\n",
      "C:\\Users\\cacic\\AppData\\Local\\Temp\\ipykernel_1648\\4150719641.py:86: ExperimentalWarning:\n",
      "\n",
      "upload_artifact is experimental (supported from v3.3.0). The interface can change in the future.\n",
      "\n",
      "C:\\Users\\cacic\\AppData\\Local\\Temp\\ipykernel_1648\\4150719641.py:94: ExperimentalWarning:\n",
      "\n",
      "upload_artifact is experimental (supported from v3.3.0). The interface can change in the future.\n",
      "\n",
      "[I 2024-08-10 12:54:04,452] Trial 5 finished with value: 0.3504493249595834 and parameters: {'lambda_l1': 2.687420027304287, 'lambda_l2': 0.3574101911980283, 'num_leaves': 77, 'feature_fraction': 0.45506588664771797, 'bagging_fraction': 0.6417637583092235, 'bagging_freq': 3, 'min_child_samples': 51}. Best is trial 5 with value: 0.3504493249595834.\n",
      "C:\\Users\\cacic\\AppData\\Local\\Temp\\ipykernel_1648\\4150719641.py:86: ExperimentalWarning:\n",
      "\n",
      "upload_artifact is experimental (supported from v3.3.0). The interface can change in the future.\n",
      "\n",
      "C:\\Users\\cacic\\AppData\\Local\\Temp\\ipykernel_1648\\4150719641.py:94: ExperimentalWarning:\n",
      "\n",
      "upload_artifact is experimental (supported from v3.3.0). The interface can change in the future.\n",
      "\n",
      "[I 2024-08-10 12:54:22,844] Trial 6 finished with value: 0.35013875922292614 and parameters: {'lambda_l1': 0.0004896103575683398, 'lambda_l2': 9.804259004397959e-08, 'num_leaves': 17, 'feature_fraction': 0.7839250638878282, 'bagging_fraction': 0.7628786762436461, 'bagging_freq': 4, 'min_child_samples': 92}. Best is trial 5 with value: 0.3504493249595834.\n",
      "C:\\Users\\cacic\\AppData\\Local\\Temp\\ipykernel_1648\\4150719641.py:86: ExperimentalWarning:\n",
      "\n",
      "upload_artifact is experimental (supported from v3.3.0). The interface can change in the future.\n",
      "\n",
      "C:\\Users\\cacic\\AppData\\Local\\Temp\\ipykernel_1648\\4150719641.py:94: ExperimentalWarning:\n",
      "\n",
      "upload_artifact is experimental (supported from v3.3.0). The interface can change in the future.\n",
      "\n",
      "[I 2024-08-10 12:54:40,181] Trial 7 finished with value: 0.35162756559895425 and parameters: {'lambda_l1': 0.004372819063536479, 'lambda_l2': 2.224218750702108e-06, 'num_leaves': 21, 'feature_fraction': 0.964156343980415, 'bagging_fraction': 0.979261517724486, 'bagging_freq': 5, 'min_child_samples': 94}. Best is trial 7 with value: 0.35162756559895425.\n",
      "C:\\Users\\cacic\\AppData\\Local\\Temp\\ipykernel_1648\\4150719641.py:86: ExperimentalWarning:\n",
      "\n",
      "upload_artifact is experimental (supported from v3.3.0). The interface can change in the future.\n",
      "\n",
      "C:\\Users\\cacic\\AppData\\Local\\Temp\\ipykernel_1648\\4150719641.py:94: ExperimentalWarning:\n",
      "\n",
      "upload_artifact is experimental (supported from v3.3.0). The interface can change in the future.\n",
      "\n",
      "[I 2024-08-10 12:55:07,659] Trial 8 finished with value: 0.34805329826694703 and parameters: {'lambda_l1': 2.636245682208257e-07, 'lambda_l2': 1.1120031086632496, 'num_leaves': 78, 'feature_fraction': 0.6603793556374695, 'bagging_fraction': 0.4733445000085616, 'bagging_freq': 6, 'min_child_samples': 28}. Best is trial 7 with value: 0.35162756559895425.\n",
      "C:\\Users\\cacic\\AppData\\Local\\Temp\\ipykernel_1648\\4150719641.py:86: ExperimentalWarning:\n",
      "\n",
      "upload_artifact is experimental (supported from v3.3.0). The interface can change in the future.\n",
      "\n",
      "C:\\Users\\cacic\\AppData\\Local\\Temp\\ipykernel_1648\\4150719641.py:94: ExperimentalWarning:\n",
      "\n",
      "upload_artifact is experimental (supported from v3.3.0). The interface can change in the future.\n",
      "\n",
      "[I 2024-08-10 12:55:37,350] Trial 9 finished with value: 0.33789549831050275 and parameters: {'lambda_l1': 1.9889031350321515e-08, 'lambda_l2': 0.015701494302008637, 'num_leaves': 137, 'feature_fraction': 0.911010702695945, 'bagging_fraction': 0.8080039133738444, 'bagging_freq': 2, 'min_child_samples': 22}. Best is trial 7 with value: 0.35162756559895425.\n",
      "C:\\Users\\cacic\\AppData\\Local\\Temp\\ipykernel_1648\\4150719641.py:86: ExperimentalWarning:\n",
      "\n",
      "upload_artifact is experimental (supported from v3.3.0). The interface can change in the future.\n",
      "\n",
      "C:\\Users\\cacic\\AppData\\Local\\Temp\\ipykernel_1648\\4150719641.py:94: ExperimentalWarning:\n",
      "\n",
      "upload_artifact is experimental (supported from v3.3.0). The interface can change in the future.\n",
      "\n",
      "[I 2024-08-10 12:55:59,197] Trial 10 finished with value: 0.35425516769111076 and parameters: {'lambda_l1': 0.048767522694196146, 'lambda_l2': 6.791061704755458e-05, 'num_leaves': 168, 'feature_fraction': 0.6704558040510604, 'bagging_fraction': 0.9911879620832061, 'bagging_freq': 5, 'min_child_samples': 56}. Best is trial 10 with value: 0.35425516769111076.\n",
      "C:\\Users\\cacic\\AppData\\Local\\Temp\\ipykernel_1648\\4150719641.py:86: ExperimentalWarning:\n",
      "\n",
      "upload_artifact is experimental (supported from v3.3.0). The interface can change in the future.\n",
      "\n",
      "C:\\Users\\cacic\\AppData\\Local\\Temp\\ipykernel_1648\\4150719641.py:94: ExperimentalWarning:\n",
      "\n",
      "upload_artifact is experimental (supported from v3.3.0). The interface can change in the future.\n",
      "\n",
      "[I 2024-08-10 12:56:13,548] Trial 11 finished with value: 0.33589516142534376 and parameters: {'lambda_l1': 2.6218249605540493e-08, 'lambda_l2': 0.4782993624780131, 'num_leaves': 225, 'feature_fraction': 0.7699580938070834, 'bagging_fraction': 0.4448187944092942, 'bagging_freq': 7, 'min_child_samples': 54}. Best is trial 10 with value: 0.35425516769111076.\n",
      "C:\\Users\\cacic\\AppData\\Local\\Temp\\ipykernel_1648\\4150719641.py:86: ExperimentalWarning:\n",
      "\n",
      "upload_artifact is experimental (supported from v3.3.0). The interface can change in the future.\n",
      "\n",
      "C:\\Users\\cacic\\AppData\\Local\\Temp\\ipykernel_1648\\4150719641.py:94: ExperimentalWarning:\n",
      "\n",
      "upload_artifact is experimental (supported from v3.3.0). The interface can change in the future.\n",
      "\n",
      "[I 2024-08-10 12:56:32,639] Trial 12 finished with value: 0.3379259394714238 and parameters: {'lambda_l1': 3.544120027446241e-06, 'lambda_l2': 0.0010404557196687526, 'num_leaves': 158, 'feature_fraction': 0.9447469350660752, 'bagging_fraction': 0.7333551913210834, 'bagging_freq': 6, 'min_child_samples': 89}. Best is trial 10 with value: 0.35425516769111076.\n",
      "C:\\Users\\cacic\\AppData\\Local\\Temp\\ipykernel_1648\\4150719641.py:86: ExperimentalWarning:\n",
      "\n",
      "upload_artifact is experimental (supported from v3.3.0). The interface can change in the future.\n",
      "\n",
      "C:\\Users\\cacic\\AppData\\Local\\Temp\\ipykernel_1648\\4150719641.py:94: ExperimentalWarning:\n",
      "\n",
      "upload_artifact is experimental (supported from v3.3.0). The interface can change in the future.\n",
      "\n",
      "[I 2024-08-10 12:57:00,892] Trial 13 finished with value: 0.3445804297137755 and parameters: {'lambda_l1': 5.7147381543061325e-08, 'lambda_l2': 0.0005000494598056007, 'num_leaves': 169, 'feature_fraction': 0.4316208998883339, 'bagging_fraction': 0.5720801926299128, 'bagging_freq': 1, 'min_child_samples': 28}. Best is trial 10 with value: 0.35425516769111076.\n",
      "C:\\Users\\cacic\\AppData\\Local\\Temp\\ipykernel_1648\\4150719641.py:86: ExperimentalWarning:\n",
      "\n",
      "upload_artifact is experimental (supported from v3.3.0). The interface can change in the future.\n",
      "\n",
      "C:\\Users\\cacic\\AppData\\Local\\Temp\\ipykernel_1648\\4150719641.py:94: ExperimentalWarning:\n",
      "\n",
      "upload_artifact is experimental (supported from v3.3.0). The interface can change in the future.\n",
      "\n",
      "[I 2024-08-10 12:57:20,456] Trial 14 finished with value: 0.3524432369611019 and parameters: {'lambda_l1': 0.0022793396099739403, 'lambda_l2': 0.00045607763429070193, 'num_leaves': 224, 'feature_fraction': 0.6644322129560447, 'bagging_fraction': 0.4461116916404358, 'bagging_freq': 1, 'min_child_samples': 64}. Best is trial 10 with value: 0.35425516769111076.\n",
      "C:\\Users\\cacic\\AppData\\Local\\Temp\\ipykernel_1648\\4150719641.py:86: ExperimentalWarning:\n",
      "\n",
      "upload_artifact is experimental (supported from v3.3.0). The interface can change in the future.\n",
      "\n",
      "C:\\Users\\cacic\\AppData\\Local\\Temp\\ipykernel_1648\\4150719641.py:94: ExperimentalWarning:\n",
      "\n",
      "upload_artifact is experimental (supported from v3.3.0). The interface can change in the future.\n",
      "\n",
      "[I 2024-08-10 12:57:45,433] Trial 15 finished with value: 0.358705040285924 and parameters: {'lambda_l1': 1.5755289760307596, 'lambda_l2': 5.088091912314408e-06, 'num_leaves': 254, 'feature_fraction': 0.5712579050705032, 'bagging_fraction': 0.9977301367408166, 'bagging_freq': 4, 'min_child_samples': 71}. Best is trial 15 with value: 0.358705040285924.\n",
      "C:\\Users\\cacic\\AppData\\Local\\Temp\\ipykernel_1648\\4150719641.py:86: ExperimentalWarning:\n",
      "\n",
      "upload_artifact is experimental (supported from v3.3.0). The interface can change in the future.\n",
      "\n",
      "C:\\Users\\cacic\\AppData\\Local\\Temp\\ipykernel_1648\\4150719641.py:94: ExperimentalWarning:\n",
      "\n",
      "upload_artifact is experimental (supported from v3.3.0). The interface can change in the future.\n",
      "\n",
      "[I 2024-08-10 12:58:20,850] Trial 16 finished with value: 0.3562494496508132 and parameters: {'lambda_l1': 1.3332279125810265, 'lambda_l2': 6.523952968199207e-06, 'num_leaves': 256, 'feature_fraction': 0.5491645865926378, 'bagging_fraction': 0.9978605179168134, 'bagging_freq': 4, 'min_child_samples': 70}. Best is trial 15 with value: 0.358705040285924.\n",
      "C:\\Users\\cacic\\AppData\\Local\\Temp\\ipykernel_1648\\4150719641.py:86: ExperimentalWarning:\n",
      "\n",
      "upload_artifact is experimental (supported from v3.3.0). The interface can change in the future.\n",
      "\n",
      "C:\\Users\\cacic\\AppData\\Local\\Temp\\ipykernel_1648\\4150719641.py:94: ExperimentalWarning:\n",
      "\n",
      "upload_artifact is experimental (supported from v3.3.0). The interface can change in the future.\n",
      "\n",
      "[I 2024-08-10 12:58:51,877] Trial 17 finished with value: 0.3526660650889293 and parameters: {'lambda_l1': 7.822553945153505, 'lambda_l2': 3.2238284761701222e-06, 'num_leaves': 254, 'feature_fraction': 0.5408632612335067, 'bagging_fraction': 0.8706917088801088, 'bagging_freq': 3, 'min_child_samples': 75}. Best is trial 15 with value: 0.358705040285924.\n",
      "C:\\Users\\cacic\\AppData\\Local\\Temp\\ipykernel_1648\\4150719641.py:86: ExperimentalWarning:\n",
      "\n",
      "upload_artifact is experimental (supported from v3.3.0). The interface can change in the future.\n",
      "\n",
      "C:\\Users\\cacic\\AppData\\Local\\Temp\\ipykernel_1648\\4150719641.py:94: ExperimentalWarning:\n",
      "\n",
      "upload_artifact is experimental (supported from v3.3.0). The interface can change in the future.\n",
      "\n",
      "[I 2024-08-10 12:59:23,470] Trial 18 finished with value: 0.35423373589381596 and parameters: {'lambda_l1': 0.15550624816788206, 'lambda_l2': 3.2472348455237e-08, 'num_leaves': 255, 'feature_fraction': 0.527819162733077, 'bagging_fraction': 0.8778711974729629, 'bagging_freq': 4, 'min_child_samples': 75}. Best is trial 15 with value: 0.358705040285924.\n",
      "C:\\Users\\cacic\\AppData\\Local\\Temp\\ipykernel_1648\\4150719641.py:86: ExperimentalWarning:\n",
      "\n",
      "upload_artifact is experimental (supported from v3.3.0). The interface can change in the future.\n",
      "\n",
      "C:\\Users\\cacic\\AppData\\Local\\Temp\\ipykernel_1648\\4150719641.py:94: ExperimentalWarning:\n",
      "\n",
      "upload_artifact is experimental (supported from v3.3.0). The interface can change in the future.\n",
      "\n",
      "[I 2024-08-10 12:59:45,368] Trial 19 finished with value: 0.3520954122504985 and parameters: {'lambda_l1': 0.6065285912920009, 'lambda_l2': 1.585704190081796e-06, 'num_leaves': 201, 'feature_fraction': 0.5667124632484399, 'bagging_fraction': 0.9165045161499753, 'bagging_freq': 3, 'min_child_samples': 72}. Best is trial 15 with value: 0.358705040285924.\n",
      "C:\\Users\\cacic\\AppData\\Local\\Temp\\ipykernel_1648\\4150719641.py:86: ExperimentalWarning:\n",
      "\n",
      "upload_artifact is experimental (supported from v3.3.0). The interface can change in the future.\n",
      "\n",
      "C:\\Users\\cacic\\AppData\\Local\\Temp\\ipykernel_1648\\4150719641.py:94: ExperimentalWarning:\n",
      "\n",
      "upload_artifact is experimental (supported from v3.3.0). The interface can change in the future.\n",
      "\n",
      "[I 2024-08-10 13:00:09,513] Trial 20 finished with value: 0.3570808518348319 and parameters: {'lambda_l1': 1.0571482034200628e-05, 'lambda_l2': 3.525603604991953e-05, 'num_leaves': 204, 'feature_fraction': 0.5924845212997407, 'bagging_fraction': 0.9349429186628123, 'bagging_freq': 5, 'min_child_samples': 42}. Best is trial 15 with value: 0.358705040285924.\n",
      "C:\\Users\\cacic\\AppData\\Local\\Temp\\ipykernel_1648\\4150719641.py:86: ExperimentalWarning:\n",
      "\n",
      "upload_artifact is experimental (supported from v3.3.0). The interface can change in the future.\n",
      "\n",
      "C:\\Users\\cacic\\AppData\\Local\\Temp\\ipykernel_1648\\4150719641.py:94: ExperimentalWarning:\n",
      "\n",
      "upload_artifact is experimental (supported from v3.3.0). The interface can change in the future.\n",
      "\n",
      "[I 2024-08-10 13:00:22,965] Trial 21 finished with value: 0.3433035354625379 and parameters: {'lambda_l1': 7.815463934968944e-06, 'lambda_l2': 4.306084146120273e-05, 'num_leaves': 203, 'feature_fraction': 0.604364058530571, 'bagging_fraction': 0.8115693331618105, 'bagging_freq': 5, 'min_child_samples': 6}. Best is trial 15 with value: 0.358705040285924.\n",
      "C:\\Users\\cacic\\AppData\\Local\\Temp\\ipykernel_1648\\4150719641.py:86: ExperimentalWarning:\n",
      "\n",
      "upload_artifact is experimental (supported from v3.3.0). The interface can change in the future.\n",
      "\n",
      "C:\\Users\\cacic\\AppData\\Local\\Temp\\ipykernel_1648\\4150719641.py:94: ExperimentalWarning:\n",
      "\n",
      "upload_artifact is experimental (supported from v3.3.0). The interface can change in the future.\n",
      "\n",
      "[I 2024-08-10 13:00:30,996] Trial 22 finished with value: 0.3417774007283886 and parameters: {'lambda_l1': 2.230798386400337e-05, 'lambda_l2': 0.017083818500413434, 'num_leaves': 97, 'feature_fraction': 0.7573754458041779, 'bagging_fraction': 0.9191597331351575, 'bagging_freq': 7, 'min_child_samples': 42}. Best is trial 15 with value: 0.358705040285924.\n",
      "C:\\Users\\cacic\\AppData\\Local\\Temp\\ipykernel_1648\\4150719641.py:86: ExperimentalWarning:\n",
      "\n",
      "upload_artifact is experimental (supported from v3.3.0). The interface can change in the future.\n",
      "\n",
      "C:\\Users\\cacic\\AppData\\Local\\Temp\\ipykernel_1648\\4150719641.py:94: ExperimentalWarning:\n",
      "\n",
      "upload_artifact is experimental (supported from v3.3.0). The interface can change in the future.\n",
      "\n",
      "[I 2024-08-10 13:00:41,801] Trial 23 finished with value: 0.3481474203590679 and parameters: {'lambda_l1': 0.00023123978275602186, 'lambda_l2': 2.1251705265182343e-07, 'num_leaves': 205, 'feature_fraction': 0.4681026787679664, 'bagging_fraction': 0.6703681473941978, 'bagging_freq': 6, 'min_child_samples': 41}. Best is trial 15 with value: 0.358705040285924.\n",
      "C:\\Users\\cacic\\AppData\\Local\\Temp\\ipykernel_1648\\4150719641.py:86: ExperimentalWarning:\n",
      "\n",
      "upload_artifact is experimental (supported from v3.3.0). The interface can change in the future.\n",
      "\n",
      "C:\\Users\\cacic\\AppData\\Local\\Temp\\ipykernel_1648\\4150719641.py:94: ExperimentalWarning:\n",
      "\n",
      "upload_artifact is experimental (supported from v3.3.0). The interface can change in the future.\n",
      "\n",
      "[I 2024-08-10 13:00:51,751] Trial 24 finished with value: 0.3513011792870683 and parameters: {'lambda_l1': 7.720271464929263e-07, 'lambda_l2': 0.006895023393735181, 'num_leaves': 226, 'feature_fraction': 0.871889829883799, 'bagging_fraction': 0.9214755102645755, 'bagging_freq': 5, 'min_child_samples': 83}. Best is trial 15 with value: 0.358705040285924.\n",
      "C:\\Users\\cacic\\AppData\\Local\\Temp\\ipykernel_1648\\4150719641.py:86: ExperimentalWarning:\n",
      "\n",
      "upload_artifact is experimental (supported from v3.3.0). The interface can change in the future.\n",
      "\n",
      "C:\\Users\\cacic\\AppData\\Local\\Temp\\ipykernel_1648\\4150719641.py:94: ExperimentalWarning:\n",
      "\n",
      "upload_artifact is experimental (supported from v3.3.0). The interface can change in the future.\n",
      "\n",
      "[I 2024-08-10 13:01:02,623] Trial 25 finished with value: 0.35132128918902905 and parameters: {'lambda_l1': 8.388374233414347e-05, 'lambda_l2': 4.009740419442008e-05, 'num_leaves': 185, 'feature_fraction': 0.6102442982411732, 'bagging_fraction': 0.826684317409011, 'bagging_freq': 2, 'min_child_samples': 40}. Best is trial 15 with value: 0.358705040285924.\n",
      "C:\\Users\\cacic\\AppData\\Local\\Temp\\ipykernel_1648\\4150719641.py:86: ExperimentalWarning:\n",
      "\n",
      "upload_artifact is experimental (supported from v3.3.0). The interface can change in the future.\n",
      "\n",
      "C:\\Users\\cacic\\AppData\\Local\\Temp\\ipykernel_1648\\4150719641.py:94: ExperimentalWarning:\n",
      "\n",
      "upload_artifact is experimental (supported from v3.3.0). The interface can change in the future.\n",
      "\n",
      "[I 2024-08-10 13:01:13,660] Trial 26 finished with value: 0.3542147005592553 and parameters: {'lambda_l1': 0.027495164291197718, 'lambda_l2': 1.1368908708392437e-05, 'num_leaves': 256, 'feature_fraction': 0.5017961595406067, 'bagging_fraction': 0.9987249715057089, 'bagging_freq': 4, 'min_child_samples': 63}. Best is trial 15 with value: 0.358705040285924.\n",
      "C:\\Users\\cacic\\AppData\\Local\\Temp\\ipykernel_1648\\4150719641.py:86: ExperimentalWarning:\n",
      "\n",
      "upload_artifact is experimental (supported from v3.3.0). The interface can change in the future.\n",
      "\n",
      "C:\\Users\\cacic\\AppData\\Local\\Temp\\ipykernel_1648\\4150719641.py:94: ExperimentalWarning:\n",
      "\n",
      "upload_artifact is experimental (supported from v3.3.0). The interface can change in the future.\n",
      "\n",
      "[I 2024-08-10 13:01:25,746] Trial 27 finished with value: 0.35992669262803095 and parameters: {'lambda_l1': 3.4037673312165038, 'lambda_l2': 3.5821501602687123e-07, 'num_leaves': 233, 'feature_fraction': 0.5857215211953647, 'bagging_fraction': 0.9506358003280381, 'bagging_freq': 4, 'min_child_samples': 100}. Best is trial 27 with value: 0.35992669262803095.\n",
      "C:\\Users\\cacic\\AppData\\Local\\Temp\\ipykernel_1648\\4150719641.py:86: ExperimentalWarning:\n",
      "\n",
      "upload_artifact is experimental (supported from v3.3.0). The interface can change in the future.\n",
      "\n",
      "C:\\Users\\cacic\\AppData\\Local\\Temp\\ipykernel_1648\\4150719641.py:94: ExperimentalWarning:\n",
      "\n",
      "upload_artifact is experimental (supported from v3.3.0). The interface can change in the future.\n",
      "\n",
      "[I 2024-08-10 13:01:35,502] Trial 28 finished with value: 0.3540921293057393 and parameters: {'lambda_l1': 9.437904888107841, 'lambda_l2': 5.766560618851244e-07, 'num_leaves': 230, 'feature_fraction': 0.6130042534797965, 'bagging_fraction': 0.9291201176739383, 'bagging_freq': 4, 'min_child_samples': 100}. Best is trial 27 with value: 0.35992669262803095.\n",
      "C:\\Users\\cacic\\AppData\\Local\\Temp\\ipykernel_1648\\4150719641.py:86: ExperimentalWarning:\n",
      "\n",
      "upload_artifact is experimental (supported from v3.3.0). The interface can change in the future.\n",
      "\n",
      "C:\\Users\\cacic\\AppData\\Local\\Temp\\ipykernel_1648\\4150719641.py:94: ExperimentalWarning:\n",
      "\n",
      "upload_artifact is experimental (supported from v3.3.0). The interface can change in the future.\n",
      "\n",
      "[I 2024-08-10 13:01:47,023] Trial 29 finished with value: 0.35657442384460236 and parameters: {'lambda_l1': 0.2903070702079342, 'lambda_l2': 2.6069088321127066e-08, 'num_leaves': 136, 'feature_fraction': 0.40294453244069106, 'bagging_fraction': 0.8636760789786697, 'bagging_freq': 3, 'min_child_samples': 85}. Best is trial 27 with value: 0.35992669262803095.\n",
      "C:\\Users\\cacic\\AppData\\Local\\Temp\\ipykernel_1648\\4150719641.py:86: ExperimentalWarning:\n",
      "\n",
      "upload_artifact is experimental (supported from v3.3.0). The interface can change in the future.\n",
      "\n",
      "C:\\Users\\cacic\\AppData\\Local\\Temp\\ipykernel_1648\\4150719641.py:94: ExperimentalWarning:\n",
      "\n",
      "upload_artifact is experimental (supported from v3.3.0). The interface can change in the future.\n",
      "\n",
      "[I 2024-08-10 13:01:55,514] Trial 30 finished with value: 0.35151096929839887 and parameters: {'lambda_l1': 0.007035475713478182, 'lambda_l2': 2.8791938285646305e-07, 'num_leaves': 233, 'feature_fraction': 0.7189819123677235, 'bagging_fraction': 0.9473996193086581, 'bagging_freq': 5, 'min_child_samples': 100}. Best is trial 27 with value: 0.35992669262803095.\n",
      "C:\\Users\\cacic\\AppData\\Local\\Temp\\ipykernel_1648\\4150719641.py:86: ExperimentalWarning:\n",
      "\n",
      "upload_artifact is experimental (supported from v3.3.0). The interface can change in the future.\n",
      "\n",
      "C:\\Users\\cacic\\AppData\\Local\\Temp\\ipykernel_1648\\4150719641.py:94: ExperimentalWarning:\n",
      "\n",
      "upload_artifact is experimental (supported from v3.3.0). The interface can change in the future.\n",
      "\n",
      "[I 2024-08-10 13:02:07,134] Trial 31 finished with value: 0.35081090032011014 and parameters: {'lambda_l1': 0.08010732429669744, 'lambda_l2': 1.9021441378572586e-05, 'num_leaves': 197, 'feature_fraction': 0.5944112637096859, 'bagging_fraction': 0.7657387894441223, 'bagging_freq': 6, 'min_child_samples': 48}. Best is trial 27 with value: 0.35992669262803095.\n",
      "C:\\Users\\cacic\\AppData\\Local\\Temp\\ipykernel_1648\\4150719641.py:86: ExperimentalWarning:\n",
      "\n",
      "upload_artifact is experimental (supported from v3.3.0). The interface can change in the future.\n",
      "\n",
      "C:\\Users\\cacic\\AppData\\Local\\Temp\\ipykernel_1648\\4150719641.py:94: ExperimentalWarning:\n",
      "\n",
      "upload_artifact is experimental (supported from v3.3.0). The interface can change in the future.\n",
      "\n",
      "[I 2024-08-10 13:02:20,245] Trial 32 finished with value: 0.3457222041015639 and parameters: {'lambda_l1': 0.0008937797267614774, 'lambda_l2': 9.858340148990873e-05, 'num_leaves': 182, 'feature_fraction': 0.4955180779765314, 'bagging_fraction': 0.877002132747593, 'bagging_freq': 2, 'min_child_samples': 33}. Best is trial 27 with value: 0.35992669262803095.\n",
      "C:\\Users\\cacic\\AppData\\Local\\Temp\\ipykernel_1648\\4150719641.py:86: ExperimentalWarning:\n",
      "\n",
      "upload_artifact is experimental (supported from v3.3.0). The interface can change in the future.\n",
      "\n",
      "C:\\Users\\cacic\\AppData\\Local\\Temp\\ipykernel_1648\\4150719641.py:94: ExperimentalWarning:\n",
      "\n",
      "upload_artifact is experimental (supported from v3.3.0). The interface can change in the future.\n",
      "\n",
      "[I 2024-08-10 13:02:32,808] Trial 33 finished with value: 0.33638322871194043 and parameters: {'lambda_l1': 7.537242509801362e-05, 'lambda_l2': 1.3311619599288067e-08, 'num_leaves': 237, 'feature_fraction': 0.7108322274299982, 'bagging_fraction': 0.951507851341578, 'bagging_freq': 4, 'min_child_samples': 16}. Best is trial 27 with value: 0.35992669262803095.\n",
      "C:\\Users\\cacic\\AppData\\Local\\Temp\\ipykernel_1648\\4150719641.py:86: ExperimentalWarning:\n",
      "\n",
      "upload_artifact is experimental (supported from v3.3.0). The interface can change in the future.\n",
      "\n",
      "C:\\Users\\cacic\\AppData\\Local\\Temp\\ipykernel_1648\\4150719641.py:94: ExperimentalWarning:\n",
      "\n",
      "upload_artifact is experimental (supported from v3.3.0). The interface can change in the future.\n",
      "\n",
      "[I 2024-08-10 13:02:42,646] Trial 34 finished with value: 0.35401653472837535 and parameters: {'lambda_l1': 2.247174253898696, 'lambda_l2': 0.002774589977909963, 'num_leaves': 107, 'feature_fraction': 0.6276006627637926, 'bagging_fraction': 0.5579849351897139, 'bagging_freq': 3, 'min_child_samples': 61}. Best is trial 27 with value: 0.35992669262803095.\n",
      "C:\\Users\\cacic\\AppData\\Local\\Temp\\ipykernel_1648\\4150719641.py:86: ExperimentalWarning:\n",
      "\n",
      "upload_artifact is experimental (supported from v3.3.0). The interface can change in the future.\n",
      "\n",
      "C:\\Users\\cacic\\AppData\\Local\\Temp\\ipykernel_1648\\4150719641.py:94: ExperimentalWarning:\n",
      "\n",
      "upload_artifact is experimental (supported from v3.3.0). The interface can change in the future.\n",
      "\n",
      "[I 2024-08-10 13:02:52,001] Trial 35 finished with value: 0.35439476849753515 and parameters: {'lambda_l1': 0.7768808812555863, 'lambda_l2': 0.06710696666718517, 'num_leaves': 216, 'feature_fraction': 0.8360548985984847, 'bagging_fraction': 0.8354772234150176, 'bagging_freq': 5, 'min_child_samples': 81}. Best is trial 27 with value: 0.35992669262803095.\n",
      "C:\\Users\\cacic\\AppData\\Local\\Temp\\ipykernel_1648\\4150719641.py:86: ExperimentalWarning:\n",
      "\n",
      "upload_artifact is experimental (supported from v3.3.0). The interface can change in the future.\n",
      "\n",
      "C:\\Users\\cacic\\AppData\\Local\\Temp\\ipykernel_1648\\4150719641.py:94: ExperimentalWarning:\n",
      "\n",
      "upload_artifact is experimental (supported from v3.3.0). The interface can change in the future.\n",
      "\n",
      "[I 2024-08-10 13:03:05,339] Trial 36 finished with value: 0.35438281756752077 and parameters: {'lambda_l1': 0.24370397631008503, 'lambda_l2': 5.089986269276048e-08, 'num_leaves': 149, 'feature_fraction': 0.43063082045115963, 'bagging_fraction': 0.8703606493099343, 'bagging_freq': 3, 'min_child_samples': 86}. Best is trial 27 with value: 0.35992669262803095.\n",
      "C:\\Users\\cacic\\AppData\\Local\\Temp\\ipykernel_1648\\4150719641.py:86: ExperimentalWarning:\n",
      "\n",
      "upload_artifact is experimental (supported from v3.3.0). The interface can change in the future.\n",
      "\n",
      "C:\\Users\\cacic\\AppData\\Local\\Temp\\ipykernel_1648\\4150719641.py:94: ExperimentalWarning:\n",
      "\n",
      "upload_artifact is experimental (supported from v3.3.0). The interface can change in the future.\n",
      "\n",
      "[I 2024-08-10 13:03:17,257] Trial 37 finished with value: 0.35346355485368514 and parameters: {'lambda_l1': 0.022291947294425313, 'lambda_l2': 1.0149012406216298e-08, 'num_leaves': 119, 'feature_fraction': 0.47137061167140043, 'bagging_fraction': 0.9534735599795301, 'bagging_freq': 3, 'min_child_samples': 94}. Best is trial 27 with value: 0.35992669262803095.\n",
      "C:\\Users\\cacic\\AppData\\Local\\Temp\\ipykernel_1648\\4150719641.py:86: ExperimentalWarning:\n",
      "\n",
      "upload_artifact is experimental (supported from v3.3.0). The interface can change in the future.\n",
      "\n",
      "C:\\Users\\cacic\\AppData\\Local\\Temp\\ipykernel_1648\\4150719641.py:94: ExperimentalWarning:\n",
      "\n",
      "upload_artifact is experimental (supported from v3.3.0). The interface can change in the future.\n",
      "\n",
      "[I 2024-08-10 13:03:27,545] Trial 38 finished with value: 0.3542613751906483 and parameters: {'lambda_l1': 0.3194130368229774, 'lambda_l2': 1.0196590197987655e-06, 'num_leaves': 40, 'feature_fraction': 0.42020831376840956, 'bagging_fraction': 0.8949565286351255, 'bagging_freq': 4, 'min_child_samples': 80}. Best is trial 27 with value: 0.35992669262803095.\n",
      "C:\\Users\\cacic\\AppData\\Local\\Temp\\ipykernel_1648\\4150719641.py:86: ExperimentalWarning:\n",
      "\n",
      "upload_artifact is experimental (supported from v3.3.0). The interface can change in the future.\n",
      "\n",
      "C:\\Users\\cacic\\AppData\\Local\\Temp\\ipykernel_1648\\4150719641.py:94: ExperimentalWarning:\n",
      "\n",
      "upload_artifact is experimental (supported from v3.3.0). The interface can change in the future.\n",
      "\n",
      "[I 2024-08-10 13:03:40,560] Trial 39 finished with value: 0.357142452190382 and parameters: {'lambda_l1': 2.84599326402554, 'lambda_l2': 1.1697422876233277e-07, 'num_leaves': 76, 'feature_fraction': 0.4993091084065002, 'bagging_fraction': 0.9631736788710837, 'bagging_freq': 3, 'min_child_samples': 93}. Best is trial 27 with value: 0.35992669262803095.\n",
      "C:\\Users\\cacic\\AppData\\Local\\Temp\\ipykernel_1648\\4150719641.py:86: ExperimentalWarning:\n",
      "\n",
      "upload_artifact is experimental (supported from v3.3.0). The interface can change in the future.\n",
      "\n",
      "C:\\Users\\cacic\\AppData\\Local\\Temp\\ipykernel_1648\\4150719641.py:94: ExperimentalWarning:\n",
      "\n",
      "upload_artifact is experimental (supported from v3.3.0). The interface can change in the future.\n",
      "\n",
      "[I 2024-08-10 13:03:50,987] Trial 40 finished with value: 0.3528655259311899 and parameters: {'lambda_l1': 3.8487770763121665, 'lambda_l2': 1.403418450808895e-07, 'num_leaves': 55, 'feature_fraction': 0.5658385344958454, 'bagging_fraction': 0.9698019467253363, 'bagging_freq': 4, 'min_child_samples': 93}. Best is trial 27 with value: 0.35992669262803095.\n",
      "C:\\Users\\cacic\\AppData\\Local\\Temp\\ipykernel_1648\\4150719641.py:86: ExperimentalWarning:\n",
      "\n",
      "upload_artifact is experimental (supported from v3.3.0). The interface can change in the future.\n",
      "\n",
      "C:\\Users\\cacic\\AppData\\Local\\Temp\\ipykernel_1648\\4150719641.py:94: ExperimentalWarning:\n",
      "\n",
      "upload_artifact is experimental (supported from v3.3.0). The interface can change in the future.\n",
      "\n",
      "[I 2024-08-10 13:04:00,476] Trial 41 finished with value: 0.35445411831738144 and parameters: {'lambda_l1': 2.3053809491560213, 'lambda_l2': 3.5788612314287438e-06, 'num_leaves': 53, 'feature_fraction': 0.5161113370966626, 'bagging_fraction': 0.7742178378462464, 'bagging_freq': 5, 'min_child_samples': 47}. Best is trial 27 with value: 0.35992669262803095.\n",
      "C:\\Users\\cacic\\AppData\\Local\\Temp\\ipykernel_1648\\4150719641.py:86: ExperimentalWarning:\n",
      "\n",
      "upload_artifact is experimental (supported from v3.3.0). The interface can change in the future.\n",
      "\n",
      "C:\\Users\\cacic\\AppData\\Local\\Temp\\ipykernel_1648\\4150719641.py:94: ExperimentalWarning:\n",
      "\n",
      "upload_artifact is experimental (supported from v3.3.0). The interface can change in the future.\n",
      "\n",
      "[I 2024-08-10 13:04:11,747] Trial 42 finished with value: 0.34080844275678396 and parameters: {'lambda_l1': 1.2988170075758383e-06, 'lambda_l2': 8.732261135800938e-07, 'num_leaves': 4, 'feature_fraction': 0.6485025052598599, 'bagging_fraction': 0.967100571304124, 'bagging_freq': 2, 'min_child_samples': 96}. Best is trial 27 with value: 0.35992669262803095.\n",
      "C:\\Users\\cacic\\AppData\\Local\\Temp\\ipykernel_1648\\4150719641.py:86: ExperimentalWarning:\n",
      "\n",
      "upload_artifact is experimental (supported from v3.3.0). The interface can change in the future.\n",
      "\n",
      "C:\\Users\\cacic\\AppData\\Local\\Temp\\ipykernel_1648\\4150719641.py:94: ExperimentalWarning:\n",
      "\n",
      "upload_artifact is experimental (supported from v3.3.0). The interface can change in the future.\n",
      "\n",
      "[I 2024-08-10 13:04:21,647] Trial 43 finished with value: 0.3509967974170513 and parameters: {'lambda_l1': 1.669574989189738e-05, 'lambda_l2': 8.641659184541096, 'num_leaves': 87, 'feature_fraction': 0.691459145212947, 'bagging_fraction': 0.9104216647813372, 'bagging_freq': 4, 'min_child_samples': 90}. Best is trial 27 with value: 0.35992669262803095.\n",
      "C:\\Users\\cacic\\AppData\\Local\\Temp\\ipykernel_1648\\4150719641.py:86: ExperimentalWarning:\n",
      "\n",
      "upload_artifact is experimental (supported from v3.3.0). The interface can change in the future.\n",
      "\n",
      "C:\\Users\\cacic\\AppData\\Local\\Temp\\ipykernel_1648\\4150719641.py:94: ExperimentalWarning:\n",
      "\n",
      "upload_artifact is experimental (supported from v3.3.0). The interface can change in the future.\n",
      "\n",
      "[I 2024-08-10 13:04:30,443] Trial 44 finished with value: 0.35532873003592946 and parameters: {'lambda_l1': 0.01246989314645609, 'lambda_l2': 0.00020369547526129475, 'num_leaves': 63, 'feature_fraction': 0.569233285006119, 'bagging_fraction': 0.7265161256264685, 'bagging_freq': 6, 'min_child_samples': 57}. Best is trial 27 with value: 0.35992669262803095.\n",
      "C:\\Users\\cacic\\AppData\\Local\\Temp\\ipykernel_1648\\4150719641.py:86: ExperimentalWarning:\n",
      "\n",
      "upload_artifact is experimental (supported from v3.3.0). The interface can change in the future.\n",
      "\n",
      "C:\\Users\\cacic\\AppData\\Local\\Temp\\ipykernel_1648\\4150719641.py:94: ExperimentalWarning:\n",
      "\n",
      "upload_artifact is experimental (supported from v3.3.0). The interface can change in the future.\n",
      "\n",
      "[I 2024-08-10 13:04:44,196] Trial 45 finished with value: 0.35734579141119305 and parameters: {'lambda_l1': 0.09238972603454801, 'lambda_l2': 9.439661502358668e-08, 'num_leaves': 240, 'feature_fraction': 0.45435685633077577, 'bagging_fraction': 0.6068852135561433, 'bagging_freq': 5, 'min_child_samples': 67}. Best is trial 27 with value: 0.35992669262803095.\n",
      "C:\\Users\\cacic\\AppData\\Local\\Temp\\ipykernel_1648\\4150719641.py:86: ExperimentalWarning:\n",
      "\n",
      "upload_artifact is experimental (supported from v3.3.0). The interface can change in the future.\n",
      "\n",
      "C:\\Users\\cacic\\AppData\\Local\\Temp\\ipykernel_1648\\4150719641.py:94: ExperimentalWarning:\n",
      "\n",
      "upload_artifact is experimental (supported from v3.3.0). The interface can change in the future.\n",
      "\n",
      "[I 2024-08-10 13:04:59,534] Trial 46 finished with value: 0.355222209826937 and parameters: {'lambda_l1': 1.0681359703852729, 'lambda_l2': 1.2106279856134148e-07, 'num_leaves': 240, 'feature_fraction': 0.4835305886017222, 'bagging_fraction': 0.5919124785920128, 'bagging_freq': 5, 'min_child_samples': 67}. Best is trial 27 with value: 0.35992669262803095.\n",
      "C:\\Users\\cacic\\AppData\\Local\\Temp\\ipykernel_1648\\4150719641.py:86: ExperimentalWarning:\n",
      "\n",
      "upload_artifact is experimental (supported from v3.3.0). The interface can change in the future.\n",
      "\n",
      "C:\\Users\\cacic\\AppData\\Local\\Temp\\ipykernel_1648\\4150719641.py:94: ExperimentalWarning:\n",
      "\n",
      "upload_artifact is experimental (supported from v3.3.0). The interface can change in the future.\n",
      "\n",
      "[I 2024-08-10 13:05:08,819] Trial 47 finished with value: 0.34350593387474365 and parameters: {'lambda_l1': 0.088545841224295, 'lambda_l2': 5.911074117383717e-07, 'num_leaves': 246, 'feature_fraction': 0.45483467619532525, 'bagging_fraction': 0.4016063753274107, 'bagging_freq': 5, 'min_child_samples': 77}. Best is trial 27 with value: 0.35992669262803095.\n",
      "C:\\Users\\cacic\\AppData\\Local\\Temp\\ipykernel_1648\\4150719641.py:86: ExperimentalWarning:\n",
      "\n",
      "upload_artifact is experimental (supported from v3.3.0). The interface can change in the future.\n",
      "\n",
      "C:\\Users\\cacic\\AppData\\Local\\Temp\\ipykernel_1648\\4150719641.py:94: ExperimentalWarning:\n",
      "\n",
      "upload_artifact is experimental (supported from v3.3.0). The interface can change in the future.\n",
      "\n",
      "[I 2024-08-10 13:05:18,706] Trial 48 finished with value: 0.3560199631891796 and parameters: {'lambda_l1': 3.8327976117358467, 'lambda_l2': 8.121037672387524e-08, 'num_leaves': 210, 'feature_fraction': 0.5351469367672707, 'bagging_fraction': 0.6377500698645174, 'bagging_freq': 4, 'min_child_samples': 58}. Best is trial 27 with value: 0.35992669262803095.\n",
      "C:\\Users\\cacic\\AppData\\Local\\Temp\\ipykernel_1648\\4150719641.py:86: ExperimentalWarning:\n",
      "\n",
      "upload_artifact is experimental (supported from v3.3.0). The interface can change in the future.\n",
      "\n",
      "C:\\Users\\cacic\\AppData\\Local\\Temp\\ipykernel_1648\\4150719641.py:94: ExperimentalWarning:\n",
      "\n",
      "upload_artifact is experimental (supported from v3.3.0). The interface can change in the future.\n",
      "\n",
      "[I 2024-08-10 13:05:28,662] Trial 49 finished with value: 0.3393653156425423 and parameters: {'lambda_l1': 8.756055637404351, 'lambda_l2': 4.036820353510482e-06, 'num_leaves': 219, 'feature_fraction': 0.577344191049571, 'bagging_fraction': 0.5140602958214535, 'bagging_freq': 6, 'min_child_samples': 53}. Best is trial 27 with value: 0.35992669262803095.\n",
      "C:\\Users\\cacic\\AppData\\Local\\Temp\\ipykernel_1648\\4150719641.py:86: ExperimentalWarning:\n",
      "\n",
      "upload_artifact is experimental (supported from v3.3.0). The interface can change in the future.\n",
      "\n",
      "C:\\Users\\cacic\\AppData\\Local\\Temp\\ipykernel_1648\\4150719641.py:94: ExperimentalWarning:\n",
      "\n",
      "upload_artifact is experimental (supported from v3.3.0). The interface can change in the future.\n",
      "\n",
      "[I 2024-08-10 13:05:36,376] Trial 50 finished with value: 0.34090237783039046 and parameters: {'lambda_l1': 0.7088789425767751, 'lambda_l2': 1.570692972781566e-05, 'num_leaves': 188, 'feature_fraction': 0.994266124941428, 'bagging_fraction': 0.6213908659257676, 'bagging_freq': 5, 'min_child_samples': 69}. Best is trial 27 with value: 0.35992669262803095.\n",
      "C:\\Users\\cacic\\AppData\\Local\\Temp\\ipykernel_1648\\4150719641.py:86: ExperimentalWarning:\n",
      "\n",
      "upload_artifact is experimental (supported from v3.3.0). The interface can change in the future.\n",
      "\n",
      "C:\\Users\\cacic\\AppData\\Local\\Temp\\ipykernel_1648\\4150719641.py:94: ExperimentalWarning:\n",
      "\n",
      "upload_artifact is experimental (supported from v3.3.0). The interface can change in the future.\n",
      "\n",
      "[I 2024-08-10 13:05:49,306] Trial 51 finished with value: 0.3540784987843146 and parameters: {'lambda_l1': 9.492451142385959e-08, 'lambda_l2': 4.0039449667125297e-07, 'num_leaves': 243, 'feature_fraction': 0.644581595826589, 'bagging_fraction': 0.9717408666780016, 'bagging_freq': 4, 'min_child_samples': 34}. Best is trial 27 with value: 0.35992669262803095.\n",
      "C:\\Users\\cacic\\AppData\\Local\\Temp\\ipykernel_1648\\4150719641.py:86: ExperimentalWarning:\n",
      "\n",
      "upload_artifact is experimental (supported from v3.3.0). The interface can change in the future.\n",
      "\n",
      "C:\\Users\\cacic\\AppData\\Local\\Temp\\ipykernel_1648\\4150719641.py:94: ExperimentalWarning:\n",
      "\n",
      "upload_artifact is experimental (supported from v3.3.0). The interface can change in the future.\n",
      "\n",
      "[I 2024-08-10 13:06:00,045] Trial 52 finished with value: 0.3481059073581459 and parameters: {'lambda_l1': 0.002059809314187533, 'lambda_l2': 1.424113970356189e-06, 'num_leaves': 165, 'feature_fraction': 0.4554250037244735, 'bagging_fraction': 0.6726918467667024, 'bagging_freq': 3, 'min_child_samples': 89}. Best is trial 27 with value: 0.35992669262803095.\n",
      "C:\\Users\\cacic\\AppData\\Local\\Temp\\ipykernel_1648\\4150719641.py:86: ExperimentalWarning:\n",
      "\n",
      "upload_artifact is experimental (supported from v3.3.0). The interface can change in the future.\n",
      "\n",
      "C:\\Users\\cacic\\AppData\\Local\\Temp\\ipykernel_1648\\4150719641.py:94: ExperimentalWarning:\n",
      "\n",
      "upload_artifact is experimental (supported from v3.3.0). The interface can change in the future.\n",
      "\n",
      "[I 2024-08-10 13:06:08,247] Trial 53 finished with value: 0.34922533669651723 and parameters: {'lambda_l1': 1.846704892323939, 'lambda_l2': 7.070755677781469e-06, 'num_leaves': 245, 'feature_fraction': 0.5066780840862002, 'bagging_fraction': 0.5415647063853793, 'bagging_freq': 5, 'min_child_samples': 97}. Best is trial 27 with value: 0.35992669262803095.\n",
      "C:\\Users\\cacic\\AppData\\Local\\Temp\\ipykernel_1648\\4150719641.py:86: ExperimentalWarning:\n",
      "\n",
      "upload_artifact is experimental (supported from v3.3.0). The interface can change in the future.\n",
      "\n",
      "C:\\Users\\cacic\\AppData\\Local\\Temp\\ipykernel_1648\\4150719641.py:94: ExperimentalWarning:\n",
      "\n",
      "upload_artifact is experimental (supported from v3.3.0). The interface can change in the future.\n",
      "\n",
      "[I 2024-08-10 13:06:21,605] Trial 54 finished with value: 0.3613473113474138 and parameters: {'lambda_l1': 0.12399209778114226, 'lambda_l2': 5.4766596177611824e-08, 'num_leaves': 218, 'feature_fraction': 0.5413424980072008, 'bagging_fraction': 0.9873369748871934, 'bagging_freq': 7, 'min_child_samples': 49}. Best is trial 54 with value: 0.3613473113474138.\n",
      "C:\\Users\\cacic\\AppData\\Local\\Temp\\ipykernel_1648\\4150719641.py:86: ExperimentalWarning:\n",
      "\n",
      "upload_artifact is experimental (supported from v3.3.0). The interface can change in the future.\n",
      "\n",
      "C:\\Users\\cacic\\AppData\\Local\\Temp\\ipykernel_1648\\4150719641.py:94: ExperimentalWarning:\n",
      "\n",
      "upload_artifact is experimental (supported from v3.3.0). The interface can change in the future.\n",
      "\n",
      "[I 2024-08-10 13:06:31,393] Trial 55 finished with value: 0.35833498216096193 and parameters: {'lambda_l1': 0.11636766588068612, 'lambda_l2': 2.7412832252387312e-08, 'num_leaves': 36, 'feature_fraction': 0.5502117394308123, 'bagging_fraction': 0.9874930756671102, 'bagging_freq': 7, 'min_child_samples': 50}. Best is trial 54 with value: 0.3613473113474138.\n",
      "C:\\Users\\cacic\\AppData\\Local\\Temp\\ipykernel_1648\\4150719641.py:86: ExperimentalWarning:\n",
      "\n",
      "upload_artifact is experimental (supported from v3.3.0). The interface can change in the future.\n",
      "\n",
      "C:\\Users\\cacic\\AppData\\Local\\Temp\\ipykernel_1648\\4150719641.py:94: ExperimentalWarning:\n",
      "\n",
      "upload_artifact is experimental (supported from v3.3.0). The interface can change in the future.\n",
      "\n",
      "[I 2024-08-10 13:06:40,389] Trial 56 finished with value: 0.357821481210356 and parameters: {'lambda_l1': 0.04198024557044981, 'lambda_l2': 2.8937051022366497e-08, 'num_leaves': 28, 'feature_fraction': 0.545257036721877, 'bagging_fraction': 0.9936457514552908, 'bagging_freq': 7, 'min_child_samples': 50}. Best is trial 54 with value: 0.3613473113474138.\n",
      "C:\\Users\\cacic\\AppData\\Local\\Temp\\ipykernel_1648\\4150719641.py:86: ExperimentalWarning:\n",
      "\n",
      "upload_artifact is experimental (supported from v3.3.0). The interface can change in the future.\n",
      "\n",
      "C:\\Users\\cacic\\AppData\\Local\\Temp\\ipykernel_1648\\4150719641.py:94: ExperimentalWarning:\n",
      "\n",
      "upload_artifact is experimental (supported from v3.3.0). The interface can change in the future.\n",
      "\n",
      "[I 2024-08-10 13:06:49,888] Trial 57 finished with value: 0.35459453753440034 and parameters: {'lambda_l1': 0.042906263010823786, 'lambda_l2': 2.210731443331006e-08, 'num_leaves': 26, 'feature_fraction': 0.5409699345249752, 'bagging_fraction': 0.995334097027474, 'bagging_freq': 7, 'min_child_samples': 48}. Best is trial 54 with value: 0.3613473113474138.\n",
      "C:\\Users\\cacic\\AppData\\Local\\Temp\\ipykernel_1648\\4150719641.py:86: ExperimentalWarning:\n",
      "\n",
      "upload_artifact is experimental (supported from v3.3.0). The interface can change in the future.\n",
      "\n",
      "C:\\Users\\cacic\\AppData\\Local\\Temp\\ipykernel_1648\\4150719641.py:94: ExperimentalWarning:\n",
      "\n",
      "upload_artifact is experimental (supported from v3.3.0). The interface can change in the future.\n",
      "\n",
      "[I 2024-08-10 13:06:58,037] Trial 58 finished with value: 0.34832130278119905 and parameters: {'lambda_l1': 0.12439909266040208, 'lambda_l2': 5.333955892993096e-08, 'num_leaves': 12, 'feature_fraction': 0.5547238556189567, 'bagging_fraction': 0.9875443671747499, 'bagging_freq': 7, 'min_child_samples': 51}. Best is trial 54 with value: 0.3613473113474138.\n",
      "C:\\Users\\cacic\\AppData\\Local\\Temp\\ipykernel_1648\\4150719641.py:86: ExperimentalWarning:\n",
      "\n",
      "upload_artifact is experimental (supported from v3.3.0). The interface can change in the future.\n",
      "\n",
      "C:\\Users\\cacic\\AppData\\Local\\Temp\\ipykernel_1648\\4150719641.py:94: ExperimentalWarning:\n",
      "\n",
      "upload_artifact is experimental (supported from v3.3.0). The interface can change in the future.\n",
      "\n",
      "[I 2024-08-10 13:07:08,336] Trial 59 finished with value: 0.36293545758482026 and parameters: {'lambda_l1': 0.36974826476491224, 'lambda_l2': 2.1879926908471404e-07, 'num_leaves': 30, 'feature_fraction': 0.5256032086376705, 'bagging_fraction': 0.9385169480656886, 'bagging_freq': 7, 'min_child_samples': 45}. Best is trial 59 with value: 0.36293545758482026.\n",
      "C:\\Users\\cacic\\AppData\\Local\\Temp\\ipykernel_1648\\4150719641.py:86: ExperimentalWarning:\n",
      "\n",
      "upload_artifact is experimental (supported from v3.3.0). The interface can change in the future.\n",
      "\n",
      "C:\\Users\\cacic\\AppData\\Local\\Temp\\ipykernel_1648\\4150719641.py:94: ExperimentalWarning:\n",
      "\n",
      "upload_artifact is experimental (supported from v3.3.0). The interface can change in the future.\n",
      "\n",
      "[I 2024-08-10 13:07:17,393] Trial 60 finished with value: 0.35898220616523047 and parameters: {'lambda_l1': 0.43225079265389216, 'lambda_l2': 2.836823680729732e-07, 'num_leaves': 33, 'feature_fraction': 0.5262485048665859, 'bagging_fraction': 0.9373367392421007, 'bagging_freq': 7, 'min_child_samples': 35}. Best is trial 59 with value: 0.36293545758482026.\n",
      "C:\\Users\\cacic\\AppData\\Local\\Temp\\ipykernel_1648\\4150719641.py:86: ExperimentalWarning:\n",
      "\n",
      "upload_artifact is experimental (supported from v3.3.0). The interface can change in the future.\n",
      "\n",
      "C:\\Users\\cacic\\AppData\\Local\\Temp\\ipykernel_1648\\4150719641.py:94: ExperimentalWarning:\n",
      "\n",
      "upload_artifact is experimental (supported from v3.3.0). The interface can change in the future.\n",
      "\n",
      "[I 2024-08-10 13:07:24,584] Trial 61 finished with value: 0.35201454051205594 and parameters: {'lambda_l1': 0.3488797395377309, 'lambda_l2': 4.3249379977768577e-07, 'num_leaves': 41, 'feature_fraction': 0.586236133981067, 'bagging_fraction': 0.9092813130508272, 'bagging_freq': 7, 'min_child_samples': 30}. Best is trial 59 with value: 0.36293545758482026.\n",
      "C:\\Users\\cacic\\AppData\\Local\\Temp\\ipykernel_1648\\4150719641.py:86: ExperimentalWarning:\n",
      "\n",
      "upload_artifact is experimental (supported from v3.3.0). The interface can change in the future.\n",
      "\n",
      "C:\\Users\\cacic\\AppData\\Local\\Temp\\ipykernel_1648\\4150719641.py:94: ExperimentalWarning:\n",
      "\n",
      "upload_artifact is experimental (supported from v3.3.0). The interface can change in the future.\n",
      "\n",
      "[I 2024-08-10 13:07:34,574] Trial 62 finished with value: 0.3608920470486848 and parameters: {'lambda_l1': 0.5564276218352908, 'lambda_l2': 2.347439913378604e-07, 'num_leaves': 39, 'feature_fraction': 0.5270385029007618, 'bagging_fraction': 0.9415635075964517, 'bagging_freq': 7, 'min_child_samples': 38}. Best is trial 59 with value: 0.36293545758482026.\n",
      "C:\\Users\\cacic\\AppData\\Local\\Temp\\ipykernel_1648\\4150719641.py:86: ExperimentalWarning:\n",
      "\n",
      "upload_artifact is experimental (supported from v3.3.0). The interface can change in the future.\n",
      "\n",
      "C:\\Users\\cacic\\AppData\\Local\\Temp\\ipykernel_1648\\4150719641.py:94: ExperimentalWarning:\n",
      "\n",
      "upload_artifact is experimental (supported from v3.3.0). The interface can change in the future.\n",
      "\n",
      "[I 2024-08-10 13:07:42,664] Trial 63 finished with value: 0.35485110932521163 and parameters: {'lambda_l1': 0.5019407745113025, 'lambda_l2': 2.0877444761075206e-06, 'num_leaves': 74, 'feature_fraction': 0.6259011708893517, 'bagging_fraction': 0.9364112469919942, 'bagging_freq': 7, 'min_child_samples': 38}. Best is trial 59 with value: 0.36293545758482026.\n",
      "C:\\Users\\cacic\\AppData\\Local\\Temp\\ipykernel_1648\\4150719641.py:86: ExperimentalWarning:\n",
      "\n",
      "upload_artifact is experimental (supported from v3.3.0). The interface can change in the future.\n",
      "\n",
      "C:\\Users\\cacic\\AppData\\Local\\Temp\\ipykernel_1648\\4150719641.py:94: ExperimentalWarning:\n",
      "\n",
      "upload_artifact is experimental (supported from v3.3.0). The interface can change in the future.\n",
      "\n",
      "[I 2024-08-10 13:07:54,569] Trial 64 finished with value: 0.3585781096266719 and parameters: {'lambda_l1': 0.9767064269910893, 'lambda_l2': 2.1864755220080806e-07, 'num_leaves': 11, 'feature_fraction': 0.5194300362261857, 'bagging_fraction': 0.8433120071466741, 'bagging_freq': 6, 'min_child_samples': 25}. Best is trial 59 with value: 0.36293545758482026.\n",
      "C:\\Users\\cacic\\AppData\\Local\\Temp\\ipykernel_1648\\4150719641.py:86: ExperimentalWarning:\n",
      "\n",
      "upload_artifact is experimental (supported from v3.3.0). The interface can change in the future.\n",
      "\n",
      "C:\\Users\\cacic\\AppData\\Local\\Temp\\ipykernel_1648\\4150719641.py:94: ExperimentalWarning:\n",
      "\n",
      "upload_artifact is experimental (supported from v3.3.0). The interface can change in the future.\n",
      "\n",
      "[I 2024-08-10 13:08:03,109] Trial 65 finished with value: 0.35742640463506453 and parameters: {'lambda_l1': 0.2062892741193627, 'lambda_l2': 1.9963824416374914e-07, 'num_leaves': 54, 'feature_fraction': 0.672881370374209, 'bagging_fraction': 0.8884970324855291, 'bagging_freq': 6, 'min_child_samples': 18}. Best is trial 59 with value: 0.36293545758482026.\n",
      "C:\\Users\\cacic\\AppData\\Local\\Temp\\ipykernel_1648\\4150719641.py:86: ExperimentalWarning:\n",
      "\n",
      "upload_artifact is experimental (supported from v3.3.0). The interface can change in the future.\n",
      "\n",
      "C:\\Users\\cacic\\AppData\\Local\\Temp\\ipykernel_1648\\4150719641.py:94: ExperimentalWarning:\n",
      "\n",
      "upload_artifact is experimental (supported from v3.3.0). The interface can change in the future.\n",
      "\n",
      "[I 2024-08-10 13:08:13,716] Trial 66 finished with value: 0.35809306843972244 and parameters: {'lambda_l1': 1.1880938611379372, 'lambda_l2': 2.5385369603779056e-07, 'num_leaves': 16, 'feature_fraction': 0.5194930388713104, 'bagging_fraction': 0.9375752361505114, 'bagging_freq': 6, 'min_child_samples': 23}. Best is trial 59 with value: 0.36293545758482026.\n",
      "C:\\Users\\cacic\\AppData\\Local\\Temp\\ipykernel_1648\\4150719641.py:86: ExperimentalWarning:\n",
      "\n",
      "upload_artifact is experimental (supported from v3.3.0). The interface can change in the future.\n",
      "\n",
      "C:\\Users\\cacic\\AppData\\Local\\Temp\\ipykernel_1648\\4150719641.py:94: ExperimentalWarning:\n",
      "\n",
      "upload_artifact is experimental (supported from v3.3.0). The interface can change in the future.\n",
      "\n",
      "[I 2024-08-10 13:08:23,070] Trial 67 finished with value: 0.3428444236216713 and parameters: {'lambda_l1': 4.719374751244262, 'lambda_l2': 5.699336568780872e-08, 'num_leaves': 6, 'feature_fraction': 0.5292882783333925, 'bagging_fraction': 0.8544668861273726, 'bagging_freq': 7, 'min_child_samples': 45}. Best is trial 59 with value: 0.36293545758482026.\n",
      "C:\\Users\\cacic\\AppData\\Local\\Temp\\ipykernel_1648\\4150719641.py:86: ExperimentalWarning:\n",
      "\n",
      "upload_artifact is experimental (supported from v3.3.0). The interface can change in the future.\n",
      "\n",
      "C:\\Users\\cacic\\AppData\\Local\\Temp\\ipykernel_1648\\4150719641.py:94: ExperimentalWarning:\n",
      "\n",
      "upload_artifact is experimental (supported from v3.3.0). The interface can change in the future.\n",
      "\n",
      "[I 2024-08-10 13:08:31,955] Trial 68 finished with value: 0.36327815684735487 and parameters: {'lambda_l1': 0.5717844400080597, 'lambda_l2': 8.676019998630375e-07, 'num_leaves': 24, 'feature_fraction': 0.4929862913897541, 'bagging_fraction': 0.9002159045370448, 'bagging_freq': 7, 'min_child_samples': 38}. Best is trial 68 with value: 0.36327815684735487.\n",
      "C:\\Users\\cacic\\AppData\\Local\\Temp\\ipykernel_1648\\4150719641.py:86: ExperimentalWarning:\n",
      "\n",
      "upload_artifact is experimental (supported from v3.3.0). The interface can change in the future.\n",
      "\n",
      "C:\\Users\\cacic\\AppData\\Local\\Temp\\ipykernel_1648\\4150719641.py:94: ExperimentalWarning:\n",
      "\n",
      "upload_artifact is experimental (supported from v3.3.0). The interface can change in the future.\n",
      "\n",
      "[I 2024-08-10 13:08:40,843] Trial 69 finished with value: 0.35644749976224444 and parameters: {'lambda_l1': 0.4806208043771136, 'lambda_l2': 6.679851107064618e-07, 'num_leaves': 31, 'feature_fraction': 0.4817992715962862, 'bagging_fraction': 0.9022712286833432, 'bagging_freq': 7, 'min_child_samples': 36}. Best is trial 68 with value: 0.36327815684735487.\n",
      "C:\\Users\\cacic\\AppData\\Local\\Temp\\ipykernel_1648\\4150719641.py:86: ExperimentalWarning:\n",
      "\n",
      "upload_artifact is experimental (supported from v3.3.0). The interface can change in the future.\n",
      "\n",
      "C:\\Users\\cacic\\AppData\\Local\\Temp\\ipykernel_1648\\4150719641.py:94: ExperimentalWarning:\n",
      "\n",
      "upload_artifact is experimental (supported from v3.3.0). The interface can change in the future.\n",
      "\n",
      "[I 2024-08-10 13:08:49,093] Trial 70 finished with value: 0.35036774721987435 and parameters: {'lambda_l1': 5.424181247810508, 'lambda_l2': 1.8157770852649693e-06, 'num_leaves': 24, 'feature_fraction': 0.5988692867106825, 'bagging_fraction': 0.9487976742469725, 'bagging_freq': 7, 'min_child_samples': 44}. Best is trial 68 with value: 0.36327815684735487.\n",
      "C:\\Users\\cacic\\AppData\\Local\\Temp\\ipykernel_1648\\4150719641.py:86: ExperimentalWarning:\n",
      "\n",
      "upload_artifact is experimental (supported from v3.3.0). The interface can change in the future.\n",
      "\n",
      "C:\\Users\\cacic\\AppData\\Local\\Temp\\ipykernel_1648\\4150719641.py:94: ExperimentalWarning:\n",
      "\n",
      "upload_artifact is experimental (supported from v3.3.0). The interface can change in the future.\n",
      "\n",
      "[I 2024-08-10 13:09:00,302] Trial 71 finished with value: 0.36090379603150835 and parameters: {'lambda_l1': 1.5131778164991077, 'lambda_l2': 6.167725944321965e-06, 'num_leaves': 46, 'feature_fraction': 0.4921447293757917, 'bagging_fraction': 0.9244360904572837, 'bagging_freq': 7, 'min_child_samples': 39}. Best is trial 68 with value: 0.36327815684735487.\n",
      "C:\\Users\\cacic\\AppData\\Local\\Temp\\ipykernel_1648\\4150719641.py:86: ExperimentalWarning:\n",
      "\n",
      "upload_artifact is experimental (supported from v3.3.0). The interface can change in the future.\n",
      "\n",
      "C:\\Users\\cacic\\AppData\\Local\\Temp\\ipykernel_1648\\4150719641.py:94: ExperimentalWarning:\n",
      "\n",
      "upload_artifact is experimental (supported from v3.3.0). The interface can change in the future.\n",
      "\n",
      "[I 2024-08-10 13:09:11,667] Trial 72 finished with value: 0.3609962007462417 and parameters: {'lambda_l1': 0.020190966993691748, 'lambda_l2': 1.1274945701014856e-06, 'num_leaves': 43, 'feature_fraction': 0.48106038633100384, 'bagging_fraction': 0.9229097163479013, 'bagging_freq': 7, 'min_child_samples': 39}. Best is trial 68 with value: 0.36327815684735487.\n",
      "C:\\Users\\cacic\\AppData\\Local\\Temp\\ipykernel_1648\\4150719641.py:86: ExperimentalWarning:\n",
      "\n",
      "upload_artifact is experimental (supported from v3.3.0). The interface can change in the future.\n",
      "\n",
      "C:\\Users\\cacic\\AppData\\Local\\Temp\\ipykernel_1648\\4150719641.py:94: ExperimentalWarning:\n",
      "\n",
      "upload_artifact is experimental (supported from v3.3.0). The interface can change in the future.\n",
      "\n",
      "[I 2024-08-10 13:09:21,573] Trial 73 finished with value: 0.3538193467840591 and parameters: {'lambda_l1': 0.010000339176748264, 'lambda_l2': 1.0310821500862535e-05, 'num_leaves': 48, 'feature_fraction': 0.4405771318636535, 'bagging_fraction': 0.8059188792950163, 'bagging_freq': 6, 'min_child_samples': 30}. Best is trial 68 with value: 0.36327815684735487.\n",
      "C:\\Users\\cacic\\AppData\\Local\\Temp\\ipykernel_1648\\4150719641.py:86: ExperimentalWarning:\n",
      "\n",
      "upload_artifact is experimental (supported from v3.3.0). The interface can change in the future.\n",
      "\n",
      "C:\\Users\\cacic\\AppData\\Local\\Temp\\ipykernel_1648\\4150719641.py:94: ExperimentalWarning:\n",
      "\n",
      "upload_artifact is experimental (supported from v3.3.0). The interface can change in the future.\n",
      "\n",
      "[I 2024-08-10 13:09:31,645] Trial 74 finished with value: 0.3569968311424134 and parameters: {'lambda_l1': 0.020736341179178927, 'lambda_l2': 9.132851213754296e-07, 'num_leaves': 19, 'feature_fraction': 0.4054123789010997, 'bagging_fraction': 0.8872138304532656, 'bagging_freq': 7, 'min_child_samples': 38}. Best is trial 68 with value: 0.36327815684735487.\n",
      "C:\\Users\\cacic\\AppData\\Local\\Temp\\ipykernel_1648\\4150719641.py:86: ExperimentalWarning:\n",
      "\n",
      "upload_artifact is experimental (supported from v3.3.0). The interface can change in the future.\n",
      "\n",
      "C:\\Users\\cacic\\AppData\\Local\\Temp\\ipykernel_1648\\4150719641.py:94: ExperimentalWarning:\n",
      "\n",
      "upload_artifact is experimental (supported from v3.3.0). The interface can change in the future.\n",
      "\n",
      "[I 2024-08-10 13:09:42,849] Trial 75 finished with value: 0.3604900062093359 and parameters: {'lambda_l1': 0.004525878987162844, 'lambda_l2': 1.8669937151556318e-06, 'num_leaves': 64, 'feature_fraction': 0.4861515501657273, 'bagging_fraction': 0.9218078022612537, 'bagging_freq': 7, 'min_child_samples': 40}. Best is trial 68 with value: 0.36327815684735487.\n",
      "C:\\Users\\cacic\\AppData\\Local\\Temp\\ipykernel_1648\\4150719641.py:86: ExperimentalWarning:\n",
      "\n",
      "upload_artifact is experimental (supported from v3.3.0). The interface can change in the future.\n",
      "\n",
      "C:\\Users\\cacic\\AppData\\Local\\Temp\\ipykernel_1648\\4150719641.py:94: ExperimentalWarning:\n",
      "\n",
      "upload_artifact is experimental (supported from v3.3.0). The interface can change in the future.\n",
      "\n",
      "[I 2024-08-10 13:09:52,422] Trial 76 finished with value: 0.3540709851198128 and parameters: {'lambda_l1': 0.00549735371011751, 'lambda_l2': 2.9787443060378894e-06, 'num_leaves': 69, 'feature_fraction': 0.47940478130179404, 'bagging_fraction': 0.9296230154544307, 'bagging_freq': 7, 'min_child_samples': 43}. Best is trial 68 with value: 0.36327815684735487.\n",
      "C:\\Users\\cacic\\AppData\\Local\\Temp\\ipykernel_1648\\4150719641.py:86: ExperimentalWarning:\n",
      "\n",
      "upload_artifact is experimental (supported from v3.3.0). The interface can change in the future.\n",
      "\n",
      "C:\\Users\\cacic\\AppData\\Local\\Temp\\ipykernel_1648\\4150719641.py:94: ExperimentalWarning:\n",
      "\n",
      "upload_artifact is experimental (supported from v3.3.0). The interface can change in the future.\n",
      "\n",
      "[I 2024-08-10 13:10:02,610] Trial 77 finished with value: 0.35560574944195833 and parameters: {'lambda_l1': 0.0019512962020011566, 'lambda_l2': 1.2973250098026849e-06, 'num_leaves': 45, 'feature_fraction': 0.4915830606696207, 'bagging_fraction': 0.9233382169928737, 'bagging_freq': 7, 'min_child_samples': 40}. Best is trial 68 with value: 0.36327815684735487.\n",
      "C:\\Users\\cacic\\AppData\\Local\\Temp\\ipykernel_1648\\4150719641.py:86: ExperimentalWarning:\n",
      "\n",
      "upload_artifact is experimental (supported from v3.3.0). The interface can change in the future.\n",
      "\n",
      "C:\\Users\\cacic\\AppData\\Local\\Temp\\ipykernel_1648\\4150719641.py:94: ExperimentalWarning:\n",
      "\n",
      "upload_artifact is experimental (supported from v3.3.0). The interface can change in the future.\n",
      "\n",
      "[I 2024-08-10 13:10:13,998] Trial 78 finished with value: 0.35280931346327044 and parameters: {'lambda_l1': 0.0009294925543168359, 'lambda_l2': 2.6762083249462986e-05, 'num_leaves': 85, 'feature_fraction': 0.4374921641953007, 'bagging_fraction': 0.9675981911444488, 'bagging_freq': 6, 'min_child_samples': 32}. Best is trial 68 with value: 0.36327815684735487.\n",
      "C:\\Users\\cacic\\AppData\\Local\\Temp\\ipykernel_1648\\4150719641.py:86: ExperimentalWarning:\n",
      "\n",
      "upload_artifact is experimental (supported from v3.3.0). The interface can change in the future.\n",
      "\n",
      "C:\\Users\\cacic\\AppData\\Local\\Temp\\ipykernel_1648\\4150719641.py:94: ExperimentalWarning:\n",
      "\n",
      "upload_artifact is experimental (supported from v3.3.0). The interface can change in the future.\n",
      "\n",
      "[I 2024-08-10 13:10:23,535] Trial 79 finished with value: 0.35448724931692516 and parameters: {'lambda_l1': 0.04823147514486143, 'lambda_l2': 6.640758701473824e-06, 'num_leaves': 63, 'feature_fraction': 0.4654181558286322, 'bagging_fraction': 0.9018281193902287, 'bagging_freq': 7, 'min_child_samples': 37}. Best is trial 68 with value: 0.36327815684735487.\n",
      "C:\\Users\\cacic\\AppData\\Local\\Temp\\ipykernel_1648\\4150719641.py:86: ExperimentalWarning:\n",
      "\n",
      "upload_artifact is experimental (supported from v3.3.0). The interface can change in the future.\n",
      "\n",
      "C:\\Users\\cacic\\AppData\\Local\\Temp\\ipykernel_1648\\4150719641.py:94: ExperimentalWarning:\n",
      "\n",
      "upload_artifact is experimental (supported from v3.3.0). The interface can change in the future.\n",
      "\n",
      "[I 2024-08-10 13:10:33,420] Trial 80 finished with value: 0.35170048912123314 and parameters: {'lambda_l1': 0.19874697969825836, 'lambda_l2': 4.5933022849351555e-07, 'num_leaves': 62, 'feature_fraction': 0.5100837814056567, 'bagging_fraction': 0.8607874785353221, 'bagging_freq': 7, 'min_child_samples': 27}. Best is trial 68 with value: 0.36327815684735487.\n",
      "C:\\Users\\cacic\\AppData\\Local\\Temp\\ipykernel_1648\\4150719641.py:86: ExperimentalWarning:\n",
      "\n",
      "upload_artifact is experimental (supported from v3.3.0). The interface can change in the future.\n",
      "\n",
      "C:\\Users\\cacic\\AppData\\Local\\Temp\\ipykernel_1648\\4150719641.py:94: ExperimentalWarning:\n",
      "\n",
      "upload_artifact is experimental (supported from v3.3.0). The interface can change in the future.\n",
      "\n",
      "[I 2024-08-10 13:10:42,450] Trial 81 finished with value: 0.35554469611434325 and parameters: {'lambda_l1': 1.6067306375123795, 'lambda_l2': 2.2958112368649958e-06, 'num_leaves': 38, 'feature_fraction': 0.49264316771690614, 'bagging_fraction': 0.9546055195653385, 'bagging_freq': 7, 'min_child_samples': 55}. Best is trial 68 with value: 0.36327815684735487.\n",
      "C:\\Users\\cacic\\AppData\\Local\\Temp\\ipykernel_1648\\4150719641.py:86: ExperimentalWarning:\n",
      "\n",
      "upload_artifact is experimental (supported from v3.3.0). The interface can change in the future.\n",
      "\n",
      "C:\\Users\\cacic\\AppData\\Local\\Temp\\ipykernel_1648\\4150719641.py:94: ExperimentalWarning:\n",
      "\n",
      "upload_artifact is experimental (supported from v3.3.0). The interface can change in the future.\n",
      "\n",
      "[I 2024-08-10 13:10:51,501] Trial 82 finished with value: 0.3517282091044829 and parameters: {'lambda_l1': 0.07105283664775143, 'lambda_l2': 1.1885860448845558e-07, 'num_leaves': 48, 'feature_fraction': 0.5620101358123379, 'bagging_fraction': 0.9144803513216638, 'bagging_freq': 6, 'min_child_samples': 45}. Best is trial 68 with value: 0.36327815684735487.\n",
      "C:\\Users\\cacic\\AppData\\Local\\Temp\\ipykernel_1648\\4150719641.py:86: ExperimentalWarning:\n",
      "\n",
      "upload_artifact is experimental (supported from v3.3.0). The interface can change in the future.\n",
      "\n",
      "C:\\Users\\cacic\\AppData\\Local\\Temp\\ipykernel_1648\\4150719641.py:94: ExperimentalWarning:\n",
      "\n",
      "upload_artifact is experimental (supported from v3.3.0). The interface can change in the future.\n",
      "\n",
      "[I 2024-08-10 13:11:02,769] Trial 83 finished with value: 0.35253176764361027 and parameters: {'lambda_l1': 0.0036842698495022966, 'lambda_l2': 0.0001094495573830808, 'num_leaves': 128, 'feature_fraction': 0.42166104316593056, 'bagging_fraction': 0.9805956163233385, 'bagging_freq': 7, 'min_child_samples': 40}. Best is trial 68 with value: 0.36327815684735487.\n",
      "C:\\Users\\cacic\\AppData\\Local\\Temp\\ipykernel_1648\\4150719641.py:86: ExperimentalWarning:\n",
      "\n",
      "upload_artifact is experimental (supported from v3.3.0). The interface can change in the future.\n",
      "\n",
      "C:\\Users\\cacic\\AppData\\Local\\Temp\\ipykernel_1648\\4150719641.py:94: ExperimentalWarning:\n",
      "\n",
      "upload_artifact is experimental (supported from v3.3.0). The interface can change in the future.\n",
      "\n",
      "[I 2024-08-10 13:11:11,011] Trial 84 finished with value: 0.34809534959673605 and parameters: {'lambda_l1': 0.0002747601637513722, 'lambda_l2': 0.0007707949364278929, 'num_leaves': 97, 'feature_fraction': 0.8012045890329791, 'bagging_fraction': 0.8826314948656705, 'bagging_freq': 7, 'min_child_samples': 47}. Best is trial 68 with value: 0.36327815684735487.\n",
      "C:\\Users\\cacic\\AppData\\Local\\Temp\\ipykernel_1648\\4150719641.py:86: ExperimentalWarning:\n",
      "\n",
      "upload_artifact is experimental (supported from v3.3.0). The interface can change in the future.\n",
      "\n",
      "C:\\Users\\cacic\\AppData\\Local\\Temp\\ipykernel_1648\\4150719641.py:94: ExperimentalWarning:\n",
      "\n",
      "upload_artifact is experimental (supported from v3.3.0). The interface can change in the future.\n",
      "\n",
      "[I 2024-08-10 13:11:20,908] Trial 85 finished with value: 0.3540692830946166 and parameters: {'lambda_l1': 0.7274871575819495, 'lambda_l2': 7.780817025968249e-07, 'num_leaves': 20, 'feature_fraction': 0.467013519256644, 'bagging_fraction': 0.8140803122884871, 'bagging_freq': 6, 'min_child_samples': 32}. Best is trial 68 with value: 0.36327815684735487.\n",
      "C:\\Users\\cacic\\AppData\\Local\\Temp\\ipykernel_1648\\4150719641.py:86: ExperimentalWarning:\n",
      "\n",
      "upload_artifact is experimental (supported from v3.3.0). The interface can change in the future.\n",
      "\n",
      "C:\\Users\\cacic\\AppData\\Local\\Temp\\ipykernel_1648\\4150719641.py:94: ExperimentalWarning:\n",
      "\n",
      "upload_artifact is experimental (supported from v3.3.0). The interface can change in the future.\n",
      "\n",
      "[I 2024-08-10 13:11:30,680] Trial 86 finished with value: 0.3593558951690587 and parameters: {'lambda_l1': 0.2966217889540194, 'lambda_l2': 2.551551780598793e-07, 'num_leaves': 32, 'feature_fraction': 0.5270812267681464, 'bagging_fraction': 0.9436811070247416, 'bagging_freq': 7, 'min_child_samples': 36}. Best is trial 68 with value: 0.36327815684735487.\n",
      "C:\\Users\\cacic\\AppData\\Local\\Temp\\ipykernel_1648\\4150719641.py:86: ExperimentalWarning:\n",
      "\n",
      "upload_artifact is experimental (supported from v3.3.0). The interface can change in the future.\n",
      "\n",
      "C:\\Users\\cacic\\AppData\\Local\\Temp\\ipykernel_1648\\4150719641.py:94: ExperimentalWarning:\n",
      "\n",
      "upload_artifact is experimental (supported from v3.3.0). The interface can change in the future.\n",
      "\n",
      "[I 2024-08-10 13:11:40,376] Trial 87 finished with value: 0.36449663706686775 and parameters: {'lambda_l1': 0.17354116746766066, 'lambda_l2': 6.060332145734278e-08, 'num_leaves': 45, 'feature_fraction': 0.5050862559847831, 'bagging_fraction': 0.9481329603813421, 'bagging_freq': 7, 'min_child_samples': 42}. Best is trial 87 with value: 0.36449663706686775.\n",
      "C:\\Users\\cacic\\AppData\\Local\\Temp\\ipykernel_1648\\4150719641.py:86: ExperimentalWarning:\n",
      "\n",
      "upload_artifact is experimental (supported from v3.3.0). The interface can change in the future.\n",
      "\n",
      "C:\\Users\\cacic\\AppData\\Local\\Temp\\ipykernel_1648\\4150719641.py:94: ExperimentalWarning:\n",
      "\n",
      "upload_artifact is experimental (supported from v3.3.0). The interface can change in the future.\n",
      "\n",
      "[I 2024-08-10 13:11:50,791] Trial 88 finished with value: 0.3553964657659082 and parameters: {'lambda_l1': 0.015335397459658485, 'lambda_l2': 6.987563248031465e-08, 'num_leaves': 57, 'feature_fraction': 0.5056965274969969, 'bagging_fraction': 0.9634229537979399, 'bagging_freq': 7, 'min_child_samples': 43}. Best is trial 87 with value: 0.36449663706686775.\n",
      "C:\\Users\\cacic\\AppData\\Local\\Temp\\ipykernel_1648\\4150719641.py:86: ExperimentalWarning:\n",
      "\n",
      "upload_artifact is experimental (supported from v3.3.0). The interface can change in the future.\n",
      "\n",
      "C:\\Users\\cacic\\AppData\\Local\\Temp\\ipykernel_1648\\4150719641.py:94: ExperimentalWarning:\n",
      "\n",
      "upload_artifact is experimental (supported from v3.3.0). The interface can change in the future.\n",
      "\n",
      "[I 2024-08-10 13:12:01,653] Trial 89 finished with value: 0.3559555905568457 and parameters: {'lambda_l1': 2.7095042202881845, 'lambda_l2': 4.2533453333524064e-08, 'num_leaves': 44, 'feature_fraction': 0.48396227621676874, 'bagging_fraction': 0.9233551528757132, 'bagging_freq': 7, 'min_child_samples': 41}. Best is trial 87 with value: 0.36449663706686775.\n",
      "C:\\Users\\cacic\\AppData\\Local\\Temp\\ipykernel_1648\\4150719641.py:86: ExperimentalWarning:\n",
      "\n",
      "upload_artifact is experimental (supported from v3.3.0). The interface can change in the future.\n",
      "\n",
      "C:\\Users\\cacic\\AppData\\Local\\Temp\\ipykernel_1648\\4150719641.py:94: ExperimentalWarning:\n",
      "\n",
      "upload_artifact is experimental (supported from v3.3.0). The interface can change in the future.\n",
      "\n",
      "[I 2024-08-10 13:12:12,346] Trial 90 finished with value: 0.3490578693469019 and parameters: {'lambda_l1': 0.17523224221687883, 'lambda_l2': 1.661103873108633e-08, 'num_leaves': 146, 'feature_fraction': 0.4572678760123387, 'bagging_fraction': 0.9779833341778323, 'bagging_freq': 6, 'min_child_samples': 60}. Best is trial 87 with value: 0.36449663706686775.\n",
      "C:\\Users\\cacic\\AppData\\Local\\Temp\\ipykernel_1648\\4150719641.py:86: ExperimentalWarning:\n",
      "\n",
      "upload_artifact is experimental (supported from v3.3.0). The interface can change in the future.\n",
      "\n",
      "C:\\Users\\cacic\\AppData\\Local\\Temp\\ipykernel_1648\\4150719641.py:94: ExperimentalWarning:\n",
      "\n",
      "upload_artifact is experimental (supported from v3.3.0). The interface can change in the future.\n",
      "\n",
      "[I 2024-08-10 13:12:21,481] Trial 91 finished with value: 0.35310059705857383 and parameters: {'lambda_l1': 1.3471725777780463, 'lambda_l2': 1.3185231515314278e-07, 'num_leaves': 25, 'feature_fraction': 0.5006695601288874, 'bagging_fraction': 0.9530591115775828, 'bagging_freq': 7, 'min_child_samples': 46}. Best is trial 87 with value: 0.36449663706686775.\n",
      "C:\\Users\\cacic\\AppData\\Local\\Temp\\ipykernel_1648\\4150719641.py:86: ExperimentalWarning:\n",
      "\n",
      "upload_artifact is experimental (supported from v3.3.0). The interface can change in the future.\n",
      "\n",
      "C:\\Users\\cacic\\AppData\\Local\\Temp\\ipykernel_1648\\4150719641.py:94: ExperimentalWarning:\n",
      "\n",
      "upload_artifact is experimental (supported from v3.3.0). The interface can change in the future.\n",
      "\n",
      "[I 2024-08-10 13:12:30,682] Trial 92 finished with value: 0.3582039343928537 and parameters: {'lambda_l1': 0.06588092218917568, 'lambda_l2': 1.7201915238487806e-07, 'num_leaves': 50, 'feature_fraction': 0.5782832518633273, 'bagging_fraction': 0.898723770798058, 'bagging_freq': 7, 'min_child_samples': 39}. Best is trial 87 with value: 0.36449663706686775.\n",
      "C:\\Users\\cacic\\AppData\\Local\\Temp\\ipykernel_1648\\4150719641.py:86: ExperimentalWarning:\n",
      "\n",
      "upload_artifact is experimental (supported from v3.3.0). The interface can change in the future.\n",
      "\n",
      "C:\\Users\\cacic\\AppData\\Local\\Temp\\ipykernel_1648\\4150719641.py:94: ExperimentalWarning:\n",
      "\n",
      "upload_artifact is experimental (supported from v3.3.0). The interface can change in the future.\n",
      "\n",
      "[I 2024-08-10 13:12:33,545] Trial 93 finished with value: 0.20174890436013004 and parameters: {'lambda_l1': 0.03135190856401598, 'lambda_l2': 4.0469054377313876e-07, 'num_leaves': 2, 'feature_fraction': 0.5405985290432507, 'bagging_fraction': 0.9196477849889791, 'bagging_freq': 7, 'min_child_samples': 49}. Best is trial 87 with value: 0.36449663706686775.\n",
      "C:\\Users\\cacic\\AppData\\Local\\Temp\\ipykernel_1648\\4150719641.py:86: ExperimentalWarning:\n",
      "\n",
      "upload_artifact is experimental (supported from v3.3.0). The interface can change in the future.\n",
      "\n",
      "C:\\Users\\cacic\\AppData\\Local\\Temp\\ipykernel_1648\\4150719641.py:94: ExperimentalWarning:\n",
      "\n",
      "upload_artifact is experimental (supported from v3.3.0). The interface can change in the future.\n",
      "\n",
      "[I 2024-08-10 13:12:43,134] Trial 94 finished with value: 0.3548039229779761 and parameters: {'lambda_l1': 0.14853367346445015, 'lambda_l2': 1.4974046694580961e-06, 'num_leaves': 35, 'feature_fraction': 0.4407898377968163, 'bagging_fraction': 0.9555472426502514, 'bagging_freq': 6, 'min_child_samples': 53}. Best is trial 87 with value: 0.36449663706686775.\n",
      "C:\\Users\\cacic\\AppData\\Local\\Temp\\ipykernel_1648\\4150719641.py:86: ExperimentalWarning:\n",
      "\n",
      "upload_artifact is experimental (supported from v3.3.0). The interface can change in the future.\n",
      "\n",
      "C:\\Users\\cacic\\AppData\\Local\\Temp\\ipykernel_1648\\4150719641.py:94: ExperimentalWarning:\n",
      "\n",
      "upload_artifact is experimental (supported from v3.3.0). The interface can change in the future.\n",
      "\n",
      "[I 2024-08-10 13:12:51,874] Trial 95 finished with value: 0.354957612987024 and parameters: {'lambda_l1': 0.6180599354946762, 'lambda_l2': 8.572670631077889e-08, 'num_leaves': 59, 'feature_fraction': 0.558034600978266, 'bagging_fraction': 0.8765513449831985, 'bagging_freq': 7, 'min_child_samples': 30}. Best is trial 87 with value: 0.36449663706686775.\n",
      "C:\\Users\\cacic\\AppData\\Local\\Temp\\ipykernel_1648\\4150719641.py:86: ExperimentalWarning:\n",
      "\n",
      "upload_artifact is experimental (supported from v3.3.0). The interface can change in the future.\n",
      "\n",
      "C:\\Users\\cacic\\AppData\\Local\\Temp\\ipykernel_1648\\4150719641.py:94: ExperimentalWarning:\n",
      "\n",
      "upload_artifact is experimental (supported from v3.3.0). The interface can change in the future.\n",
      "\n",
      "[I 2024-08-10 13:13:01,114] Trial 96 finished with value: 0.3649748486892721 and parameters: {'lambda_l1': 0.23155295709162022, 'lambda_l2': 3.3482903711731363e-07, 'num_leaves': 40, 'feature_fraction': 0.5218952790070867, 'bagging_fraction': 0.9393459855409115, 'bagging_freq': 7, 'min_child_samples': 36}. Best is trial 96 with value: 0.3649748486892721.\n",
      "C:\\Users\\cacic\\AppData\\Local\\Temp\\ipykernel_1648\\4150719641.py:86: ExperimentalWarning:\n",
      "\n",
      "upload_artifact is experimental (supported from v3.3.0). The interface can change in the future.\n",
      "\n",
      "C:\\Users\\cacic\\AppData\\Local\\Temp\\ipykernel_1648\\4150719641.py:94: ExperimentalWarning:\n",
      "\n",
      "upload_artifact is experimental (supported from v3.3.0). The interface can change in the future.\n",
      "\n",
      "[I 2024-08-10 13:13:10,587] Trial 97 finished with value: 0.3629242867832173 and parameters: {'lambda_l1': 0.26165371232414225, 'lambda_l2': 4.6334987576093845e-06, 'num_leaves': 43, 'feature_fraction': 0.5126554475863399, 'bagging_fraction': 0.9790387861198055, 'bagging_freq': 7, 'min_child_samples': 33}. Best is trial 96 with value: 0.3649748486892721.\n",
      "C:\\Users\\cacic\\AppData\\Local\\Temp\\ipykernel_1648\\4150719641.py:86: ExperimentalWarning:\n",
      "\n",
      "upload_artifact is experimental (supported from v3.3.0). The interface can change in the future.\n",
      "\n",
      "C:\\Users\\cacic\\AppData\\Local\\Temp\\ipykernel_1648\\4150719641.py:94: ExperimentalWarning:\n",
      "\n",
      "upload_artifact is experimental (supported from v3.3.0). The interface can change in the future.\n",
      "\n",
      "[I 2024-08-10 13:13:18,412] Trial 98 finished with value: 0.3527398475942183 and parameters: {'lambda_l1': 0.27260660394947245, 'lambda_l2': 4.9381746271271845e-06, 'num_leaves': 70, 'feature_fraction': 0.9133233336077649, 'bagging_fraction': 0.9755887641178855, 'bagging_freq': 7, 'min_child_samples': 34}. Best is trial 96 with value: 0.3649748486892721.\n",
      "C:\\Users\\cacic\\AppData\\Local\\Temp\\ipykernel_1648\\4150719641.py:86: ExperimentalWarning:\n",
      "\n",
      "upload_artifact is experimental (supported from v3.3.0). The interface can change in the future.\n",
      "\n",
      "C:\\Users\\cacic\\AppData\\Local\\Temp\\ipykernel_1648\\4150719641.py:94: ExperimentalWarning:\n",
      "\n",
      "upload_artifact is experimental (supported from v3.3.0). The interface can change in the future.\n",
      "\n",
      "[I 2024-08-10 13:13:27,801] Trial 99 finished with value: 0.3558314149293542 and parameters: {'lambda_l1': 0.13055864646564813, 'lambda_l2': 9.96732125584619e-07, 'num_leaves': 41, 'feature_fraction': 0.5116353975142973, 'bagging_fraction': 0.9985952110372016, 'bagging_freq': 7, 'min_child_samples': 41}. Best is trial 96 with value: 0.3649748486892721.\n",
      "C:\\Users\\cacic\\AppData\\Local\\Temp\\ipykernel_1648\\4150719641.py:86: ExperimentalWarning:\n",
      "\n",
      "upload_artifact is experimental (supported from v3.3.0). The interface can change in the future.\n",
      "\n",
      "C:\\Users\\cacic\\AppData\\Local\\Temp\\ipykernel_1648\\4150719641.py:94: ExperimentalWarning:\n",
      "\n",
      "upload_artifact is experimental (supported from v3.3.0). The interface can change in the future.\n",
      "\n",
      "[I 2024-08-10 13:13:36,758] Trial 100 finished with value: 0.3578736882698996 and parameters: {'lambda_l1': 0.03030474812050222, 'lambda_l2': 2.6256715786778717e-06, 'num_leaves': 29, 'feature_fraction': 0.4817848891589303, 'bagging_fraction': 0.9334332645039864, 'bagging_freq': 7, 'min_child_samples': 27}. Best is trial 96 with value: 0.3649748486892721.\n",
      "C:\\Users\\cacic\\AppData\\Local\\Temp\\ipykernel_1648\\4150719641.py:86: ExperimentalWarning:\n",
      "\n",
      "upload_artifact is experimental (supported from v3.3.0). The interface can change in the future.\n",
      "\n",
      "C:\\Users\\cacic\\AppData\\Local\\Temp\\ipykernel_1648\\4150719641.py:94: ExperimentalWarning:\n",
      "\n",
      "upload_artifact is experimental (supported from v3.3.0). The interface can change in the future.\n",
      "\n",
      "[I 2024-08-10 13:13:46,148] Trial 101 finished with value: 0.36160688523922296 and parameters: {'lambda_l1': 0.008008521904802869, 'lambda_l2': 8.865946655635987e-06, 'num_leaves': 51, 'feature_fraction': 0.47120508132987243, 'bagging_fraction': 0.9098901079116496, 'bagging_freq': 7, 'min_child_samples': 38}. Best is trial 96 with value: 0.3649748486892721.\n",
      "C:\\Users\\cacic\\AppData\\Local\\Temp\\ipykernel_1648\\4150719641.py:86: ExperimentalWarning:\n",
      "\n",
      "upload_artifact is experimental (supported from v3.3.0). The interface can change in the future.\n",
      "\n",
      "C:\\Users\\cacic\\AppData\\Local\\Temp\\ipykernel_1648\\4150719641.py:94: ExperimentalWarning:\n",
      "\n",
      "upload_artifact is experimental (supported from v3.3.0). The interface can change in the future.\n",
      "\n",
      "[I 2024-08-10 13:13:55,221] Trial 102 finished with value: 0.35248790815087516 and parameters: {'lambda_l1': 0.8822546918180287, 'lambda_l2': 1.5491006068834882e-05, 'num_leaves': 10, 'feature_fraction': 0.5342617039944011, 'bagging_fraction': 0.9060029873472122, 'bagging_freq': 1, 'min_child_samples': 32}. Best is trial 96 with value: 0.3649748486892721.\n",
      "C:\\Users\\cacic\\AppData\\Local\\Temp\\ipykernel_1648\\4150719641.py:86: ExperimentalWarning:\n",
      "\n",
      "upload_artifact is experimental (supported from v3.3.0). The interface can change in the future.\n",
      "\n",
      "C:\\Users\\cacic\\AppData\\Local\\Temp\\ipykernel_1648\\4150719641.py:94: ExperimentalWarning:\n",
      "\n",
      "upload_artifact is experimental (supported from v3.3.0). The interface can change in the future.\n",
      "\n",
      "[I 2024-08-10 13:14:03,928] Trial 103 finished with value: 0.3520938147618566 and parameters: {'lambda_l1': 0.06439819169328077, 'lambda_l2': 9.303425205083266e-06, 'num_leaves': 16, 'feature_fraction': 0.4709842422135033, 'bagging_fraction': 0.9613120443971077, 'bagging_freq': 7, 'min_child_samples': 37}. Best is trial 96 with value: 0.3649748486892721.\n",
      "C:\\Users\\cacic\\AppData\\Local\\Temp\\ipykernel_1648\\4150719641.py:86: ExperimentalWarning:\n",
      "\n",
      "upload_artifact is experimental (supported from v3.3.0). The interface can change in the future.\n",
      "\n",
      "C:\\Users\\cacic\\AppData\\Local\\Temp\\ipykernel_1648\\4150719641.py:94: ExperimentalWarning:\n",
      "\n",
      "upload_artifact is experimental (supported from v3.3.0). The interface can change in the future.\n",
      "\n",
      "[I 2024-08-10 13:14:14,079] Trial 104 finished with value: 0.3542950769509069 and parameters: {'lambda_l1': 0.38768690181079213, 'lambda_l2': 3.48386516414487e-08, 'num_leaves': 51, 'feature_fraction': 0.5180023792175875, 'bagging_fraction': 0.981343824276801, 'bagging_freq': 7, 'min_child_samples': 43}. Best is trial 96 with value: 0.3649748486892721.\n"
     ]
    }
   ],
   "source": [
    "#Inicio el store de artefactos (archivos) de optuna\n",
    "artifact_store = FileSystemArtifactStore(base_path=PATH_TO_OPTUNA_ARTIFACTS)\n",
    "\n",
    "#Genero estudio\n",
    "study = optuna.create_study(direction='maximize',\n",
    "                            storage=\"sqlite:///../work/db.sqlite3\",  # Specify the storage URL here.\n",
    "                            study_name=\"04 - LGB Multiclass CV\",\n",
    "                            load_if_exists = True)\n",
    "#Corro la optimizacion\n",
    "study.optimize(cv_es_lgb_objective, n_trials=100)"
   ]
  },
  {
   "cell_type": "markdown",
   "metadata": {},
   "source": [
    "Para ver el optuna dashboard tengo que correr este comando en la terminal"
   ]
  },
  {
   "cell_type": "code",
   "execution_count": null,
   "metadata": {},
   "outputs": [],
   "source": [
    "!optuna-dashboard sqlite:///../work/db.sqlite3 --artifact-dir ../work/optuna_artifacts --port 8081"
   ]
  }
 ],
 "metadata": {
  "kernelspec": {
   "display_name": "ldi2",
   "language": "python",
   "name": "python3"
  },
  "language_info": {
   "codemirror_mode": {
    "name": "ipython",
    "version": 3
   },
   "file_extension": ".py",
   "mimetype": "text/x-python",
   "name": "python",
   "nbconvert_exporter": "python",
   "pygments_lexer": "ipython3",
   "version": "3.12.4"
  }
 },
 "nbformat": 4,
 "nbformat_minor": 2
}
