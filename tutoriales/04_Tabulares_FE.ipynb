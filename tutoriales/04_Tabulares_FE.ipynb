{
 "cells": [
  {
   "cell_type": "markdown",
   "metadata": {},
   "source": [
    "## Modelo datos estructurados\n",
    "Este notebook desarrolla un primer modelo para resolver el problema de Petfinder. Empezamos haciendo un modelo inicial muy simple para ver la viabilidad de resolver el problema. Luego analizamos como se comporta la métrica kappa propuesta y vemos la matriz de confusión. Finalmente hacemos una optimizacin de hiperparametros evaluando con train/test y otra validando con 5 fold CV y testeando en el 20% de los datos"
   ]
  },
  {
   "cell_type": "code",
   "execution_count": 1,
   "metadata": {},
   "outputs": [
    {
     "name": "stderr",
     "output_type": "stream",
     "text": [
      "c:\\Users\\cacic\\anaconda3\\envs\\ldi2\\Lib\\site-packages\\tqdm\\auto.py:21: TqdmWarning: IProgress not found. Please update jupyter and ipywidgets. See https://ipywidgets.readthedocs.io/en/stable/user_install.html\n",
      "  from .autonotebook import tqdm as notebook_tqdm\n"
     ]
    }
   ],
   "source": [
    "#Import de librerias basicas tablas y matrices\n",
    "import numpy as np \n",
    "import pandas as pd \n",
    "\n",
    "#Gradient Boosting\n",
    "import lightgbm as lgb\n",
    "\n",
    "#Funciones auxiliares sklearn\n",
    "from sklearn.model_selection import train_test_split, StratifiedKFold #Split y cross Validation\n",
    "from sklearn.metrics import cohen_kappa_score, accuracy_score, balanced_accuracy_score #Metricas\n",
    "from sklearn.utils import shuffle \n",
    "\n",
    "#Visualizacióon\n",
    "from plotly import express as px\n",
    "\n",
    "#Plot de matriz de confusion normalizada en actuals\n",
    "from utils import plot_confusion_matrix\n",
    "\n",
    "import os\n",
    "\n",
    "#Optimizacion de hiperparametros\n",
    "import optuna\n",
    "from optuna.artifacts import FileSystemArtifactStore, upload_artifact\n",
    "\n",
    "#Guardado de objetos en archivos joblib\n",
    "from joblib import load, dump\n"
   ]
  },
  {
   "cell_type": "code",
   "execution_count": 3,
   "metadata": {},
   "outputs": [],
   "source": [
    "# Paths para acceso archivos\n",
    "#Este notebook asume la siguiente estructura de carpetas a partir de la ubicacion de base_dir \n",
    "#(dos niveles arriba de la carpeta donde se ejecuta el notebook). \n",
    "# /UA_MDM_LDI_II/\n",
    "# /UA_MDM_LDI_II/input\n",
    "# /UA_MDM_LDI_II/input/petfinder-adoption-prediction/            <- Aca deben ir todos los archivos de datos de la competencia \n",
    "# /UA_MDM_LDI_II/tutoriales/                       <- Aca deben poner los notebooks y scripts que les compartimos\n",
    "# /UA_MDM_LDI_II/work/                             <- Resultados de notebooks iran dentro de esta carpeta en subcarpetas\n",
    "# /UA_MDM_LDI_II/work/models/                     <- Modelos entrenados en archivos joblibs\n",
    "# /UA_MDM_LDI_II/work/optuna_temp_artifacts/      <- Archivos que queremos dejar como artefacto de un trial de optuna (optuna los copiara a la carpeta de abajo)\n",
    "# /UA_MDM_LDI_II/work/optuna_artifacts/           <- Archivos con artefactos que sibimos a optuna\n",
    "\n",
    "#Subimos dos niveles para quedar en la carpeta que contiene input y UA_MDM_LDI_II\n",
    "BASE_DIR = '../'\n",
    "\n",
    "#Datos de entrenamiento \n",
    "PATH_TO_TRAIN = os.path.join(BASE_DIR, \"input/petfinder-adoption-prediction/train/train.csv\")\n",
    "\n",
    "#Salida de modelos entrenados\n",
    "PATH_TO_MODELS = os.path.join(BASE_DIR, \"work/models\")\n",
    "\n",
    "#Artefactos a subir a optuna\n",
    "PATH_TO_TEMP_FILES = os.path.join(BASE_DIR, \"work/optuna_temp_artifacts\")\n",
    "\n",
    "#Artefactos que optuna gestiona\n",
    "PATH_TO_OPTUNA_ARTIFACTS = os.path.join(BASE_DIR, \"work/optuna_artifacts\")\n",
    "\n",
    "\n",
    "SEED = 42 #Semilla de procesos aleatorios (para poder replicar exactamente al volver a correr un modelo)\n",
    "TEST_SIZE = 0.2 #Facción para train/test= split"
   ]
  },
  {
   "cell_type": "code",
   "execution_count": 4,
   "metadata": {},
   "outputs": [],
   "source": [
    "# Datos Tabulares\n",
    "dataset = pd.read_csv(PATH_TO_TRAIN)"
   ]
  },
  {
   "cell_type": "code",
   "execution_count": 5,
   "metadata": {},
   "outputs": [
    {
     "data": {
      "text/plain": [
       "Index(['Type', 'Name', 'Age', 'Breed1', 'Breed2', 'Gender', 'Color1', 'Color2',\n",
       "       'Color3', 'MaturitySize', 'FurLength', 'Vaccinated', 'Dewormed',\n",
       "       'Sterilized', 'Health', 'Quantity', 'Fee', 'State', 'RescuerID',\n",
       "       'VideoAmt', 'Description', 'PetID', 'PhotoAmt', 'AdoptionSpeed'],\n",
       "      dtype='object')"
      ]
     },
     "execution_count": 5,
     "metadata": {},
     "output_type": "execute_result"
    }
   ],
   "source": [
    "#Columnas del dataset\n",
    "dataset.columns"
   ]
  },
  {
   "cell_type": "code",
   "execution_count": 6,
   "metadata": {},
   "outputs": [],
   "source": [
    "# Agregar la columna 'mixed' basada en las condiciones especificadas\n",
    "dataset['Pura'] = np.where(\n",
    "  (dataset['Breed1'].notna()) & (dataset['Breed2'].notna()), 'Pure', np.where(\n",
    "    dataset['Breed1'] != 'Mixed Breed', 'Pure', 'Mixed'\n",
    "   )\n",
    "  )"
   ]
  },
  {
   "cell_type": "code",
   "execution_count": 7,
   "metadata": {},
   "outputs": [
    {
     "data": {
      "text/html": [
       "<div>\n",
       "<style scoped>\n",
       "    .dataframe tbody tr th:only-of-type {\n",
       "        vertical-align: middle;\n",
       "    }\n",
       "\n",
       "    .dataframe tbody tr th {\n",
       "        vertical-align: top;\n",
       "    }\n",
       "\n",
       "    .dataframe thead th {\n",
       "        text-align: right;\n",
       "    }\n",
       "</style>\n",
       "<table border=\"1\" class=\"dataframe\">\n",
       "  <thead>\n",
       "    <tr style=\"text-align: right;\">\n",
       "      <th></th>\n",
       "      <th>Type</th>\n",
       "      <th>Name</th>\n",
       "      <th>Age</th>\n",
       "      <th>Breed1</th>\n",
       "      <th>Breed2</th>\n",
       "      <th>Gender</th>\n",
       "      <th>Color1</th>\n",
       "      <th>Color2</th>\n",
       "      <th>Color3</th>\n",
       "      <th>MaturitySize</th>\n",
       "      <th>...</th>\n",
       "      <th>Quantity</th>\n",
       "      <th>Fee</th>\n",
       "      <th>State</th>\n",
       "      <th>RescuerID</th>\n",
       "      <th>VideoAmt</th>\n",
       "      <th>Description</th>\n",
       "      <th>PetID</th>\n",
       "      <th>PhotoAmt</th>\n",
       "      <th>AdoptionSpeed</th>\n",
       "      <th>Pura</th>\n",
       "    </tr>\n",
       "  </thead>\n",
       "  <tbody>\n",
       "    <tr>\n",
       "      <th>0</th>\n",
       "      <td>2</td>\n",
       "      <td>Nibble</td>\n",
       "      <td>3</td>\n",
       "      <td>299</td>\n",
       "      <td>0</td>\n",
       "      <td>1</td>\n",
       "      <td>1</td>\n",
       "      <td>7</td>\n",
       "      <td>0</td>\n",
       "      <td>1</td>\n",
       "      <td>...</td>\n",
       "      <td>1</td>\n",
       "      <td>100</td>\n",
       "      <td>41326</td>\n",
       "      <td>8480853f516546f6cf33aa88cd76c379</td>\n",
       "      <td>0</td>\n",
       "      <td>Nibble is a 3+ month old ball of cuteness. He ...</td>\n",
       "      <td>86e1089a3</td>\n",
       "      <td>1.0</td>\n",
       "      <td>2</td>\n",
       "      <td>Pure</td>\n",
       "    </tr>\n",
       "    <tr>\n",
       "      <th>1</th>\n",
       "      <td>2</td>\n",
       "      <td>No Name Yet</td>\n",
       "      <td>1</td>\n",
       "      <td>265</td>\n",
       "      <td>0</td>\n",
       "      <td>1</td>\n",
       "      <td>1</td>\n",
       "      <td>2</td>\n",
       "      <td>0</td>\n",
       "      <td>2</td>\n",
       "      <td>...</td>\n",
       "      <td>1</td>\n",
       "      <td>0</td>\n",
       "      <td>41401</td>\n",
       "      <td>3082c7125d8fb66f7dd4bff4192c8b14</td>\n",
       "      <td>0</td>\n",
       "      <td>I just found it alone yesterday near my apartm...</td>\n",
       "      <td>6296e909a</td>\n",
       "      <td>2.0</td>\n",
       "      <td>0</td>\n",
       "      <td>Pure</td>\n",
       "    </tr>\n",
       "    <tr>\n",
       "      <th>2</th>\n",
       "      <td>1</td>\n",
       "      <td>Brisco</td>\n",
       "      <td>1</td>\n",
       "      <td>307</td>\n",
       "      <td>0</td>\n",
       "      <td>1</td>\n",
       "      <td>2</td>\n",
       "      <td>7</td>\n",
       "      <td>0</td>\n",
       "      <td>2</td>\n",
       "      <td>...</td>\n",
       "      <td>1</td>\n",
       "      <td>0</td>\n",
       "      <td>41326</td>\n",
       "      <td>fa90fa5b1ee11c86938398b60abc32cb</td>\n",
       "      <td>0</td>\n",
       "      <td>Their pregnant mother was dumped by her irresp...</td>\n",
       "      <td>3422e4906</td>\n",
       "      <td>7.0</td>\n",
       "      <td>3</td>\n",
       "      <td>Pure</td>\n",
       "    </tr>\n",
       "    <tr>\n",
       "      <th>3</th>\n",
       "      <td>1</td>\n",
       "      <td>Miko</td>\n",
       "      <td>4</td>\n",
       "      <td>307</td>\n",
       "      <td>0</td>\n",
       "      <td>2</td>\n",
       "      <td>1</td>\n",
       "      <td>2</td>\n",
       "      <td>0</td>\n",
       "      <td>2</td>\n",
       "      <td>...</td>\n",
       "      <td>1</td>\n",
       "      <td>150</td>\n",
       "      <td>41401</td>\n",
       "      <td>9238e4f44c71a75282e62f7136c6b240</td>\n",
       "      <td>0</td>\n",
       "      <td>Good guard dog, very alert, active, obedience ...</td>\n",
       "      <td>5842f1ff5</td>\n",
       "      <td>8.0</td>\n",
       "      <td>2</td>\n",
       "      <td>Pure</td>\n",
       "    </tr>\n",
       "    <tr>\n",
       "      <th>4</th>\n",
       "      <td>1</td>\n",
       "      <td>Hunter</td>\n",
       "      <td>1</td>\n",
       "      <td>307</td>\n",
       "      <td>0</td>\n",
       "      <td>1</td>\n",
       "      <td>1</td>\n",
       "      <td>0</td>\n",
       "      <td>0</td>\n",
       "      <td>2</td>\n",
       "      <td>...</td>\n",
       "      <td>1</td>\n",
       "      <td>0</td>\n",
       "      <td>41326</td>\n",
       "      <td>95481e953f8aed9ec3d16fc4509537e8</td>\n",
       "      <td>0</td>\n",
       "      <td>This handsome yet cute boy is up for adoption....</td>\n",
       "      <td>850a43f90</td>\n",
       "      <td>3.0</td>\n",
       "      <td>2</td>\n",
       "      <td>Pure</td>\n",
       "    </tr>\n",
       "    <tr>\n",
       "      <th>...</th>\n",
       "      <td>...</td>\n",
       "      <td>...</td>\n",
       "      <td>...</td>\n",
       "      <td>...</td>\n",
       "      <td>...</td>\n",
       "      <td>...</td>\n",
       "      <td>...</td>\n",
       "      <td>...</td>\n",
       "      <td>...</td>\n",
       "      <td>...</td>\n",
       "      <td>...</td>\n",
       "      <td>...</td>\n",
       "      <td>...</td>\n",
       "      <td>...</td>\n",
       "      <td>...</td>\n",
       "      <td>...</td>\n",
       "      <td>...</td>\n",
       "      <td>...</td>\n",
       "      <td>...</td>\n",
       "      <td>...</td>\n",
       "      <td>...</td>\n",
       "    </tr>\n",
       "    <tr>\n",
       "      <th>14988</th>\n",
       "      <td>2</td>\n",
       "      <td>NaN</td>\n",
       "      <td>2</td>\n",
       "      <td>266</td>\n",
       "      <td>0</td>\n",
       "      <td>3</td>\n",
       "      <td>1</td>\n",
       "      <td>0</td>\n",
       "      <td>0</td>\n",
       "      <td>2</td>\n",
       "      <td>...</td>\n",
       "      <td>4</td>\n",
       "      <td>0</td>\n",
       "      <td>41326</td>\n",
       "      <td>61c84bd7bcb6fb31d2d480b1bcf9682e</td>\n",
       "      <td>0</td>\n",
       "      <td>I have 4 kittens that need to be adopt urgentl...</td>\n",
       "      <td>dc0935a84</td>\n",
       "      <td>3.0</td>\n",
       "      <td>2</td>\n",
       "      <td>Pure</td>\n",
       "    </tr>\n",
       "    <tr>\n",
       "      <th>14989</th>\n",
       "      <td>2</td>\n",
       "      <td>Serato &amp; Eddie</td>\n",
       "      <td>60</td>\n",
       "      <td>265</td>\n",
       "      <td>264</td>\n",
       "      <td>3</td>\n",
       "      <td>1</td>\n",
       "      <td>4</td>\n",
       "      <td>7</td>\n",
       "      <td>2</td>\n",
       "      <td>...</td>\n",
       "      <td>2</td>\n",
       "      <td>0</td>\n",
       "      <td>41326</td>\n",
       "      <td>1d5096c4a5e159a3b750c5cfcf6ceabf</td>\n",
       "      <td>0</td>\n",
       "      <td>Serato(female cat- 3 color) is 4 years old and...</td>\n",
       "      <td>a01ab5b30</td>\n",
       "      <td>3.0</td>\n",
       "      <td>4</td>\n",
       "      <td>Pure</td>\n",
       "    </tr>\n",
       "    <tr>\n",
       "      <th>14990</th>\n",
       "      <td>2</td>\n",
       "      <td>Monkies</td>\n",
       "      <td>2</td>\n",
       "      <td>265</td>\n",
       "      <td>266</td>\n",
       "      <td>3</td>\n",
       "      <td>5</td>\n",
       "      <td>6</td>\n",
       "      <td>7</td>\n",
       "      <td>3</td>\n",
       "      <td>...</td>\n",
       "      <td>5</td>\n",
       "      <td>30</td>\n",
       "      <td>41326</td>\n",
       "      <td>6f40a7acfad5cc0bb3e44591ea446c05</td>\n",
       "      <td>0</td>\n",
       "      <td>Mix breed, good temperament kittens. Love huma...</td>\n",
       "      <td>d981b6395</td>\n",
       "      <td>5.0</td>\n",
       "      <td>3</td>\n",
       "      <td>Pure</td>\n",
       "    </tr>\n",
       "    <tr>\n",
       "      <th>14991</th>\n",
       "      <td>2</td>\n",
       "      <td>Ms Daym</td>\n",
       "      <td>9</td>\n",
       "      <td>266</td>\n",
       "      <td>0</td>\n",
       "      <td>2</td>\n",
       "      <td>4</td>\n",
       "      <td>7</td>\n",
       "      <td>0</td>\n",
       "      <td>1</td>\n",
       "      <td>...</td>\n",
       "      <td>1</td>\n",
       "      <td>0</td>\n",
       "      <td>41336</td>\n",
       "      <td>c311c0c569245baa147d91fa4e351ae4</td>\n",
       "      <td>0</td>\n",
       "      <td>she is very shy..adventures and independent..s...</td>\n",
       "      <td>e4da1c9e4</td>\n",
       "      <td>3.0</td>\n",
       "      <td>4</td>\n",
       "      <td>Pure</td>\n",
       "    </tr>\n",
       "    <tr>\n",
       "      <th>14992</th>\n",
       "      <td>1</td>\n",
       "      <td>Fili</td>\n",
       "      <td>1</td>\n",
       "      <td>307</td>\n",
       "      <td>307</td>\n",
       "      <td>1</td>\n",
       "      <td>2</td>\n",
       "      <td>0</td>\n",
       "      <td>0</td>\n",
       "      <td>2</td>\n",
       "      <td>...</td>\n",
       "      <td>1</td>\n",
       "      <td>0</td>\n",
       "      <td>41332</td>\n",
       "      <td>9ed1d5493d223eaa5024c1a031dbc9c2</td>\n",
       "      <td>0</td>\n",
       "      <td>Fili just loves laying around and also loves b...</td>\n",
       "      <td>a83d95ead</td>\n",
       "      <td>1.0</td>\n",
       "      <td>3</td>\n",
       "      <td>Pure</td>\n",
       "    </tr>\n",
       "  </tbody>\n",
       "</table>\n",
       "<p>14993 rows × 25 columns</p>\n",
       "</div>"
      ],
      "text/plain": [
       "       Type            Name  Age  Breed1  Breed2  Gender  Color1  Color2  \\\n",
       "0         2          Nibble    3     299       0       1       1       7   \n",
       "1         2     No Name Yet    1     265       0       1       1       2   \n",
       "2         1          Brisco    1     307       0       1       2       7   \n",
       "3         1            Miko    4     307       0       2       1       2   \n",
       "4         1          Hunter    1     307       0       1       1       0   \n",
       "...     ...             ...  ...     ...     ...     ...     ...     ...   \n",
       "14988     2             NaN    2     266       0       3       1       0   \n",
       "14989     2  Serato & Eddie   60     265     264       3       1       4   \n",
       "14990     2         Monkies    2     265     266       3       5       6   \n",
       "14991     2         Ms Daym    9     266       0       2       4       7   \n",
       "14992     1            Fili    1     307     307       1       2       0   \n",
       "\n",
       "       Color3  MaturitySize  ...  Quantity  Fee  State  \\\n",
       "0           0             1  ...         1  100  41326   \n",
       "1           0             2  ...         1    0  41401   \n",
       "2           0             2  ...         1    0  41326   \n",
       "3           0             2  ...         1  150  41401   \n",
       "4           0             2  ...         1    0  41326   \n",
       "...       ...           ...  ...       ...  ...    ...   \n",
       "14988       0             2  ...         4    0  41326   \n",
       "14989       7             2  ...         2    0  41326   \n",
       "14990       7             3  ...         5   30  41326   \n",
       "14991       0             1  ...         1    0  41336   \n",
       "14992       0             2  ...         1    0  41332   \n",
       "\n",
       "                              RescuerID  VideoAmt  \\\n",
       "0      8480853f516546f6cf33aa88cd76c379         0   \n",
       "1      3082c7125d8fb66f7dd4bff4192c8b14         0   \n",
       "2      fa90fa5b1ee11c86938398b60abc32cb         0   \n",
       "3      9238e4f44c71a75282e62f7136c6b240         0   \n",
       "4      95481e953f8aed9ec3d16fc4509537e8         0   \n",
       "...                                 ...       ...   \n",
       "14988  61c84bd7bcb6fb31d2d480b1bcf9682e         0   \n",
       "14989  1d5096c4a5e159a3b750c5cfcf6ceabf         0   \n",
       "14990  6f40a7acfad5cc0bb3e44591ea446c05         0   \n",
       "14991  c311c0c569245baa147d91fa4e351ae4         0   \n",
       "14992  9ed1d5493d223eaa5024c1a031dbc9c2         0   \n",
       "\n",
       "                                             Description      PetID  PhotoAmt  \\\n",
       "0      Nibble is a 3+ month old ball of cuteness. He ...  86e1089a3       1.0   \n",
       "1      I just found it alone yesterday near my apartm...  6296e909a       2.0   \n",
       "2      Their pregnant mother was dumped by her irresp...  3422e4906       7.0   \n",
       "3      Good guard dog, very alert, active, obedience ...  5842f1ff5       8.0   \n",
       "4      This handsome yet cute boy is up for adoption....  850a43f90       3.0   \n",
       "...                                                  ...        ...       ...   \n",
       "14988  I have 4 kittens that need to be adopt urgentl...  dc0935a84       3.0   \n",
       "14989  Serato(female cat- 3 color) is 4 years old and...  a01ab5b30       3.0   \n",
       "14990  Mix breed, good temperament kittens. Love huma...  d981b6395       5.0   \n",
       "14991  she is very shy..adventures and independent..s...  e4da1c9e4       3.0   \n",
       "14992  Fili just loves laying around and also loves b...  a83d95ead       1.0   \n",
       "\n",
       "      AdoptionSpeed  Pura  \n",
       "0                 2  Pure  \n",
       "1                 0  Pure  \n",
       "2                 3  Pure  \n",
       "3                 2  Pure  \n",
       "4                 2  Pure  \n",
       "...             ...   ...  \n",
       "14988             2  Pure  \n",
       "14989             4  Pure  \n",
       "14990             3  Pure  \n",
       "14991             4  Pure  \n",
       "14992             3  Pure  \n",
       "\n",
       "[14993 rows x 25 columns]"
      ]
     },
     "execution_count": 7,
     "metadata": {},
     "output_type": "execute_result"
    }
   ],
   "source": [
    "dataset"
   ]
  },
  {
   "cell_type": "code",
   "execution_count": 8,
   "metadata": {},
   "outputs": [],
   "source": [
    "#Feature Engeeneiring\n",
    "dataset1 = pd.get_dummies(dataset, columns=[\"Pura\"], dtype=int)"
   ]
  },
  {
   "cell_type": "code",
   "execution_count": 9,
   "metadata": {},
   "outputs": [
    {
     "data": {
      "text/html": [
       "<div>\n",
       "<style scoped>\n",
       "    .dataframe tbody tr th:only-of-type {\n",
       "        vertical-align: middle;\n",
       "    }\n",
       "\n",
       "    .dataframe tbody tr th {\n",
       "        vertical-align: top;\n",
       "    }\n",
       "\n",
       "    .dataframe thead th {\n",
       "        text-align: right;\n",
       "    }\n",
       "</style>\n",
       "<table border=\"1\" class=\"dataframe\">\n",
       "  <thead>\n",
       "    <tr style=\"text-align: right;\">\n",
       "      <th></th>\n",
       "      <th>Type</th>\n",
       "      <th>Name</th>\n",
       "      <th>Age</th>\n",
       "      <th>Breed1</th>\n",
       "      <th>Breed2</th>\n",
       "      <th>Gender</th>\n",
       "      <th>Color1</th>\n",
       "      <th>Color2</th>\n",
       "      <th>Color3</th>\n",
       "      <th>MaturitySize</th>\n",
       "      <th>...</th>\n",
       "      <th>Quantity</th>\n",
       "      <th>Fee</th>\n",
       "      <th>State</th>\n",
       "      <th>RescuerID</th>\n",
       "      <th>VideoAmt</th>\n",
       "      <th>Description</th>\n",
       "      <th>PetID</th>\n",
       "      <th>PhotoAmt</th>\n",
       "      <th>AdoptionSpeed</th>\n",
       "      <th>Pura_Pure</th>\n",
       "    </tr>\n",
       "  </thead>\n",
       "  <tbody>\n",
       "    <tr>\n",
       "      <th>0</th>\n",
       "      <td>2</td>\n",
       "      <td>Nibble</td>\n",
       "      <td>3</td>\n",
       "      <td>299</td>\n",
       "      <td>0</td>\n",
       "      <td>1</td>\n",
       "      <td>1</td>\n",
       "      <td>7</td>\n",
       "      <td>0</td>\n",
       "      <td>1</td>\n",
       "      <td>...</td>\n",
       "      <td>1</td>\n",
       "      <td>100</td>\n",
       "      <td>41326</td>\n",
       "      <td>8480853f516546f6cf33aa88cd76c379</td>\n",
       "      <td>0</td>\n",
       "      <td>Nibble is a 3+ month old ball of cuteness. He ...</td>\n",
       "      <td>86e1089a3</td>\n",
       "      <td>1.0</td>\n",
       "      <td>2</td>\n",
       "      <td>1</td>\n",
       "    </tr>\n",
       "    <tr>\n",
       "      <th>1</th>\n",
       "      <td>2</td>\n",
       "      <td>No Name Yet</td>\n",
       "      <td>1</td>\n",
       "      <td>265</td>\n",
       "      <td>0</td>\n",
       "      <td>1</td>\n",
       "      <td>1</td>\n",
       "      <td>2</td>\n",
       "      <td>0</td>\n",
       "      <td>2</td>\n",
       "      <td>...</td>\n",
       "      <td>1</td>\n",
       "      <td>0</td>\n",
       "      <td>41401</td>\n",
       "      <td>3082c7125d8fb66f7dd4bff4192c8b14</td>\n",
       "      <td>0</td>\n",
       "      <td>I just found it alone yesterday near my apartm...</td>\n",
       "      <td>6296e909a</td>\n",
       "      <td>2.0</td>\n",
       "      <td>0</td>\n",
       "      <td>1</td>\n",
       "    </tr>\n",
       "    <tr>\n",
       "      <th>2</th>\n",
       "      <td>1</td>\n",
       "      <td>Brisco</td>\n",
       "      <td>1</td>\n",
       "      <td>307</td>\n",
       "      <td>0</td>\n",
       "      <td>1</td>\n",
       "      <td>2</td>\n",
       "      <td>7</td>\n",
       "      <td>0</td>\n",
       "      <td>2</td>\n",
       "      <td>...</td>\n",
       "      <td>1</td>\n",
       "      <td>0</td>\n",
       "      <td>41326</td>\n",
       "      <td>fa90fa5b1ee11c86938398b60abc32cb</td>\n",
       "      <td>0</td>\n",
       "      <td>Their pregnant mother was dumped by her irresp...</td>\n",
       "      <td>3422e4906</td>\n",
       "      <td>7.0</td>\n",
       "      <td>3</td>\n",
       "      <td>1</td>\n",
       "    </tr>\n",
       "    <tr>\n",
       "      <th>3</th>\n",
       "      <td>1</td>\n",
       "      <td>Miko</td>\n",
       "      <td>4</td>\n",
       "      <td>307</td>\n",
       "      <td>0</td>\n",
       "      <td>2</td>\n",
       "      <td>1</td>\n",
       "      <td>2</td>\n",
       "      <td>0</td>\n",
       "      <td>2</td>\n",
       "      <td>...</td>\n",
       "      <td>1</td>\n",
       "      <td>150</td>\n",
       "      <td>41401</td>\n",
       "      <td>9238e4f44c71a75282e62f7136c6b240</td>\n",
       "      <td>0</td>\n",
       "      <td>Good guard dog, very alert, active, obedience ...</td>\n",
       "      <td>5842f1ff5</td>\n",
       "      <td>8.0</td>\n",
       "      <td>2</td>\n",
       "      <td>1</td>\n",
       "    </tr>\n",
       "    <tr>\n",
       "      <th>4</th>\n",
       "      <td>1</td>\n",
       "      <td>Hunter</td>\n",
       "      <td>1</td>\n",
       "      <td>307</td>\n",
       "      <td>0</td>\n",
       "      <td>1</td>\n",
       "      <td>1</td>\n",
       "      <td>0</td>\n",
       "      <td>0</td>\n",
       "      <td>2</td>\n",
       "      <td>...</td>\n",
       "      <td>1</td>\n",
       "      <td>0</td>\n",
       "      <td>41326</td>\n",
       "      <td>95481e953f8aed9ec3d16fc4509537e8</td>\n",
       "      <td>0</td>\n",
       "      <td>This handsome yet cute boy is up for adoption....</td>\n",
       "      <td>850a43f90</td>\n",
       "      <td>3.0</td>\n",
       "      <td>2</td>\n",
       "      <td>1</td>\n",
       "    </tr>\n",
       "    <tr>\n",
       "      <th>...</th>\n",
       "      <td>...</td>\n",
       "      <td>...</td>\n",
       "      <td>...</td>\n",
       "      <td>...</td>\n",
       "      <td>...</td>\n",
       "      <td>...</td>\n",
       "      <td>...</td>\n",
       "      <td>...</td>\n",
       "      <td>...</td>\n",
       "      <td>...</td>\n",
       "      <td>...</td>\n",
       "      <td>...</td>\n",
       "      <td>...</td>\n",
       "      <td>...</td>\n",
       "      <td>...</td>\n",
       "      <td>...</td>\n",
       "      <td>...</td>\n",
       "      <td>...</td>\n",
       "      <td>...</td>\n",
       "      <td>...</td>\n",
       "      <td>...</td>\n",
       "    </tr>\n",
       "    <tr>\n",
       "      <th>14988</th>\n",
       "      <td>2</td>\n",
       "      <td>NaN</td>\n",
       "      <td>2</td>\n",
       "      <td>266</td>\n",
       "      <td>0</td>\n",
       "      <td>3</td>\n",
       "      <td>1</td>\n",
       "      <td>0</td>\n",
       "      <td>0</td>\n",
       "      <td>2</td>\n",
       "      <td>...</td>\n",
       "      <td>4</td>\n",
       "      <td>0</td>\n",
       "      <td>41326</td>\n",
       "      <td>61c84bd7bcb6fb31d2d480b1bcf9682e</td>\n",
       "      <td>0</td>\n",
       "      <td>I have 4 kittens that need to be adopt urgentl...</td>\n",
       "      <td>dc0935a84</td>\n",
       "      <td>3.0</td>\n",
       "      <td>2</td>\n",
       "      <td>1</td>\n",
       "    </tr>\n",
       "    <tr>\n",
       "      <th>14989</th>\n",
       "      <td>2</td>\n",
       "      <td>Serato &amp; Eddie</td>\n",
       "      <td>60</td>\n",
       "      <td>265</td>\n",
       "      <td>264</td>\n",
       "      <td>3</td>\n",
       "      <td>1</td>\n",
       "      <td>4</td>\n",
       "      <td>7</td>\n",
       "      <td>2</td>\n",
       "      <td>...</td>\n",
       "      <td>2</td>\n",
       "      <td>0</td>\n",
       "      <td>41326</td>\n",
       "      <td>1d5096c4a5e159a3b750c5cfcf6ceabf</td>\n",
       "      <td>0</td>\n",
       "      <td>Serato(female cat- 3 color) is 4 years old and...</td>\n",
       "      <td>a01ab5b30</td>\n",
       "      <td>3.0</td>\n",
       "      <td>4</td>\n",
       "      <td>1</td>\n",
       "    </tr>\n",
       "    <tr>\n",
       "      <th>14990</th>\n",
       "      <td>2</td>\n",
       "      <td>Monkies</td>\n",
       "      <td>2</td>\n",
       "      <td>265</td>\n",
       "      <td>266</td>\n",
       "      <td>3</td>\n",
       "      <td>5</td>\n",
       "      <td>6</td>\n",
       "      <td>7</td>\n",
       "      <td>3</td>\n",
       "      <td>...</td>\n",
       "      <td>5</td>\n",
       "      <td>30</td>\n",
       "      <td>41326</td>\n",
       "      <td>6f40a7acfad5cc0bb3e44591ea446c05</td>\n",
       "      <td>0</td>\n",
       "      <td>Mix breed, good temperament kittens. Love huma...</td>\n",
       "      <td>d981b6395</td>\n",
       "      <td>5.0</td>\n",
       "      <td>3</td>\n",
       "      <td>1</td>\n",
       "    </tr>\n",
       "    <tr>\n",
       "      <th>14991</th>\n",
       "      <td>2</td>\n",
       "      <td>Ms Daym</td>\n",
       "      <td>9</td>\n",
       "      <td>266</td>\n",
       "      <td>0</td>\n",
       "      <td>2</td>\n",
       "      <td>4</td>\n",
       "      <td>7</td>\n",
       "      <td>0</td>\n",
       "      <td>1</td>\n",
       "      <td>...</td>\n",
       "      <td>1</td>\n",
       "      <td>0</td>\n",
       "      <td>41336</td>\n",
       "      <td>c311c0c569245baa147d91fa4e351ae4</td>\n",
       "      <td>0</td>\n",
       "      <td>she is very shy..adventures and independent..s...</td>\n",
       "      <td>e4da1c9e4</td>\n",
       "      <td>3.0</td>\n",
       "      <td>4</td>\n",
       "      <td>1</td>\n",
       "    </tr>\n",
       "    <tr>\n",
       "      <th>14992</th>\n",
       "      <td>1</td>\n",
       "      <td>Fili</td>\n",
       "      <td>1</td>\n",
       "      <td>307</td>\n",
       "      <td>307</td>\n",
       "      <td>1</td>\n",
       "      <td>2</td>\n",
       "      <td>0</td>\n",
       "      <td>0</td>\n",
       "      <td>2</td>\n",
       "      <td>...</td>\n",
       "      <td>1</td>\n",
       "      <td>0</td>\n",
       "      <td>41332</td>\n",
       "      <td>9ed1d5493d223eaa5024c1a031dbc9c2</td>\n",
       "      <td>0</td>\n",
       "      <td>Fili just loves laying around and also loves b...</td>\n",
       "      <td>a83d95ead</td>\n",
       "      <td>1.0</td>\n",
       "      <td>3</td>\n",
       "      <td>1</td>\n",
       "    </tr>\n",
       "  </tbody>\n",
       "</table>\n",
       "<p>14993 rows × 25 columns</p>\n",
       "</div>"
      ],
      "text/plain": [
       "       Type            Name  Age  Breed1  Breed2  Gender  Color1  Color2  \\\n",
       "0         2          Nibble    3     299       0       1       1       7   \n",
       "1         2     No Name Yet    1     265       0       1       1       2   \n",
       "2         1          Brisco    1     307       0       1       2       7   \n",
       "3         1            Miko    4     307       0       2       1       2   \n",
       "4         1          Hunter    1     307       0       1       1       0   \n",
       "...     ...             ...  ...     ...     ...     ...     ...     ...   \n",
       "14988     2             NaN    2     266       0       3       1       0   \n",
       "14989     2  Serato & Eddie   60     265     264       3       1       4   \n",
       "14990     2         Monkies    2     265     266       3       5       6   \n",
       "14991     2         Ms Daym    9     266       0       2       4       7   \n",
       "14992     1            Fili    1     307     307       1       2       0   \n",
       "\n",
       "       Color3  MaturitySize  ...  Quantity  Fee  State  \\\n",
       "0           0             1  ...         1  100  41326   \n",
       "1           0             2  ...         1    0  41401   \n",
       "2           0             2  ...         1    0  41326   \n",
       "3           0             2  ...         1  150  41401   \n",
       "4           0             2  ...         1    0  41326   \n",
       "...       ...           ...  ...       ...  ...    ...   \n",
       "14988       0             2  ...         4    0  41326   \n",
       "14989       7             2  ...         2    0  41326   \n",
       "14990       7             3  ...         5   30  41326   \n",
       "14991       0             1  ...         1    0  41336   \n",
       "14992       0             2  ...         1    0  41332   \n",
       "\n",
       "                              RescuerID  VideoAmt  \\\n",
       "0      8480853f516546f6cf33aa88cd76c379         0   \n",
       "1      3082c7125d8fb66f7dd4bff4192c8b14         0   \n",
       "2      fa90fa5b1ee11c86938398b60abc32cb         0   \n",
       "3      9238e4f44c71a75282e62f7136c6b240         0   \n",
       "4      95481e953f8aed9ec3d16fc4509537e8         0   \n",
       "...                                 ...       ...   \n",
       "14988  61c84bd7bcb6fb31d2d480b1bcf9682e         0   \n",
       "14989  1d5096c4a5e159a3b750c5cfcf6ceabf         0   \n",
       "14990  6f40a7acfad5cc0bb3e44591ea446c05         0   \n",
       "14991  c311c0c569245baa147d91fa4e351ae4         0   \n",
       "14992  9ed1d5493d223eaa5024c1a031dbc9c2         0   \n",
       "\n",
       "                                             Description      PetID  PhotoAmt  \\\n",
       "0      Nibble is a 3+ month old ball of cuteness. He ...  86e1089a3       1.0   \n",
       "1      I just found it alone yesterday near my apartm...  6296e909a       2.0   \n",
       "2      Their pregnant mother was dumped by her irresp...  3422e4906       7.0   \n",
       "3      Good guard dog, very alert, active, obedience ...  5842f1ff5       8.0   \n",
       "4      This handsome yet cute boy is up for adoption....  850a43f90       3.0   \n",
       "...                                                  ...        ...       ...   \n",
       "14988  I have 4 kittens that need to be adopt urgentl...  dc0935a84       3.0   \n",
       "14989  Serato(female cat- 3 color) is 4 years old and...  a01ab5b30       3.0   \n",
       "14990  Mix breed, good temperament kittens. Love huma...  d981b6395       5.0   \n",
       "14991  she is very shy..adventures and independent..s...  e4da1c9e4       3.0   \n",
       "14992  Fili just loves laying around and also loves b...  a83d95ead       1.0   \n",
       "\n",
       "      AdoptionSpeed  Pura_Pure  \n",
       "0                 2          1  \n",
       "1                 0          1  \n",
       "2                 3          1  \n",
       "3                 2          1  \n",
       "4                 2          1  \n",
       "...             ...        ...  \n",
       "14988             2          1  \n",
       "14989             4          1  \n",
       "14990             3          1  \n",
       "14991             4          1  \n",
       "14992             3          1  \n",
       "\n",
       "[14993 rows x 25 columns]"
      ]
     },
     "execution_count": 9,
     "metadata": {},
     "output_type": "execute_result"
    }
   ],
   "source": [
    "dataset1"
   ]
  },
  {
   "cell_type": "code",
   "execution_count": 10,
   "metadata": {},
   "outputs": [],
   "source": [
    "#Feature Engeeneiring\n",
    "dataset2 = pd.get_dummies(dataset1, columns=[\"Breed1\"], dtype=int)"
   ]
  },
  {
   "cell_type": "code",
   "execution_count": 11,
   "metadata": {},
   "outputs": [
    {
     "data": {
      "text/html": [
       "<div>\n",
       "<style scoped>\n",
       "    .dataframe tbody tr th:only-of-type {\n",
       "        vertical-align: middle;\n",
       "    }\n",
       "\n",
       "    .dataframe tbody tr th {\n",
       "        vertical-align: top;\n",
       "    }\n",
       "\n",
       "    .dataframe thead th {\n",
       "        text-align: right;\n",
       "    }\n",
       "</style>\n",
       "<table border=\"1\" class=\"dataframe\">\n",
       "  <thead>\n",
       "    <tr style=\"text-align: right;\">\n",
       "      <th></th>\n",
       "      <th>Type</th>\n",
       "      <th>Name</th>\n",
       "      <th>Age</th>\n",
       "      <th>Breed2</th>\n",
       "      <th>Gender</th>\n",
       "      <th>Color1</th>\n",
       "      <th>Color2</th>\n",
       "      <th>Color3</th>\n",
       "      <th>MaturitySize</th>\n",
       "      <th>FurLength</th>\n",
       "      <th>...</th>\n",
       "      <th>Breed1_298</th>\n",
       "      <th>Breed1_299</th>\n",
       "      <th>Breed1_300</th>\n",
       "      <th>Breed1_301</th>\n",
       "      <th>Breed1_302</th>\n",
       "      <th>Breed1_303</th>\n",
       "      <th>Breed1_304</th>\n",
       "      <th>Breed1_305</th>\n",
       "      <th>Breed1_306</th>\n",
       "      <th>Breed1_307</th>\n",
       "    </tr>\n",
       "  </thead>\n",
       "  <tbody>\n",
       "    <tr>\n",
       "      <th>0</th>\n",
       "      <td>2</td>\n",
       "      <td>Nibble</td>\n",
       "      <td>3</td>\n",
       "      <td>0</td>\n",
       "      <td>1</td>\n",
       "      <td>1</td>\n",
       "      <td>7</td>\n",
       "      <td>0</td>\n",
       "      <td>1</td>\n",
       "      <td>1</td>\n",
       "      <td>...</td>\n",
       "      <td>0</td>\n",
       "      <td>1</td>\n",
       "      <td>0</td>\n",
       "      <td>0</td>\n",
       "      <td>0</td>\n",
       "      <td>0</td>\n",
       "      <td>0</td>\n",
       "      <td>0</td>\n",
       "      <td>0</td>\n",
       "      <td>0</td>\n",
       "    </tr>\n",
       "    <tr>\n",
       "      <th>1</th>\n",
       "      <td>2</td>\n",
       "      <td>No Name Yet</td>\n",
       "      <td>1</td>\n",
       "      <td>0</td>\n",
       "      <td>1</td>\n",
       "      <td>1</td>\n",
       "      <td>2</td>\n",
       "      <td>0</td>\n",
       "      <td>2</td>\n",
       "      <td>2</td>\n",
       "      <td>...</td>\n",
       "      <td>0</td>\n",
       "      <td>0</td>\n",
       "      <td>0</td>\n",
       "      <td>0</td>\n",
       "      <td>0</td>\n",
       "      <td>0</td>\n",
       "      <td>0</td>\n",
       "      <td>0</td>\n",
       "      <td>0</td>\n",
       "      <td>0</td>\n",
       "    </tr>\n",
       "    <tr>\n",
       "      <th>2</th>\n",
       "      <td>1</td>\n",
       "      <td>Brisco</td>\n",
       "      <td>1</td>\n",
       "      <td>0</td>\n",
       "      <td>1</td>\n",
       "      <td>2</td>\n",
       "      <td>7</td>\n",
       "      <td>0</td>\n",
       "      <td>2</td>\n",
       "      <td>2</td>\n",
       "      <td>...</td>\n",
       "      <td>0</td>\n",
       "      <td>0</td>\n",
       "      <td>0</td>\n",
       "      <td>0</td>\n",
       "      <td>0</td>\n",
       "      <td>0</td>\n",
       "      <td>0</td>\n",
       "      <td>0</td>\n",
       "      <td>0</td>\n",
       "      <td>1</td>\n",
       "    </tr>\n",
       "    <tr>\n",
       "      <th>3</th>\n",
       "      <td>1</td>\n",
       "      <td>Miko</td>\n",
       "      <td>4</td>\n",
       "      <td>0</td>\n",
       "      <td>2</td>\n",
       "      <td>1</td>\n",
       "      <td>2</td>\n",
       "      <td>0</td>\n",
       "      <td>2</td>\n",
       "      <td>1</td>\n",
       "      <td>...</td>\n",
       "      <td>0</td>\n",
       "      <td>0</td>\n",
       "      <td>0</td>\n",
       "      <td>0</td>\n",
       "      <td>0</td>\n",
       "      <td>0</td>\n",
       "      <td>0</td>\n",
       "      <td>0</td>\n",
       "      <td>0</td>\n",
       "      <td>1</td>\n",
       "    </tr>\n",
       "    <tr>\n",
       "      <th>4</th>\n",
       "      <td>1</td>\n",
       "      <td>Hunter</td>\n",
       "      <td>1</td>\n",
       "      <td>0</td>\n",
       "      <td>1</td>\n",
       "      <td>1</td>\n",
       "      <td>0</td>\n",
       "      <td>0</td>\n",
       "      <td>2</td>\n",
       "      <td>1</td>\n",
       "      <td>...</td>\n",
       "      <td>0</td>\n",
       "      <td>0</td>\n",
       "      <td>0</td>\n",
       "      <td>0</td>\n",
       "      <td>0</td>\n",
       "      <td>0</td>\n",
       "      <td>0</td>\n",
       "      <td>0</td>\n",
       "      <td>0</td>\n",
       "      <td>1</td>\n",
       "    </tr>\n",
       "    <tr>\n",
       "      <th>...</th>\n",
       "      <td>...</td>\n",
       "      <td>...</td>\n",
       "      <td>...</td>\n",
       "      <td>...</td>\n",
       "      <td>...</td>\n",
       "      <td>...</td>\n",
       "      <td>...</td>\n",
       "      <td>...</td>\n",
       "      <td>...</td>\n",
       "      <td>...</td>\n",
       "      <td>...</td>\n",
       "      <td>...</td>\n",
       "      <td>...</td>\n",
       "      <td>...</td>\n",
       "      <td>...</td>\n",
       "      <td>...</td>\n",
       "      <td>...</td>\n",
       "      <td>...</td>\n",
       "      <td>...</td>\n",
       "      <td>...</td>\n",
       "      <td>...</td>\n",
       "    </tr>\n",
       "    <tr>\n",
       "      <th>14988</th>\n",
       "      <td>2</td>\n",
       "      <td>NaN</td>\n",
       "      <td>2</td>\n",
       "      <td>0</td>\n",
       "      <td>3</td>\n",
       "      <td>1</td>\n",
       "      <td>0</td>\n",
       "      <td>0</td>\n",
       "      <td>2</td>\n",
       "      <td>2</td>\n",
       "      <td>...</td>\n",
       "      <td>0</td>\n",
       "      <td>0</td>\n",
       "      <td>0</td>\n",
       "      <td>0</td>\n",
       "      <td>0</td>\n",
       "      <td>0</td>\n",
       "      <td>0</td>\n",
       "      <td>0</td>\n",
       "      <td>0</td>\n",
       "      <td>0</td>\n",
       "    </tr>\n",
       "    <tr>\n",
       "      <th>14989</th>\n",
       "      <td>2</td>\n",
       "      <td>Serato &amp; Eddie</td>\n",
       "      <td>60</td>\n",
       "      <td>264</td>\n",
       "      <td>3</td>\n",
       "      <td>1</td>\n",
       "      <td>4</td>\n",
       "      <td>7</td>\n",
       "      <td>2</td>\n",
       "      <td>2</td>\n",
       "      <td>...</td>\n",
       "      <td>0</td>\n",
       "      <td>0</td>\n",
       "      <td>0</td>\n",
       "      <td>0</td>\n",
       "      <td>0</td>\n",
       "      <td>0</td>\n",
       "      <td>0</td>\n",
       "      <td>0</td>\n",
       "      <td>0</td>\n",
       "      <td>0</td>\n",
       "    </tr>\n",
       "    <tr>\n",
       "      <th>14990</th>\n",
       "      <td>2</td>\n",
       "      <td>Monkies</td>\n",
       "      <td>2</td>\n",
       "      <td>266</td>\n",
       "      <td>3</td>\n",
       "      <td>5</td>\n",
       "      <td>6</td>\n",
       "      <td>7</td>\n",
       "      <td>3</td>\n",
       "      <td>2</td>\n",
       "      <td>...</td>\n",
       "      <td>0</td>\n",
       "      <td>0</td>\n",
       "      <td>0</td>\n",
       "      <td>0</td>\n",
       "      <td>0</td>\n",
       "      <td>0</td>\n",
       "      <td>0</td>\n",
       "      <td>0</td>\n",
       "      <td>0</td>\n",
       "      <td>0</td>\n",
       "    </tr>\n",
       "    <tr>\n",
       "      <th>14991</th>\n",
       "      <td>2</td>\n",
       "      <td>Ms Daym</td>\n",
       "      <td>9</td>\n",
       "      <td>0</td>\n",
       "      <td>2</td>\n",
       "      <td>4</td>\n",
       "      <td>7</td>\n",
       "      <td>0</td>\n",
       "      <td>1</td>\n",
       "      <td>1</td>\n",
       "      <td>...</td>\n",
       "      <td>0</td>\n",
       "      <td>0</td>\n",
       "      <td>0</td>\n",
       "      <td>0</td>\n",
       "      <td>0</td>\n",
       "      <td>0</td>\n",
       "      <td>0</td>\n",
       "      <td>0</td>\n",
       "      <td>0</td>\n",
       "      <td>0</td>\n",
       "    </tr>\n",
       "    <tr>\n",
       "      <th>14992</th>\n",
       "      <td>1</td>\n",
       "      <td>Fili</td>\n",
       "      <td>1</td>\n",
       "      <td>307</td>\n",
       "      <td>1</td>\n",
       "      <td>2</td>\n",
       "      <td>0</td>\n",
       "      <td>0</td>\n",
       "      <td>2</td>\n",
       "      <td>1</td>\n",
       "      <td>...</td>\n",
       "      <td>0</td>\n",
       "      <td>0</td>\n",
       "      <td>0</td>\n",
       "      <td>0</td>\n",
       "      <td>0</td>\n",
       "      <td>0</td>\n",
       "      <td>0</td>\n",
       "      <td>0</td>\n",
       "      <td>0</td>\n",
       "      <td>1</td>\n",
       "    </tr>\n",
       "  </tbody>\n",
       "</table>\n",
       "<p>14993 rows × 200 columns</p>\n",
       "</div>"
      ],
      "text/plain": [
       "       Type            Name  Age  Breed2  Gender  Color1  Color2  Color3  \\\n",
       "0         2          Nibble    3       0       1       1       7       0   \n",
       "1         2     No Name Yet    1       0       1       1       2       0   \n",
       "2         1          Brisco    1       0       1       2       7       0   \n",
       "3         1            Miko    4       0       2       1       2       0   \n",
       "4         1          Hunter    1       0       1       1       0       0   \n",
       "...     ...             ...  ...     ...     ...     ...     ...     ...   \n",
       "14988     2             NaN    2       0       3       1       0       0   \n",
       "14989     2  Serato & Eddie   60     264       3       1       4       7   \n",
       "14990     2         Monkies    2     266       3       5       6       7   \n",
       "14991     2         Ms Daym    9       0       2       4       7       0   \n",
       "14992     1            Fili    1     307       1       2       0       0   \n",
       "\n",
       "       MaturitySize  FurLength  ...  Breed1_298  Breed1_299  Breed1_300  \\\n",
       "0                 1          1  ...           0           1           0   \n",
       "1                 2          2  ...           0           0           0   \n",
       "2                 2          2  ...           0           0           0   \n",
       "3                 2          1  ...           0           0           0   \n",
       "4                 2          1  ...           0           0           0   \n",
       "...             ...        ...  ...         ...         ...         ...   \n",
       "14988             2          2  ...           0           0           0   \n",
       "14989             2          2  ...           0           0           0   \n",
       "14990             3          2  ...           0           0           0   \n",
       "14991             1          1  ...           0           0           0   \n",
       "14992             2          1  ...           0           0           0   \n",
       "\n",
       "       Breed1_301  Breed1_302  Breed1_303  Breed1_304 Breed1_305  Breed1_306  \\\n",
       "0               0           0           0           0          0           0   \n",
       "1               0           0           0           0          0           0   \n",
       "2               0           0           0           0          0           0   \n",
       "3               0           0           0           0          0           0   \n",
       "4               0           0           0           0          0           0   \n",
       "...           ...         ...         ...         ...        ...         ...   \n",
       "14988           0           0           0           0          0           0   \n",
       "14989           0           0           0           0          0           0   \n",
       "14990           0           0           0           0          0           0   \n",
       "14991           0           0           0           0          0           0   \n",
       "14992           0           0           0           0          0           0   \n",
       "\n",
       "      Breed1_307  \n",
       "0              0  \n",
       "1              0  \n",
       "2              1  \n",
       "3              1  \n",
       "4              1  \n",
       "...          ...  \n",
       "14988          0  \n",
       "14989          0  \n",
       "14990          0  \n",
       "14991          0  \n",
       "14992          1  \n",
       "\n",
       "[14993 rows x 200 columns]"
      ]
     },
     "execution_count": 11,
     "metadata": {},
     "output_type": "execute_result"
    }
   ],
   "source": [
    "dataset2"
   ]
  },
  {
   "cell_type": "code",
   "execution_count": 12,
   "metadata": {},
   "outputs": [],
   "source": [
    "#Separo un 20% para test estratificado opr target\n",
    "train, test = train_test_split(dataset2,\n",
    "                               test_size = TEST_SIZE,\n",
    "                               random_state = SEED,\n",
    "                               stratify = dataset2.AdoptionSpeed)"
   ]
  },
  {
   "cell_type": "code",
   "execution_count": 13,
   "metadata": {},
   "outputs": [],
   "source": [
    "#Armo listas con features de texto y numericas\n",
    "char_feats = [f for f in dataset2.columns if dataset2[f].dtype=='O']\n",
    "numeric_feats = [f for f in dataset2.columns if dataset2[f].dtype!='O']"
   ]
  },
  {
   "cell_type": "code",
   "execution_count": 14,
   "metadata": {},
   "outputs": [
    {
     "data": {
      "text/plain": [
       "['Type',\n",
       " 'Age',\n",
       " 'Breed2',\n",
       " 'Gender',\n",
       " 'Color1',\n",
       " 'Color2',\n",
       " 'Color3',\n",
       " 'MaturitySize',\n",
       " 'FurLength',\n",
       " 'Vaccinated',\n",
       " 'Dewormed',\n",
       " 'Sterilized',\n",
       " 'Health',\n",
       " 'Quantity',\n",
       " 'Fee',\n",
       " 'State',\n",
       " 'VideoAmt',\n",
       " 'PhotoAmt',\n",
       " 'AdoptionSpeed',\n",
       " 'Pura_Pure',\n",
       " 'Breed1_0',\n",
       " 'Breed1_1',\n",
       " 'Breed1_3',\n",
       " 'Breed1_5',\n",
       " 'Breed1_7',\n",
       " 'Breed1_10',\n",
       " 'Breed1_11',\n",
       " 'Breed1_15',\n",
       " 'Breed1_16',\n",
       " 'Breed1_17',\n",
       " 'Breed1_18',\n",
       " 'Breed1_19',\n",
       " 'Breed1_20',\n",
       " 'Breed1_21',\n",
       " 'Breed1_23',\n",
       " 'Breed1_24',\n",
       " 'Breed1_25',\n",
       " 'Breed1_26',\n",
       " 'Breed1_31',\n",
       " 'Breed1_32',\n",
       " 'Breed1_39',\n",
       " 'Breed1_42',\n",
       " 'Breed1_44',\n",
       " 'Breed1_49',\n",
       " 'Breed1_50',\n",
       " 'Breed1_56',\n",
       " 'Breed1_58',\n",
       " 'Breed1_60',\n",
       " 'Breed1_61',\n",
       " 'Breed1_64',\n",
       " 'Breed1_65',\n",
       " 'Breed1_69',\n",
       " 'Breed1_70',\n",
       " 'Breed1_71',\n",
       " 'Breed1_72',\n",
       " 'Breed1_75',\n",
       " 'Breed1_76',\n",
       " 'Breed1_78',\n",
       " 'Breed1_81',\n",
       " 'Breed1_82',\n",
       " 'Breed1_83',\n",
       " 'Breed1_85',\n",
       " 'Breed1_88',\n",
       " 'Breed1_93',\n",
       " 'Breed1_97',\n",
       " 'Breed1_98',\n",
       " 'Breed1_99',\n",
       " 'Breed1_100',\n",
       " 'Breed1_102',\n",
       " 'Breed1_103',\n",
       " 'Breed1_105',\n",
       " 'Breed1_108',\n",
       " 'Breed1_109',\n",
       " 'Breed1_111',\n",
       " 'Breed1_114',\n",
       " 'Breed1_117',\n",
       " 'Breed1_119',\n",
       " 'Breed1_122',\n",
       " 'Breed1_123',\n",
       " 'Breed1_125',\n",
       " 'Breed1_128',\n",
       " 'Breed1_129',\n",
       " 'Breed1_130',\n",
       " 'Breed1_132',\n",
       " 'Breed1_139',\n",
       " 'Breed1_141',\n",
       " 'Breed1_143',\n",
       " 'Breed1_145',\n",
       " 'Breed1_146',\n",
       " 'Breed1_147',\n",
       " 'Breed1_148',\n",
       " 'Breed1_150',\n",
       " 'Breed1_152',\n",
       " 'Breed1_154',\n",
       " 'Breed1_155',\n",
       " 'Breed1_165',\n",
       " 'Breed1_167',\n",
       " 'Breed1_169',\n",
       " 'Breed1_173',\n",
       " 'Breed1_176',\n",
       " 'Breed1_178',\n",
       " 'Breed1_179',\n",
       " 'Breed1_182',\n",
       " 'Breed1_185',\n",
       " 'Breed1_187',\n",
       " 'Breed1_188',\n",
       " 'Breed1_189',\n",
       " 'Breed1_190',\n",
       " 'Breed1_192',\n",
       " 'Breed1_195',\n",
       " 'Breed1_197',\n",
       " 'Breed1_199',\n",
       " 'Breed1_200',\n",
       " 'Breed1_201',\n",
       " 'Breed1_202',\n",
       " 'Breed1_203',\n",
       " 'Breed1_204',\n",
       " 'Breed1_205',\n",
       " 'Breed1_206',\n",
       " 'Breed1_207',\n",
       " 'Breed1_212',\n",
       " 'Breed1_213',\n",
       " 'Breed1_214',\n",
       " 'Breed1_215',\n",
       " 'Breed1_217',\n",
       " 'Breed1_218',\n",
       " 'Breed1_224',\n",
       " 'Breed1_227',\n",
       " 'Breed1_228',\n",
       " 'Breed1_231',\n",
       " 'Breed1_232',\n",
       " 'Breed1_233',\n",
       " 'Breed1_234',\n",
       " 'Breed1_237',\n",
       " 'Breed1_239',\n",
       " 'Breed1_240',\n",
       " 'Breed1_241',\n",
       " 'Breed1_242',\n",
       " 'Breed1_243',\n",
       " 'Breed1_244',\n",
       " 'Breed1_245',\n",
       " 'Breed1_246',\n",
       " 'Breed1_247',\n",
       " 'Breed1_248',\n",
       " 'Breed1_249',\n",
       " 'Breed1_250',\n",
       " 'Breed1_251',\n",
       " 'Breed1_252',\n",
       " 'Breed1_253',\n",
       " 'Breed1_254',\n",
       " 'Breed1_256',\n",
       " 'Breed1_257',\n",
       " 'Breed1_260',\n",
       " 'Breed1_262',\n",
       " 'Breed1_263',\n",
       " 'Breed1_264',\n",
       " 'Breed1_265',\n",
       " 'Breed1_266',\n",
       " 'Breed1_267',\n",
       " 'Breed1_268',\n",
       " 'Breed1_269',\n",
       " 'Breed1_270',\n",
       " 'Breed1_271',\n",
       " 'Breed1_272',\n",
       " 'Breed1_273',\n",
       " 'Breed1_274',\n",
       " 'Breed1_276',\n",
       " 'Breed1_277',\n",
       " 'Breed1_279',\n",
       " 'Breed1_280',\n",
       " 'Breed1_281',\n",
       " 'Breed1_282',\n",
       " 'Breed1_283',\n",
       " 'Breed1_284',\n",
       " 'Breed1_285',\n",
       " 'Breed1_286',\n",
       " 'Breed1_287',\n",
       " 'Breed1_288',\n",
       " 'Breed1_289',\n",
       " 'Breed1_290',\n",
       " 'Breed1_292',\n",
       " 'Breed1_293',\n",
       " 'Breed1_294',\n",
       " 'Breed1_295',\n",
       " 'Breed1_296',\n",
       " 'Breed1_297',\n",
       " 'Breed1_298',\n",
       " 'Breed1_299',\n",
       " 'Breed1_300',\n",
       " 'Breed1_301',\n",
       " 'Breed1_302',\n",
       " 'Breed1_303',\n",
       " 'Breed1_304',\n",
       " 'Breed1_305',\n",
       " 'Breed1_306',\n",
       " 'Breed1_307']"
      ]
     },
     "execution_count": 14,
     "metadata": {},
     "output_type": "execute_result"
    }
   ],
   "source": [
    "#Lista de features numericas\n",
    "numeric_feats"
   ]
  },
  {
   "cell_type": "code",
   "execution_count": 15,
   "metadata": {},
   "outputs": [],
   "source": [
    "\n",
    "#Defino features a usar en un primer modelo de prueba\n",
    "features = ['Type',\n",
    " 'Age',\n",
    " 'Breed2',\n",
    " 'Gender',\n",
    " 'Color1',\n",
    " 'Color2',\n",
    " 'Color3',\n",
    " 'MaturitySize',\n",
    " 'FurLength',\n",
    " 'Vaccinated',\n",
    " 'Dewormed',\n",
    " 'Sterilized',\n",
    " 'Health',\n",
    " 'Quantity',\n",
    " 'Fee',\n",
    " 'State',\n",
    " 'VideoAmt',\n",
    " 'PhotoAmt',\n",
    " 'Pura_Pure',\n",
    " 'Breed1_0',\n",
    " 'Breed1_1',\n",
    " 'Breed1_3',\n",
    " 'Breed1_5',\n",
    " 'Breed1_7',\n",
    " 'Breed1_10',\n",
    " 'Breed1_11',\n",
    " 'Breed1_15',\n",
    " 'Breed1_16',\n",
    " 'Breed1_17',\n",
    " 'Breed1_18',\n",
    " 'Breed1_19',\n",
    " 'Breed1_20',\n",
    " 'Breed1_21',\n",
    " 'Breed1_23',\n",
    " 'Breed1_24',\n",
    " 'Breed1_25',\n",
    " 'Breed1_26',\n",
    " 'Breed1_31',\n",
    " 'Breed1_32',\n",
    " 'Breed1_39',\n",
    " 'Breed1_42',\n",
    " 'Breed1_44',\n",
    " 'Breed1_49',\n",
    " 'Breed1_50',\n",
    " 'Breed1_56',\n",
    " 'Breed1_58',\n",
    " 'Breed1_60',\n",
    " 'Breed1_61',\n",
    " 'Breed1_64',\n",
    " 'Breed1_65',\n",
    " 'Breed1_69',\n",
    " 'Breed1_70',\n",
    " 'Breed1_71',\n",
    " 'Breed1_72',\n",
    " 'Breed1_75',\n",
    " 'Breed1_76',\n",
    " 'Breed1_78',\n",
    " 'Breed1_81',\n",
    " 'Breed1_82',\n",
    " 'Breed1_83',\n",
    " 'Breed1_85',\n",
    " 'Breed1_88',\n",
    " 'Breed1_93',\n",
    " 'Breed1_97',\n",
    " 'Breed1_98',\n",
    " 'Breed1_99',\n",
    " 'Breed1_100',\n",
    " 'Breed1_102',\n",
    " 'Breed1_103',\n",
    " 'Breed1_105',\n",
    " 'Breed1_108',\n",
    " 'Breed1_109',\n",
    " 'Breed1_111',\n",
    " 'Breed1_114',\n",
    " 'Breed1_117',\n",
    " 'Breed1_119',\n",
    " 'Breed1_122',\n",
    " 'Breed1_123',\n",
    " 'Breed1_125',\n",
    " 'Breed1_128',\n",
    " 'Breed1_129',\n",
    " 'Breed1_130',\n",
    " 'Breed1_132',\n",
    " 'Breed1_139',\n",
    " 'Breed1_141',\n",
    " 'Breed1_143',\n",
    " 'Breed1_145',\n",
    " 'Breed1_146',\n",
    " 'Breed1_147',\n",
    " 'Breed1_148',\n",
    " 'Breed1_150',\n",
    " 'Breed1_152',\n",
    " 'Breed1_154',\n",
    " 'Breed1_155',\n",
    " 'Breed1_165',\n",
    " 'Breed1_167',\n",
    " 'Breed1_169',\n",
    " 'Breed1_173',\n",
    " 'Breed1_176',\n",
    " 'Breed1_178',\n",
    " 'Breed1_179',\n",
    " 'Breed1_182',\n",
    " 'Breed1_185',\n",
    " 'Breed1_187',\n",
    " 'Breed1_188',\n",
    " 'Breed1_189',\n",
    " 'Breed1_190',\n",
    " 'Breed1_192',\n",
    " 'Breed1_195',\n",
    " 'Breed1_197',\n",
    " 'Breed1_199',\n",
    " 'Breed1_200',\n",
    " 'Breed1_201',\n",
    " 'Breed1_202',\n",
    " 'Breed1_203',\n",
    " 'Breed1_204',\n",
    " 'Breed1_205',\n",
    " 'Breed1_206',\n",
    " 'Breed1_207',\n",
    " 'Breed1_212',\n",
    " 'Breed1_213',\n",
    " 'Breed1_214',\n",
    " 'Breed1_215',\n",
    " 'Breed1_217',\n",
    " 'Breed1_218',\n",
    " 'Breed1_224',\n",
    " 'Breed1_227',\n",
    " 'Breed1_228',\n",
    " 'Breed1_231',\n",
    " 'Breed1_232',\n",
    " 'Breed1_233',\n",
    " 'Breed1_234',\n",
    " 'Breed1_237',\n",
    " 'Breed1_239',\n",
    " 'Breed1_240',\n",
    " 'Breed1_241',\n",
    " 'Breed1_242',\n",
    " 'Breed1_243',\n",
    " 'Breed1_244',\n",
    " 'Breed1_245',\n",
    " 'Breed1_246',\n",
    " 'Breed1_247',\n",
    " 'Breed1_248',\n",
    " 'Breed1_249',\n",
    " 'Breed1_250',\n",
    " 'Breed1_251',\n",
    " 'Breed1_252',\n",
    " 'Breed1_253',\n",
    " 'Breed1_254',\n",
    " 'Breed1_256',\n",
    " 'Breed1_257',\n",
    " 'Breed1_260',\n",
    " 'Breed1_262',\n",
    " 'Breed1_263',\n",
    " 'Breed1_264',\n",
    " 'Breed1_265',\n",
    " 'Breed1_266',\n",
    " 'Breed1_267',\n",
    " 'Breed1_268',\n",
    " 'Breed1_269',\n",
    " 'Breed1_270',\n",
    " 'Breed1_271',\n",
    " 'Breed1_272',\n",
    " 'Breed1_273',\n",
    " 'Breed1_274',\n",
    " 'Breed1_276',\n",
    " 'Breed1_277',\n",
    " 'Breed1_279',\n",
    " 'Breed1_280',\n",
    " 'Breed1_281',\n",
    " 'Breed1_282',\n",
    " 'Breed1_283',\n",
    " 'Breed1_284',\n",
    " 'Breed1_285',\n",
    " 'Breed1_286',\n",
    " 'Breed1_287',\n",
    " 'Breed1_288',\n",
    " 'Breed1_289',\n",
    " 'Breed1_290',\n",
    " 'Breed1_292',\n",
    " 'Breed1_293',\n",
    " 'Breed1_294',\n",
    " 'Breed1_295',\n",
    " 'Breed1_296',\n",
    " 'Breed1_297',\n",
    " 'Breed1_298',\n",
    " 'Breed1_299',\n",
    " 'Breed1_300',\n",
    " 'Breed1_301',\n",
    " 'Breed1_302',\n",
    " 'Breed1_303',\n",
    " 'Breed1_304',\n",
    " 'Breed1_305',\n",
    " 'Breed1_306',\n",
    " 'Breed1_307']\n",
    "\n",
    "label = 'AdoptionSpeed'"
   ]
  },
  {
   "cell_type": "code",
   "execution_count": 16,
   "metadata": {},
   "outputs": [],
   "source": [
    "#Genero dataframes de train y test con sus respectivos targets\n",
    "X_train = train[features]\n",
    "y_train = train[label]\n",
    "\n",
    "X_test = test[features]\n",
    "y_test = test[label]"
   ]
  },
  {
   "cell_type": "code",
   "execution_count": 17,
   "metadata": {},
   "outputs": [
    {
     "name": "stdout",
     "output_type": "stream",
     "text": [
      "[LightGBM] [Info] Auto-choosing row-wise multi-threading, the overhead of testing was 0.003495 seconds.\n",
      "You can set `force_row_wise=true` to remove the overhead.\n",
      "And if memory is not enough, you can set `force_col_wise=true`.\n",
      "[LightGBM] [Info] Total Bins 393\n",
      "[LightGBM] [Info] Number of data points in the train set: 11994, number of used features: 55\n",
      "[LightGBM] [Info] Start training from score -3.599148\n",
      "[LightGBM] [Info] Start training from score -1.579379\n",
      "[LightGBM] [Info] Start training from score -1.311924\n",
      "[LightGBM] [Info] Start training from score -1.526206\n",
      "[LightGBM] [Info] Start training from score -1.273359\n"
     ]
    }
   ],
   "source": [
    "#Entreno un modelo inicial sin modificar hiperparametros. Solamente especifico el numero de clases y el tipo de modelo como clasificación\n",
    "lgb_params = params = {\n",
    "                        'objective': 'multiclass',\n",
    "                        'num_class': len(y_train.unique())\n",
    "                        }\n",
    "\n",
    "\n",
    "#genero el objeto Dataset que debo pasarle a lightgbm para que entrene\n",
    "lgb_train_dataset = lgb.Dataset(data=X_train,\n",
    "                                label=y_train)\n",
    "\n",
    "#entreno el modelo con los parametros por defecto\n",
    "lgb_model = lgb.train(lgb_params,\n",
    "                      lgb_train_dataset)"
   ]
  },
  {
   "cell_type": "code",
   "execution_count": 18,
   "metadata": {},
   "outputs": [
    {
     "data": {
      "text/plain": [
       "np.float64(0.31204440794051513)"
      ]
     },
     "execution_count": 18,
     "metadata": {},
     "output_type": "execute_result"
    }
   ],
   "source": [
    "#Obtengo las predicciones sobre el set de test. El modelo me da una lista de probabilidades para cada clase y tomo la clase con mayor probabilidad con la funcion argmax\n",
    "y_pred = lgb_model.predict(X_test).argmax(axis=1)\n",
    "\n",
    "#Calculo el Kappa\n",
    "cohen_kappa_score(y_test,y_pred, weights = 'quadratic')"
   ]
  },
  {
   "cell_type": "code",
   "execution_count": 19,
   "metadata": {},
   "outputs": [
    {
     "data": {
      "application/vnd.plotly.v1+json": {
       "config": {
        "plotlyServerURL": "https://plot.ly"
       },
       "data": [
        {
         "type": "heatmap",
         "x": [
          0,
          1,
          2,
          3,
          4
         ],
         "y": [
          0,
          1,
          2,
          3,
          4
         ],
         "z": [
          [
           7.317073170731707,
           41.46341463414634,
           24.390243902439025,
           8.536585365853659,
           18.29268292682927
          ],
          [
           0.8090614886731391,
           33.81877022653722,
           35.11326860841424,
           8.090614886731391,
           22.168284789644012
          ],
          [
           0.12391573729863693,
           23.04832713754647,
           38.78562577447336,
           11.400247831474598,
           26.64188351920694
          ],
          [
           0.3067484662576687,
           17.33128834355828,
           33.895705521472394,
           19.938650306748464,
           28.52760736196319
          ],
          [
           0.2380952380952381,
           11.190476190476192,
           21.785714285714285,
           7.142857142857142,
           59.64285714285714
          ]
         ]
        }
       ],
       "layout": {
        "annotations": [
         {
          "font": {
           "color": "white"
          },
          "showarrow": false,
          "text": "7.3 - 6",
          "x": 0,
          "xref": "x",
          "y": 0,
          "yref": "y"
         },
         {
          "font": {
           "color": "white"
          },
          "showarrow": false,
          "text": "41.5 - 34",
          "x": 1,
          "xref": "x",
          "y": 0,
          "yref": "y"
         },
         {
          "font": {
           "color": "white"
          },
          "showarrow": false,
          "text": "24.4 - 20",
          "x": 2,
          "xref": "x",
          "y": 0,
          "yref": "y"
         },
         {
          "font": {
           "color": "white"
          },
          "showarrow": false,
          "text": "8.5 - 7",
          "x": 3,
          "xref": "x",
          "y": 0,
          "yref": "y"
         },
         {
          "font": {
           "color": "white"
          },
          "showarrow": false,
          "text": "18.3 - 15",
          "x": 4,
          "xref": "x",
          "y": 0,
          "yref": "y"
         },
         {
          "font": {
           "color": "white"
          },
          "showarrow": false,
          "text": "0.8 - 5",
          "x": 0,
          "xref": "x",
          "y": 1,
          "yref": "y"
         },
         {
          "font": {
           "color": "white"
          },
          "showarrow": false,
          "text": "33.8 - 209",
          "x": 1,
          "xref": "x",
          "y": 1,
          "yref": "y"
         },
         {
          "font": {
           "color": "white"
          },
          "showarrow": false,
          "text": "35.1 - 217",
          "x": 2,
          "xref": "x",
          "y": 1,
          "yref": "y"
         },
         {
          "font": {
           "color": "white"
          },
          "showarrow": false,
          "text": "8.1 - 50",
          "x": 3,
          "xref": "x",
          "y": 1,
          "yref": "y"
         },
         {
          "font": {
           "color": "white"
          },
          "showarrow": false,
          "text": "22.2 - 137",
          "x": 4,
          "xref": "x",
          "y": 1,
          "yref": "y"
         },
         {
          "font": {
           "color": "white"
          },
          "showarrow": false,
          "text": "0.1 - 1",
          "x": 0,
          "xref": "x",
          "y": 2,
          "yref": "y"
         },
         {
          "font": {
           "color": "white"
          },
          "showarrow": false,
          "text": "23.0 - 186",
          "x": 1,
          "xref": "x",
          "y": 2,
          "yref": "y"
         },
         {
          "font": {
           "color": "white"
          },
          "showarrow": false,
          "text": "38.8 - 313",
          "x": 2,
          "xref": "x",
          "y": 2,
          "yref": "y"
         },
         {
          "font": {
           "color": "white"
          },
          "showarrow": false,
          "text": "11.4 - 92",
          "x": 3,
          "xref": "x",
          "y": 2,
          "yref": "y"
         },
         {
          "font": {
           "color": "white"
          },
          "showarrow": false,
          "text": "26.6 - 215",
          "x": 4,
          "xref": "x",
          "y": 2,
          "yref": "y"
         },
         {
          "font": {
           "color": "white"
          },
          "showarrow": false,
          "text": "0.3 - 2",
          "x": 0,
          "xref": "x",
          "y": 3,
          "yref": "y"
         },
         {
          "font": {
           "color": "white"
          },
          "showarrow": false,
          "text": "17.3 - 113",
          "x": 1,
          "xref": "x",
          "y": 3,
          "yref": "y"
         },
         {
          "font": {
           "color": "white"
          },
          "showarrow": false,
          "text": "33.9 - 221",
          "x": 2,
          "xref": "x",
          "y": 3,
          "yref": "y"
         },
         {
          "font": {
           "color": "white"
          },
          "showarrow": false,
          "text": "19.9 - 130",
          "x": 3,
          "xref": "x",
          "y": 3,
          "yref": "y"
         },
         {
          "font": {
           "color": "white"
          },
          "showarrow": false,
          "text": "28.5 - 186",
          "x": 4,
          "xref": "x",
          "y": 3,
          "yref": "y"
         },
         {
          "font": {
           "color": "white"
          },
          "showarrow": false,
          "text": "0.2 - 2",
          "x": 0,
          "xref": "x",
          "y": 4,
          "yref": "y"
         },
         {
          "font": {
           "color": "white"
          },
          "showarrow": false,
          "text": "11.2 - 94",
          "x": 1,
          "xref": "x",
          "y": 4,
          "yref": "y"
         },
         {
          "font": {
           "color": "white"
          },
          "showarrow": false,
          "text": "21.8 - 183",
          "x": 2,
          "xref": "x",
          "y": 4,
          "yref": "y"
         },
         {
          "font": {
           "color": "white"
          },
          "showarrow": false,
          "text": "7.1 - 60",
          "x": 3,
          "xref": "x",
          "y": 4,
          "yref": "y"
         },
         {
          "font": {
           "color": "white"
          },
          "showarrow": false,
          "text": "59.6 - 501",
          "x": 4,
          "xref": "x",
          "y": 4,
          "yref": "y"
         }
        ],
        "height": 800,
        "template": {
         "data": {
          "bar": [
           {
            "error_x": {
             "color": "#2a3f5f"
            },
            "error_y": {
             "color": "#2a3f5f"
            },
            "marker": {
             "line": {
              "color": "#E5ECF6",
              "width": 0.5
             },
             "pattern": {
              "fillmode": "overlay",
              "size": 10,
              "solidity": 0.2
             }
            },
            "type": "bar"
           }
          ],
          "barpolar": [
           {
            "marker": {
             "line": {
              "color": "#E5ECF6",
              "width": 0.5
             },
             "pattern": {
              "fillmode": "overlay",
              "size": 10,
              "solidity": 0.2
             }
            },
            "type": "barpolar"
           }
          ],
          "carpet": [
           {
            "aaxis": {
             "endlinecolor": "#2a3f5f",
             "gridcolor": "white",
             "linecolor": "white",
             "minorgridcolor": "white",
             "startlinecolor": "#2a3f5f"
            },
            "baxis": {
             "endlinecolor": "#2a3f5f",
             "gridcolor": "white",
             "linecolor": "white",
             "minorgridcolor": "white",
             "startlinecolor": "#2a3f5f"
            },
            "type": "carpet"
           }
          ],
          "choropleth": [
           {
            "colorbar": {
             "outlinewidth": 0,
             "ticks": ""
            },
            "type": "choropleth"
           }
          ],
          "contour": [
           {
            "colorbar": {
             "outlinewidth": 0,
             "ticks": ""
            },
            "colorscale": [
             [
              0,
              "#0d0887"
             ],
             [
              0.1111111111111111,
              "#46039f"
             ],
             [
              0.2222222222222222,
              "#7201a8"
             ],
             [
              0.3333333333333333,
              "#9c179e"
             ],
             [
              0.4444444444444444,
              "#bd3786"
             ],
             [
              0.5555555555555556,
              "#d8576b"
             ],
             [
              0.6666666666666666,
              "#ed7953"
             ],
             [
              0.7777777777777778,
              "#fb9f3a"
             ],
             [
              0.8888888888888888,
              "#fdca26"
             ],
             [
              1,
              "#f0f921"
             ]
            ],
            "type": "contour"
           }
          ],
          "contourcarpet": [
           {
            "colorbar": {
             "outlinewidth": 0,
             "ticks": ""
            },
            "type": "contourcarpet"
           }
          ],
          "heatmap": [
           {
            "colorbar": {
             "outlinewidth": 0,
             "ticks": ""
            },
            "colorscale": [
             [
              0,
              "#0d0887"
             ],
             [
              0.1111111111111111,
              "#46039f"
             ],
             [
              0.2222222222222222,
              "#7201a8"
             ],
             [
              0.3333333333333333,
              "#9c179e"
             ],
             [
              0.4444444444444444,
              "#bd3786"
             ],
             [
              0.5555555555555556,
              "#d8576b"
             ],
             [
              0.6666666666666666,
              "#ed7953"
             ],
             [
              0.7777777777777778,
              "#fb9f3a"
             ],
             [
              0.8888888888888888,
              "#fdca26"
             ],
             [
              1,
              "#f0f921"
             ]
            ],
            "type": "heatmap"
           }
          ],
          "heatmapgl": [
           {
            "colorbar": {
             "outlinewidth": 0,
             "ticks": ""
            },
            "colorscale": [
             [
              0,
              "#0d0887"
             ],
             [
              0.1111111111111111,
              "#46039f"
             ],
             [
              0.2222222222222222,
              "#7201a8"
             ],
             [
              0.3333333333333333,
              "#9c179e"
             ],
             [
              0.4444444444444444,
              "#bd3786"
             ],
             [
              0.5555555555555556,
              "#d8576b"
             ],
             [
              0.6666666666666666,
              "#ed7953"
             ],
             [
              0.7777777777777778,
              "#fb9f3a"
             ],
             [
              0.8888888888888888,
              "#fdca26"
             ],
             [
              1,
              "#f0f921"
             ]
            ],
            "type": "heatmapgl"
           }
          ],
          "histogram": [
           {
            "marker": {
             "pattern": {
              "fillmode": "overlay",
              "size": 10,
              "solidity": 0.2
             }
            },
            "type": "histogram"
           }
          ],
          "histogram2d": [
           {
            "colorbar": {
             "outlinewidth": 0,
             "ticks": ""
            },
            "colorscale": [
             [
              0,
              "#0d0887"
             ],
             [
              0.1111111111111111,
              "#46039f"
             ],
             [
              0.2222222222222222,
              "#7201a8"
             ],
             [
              0.3333333333333333,
              "#9c179e"
             ],
             [
              0.4444444444444444,
              "#bd3786"
             ],
             [
              0.5555555555555556,
              "#d8576b"
             ],
             [
              0.6666666666666666,
              "#ed7953"
             ],
             [
              0.7777777777777778,
              "#fb9f3a"
             ],
             [
              0.8888888888888888,
              "#fdca26"
             ],
             [
              1,
              "#f0f921"
             ]
            ],
            "type": "histogram2d"
           }
          ],
          "histogram2dcontour": [
           {
            "colorbar": {
             "outlinewidth": 0,
             "ticks": ""
            },
            "colorscale": [
             [
              0,
              "#0d0887"
             ],
             [
              0.1111111111111111,
              "#46039f"
             ],
             [
              0.2222222222222222,
              "#7201a8"
             ],
             [
              0.3333333333333333,
              "#9c179e"
             ],
             [
              0.4444444444444444,
              "#bd3786"
             ],
             [
              0.5555555555555556,
              "#d8576b"
             ],
             [
              0.6666666666666666,
              "#ed7953"
             ],
             [
              0.7777777777777778,
              "#fb9f3a"
             ],
             [
              0.8888888888888888,
              "#fdca26"
             ],
             [
              1,
              "#f0f921"
             ]
            ],
            "type": "histogram2dcontour"
           }
          ],
          "mesh3d": [
           {
            "colorbar": {
             "outlinewidth": 0,
             "ticks": ""
            },
            "type": "mesh3d"
           }
          ],
          "parcoords": [
           {
            "line": {
             "colorbar": {
              "outlinewidth": 0,
              "ticks": ""
             }
            },
            "type": "parcoords"
           }
          ],
          "pie": [
           {
            "automargin": true,
            "type": "pie"
           }
          ],
          "scatter": [
           {
            "fillpattern": {
             "fillmode": "overlay",
             "size": 10,
             "solidity": 0.2
            },
            "type": "scatter"
           }
          ],
          "scatter3d": [
           {
            "line": {
             "colorbar": {
              "outlinewidth": 0,
              "ticks": ""
             }
            },
            "marker": {
             "colorbar": {
              "outlinewidth": 0,
              "ticks": ""
             }
            },
            "type": "scatter3d"
           }
          ],
          "scattercarpet": [
           {
            "marker": {
             "colorbar": {
              "outlinewidth": 0,
              "ticks": ""
             }
            },
            "type": "scattercarpet"
           }
          ],
          "scattergeo": [
           {
            "marker": {
             "colorbar": {
              "outlinewidth": 0,
              "ticks": ""
             }
            },
            "type": "scattergeo"
           }
          ],
          "scattergl": [
           {
            "marker": {
             "colorbar": {
              "outlinewidth": 0,
              "ticks": ""
             }
            },
            "type": "scattergl"
           }
          ],
          "scattermapbox": [
           {
            "marker": {
             "colorbar": {
              "outlinewidth": 0,
              "ticks": ""
             }
            },
            "type": "scattermapbox"
           }
          ],
          "scatterpolar": [
           {
            "marker": {
             "colorbar": {
              "outlinewidth": 0,
              "ticks": ""
             }
            },
            "type": "scatterpolar"
           }
          ],
          "scatterpolargl": [
           {
            "marker": {
             "colorbar": {
              "outlinewidth": 0,
              "ticks": ""
             }
            },
            "type": "scatterpolargl"
           }
          ],
          "scatterternary": [
           {
            "marker": {
             "colorbar": {
              "outlinewidth": 0,
              "ticks": ""
             }
            },
            "type": "scatterternary"
           }
          ],
          "surface": [
           {
            "colorbar": {
             "outlinewidth": 0,
             "ticks": ""
            },
            "colorscale": [
             [
              0,
              "#0d0887"
             ],
             [
              0.1111111111111111,
              "#46039f"
             ],
             [
              0.2222222222222222,
              "#7201a8"
             ],
             [
              0.3333333333333333,
              "#9c179e"
             ],
             [
              0.4444444444444444,
              "#bd3786"
             ],
             [
              0.5555555555555556,
              "#d8576b"
             ],
             [
              0.6666666666666666,
              "#ed7953"
             ],
             [
              0.7777777777777778,
              "#fb9f3a"
             ],
             [
              0.8888888888888888,
              "#fdca26"
             ],
             [
              1,
              "#f0f921"
             ]
            ],
            "type": "surface"
           }
          ],
          "table": [
           {
            "cells": {
             "fill": {
              "color": "#EBF0F8"
             },
             "line": {
              "color": "white"
             }
            },
            "header": {
             "fill": {
              "color": "#C8D4E3"
             },
             "line": {
              "color": "white"
             }
            },
            "type": "table"
           }
          ]
         },
         "layout": {
          "annotationdefaults": {
           "arrowcolor": "#2a3f5f",
           "arrowhead": 0,
           "arrowwidth": 1
          },
          "autotypenumbers": "strict",
          "coloraxis": {
           "colorbar": {
            "outlinewidth": 0,
            "ticks": ""
           }
          },
          "colorscale": {
           "diverging": [
            [
             0,
             "#8e0152"
            ],
            [
             0.1,
             "#c51b7d"
            ],
            [
             0.2,
             "#de77ae"
            ],
            [
             0.3,
             "#f1b6da"
            ],
            [
             0.4,
             "#fde0ef"
            ],
            [
             0.5,
             "#f7f7f7"
            ],
            [
             0.6,
             "#e6f5d0"
            ],
            [
             0.7,
             "#b8e186"
            ],
            [
             0.8,
             "#7fbc41"
            ],
            [
             0.9,
             "#4d9221"
            ],
            [
             1,
             "#276419"
            ]
           ],
           "sequential": [
            [
             0,
             "#0d0887"
            ],
            [
             0.1111111111111111,
             "#46039f"
            ],
            [
             0.2222222222222222,
             "#7201a8"
            ],
            [
             0.3333333333333333,
             "#9c179e"
            ],
            [
             0.4444444444444444,
             "#bd3786"
            ],
            [
             0.5555555555555556,
             "#d8576b"
            ],
            [
             0.6666666666666666,
             "#ed7953"
            ],
            [
             0.7777777777777778,
             "#fb9f3a"
            ],
            [
             0.8888888888888888,
             "#fdca26"
            ],
            [
             1,
             "#f0f921"
            ]
           ],
           "sequentialminus": [
            [
             0,
             "#0d0887"
            ],
            [
             0.1111111111111111,
             "#46039f"
            ],
            [
             0.2222222222222222,
             "#7201a8"
            ],
            [
             0.3333333333333333,
             "#9c179e"
            ],
            [
             0.4444444444444444,
             "#bd3786"
            ],
            [
             0.5555555555555556,
             "#d8576b"
            ],
            [
             0.6666666666666666,
             "#ed7953"
            ],
            [
             0.7777777777777778,
             "#fb9f3a"
            ],
            [
             0.8888888888888888,
             "#fdca26"
            ],
            [
             1,
             "#f0f921"
            ]
           ]
          },
          "colorway": [
           "#636efa",
           "#EF553B",
           "#00cc96",
           "#ab63fa",
           "#FFA15A",
           "#19d3f3",
           "#FF6692",
           "#B6E880",
           "#FF97FF",
           "#FECB52"
          ],
          "font": {
           "color": "#2a3f5f"
          },
          "geo": {
           "bgcolor": "white",
           "lakecolor": "white",
           "landcolor": "#E5ECF6",
           "showlakes": true,
           "showland": true,
           "subunitcolor": "white"
          },
          "hoverlabel": {
           "align": "left"
          },
          "hovermode": "closest",
          "mapbox": {
           "style": "light"
          },
          "paper_bgcolor": "white",
          "plot_bgcolor": "#E5ECF6",
          "polar": {
           "angularaxis": {
            "gridcolor": "white",
            "linecolor": "white",
            "ticks": ""
           },
           "bgcolor": "#E5ECF6",
           "radialaxis": {
            "gridcolor": "white",
            "linecolor": "white",
            "ticks": ""
           }
          },
          "scene": {
           "xaxis": {
            "backgroundcolor": "#E5ECF6",
            "gridcolor": "white",
            "gridwidth": 2,
            "linecolor": "white",
            "showbackground": true,
            "ticks": "",
            "zerolinecolor": "white"
           },
           "yaxis": {
            "backgroundcolor": "#E5ECF6",
            "gridcolor": "white",
            "gridwidth": 2,
            "linecolor": "white",
            "showbackground": true,
            "ticks": "",
            "zerolinecolor": "white"
           },
           "zaxis": {
            "backgroundcolor": "#E5ECF6",
            "gridcolor": "white",
            "gridwidth": 2,
            "linecolor": "white",
            "showbackground": true,
            "ticks": "",
            "zerolinecolor": "white"
           }
          },
          "shapedefaults": {
           "line": {
            "color": "#2a3f5f"
           }
          },
          "ternary": {
           "aaxis": {
            "gridcolor": "white",
            "linecolor": "white",
            "ticks": ""
           },
           "baxis": {
            "gridcolor": "white",
            "linecolor": "white",
            "ticks": ""
           },
           "bgcolor": "#E5ECF6",
           "caxis": {
            "gridcolor": "white",
            "linecolor": "white",
            "ticks": ""
           }
          },
          "title": {
           "x": 0.05
          },
          "xaxis": {
           "automargin": true,
           "gridcolor": "white",
           "linecolor": "white",
           "ticks": "",
           "title": {
            "standoff": 15
           },
           "zerolinecolor": "white",
           "zerolinewidth": 2
          },
          "yaxis": {
           "automargin": true,
           "gridcolor": "white",
           "linecolor": "white",
           "ticks": "",
           "title": {
            "standoff": 15
           },
           "zerolinecolor": "white",
           "zerolinewidth": 2
          }
         }
        },
        "title": {
         "text": "Conf Matrix"
        },
        "width": 800,
        "xaxis": {
         "title": {
          "text": "Predicted value"
         }
        },
        "yaxis": {
         "title": {
          "text": "Real value"
         }
        }
       }
      }
     },
     "metadata": {},
     "output_type": "display_data"
    }
   ],
   "source": [
    "#Muestro la matriz de confusión\n",
    "display(plot_confusion_matrix(y_test,y_pred))"
   ]
  },
  {
   "cell_type": "code",
   "execution_count": 20,
   "metadata": {},
   "outputs": [
    {
     "data": {
      "text/plain": [
       "np.float64(1.0)"
      ]
     },
     "execution_count": 20,
     "metadata": {},
     "output_type": "execute_result"
    }
   ],
   "source": [
    "#Vamos a poner en perspectiva el score de Kappa\n",
    "\n",
    "\n",
    "#Cual es el score perfecto? Evaluo la clase real contra si misma. Es decir, el caso en que el modelo establece todas las clases en su valor real\n",
    "cohen_kappa_score(y_test,y_test, weights = 'quadratic')"
   ]
  },
  {
   "cell_type": "code",
   "execution_count": 21,
   "metadata": {},
   "outputs": [
    {
     "data": {
      "application/vnd.plotly.v1+json": {
       "config": {
        "plotlyServerURL": "https://plot.ly"
       },
       "data": [
        {
         "type": "heatmap",
         "x": [
          0,
          1,
          2,
          3,
          4
         ],
         "y": [
          0,
          1,
          2,
          3,
          4
         ],
         "z": [
          [
           100,
           0,
           0,
           0,
           0
          ],
          [
           0,
           100,
           0,
           0,
           0
          ],
          [
           0,
           0,
           100,
           0,
           0
          ],
          [
           0,
           0,
           0,
           100,
           0
          ],
          [
           0,
           0,
           0,
           0,
           100
          ]
         ]
        }
       ],
       "layout": {
        "annotations": [
         {
          "font": {
           "color": "white"
          },
          "showarrow": false,
          "text": "100.0 - 82",
          "x": 0,
          "xref": "x",
          "y": 0,
          "yref": "y"
         },
         {
          "font": {
           "color": "white"
          },
          "showarrow": false,
          "text": "0.0 - 0",
          "x": 1,
          "xref": "x",
          "y": 0,
          "yref": "y"
         },
         {
          "font": {
           "color": "white"
          },
          "showarrow": false,
          "text": "0.0 - 0",
          "x": 2,
          "xref": "x",
          "y": 0,
          "yref": "y"
         },
         {
          "font": {
           "color": "white"
          },
          "showarrow": false,
          "text": "0.0 - 0",
          "x": 3,
          "xref": "x",
          "y": 0,
          "yref": "y"
         },
         {
          "font": {
           "color": "white"
          },
          "showarrow": false,
          "text": "0.0 - 0",
          "x": 4,
          "xref": "x",
          "y": 0,
          "yref": "y"
         },
         {
          "font": {
           "color": "white"
          },
          "showarrow": false,
          "text": "0.0 - 0",
          "x": 0,
          "xref": "x",
          "y": 1,
          "yref": "y"
         },
         {
          "font": {
           "color": "white"
          },
          "showarrow": false,
          "text": "100.0 - 618",
          "x": 1,
          "xref": "x",
          "y": 1,
          "yref": "y"
         },
         {
          "font": {
           "color": "white"
          },
          "showarrow": false,
          "text": "0.0 - 0",
          "x": 2,
          "xref": "x",
          "y": 1,
          "yref": "y"
         },
         {
          "font": {
           "color": "white"
          },
          "showarrow": false,
          "text": "0.0 - 0",
          "x": 3,
          "xref": "x",
          "y": 1,
          "yref": "y"
         },
         {
          "font": {
           "color": "white"
          },
          "showarrow": false,
          "text": "0.0 - 0",
          "x": 4,
          "xref": "x",
          "y": 1,
          "yref": "y"
         },
         {
          "font": {
           "color": "white"
          },
          "showarrow": false,
          "text": "0.0 - 0",
          "x": 0,
          "xref": "x",
          "y": 2,
          "yref": "y"
         },
         {
          "font": {
           "color": "white"
          },
          "showarrow": false,
          "text": "0.0 - 0",
          "x": 1,
          "xref": "x",
          "y": 2,
          "yref": "y"
         },
         {
          "font": {
           "color": "white"
          },
          "showarrow": false,
          "text": "100.0 - 807",
          "x": 2,
          "xref": "x",
          "y": 2,
          "yref": "y"
         },
         {
          "font": {
           "color": "white"
          },
          "showarrow": false,
          "text": "0.0 - 0",
          "x": 3,
          "xref": "x",
          "y": 2,
          "yref": "y"
         },
         {
          "font": {
           "color": "white"
          },
          "showarrow": false,
          "text": "0.0 - 0",
          "x": 4,
          "xref": "x",
          "y": 2,
          "yref": "y"
         },
         {
          "font": {
           "color": "white"
          },
          "showarrow": false,
          "text": "0.0 - 0",
          "x": 0,
          "xref": "x",
          "y": 3,
          "yref": "y"
         },
         {
          "font": {
           "color": "white"
          },
          "showarrow": false,
          "text": "0.0 - 0",
          "x": 1,
          "xref": "x",
          "y": 3,
          "yref": "y"
         },
         {
          "font": {
           "color": "white"
          },
          "showarrow": false,
          "text": "0.0 - 0",
          "x": 2,
          "xref": "x",
          "y": 3,
          "yref": "y"
         },
         {
          "font": {
           "color": "white"
          },
          "showarrow": false,
          "text": "100.0 - 652",
          "x": 3,
          "xref": "x",
          "y": 3,
          "yref": "y"
         },
         {
          "font": {
           "color": "white"
          },
          "showarrow": false,
          "text": "0.0 - 0",
          "x": 4,
          "xref": "x",
          "y": 3,
          "yref": "y"
         },
         {
          "font": {
           "color": "white"
          },
          "showarrow": false,
          "text": "0.0 - 0",
          "x": 0,
          "xref": "x",
          "y": 4,
          "yref": "y"
         },
         {
          "font": {
           "color": "white"
          },
          "showarrow": false,
          "text": "0.0 - 0",
          "x": 1,
          "xref": "x",
          "y": 4,
          "yref": "y"
         },
         {
          "font": {
           "color": "white"
          },
          "showarrow": false,
          "text": "0.0 - 0",
          "x": 2,
          "xref": "x",
          "y": 4,
          "yref": "y"
         },
         {
          "font": {
           "color": "white"
          },
          "showarrow": false,
          "text": "0.0 - 0",
          "x": 3,
          "xref": "x",
          "y": 4,
          "yref": "y"
         },
         {
          "font": {
           "color": "white"
          },
          "showarrow": false,
          "text": "100.0 - 840",
          "x": 4,
          "xref": "x",
          "y": 4,
          "yref": "y"
         }
        ],
        "height": 800,
        "template": {
         "data": {
          "bar": [
           {
            "error_x": {
             "color": "#2a3f5f"
            },
            "error_y": {
             "color": "#2a3f5f"
            },
            "marker": {
             "line": {
              "color": "#E5ECF6",
              "width": 0.5
             },
             "pattern": {
              "fillmode": "overlay",
              "size": 10,
              "solidity": 0.2
             }
            },
            "type": "bar"
           }
          ],
          "barpolar": [
           {
            "marker": {
             "line": {
              "color": "#E5ECF6",
              "width": 0.5
             },
             "pattern": {
              "fillmode": "overlay",
              "size": 10,
              "solidity": 0.2
             }
            },
            "type": "barpolar"
           }
          ],
          "carpet": [
           {
            "aaxis": {
             "endlinecolor": "#2a3f5f",
             "gridcolor": "white",
             "linecolor": "white",
             "minorgridcolor": "white",
             "startlinecolor": "#2a3f5f"
            },
            "baxis": {
             "endlinecolor": "#2a3f5f",
             "gridcolor": "white",
             "linecolor": "white",
             "minorgridcolor": "white",
             "startlinecolor": "#2a3f5f"
            },
            "type": "carpet"
           }
          ],
          "choropleth": [
           {
            "colorbar": {
             "outlinewidth": 0,
             "ticks": ""
            },
            "type": "choropleth"
           }
          ],
          "contour": [
           {
            "colorbar": {
             "outlinewidth": 0,
             "ticks": ""
            },
            "colorscale": [
             [
              0,
              "#0d0887"
             ],
             [
              0.1111111111111111,
              "#46039f"
             ],
             [
              0.2222222222222222,
              "#7201a8"
             ],
             [
              0.3333333333333333,
              "#9c179e"
             ],
             [
              0.4444444444444444,
              "#bd3786"
             ],
             [
              0.5555555555555556,
              "#d8576b"
             ],
             [
              0.6666666666666666,
              "#ed7953"
             ],
             [
              0.7777777777777778,
              "#fb9f3a"
             ],
             [
              0.8888888888888888,
              "#fdca26"
             ],
             [
              1,
              "#f0f921"
             ]
            ],
            "type": "contour"
           }
          ],
          "contourcarpet": [
           {
            "colorbar": {
             "outlinewidth": 0,
             "ticks": ""
            },
            "type": "contourcarpet"
           }
          ],
          "heatmap": [
           {
            "colorbar": {
             "outlinewidth": 0,
             "ticks": ""
            },
            "colorscale": [
             [
              0,
              "#0d0887"
             ],
             [
              0.1111111111111111,
              "#46039f"
             ],
             [
              0.2222222222222222,
              "#7201a8"
             ],
             [
              0.3333333333333333,
              "#9c179e"
             ],
             [
              0.4444444444444444,
              "#bd3786"
             ],
             [
              0.5555555555555556,
              "#d8576b"
             ],
             [
              0.6666666666666666,
              "#ed7953"
             ],
             [
              0.7777777777777778,
              "#fb9f3a"
             ],
             [
              0.8888888888888888,
              "#fdca26"
             ],
             [
              1,
              "#f0f921"
             ]
            ],
            "type": "heatmap"
           }
          ],
          "heatmapgl": [
           {
            "colorbar": {
             "outlinewidth": 0,
             "ticks": ""
            },
            "colorscale": [
             [
              0,
              "#0d0887"
             ],
             [
              0.1111111111111111,
              "#46039f"
             ],
             [
              0.2222222222222222,
              "#7201a8"
             ],
             [
              0.3333333333333333,
              "#9c179e"
             ],
             [
              0.4444444444444444,
              "#bd3786"
             ],
             [
              0.5555555555555556,
              "#d8576b"
             ],
             [
              0.6666666666666666,
              "#ed7953"
             ],
             [
              0.7777777777777778,
              "#fb9f3a"
             ],
             [
              0.8888888888888888,
              "#fdca26"
             ],
             [
              1,
              "#f0f921"
             ]
            ],
            "type": "heatmapgl"
           }
          ],
          "histogram": [
           {
            "marker": {
             "pattern": {
              "fillmode": "overlay",
              "size": 10,
              "solidity": 0.2
             }
            },
            "type": "histogram"
           }
          ],
          "histogram2d": [
           {
            "colorbar": {
             "outlinewidth": 0,
             "ticks": ""
            },
            "colorscale": [
             [
              0,
              "#0d0887"
             ],
             [
              0.1111111111111111,
              "#46039f"
             ],
             [
              0.2222222222222222,
              "#7201a8"
             ],
             [
              0.3333333333333333,
              "#9c179e"
             ],
             [
              0.4444444444444444,
              "#bd3786"
             ],
             [
              0.5555555555555556,
              "#d8576b"
             ],
             [
              0.6666666666666666,
              "#ed7953"
             ],
             [
              0.7777777777777778,
              "#fb9f3a"
             ],
             [
              0.8888888888888888,
              "#fdca26"
             ],
             [
              1,
              "#f0f921"
             ]
            ],
            "type": "histogram2d"
           }
          ],
          "histogram2dcontour": [
           {
            "colorbar": {
             "outlinewidth": 0,
             "ticks": ""
            },
            "colorscale": [
             [
              0,
              "#0d0887"
             ],
             [
              0.1111111111111111,
              "#46039f"
             ],
             [
              0.2222222222222222,
              "#7201a8"
             ],
             [
              0.3333333333333333,
              "#9c179e"
             ],
             [
              0.4444444444444444,
              "#bd3786"
             ],
             [
              0.5555555555555556,
              "#d8576b"
             ],
             [
              0.6666666666666666,
              "#ed7953"
             ],
             [
              0.7777777777777778,
              "#fb9f3a"
             ],
             [
              0.8888888888888888,
              "#fdca26"
             ],
             [
              1,
              "#f0f921"
             ]
            ],
            "type": "histogram2dcontour"
           }
          ],
          "mesh3d": [
           {
            "colorbar": {
             "outlinewidth": 0,
             "ticks": ""
            },
            "type": "mesh3d"
           }
          ],
          "parcoords": [
           {
            "line": {
             "colorbar": {
              "outlinewidth": 0,
              "ticks": ""
             }
            },
            "type": "parcoords"
           }
          ],
          "pie": [
           {
            "automargin": true,
            "type": "pie"
           }
          ],
          "scatter": [
           {
            "fillpattern": {
             "fillmode": "overlay",
             "size": 10,
             "solidity": 0.2
            },
            "type": "scatter"
           }
          ],
          "scatter3d": [
           {
            "line": {
             "colorbar": {
              "outlinewidth": 0,
              "ticks": ""
             }
            },
            "marker": {
             "colorbar": {
              "outlinewidth": 0,
              "ticks": ""
             }
            },
            "type": "scatter3d"
           }
          ],
          "scattercarpet": [
           {
            "marker": {
             "colorbar": {
              "outlinewidth": 0,
              "ticks": ""
             }
            },
            "type": "scattercarpet"
           }
          ],
          "scattergeo": [
           {
            "marker": {
             "colorbar": {
              "outlinewidth": 0,
              "ticks": ""
             }
            },
            "type": "scattergeo"
           }
          ],
          "scattergl": [
           {
            "marker": {
             "colorbar": {
              "outlinewidth": 0,
              "ticks": ""
             }
            },
            "type": "scattergl"
           }
          ],
          "scattermapbox": [
           {
            "marker": {
             "colorbar": {
              "outlinewidth": 0,
              "ticks": ""
             }
            },
            "type": "scattermapbox"
           }
          ],
          "scatterpolar": [
           {
            "marker": {
             "colorbar": {
              "outlinewidth": 0,
              "ticks": ""
             }
            },
            "type": "scatterpolar"
           }
          ],
          "scatterpolargl": [
           {
            "marker": {
             "colorbar": {
              "outlinewidth": 0,
              "ticks": ""
             }
            },
            "type": "scatterpolargl"
           }
          ],
          "scatterternary": [
           {
            "marker": {
             "colorbar": {
              "outlinewidth": 0,
              "ticks": ""
             }
            },
            "type": "scatterternary"
           }
          ],
          "surface": [
           {
            "colorbar": {
             "outlinewidth": 0,
             "ticks": ""
            },
            "colorscale": [
             [
              0,
              "#0d0887"
             ],
             [
              0.1111111111111111,
              "#46039f"
             ],
             [
              0.2222222222222222,
              "#7201a8"
             ],
             [
              0.3333333333333333,
              "#9c179e"
             ],
             [
              0.4444444444444444,
              "#bd3786"
             ],
             [
              0.5555555555555556,
              "#d8576b"
             ],
             [
              0.6666666666666666,
              "#ed7953"
             ],
             [
              0.7777777777777778,
              "#fb9f3a"
             ],
             [
              0.8888888888888888,
              "#fdca26"
             ],
             [
              1,
              "#f0f921"
             ]
            ],
            "type": "surface"
           }
          ],
          "table": [
           {
            "cells": {
             "fill": {
              "color": "#EBF0F8"
             },
             "line": {
              "color": "white"
             }
            },
            "header": {
             "fill": {
              "color": "#C8D4E3"
             },
             "line": {
              "color": "white"
             }
            },
            "type": "table"
           }
          ]
         },
         "layout": {
          "annotationdefaults": {
           "arrowcolor": "#2a3f5f",
           "arrowhead": 0,
           "arrowwidth": 1
          },
          "autotypenumbers": "strict",
          "coloraxis": {
           "colorbar": {
            "outlinewidth": 0,
            "ticks": ""
           }
          },
          "colorscale": {
           "diverging": [
            [
             0,
             "#8e0152"
            ],
            [
             0.1,
             "#c51b7d"
            ],
            [
             0.2,
             "#de77ae"
            ],
            [
             0.3,
             "#f1b6da"
            ],
            [
             0.4,
             "#fde0ef"
            ],
            [
             0.5,
             "#f7f7f7"
            ],
            [
             0.6,
             "#e6f5d0"
            ],
            [
             0.7,
             "#b8e186"
            ],
            [
             0.8,
             "#7fbc41"
            ],
            [
             0.9,
             "#4d9221"
            ],
            [
             1,
             "#276419"
            ]
           ],
           "sequential": [
            [
             0,
             "#0d0887"
            ],
            [
             0.1111111111111111,
             "#46039f"
            ],
            [
             0.2222222222222222,
             "#7201a8"
            ],
            [
             0.3333333333333333,
             "#9c179e"
            ],
            [
             0.4444444444444444,
             "#bd3786"
            ],
            [
             0.5555555555555556,
             "#d8576b"
            ],
            [
             0.6666666666666666,
             "#ed7953"
            ],
            [
             0.7777777777777778,
             "#fb9f3a"
            ],
            [
             0.8888888888888888,
             "#fdca26"
            ],
            [
             1,
             "#f0f921"
            ]
           ],
           "sequentialminus": [
            [
             0,
             "#0d0887"
            ],
            [
             0.1111111111111111,
             "#46039f"
            ],
            [
             0.2222222222222222,
             "#7201a8"
            ],
            [
             0.3333333333333333,
             "#9c179e"
            ],
            [
             0.4444444444444444,
             "#bd3786"
            ],
            [
             0.5555555555555556,
             "#d8576b"
            ],
            [
             0.6666666666666666,
             "#ed7953"
            ],
            [
             0.7777777777777778,
             "#fb9f3a"
            ],
            [
             0.8888888888888888,
             "#fdca26"
            ],
            [
             1,
             "#f0f921"
            ]
           ]
          },
          "colorway": [
           "#636efa",
           "#EF553B",
           "#00cc96",
           "#ab63fa",
           "#FFA15A",
           "#19d3f3",
           "#FF6692",
           "#B6E880",
           "#FF97FF",
           "#FECB52"
          ],
          "font": {
           "color": "#2a3f5f"
          },
          "geo": {
           "bgcolor": "white",
           "lakecolor": "white",
           "landcolor": "#E5ECF6",
           "showlakes": true,
           "showland": true,
           "subunitcolor": "white"
          },
          "hoverlabel": {
           "align": "left"
          },
          "hovermode": "closest",
          "mapbox": {
           "style": "light"
          },
          "paper_bgcolor": "white",
          "plot_bgcolor": "#E5ECF6",
          "polar": {
           "angularaxis": {
            "gridcolor": "white",
            "linecolor": "white",
            "ticks": ""
           },
           "bgcolor": "#E5ECF6",
           "radialaxis": {
            "gridcolor": "white",
            "linecolor": "white",
            "ticks": ""
           }
          },
          "scene": {
           "xaxis": {
            "backgroundcolor": "#E5ECF6",
            "gridcolor": "white",
            "gridwidth": 2,
            "linecolor": "white",
            "showbackground": true,
            "ticks": "",
            "zerolinecolor": "white"
           },
           "yaxis": {
            "backgroundcolor": "#E5ECF6",
            "gridcolor": "white",
            "gridwidth": 2,
            "linecolor": "white",
            "showbackground": true,
            "ticks": "",
            "zerolinecolor": "white"
           },
           "zaxis": {
            "backgroundcolor": "#E5ECF6",
            "gridcolor": "white",
            "gridwidth": 2,
            "linecolor": "white",
            "showbackground": true,
            "ticks": "",
            "zerolinecolor": "white"
           }
          },
          "shapedefaults": {
           "line": {
            "color": "#2a3f5f"
           }
          },
          "ternary": {
           "aaxis": {
            "gridcolor": "white",
            "linecolor": "white",
            "ticks": ""
           },
           "baxis": {
            "gridcolor": "white",
            "linecolor": "white",
            "ticks": ""
           },
           "bgcolor": "#E5ECF6",
           "caxis": {
            "gridcolor": "white",
            "linecolor": "white",
            "ticks": ""
           }
          },
          "title": {
           "x": 0.05
          },
          "xaxis": {
           "automargin": true,
           "gridcolor": "white",
           "linecolor": "white",
           "ticks": "",
           "title": {
            "standoff": 15
           },
           "zerolinecolor": "white",
           "zerolinewidth": 2
          },
          "yaxis": {
           "automargin": true,
           "gridcolor": "white",
           "linecolor": "white",
           "ticks": "",
           "title": {
            "standoff": 15
           },
           "zerolinecolor": "white",
           "zerolinewidth": 2
          }
         }
        },
        "title": {
         "text": "Conf Matrix"
        },
        "width": 800,
        "xaxis": {
         "title": {
          "text": "Predicted value"
         }
        },
        "yaxis": {
         "title": {
          "text": "Real value"
         }
        }
       }
      }
     },
     "metadata": {},
     "output_type": "display_data"
    }
   ],
   "source": [
    "#Como se veria la matriz de confusión\n",
    "display(plot_confusion_matrix(y_test,y_test))"
   ]
  },
  {
   "cell_type": "code",
   "execution_count": 22,
   "metadata": {},
   "outputs": [],
   "source": [
    "#Vamos a ver como se comporta kappa si hago una predicción al azar (respetando las proporciones de cada clase)\n",
    "y_shuffled = shuffle(y_test,\n",
    "                     random_state = 42)\n",
    "\n",
    "\n",
    "#Genero diccionarios para cambiar algunas predicicones reales por una prediccion cercana y_cerca y una lejana y_lejos a la real \n",
    "# ejemplo: la real es 0, voy a estimar 1 para la cercana y 4 para la lejana\n",
    "dict_map_cerca = {0:1,\n",
    "                  1:2,\n",
    "                  2:3,\n",
    "                  3:4,\n",
    "                  4:3}\n",
    "\n",
    "dict_map_lejos = {0:4,\n",
    "                  1:4,\n",
    "                  2:0,\n",
    "                  3:0,\n",
    "                  4:0}\n",
    "\n",
    "y_cerca = [dict_map_cerca[i] for i in y_test]\n",
    "\n",
    "y_lejos = [dict_map_lejos[i] for i in y_test]\n"
   ]
  },
  {
   "cell_type": "code",
   "execution_count": 23,
   "metadata": {},
   "outputs": [],
   "source": [
    "\n",
    "#Vamos a simular que la probabilidad de tener la prediccion real en casa muestra varia de 0 a 100. \n",
    "#Genero una numero aleatorio para cada muestra\n",
    "random_list =  np.random.rand(len(y_test))\n",
    "\n",
    "#inicializo un dataframe de resultados vacio\n",
    "kappa_progression = pd.DataFrame()\n",
    "\n",
    "#La variable i tiene un umbral para ir variando la cantidad de aciertos desde 0% a 100%\n",
    "for i in range(101):\n",
    "\n",
    "    #Genero la prediccion para i% de aciertos donde cuando no acierto me quedo con una prediccion al azar (podria ser la \"correcta\" pero solo por azar)\n",
    "    y_simulado = [y_test.iloc[sample] if random_list[sample]<i/100 else y_shuffled.iloc[sample] for sample in range(len(y_test))]\n",
    "\n",
    "    #Genero la prediccion para i% de aciertos donde cuando no acierto me quedo con una prediccion cercana o lejana a la correcta\n",
    "    y_simulado_cerca = [y_test.iloc[sample] if random_list[sample]<i/100 else y_cerca[sample] for sample in range(len(y_test))]\n",
    "    y_simulado_lejos = [y_test.iloc[sample] if random_list[sample]<i/100 else y_lejos[sample] for sample in range(len(y_test))]\n",
    "\n",
    "\n",
    "    #Grabo los resultados en un dataframe para cada i% de aciertos\n",
    "    kappa_progression = pd.concat([kappa_progression,\n",
    "                                   pd.DataFrame({'Conocidos':[i],\n",
    "                                                'kappa':cohen_kappa_score(y_test,\n",
    "                                                                        y_simulado,\n",
    "                                                                        weights = 'quadratic'),\n",
    "                                                'kappa_cerca':cohen_kappa_score(y_test,\n",
    "                                                                        y_simulado_cerca,\n",
    "                                                                        weights = 'quadratic'),\n",
    "                                                'kappa_lejos':cohen_kappa_score(y_test,\n",
    "                                                                        y_simulado_lejos,\n",
    "                                                                        weights = 'quadratic'),                                                                        \n",
    "                                                'accuracy':accuracy_score(y_test,\n",
    "                                                                        y_simulado),\n",
    "                                                'balanced_accuracy':balanced_accuracy_score(y_test,\n",
    "                                                                        y_simulado),\n",
    "                                                                        })],\n",
    "                ignore_index=True)"
   ]
  },
  {
   "cell_type": "code",
   "execution_count": 24,
   "metadata": {},
   "outputs": [
    {
     "data": {
      "application/vnd.plotly.v1+json": {
       "config": {
        "plotlyServerURL": "https://plot.ly"
       },
       "data": [
        {
         "hovertemplate": "variable=kappa<br>Conocidos=%{x}<br>value=%{y}<extra></extra>",
         "legendgroup": "kappa",
         "line": {
          "color": "#636efa",
          "dash": "solid"
         },
         "marker": {
          "symbol": "circle"
         },
         "mode": "lines",
         "name": "kappa",
         "orientation": "v",
         "showlegend": true,
         "type": "scatter",
         "x": [
          0,
          1,
          2,
          3,
          4,
          5,
          6,
          7,
          8,
          9,
          10,
          11,
          12,
          13,
          14,
          15,
          16,
          17,
          18,
          19,
          20,
          21,
          22,
          23,
          24,
          25,
          26,
          27,
          28,
          29,
          30,
          31,
          32,
          33,
          34,
          35,
          36,
          37,
          38,
          39,
          40,
          41,
          42,
          43,
          44,
          45,
          46,
          47,
          48,
          49,
          50,
          51,
          52,
          53,
          54,
          55,
          56,
          57,
          58,
          59,
          60,
          61,
          62,
          63,
          64,
          65,
          66,
          67,
          68,
          69,
          70,
          71,
          72,
          73,
          74,
          75,
          76,
          77,
          78,
          79,
          80,
          81,
          82,
          83,
          84,
          85,
          86,
          87,
          88,
          89,
          90,
          91,
          92,
          93,
          94,
          95,
          96,
          97,
          98,
          99,
          100
         ],
         "xaxis": "x",
         "y": [
          -0.0084438812302563,
          0.00020831927893461,
          0.009471738520345885,
          0.01832902905263989,
          0.030061166824273178,
          0.03987209594064356,
          0.049535161344966494,
          0.05743763563612103,
          0.07137105997290938,
          0.07870917747506834,
          0.08660243731635953,
          0.09610439186323616,
          0.10843464995012986,
          0.11452303703489819,
          0.1297946861673286,
          0.14097110159267745,
          0.14731174313682827,
          0.15498604135236504,
          0.16147436015718608,
          0.17257771277183587,
          0.1835333196228165,
          0.19357156155237754,
          0.20780813004942655,
          0.2158962027755077,
          0.22679807217627224,
          0.2380252243259019,
          0.24766989665271633,
          0.2558592174369262,
          0.26702535993420506,
          0.2775728477027698,
          0.28494002066685553,
          0.2928238841186387,
          0.30521947160725904,
          0.3170567516922269,
          0.32717921881091183,
          0.3385274489831478,
          0.3515580028806954,
          0.363581842612276,
          0.3722669686597483,
          0.37787481821394864,
          0.3889073411861277,
          0.3969403867133824,
          0.4086301293251411,
          0.4265473916457594,
          0.4353598919331271,
          0.44896107174384015,
          0.45757589197974724,
          0.47114199453652084,
          0.47778968637301,
          0.4880333368409774,
          0.49705447853882234,
          0.5012802819446578,
          0.5116011903807529,
          0.5225219949138437,
          0.5410181104555115,
          0.5529182898832284,
          0.5604207435126027,
          0.5692146355964859,
          0.5766841126471982,
          0.5825829214023461,
          0.59518897841082,
          0.6030936145002088,
          0.6125263160217015,
          0.6208619682408849,
          0.6256923382311592,
          0.6365014184696581,
          0.648546124726201,
          0.6563782000743177,
          0.6651749041909281,
          0.6735426396244981,
          0.6824016133601392,
          0.6925381259236983,
          0.7084777105257869,
          0.715931650016914,
          0.7293594949640945,
          0.7369663605393296,
          0.746135944152186,
          0.7555708916076243,
          0.7634119805484527,
          0.7759263530924463,
          0.7825419098494605,
          0.7956554064189139,
          0.8072875316591815,
          0.8171287840231184,
          0.8324667187545686,
          0.8442698271276515,
          0.8551550599133538,
          0.8617921098163255,
          0.8707710337262725,
          0.8785598650076113,
          0.8914301254556021,
          0.8966107002500586,
          0.9065187944510562,
          0.915936764326201,
          0.9292333488138674,
          0.9446167121912401,
          0.9561350904649768,
          0.964105212640251,
          0.9777908506302556,
          0.9859479203656617,
          1
         ],
         "yaxis": "y"
        },
        {
         "hovertemplate": "variable=kappa_cerca<br>Conocidos=%{x}<br>value=%{y}<extra></extra>",
         "legendgroup": "kappa_cerca",
         "line": {
          "color": "#EF553B",
          "dash": "solid"
         },
         "marker": {
          "symbol": "circle"
         },
         "mode": "lines",
         "name": "kappa_cerca",
         "orientation": "v",
         "showlegend": true,
         "type": "scatter",
         "x": [
          0,
          1,
          2,
          3,
          4,
          5,
          6,
          7,
          8,
          9,
          10,
          11,
          12,
          13,
          14,
          15,
          16,
          17,
          18,
          19,
          20,
          21,
          22,
          23,
          24,
          25,
          26,
          27,
          28,
          29,
          30,
          31,
          32,
          33,
          34,
          35,
          36,
          37,
          38,
          39,
          40,
          41,
          42,
          43,
          44,
          45,
          46,
          47,
          48,
          49,
          50,
          51,
          52,
          53,
          54,
          55,
          56,
          57,
          58,
          59,
          60,
          61,
          62,
          63,
          64,
          65,
          66,
          67,
          68,
          69,
          70,
          71,
          72,
          73,
          74,
          75,
          76,
          77,
          78,
          79,
          80,
          81,
          82,
          83,
          84,
          85,
          86,
          87,
          88,
          89,
          90,
          91,
          92,
          93,
          94,
          95,
          96,
          97,
          98,
          99,
          100
         ],
         "xaxis": "x",
         "y": [
          0.5261777791943391,
          0.5302893851686155,
          0.536385019345254,
          0.544014546136905,
          0.551158237377223,
          0.5572445715284291,
          0.5632502609992311,
          0.5673522577420038,
          0.5741325664474473,
          0.5796577988522451,
          0.5849703637096486,
          0.5902327183241665,
          0.5968587694219354,
          0.6006563735970518,
          0.6078203785736922,
          0.613925774341489,
          0.6191232006176826,
          0.6237263033608018,
          0.627992906388412,
          0.6319204152900493,
          0.6378834783957343,
          0.6445873815679182,
          0.6514202943413853,
          0.6563173195450238,
          0.6618873940200143,
          0.666737832194439,
          0.6722133564516235,
          0.6769841192693861,
          0.6846588637948874,
          0.689962741887746,
          0.6940126822002773,
          0.6988837597864622,
          0.7033721953656402,
          0.708618429259275,
          0.7132936076491261,
          0.7184781710645421,
          0.7241960087812844,
          0.7278916335169818,
          0.7329553212933587,
          0.7366102887694919,
          0.7413956221951088,
          0.7457871669357017,
          0.751077712856945,
          0.7574438150387579,
          0.7621194036179578,
          0.7670303249861159,
          0.7714961045045803,
          0.7770295842063499,
          0.7813741570985967,
          0.7865279439750434,
          0.7916580740270717,
          0.7954273669476136,
          0.8001851953397647,
          0.8051114217536136,
          0.8117206546283009,
          0.8166240568343639,
          0.8199244972156959,
          0.8244358467279526,
          0.8273584958705287,
          0.8310757661344745,
          0.8365515977260491,
          0.8412532726129499,
          0.8455423899840959,
          0.8499164547871966,
          0.8534682110493235,
          0.8585759071118072,
          0.8639735194124116,
          0.867867699558629,
          0.8710657635030756,
          0.8753917084249443,
          0.8803190781791792,
          0.8851849769098893,
          0.8903391693440622,
          0.8944686629148844,
          0.8992310122832825,
          0.9029686287038221,
          0.90703302119944,
          0.9122500069305031,
          0.9169276434596761,
          0.9211672330850733,
          0.9241876359022868,
          0.9282076767270055,
          0.9327455345174291,
          0.9362446768821234,
          0.9405999976969066,
          0.9448140520981345,
          0.9489101338655115,
          0.9519661921767251,
          0.9555408928692551,
          0.958759116747767,
          0.962953155902543,
          0.9651960148492389,
          0.968617532968505,
          0.9721267735056375,
          0.9762210564079455,
          0.9806831101326565,
          0.9852187705026647,
          0.9899497314976958,
          0.9940814765896504,
          0.9962629717616787,
          1
         ],
         "yaxis": "y"
        },
        {
         "hovertemplate": "variable=kappa_lejos<br>Conocidos=%{x}<br>value=%{y}<extra></extra>",
         "legendgroup": "kappa_lejos",
         "line": {
          "color": "#00cc96",
          "dash": "solid"
         },
         "marker": {
          "symbol": "circle"
         },
         "mode": "lines",
         "name": "kappa_lejos",
         "orientation": "v",
         "showlegend": true,
         "type": "scatter",
         "x": [
          0,
          1,
          2,
          3,
          4,
          5,
          6,
          7,
          8,
          9,
          10,
          11,
          12,
          13,
          14,
          15,
          16,
          17,
          18,
          19,
          20,
          21,
          22,
          23,
          24,
          25,
          26,
          27,
          28,
          29,
          30,
          31,
          32,
          33,
          34,
          35,
          36,
          37,
          38,
          39,
          40,
          41,
          42,
          43,
          44,
          45,
          46,
          47,
          48,
          49,
          50,
          51,
          52,
          53,
          54,
          55,
          56,
          57,
          58,
          59,
          60,
          61,
          62,
          63,
          64,
          65,
          66,
          67,
          68,
          69,
          70,
          71,
          72,
          73,
          74,
          75,
          76,
          77,
          78,
          79,
          80,
          81,
          82,
          83,
          84,
          85,
          86,
          87,
          88,
          89,
          90,
          91,
          92,
          93,
          94,
          95,
          96,
          97,
          98,
          99,
          100
         ],
         "xaxis": "x",
         "y": [
          -0.45165018440277804,
          -0.44745481397198783,
          -0.441363467787556,
          -0.43255079302674115,
          -0.4241654033074791,
          -0.41699976578050846,
          -0.40984299912398203,
          -0.4061387886697654,
          -0.3982345723002354,
          -0.3904322408390224,
          -0.38304854740767924,
          -0.37683284036799414,
          -0.3673188115143575,
          -0.36558217742119403,
          -0.35598747468758796,
          -0.3493729427483192,
          -0.34338831700717454,
          -0.3384995778676916,
          -0.3328263762837975,
          -0.3265333809888442,
          -0.31917229755464516,
          -0.31056809036573374,
          -0.2996779788360526,
          -0.2946219761020441,
          -0.2832491336654275,
          -0.2763484745188707,
          -0.26765478764981254,
          -0.25794962502776086,
          -0.24789365037041033,
          -0.23854864608182913,
          -0.23335359766367803,
          -0.22625428765752775,
          -0.220060046124412,
          -0.2088173194161278,
          -0.19865453304828207,
          -0.18654448062102436,
          -0.17729703365089478,
          -0.16901959478093365,
          -0.16246327135955174,
          -0.15601928421092381,
          -0.14463176305506287,
          -0.13568400163661987,
          -0.12372955144238329,
          -0.113390625502646,
          -0.10368956919236294,
          -0.0889796641062548,
          -0.0783167859995848,
          -0.06696765453319165,
          -0.05454075341602538,
          -0.04438832799537851,
          -0.03395395585174166,
          -0.027851915296425833,
          -0.013053355736362793,
          0.0016011922346523821,
          0.02333734896869899,
          0.03658237050056179,
          0.04452938393076389,
          0.054319228672743525,
          0.06349248443475719,
          0.07307324225669853,
          0.09255330798769046,
          0.10686650410275589,
          0.11838747596413801,
          0.13248526528912374,
          0.142761937500555,
          0.16154344458886294,
          0.17663216582989305,
          0.1916903352201631,
          0.2038441183641838,
          0.21962561049788532,
          0.2393294697975764,
          0.26025422457448155,
          0.2866234553083311,
          0.2987995224469704,
          0.3181142280911441,
          0.33308843906478947,
          0.3561014953116993,
          0.379745443799957,
          0.40506449225923635,
          0.42343410099478695,
          0.4436362960731377,
          0.4675933234218783,
          0.4919344879909401,
          0.5136006394827453,
          0.5416551199190438,
          0.5707028599153279,
          0.5953829905147795,
          0.6153884046376015,
          0.6403101901118615,
          0.6629925369326728,
          0.6975801536889268,
          0.7133899440625491,
          0.7426154963707541,
          0.7686031400528293,
          0.7961644135727179,
          0.8315901001461898,
          0.8714089943606981,
          0.9082374988043553,
          0.9448904719822321,
          0.9654343181469396,
          1
         ],
         "yaxis": "y"
        },
        {
         "hovertemplate": "variable=accuracy<br>Conocidos=%{x}<br>value=%{y}<extra></extra>",
         "legendgroup": "accuracy",
         "line": {
          "color": "#ab63fa",
          "dash": "solid"
         },
         "marker": {
          "symbol": "circle"
         },
         "mode": "lines",
         "name": "accuracy",
         "orientation": "v",
         "showlegend": true,
         "type": "scatter",
         "x": [
          0,
          1,
          2,
          3,
          4,
          5,
          6,
          7,
          8,
          9,
          10,
          11,
          12,
          13,
          14,
          15,
          16,
          17,
          18,
          19,
          20,
          21,
          22,
          23,
          24,
          25,
          26,
          27,
          28,
          29,
          30,
          31,
          32,
          33,
          34,
          35,
          36,
          37,
          38,
          39,
          40,
          41,
          42,
          43,
          44,
          45,
          46,
          47,
          48,
          49,
          50,
          51,
          52,
          53,
          54,
          55,
          56,
          57,
          58,
          59,
          60,
          61,
          62,
          63,
          64,
          65,
          66,
          67,
          68,
          69,
          70,
          71,
          72,
          73,
          74,
          75,
          76,
          77,
          78,
          79,
          80,
          81,
          82,
          83,
          84,
          85,
          86,
          87,
          88,
          89,
          90,
          91,
          92,
          93,
          94,
          95,
          96,
          97,
          98,
          99,
          100
         ],
         "xaxis": "x",
         "y": [
          0.24141380460153383,
          0.2474158052684228,
          0.25608536178726243,
          0.26608869623207737,
          0.274758252750917,
          0.2827609203067689,
          0.29076358786262085,
          0.298432810936979,
          0.30776925641880626,
          0.3124374791597199,
          0.3177725908636212,
          0.324108036012004,
          0.3327775925308436,
          0.33944648216072026,
          0.34911637212404134,
          0.3581193731243748,
          0.36645548516172055,
          0.37279093031010335,
          0.37879293097699235,
          0.3847949316438813,
          0.3924641547182394,
          0.39913304434811603,
          0.40913637879293097,
          0.41647215738579524,
          0.4234744914971657,
          0.43081027009003003,
          0.4384794931643881,
          0.4434811603867956,
          0.45481827275758585,
          0.46348782927642546,
          0.4701567189063021,
          0.4764921640546849,
          0.48449483161053686,
          0.49083027675891966,
          0.49816605535178393,
          0.5051683894631543,
          0.513837945981994,
          0.5208402800933645,
          0.5288429476492164,
          0.5331777259086362,
          0.5391797265755252,
          0.545515171723908,
          0.5531843947982661,
          0.5635211737245749,
          0.5725241747249084,
          0.5801933977992664,
          0.586862287429143,
          0.5961987329109704,
          0.6015338446148716,
          0.610536845615205,
          0.616538846282094,
          0.622540846948983,
          0.6315438479493164,
          0.6398799599866623,
          0.6505501833944648,
          0.6592197399133044,
          0.6655551850616872,
          0.6742247415805268,
          0.6792264088029343,
          0.6862287429143048,
          0.6945648549516505,
          0.7022340780260087,
          0.7092364121373791,
          0.7169056352117372,
          0.7219073024341447,
          0.7295765255085028,
          0.7382460820273424,
          0.7449149716572191,
          0.7502500833611204,
          0.7579193064354784,
          0.7659219739913304,
          0.7739246415471824,
          0.7839279759919974,
          0.7905968656218739,
          0.8002667555851951,
          0.8066022007335779,
          0.8136045348449483,
          0.8229409803267755,
          0.8306102034011337,
          0.8389463154384795,
          0.843947982660887,
          0.8526175391797266,
          0.8609536512170723,
          0.8682894298099366,
          0.8772924308102701,
          0.8856285428476158,
          0.8949649883294432,
          0.9009669889963321,
          0.9079693231077026,
          0.9136378792930977,
          0.9213071023674558,
          0.9263087695898633,
          0.93297765921974,
          0.9409803267755918,
          0.9496498832944315,
          0.9579859953317773,
          0.9669889963321107,
          0.9773257752584195,
          0.9873291097032344,
          0.9923307769256419,
          1
         ],
         "yaxis": "y"
        },
        {
         "hovertemplate": "variable=balanced_accuracy<br>Conocidos=%{x}<br>value=%{y}<extra></extra>",
         "legendgroup": "balanced_accuracy",
         "line": {
          "color": "#FFA15A",
          "dash": "solid"
         },
         "marker": {
          "symbol": "circle"
         },
         "mode": "lines",
         "name": "balanced_accuracy",
         "orientation": "v",
         "showlegend": true,
         "type": "scatter",
         "x": [
          0,
          1,
          2,
          3,
          4,
          5,
          6,
          7,
          8,
          9,
          10,
          11,
          12,
          13,
          14,
          15,
          16,
          17,
          18,
          19,
          20,
          21,
          22,
          23,
          24,
          25,
          26,
          27,
          28,
          29,
          30,
          31,
          32,
          33,
          34,
          35,
          36,
          37,
          38,
          39,
          40,
          41,
          42,
          43,
          44,
          45,
          46,
          47,
          48,
          49,
          50,
          51,
          52,
          53,
          54,
          55,
          56,
          57,
          58,
          59,
          60,
          61,
          62,
          63,
          64,
          65,
          66,
          67,
          68,
          69,
          70,
          71,
          72,
          73,
          74,
          75,
          76,
          77,
          78,
          79,
          80,
          81,
          82,
          83,
          84,
          85,
          86,
          87,
          88,
          89,
          90,
          91,
          92,
          93,
          94,
          95,
          96,
          97,
          98,
          99,
          100
         ],
         "xaxis": "x",
         "y": [
          0.19781671101270798,
          0.2071359428689524,
          0.2143785852198219,
          0.22268430261368363,
          0.2295401903288158,
          0.23815571768964539,
          0.25128524507786,
          0.26191797979548637,
          0.27601936060908594,
          0.27962161459483587,
          0.2842383999342576,
          0.29167203862979696,
          0.3010132046462295,
          0.3064191012546616,
          0.3163443864217646,
          0.323775943255571,
          0.33064578025581287,
          0.3379109565803967,
          0.34274994066767933,
          0.3499343002561451,
          0.35832291624785784,
          0.36602126254720607,
          0.374284939078619,
          0.3804210178915711,
          0.3884978618017801,
          0.39881555944912317,
          0.40960846793367944,
          0.413669056627431,
          0.42296040765944853,
          0.4324039791624668,
          0.4380878835211496,
          0.4453459199530238,
          0.45629399066209386,
          0.46375993398358,
          0.4742097453996629,
          0.48437682437140933,
          0.4935172233909396,
          0.5015280104167786,
          0.5079240842122837,
          0.5114086732870516,
          0.5184726025484042,
          0.5237207405885301,
          0.5384386798353552,
          0.546758008369649,
          0.5541558129450321,
          0.5671035657430195,
          0.5748173405391028,
          0.5867541408027694,
          0.5954501394899965,
          0.6052802965564132,
          0.6102159938700483,
          0.6172430749565369,
          0.6249609281446197,
          0.6320243922490543,
          0.6428518979744027,
          0.6497887714979917,
          0.6572501712705607,
          0.6639442369347989,
          0.670448063067402,
          0.6764930893350858,
          0.6855360944104467,
          0.6940087921270571,
          0.7022690273323087,
          0.7088563009605529,
          0.7128605690064365,
          0.7194621224200998,
          0.7287289429481367,
          0.736313699891921,
          0.7449773939532012,
          0.7511313285343422,
          0.7577630702964888,
          0.7643318510907061,
          0.7727290890233354,
          0.7783229204757272,
          0.7860441805742407,
          0.7936571665885538,
          0.7995499574758258,
          0.8121512212043202,
          0.820308413857148,
          0.8296260318451585,
          0.8358804097983492,
          0.8432746383909627,
          0.8501587551766239,
          0.860405203252012,
          0.8700966062296274,
          0.8769515143057823,
          0.8843769108858565,
          0.8938394403798192,
          0.9018430875129487,
          0.9084220697005858,
          0.921273408193381,
          0.9277434820675609,
          0.9353353789040547,
          0.9421355830371569,
          0.951336346680824,
          0.9604480049843472,
          0.970188588717121,
          0.9787979586607998,
          0.9893675661747394,
          0.9936873392844057,
          1
         ],
         "yaxis": "y"
        }
       ],
       "layout": {
        "legend": {
         "title": {
          "text": "variable"
         },
         "tracegroupgap": 0
        },
        "margin": {
         "t": 60
        },
        "template": {
         "data": {
          "bar": [
           {
            "error_x": {
             "color": "#2a3f5f"
            },
            "error_y": {
             "color": "#2a3f5f"
            },
            "marker": {
             "line": {
              "color": "#E5ECF6",
              "width": 0.5
             },
             "pattern": {
              "fillmode": "overlay",
              "size": 10,
              "solidity": 0.2
             }
            },
            "type": "bar"
           }
          ],
          "barpolar": [
           {
            "marker": {
             "line": {
              "color": "#E5ECF6",
              "width": 0.5
             },
             "pattern": {
              "fillmode": "overlay",
              "size": 10,
              "solidity": 0.2
             }
            },
            "type": "barpolar"
           }
          ],
          "carpet": [
           {
            "aaxis": {
             "endlinecolor": "#2a3f5f",
             "gridcolor": "white",
             "linecolor": "white",
             "minorgridcolor": "white",
             "startlinecolor": "#2a3f5f"
            },
            "baxis": {
             "endlinecolor": "#2a3f5f",
             "gridcolor": "white",
             "linecolor": "white",
             "minorgridcolor": "white",
             "startlinecolor": "#2a3f5f"
            },
            "type": "carpet"
           }
          ],
          "choropleth": [
           {
            "colorbar": {
             "outlinewidth": 0,
             "ticks": ""
            },
            "type": "choropleth"
           }
          ],
          "contour": [
           {
            "colorbar": {
             "outlinewidth": 0,
             "ticks": ""
            },
            "colorscale": [
             [
              0,
              "#0d0887"
             ],
             [
              0.1111111111111111,
              "#46039f"
             ],
             [
              0.2222222222222222,
              "#7201a8"
             ],
             [
              0.3333333333333333,
              "#9c179e"
             ],
             [
              0.4444444444444444,
              "#bd3786"
             ],
             [
              0.5555555555555556,
              "#d8576b"
             ],
             [
              0.6666666666666666,
              "#ed7953"
             ],
             [
              0.7777777777777778,
              "#fb9f3a"
             ],
             [
              0.8888888888888888,
              "#fdca26"
             ],
             [
              1,
              "#f0f921"
             ]
            ],
            "type": "contour"
           }
          ],
          "contourcarpet": [
           {
            "colorbar": {
             "outlinewidth": 0,
             "ticks": ""
            },
            "type": "contourcarpet"
           }
          ],
          "heatmap": [
           {
            "colorbar": {
             "outlinewidth": 0,
             "ticks": ""
            },
            "colorscale": [
             [
              0,
              "#0d0887"
             ],
             [
              0.1111111111111111,
              "#46039f"
             ],
             [
              0.2222222222222222,
              "#7201a8"
             ],
             [
              0.3333333333333333,
              "#9c179e"
             ],
             [
              0.4444444444444444,
              "#bd3786"
             ],
             [
              0.5555555555555556,
              "#d8576b"
             ],
             [
              0.6666666666666666,
              "#ed7953"
             ],
             [
              0.7777777777777778,
              "#fb9f3a"
             ],
             [
              0.8888888888888888,
              "#fdca26"
             ],
             [
              1,
              "#f0f921"
             ]
            ],
            "type": "heatmap"
           }
          ],
          "heatmapgl": [
           {
            "colorbar": {
             "outlinewidth": 0,
             "ticks": ""
            },
            "colorscale": [
             [
              0,
              "#0d0887"
             ],
             [
              0.1111111111111111,
              "#46039f"
             ],
             [
              0.2222222222222222,
              "#7201a8"
             ],
             [
              0.3333333333333333,
              "#9c179e"
             ],
             [
              0.4444444444444444,
              "#bd3786"
             ],
             [
              0.5555555555555556,
              "#d8576b"
             ],
             [
              0.6666666666666666,
              "#ed7953"
             ],
             [
              0.7777777777777778,
              "#fb9f3a"
             ],
             [
              0.8888888888888888,
              "#fdca26"
             ],
             [
              1,
              "#f0f921"
             ]
            ],
            "type": "heatmapgl"
           }
          ],
          "histogram": [
           {
            "marker": {
             "pattern": {
              "fillmode": "overlay",
              "size": 10,
              "solidity": 0.2
             }
            },
            "type": "histogram"
           }
          ],
          "histogram2d": [
           {
            "colorbar": {
             "outlinewidth": 0,
             "ticks": ""
            },
            "colorscale": [
             [
              0,
              "#0d0887"
             ],
             [
              0.1111111111111111,
              "#46039f"
             ],
             [
              0.2222222222222222,
              "#7201a8"
             ],
             [
              0.3333333333333333,
              "#9c179e"
             ],
             [
              0.4444444444444444,
              "#bd3786"
             ],
             [
              0.5555555555555556,
              "#d8576b"
             ],
             [
              0.6666666666666666,
              "#ed7953"
             ],
             [
              0.7777777777777778,
              "#fb9f3a"
             ],
             [
              0.8888888888888888,
              "#fdca26"
             ],
             [
              1,
              "#f0f921"
             ]
            ],
            "type": "histogram2d"
           }
          ],
          "histogram2dcontour": [
           {
            "colorbar": {
             "outlinewidth": 0,
             "ticks": ""
            },
            "colorscale": [
             [
              0,
              "#0d0887"
             ],
             [
              0.1111111111111111,
              "#46039f"
             ],
             [
              0.2222222222222222,
              "#7201a8"
             ],
             [
              0.3333333333333333,
              "#9c179e"
             ],
             [
              0.4444444444444444,
              "#bd3786"
             ],
             [
              0.5555555555555556,
              "#d8576b"
             ],
             [
              0.6666666666666666,
              "#ed7953"
             ],
             [
              0.7777777777777778,
              "#fb9f3a"
             ],
             [
              0.8888888888888888,
              "#fdca26"
             ],
             [
              1,
              "#f0f921"
             ]
            ],
            "type": "histogram2dcontour"
           }
          ],
          "mesh3d": [
           {
            "colorbar": {
             "outlinewidth": 0,
             "ticks": ""
            },
            "type": "mesh3d"
           }
          ],
          "parcoords": [
           {
            "line": {
             "colorbar": {
              "outlinewidth": 0,
              "ticks": ""
             }
            },
            "type": "parcoords"
           }
          ],
          "pie": [
           {
            "automargin": true,
            "type": "pie"
           }
          ],
          "scatter": [
           {
            "fillpattern": {
             "fillmode": "overlay",
             "size": 10,
             "solidity": 0.2
            },
            "type": "scatter"
           }
          ],
          "scatter3d": [
           {
            "line": {
             "colorbar": {
              "outlinewidth": 0,
              "ticks": ""
             }
            },
            "marker": {
             "colorbar": {
              "outlinewidth": 0,
              "ticks": ""
             }
            },
            "type": "scatter3d"
           }
          ],
          "scattercarpet": [
           {
            "marker": {
             "colorbar": {
              "outlinewidth": 0,
              "ticks": ""
             }
            },
            "type": "scattercarpet"
           }
          ],
          "scattergeo": [
           {
            "marker": {
             "colorbar": {
              "outlinewidth": 0,
              "ticks": ""
             }
            },
            "type": "scattergeo"
           }
          ],
          "scattergl": [
           {
            "marker": {
             "colorbar": {
              "outlinewidth": 0,
              "ticks": ""
             }
            },
            "type": "scattergl"
           }
          ],
          "scattermapbox": [
           {
            "marker": {
             "colorbar": {
              "outlinewidth": 0,
              "ticks": ""
             }
            },
            "type": "scattermapbox"
           }
          ],
          "scatterpolar": [
           {
            "marker": {
             "colorbar": {
              "outlinewidth": 0,
              "ticks": ""
             }
            },
            "type": "scatterpolar"
           }
          ],
          "scatterpolargl": [
           {
            "marker": {
             "colorbar": {
              "outlinewidth": 0,
              "ticks": ""
             }
            },
            "type": "scatterpolargl"
           }
          ],
          "scatterternary": [
           {
            "marker": {
             "colorbar": {
              "outlinewidth": 0,
              "ticks": ""
             }
            },
            "type": "scatterternary"
           }
          ],
          "surface": [
           {
            "colorbar": {
             "outlinewidth": 0,
             "ticks": ""
            },
            "colorscale": [
             [
              0,
              "#0d0887"
             ],
             [
              0.1111111111111111,
              "#46039f"
             ],
             [
              0.2222222222222222,
              "#7201a8"
             ],
             [
              0.3333333333333333,
              "#9c179e"
             ],
             [
              0.4444444444444444,
              "#bd3786"
             ],
             [
              0.5555555555555556,
              "#d8576b"
             ],
             [
              0.6666666666666666,
              "#ed7953"
             ],
             [
              0.7777777777777778,
              "#fb9f3a"
             ],
             [
              0.8888888888888888,
              "#fdca26"
             ],
             [
              1,
              "#f0f921"
             ]
            ],
            "type": "surface"
           }
          ],
          "table": [
           {
            "cells": {
             "fill": {
              "color": "#EBF0F8"
             },
             "line": {
              "color": "white"
             }
            },
            "header": {
             "fill": {
              "color": "#C8D4E3"
             },
             "line": {
              "color": "white"
             }
            },
            "type": "table"
           }
          ]
         },
         "layout": {
          "annotationdefaults": {
           "arrowcolor": "#2a3f5f",
           "arrowhead": 0,
           "arrowwidth": 1
          },
          "autotypenumbers": "strict",
          "coloraxis": {
           "colorbar": {
            "outlinewidth": 0,
            "ticks": ""
           }
          },
          "colorscale": {
           "diverging": [
            [
             0,
             "#8e0152"
            ],
            [
             0.1,
             "#c51b7d"
            ],
            [
             0.2,
             "#de77ae"
            ],
            [
             0.3,
             "#f1b6da"
            ],
            [
             0.4,
             "#fde0ef"
            ],
            [
             0.5,
             "#f7f7f7"
            ],
            [
             0.6,
             "#e6f5d0"
            ],
            [
             0.7,
             "#b8e186"
            ],
            [
             0.8,
             "#7fbc41"
            ],
            [
             0.9,
             "#4d9221"
            ],
            [
             1,
             "#276419"
            ]
           ],
           "sequential": [
            [
             0,
             "#0d0887"
            ],
            [
             0.1111111111111111,
             "#46039f"
            ],
            [
             0.2222222222222222,
             "#7201a8"
            ],
            [
             0.3333333333333333,
             "#9c179e"
            ],
            [
             0.4444444444444444,
             "#bd3786"
            ],
            [
             0.5555555555555556,
             "#d8576b"
            ],
            [
             0.6666666666666666,
             "#ed7953"
            ],
            [
             0.7777777777777778,
             "#fb9f3a"
            ],
            [
             0.8888888888888888,
             "#fdca26"
            ],
            [
             1,
             "#f0f921"
            ]
           ],
           "sequentialminus": [
            [
             0,
             "#0d0887"
            ],
            [
             0.1111111111111111,
             "#46039f"
            ],
            [
             0.2222222222222222,
             "#7201a8"
            ],
            [
             0.3333333333333333,
             "#9c179e"
            ],
            [
             0.4444444444444444,
             "#bd3786"
            ],
            [
             0.5555555555555556,
             "#d8576b"
            ],
            [
             0.6666666666666666,
             "#ed7953"
            ],
            [
             0.7777777777777778,
             "#fb9f3a"
            ],
            [
             0.8888888888888888,
             "#fdca26"
            ],
            [
             1,
             "#f0f921"
            ]
           ]
          },
          "colorway": [
           "#636efa",
           "#EF553B",
           "#00cc96",
           "#ab63fa",
           "#FFA15A",
           "#19d3f3",
           "#FF6692",
           "#B6E880",
           "#FF97FF",
           "#FECB52"
          ],
          "font": {
           "color": "#2a3f5f"
          },
          "geo": {
           "bgcolor": "white",
           "lakecolor": "white",
           "landcolor": "#E5ECF6",
           "showlakes": true,
           "showland": true,
           "subunitcolor": "white"
          },
          "hoverlabel": {
           "align": "left"
          },
          "hovermode": "closest",
          "mapbox": {
           "style": "light"
          },
          "paper_bgcolor": "white",
          "plot_bgcolor": "#E5ECF6",
          "polar": {
           "angularaxis": {
            "gridcolor": "white",
            "linecolor": "white",
            "ticks": ""
           },
           "bgcolor": "#E5ECF6",
           "radialaxis": {
            "gridcolor": "white",
            "linecolor": "white",
            "ticks": ""
           }
          },
          "scene": {
           "xaxis": {
            "backgroundcolor": "#E5ECF6",
            "gridcolor": "white",
            "gridwidth": 2,
            "linecolor": "white",
            "showbackground": true,
            "ticks": "",
            "zerolinecolor": "white"
           },
           "yaxis": {
            "backgroundcolor": "#E5ECF6",
            "gridcolor": "white",
            "gridwidth": 2,
            "linecolor": "white",
            "showbackground": true,
            "ticks": "",
            "zerolinecolor": "white"
           },
           "zaxis": {
            "backgroundcolor": "#E5ECF6",
            "gridcolor": "white",
            "gridwidth": 2,
            "linecolor": "white",
            "showbackground": true,
            "ticks": "",
            "zerolinecolor": "white"
           }
          },
          "shapedefaults": {
           "line": {
            "color": "#2a3f5f"
           }
          },
          "ternary": {
           "aaxis": {
            "gridcolor": "white",
            "linecolor": "white",
            "ticks": ""
           },
           "baxis": {
            "gridcolor": "white",
            "linecolor": "white",
            "ticks": ""
           },
           "bgcolor": "#E5ECF6",
           "caxis": {
            "gridcolor": "white",
            "linecolor": "white",
            "ticks": ""
           }
          },
          "title": {
           "x": 0.05
          },
          "xaxis": {
           "automargin": true,
           "gridcolor": "white",
           "linecolor": "white",
           "ticks": "",
           "title": {
            "standoff": 15
           },
           "zerolinecolor": "white",
           "zerolinewidth": 2
          },
          "yaxis": {
           "automargin": true,
           "gridcolor": "white",
           "linecolor": "white",
           "ticks": "",
           "title": {
            "standoff": 15
           },
           "zerolinecolor": "white",
           "zerolinewidth": 2
          }
         }
        },
        "xaxis": {
         "anchor": "y",
         "domain": [
          0,
          1
         ],
         "title": {
          "text": "Conocidos"
         }
        },
        "yaxis": {
         "anchor": "x",
         "domain": [
          0,
          1
         ],
         "title": {
          "text": "value"
         }
        }
       }
      }
     },
     "metadata": {},
     "output_type": "display_data"
    }
   ],
   "source": [
    "#Grafico el comportamiento de la métrica a medida que incremento los aciertos. Tambien muestro lor resultados de otras metricas como Accuracy y Balanced Accuracy\n",
    "px.line(kappa_progression,x='Conocidos',y=['kappa',\n",
    "                                           'kappa_cerca',\n",
    "                                           'kappa_lejos',\n",
    "                                           'accuracy',\n",
    "                                           'balanced_accuracy'])"
   ]
  },
  {
   "cell_type": "code",
   "execution_count": 25,
   "metadata": {},
   "outputs": [
    {
     "data": {
      "application/vnd.plotly.v1+json": {
       "config": {
        "plotlyServerURL": "https://plot.ly"
       },
       "data": [
        {
         "type": "heatmap",
         "x": [
          0,
          1,
          2,
          3,
          4
         ],
         "y": [
          0,
          1,
          2,
          3,
          4
         ],
         "z": [
          [
           58.536585365853654,
           41.46341463414634,
           0,
           0,
           0
          ],
          [
           0,
           46.763754045307444,
           53.23624595469255,
           0,
           0
          ],
          [
           0,
           0,
           49.44237918215613,
           50.55762081784386,
           0
          ],
          [
           0,
           0,
           0,
           49.233128834355824,
           50.76687116564417
          ],
          [
           0,
           0,
           0,
           50.23809523809524,
           49.76190476190476
          ]
         ]
        }
       ],
       "layout": {
        "annotations": [
         {
          "font": {
           "color": "white"
          },
          "showarrow": false,
          "text": "58.5 - 48",
          "x": 0,
          "xref": "x",
          "y": 0,
          "yref": "y"
         },
         {
          "font": {
           "color": "white"
          },
          "showarrow": false,
          "text": "41.5 - 34",
          "x": 1,
          "xref": "x",
          "y": 0,
          "yref": "y"
         },
         {
          "font": {
           "color": "white"
          },
          "showarrow": false,
          "text": "0.0 - 0",
          "x": 2,
          "xref": "x",
          "y": 0,
          "yref": "y"
         },
         {
          "font": {
           "color": "white"
          },
          "showarrow": false,
          "text": "0.0 - 0",
          "x": 3,
          "xref": "x",
          "y": 0,
          "yref": "y"
         },
         {
          "font": {
           "color": "white"
          },
          "showarrow": false,
          "text": "0.0 - 0",
          "x": 4,
          "xref": "x",
          "y": 0,
          "yref": "y"
         },
         {
          "font": {
           "color": "white"
          },
          "showarrow": false,
          "text": "0.0 - 0",
          "x": 0,
          "xref": "x",
          "y": 1,
          "yref": "y"
         },
         {
          "font": {
           "color": "white"
          },
          "showarrow": false,
          "text": "46.8 - 289",
          "x": 1,
          "xref": "x",
          "y": 1,
          "yref": "y"
         },
         {
          "font": {
           "color": "white"
          },
          "showarrow": false,
          "text": "53.2 - 329",
          "x": 2,
          "xref": "x",
          "y": 1,
          "yref": "y"
         },
         {
          "font": {
           "color": "white"
          },
          "showarrow": false,
          "text": "0.0 - 0",
          "x": 3,
          "xref": "x",
          "y": 1,
          "yref": "y"
         },
         {
          "font": {
           "color": "white"
          },
          "showarrow": false,
          "text": "0.0 - 0",
          "x": 4,
          "xref": "x",
          "y": 1,
          "yref": "y"
         },
         {
          "font": {
           "color": "white"
          },
          "showarrow": false,
          "text": "0.0 - 0",
          "x": 0,
          "xref": "x",
          "y": 2,
          "yref": "y"
         },
         {
          "font": {
           "color": "white"
          },
          "showarrow": false,
          "text": "0.0 - 0",
          "x": 1,
          "xref": "x",
          "y": 2,
          "yref": "y"
         },
         {
          "font": {
           "color": "white"
          },
          "showarrow": false,
          "text": "49.4 - 399",
          "x": 2,
          "xref": "x",
          "y": 2,
          "yref": "y"
         },
         {
          "font": {
           "color": "white"
          },
          "showarrow": false,
          "text": "50.6 - 408",
          "x": 3,
          "xref": "x",
          "y": 2,
          "yref": "y"
         },
         {
          "font": {
           "color": "white"
          },
          "showarrow": false,
          "text": "0.0 - 0",
          "x": 4,
          "xref": "x",
          "y": 2,
          "yref": "y"
         },
         {
          "font": {
           "color": "white"
          },
          "showarrow": false,
          "text": "0.0 - 0",
          "x": 0,
          "xref": "x",
          "y": 3,
          "yref": "y"
         },
         {
          "font": {
           "color": "white"
          },
          "showarrow": false,
          "text": "0.0 - 0",
          "x": 1,
          "xref": "x",
          "y": 3,
          "yref": "y"
         },
         {
          "font": {
           "color": "white"
          },
          "showarrow": false,
          "text": "0.0 - 0",
          "x": 2,
          "xref": "x",
          "y": 3,
          "yref": "y"
         },
         {
          "font": {
           "color": "white"
          },
          "showarrow": false,
          "text": "49.2 - 321",
          "x": 3,
          "xref": "x",
          "y": 3,
          "yref": "y"
         },
         {
          "font": {
           "color": "white"
          },
          "showarrow": false,
          "text": "50.8 - 331",
          "x": 4,
          "xref": "x",
          "y": 3,
          "yref": "y"
         },
         {
          "font": {
           "color": "white"
          },
          "showarrow": false,
          "text": "0.0 - 0",
          "x": 0,
          "xref": "x",
          "y": 4,
          "yref": "y"
         },
         {
          "font": {
           "color": "white"
          },
          "showarrow": false,
          "text": "0.0 - 0",
          "x": 1,
          "xref": "x",
          "y": 4,
          "yref": "y"
         },
         {
          "font": {
           "color": "white"
          },
          "showarrow": false,
          "text": "0.0 - 0",
          "x": 2,
          "xref": "x",
          "y": 4,
          "yref": "y"
         },
         {
          "font": {
           "color": "white"
          },
          "showarrow": false,
          "text": "50.2 - 422",
          "x": 3,
          "xref": "x",
          "y": 4,
          "yref": "y"
         },
         {
          "font": {
           "color": "white"
          },
          "showarrow": false,
          "text": "49.8 - 418",
          "x": 4,
          "xref": "x",
          "y": 4,
          "yref": "y"
         }
        ],
        "height": 800,
        "template": {
         "data": {
          "bar": [
           {
            "error_x": {
             "color": "#2a3f5f"
            },
            "error_y": {
             "color": "#2a3f5f"
            },
            "marker": {
             "line": {
              "color": "#E5ECF6",
              "width": 0.5
             },
             "pattern": {
              "fillmode": "overlay",
              "size": 10,
              "solidity": 0.2
             }
            },
            "type": "bar"
           }
          ],
          "barpolar": [
           {
            "marker": {
             "line": {
              "color": "#E5ECF6",
              "width": 0.5
             },
             "pattern": {
              "fillmode": "overlay",
              "size": 10,
              "solidity": 0.2
             }
            },
            "type": "barpolar"
           }
          ],
          "carpet": [
           {
            "aaxis": {
             "endlinecolor": "#2a3f5f",
             "gridcolor": "white",
             "linecolor": "white",
             "minorgridcolor": "white",
             "startlinecolor": "#2a3f5f"
            },
            "baxis": {
             "endlinecolor": "#2a3f5f",
             "gridcolor": "white",
             "linecolor": "white",
             "minorgridcolor": "white",
             "startlinecolor": "#2a3f5f"
            },
            "type": "carpet"
           }
          ],
          "choropleth": [
           {
            "colorbar": {
             "outlinewidth": 0,
             "ticks": ""
            },
            "type": "choropleth"
           }
          ],
          "contour": [
           {
            "colorbar": {
             "outlinewidth": 0,
             "ticks": ""
            },
            "colorscale": [
             [
              0,
              "#0d0887"
             ],
             [
              0.1111111111111111,
              "#46039f"
             ],
             [
              0.2222222222222222,
              "#7201a8"
             ],
             [
              0.3333333333333333,
              "#9c179e"
             ],
             [
              0.4444444444444444,
              "#bd3786"
             ],
             [
              0.5555555555555556,
              "#d8576b"
             ],
             [
              0.6666666666666666,
              "#ed7953"
             ],
             [
              0.7777777777777778,
              "#fb9f3a"
             ],
             [
              0.8888888888888888,
              "#fdca26"
             ],
             [
              1,
              "#f0f921"
             ]
            ],
            "type": "contour"
           }
          ],
          "contourcarpet": [
           {
            "colorbar": {
             "outlinewidth": 0,
             "ticks": ""
            },
            "type": "contourcarpet"
           }
          ],
          "heatmap": [
           {
            "colorbar": {
             "outlinewidth": 0,
             "ticks": ""
            },
            "colorscale": [
             [
              0,
              "#0d0887"
             ],
             [
              0.1111111111111111,
              "#46039f"
             ],
             [
              0.2222222222222222,
              "#7201a8"
             ],
             [
              0.3333333333333333,
              "#9c179e"
             ],
             [
              0.4444444444444444,
              "#bd3786"
             ],
             [
              0.5555555555555556,
              "#d8576b"
             ],
             [
              0.6666666666666666,
              "#ed7953"
             ],
             [
              0.7777777777777778,
              "#fb9f3a"
             ],
             [
              0.8888888888888888,
              "#fdca26"
             ],
             [
              1,
              "#f0f921"
             ]
            ],
            "type": "heatmap"
           }
          ],
          "heatmapgl": [
           {
            "colorbar": {
             "outlinewidth": 0,
             "ticks": ""
            },
            "colorscale": [
             [
              0,
              "#0d0887"
             ],
             [
              0.1111111111111111,
              "#46039f"
             ],
             [
              0.2222222222222222,
              "#7201a8"
             ],
             [
              0.3333333333333333,
              "#9c179e"
             ],
             [
              0.4444444444444444,
              "#bd3786"
             ],
             [
              0.5555555555555556,
              "#d8576b"
             ],
             [
              0.6666666666666666,
              "#ed7953"
             ],
             [
              0.7777777777777778,
              "#fb9f3a"
             ],
             [
              0.8888888888888888,
              "#fdca26"
             ],
             [
              1,
              "#f0f921"
             ]
            ],
            "type": "heatmapgl"
           }
          ],
          "histogram": [
           {
            "marker": {
             "pattern": {
              "fillmode": "overlay",
              "size": 10,
              "solidity": 0.2
             }
            },
            "type": "histogram"
           }
          ],
          "histogram2d": [
           {
            "colorbar": {
             "outlinewidth": 0,
             "ticks": ""
            },
            "colorscale": [
             [
              0,
              "#0d0887"
             ],
             [
              0.1111111111111111,
              "#46039f"
             ],
             [
              0.2222222222222222,
              "#7201a8"
             ],
             [
              0.3333333333333333,
              "#9c179e"
             ],
             [
              0.4444444444444444,
              "#bd3786"
             ],
             [
              0.5555555555555556,
              "#d8576b"
             ],
             [
              0.6666666666666666,
              "#ed7953"
             ],
             [
              0.7777777777777778,
              "#fb9f3a"
             ],
             [
              0.8888888888888888,
              "#fdca26"
             ],
             [
              1,
              "#f0f921"
             ]
            ],
            "type": "histogram2d"
           }
          ],
          "histogram2dcontour": [
           {
            "colorbar": {
             "outlinewidth": 0,
             "ticks": ""
            },
            "colorscale": [
             [
              0,
              "#0d0887"
             ],
             [
              0.1111111111111111,
              "#46039f"
             ],
             [
              0.2222222222222222,
              "#7201a8"
             ],
             [
              0.3333333333333333,
              "#9c179e"
             ],
             [
              0.4444444444444444,
              "#bd3786"
             ],
             [
              0.5555555555555556,
              "#d8576b"
             ],
             [
              0.6666666666666666,
              "#ed7953"
             ],
             [
              0.7777777777777778,
              "#fb9f3a"
             ],
             [
              0.8888888888888888,
              "#fdca26"
             ],
             [
              1,
              "#f0f921"
             ]
            ],
            "type": "histogram2dcontour"
           }
          ],
          "mesh3d": [
           {
            "colorbar": {
             "outlinewidth": 0,
             "ticks": ""
            },
            "type": "mesh3d"
           }
          ],
          "parcoords": [
           {
            "line": {
             "colorbar": {
              "outlinewidth": 0,
              "ticks": ""
             }
            },
            "type": "parcoords"
           }
          ],
          "pie": [
           {
            "automargin": true,
            "type": "pie"
           }
          ],
          "scatter": [
           {
            "fillpattern": {
             "fillmode": "overlay",
             "size": 10,
             "solidity": 0.2
            },
            "type": "scatter"
           }
          ],
          "scatter3d": [
           {
            "line": {
             "colorbar": {
              "outlinewidth": 0,
              "ticks": ""
             }
            },
            "marker": {
             "colorbar": {
              "outlinewidth": 0,
              "ticks": ""
             }
            },
            "type": "scatter3d"
           }
          ],
          "scattercarpet": [
           {
            "marker": {
             "colorbar": {
              "outlinewidth": 0,
              "ticks": ""
             }
            },
            "type": "scattercarpet"
           }
          ],
          "scattergeo": [
           {
            "marker": {
             "colorbar": {
              "outlinewidth": 0,
              "ticks": ""
             }
            },
            "type": "scattergeo"
           }
          ],
          "scattergl": [
           {
            "marker": {
             "colorbar": {
              "outlinewidth": 0,
              "ticks": ""
             }
            },
            "type": "scattergl"
           }
          ],
          "scattermapbox": [
           {
            "marker": {
             "colorbar": {
              "outlinewidth": 0,
              "ticks": ""
             }
            },
            "type": "scattermapbox"
           }
          ],
          "scatterpolar": [
           {
            "marker": {
             "colorbar": {
              "outlinewidth": 0,
              "ticks": ""
             }
            },
            "type": "scatterpolar"
           }
          ],
          "scatterpolargl": [
           {
            "marker": {
             "colorbar": {
              "outlinewidth": 0,
              "ticks": ""
             }
            },
            "type": "scatterpolargl"
           }
          ],
          "scatterternary": [
           {
            "marker": {
             "colorbar": {
              "outlinewidth": 0,
              "ticks": ""
             }
            },
            "type": "scatterternary"
           }
          ],
          "surface": [
           {
            "colorbar": {
             "outlinewidth": 0,
             "ticks": ""
            },
            "colorscale": [
             [
              0,
              "#0d0887"
             ],
             [
              0.1111111111111111,
              "#46039f"
             ],
             [
              0.2222222222222222,
              "#7201a8"
             ],
             [
              0.3333333333333333,
              "#9c179e"
             ],
             [
              0.4444444444444444,
              "#bd3786"
             ],
             [
              0.5555555555555556,
              "#d8576b"
             ],
             [
              0.6666666666666666,
              "#ed7953"
             ],
             [
              0.7777777777777778,
              "#fb9f3a"
             ],
             [
              0.8888888888888888,
              "#fdca26"
             ],
             [
              1,
              "#f0f921"
             ]
            ],
            "type": "surface"
           }
          ],
          "table": [
           {
            "cells": {
             "fill": {
              "color": "#EBF0F8"
             },
             "line": {
              "color": "white"
             }
            },
            "header": {
             "fill": {
              "color": "#C8D4E3"
             },
             "line": {
              "color": "white"
             }
            },
            "type": "table"
           }
          ]
         },
         "layout": {
          "annotationdefaults": {
           "arrowcolor": "#2a3f5f",
           "arrowhead": 0,
           "arrowwidth": 1
          },
          "autotypenumbers": "strict",
          "coloraxis": {
           "colorbar": {
            "outlinewidth": 0,
            "ticks": ""
           }
          },
          "colorscale": {
           "diverging": [
            [
             0,
             "#8e0152"
            ],
            [
             0.1,
             "#c51b7d"
            ],
            [
             0.2,
             "#de77ae"
            ],
            [
             0.3,
             "#f1b6da"
            ],
            [
             0.4,
             "#fde0ef"
            ],
            [
             0.5,
             "#f7f7f7"
            ],
            [
             0.6,
             "#e6f5d0"
            ],
            [
             0.7,
             "#b8e186"
            ],
            [
             0.8,
             "#7fbc41"
            ],
            [
             0.9,
             "#4d9221"
            ],
            [
             1,
             "#276419"
            ]
           ],
           "sequential": [
            [
             0,
             "#0d0887"
            ],
            [
             0.1111111111111111,
             "#46039f"
            ],
            [
             0.2222222222222222,
             "#7201a8"
            ],
            [
             0.3333333333333333,
             "#9c179e"
            ],
            [
             0.4444444444444444,
             "#bd3786"
            ],
            [
             0.5555555555555556,
             "#d8576b"
            ],
            [
             0.6666666666666666,
             "#ed7953"
            ],
            [
             0.7777777777777778,
             "#fb9f3a"
            ],
            [
             0.8888888888888888,
             "#fdca26"
            ],
            [
             1,
             "#f0f921"
            ]
           ],
           "sequentialminus": [
            [
             0,
             "#0d0887"
            ],
            [
             0.1111111111111111,
             "#46039f"
            ],
            [
             0.2222222222222222,
             "#7201a8"
            ],
            [
             0.3333333333333333,
             "#9c179e"
            ],
            [
             0.4444444444444444,
             "#bd3786"
            ],
            [
             0.5555555555555556,
             "#d8576b"
            ],
            [
             0.6666666666666666,
             "#ed7953"
            ],
            [
             0.7777777777777778,
             "#fb9f3a"
            ],
            [
             0.8888888888888888,
             "#fdca26"
            ],
            [
             1,
             "#f0f921"
            ]
           ]
          },
          "colorway": [
           "#636efa",
           "#EF553B",
           "#00cc96",
           "#ab63fa",
           "#FFA15A",
           "#19d3f3",
           "#FF6692",
           "#B6E880",
           "#FF97FF",
           "#FECB52"
          ],
          "font": {
           "color": "#2a3f5f"
          },
          "geo": {
           "bgcolor": "white",
           "lakecolor": "white",
           "landcolor": "#E5ECF6",
           "showlakes": true,
           "showland": true,
           "subunitcolor": "white"
          },
          "hoverlabel": {
           "align": "left"
          },
          "hovermode": "closest",
          "mapbox": {
           "style": "light"
          },
          "paper_bgcolor": "white",
          "plot_bgcolor": "#E5ECF6",
          "polar": {
           "angularaxis": {
            "gridcolor": "white",
            "linecolor": "white",
            "ticks": ""
           },
           "bgcolor": "#E5ECF6",
           "radialaxis": {
            "gridcolor": "white",
            "linecolor": "white",
            "ticks": ""
           }
          },
          "scene": {
           "xaxis": {
            "backgroundcolor": "#E5ECF6",
            "gridcolor": "white",
            "gridwidth": 2,
            "linecolor": "white",
            "showbackground": true,
            "ticks": "",
            "zerolinecolor": "white"
           },
           "yaxis": {
            "backgroundcolor": "#E5ECF6",
            "gridcolor": "white",
            "gridwidth": 2,
            "linecolor": "white",
            "showbackground": true,
            "ticks": "",
            "zerolinecolor": "white"
           },
           "zaxis": {
            "backgroundcolor": "#E5ECF6",
            "gridcolor": "white",
            "gridwidth": 2,
            "linecolor": "white",
            "showbackground": true,
            "ticks": "",
            "zerolinecolor": "white"
           }
          },
          "shapedefaults": {
           "line": {
            "color": "#2a3f5f"
           }
          },
          "ternary": {
           "aaxis": {
            "gridcolor": "white",
            "linecolor": "white",
            "ticks": ""
           },
           "baxis": {
            "gridcolor": "white",
            "linecolor": "white",
            "ticks": ""
           },
           "bgcolor": "#E5ECF6",
           "caxis": {
            "gridcolor": "white",
            "linecolor": "white",
            "ticks": ""
           }
          },
          "title": {
           "x": 0.05
          },
          "xaxis": {
           "automargin": true,
           "gridcolor": "white",
           "linecolor": "white",
           "ticks": "",
           "title": {
            "standoff": 15
           },
           "zerolinecolor": "white",
           "zerolinewidth": 2
          },
          "yaxis": {
           "automargin": true,
           "gridcolor": "white",
           "linecolor": "white",
           "ticks": "",
           "title": {
            "standoff": 15
           },
           "zerolinecolor": "white",
           "zerolinewidth": 2
          }
         }
        },
        "title": {
         "text": "Kappa 0.7916580740270717"
        },
        "width": 800,
        "xaxis": {
         "title": {
          "text": "Predicted value"
         }
        },
        "yaxis": {
         "title": {
          "text": "Real value"
         }
        }
       }
      }
     },
     "metadata": {},
     "output_type": "display_data"
    }
   ],
   "source": [
    "\n",
    "#A modo de ejemplo muestro kappa y matriz de confusion para 50% de aciertos donde los errores quedan cerca de la clase correcta\n",
    "y_simulado_cerca = [y_test.iloc[sample] if random_list[sample]<50/100 else y_cerca[sample] for sample in range(len(y_test))]\n",
    "\n",
    "display(plot_confusion_matrix(y_test,y_simulado_cerca, \n",
    "                              title = \"Kappa \" + str(cohen_kappa_score(y_test,y_simulado_cerca, weights = 'quadratic'))))\n",
    "\n"
   ]
  },
  {
   "cell_type": "code",
   "execution_count": 26,
   "metadata": {},
   "outputs": [
    {
     "data": {
      "application/vnd.plotly.v1+json": {
       "config": {
        "plotlyServerURL": "https://plot.ly"
       },
       "data": [
        {
         "type": "heatmap",
         "x": [
          0,
          1,
          2,
          3,
          4
         ],
         "y": [
          0,
          1,
          2,
          3,
          4
         ],
         "z": [
          [
           58.536585365853654,
           0,
           0,
           0,
           41.46341463414634
          ],
          [
           0,
           46.763754045307444,
           0,
           0,
           53.23624595469255
          ],
          [
           50.55762081784386,
           0,
           49.44237918215613,
           0,
           0
          ],
          [
           50.76687116564417,
           0,
           0,
           49.233128834355824,
           0
          ],
          [
           50.23809523809524,
           0,
           0,
           0,
           49.76190476190476
          ]
         ]
        }
       ],
       "layout": {
        "annotations": [
         {
          "font": {
           "color": "white"
          },
          "showarrow": false,
          "text": "58.5 - 48",
          "x": 0,
          "xref": "x",
          "y": 0,
          "yref": "y"
         },
         {
          "font": {
           "color": "white"
          },
          "showarrow": false,
          "text": "0.0 - 0",
          "x": 1,
          "xref": "x",
          "y": 0,
          "yref": "y"
         },
         {
          "font": {
           "color": "white"
          },
          "showarrow": false,
          "text": "0.0 - 0",
          "x": 2,
          "xref": "x",
          "y": 0,
          "yref": "y"
         },
         {
          "font": {
           "color": "white"
          },
          "showarrow": false,
          "text": "0.0 - 0",
          "x": 3,
          "xref": "x",
          "y": 0,
          "yref": "y"
         },
         {
          "font": {
           "color": "white"
          },
          "showarrow": false,
          "text": "41.5 - 34",
          "x": 4,
          "xref": "x",
          "y": 0,
          "yref": "y"
         },
         {
          "font": {
           "color": "white"
          },
          "showarrow": false,
          "text": "0.0 - 0",
          "x": 0,
          "xref": "x",
          "y": 1,
          "yref": "y"
         },
         {
          "font": {
           "color": "white"
          },
          "showarrow": false,
          "text": "46.8 - 289",
          "x": 1,
          "xref": "x",
          "y": 1,
          "yref": "y"
         },
         {
          "font": {
           "color": "white"
          },
          "showarrow": false,
          "text": "0.0 - 0",
          "x": 2,
          "xref": "x",
          "y": 1,
          "yref": "y"
         },
         {
          "font": {
           "color": "white"
          },
          "showarrow": false,
          "text": "0.0 - 0",
          "x": 3,
          "xref": "x",
          "y": 1,
          "yref": "y"
         },
         {
          "font": {
           "color": "white"
          },
          "showarrow": false,
          "text": "53.2 - 329",
          "x": 4,
          "xref": "x",
          "y": 1,
          "yref": "y"
         },
         {
          "font": {
           "color": "white"
          },
          "showarrow": false,
          "text": "50.6 - 408",
          "x": 0,
          "xref": "x",
          "y": 2,
          "yref": "y"
         },
         {
          "font": {
           "color": "white"
          },
          "showarrow": false,
          "text": "0.0 - 0",
          "x": 1,
          "xref": "x",
          "y": 2,
          "yref": "y"
         },
         {
          "font": {
           "color": "white"
          },
          "showarrow": false,
          "text": "49.4 - 399",
          "x": 2,
          "xref": "x",
          "y": 2,
          "yref": "y"
         },
         {
          "font": {
           "color": "white"
          },
          "showarrow": false,
          "text": "0.0 - 0",
          "x": 3,
          "xref": "x",
          "y": 2,
          "yref": "y"
         },
         {
          "font": {
           "color": "white"
          },
          "showarrow": false,
          "text": "0.0 - 0",
          "x": 4,
          "xref": "x",
          "y": 2,
          "yref": "y"
         },
         {
          "font": {
           "color": "white"
          },
          "showarrow": false,
          "text": "50.8 - 331",
          "x": 0,
          "xref": "x",
          "y": 3,
          "yref": "y"
         },
         {
          "font": {
           "color": "white"
          },
          "showarrow": false,
          "text": "0.0 - 0",
          "x": 1,
          "xref": "x",
          "y": 3,
          "yref": "y"
         },
         {
          "font": {
           "color": "white"
          },
          "showarrow": false,
          "text": "0.0 - 0",
          "x": 2,
          "xref": "x",
          "y": 3,
          "yref": "y"
         },
         {
          "font": {
           "color": "white"
          },
          "showarrow": false,
          "text": "49.2 - 321",
          "x": 3,
          "xref": "x",
          "y": 3,
          "yref": "y"
         },
         {
          "font": {
           "color": "white"
          },
          "showarrow": false,
          "text": "0.0 - 0",
          "x": 4,
          "xref": "x",
          "y": 3,
          "yref": "y"
         },
         {
          "font": {
           "color": "white"
          },
          "showarrow": false,
          "text": "50.2 - 422",
          "x": 0,
          "xref": "x",
          "y": 4,
          "yref": "y"
         },
         {
          "font": {
           "color": "white"
          },
          "showarrow": false,
          "text": "0.0 - 0",
          "x": 1,
          "xref": "x",
          "y": 4,
          "yref": "y"
         },
         {
          "font": {
           "color": "white"
          },
          "showarrow": false,
          "text": "0.0 - 0",
          "x": 2,
          "xref": "x",
          "y": 4,
          "yref": "y"
         },
         {
          "font": {
           "color": "white"
          },
          "showarrow": false,
          "text": "0.0 - 0",
          "x": 3,
          "xref": "x",
          "y": 4,
          "yref": "y"
         },
         {
          "font": {
           "color": "white"
          },
          "showarrow": false,
          "text": "49.8 - 418",
          "x": 4,
          "xref": "x",
          "y": 4,
          "yref": "y"
         }
        ],
        "height": 800,
        "template": {
         "data": {
          "bar": [
           {
            "error_x": {
             "color": "#2a3f5f"
            },
            "error_y": {
             "color": "#2a3f5f"
            },
            "marker": {
             "line": {
              "color": "#E5ECF6",
              "width": 0.5
             },
             "pattern": {
              "fillmode": "overlay",
              "size": 10,
              "solidity": 0.2
             }
            },
            "type": "bar"
           }
          ],
          "barpolar": [
           {
            "marker": {
             "line": {
              "color": "#E5ECF6",
              "width": 0.5
             },
             "pattern": {
              "fillmode": "overlay",
              "size": 10,
              "solidity": 0.2
             }
            },
            "type": "barpolar"
           }
          ],
          "carpet": [
           {
            "aaxis": {
             "endlinecolor": "#2a3f5f",
             "gridcolor": "white",
             "linecolor": "white",
             "minorgridcolor": "white",
             "startlinecolor": "#2a3f5f"
            },
            "baxis": {
             "endlinecolor": "#2a3f5f",
             "gridcolor": "white",
             "linecolor": "white",
             "minorgridcolor": "white",
             "startlinecolor": "#2a3f5f"
            },
            "type": "carpet"
           }
          ],
          "choropleth": [
           {
            "colorbar": {
             "outlinewidth": 0,
             "ticks": ""
            },
            "type": "choropleth"
           }
          ],
          "contour": [
           {
            "colorbar": {
             "outlinewidth": 0,
             "ticks": ""
            },
            "colorscale": [
             [
              0,
              "#0d0887"
             ],
             [
              0.1111111111111111,
              "#46039f"
             ],
             [
              0.2222222222222222,
              "#7201a8"
             ],
             [
              0.3333333333333333,
              "#9c179e"
             ],
             [
              0.4444444444444444,
              "#bd3786"
             ],
             [
              0.5555555555555556,
              "#d8576b"
             ],
             [
              0.6666666666666666,
              "#ed7953"
             ],
             [
              0.7777777777777778,
              "#fb9f3a"
             ],
             [
              0.8888888888888888,
              "#fdca26"
             ],
             [
              1,
              "#f0f921"
             ]
            ],
            "type": "contour"
           }
          ],
          "contourcarpet": [
           {
            "colorbar": {
             "outlinewidth": 0,
             "ticks": ""
            },
            "type": "contourcarpet"
           }
          ],
          "heatmap": [
           {
            "colorbar": {
             "outlinewidth": 0,
             "ticks": ""
            },
            "colorscale": [
             [
              0,
              "#0d0887"
             ],
             [
              0.1111111111111111,
              "#46039f"
             ],
             [
              0.2222222222222222,
              "#7201a8"
             ],
             [
              0.3333333333333333,
              "#9c179e"
             ],
             [
              0.4444444444444444,
              "#bd3786"
             ],
             [
              0.5555555555555556,
              "#d8576b"
             ],
             [
              0.6666666666666666,
              "#ed7953"
             ],
             [
              0.7777777777777778,
              "#fb9f3a"
             ],
             [
              0.8888888888888888,
              "#fdca26"
             ],
             [
              1,
              "#f0f921"
             ]
            ],
            "type": "heatmap"
           }
          ],
          "heatmapgl": [
           {
            "colorbar": {
             "outlinewidth": 0,
             "ticks": ""
            },
            "colorscale": [
             [
              0,
              "#0d0887"
             ],
             [
              0.1111111111111111,
              "#46039f"
             ],
             [
              0.2222222222222222,
              "#7201a8"
             ],
             [
              0.3333333333333333,
              "#9c179e"
             ],
             [
              0.4444444444444444,
              "#bd3786"
             ],
             [
              0.5555555555555556,
              "#d8576b"
             ],
             [
              0.6666666666666666,
              "#ed7953"
             ],
             [
              0.7777777777777778,
              "#fb9f3a"
             ],
             [
              0.8888888888888888,
              "#fdca26"
             ],
             [
              1,
              "#f0f921"
             ]
            ],
            "type": "heatmapgl"
           }
          ],
          "histogram": [
           {
            "marker": {
             "pattern": {
              "fillmode": "overlay",
              "size": 10,
              "solidity": 0.2
             }
            },
            "type": "histogram"
           }
          ],
          "histogram2d": [
           {
            "colorbar": {
             "outlinewidth": 0,
             "ticks": ""
            },
            "colorscale": [
             [
              0,
              "#0d0887"
             ],
             [
              0.1111111111111111,
              "#46039f"
             ],
             [
              0.2222222222222222,
              "#7201a8"
             ],
             [
              0.3333333333333333,
              "#9c179e"
             ],
             [
              0.4444444444444444,
              "#bd3786"
             ],
             [
              0.5555555555555556,
              "#d8576b"
             ],
             [
              0.6666666666666666,
              "#ed7953"
             ],
             [
              0.7777777777777778,
              "#fb9f3a"
             ],
             [
              0.8888888888888888,
              "#fdca26"
             ],
             [
              1,
              "#f0f921"
             ]
            ],
            "type": "histogram2d"
           }
          ],
          "histogram2dcontour": [
           {
            "colorbar": {
             "outlinewidth": 0,
             "ticks": ""
            },
            "colorscale": [
             [
              0,
              "#0d0887"
             ],
             [
              0.1111111111111111,
              "#46039f"
             ],
             [
              0.2222222222222222,
              "#7201a8"
             ],
             [
              0.3333333333333333,
              "#9c179e"
             ],
             [
              0.4444444444444444,
              "#bd3786"
             ],
             [
              0.5555555555555556,
              "#d8576b"
             ],
             [
              0.6666666666666666,
              "#ed7953"
             ],
             [
              0.7777777777777778,
              "#fb9f3a"
             ],
             [
              0.8888888888888888,
              "#fdca26"
             ],
             [
              1,
              "#f0f921"
             ]
            ],
            "type": "histogram2dcontour"
           }
          ],
          "mesh3d": [
           {
            "colorbar": {
             "outlinewidth": 0,
             "ticks": ""
            },
            "type": "mesh3d"
           }
          ],
          "parcoords": [
           {
            "line": {
             "colorbar": {
              "outlinewidth": 0,
              "ticks": ""
             }
            },
            "type": "parcoords"
           }
          ],
          "pie": [
           {
            "automargin": true,
            "type": "pie"
           }
          ],
          "scatter": [
           {
            "fillpattern": {
             "fillmode": "overlay",
             "size": 10,
             "solidity": 0.2
            },
            "type": "scatter"
           }
          ],
          "scatter3d": [
           {
            "line": {
             "colorbar": {
              "outlinewidth": 0,
              "ticks": ""
             }
            },
            "marker": {
             "colorbar": {
              "outlinewidth": 0,
              "ticks": ""
             }
            },
            "type": "scatter3d"
           }
          ],
          "scattercarpet": [
           {
            "marker": {
             "colorbar": {
              "outlinewidth": 0,
              "ticks": ""
             }
            },
            "type": "scattercarpet"
           }
          ],
          "scattergeo": [
           {
            "marker": {
             "colorbar": {
              "outlinewidth": 0,
              "ticks": ""
             }
            },
            "type": "scattergeo"
           }
          ],
          "scattergl": [
           {
            "marker": {
             "colorbar": {
              "outlinewidth": 0,
              "ticks": ""
             }
            },
            "type": "scattergl"
           }
          ],
          "scattermapbox": [
           {
            "marker": {
             "colorbar": {
              "outlinewidth": 0,
              "ticks": ""
             }
            },
            "type": "scattermapbox"
           }
          ],
          "scatterpolar": [
           {
            "marker": {
             "colorbar": {
              "outlinewidth": 0,
              "ticks": ""
             }
            },
            "type": "scatterpolar"
           }
          ],
          "scatterpolargl": [
           {
            "marker": {
             "colorbar": {
              "outlinewidth": 0,
              "ticks": ""
             }
            },
            "type": "scatterpolargl"
           }
          ],
          "scatterternary": [
           {
            "marker": {
             "colorbar": {
              "outlinewidth": 0,
              "ticks": ""
             }
            },
            "type": "scatterternary"
           }
          ],
          "surface": [
           {
            "colorbar": {
             "outlinewidth": 0,
             "ticks": ""
            },
            "colorscale": [
             [
              0,
              "#0d0887"
             ],
             [
              0.1111111111111111,
              "#46039f"
             ],
             [
              0.2222222222222222,
              "#7201a8"
             ],
             [
              0.3333333333333333,
              "#9c179e"
             ],
             [
              0.4444444444444444,
              "#bd3786"
             ],
             [
              0.5555555555555556,
              "#d8576b"
             ],
             [
              0.6666666666666666,
              "#ed7953"
             ],
             [
              0.7777777777777778,
              "#fb9f3a"
             ],
             [
              0.8888888888888888,
              "#fdca26"
             ],
             [
              1,
              "#f0f921"
             ]
            ],
            "type": "surface"
           }
          ],
          "table": [
           {
            "cells": {
             "fill": {
              "color": "#EBF0F8"
             },
             "line": {
              "color": "white"
             }
            },
            "header": {
             "fill": {
              "color": "#C8D4E3"
             },
             "line": {
              "color": "white"
             }
            },
            "type": "table"
           }
          ]
         },
         "layout": {
          "annotationdefaults": {
           "arrowcolor": "#2a3f5f",
           "arrowhead": 0,
           "arrowwidth": 1
          },
          "autotypenumbers": "strict",
          "coloraxis": {
           "colorbar": {
            "outlinewidth": 0,
            "ticks": ""
           }
          },
          "colorscale": {
           "diverging": [
            [
             0,
             "#8e0152"
            ],
            [
             0.1,
             "#c51b7d"
            ],
            [
             0.2,
             "#de77ae"
            ],
            [
             0.3,
             "#f1b6da"
            ],
            [
             0.4,
             "#fde0ef"
            ],
            [
             0.5,
             "#f7f7f7"
            ],
            [
             0.6,
             "#e6f5d0"
            ],
            [
             0.7,
             "#b8e186"
            ],
            [
             0.8,
             "#7fbc41"
            ],
            [
             0.9,
             "#4d9221"
            ],
            [
             1,
             "#276419"
            ]
           ],
           "sequential": [
            [
             0,
             "#0d0887"
            ],
            [
             0.1111111111111111,
             "#46039f"
            ],
            [
             0.2222222222222222,
             "#7201a8"
            ],
            [
             0.3333333333333333,
             "#9c179e"
            ],
            [
             0.4444444444444444,
             "#bd3786"
            ],
            [
             0.5555555555555556,
             "#d8576b"
            ],
            [
             0.6666666666666666,
             "#ed7953"
            ],
            [
             0.7777777777777778,
             "#fb9f3a"
            ],
            [
             0.8888888888888888,
             "#fdca26"
            ],
            [
             1,
             "#f0f921"
            ]
           ],
           "sequentialminus": [
            [
             0,
             "#0d0887"
            ],
            [
             0.1111111111111111,
             "#46039f"
            ],
            [
             0.2222222222222222,
             "#7201a8"
            ],
            [
             0.3333333333333333,
             "#9c179e"
            ],
            [
             0.4444444444444444,
             "#bd3786"
            ],
            [
             0.5555555555555556,
             "#d8576b"
            ],
            [
             0.6666666666666666,
             "#ed7953"
            ],
            [
             0.7777777777777778,
             "#fb9f3a"
            ],
            [
             0.8888888888888888,
             "#fdca26"
            ],
            [
             1,
             "#f0f921"
            ]
           ]
          },
          "colorway": [
           "#636efa",
           "#EF553B",
           "#00cc96",
           "#ab63fa",
           "#FFA15A",
           "#19d3f3",
           "#FF6692",
           "#B6E880",
           "#FF97FF",
           "#FECB52"
          ],
          "font": {
           "color": "#2a3f5f"
          },
          "geo": {
           "bgcolor": "white",
           "lakecolor": "white",
           "landcolor": "#E5ECF6",
           "showlakes": true,
           "showland": true,
           "subunitcolor": "white"
          },
          "hoverlabel": {
           "align": "left"
          },
          "hovermode": "closest",
          "mapbox": {
           "style": "light"
          },
          "paper_bgcolor": "white",
          "plot_bgcolor": "#E5ECF6",
          "polar": {
           "angularaxis": {
            "gridcolor": "white",
            "linecolor": "white",
            "ticks": ""
           },
           "bgcolor": "#E5ECF6",
           "radialaxis": {
            "gridcolor": "white",
            "linecolor": "white",
            "ticks": ""
           }
          },
          "scene": {
           "xaxis": {
            "backgroundcolor": "#E5ECF6",
            "gridcolor": "white",
            "gridwidth": 2,
            "linecolor": "white",
            "showbackground": true,
            "ticks": "",
            "zerolinecolor": "white"
           },
           "yaxis": {
            "backgroundcolor": "#E5ECF6",
            "gridcolor": "white",
            "gridwidth": 2,
            "linecolor": "white",
            "showbackground": true,
            "ticks": "",
            "zerolinecolor": "white"
           },
           "zaxis": {
            "backgroundcolor": "#E5ECF6",
            "gridcolor": "white",
            "gridwidth": 2,
            "linecolor": "white",
            "showbackground": true,
            "ticks": "",
            "zerolinecolor": "white"
           }
          },
          "shapedefaults": {
           "line": {
            "color": "#2a3f5f"
           }
          },
          "ternary": {
           "aaxis": {
            "gridcolor": "white",
            "linecolor": "white",
            "ticks": ""
           },
           "baxis": {
            "gridcolor": "white",
            "linecolor": "white",
            "ticks": ""
           },
           "bgcolor": "#E5ECF6",
           "caxis": {
            "gridcolor": "white",
            "linecolor": "white",
            "ticks": ""
           }
          },
          "title": {
           "x": 0.05
          },
          "xaxis": {
           "automargin": true,
           "gridcolor": "white",
           "linecolor": "white",
           "ticks": "",
           "title": {
            "standoff": 15
           },
           "zerolinecolor": "white",
           "zerolinewidth": 2
          },
          "yaxis": {
           "automargin": true,
           "gridcolor": "white",
           "linecolor": "white",
           "ticks": "",
           "title": {
            "standoff": 15
           },
           "zerolinecolor": "white",
           "zerolinewidth": 2
          }
         }
        },
        "title": {
         "text": "Kappa -0.03395395585174166"
        },
        "width": 800,
        "xaxis": {
         "title": {
          "text": "Predicted value"
         }
        },
        "yaxis": {
         "title": {
          "text": "Real value"
         }
        }
       }
      }
     },
     "metadata": {},
     "output_type": "display_data"
    }
   ],
   "source": [
    "\n",
    "#A modo de ejemplo muestro kappa y matriz de confusion para 50% de aciertos donde los errores quedan lejos de la clase correcta\n",
    "y_simulado_lejos = [y_test.iloc[sample] if random_list[sample]<50/100 else y_lejos[sample] for sample in range(len(y_test))]\n",
    "\n",
    "display(plot_confusion_matrix(y_test,y_simulado_lejos, \n",
    "                              title = \"Kappa \" + str(cohen_kappa_score(y_test,y_simulado_lejos, weights = 'quadratic'))))\n"
   ]
  },
  {
   "cell_type": "code",
   "execution_count": 27,
   "metadata": {},
   "outputs": [
    {
     "name": "stdout",
     "output_type": "stream",
     "text": [
      "[LightGBM] [Info] Number of positive: 328, number of negative: 11666\n",
      "[LightGBM] [Info] Number of positive: 2472, number of negative: 9522\n",
      "[LightGBM] [Info] Number of positive: 3230, number of negative: 8764\n",
      "[LightGBM] [Info] Number of positive: 2607, number of negative: 9387\n",
      "[LightGBM] [Info] Number of positive: 3357, number of negative: 8637\n",
      "[LightGBM] [Info] Auto-choosing row-wise multi-threading, the overhead of testing was 0.003228 seconds.\n",
      "You can set `force_row_wise=true` to remove the overhead.\n",
      "And if memory is not enough, you can set `force_col_wise=true`.\n",
      "[LightGBM] [Info] Total Bins 393\n",
      "[LightGBM] [Info] Number of data points in the train set: 11994, number of used features: 55\n",
      "[LightGBM] [Info] [binary:BoostFromScore]: pavg=0.027347 -> initscore=-3.571420\n",
      "[LightGBM] [Info] Start training from score -3.571420\n",
      "[LightGBM] [Info] [binary:BoostFromScore]: pavg=0.206103 -> initscore=-1.348577\n",
      "[LightGBM] [Info] Start training from score -1.348577\n",
      "[LightGBM] [Info] [binary:BoostFromScore]: pavg=0.269301 -> initscore=-0.998170\n",
      "[LightGBM] [Info] Start training from score -0.998170\n",
      "[LightGBM] [Info] [binary:BoostFromScore]: pavg=0.217359 -> initscore=-1.281126\n",
      "[LightGBM] [Info] Start training from score -1.281126\n",
      "[LightGBM] [Info] [binary:BoostFromScore]: pavg=0.279890 -> initscore=-0.945008\n",
      "[LightGBM] [Info] Start training from score -0.945008\n"
     ]
    }
   ],
   "source": [
    "#Pruebo un modelo alternativo donde en vez de usar la version multiclass real de lightGBM utilizo One vs All\n",
    "\n",
    "lgb_params = params = {\n",
    "                        'objective': 'multiclassova',\n",
    "                        'num_class': len(y_train.unique())\n",
    "                        }\n",
    "\n",
    "\n",
    "lgb_train_dataset = lgb.Dataset(data=X_train,\n",
    "                                label=y_train)\n",
    "\n",
    "\n",
    "lgb_model = lgb.train(lgb_params,\n",
    "                      lgb_train_dataset)"
   ]
  },
  {
   "cell_type": "code",
   "execution_count": 28,
   "metadata": {},
   "outputs": [
    {
     "data": {
      "application/vnd.plotly.v1+json": {
       "config": {
        "plotlyServerURL": "https://plot.ly"
       },
       "data": [
        {
         "type": "heatmap",
         "x": [
          0,
          1,
          2,
          3,
          4
         ],
         "y": [
          0,
          1,
          2,
          3,
          4
         ],
         "z": [
          [
           7.317073170731707,
           36.58536585365854,
           26.82926829268293,
           10.975609756097562,
           18.29268292682927
          ],
          [
           0.6472491909385114,
           32.362459546925564,
           37.54045307443366,
           7.281553398058252,
           22.168284789644012
          ],
          [
           0.37174721189591076,
           22.92441140024783,
           37.67038413878562,
           10.90458488228005,
           28.12887236679058
          ],
          [
           0.3067484662576687,
           17.02453987730061,
           34.50920245398773,
           19.32515337423313,
           28.834355828220858
          ],
          [
           0.2380952380952381,
           10.833333333333334,
           20.238095238095237,
           6.428571428571428,
           62.26190476190476
          ]
         ]
        }
       ],
       "layout": {
        "annotations": [
         {
          "font": {
           "color": "white"
          },
          "showarrow": false,
          "text": "7.3 - 6",
          "x": 0,
          "xref": "x",
          "y": 0,
          "yref": "y"
         },
         {
          "font": {
           "color": "white"
          },
          "showarrow": false,
          "text": "36.6 - 30",
          "x": 1,
          "xref": "x",
          "y": 0,
          "yref": "y"
         },
         {
          "font": {
           "color": "white"
          },
          "showarrow": false,
          "text": "26.8 - 22",
          "x": 2,
          "xref": "x",
          "y": 0,
          "yref": "y"
         },
         {
          "font": {
           "color": "white"
          },
          "showarrow": false,
          "text": "11.0 - 9",
          "x": 3,
          "xref": "x",
          "y": 0,
          "yref": "y"
         },
         {
          "font": {
           "color": "white"
          },
          "showarrow": false,
          "text": "18.3 - 15",
          "x": 4,
          "xref": "x",
          "y": 0,
          "yref": "y"
         },
         {
          "font": {
           "color": "white"
          },
          "showarrow": false,
          "text": "0.6 - 4",
          "x": 0,
          "xref": "x",
          "y": 1,
          "yref": "y"
         },
         {
          "font": {
           "color": "white"
          },
          "showarrow": false,
          "text": "32.4 - 200",
          "x": 1,
          "xref": "x",
          "y": 1,
          "yref": "y"
         },
         {
          "font": {
           "color": "white"
          },
          "showarrow": false,
          "text": "37.5 - 232",
          "x": 2,
          "xref": "x",
          "y": 1,
          "yref": "y"
         },
         {
          "font": {
           "color": "white"
          },
          "showarrow": false,
          "text": "7.3 - 45",
          "x": 3,
          "xref": "x",
          "y": 1,
          "yref": "y"
         },
         {
          "font": {
           "color": "white"
          },
          "showarrow": false,
          "text": "22.2 - 137",
          "x": 4,
          "xref": "x",
          "y": 1,
          "yref": "y"
         },
         {
          "font": {
           "color": "white"
          },
          "showarrow": false,
          "text": "0.4 - 3",
          "x": 0,
          "xref": "x",
          "y": 2,
          "yref": "y"
         },
         {
          "font": {
           "color": "white"
          },
          "showarrow": false,
          "text": "22.9 - 185",
          "x": 1,
          "xref": "x",
          "y": 2,
          "yref": "y"
         },
         {
          "font": {
           "color": "white"
          },
          "showarrow": false,
          "text": "37.7 - 304",
          "x": 2,
          "xref": "x",
          "y": 2,
          "yref": "y"
         },
         {
          "font": {
           "color": "white"
          },
          "showarrow": false,
          "text": "10.9 - 88",
          "x": 3,
          "xref": "x",
          "y": 2,
          "yref": "y"
         },
         {
          "font": {
           "color": "white"
          },
          "showarrow": false,
          "text": "28.1 - 227",
          "x": 4,
          "xref": "x",
          "y": 2,
          "yref": "y"
         },
         {
          "font": {
           "color": "white"
          },
          "showarrow": false,
          "text": "0.3 - 2",
          "x": 0,
          "xref": "x",
          "y": 3,
          "yref": "y"
         },
         {
          "font": {
           "color": "white"
          },
          "showarrow": false,
          "text": "17.0 - 111",
          "x": 1,
          "xref": "x",
          "y": 3,
          "yref": "y"
         },
         {
          "font": {
           "color": "white"
          },
          "showarrow": false,
          "text": "34.5 - 225",
          "x": 2,
          "xref": "x",
          "y": 3,
          "yref": "y"
         },
         {
          "font": {
           "color": "white"
          },
          "showarrow": false,
          "text": "19.3 - 126",
          "x": 3,
          "xref": "x",
          "y": 3,
          "yref": "y"
         },
         {
          "font": {
           "color": "white"
          },
          "showarrow": false,
          "text": "28.8 - 188",
          "x": 4,
          "xref": "x",
          "y": 3,
          "yref": "y"
         },
         {
          "font": {
           "color": "white"
          },
          "showarrow": false,
          "text": "0.2 - 2",
          "x": 0,
          "xref": "x",
          "y": 4,
          "yref": "y"
         },
         {
          "font": {
           "color": "white"
          },
          "showarrow": false,
          "text": "10.8 - 91",
          "x": 1,
          "xref": "x",
          "y": 4,
          "yref": "y"
         },
         {
          "font": {
           "color": "white"
          },
          "showarrow": false,
          "text": "20.2 - 170",
          "x": 2,
          "xref": "x",
          "y": 4,
          "yref": "y"
         },
         {
          "font": {
           "color": "white"
          },
          "showarrow": false,
          "text": "6.4 - 54",
          "x": 3,
          "xref": "x",
          "y": 4,
          "yref": "y"
         },
         {
          "font": {
           "color": "white"
          },
          "showarrow": false,
          "text": "62.3 - 523",
          "x": 4,
          "xref": "x",
          "y": 4,
          "yref": "y"
         }
        ],
        "height": 800,
        "template": {
         "data": {
          "bar": [
           {
            "error_x": {
             "color": "#2a3f5f"
            },
            "error_y": {
             "color": "#2a3f5f"
            },
            "marker": {
             "line": {
              "color": "#E5ECF6",
              "width": 0.5
             },
             "pattern": {
              "fillmode": "overlay",
              "size": 10,
              "solidity": 0.2
             }
            },
            "type": "bar"
           }
          ],
          "barpolar": [
           {
            "marker": {
             "line": {
              "color": "#E5ECF6",
              "width": 0.5
             },
             "pattern": {
              "fillmode": "overlay",
              "size": 10,
              "solidity": 0.2
             }
            },
            "type": "barpolar"
           }
          ],
          "carpet": [
           {
            "aaxis": {
             "endlinecolor": "#2a3f5f",
             "gridcolor": "white",
             "linecolor": "white",
             "minorgridcolor": "white",
             "startlinecolor": "#2a3f5f"
            },
            "baxis": {
             "endlinecolor": "#2a3f5f",
             "gridcolor": "white",
             "linecolor": "white",
             "minorgridcolor": "white",
             "startlinecolor": "#2a3f5f"
            },
            "type": "carpet"
           }
          ],
          "choropleth": [
           {
            "colorbar": {
             "outlinewidth": 0,
             "ticks": ""
            },
            "type": "choropleth"
           }
          ],
          "contour": [
           {
            "colorbar": {
             "outlinewidth": 0,
             "ticks": ""
            },
            "colorscale": [
             [
              0,
              "#0d0887"
             ],
             [
              0.1111111111111111,
              "#46039f"
             ],
             [
              0.2222222222222222,
              "#7201a8"
             ],
             [
              0.3333333333333333,
              "#9c179e"
             ],
             [
              0.4444444444444444,
              "#bd3786"
             ],
             [
              0.5555555555555556,
              "#d8576b"
             ],
             [
              0.6666666666666666,
              "#ed7953"
             ],
             [
              0.7777777777777778,
              "#fb9f3a"
             ],
             [
              0.8888888888888888,
              "#fdca26"
             ],
             [
              1,
              "#f0f921"
             ]
            ],
            "type": "contour"
           }
          ],
          "contourcarpet": [
           {
            "colorbar": {
             "outlinewidth": 0,
             "ticks": ""
            },
            "type": "contourcarpet"
           }
          ],
          "heatmap": [
           {
            "colorbar": {
             "outlinewidth": 0,
             "ticks": ""
            },
            "colorscale": [
             [
              0,
              "#0d0887"
             ],
             [
              0.1111111111111111,
              "#46039f"
             ],
             [
              0.2222222222222222,
              "#7201a8"
             ],
             [
              0.3333333333333333,
              "#9c179e"
             ],
             [
              0.4444444444444444,
              "#bd3786"
             ],
             [
              0.5555555555555556,
              "#d8576b"
             ],
             [
              0.6666666666666666,
              "#ed7953"
             ],
             [
              0.7777777777777778,
              "#fb9f3a"
             ],
             [
              0.8888888888888888,
              "#fdca26"
             ],
             [
              1,
              "#f0f921"
             ]
            ],
            "type": "heatmap"
           }
          ],
          "heatmapgl": [
           {
            "colorbar": {
             "outlinewidth": 0,
             "ticks": ""
            },
            "colorscale": [
             [
              0,
              "#0d0887"
             ],
             [
              0.1111111111111111,
              "#46039f"
             ],
             [
              0.2222222222222222,
              "#7201a8"
             ],
             [
              0.3333333333333333,
              "#9c179e"
             ],
             [
              0.4444444444444444,
              "#bd3786"
             ],
             [
              0.5555555555555556,
              "#d8576b"
             ],
             [
              0.6666666666666666,
              "#ed7953"
             ],
             [
              0.7777777777777778,
              "#fb9f3a"
             ],
             [
              0.8888888888888888,
              "#fdca26"
             ],
             [
              1,
              "#f0f921"
             ]
            ],
            "type": "heatmapgl"
           }
          ],
          "histogram": [
           {
            "marker": {
             "pattern": {
              "fillmode": "overlay",
              "size": 10,
              "solidity": 0.2
             }
            },
            "type": "histogram"
           }
          ],
          "histogram2d": [
           {
            "colorbar": {
             "outlinewidth": 0,
             "ticks": ""
            },
            "colorscale": [
             [
              0,
              "#0d0887"
             ],
             [
              0.1111111111111111,
              "#46039f"
             ],
             [
              0.2222222222222222,
              "#7201a8"
             ],
             [
              0.3333333333333333,
              "#9c179e"
             ],
             [
              0.4444444444444444,
              "#bd3786"
             ],
             [
              0.5555555555555556,
              "#d8576b"
             ],
             [
              0.6666666666666666,
              "#ed7953"
             ],
             [
              0.7777777777777778,
              "#fb9f3a"
             ],
             [
              0.8888888888888888,
              "#fdca26"
             ],
             [
              1,
              "#f0f921"
             ]
            ],
            "type": "histogram2d"
           }
          ],
          "histogram2dcontour": [
           {
            "colorbar": {
             "outlinewidth": 0,
             "ticks": ""
            },
            "colorscale": [
             [
              0,
              "#0d0887"
             ],
             [
              0.1111111111111111,
              "#46039f"
             ],
             [
              0.2222222222222222,
              "#7201a8"
             ],
             [
              0.3333333333333333,
              "#9c179e"
             ],
             [
              0.4444444444444444,
              "#bd3786"
             ],
             [
              0.5555555555555556,
              "#d8576b"
             ],
             [
              0.6666666666666666,
              "#ed7953"
             ],
             [
              0.7777777777777778,
              "#fb9f3a"
             ],
             [
              0.8888888888888888,
              "#fdca26"
             ],
             [
              1,
              "#f0f921"
             ]
            ],
            "type": "histogram2dcontour"
           }
          ],
          "mesh3d": [
           {
            "colorbar": {
             "outlinewidth": 0,
             "ticks": ""
            },
            "type": "mesh3d"
           }
          ],
          "parcoords": [
           {
            "line": {
             "colorbar": {
              "outlinewidth": 0,
              "ticks": ""
             }
            },
            "type": "parcoords"
           }
          ],
          "pie": [
           {
            "automargin": true,
            "type": "pie"
           }
          ],
          "scatter": [
           {
            "fillpattern": {
             "fillmode": "overlay",
             "size": 10,
             "solidity": 0.2
            },
            "type": "scatter"
           }
          ],
          "scatter3d": [
           {
            "line": {
             "colorbar": {
              "outlinewidth": 0,
              "ticks": ""
             }
            },
            "marker": {
             "colorbar": {
              "outlinewidth": 0,
              "ticks": ""
             }
            },
            "type": "scatter3d"
           }
          ],
          "scattercarpet": [
           {
            "marker": {
             "colorbar": {
              "outlinewidth": 0,
              "ticks": ""
             }
            },
            "type": "scattercarpet"
           }
          ],
          "scattergeo": [
           {
            "marker": {
             "colorbar": {
              "outlinewidth": 0,
              "ticks": ""
             }
            },
            "type": "scattergeo"
           }
          ],
          "scattergl": [
           {
            "marker": {
             "colorbar": {
              "outlinewidth": 0,
              "ticks": ""
             }
            },
            "type": "scattergl"
           }
          ],
          "scattermapbox": [
           {
            "marker": {
             "colorbar": {
              "outlinewidth": 0,
              "ticks": ""
             }
            },
            "type": "scattermapbox"
           }
          ],
          "scatterpolar": [
           {
            "marker": {
             "colorbar": {
              "outlinewidth": 0,
              "ticks": ""
             }
            },
            "type": "scatterpolar"
           }
          ],
          "scatterpolargl": [
           {
            "marker": {
             "colorbar": {
              "outlinewidth": 0,
              "ticks": ""
             }
            },
            "type": "scatterpolargl"
           }
          ],
          "scatterternary": [
           {
            "marker": {
             "colorbar": {
              "outlinewidth": 0,
              "ticks": ""
             }
            },
            "type": "scatterternary"
           }
          ],
          "surface": [
           {
            "colorbar": {
             "outlinewidth": 0,
             "ticks": ""
            },
            "colorscale": [
             [
              0,
              "#0d0887"
             ],
             [
              0.1111111111111111,
              "#46039f"
             ],
             [
              0.2222222222222222,
              "#7201a8"
             ],
             [
              0.3333333333333333,
              "#9c179e"
             ],
             [
              0.4444444444444444,
              "#bd3786"
             ],
             [
              0.5555555555555556,
              "#d8576b"
             ],
             [
              0.6666666666666666,
              "#ed7953"
             ],
             [
              0.7777777777777778,
              "#fb9f3a"
             ],
             [
              0.8888888888888888,
              "#fdca26"
             ],
             [
              1,
              "#f0f921"
             ]
            ],
            "type": "surface"
           }
          ],
          "table": [
           {
            "cells": {
             "fill": {
              "color": "#EBF0F8"
             },
             "line": {
              "color": "white"
             }
            },
            "header": {
             "fill": {
              "color": "#C8D4E3"
             },
             "line": {
              "color": "white"
             }
            },
            "type": "table"
           }
          ]
         },
         "layout": {
          "annotationdefaults": {
           "arrowcolor": "#2a3f5f",
           "arrowhead": 0,
           "arrowwidth": 1
          },
          "autotypenumbers": "strict",
          "coloraxis": {
           "colorbar": {
            "outlinewidth": 0,
            "ticks": ""
           }
          },
          "colorscale": {
           "diverging": [
            [
             0,
             "#8e0152"
            ],
            [
             0.1,
             "#c51b7d"
            ],
            [
             0.2,
             "#de77ae"
            ],
            [
             0.3,
             "#f1b6da"
            ],
            [
             0.4,
             "#fde0ef"
            ],
            [
             0.5,
             "#f7f7f7"
            ],
            [
             0.6,
             "#e6f5d0"
            ],
            [
             0.7,
             "#b8e186"
            ],
            [
             0.8,
             "#7fbc41"
            ],
            [
             0.9,
             "#4d9221"
            ],
            [
             1,
             "#276419"
            ]
           ],
           "sequential": [
            [
             0,
             "#0d0887"
            ],
            [
             0.1111111111111111,
             "#46039f"
            ],
            [
             0.2222222222222222,
             "#7201a8"
            ],
            [
             0.3333333333333333,
             "#9c179e"
            ],
            [
             0.4444444444444444,
             "#bd3786"
            ],
            [
             0.5555555555555556,
             "#d8576b"
            ],
            [
             0.6666666666666666,
             "#ed7953"
            ],
            [
             0.7777777777777778,
             "#fb9f3a"
            ],
            [
             0.8888888888888888,
             "#fdca26"
            ],
            [
             1,
             "#f0f921"
            ]
           ],
           "sequentialminus": [
            [
             0,
             "#0d0887"
            ],
            [
             0.1111111111111111,
             "#46039f"
            ],
            [
             0.2222222222222222,
             "#7201a8"
            ],
            [
             0.3333333333333333,
             "#9c179e"
            ],
            [
             0.4444444444444444,
             "#bd3786"
            ],
            [
             0.5555555555555556,
             "#d8576b"
            ],
            [
             0.6666666666666666,
             "#ed7953"
            ],
            [
             0.7777777777777778,
             "#fb9f3a"
            ],
            [
             0.8888888888888888,
             "#fdca26"
            ],
            [
             1,
             "#f0f921"
            ]
           ]
          },
          "colorway": [
           "#636efa",
           "#EF553B",
           "#00cc96",
           "#ab63fa",
           "#FFA15A",
           "#19d3f3",
           "#FF6692",
           "#B6E880",
           "#FF97FF",
           "#FECB52"
          ],
          "font": {
           "color": "#2a3f5f"
          },
          "geo": {
           "bgcolor": "white",
           "lakecolor": "white",
           "landcolor": "#E5ECF6",
           "showlakes": true,
           "showland": true,
           "subunitcolor": "white"
          },
          "hoverlabel": {
           "align": "left"
          },
          "hovermode": "closest",
          "mapbox": {
           "style": "light"
          },
          "paper_bgcolor": "white",
          "plot_bgcolor": "#E5ECF6",
          "polar": {
           "angularaxis": {
            "gridcolor": "white",
            "linecolor": "white",
            "ticks": ""
           },
           "bgcolor": "#E5ECF6",
           "radialaxis": {
            "gridcolor": "white",
            "linecolor": "white",
            "ticks": ""
           }
          },
          "scene": {
           "xaxis": {
            "backgroundcolor": "#E5ECF6",
            "gridcolor": "white",
            "gridwidth": 2,
            "linecolor": "white",
            "showbackground": true,
            "ticks": "",
            "zerolinecolor": "white"
           },
           "yaxis": {
            "backgroundcolor": "#E5ECF6",
            "gridcolor": "white",
            "gridwidth": 2,
            "linecolor": "white",
            "showbackground": true,
            "ticks": "",
            "zerolinecolor": "white"
           },
           "zaxis": {
            "backgroundcolor": "#E5ECF6",
            "gridcolor": "white",
            "gridwidth": 2,
            "linecolor": "white",
            "showbackground": true,
            "ticks": "",
            "zerolinecolor": "white"
           }
          },
          "shapedefaults": {
           "line": {
            "color": "#2a3f5f"
           }
          },
          "ternary": {
           "aaxis": {
            "gridcolor": "white",
            "linecolor": "white",
            "ticks": ""
           },
           "baxis": {
            "gridcolor": "white",
            "linecolor": "white",
            "ticks": ""
           },
           "bgcolor": "#E5ECF6",
           "caxis": {
            "gridcolor": "white",
            "linecolor": "white",
            "ticks": ""
           }
          },
          "title": {
           "x": 0.05
          },
          "xaxis": {
           "automargin": true,
           "gridcolor": "white",
           "linecolor": "white",
           "ticks": "",
           "title": {
            "standoff": 15
           },
           "zerolinecolor": "white",
           "zerolinewidth": 2
          },
          "yaxis": {
           "automargin": true,
           "gridcolor": "white",
           "linecolor": "white",
           "ticks": "",
           "title": {
            "standoff": 15
           },
           "zerolinecolor": "white",
           "zerolinewidth": 2
          }
         }
        },
        "title": {
         "text": "Conf Matrix"
        },
        "width": 800,
        "xaxis": {
         "title": {
          "text": "Predicted value"
         }
        },
        "yaxis": {
         "title": {
          "text": "Real value"
         }
        }
       }
      }
     },
     "metadata": {},
     "output_type": "display_data"
    },
    {
     "data": {
      "text/plain": [
       "{'kappa': np.float64(0.3174951811730289),\n",
       " 'accuracy': 0.3864621540513504,\n",
       " 'balanced_accuracy': np.float64(0.3178739499851616)}"
      ]
     },
     "execution_count": 28,
     "metadata": {},
     "output_type": "execute_result"
    }
   ],
   "source": [
    "#MAtriz de confusion y Kappa dfe OVA\n",
    "y_pred = lgb_model.predict(X_test).argmax(axis=1)\n",
    "\n",
    "display(plot_confusion_matrix(y_test,y_pred))\n",
    "\n",
    "{'kappa':cohen_kappa_score(y_test,\n",
    "                y_pred,\n",
    "                weights = 'quadratic'),\n",
    " 'accuracy':accuracy_score(y_test,y_pred),\n",
    " 'balanced_accuracy':balanced_accuracy_score(y_test,y_pred)}\n",
    "\n",
    "\n"
   ]
  },
  {
   "cell_type": "markdown",
   "metadata": {},
   "source": [
    "## Optimizacion de hiperparametros modelo train/test"
   ]
  },
  {
   "cell_type": "code",
   "execution_count": 29,
   "metadata": {},
   "outputs": [],
   "source": [
    "\n",
    "#Funcion que vamos a optimizar. Optuna requiere que usemos el objeto trial para generar los parametros a optimizar\n",
    "def lgb_objective(trial):\n",
    "    #PArametros para LightGBM\n",
    "    lgb_params = {      \n",
    "                        #PArametros fijos\n",
    "                        'objective': 'multiclass',\n",
    "                        'verbosity':-1,\n",
    "                        'num_class': len(y_train.unique()),\n",
    "                        #Hiperparametros a optimizar utilizando suggest_float o suggest_int segun el tipo de dato\n",
    "                        #Se indica el nombre del parametro, valor minimo, valor maximo \n",
    "                        #en elgunos casos el parametro log=True para parametros que requieren buscar en esa escala\n",
    "                        'lambda_l1': trial.suggest_float('lambda_l1', 1e-8, 10.0, log=True),\n",
    "                        'lambda_l2': trial.suggest_float('lambda_l2', 1e-8, 10.0, log=True),\n",
    "                        'num_leaves': trial.suggest_int('num_leaves', 2, 256),\n",
    "                        'feature_fraction': trial.suggest_float('feature_fraction', 0.4, 1.0),\n",
    "                        'bagging_fraction': trial.suggest_float('bagging_fraction', 0.4, 1.0),\n",
    "                        'bagging_freq': trial.suggest_int('bagging_freq', 1, 7),\n",
    "                        'min_child_samples': trial.suggest_int('min_child_samples', 5, 100),\n",
    "                        } \n",
    "\n",
    "    #Genero objeto dataset de entrenamiento\n",
    "    lgb_train_dataset = lgb.Dataset(data=X_train,\n",
    "                                    label=y_train)\n",
    "\n",
    "    #ajuste de modelo\n",
    "    lgb_model = lgb.train(lgb_params,\n",
    "                        lgb_train_dataset)\n",
    "    \n",
    "    #Devuelvo el score en test\n",
    "    return(cohen_kappa_score(y_test,lgb_model.predict(X_test).argmax(axis=1),\n",
    "                             weights = 'quadratic'))"
   ]
  },
  {
   "cell_type": "code",
   "execution_count": 30,
   "metadata": {},
   "outputs": [
    {
     "name": "stderr",
     "output_type": "stream",
     "text": [
      "[I 2024-08-22 19:37:39,963] Using an existing study with name '04 - LGB Multiclass' instead of creating a new one.\n",
      "[I 2024-08-22 19:37:44,024] Trial 400 finished with value: 0.29980276024066055 and parameters: {'lambda_l1': 3.2747914679433843e-06, 'lambda_l2': 0.9725526858293452, 'num_leaves': 36, 'feature_fraction': 0.8821521637862549, 'bagging_fraction': 0.521204734343403, 'bagging_freq': 6, 'min_child_samples': 91}. Best is trial 241 with value: 0.33769755881911834.\n",
      "[I 2024-08-22 19:37:46,992] Trial 401 finished with value: 0.3000931841267974 and parameters: {'lambda_l1': 1.3654286143497509e-05, 'lambda_l2': 1.5859700506851437, 'num_leaves': 256, 'feature_fraction': 0.9115927664064756, 'bagging_fraction': 0.5152388184339238, 'bagging_freq': 6, 'min_child_samples': 90}. Best is trial 241 with value: 0.33769755881911834.\n",
      "[I 2024-08-22 19:37:48,967] Trial 402 finished with value: 0.30673820694618315 and parameters: {'lambda_l1': 6.459109331863101e-06, 'lambda_l2': 0.014041273705081268, 'num_leaves': 19, 'feature_fraction': 0.8948175847018545, 'bagging_fraction': 0.5352648073493674, 'bagging_freq': 6, 'min_child_samples': 93}. Best is trial 241 with value: 0.33769755881911834.\n",
      "[I 2024-08-22 19:37:52,007] Trial 403 finished with value: 0.30710081626062213 and parameters: {'lambda_l1': 6.67038338674065e-05, 'lambda_l2': 5.382110802554242, 'num_leaves': 28, 'feature_fraction': 0.9115251765212156, 'bagging_fraction': 0.49871001631524037, 'bagging_freq': 6, 'min_child_samples': 88}. Best is trial 241 with value: 0.33769755881911834.\n",
      "[I 2024-08-22 19:37:54,679] Trial 404 finished with value: 0.3106265611384692 and parameters: {'lambda_l1': 3.496827691286838e-05, 'lambda_l2': 1.7296198064353328, 'num_leaves': 39, 'feature_fraction': 0.8890275414027913, 'bagging_fraction': 0.5464965591780641, 'bagging_freq': 6, 'min_child_samples': 91}. Best is trial 241 with value: 0.33769755881911834.\n",
      "[I 2024-08-22 19:37:56,079] Trial 405 finished with value: 0.30551645185671983 and parameters: {'lambda_l1': 2.1928465921356727e-05, 'lambda_l2': 0.6758448840975442, 'num_leaves': 11, 'feature_fraction': 0.903951804458525, 'bagging_fraction': 0.51092823685676, 'bagging_freq': 6, 'min_child_samples': 93}. Best is trial 241 with value: 0.33769755881911834.\n",
      "[I 2024-08-22 19:37:58,134] Trial 406 finished with value: 0.316538766747542 and parameters: {'lambda_l1': 1.025751806993971e-05, 'lambda_l2': 0.05273824619065116, 'num_leaves': 22, 'feature_fraction': 0.8605656229013097, 'bagging_fraction': 0.526960923712215, 'bagging_freq': 6, 'min_child_samples': 86}. Best is trial 241 with value: 0.33769755881911834.\n",
      "[I 2024-08-22 19:38:00,326] Trial 407 finished with value: 0.3060664234211915 and parameters: {'lambda_l1': 4.19163045095768e-06, 'lambda_l2': 0.03187389923102781, 'num_leaves': 15, 'feature_fraction': 0.9177302004713868, 'bagging_fraction': 0.5602695386974078, 'bagging_freq': 4, 'min_child_samples': 95}. Best is trial 241 with value: 0.33769755881911834.\n",
      "[I 2024-08-22 19:38:02,740] Trial 408 finished with value: 0.3208969627228968 and parameters: {'lambda_l1': 1.6514100601058724e-06, 'lambda_l2': 1.2196468926584734, 'num_leaves': 33, 'feature_fraction': 0.8869408810986587, 'bagging_fraction': 0.536655249626496, 'bagging_freq': 6, 'min_child_samples': 89}. Best is trial 241 with value: 0.33769755881911834.\n",
      "[I 2024-08-22 19:38:04,825] Trial 409 finished with value: 0.3089681193558228 and parameters: {'lambda_l1': 1.6572422616683405e-05, 'lambda_l2': 1.595178056104293e-05, 'num_leaves': 25, 'feature_fraction': 0.6703517685551142, 'bagging_fraction': 0.5176536782034108, 'bagging_freq': 6, 'min_child_samples': 92}. Best is trial 241 with value: 0.33769755881911834.\n",
      "[I 2024-08-22 19:38:07,302] Trial 410 finished with value: 0.3062760275514458 and parameters: {'lambda_l1': 0.00010306349931311937, 'lambda_l2': 0.09037260477670113, 'num_leaves': 33, 'feature_fraction': 0.8481458571221284, 'bagging_fraction': 0.492809179954704, 'bagging_freq': 6, 'min_child_samples': 94}. Best is trial 241 with value: 0.33769755881911834.\n",
      "[I 2024-08-22 19:38:10,383] Trial 411 finished with value: 0.3096456100599251 and parameters: {'lambda_l1': 7.571848764428758e-06, 'lambda_l2': 0.021265118998205067, 'num_leaves': 28, 'feature_fraction': 0.8999272682902499, 'bagging_fraction': 0.5487736598243005, 'bagging_freq': 6, 'min_child_samples': 90}. Best is trial 241 with value: 0.33769755881911834.\n",
      "[I 2024-08-22 19:38:14,044] Trial 412 finished with value: 0.3003388450121286 and parameters: {'lambda_l1': 2.303891404371156e-05, 'lambda_l2': 3.6408364439967573, 'num_leaves': 40, 'feature_fraction': 0.8717075617740011, 'bagging_fraction': 0.507200786701965, 'bagging_freq': 6, 'min_child_samples': 88}. Best is trial 241 with value: 0.33769755881911834.\n",
      "[I 2024-08-22 19:38:15,045] Trial 413 finished with value: 0.25536071979037556 and parameters: {'lambda_l1': 3.420655839988383e-05, 'lambda_l2': 2.8293468906993785e-05, 'num_leaves': 2, 'feature_fraction': 0.6418641726381167, 'bagging_fraction': 0.5265493228914604, 'bagging_freq': 6, 'min_child_samples': 100}. Best is trial 241 with value: 0.33769755881911834.\n",
      "[I 2024-08-22 19:38:18,181] Trial 414 finished with value: 0.3061916926045929 and parameters: {'lambda_l1': 9.640729365271878e-06, 'lambda_l2': 0.009259234306717483, 'num_leaves': 215, 'feature_fraction': 0.41086380741959777, 'bagging_fraction': 0.5412941297939812, 'bagging_freq': 6, 'min_child_samples': 96}. Best is trial 241 with value: 0.33769755881911834.\n",
      "[I 2024-08-22 19:38:20,153] Trial 415 finished with value: 0.31788859658020663 and parameters: {'lambda_l1': 5.326140673871974e-05, 'lambda_l2': 0.03303176562040619, 'num_leaves': 18, 'feature_fraction': 0.9183345637232075, 'bagging_fraction': 0.5263425780821137, 'bagging_freq': 6, 'min_child_samples': 91}. Best is trial 241 with value: 0.33769755881911834.\n",
      "[I 2024-08-22 19:38:22,140] Trial 416 finished with value: 0.3060399767324423 and parameters: {'lambda_l1': 1.4162709596388147e-05, 'lambda_l2': 0.043318579326461513, 'num_leaves': 22, 'feature_fraction': 0.8776984442990455, 'bagging_fraction': 0.5077848796019422, 'bagging_freq': 6, 'min_child_samples': 94}. Best is trial 241 with value: 0.33769755881911834.\n",
      "[I 2024-08-22 19:38:24,883] Trial 417 finished with value: 0.32050550965325675 and parameters: {'lambda_l1': 5.621544852628803e-07, 'lambda_l2': 3.0674857131890724e-07, 'num_leaves': 36, 'feature_fraction': 0.9066011407396033, 'bagging_fraction': 0.5581271317689473, 'bagging_freq': 6, 'min_child_samples': 84}. Best is trial 241 with value: 0.33769755881911834.\n",
      "[I 2024-08-22 19:38:27,234] Trial 418 finished with value: 0.29930728032265586 and parameters: {'lambda_l1': 9.84869292036261e-05, 'lambda_l2': 0.01465014867440783, 'num_leaves': 29, 'feature_fraction': 0.898875725246352, 'bagging_fraction': 0.48783177431109936, 'bagging_freq': 6, 'min_child_samples': 92}. Best is trial 241 with value: 0.33769755881911834.\n",
      "[I 2024-08-22 19:38:31,396] Trial 419 finished with value: 0.29693403429949405 and parameters: {'lambda_l1': 4.448659619043325e-06, 'lambda_l2': 1.6527243833197842e-07, 'num_leaves': 185, 'feature_fraction': 0.9221698688484705, 'bagging_fraction': 0.413650664871988, 'bagging_freq': 6, 'min_child_samples': 41}. Best is trial 241 with value: 0.33769755881911834.\n",
      "[I 2024-08-22 19:38:32,852] Trial 420 finished with value: 0.30982660027610565 and parameters: {'lambda_l1': 0.00016731027089738828, 'lambda_l2': 0.02292192427085378, 'num_leaves': 11, 'feature_fraction': 0.8852541391053911, 'bagging_fraction': 0.5341525196535216, 'bagging_freq': 6, 'min_child_samples': 98}. Best is trial 241 with value: 0.33769755881911834.\n",
      "[I 2024-08-22 19:38:34,628] Trial 421 finished with value: 0.3017601090624974 and parameters: {'lambda_l1': 2.6787917873058763e-06, 'lambda_l2': 0.4571953652511247, 'num_leaves': 16, 'feature_fraction': 0.9108369174498911, 'bagging_fraction': 0.5215189875514031, 'bagging_freq': 6, 'min_child_samples': 96}. Best is trial 241 with value: 0.33769755881911834.\n",
      "[I 2024-08-22 19:38:37,984] Trial 422 finished with value: 0.3035933547748215 and parameters: {'lambda_l1': 5.92617800997521e-06, 'lambda_l2': 0.09009964400378191, 'num_leaves': 24, 'feature_fraction': 0.8927929180925778, 'bagging_fraction': 0.545674583878439, 'bagging_freq': 6, 'min_child_samples': 87}. Best is trial 241 with value: 0.33769755881911834.\n",
      "[I 2024-08-22 19:38:40,897] Trial 423 finished with value: 0.313206932420083 and parameters: {'lambda_l1': 2.6838493168384768e-05, 'lambda_l2': 2.4262326296555987e-07, 'num_leaves': 43, 'feature_fraction': 0.7917686811404311, 'bagging_fraction': 0.5043800504249251, 'bagging_freq': 6, 'min_child_samples': 94}. Best is trial 241 with value: 0.33769755881911834.\n",
      "[I 2024-08-22 19:38:43,217] Trial 424 finished with value: 0.3068511612354421 and parameters: {'lambda_l1': 6.630027744012327e-05, 'lambda_l2': 3.7320099034121285e-07, 'num_leaves': 29, 'feature_fraction': 0.9227765881183936, 'bagging_fraction': 0.5155547006434753, 'bagging_freq': 6, 'min_child_samples': 90}. Best is trial 241 with value: 0.33769755881911834.\n",
      "[I 2024-08-22 19:38:46,724] Trial 425 finished with value: 0.3089616554525775 and parameters: {'lambda_l1': 1.0592429071507233e-05, 'lambda_l2': 0.2745929421153909, 'num_leaves': 241, 'feature_fraction': 0.8732518700596928, 'bagging_fraction': 0.5688670065151646, 'bagging_freq': 6, 'min_child_samples': 92}. Best is trial 241 with value: 0.33769755881911834.\n",
      "[I 2024-08-22 19:38:49,073] Trial 426 finished with value: 0.31971912685037573 and parameters: {'lambda_l1': 1.6381068104700052e-05, 'lambda_l2': 0.048668664315237975, 'num_leaves': 34, 'feature_fraction': 0.8568385495759979, 'bagging_fraction': 0.533299246926168, 'bagging_freq': 6, 'min_child_samples': 96}. Best is trial 241 with value: 0.33769755881911834.\n",
      "[I 2024-08-22 19:38:51,128] Trial 427 finished with value: 0.314744887817047 and parameters: {'lambda_l1': 4.873025758537e-05, 'lambda_l2': 0.012976986562217291, 'num_leaves': 19, 'feature_fraction': 0.9065427834066075, 'bagging_fraction': 0.5545545066788826, 'bagging_freq': 6, 'min_child_samples': 88}. Best is trial 241 with value: 0.33769755881911834.\n",
      "[I 2024-08-22 19:38:53,319] Trial 428 finished with value: 0.32630222077408577 and parameters: {'lambda_l1': 8.50088934649254e-06, 'lambda_l2': 0.02567504379212442, 'num_leaves': 24, 'feature_fraction': 0.4700193884195924, 'bagging_fraction': 0.49610530819398513, 'bagging_freq': 6, 'min_child_samples': 90}. Best is trial 241 with value: 0.33769755881911834.\n",
      "[I 2024-08-22 19:38:56,120] Trial 429 finished with value: 0.3057055796148602 and parameters: {'lambda_l1': 2.1471253314589413e-05, 'lambda_l2': 2.1807663748425434, 'num_leaves': 38, 'feature_fraction': 0.8902647876567666, 'bagging_fraction': 0.5202210170844761, 'bagging_freq': 6, 'min_child_samples': 94}. Best is trial 241 with value: 0.33769755881911834.\n",
      "[I 2024-08-22 19:38:57,781] Trial 430 finished with value: 0.30749141664887514 and parameters: {'lambda_l1': 1.2826146335020279e-05, 'lambda_l2': 4.2642668545496377e-07, 'num_leaves': 9, 'feature_fraction': 0.5464939736637274, 'bagging_fraction': 0.5413943215718345, 'bagging_freq': 6, 'min_child_samples': 92}. Best is trial 241 with value: 0.33769755881911834.\n",
      "[I 2024-08-22 19:39:00,355] Trial 431 finished with value: 0.3192282930872471 and parameters: {'lambda_l1': 0.00013504589507432418, 'lambda_l2': 0.00807382146250551, 'num_leaves': 30, 'feature_fraction': 0.9169168045682523, 'bagging_fraction': 0.512583569411992, 'bagging_freq': 6, 'min_child_samples': 98}. Best is trial 241 with value: 0.33769755881911834.\n",
      "[I 2024-08-22 19:39:02,323] Trial 432 finished with value: 0.31013762440460646 and parameters: {'lambda_l1': 4.015532919595072e-06, 'lambda_l2': 1.6466913240072314e-07, 'num_leaves': 15, 'feature_fraction': 0.8982120968745803, 'bagging_fraction': 0.5280994668903356, 'bagging_freq': 4, 'min_child_samples': 95}. Best is trial 241 with value: 0.33769755881911834.\n",
      "[I 2024-08-22 19:39:05,062] Trial 433 finished with value: 0.32214936339858824 and parameters: {'lambda_l1': 6.520096644258167e-06, 'lambda_l2': 0.9729051788348289, 'num_leaves': 47, 'feature_fraction': 0.8798897566468116, 'bagging_fraction': 0.5480701598244543, 'bagging_freq': 6, 'min_child_samples': 93}. Best is trial 241 with value: 0.33769755881911834.\n",
      "[I 2024-08-22 19:39:06,958] Trial 434 finished with value: 0.3080093803542989 and parameters: {'lambda_l1': 0.00021645518800625065, 'lambda_l2': 0.17943936711370811, 'num_leaves': 22, 'feature_fraction': 0.9285222297682877, 'bagging_fraction': 0.5002357038153168, 'bagging_freq': 6, 'min_child_samples': 90}. Best is trial 241 with value: 0.33769755881911834.\n",
      "[I 2024-08-22 19:39:09,334] Trial 435 finished with value: 0.3042232161325148 and parameters: {'lambda_l1': 2.254605833638956e-06, 'lambda_l2': 2.689321628802437e-07, 'num_leaves': 33, 'feature_fraction': 0.9472423354592799, 'bagging_fraction': 0.5327203079242178, 'bagging_freq': 6, 'min_child_samples': 88}. Best is trial 241 with value: 0.33769755881911834.\n",
      "[I 2024-08-22 19:39:11,226] Trial 436 finished with value: 0.2961470017202845 and parameters: {'lambda_l1': 3.7662893423998205, 'lambda_l2': 1.2296015075276122e-07, 'num_leaves': 26, 'feature_fraction': 0.9120645095282505, 'bagging_fraction': 0.5172151142126131, 'bagging_freq': 6, 'min_child_samples': 86}. Best is trial 241 with value: 0.33769755881911834.\n",
      "[I 2024-08-22 19:39:14,088] Trial 437 finished with value: 0.3149252828871818 and parameters: {'lambda_l1': 3.563305989110317e-05, 'lambda_l2': 0.05978891357117325, 'num_leaves': 40, 'feature_fraction': 0.8931963655782764, 'bagging_fraction': 0.5729062128287992, 'bagging_freq': 6, 'min_child_samples': 100}. Best is trial 241 with value: 0.33769755881911834.\n",
      "[I 2024-08-22 19:39:16,450] Trial 438 finished with value: 0.3093500756652715 and parameters: {'lambda_l1': 0.0003223877800092784, 'lambda_l2': 1.960004315252906e-07, 'num_leaves': 18, 'feature_fraction': 0.8631190111344684, 'bagging_fraction': 0.5383629736461525, 'bagging_freq': 6, 'min_child_samples': 91}. Best is trial 241 with value: 0.33769755881911834.\n",
      "[I 2024-08-22 19:39:19,508] Trial 439 finished with value: 0.3190251521755991 and parameters: {'lambda_l1': 1.5166833680362775, 'lambda_l2': 0.017866924897201045, 'num_leaves': 32, 'feature_fraction': 0.9292160893797212, 'bagging_fraction': 0.4850242731264115, 'bagging_freq': 6, 'min_child_samples': 97}. Best is trial 241 with value: 0.33769755881911834.\n",
      "[I 2024-08-22 19:39:20,744] Trial 440 finished with value: 0.2934018820812273 and parameters: {'lambda_l1': 5.084485638111506, 'lambda_l2': 0.03257086582142773, 'num_leaves': 6, 'feature_fraction': 0.9035667297696948, 'bagging_fraction': 0.5573564466170718, 'bagging_freq': 6, 'min_child_samples': 93}. Best is trial 241 with value: 0.33769755881911834.\n",
      "[I 2024-08-22 19:39:23,480] Trial 441 finished with value: 0.3083722731416837 and parameters: {'lambda_l1': 0.005215055672335774, 'lambda_l2': 0.12161795403048746, 'num_leaves': 231, 'feature_fraction': 0.8844941761520692, 'bagging_fraction': 0.5231597086732074, 'bagging_freq': 6, 'min_child_samples': 95}. Best is trial 241 with value: 0.33769755881911834.\n",
      "[I 2024-08-22 19:39:25,534] Trial 442 finished with value: 0.31376302667351996 and parameters: {'lambda_l1': 7.826188968837087e-05, 'lambda_l2': 1.2380298012535134, 'num_leaves': 27, 'feature_fraction': 0.8368140361977209, 'bagging_fraction': 0.4243151847678438, 'bagging_freq': 6, 'min_child_samples': 97}. Best is trial 241 with value: 0.33769755881911834.\n",
      "[I 2024-08-22 19:39:27,153] Trial 443 finished with value: 0.31330667257866696 and parameters: {'lambda_l1': 2.921015551799381, 'lambda_l2': 3.8558027075063235e-07, 'num_leaves': 13, 'feature_fraction': 0.9188436770184905, 'bagging_fraction': 0.5026102156733232, 'bagging_freq': 6, 'min_child_samples': 92}. Best is trial 241 with value: 0.33769755881911834.\n",
      "[I 2024-08-22 19:39:29,527] Trial 444 finished with value: 0.31522800937331663 and parameters: {'lambda_l1': 1.6338766479643263, 'lambda_l2': 0.0666262380677794, 'num_leaves': 43, 'feature_fraction': 0.941892399945723, 'bagging_fraction': 0.4412576729558009, 'bagging_freq': 6, 'min_child_samples': 85}. Best is trial 241 with value: 0.33769755881911834.\n",
      "[I 2024-08-22 19:39:32,420] Trial 445 finished with value: 0.32174970198386743 and parameters: {'lambda_l1': 2.51280471824814e-05, 'lambda_l2': 0.03947595044551433, 'num_leaves': 222, 'feature_fraction': 0.8723343994675697, 'bagging_fraction': 0.5114224259578442, 'bagging_freq': 6, 'min_child_samples': 90}. Best is trial 241 with value: 0.33769755881911834.\n",
      "[I 2024-08-22 19:39:34,517] Trial 446 finished with value: 0.30271633048075175 and parameters: {'lambda_l1': 2.2237191608715126, 'lambda_l2': 5.427232851498863e-07, 'num_leaves': 202, 'feature_fraction': 0.9079279333330256, 'bagging_fraction': 0.400459569766895, 'bagging_freq': 6, 'min_child_samples': 94}. Best is trial 241 with value: 0.33769755881911834.\n",
      "[I 2024-08-22 19:39:37,142] Trial 447 finished with value: 0.3137115913134918 and parameters: {'lambda_l1': 1.5719813995879764e-05, 'lambda_l2': 2.1375685224051193e-07, 'num_leaves': 36, 'feature_fraction': 0.9546865500995942, 'bagging_fraction': 0.5442564217248761, 'bagging_freq': 6, 'min_child_samples': 89}. Best is trial 241 with value: 0.33769755881911834.\n",
      "[I 2024-08-22 19:39:39,045] Trial 448 finished with value: 0.3203864244489151 and parameters: {'lambda_l1': 1.1469102610330668, 'lambda_l2': 0.011319079618265948, 'num_leaves': 21, 'feature_fraction': 0.8955407407670406, 'bagging_fraction': 0.52823649079462, 'bagging_freq': 6, 'min_child_samples': 95}. Best is trial 241 with value: 0.33769755881911834.\n",
      "[I 2024-08-22 19:39:41,315] Trial 449 finished with value: 0.3100600182635702 and parameters: {'lambda_l1': 0.0005125532306880589, 'lambda_l2': 0.0063167901959555765, 'num_leaves': 24, 'feature_fraction': 0.5083819824928923, 'bagging_fraction': 0.5197762889004378, 'bagging_freq': 6, 'min_child_samples': 92}. Best is trial 241 with value: 0.33769755881911834.\n",
      "[I 2024-08-22 19:39:44,127] Trial 450 finished with value: 0.31956705119725015 and parameters: {'lambda_l1': 5.6614209630700315e-06, 'lambda_l2': 1.281874232327332e-07, 'num_leaves': 31, 'feature_fraction': 0.9273527599531824, 'bagging_fraction': 0.5348606721714114, 'bagging_freq': 6, 'min_child_samples': 98}. Best is trial 241 with value: 0.33769755881911834.\n",
      "[I 2024-08-22 19:39:47,153] Trial 451 finished with value: 0.3233369060370056 and parameters: {'lambda_l1': 9.221830409390731e-06, 'lambda_l2': 0.026579767771146595, 'num_leaves': 37, 'feature_fraction': 0.8776091849061917, 'bagging_fraction': 0.48780840466588693, 'bagging_freq': 4, 'min_child_samples': 87}. Best is trial 241 with value: 0.33769755881911834.\n",
      "[I 2024-08-22 19:39:49,160] Trial 452 finished with value: 0.3140464097363017 and parameters: {'lambda_l1': 6.239049088254078, 'lambda_l2': 2.7644145427018036e-07, 'num_leaves': 158, 'feature_fraction': 0.9170470669772245, 'bagging_fraction': 0.5571107059251681, 'bagging_freq': 6, 'min_child_samples': 82}. Best is trial 241 with value: 0.33769755881911834.\n",
      "[I 2024-08-22 19:39:50,904] Trial 453 finished with value: 0.30423804338048 and parameters: {'lambda_l1': 5.093000045265154e-05, 'lambda_l2': 7.226319604135072e-05, 'num_leaves': 17, 'feature_fraction': 0.9003786838950234, 'bagging_fraction': 0.511154716938433, 'bagging_freq': 6, 'min_child_samples': 59}. Best is trial 241 with value: 0.33769755881911834.\n",
      "[I 2024-08-22 19:39:52,348] Trial 454 finished with value: 0.29437699223081026 and parameters: {'lambda_l1': 1.3540816930813548, 'lambda_l2': 5.157875674907987e-07, 'num_leaves': 9, 'feature_fraction': 0.6102801509456145, 'bagging_fraction': 0.5425352311269528, 'bagging_freq': 6, 'min_child_samples': 71}. Best is trial 241 with value: 0.33769755881911834.\n",
      "[I 2024-08-22 19:39:54,547] Trial 455 finished with value: 0.3079506038075328 and parameters: {'lambda_l1': 2.594553709512762, 'lambda_l2': 2.917145696846656, 'num_leaves': 28, 'feature_fraction': 0.9375876459801671, 'bagging_fraction': 0.523997194725452, 'bagging_freq': 2, 'min_child_samples': 93}. Best is trial 241 with value: 0.33769755881911834.\n",
      "[I 2024-08-22 19:39:57,198] Trial 456 finished with value: 0.31009886376426044 and parameters: {'lambda_l1': 0.9411663918907357, 'lambda_l2': 0.04199951288107863, 'num_leaves': 49, 'feature_fraction': 0.89144833556436, 'bagging_fraction': 0.49695666209496686, 'bagging_freq': 6, 'min_child_samples': 91}. Best is trial 241 with value: 0.33769755881911834.\n",
      "[I 2024-08-22 19:39:59,236] Trial 457 finished with value: 0.3237056630239509 and parameters: {'lambda_l1': 3.1895919506778827e-06, 'lambda_l2': 0.07609560453577453, 'num_leaves': 22, 'feature_fraction': 0.9746594963869116, 'bagging_fraction': 0.5342856594950998, 'bagging_freq': 6, 'min_child_samples': 95}. Best is trial 241 with value: 0.33769755881911834.\n",
      "[I 2024-08-22 19:40:01,773] Trial 458 finished with value: 0.30316720151584264 and parameters: {'lambda_l1': 1.90337024702932e-05, 'lambda_l2': 0.016228361007255224, 'num_leaves': 40, 'feature_fraction': 0.8812982161610925, 'bagging_fraction': 0.44802329144809444, 'bagging_freq': 6, 'min_child_samples': 89}. Best is trial 241 with value: 0.33769755881911834.\n",
      "[I 2024-08-22 19:40:04,051] Trial 459 finished with value: 0.3058711727600756 and parameters: {'lambda_l1': 3.609494150356971, 'lambda_l2': 3.383465133805715e-07, 'num_leaves': 34, 'feature_fraction': 0.9111295020760014, 'bagging_fraction': 0.507461808111713, 'bagging_freq': 6, 'min_child_samples': 96}. Best is trial 241 with value: 0.33769755881911834.\n",
      "[I 2024-08-22 19:40:06,672] Trial 460 finished with value: 0.30229761169861136 and parameters: {'lambda_l1': 1.8692680734512972, 'lambda_l2': 7.160394761757934e-07, 'num_leaves': 27, 'feature_fraction': 0.9519243920299357, 'bagging_fraction': 0.5503620712412306, 'bagging_freq': 6, 'min_child_samples': 69}. Best is trial 241 with value: 0.33769755881911834.\n",
      "[I 2024-08-22 19:40:08,409] Trial 461 finished with value: 0.30427741517141293 and parameters: {'lambda_l1': 1.5112926218470599e-05, 'lambda_l2': 7.206685081124417e-06, 'num_leaves': 18, 'feature_fraction': 0.8637277982991205, 'bagging_fraction': 0.4755475495327555, 'bagging_freq': 3, 'min_child_samples': 92}. Best is trial 241 with value: 0.33769755881911834.\n",
      "[I 2024-08-22 19:40:09,943] Trial 462 finished with value: 0.31013757084509563 and parameters: {'lambda_l1': 0.0001238013018135961, 'lambda_l2': 5.222926587462016e-05, 'num_leaves': 13, 'feature_fraction': 0.9218141771741838, 'bagging_fraction': 0.5220045193380053, 'bagging_freq': 6, 'min_child_samples': 98}. Best is trial 241 with value: 0.33769755881911834.\n",
      "[I 2024-08-22 19:40:13,464] Trial 463 finished with value: 0.31796913736467025 and parameters: {'lambda_l1': 3.7119476100137045e-05, 'lambda_l2': 1.7713069694673334e-07, 'num_leaves': 176, 'feature_fraction': 0.9008275722343257, 'bagging_fraction': 0.5615345316850265, 'bagging_freq': 6, 'min_child_samples': 94}. Best is trial 241 with value: 0.33769755881911834.\n",
      "[I 2024-08-22 19:40:16,538] Trial 464 finished with value: 0.31373848420715456 and parameters: {'lambda_l1': 9.650708830091027e-06, 'lambda_l2': 0.6180971919634496, 'num_leaves': 43, 'feature_fraction': 0.9355148962978507, 'bagging_fraction': 0.5332395669501191, 'bagging_freq': 6, 'min_child_samples': 89}. Best is trial 241 with value: 0.33769755881911834.\n",
      "[I 2024-08-22 19:40:18,740] Trial 465 finished with value: 0.2977367682064509 and parameters: {'lambda_l1': 0.9442316229950963, 'lambda_l2': 7.930794607196117e-08, 'num_leaves': 24, 'feature_fraction': 0.8524248628684493, 'bagging_fraction': 0.5113490237877204, 'bagging_freq': 6, 'min_child_samples': 84}. Best is trial 241 with value: 0.33769755881911834.\n",
      "[I 2024-08-22 19:40:21,518] Trial 466 finished with value: 0.3188160234841362 and parameters: {'lambda_l1': 1.4199604093509128, 'lambda_l2': 0.02323045303632222, 'num_leaves': 32, 'feature_fraction': 0.8864698910603319, 'bagging_fraction': 0.5729880435945514, 'bagging_freq': 6, 'min_child_samples': 70}. Best is trial 241 with value: 0.33769755881911834.\n",
      "[I 2024-08-22 19:40:24,940] Trial 467 finished with value: 0.32785328497570154 and parameters: {'lambda_l1': 2.678520075122948, 'lambda_l2': 1.1656112704752426e-06, 'num_leaves': 37, 'feature_fraction': 0.9133934149374703, 'bagging_fraction': 0.5411561269600775, 'bagging_freq': 6, 'min_child_samples': 91}. Best is trial 241 with value: 0.33769755881911834.\n",
      "[I 2024-08-22 19:40:27,661] Trial 468 finished with value: 0.30494062918024767 and parameters: {'lambda_l1': 4.525568516681059e-06, 'lambda_l2': 1.1251700832983957e-07, 'num_leaves': 20, 'feature_fraction': 0.9290068992867159, 'bagging_fraction': 0.5212578223614328, 'bagging_freq': 6, 'min_child_samples': 100}. Best is trial 241 with value: 0.33769755881911834.\n",
      "[I 2024-08-22 19:40:31,025] Trial 469 finished with value: 0.32542203313074347 and parameters: {'lambda_l1': 0.007022966059332206, 'lambda_l2': 2.707306848795131e-07, 'num_leaves': 247, 'feature_fraction': 0.9884432164834817, 'bagging_fraction': 0.4978038028251805, 'bagging_freq': 6, 'min_child_samples': 86}. Best is trial 241 with value: 0.33769755881911834.\n",
      "[I 2024-08-22 19:40:33,247] Trial 470 finished with value: 0.31028025886081856 and parameters: {'lambda_l1': 0.0022960090078511302, 'lambda_l2': 4.711228224305004e-07, 'num_leaves': 27, 'feature_fraction': 0.6585109994961272, 'bagging_fraction': 0.5476482212895429, 'bagging_freq': 6, 'min_child_samples': 72}. Best is trial 241 with value: 0.33769755881911834.\n",
      "[I 2024-08-22 19:40:34,876] Trial 471 finished with value: 0.3034022216206582 and parameters: {'lambda_l1': 8.051506859111052e-07, 'lambda_l2': 0.03279553393550812, 'num_leaves': 14, 'feature_fraction': 0.9014154420960854, 'bagging_fraction': 0.5283094030725116, 'bagging_freq': 6, 'min_child_samples': 55}. Best is trial 241 with value: 0.33769755881911834.\n",
      "[I 2024-08-22 19:40:37,094] Trial 472 finished with value: 0.3209435539123454 and parameters: {'lambda_l1': 0.09487148777209142, 'lambda_l2': 1.7953670365153536, 'num_leaves': 32, 'feature_fraction': 0.9598987793119697, 'bagging_fraction': 0.45761126049121653, 'bagging_freq': 6, 'min_child_samples': 96}. Best is trial 241 with value: 0.33769755881911834.\n",
      "[I 2024-08-22 19:40:38,203] Trial 473 finished with value: 0.3052835633940508 and parameters: {'lambda_l1': 5.0578643808452926, 'lambda_l2': 0.013199747582371829, 'num_leaves': 7, 'feature_fraction': 0.8734216555446164, 'bagging_fraction': 0.5105170782298148, 'bagging_freq': 6, 'min_child_samples': 93}. Best is trial 241 with value: 0.33769755881911834.\n",
      "[I 2024-08-22 19:40:41,019] Trial 474 finished with value: 0.3020744732739594 and parameters: {'lambda_l1': 1.93493737795609, 'lambda_l2': 0.11089920527861968, 'num_leaves': 46, 'feature_fraction': 0.9447937548641872, 'bagging_fraction': 0.43233348977637986, 'bagging_freq': 6, 'min_child_samples': 20}. Best is trial 241 with value: 0.33769755881911834.\n",
      "[I 2024-08-22 19:40:43,128] Trial 475 finished with value: 0.3107709343440246 and parameters: {'lambda_l1': 2.6679134883991695e-05, 'lambda_l2': 0.054941722441171195, 'num_leaves': 22, 'feature_fraction': 0.8921008271328453, 'bagging_fraction': 0.4911454102057741, 'bagging_freq': 6, 'min_child_samples': 88}. Best is trial 241 with value: 0.33769755881911834.\n",
      "[I 2024-08-22 19:40:45,397] Trial 476 finished with value: 0.3181713576432783 and parameters: {'lambda_l1': 1.2403745381991599e-05, 'lambda_l2': 1.4565622983518555e-07, 'num_leaves': 28, 'feature_fraction': 0.9160401362884747, 'bagging_fraction': 0.6064853590591492, 'bagging_freq': 6, 'min_child_samples': 94}. Best is trial 241 with value: 0.33769755881911834.\n",
      "[I 2024-08-22 19:40:49,029] Trial 477 finished with value: 0.3174842706536384 and parameters: {'lambda_l1': 2.2044182947213637e-07, 'lambda_l2': 4.032965444637373e-07, 'num_leaves': 40, 'feature_fraction': 0.9060266653697323, 'bagging_fraction': 0.536839411550413, 'bagging_freq': 6, 'min_child_samples': 97}. Best is trial 241 with value: 0.33769755881911834.\n",
      "[I 2024-08-22 19:40:51,287] Trial 478 finished with value: 0.30811162129774394 and parameters: {'lambda_l1': 7.847027274285506e-06, 'lambda_l2': 0.018590341170198713, 'num_leaves': 17, 'feature_fraction': 0.882015480887313, 'bagging_fraction': 0.8611212059525803, 'bagging_freq': 6, 'min_child_samples': 91}. Best is trial 241 with value: 0.33769755881911834.\n",
      "[I 2024-08-22 19:40:54,385] Trial 479 finished with value: 0.30004147175648144 and parameters: {'lambda_l1': 1.85617304386007e-06, 'lambda_l2': 0.008008913771445036, 'num_leaves': 86, 'feature_fraction': 0.9265370411603508, 'bagging_fraction': 0.5234426413382408, 'bagging_freq': 5, 'min_child_samples': 90}. Best is trial 241 with value: 0.33769755881911834.\n",
      "[I 2024-08-22 19:40:56,935] Trial 480 finished with value: 0.3106121265622215 and parameters: {'lambda_l1': 1.2891641058384264, 'lambda_l2': 7.87776661921977e-07, 'num_leaves': 35, 'feature_fraction': 0.975892697921189, 'bagging_fraction': 0.5556405981914466, 'bagging_freq': 6, 'min_child_samples': 72}. Best is trial 241 with value: 0.33769755881911834.\n",
      "[I 2024-08-22 19:40:59,145] Trial 481 finished with value: 0.3107412885774732 and parameters: {'lambda_l1': 0.7737142813549405, 'lambda_l2': 0.31796651212114213, 'num_leaves': 24, 'feature_fraction': 0.8682115519438324, 'bagging_fraction': 0.511237194168408, 'bagging_freq': 6, 'min_child_samples': 93}. Best is trial 241 with value: 0.33769755881911834.\n",
      "[I 2024-08-22 19:41:00,713] Trial 482 finished with value: 0.30902783940207146 and parameters: {'lambda_l1': 7.614491699129409e-05, 'lambda_l2': 2.437305843222335e-07, 'num_leaves': 13, 'feature_fraction': 0.8972237930739773, 'bagging_fraction': 0.5316298490249721, 'bagging_freq': 6, 'min_child_samples': 63}. Best is trial 241 with value: 0.33769755881911834.\n",
      "[I 2024-08-22 19:41:02,760] Trial 483 finished with value: 0.3198729878457591 and parameters: {'lambda_l1': 3.449394555331002, 'lambda_l2': 4.504233489149382, 'num_leaves': 31, 'feature_fraction': 0.9098134621779081, 'bagging_fraction': 0.5454819968706599, 'bagging_freq': 6, 'min_child_samples': 95}. Best is trial 241 with value: 0.33769755881911834.\n",
      "[I 2024-08-22 19:41:03,555] Trial 484 finished with value: 0.2561325643498541 and parameters: {'lambda_l1': 2.0234264833507263, 'lambda_l2': 1.2472044922076657, 'num_leaves': 2, 'feature_fraction': 0.9452549156287343, 'bagging_fraction': 0.500910172958458, 'bagging_freq': 6, 'min_child_samples': 77}. Best is trial 241 with value: 0.33769755881911834.\n",
      "[I 2024-08-22 19:41:05,332] Trial 485 finished with value: 0.29488964713316346 and parameters: {'lambda_l1': 0.00022896944004377657, 'lambda_l2': 0.18718082060541288, 'num_leaves': 20, 'feature_fraction': 0.8870466642418592, 'bagging_fraction': 0.7223395305634882, 'bagging_freq': 7, 'min_child_samples': 69}. Best is trial 241 with value: 0.33769755881911834.\n",
      "[I 2024-08-22 19:41:08,297] Trial 486 finished with value: 0.30011466583714574 and parameters: {'lambda_l1': 2.0400852177708175e-05, 'lambda_l2': 0.004754244254654584, 'num_leaves': 49, 'feature_fraction': 0.959077908379949, 'bagging_fraction': 0.48420865180158396, 'bagging_freq': 5, 'min_child_samples': 87}. Best is trial 241 with value: 0.33769755881911834.\n",
      "[I 2024-08-22 19:41:10,407] Trial 487 finished with value: 0.31697584221602093 and parameters: {'lambda_l1': 5.055602365277228e-05, 'lambda_l2': 0.0001290129678455298, 'num_leaves': 28, 'feature_fraction': 0.933805723619802, 'bagging_fraction': 0.5178775076617774, 'bagging_freq': 6, 'min_child_samples': 99}. Best is trial 241 with value: 0.33769755881911834.\n",
      "[I 2024-08-22 19:41:12,818] Trial 488 finished with value: 0.3218008245415257 and parameters: {'lambda_l1': 1.4727783894392175, 'lambda_l2': 0.04343406619183428, 'num_leaves': 38, 'feature_fraction': 0.9188093859760798, 'bagging_fraction': 0.5643755677916953, 'bagging_freq': 6, 'min_child_samples': 92}. Best is trial 241 with value: 0.33769755881911834.\n",
      "[I 2024-08-22 19:41:15,919] Trial 489 finished with value: 0.3093803759239919 and parameters: {'lambda_l1': 6.392993754484803e-06, 'lambda_l2': 0.028314476942696225, 'num_leaves': 239, 'feature_fraction': 0.8923951791720659, 'bagging_fraction': 0.5327682991783799, 'bagging_freq': 4, 'min_child_samples': 96}. Best is trial 241 with value: 0.33769755881911834.\n",
      "[I 2024-08-22 19:41:18,027] Trial 490 finished with value: 0.3211418013271943 and parameters: {'lambda_l1': 3.2202506103415915, 'lambda_l2': 1.7478192520924454e-07, 'num_leaves': 43, 'feature_fraction': 0.9064806221139073, 'bagging_fraction': 0.44894467092527685, 'bagging_freq': 1, 'min_child_samples': 89}. Best is trial 241 with value: 0.33769755881911834.\n",
      "[I 2024-08-22 19:41:20,817] Trial 491 finished with value: 0.3139592353249603 and parameters: {'lambda_l1': 0.8605609268277802, 'lambda_l2': 3.0300986756305806e-07, 'num_leaves': 218, 'feature_fraction': 0.999655656823786, 'bagging_fraction': 0.4642283313515965, 'bagging_freq': 6, 'min_child_samples': 73}. Best is trial 241 with value: 0.33769755881911834.\n",
      "[I 2024-08-22 19:41:22,259] Trial 492 finished with value: 0.31722036170768764 and parameters: {'lambda_l1': 0.00013680163920198697, 'lambda_l2': 0.07800885453514896, 'num_leaves': 10, 'feature_fraction': 0.9685689686975473, 'bagging_fraction': 0.5840013415084877, 'bagging_freq': 7, 'min_child_samples': 34}. Best is trial 241 with value: 0.33769755881911834.\n",
      "[I 2024-08-22 19:41:24,073] Trial 493 finished with value: 0.3200499975303961 and parameters: {'lambda_l1': 4.939916401123824, 'lambda_l2': 8.339473096731372e-08, 'num_leaves': 23, 'feature_fraction': 0.8781966255812933, 'bagging_fraction': 0.548672811054166, 'bagging_freq': 6, 'min_child_samples': 94}. Best is trial 241 with value: 0.33769755881911834.\n",
      "[I 2024-08-22 19:41:26,461] Trial 494 finished with value: 0.310744913321356 and parameters: {'lambda_l1': 3.101703748406743e-05, 'lambda_l2': 7.25445038614838e-07, 'num_leaves': 32, 'feature_fraction': 0.9235339453975023, 'bagging_fraction': 0.5207471032824077, 'bagging_freq': 6, 'min_child_samples': 91}. Best is trial 241 with value: 0.33769755881911834.\n",
      "[I 2024-08-22 19:41:28,689] Trial 495 finished with value: 0.3080375417237341 and parameters: {'lambda_l1': 2.036920412693942, 'lambda_l2': 0.011037894393456796, 'num_leaves': 16, 'feature_fraction': 0.939285911649013, 'bagging_fraction': 0.5028505436436782, 'bagging_freq': 6, 'min_child_samples': 53}. Best is trial 241 with value: 0.33769755881911834.\n",
      "[I 2024-08-22 19:41:31,539] Trial 496 finished with value: 0.3007381963711556 and parameters: {'lambda_l1': 0.16599634297770396, 'lambda_l2': 0.5500595560603991, 'num_leaves': 27, 'feature_fraction': 0.5936372077232268, 'bagging_fraction': 0.5398338880506505, 'bagging_freq': 6, 'min_child_samples': 75}. Best is trial 241 with value: 0.33769755881911834.\n",
      "[I 2024-08-22 19:41:33,961] Trial 497 finished with value: 0.3122914234088954 and parameters: {'lambda_l1': 2.904856023778791e-06, 'lambda_l2': 4.1453131504464705e-07, 'num_leaves': 36, 'feature_fraction': 0.8615614111656941, 'bagging_fraction': 0.4228757643108585, 'bagging_freq': 7, 'min_child_samples': 67}. Best is trial 241 with value: 0.33769755881911834.\n",
      "[I 2024-08-22 19:41:35,942] Trial 498 finished with value: 0.3197380272430407 and parameters: {'lambda_l1': 1.1182539103512885, 'lambda_l2': 0.019415434825580318, 'num_leaves': 20, 'feature_fraction': 0.9004448798380588, 'bagging_fraction': 0.5138528506059373, 'bagging_freq': 6, 'min_child_samples': 97}. Best is trial 241 with value: 0.33769755881911834.\n",
      "[I 2024-08-22 19:41:38,692] Trial 499 finished with value: 0.32157265065811547 and parameters: {'lambda_l1': 1.2248149042128896e-05, 'lambda_l2': 1.2656899092071662e-07, 'num_leaves': 31, 'feature_fraction': 0.9791891813975849, 'bagging_fraction': 0.5293421286411227, 'bagging_freq': 6, 'min_child_samples': 80}. Best is trial 241 with value: 0.33769755881911834.\n"
     ]
    }
   ],
   "source": [
    "#Defino el estudio a optimizar\n",
    "study = optuna.create_study(direction='maximize', #buscamos maximizar la metrica\n",
    "                            storage=\"sqlite:///../work/db.sqlite3\",  # Specify the storage URL here.\n",
    "                            study_name=\"04 - LGB Multiclass\", #nombre del experimento\n",
    "                            load_if_exists=True) #continuar si ya existe\n",
    "\n",
    "#Corremos 100 trials para buscar mejores parametros\n",
    "study.optimize(lgb_objective, n_trials=100)"
   ]
  },
  {
   "cell_type": "code",
   "execution_count": 31,
   "metadata": {},
   "outputs": [
    {
     "data": {
      "text/plain": [
       "{'lambda_l1': 1.310525077276578,\n",
       " 'lambda_l2': 1.6977622299137084e-07,\n",
       " 'num_leaves': 40,\n",
       " 'feature_fraction': 0.8974523915259183,\n",
       " 'bagging_fraction': 0.523553173342081,\n",
       " 'bagging_freq': 6,\n",
       " 'min_child_samples': 74}"
      ]
     },
     "execution_count": 31,
     "metadata": {},
     "output_type": "execute_result"
    }
   ],
   "source": [
    "#Obtenemos mejor resultado\n",
    "study.best_params"
   ]
  },
  {
   "cell_type": "code",
   "execution_count": 32,
   "metadata": {},
   "outputs": [
    {
     "data": {
      "application/vnd.plotly.v1+json": {
       "config": {
        "plotlyServerURL": "https://plot.ly"
       },
       "data": [
        {
         "type": "heatmap",
         "x": [
          0,
          1,
          2,
          3,
          4
         ],
         "y": [
          0,
          1,
          2,
          3,
          4
         ],
         "z": [
          [
           6.097560975609756,
           37.80487804878049,
           25.609756097560975,
           7.317073170731707,
           23.170731707317074
          ],
          [
           0.6472491909385114,
           33.33333333333333,
           36.24595469255664,
           9.70873786407767,
           20.06472491909385
          ],
          [
           0.37174721189591076,
           25.154894671623296,
           34.696406443618336,
           14.49814126394052,
           25.27881040892193
          ],
          [
           0.15337423312883436,
           17.791411042944784,
           33.58895705521473,
           19.32515337423313,
           29.141104294478527
          ],
          [
           0.11904761904761905,
           11.30952380952381,
           18.928571428571427,
           10.119047619047619,
           59.523809523809526
          ]
         ]
        }
       ],
       "layout": {
        "annotations": [
         {
          "font": {
           "color": "white"
          },
          "showarrow": false,
          "text": "6.1 - 5",
          "x": 0,
          "xref": "x",
          "y": 0,
          "yref": "y"
         },
         {
          "font": {
           "color": "white"
          },
          "showarrow": false,
          "text": "37.8 - 31",
          "x": 1,
          "xref": "x",
          "y": 0,
          "yref": "y"
         },
         {
          "font": {
           "color": "white"
          },
          "showarrow": false,
          "text": "25.6 - 21",
          "x": 2,
          "xref": "x",
          "y": 0,
          "yref": "y"
         },
         {
          "font": {
           "color": "white"
          },
          "showarrow": false,
          "text": "7.3 - 6",
          "x": 3,
          "xref": "x",
          "y": 0,
          "yref": "y"
         },
         {
          "font": {
           "color": "white"
          },
          "showarrow": false,
          "text": "23.2 - 19",
          "x": 4,
          "xref": "x",
          "y": 0,
          "yref": "y"
         },
         {
          "font": {
           "color": "white"
          },
          "showarrow": false,
          "text": "0.6 - 4",
          "x": 0,
          "xref": "x",
          "y": 1,
          "yref": "y"
         },
         {
          "font": {
           "color": "white"
          },
          "showarrow": false,
          "text": "33.3 - 206",
          "x": 1,
          "xref": "x",
          "y": 1,
          "yref": "y"
         },
         {
          "font": {
           "color": "white"
          },
          "showarrow": false,
          "text": "36.2 - 224",
          "x": 2,
          "xref": "x",
          "y": 1,
          "yref": "y"
         },
         {
          "font": {
           "color": "white"
          },
          "showarrow": false,
          "text": "9.7 - 60",
          "x": 3,
          "xref": "x",
          "y": 1,
          "yref": "y"
         },
         {
          "font": {
           "color": "white"
          },
          "showarrow": false,
          "text": "20.1 - 124",
          "x": 4,
          "xref": "x",
          "y": 1,
          "yref": "y"
         },
         {
          "font": {
           "color": "white"
          },
          "showarrow": false,
          "text": "0.4 - 3",
          "x": 0,
          "xref": "x",
          "y": 2,
          "yref": "y"
         },
         {
          "font": {
           "color": "white"
          },
          "showarrow": false,
          "text": "25.2 - 203",
          "x": 1,
          "xref": "x",
          "y": 2,
          "yref": "y"
         },
         {
          "font": {
           "color": "white"
          },
          "showarrow": false,
          "text": "34.7 - 280",
          "x": 2,
          "xref": "x",
          "y": 2,
          "yref": "y"
         },
         {
          "font": {
           "color": "white"
          },
          "showarrow": false,
          "text": "14.5 - 117",
          "x": 3,
          "xref": "x",
          "y": 2,
          "yref": "y"
         },
         {
          "font": {
           "color": "white"
          },
          "showarrow": false,
          "text": "25.3 - 204",
          "x": 4,
          "xref": "x",
          "y": 2,
          "yref": "y"
         },
         {
          "font": {
           "color": "white"
          },
          "showarrow": false,
          "text": "0.2 - 1",
          "x": 0,
          "xref": "x",
          "y": 3,
          "yref": "y"
         },
         {
          "font": {
           "color": "white"
          },
          "showarrow": false,
          "text": "17.8 - 116",
          "x": 1,
          "xref": "x",
          "y": 3,
          "yref": "y"
         },
         {
          "font": {
           "color": "white"
          },
          "showarrow": false,
          "text": "33.6 - 219",
          "x": 2,
          "xref": "x",
          "y": 3,
          "yref": "y"
         },
         {
          "font": {
           "color": "white"
          },
          "showarrow": false,
          "text": "19.3 - 126",
          "x": 3,
          "xref": "x",
          "y": 3,
          "yref": "y"
         },
         {
          "font": {
           "color": "white"
          },
          "showarrow": false,
          "text": "29.1 - 190",
          "x": 4,
          "xref": "x",
          "y": 3,
          "yref": "y"
         },
         {
          "font": {
           "color": "white"
          },
          "showarrow": false,
          "text": "0.1 - 1",
          "x": 0,
          "xref": "x",
          "y": 4,
          "yref": "y"
         },
         {
          "font": {
           "color": "white"
          },
          "showarrow": false,
          "text": "11.3 - 95",
          "x": 1,
          "xref": "x",
          "y": 4,
          "yref": "y"
         },
         {
          "font": {
           "color": "white"
          },
          "showarrow": false,
          "text": "18.9 - 159",
          "x": 2,
          "xref": "x",
          "y": 4,
          "yref": "y"
         },
         {
          "font": {
           "color": "white"
          },
          "showarrow": false,
          "text": "10.1 - 85",
          "x": 3,
          "xref": "x",
          "y": 4,
          "yref": "y"
         },
         {
          "font": {
           "color": "white"
          },
          "showarrow": false,
          "text": "59.5 - 500",
          "x": 4,
          "xref": "x",
          "y": 4,
          "yref": "y"
         }
        ],
        "height": 800,
        "template": {
         "data": {
          "bar": [
           {
            "error_x": {
             "color": "#2a3f5f"
            },
            "error_y": {
             "color": "#2a3f5f"
            },
            "marker": {
             "line": {
              "color": "#E5ECF6",
              "width": 0.5
             },
             "pattern": {
              "fillmode": "overlay",
              "size": 10,
              "solidity": 0.2
             }
            },
            "type": "bar"
           }
          ],
          "barpolar": [
           {
            "marker": {
             "line": {
              "color": "#E5ECF6",
              "width": 0.5
             },
             "pattern": {
              "fillmode": "overlay",
              "size": 10,
              "solidity": 0.2
             }
            },
            "type": "barpolar"
           }
          ],
          "carpet": [
           {
            "aaxis": {
             "endlinecolor": "#2a3f5f",
             "gridcolor": "white",
             "linecolor": "white",
             "minorgridcolor": "white",
             "startlinecolor": "#2a3f5f"
            },
            "baxis": {
             "endlinecolor": "#2a3f5f",
             "gridcolor": "white",
             "linecolor": "white",
             "minorgridcolor": "white",
             "startlinecolor": "#2a3f5f"
            },
            "type": "carpet"
           }
          ],
          "choropleth": [
           {
            "colorbar": {
             "outlinewidth": 0,
             "ticks": ""
            },
            "type": "choropleth"
           }
          ],
          "contour": [
           {
            "colorbar": {
             "outlinewidth": 0,
             "ticks": ""
            },
            "colorscale": [
             [
              0,
              "#0d0887"
             ],
             [
              0.1111111111111111,
              "#46039f"
             ],
             [
              0.2222222222222222,
              "#7201a8"
             ],
             [
              0.3333333333333333,
              "#9c179e"
             ],
             [
              0.4444444444444444,
              "#bd3786"
             ],
             [
              0.5555555555555556,
              "#d8576b"
             ],
             [
              0.6666666666666666,
              "#ed7953"
             ],
             [
              0.7777777777777778,
              "#fb9f3a"
             ],
             [
              0.8888888888888888,
              "#fdca26"
             ],
             [
              1,
              "#f0f921"
             ]
            ],
            "type": "contour"
           }
          ],
          "contourcarpet": [
           {
            "colorbar": {
             "outlinewidth": 0,
             "ticks": ""
            },
            "type": "contourcarpet"
           }
          ],
          "heatmap": [
           {
            "colorbar": {
             "outlinewidth": 0,
             "ticks": ""
            },
            "colorscale": [
             [
              0,
              "#0d0887"
             ],
             [
              0.1111111111111111,
              "#46039f"
             ],
             [
              0.2222222222222222,
              "#7201a8"
             ],
             [
              0.3333333333333333,
              "#9c179e"
             ],
             [
              0.4444444444444444,
              "#bd3786"
             ],
             [
              0.5555555555555556,
              "#d8576b"
             ],
             [
              0.6666666666666666,
              "#ed7953"
             ],
             [
              0.7777777777777778,
              "#fb9f3a"
             ],
             [
              0.8888888888888888,
              "#fdca26"
             ],
             [
              1,
              "#f0f921"
             ]
            ],
            "type": "heatmap"
           }
          ],
          "heatmapgl": [
           {
            "colorbar": {
             "outlinewidth": 0,
             "ticks": ""
            },
            "colorscale": [
             [
              0,
              "#0d0887"
             ],
             [
              0.1111111111111111,
              "#46039f"
             ],
             [
              0.2222222222222222,
              "#7201a8"
             ],
             [
              0.3333333333333333,
              "#9c179e"
             ],
             [
              0.4444444444444444,
              "#bd3786"
             ],
             [
              0.5555555555555556,
              "#d8576b"
             ],
             [
              0.6666666666666666,
              "#ed7953"
             ],
             [
              0.7777777777777778,
              "#fb9f3a"
             ],
             [
              0.8888888888888888,
              "#fdca26"
             ],
             [
              1,
              "#f0f921"
             ]
            ],
            "type": "heatmapgl"
           }
          ],
          "histogram": [
           {
            "marker": {
             "pattern": {
              "fillmode": "overlay",
              "size": 10,
              "solidity": 0.2
             }
            },
            "type": "histogram"
           }
          ],
          "histogram2d": [
           {
            "colorbar": {
             "outlinewidth": 0,
             "ticks": ""
            },
            "colorscale": [
             [
              0,
              "#0d0887"
             ],
             [
              0.1111111111111111,
              "#46039f"
             ],
             [
              0.2222222222222222,
              "#7201a8"
             ],
             [
              0.3333333333333333,
              "#9c179e"
             ],
             [
              0.4444444444444444,
              "#bd3786"
             ],
             [
              0.5555555555555556,
              "#d8576b"
             ],
             [
              0.6666666666666666,
              "#ed7953"
             ],
             [
              0.7777777777777778,
              "#fb9f3a"
             ],
             [
              0.8888888888888888,
              "#fdca26"
             ],
             [
              1,
              "#f0f921"
             ]
            ],
            "type": "histogram2d"
           }
          ],
          "histogram2dcontour": [
           {
            "colorbar": {
             "outlinewidth": 0,
             "ticks": ""
            },
            "colorscale": [
             [
              0,
              "#0d0887"
             ],
             [
              0.1111111111111111,
              "#46039f"
             ],
             [
              0.2222222222222222,
              "#7201a8"
             ],
             [
              0.3333333333333333,
              "#9c179e"
             ],
             [
              0.4444444444444444,
              "#bd3786"
             ],
             [
              0.5555555555555556,
              "#d8576b"
             ],
             [
              0.6666666666666666,
              "#ed7953"
             ],
             [
              0.7777777777777778,
              "#fb9f3a"
             ],
             [
              0.8888888888888888,
              "#fdca26"
             ],
             [
              1,
              "#f0f921"
             ]
            ],
            "type": "histogram2dcontour"
           }
          ],
          "mesh3d": [
           {
            "colorbar": {
             "outlinewidth": 0,
             "ticks": ""
            },
            "type": "mesh3d"
           }
          ],
          "parcoords": [
           {
            "line": {
             "colorbar": {
              "outlinewidth": 0,
              "ticks": ""
             }
            },
            "type": "parcoords"
           }
          ],
          "pie": [
           {
            "automargin": true,
            "type": "pie"
           }
          ],
          "scatter": [
           {
            "fillpattern": {
             "fillmode": "overlay",
             "size": 10,
             "solidity": 0.2
            },
            "type": "scatter"
           }
          ],
          "scatter3d": [
           {
            "line": {
             "colorbar": {
              "outlinewidth": 0,
              "ticks": ""
             }
            },
            "marker": {
             "colorbar": {
              "outlinewidth": 0,
              "ticks": ""
             }
            },
            "type": "scatter3d"
           }
          ],
          "scattercarpet": [
           {
            "marker": {
             "colorbar": {
              "outlinewidth": 0,
              "ticks": ""
             }
            },
            "type": "scattercarpet"
           }
          ],
          "scattergeo": [
           {
            "marker": {
             "colorbar": {
              "outlinewidth": 0,
              "ticks": ""
             }
            },
            "type": "scattergeo"
           }
          ],
          "scattergl": [
           {
            "marker": {
             "colorbar": {
              "outlinewidth": 0,
              "ticks": ""
             }
            },
            "type": "scattergl"
           }
          ],
          "scattermapbox": [
           {
            "marker": {
             "colorbar": {
              "outlinewidth": 0,
              "ticks": ""
             }
            },
            "type": "scattermapbox"
           }
          ],
          "scatterpolar": [
           {
            "marker": {
             "colorbar": {
              "outlinewidth": 0,
              "ticks": ""
             }
            },
            "type": "scatterpolar"
           }
          ],
          "scatterpolargl": [
           {
            "marker": {
             "colorbar": {
              "outlinewidth": 0,
              "ticks": ""
             }
            },
            "type": "scatterpolargl"
           }
          ],
          "scatterternary": [
           {
            "marker": {
             "colorbar": {
              "outlinewidth": 0,
              "ticks": ""
             }
            },
            "type": "scatterternary"
           }
          ],
          "surface": [
           {
            "colorbar": {
             "outlinewidth": 0,
             "ticks": ""
            },
            "colorscale": [
             [
              0,
              "#0d0887"
             ],
             [
              0.1111111111111111,
              "#46039f"
             ],
             [
              0.2222222222222222,
              "#7201a8"
             ],
             [
              0.3333333333333333,
              "#9c179e"
             ],
             [
              0.4444444444444444,
              "#bd3786"
             ],
             [
              0.5555555555555556,
              "#d8576b"
             ],
             [
              0.6666666666666666,
              "#ed7953"
             ],
             [
              0.7777777777777778,
              "#fb9f3a"
             ],
             [
              0.8888888888888888,
              "#fdca26"
             ],
             [
              1,
              "#f0f921"
             ]
            ],
            "type": "surface"
           }
          ],
          "table": [
           {
            "cells": {
             "fill": {
              "color": "#EBF0F8"
             },
             "line": {
              "color": "white"
             }
            },
            "header": {
             "fill": {
              "color": "#C8D4E3"
             },
             "line": {
              "color": "white"
             }
            },
            "type": "table"
           }
          ]
         },
         "layout": {
          "annotationdefaults": {
           "arrowcolor": "#2a3f5f",
           "arrowhead": 0,
           "arrowwidth": 1
          },
          "autotypenumbers": "strict",
          "coloraxis": {
           "colorbar": {
            "outlinewidth": 0,
            "ticks": ""
           }
          },
          "colorscale": {
           "diverging": [
            [
             0,
             "#8e0152"
            ],
            [
             0.1,
             "#c51b7d"
            ],
            [
             0.2,
             "#de77ae"
            ],
            [
             0.3,
             "#f1b6da"
            ],
            [
             0.4,
             "#fde0ef"
            ],
            [
             0.5,
             "#f7f7f7"
            ],
            [
             0.6,
             "#e6f5d0"
            ],
            [
             0.7,
             "#b8e186"
            ],
            [
             0.8,
             "#7fbc41"
            ],
            [
             0.9,
             "#4d9221"
            ],
            [
             1,
             "#276419"
            ]
           ],
           "sequential": [
            [
             0,
             "#0d0887"
            ],
            [
             0.1111111111111111,
             "#46039f"
            ],
            [
             0.2222222222222222,
             "#7201a8"
            ],
            [
             0.3333333333333333,
             "#9c179e"
            ],
            [
             0.4444444444444444,
             "#bd3786"
            ],
            [
             0.5555555555555556,
             "#d8576b"
            ],
            [
             0.6666666666666666,
             "#ed7953"
            ],
            [
             0.7777777777777778,
             "#fb9f3a"
            ],
            [
             0.8888888888888888,
             "#fdca26"
            ],
            [
             1,
             "#f0f921"
            ]
           ],
           "sequentialminus": [
            [
             0,
             "#0d0887"
            ],
            [
             0.1111111111111111,
             "#46039f"
            ],
            [
             0.2222222222222222,
             "#7201a8"
            ],
            [
             0.3333333333333333,
             "#9c179e"
            ],
            [
             0.4444444444444444,
             "#bd3786"
            ],
            [
             0.5555555555555556,
             "#d8576b"
            ],
            [
             0.6666666666666666,
             "#ed7953"
            ],
            [
             0.7777777777777778,
             "#fb9f3a"
            ],
            [
             0.8888888888888888,
             "#fdca26"
            ],
            [
             1,
             "#f0f921"
            ]
           ]
          },
          "colorway": [
           "#636efa",
           "#EF553B",
           "#00cc96",
           "#ab63fa",
           "#FFA15A",
           "#19d3f3",
           "#FF6692",
           "#B6E880",
           "#FF97FF",
           "#FECB52"
          ],
          "font": {
           "color": "#2a3f5f"
          },
          "geo": {
           "bgcolor": "white",
           "lakecolor": "white",
           "landcolor": "#E5ECF6",
           "showlakes": true,
           "showland": true,
           "subunitcolor": "white"
          },
          "hoverlabel": {
           "align": "left"
          },
          "hovermode": "closest",
          "mapbox": {
           "style": "light"
          },
          "paper_bgcolor": "white",
          "plot_bgcolor": "#E5ECF6",
          "polar": {
           "angularaxis": {
            "gridcolor": "white",
            "linecolor": "white",
            "ticks": ""
           },
           "bgcolor": "#E5ECF6",
           "radialaxis": {
            "gridcolor": "white",
            "linecolor": "white",
            "ticks": ""
           }
          },
          "scene": {
           "xaxis": {
            "backgroundcolor": "#E5ECF6",
            "gridcolor": "white",
            "gridwidth": 2,
            "linecolor": "white",
            "showbackground": true,
            "ticks": "",
            "zerolinecolor": "white"
           },
           "yaxis": {
            "backgroundcolor": "#E5ECF6",
            "gridcolor": "white",
            "gridwidth": 2,
            "linecolor": "white",
            "showbackground": true,
            "ticks": "",
            "zerolinecolor": "white"
           },
           "zaxis": {
            "backgroundcolor": "#E5ECF6",
            "gridcolor": "white",
            "gridwidth": 2,
            "linecolor": "white",
            "showbackground": true,
            "ticks": "",
            "zerolinecolor": "white"
           }
          },
          "shapedefaults": {
           "line": {
            "color": "#2a3f5f"
           }
          },
          "ternary": {
           "aaxis": {
            "gridcolor": "white",
            "linecolor": "white",
            "ticks": ""
           },
           "baxis": {
            "gridcolor": "white",
            "linecolor": "white",
            "ticks": ""
           },
           "bgcolor": "#E5ECF6",
           "caxis": {
            "gridcolor": "white",
            "linecolor": "white",
            "ticks": ""
           }
          },
          "title": {
           "x": 0.05
          },
          "xaxis": {
           "automargin": true,
           "gridcolor": "white",
           "linecolor": "white",
           "ticks": "",
           "title": {
            "standoff": 15
           },
           "zerolinecolor": "white",
           "zerolinewidth": 2
          },
          "yaxis": {
           "automargin": true,
           "gridcolor": "white",
           "linecolor": "white",
           "ticks": "",
           "title": {
            "standoff": 15
           },
           "zerolinecolor": "white",
           "zerolinewidth": 2
          }
         }
        },
        "title": {
         "text": "Conf Matrix"
        },
        "width": 800,
        "xaxis": {
         "title": {
          "text": "Predicted value"
         }
        },
        "yaxis": {
         "title": {
          "text": "Real value"
         }
        }
       }
      }
     },
     "metadata": {},
     "output_type": "display_data"
    },
    {
     "data": {
      "text/plain": [
       "np.float64(0.32051092338594867)"
      ]
     },
     "execution_count": 32,
     "metadata": {},
     "output_type": "execute_result"
    }
   ],
   "source": [
    "#Vamos a replicar el resultado de la optimizacion reentrenando el modelo con el mejor conjunto de hiperparametros\n",
    "#Generamos parametros incluyendo los fijos y la mejor solución que encontro optuna\n",
    "lgb_params =  {      \n",
    "                        'objective': 'multiclass',\n",
    "                        'verbosity':-1,\n",
    "                        'num_class': len(y_train.unique())} | study.best_params\n",
    "\n",
    "lgb_train_dataset = lgb.Dataset(data=X_train,\n",
    "                                label=y_train)\n",
    "\n",
    "\n",
    "#Entreno\n",
    "lgb_model = lgb.train(lgb_params,\n",
    "                    lgb_train_dataset)\n",
    "\n",
    "#Muestro matriz de confusion y kappa\n",
    "display(plot_confusion_matrix(y_test,lgb_model.predict(X_test).argmax(axis=1)))\n",
    "\n",
    "cohen_kappa_score(y_test,lgb_model.predict(X_test).argmax(axis=1),\n",
    "                             weights = 'quadratic')\n"
   ]
  },
  {
   "cell_type": "markdown",
   "metadata": {},
   "source": [
    "## Modelo con cross validation y conjunto de test"
   ]
  },
  {
   "cell_type": "code",
   "execution_count": 33,
   "metadata": {},
   "outputs": [],
   "source": [
    "#Genero una metrica para que lightGBM haga la evaluación y pueda hacer early_stopping en el cross validation\n",
    "def lgb_custom_metric_kappa(dy_pred, dy_true):\n",
    "    metric_name = 'kappa'\n",
    "    value = cohen_kappa_score(dy_true.get_label(),dy_pred.argmax(axis=1),weights = 'quadratic')\n",
    "    is_higher_better = True\n",
    "    return(metric_name, value, is_higher_better)\n",
    "\n",
    "#Funcion objetivo a optimizar. En este caso vamos a hacer 5fold cv sobre el conjunto de train. \n",
    "# El score de CV es el objetivo a optimizar. Ademas vamos a usar los 5 modelos del CV para estimar el conjunto de test,\n",
    "# registraremos en optuna las predicciones, matriz de confusion y el score en test.\n",
    "# CV Score -> Se usa para determinar el rendimiento de los hiperparametros con precision \n",
    "# Test Score -> Nos permite testear que esta todo OK, no use (ni debo usar) esos datos para nada en el entrenamiento \n",
    "# o la optimizacion de hiperparametros\n",
    "\n",
    "def cv_es_lgb_objective(trial):\n",
    "\n",
    "    #PArametros para LightGBM\n",
    "    lgb_params = {      \n",
    "                        #PArametros fijos\n",
    "                        'objective': 'multiclass',\n",
    "                        'verbosity':-1,\n",
    "                        'num_class': len(y_train.unique()),\n",
    "                        #Hiperparametros a optimizar utilizando suggest_float o suggest_int segun el tipo de dato\n",
    "                        #Se indica el nombre del parametro, valor minimo, valor maximo \n",
    "                        #en elgunos casos el parametro log=True para parametros que requieren buscar en esa escala\n",
    "                        'lambda_l1': trial.suggest_float('lambda_l1', 1e-8, 10.0, log=True),\n",
    "                        'lambda_l2': trial.suggest_float('lambda_l2', 1e-8, 10.0, log=True),\n",
    "                        'num_leaves': trial.suggest_int('num_leaves', 2, 256),\n",
    "                        'feature_fraction': trial.suggest_float('feature_fraction', 0.4, 1.0),\n",
    "                        'bagging_fraction': trial.suggest_float('bagging_fraction', 0.4, 1.0),\n",
    "                        'bagging_freq': trial.suggest_int('bagging_freq', 1, 7),\n",
    "                        'min_child_samples': trial.suggest_int('min_child_samples', 5, 100),\n",
    "                        } \n",
    "\n",
    "    #Voy a generar estimaciones de los 5 modelos del CV sobre los datos test y los acumulo en la matriz scores_ensemble\n",
    "    scores_ensemble = np.zeros((len(y_test),len(y_train.unique())))\n",
    "\n",
    "    #Score del 5 fold CV inicializado en 0\n",
    "    score_folds = 0\n",
    "\n",
    "    #Numero de splits del CV\n",
    "    n_splits = 5\n",
    "\n",
    "    #Objeto para hacer el split estratificado de CV\n",
    "    skf = StratifiedKFold(n_splits=n_splits)\n",
    "\n",
    "    for i, (if_index, oof_index) in enumerate(skf.split(X_train, y_train)):\n",
    "        \n",
    "        #Dataset in fold (donde entreno) \n",
    "        lgb_if_dataset = lgb.Dataset(data=X_train.iloc[if_index],\n",
    "                                        label=y_train.iloc[if_index],\n",
    "                                        free_raw_data=False)\n",
    "        \n",
    "        #Dataset Out of fold (donde mido la performance del CV)\n",
    "        lgb_oof_dataset = lgb.Dataset(data=X_train.iloc[oof_index],\n",
    "                                        label=y_train.iloc[oof_index],\n",
    "                                        free_raw_data=False)\n",
    "\n",
    "        #Entreno el modelo\n",
    "        lgb_model = lgb.train(lgb_params,\n",
    "                                lgb_if_dataset,\n",
    "                                valid_sets=lgb_oof_dataset,\n",
    "                                callbacks=[lgb.early_stopping(10, verbose=False)],\n",
    "                                feval = lgb_custom_metric_kappa\n",
    "                                )\n",
    "        \n",
    "        #Acumulo los scores (probabilidades) de cada clase para cada uno de los modelos que determino en los folds\n",
    "        #Se predice el 20% de los datos que separe para tes y no uso para entrenar en ningun fold\n",
    "        scores_ensemble = scores_ensemble + lgb_model.predict(X_test)\n",
    "        \n",
    "        #Score del fold (registros de dataset train que en este fold quedan out of fold)\n",
    "        score_folds = score_folds + cohen_kappa_score(y_train.iloc[oof_index], \n",
    "                                                            lgb_model.predict(X_train.iloc[oof_index]).argmax(axis=1),weights = 'quadratic')/n_splits\n",
    "\n",
    "\n",
    "    #Guardo prediccion del trial sobre el conjunto de test\n",
    "    # Genero nombre de archivo\n",
    "    predicted_filename = os.path.join(PATH_TO_TEMP_FILES,f'test_{trial.study.study_name}_{trial.number}.joblib')\n",
    "    # Copia del dataset para guardar la prediccion\n",
    "    predicted_df = test.copy()\n",
    "    # Genero columna pred con predicciones sumadas de los 5 folds\n",
    "    predicted_df['pred'] = [scores_ensemble[p,:] for p in range(scores_ensemble.shape[0])]\n",
    "    # Grabo dataframe en temp_artifacts\n",
    "    dump(predicted_df, predicted_filename)\n",
    "    # Indico a optuna que asocie el archivo generado al trial\n",
    "    upload_artifact(trial, predicted_filename, artifact_store)    \n",
    "\n",
    "    #Grabo natriz de confusion\n",
    "    #Nombre de archivo\n",
    "    cm_filename = os.path.join(PATH_TO_TEMP_FILES,f'cm_{trial.study.study_name}_{trial.number}.jpg')\n",
    "    #Grabo archivo\n",
    "    plot_confusion_matrix(y_test,scores_ensemble.argmax(axis=1)).write_image(cm_filename)\n",
    "    #Asocio al trial\n",
    "    upload_artifact(trial, cm_filename, artifact_store)\n",
    "\n",
    "    #Determino score en conjunto de test y asocio como metrica adicional en optuna\n",
    "    test_score = cohen_kappa_score(y_test,scores_ensemble.argmax(axis=1),weights = 'quadratic')\n",
    "    trial.set_user_attr(\"test_score\", test_score)\n",
    "\n",
    "    #Devuelvo score del 5fold cv a optuna para que optimice en base a eso\n",
    "    return(score_folds)"
   ]
  },
  {
   "cell_type": "code",
   "execution_count": 34,
   "metadata": {},
   "outputs": [
    {
     "name": "stderr",
     "output_type": "stream",
     "text": [
      "C:\\Users\\cacic\\AppData\\Local\\Temp\\ipykernel_7360\\1746730829.py:2: ExperimentalWarning:\n",
      "\n",
      "FileSystemArtifactStore is experimental (supported from v3.3.0). The interface can change in the future.\n",
      "\n",
      "[I 2024-08-22 19:47:04,017] Using an existing study with name '04 - LGB Multiclass CV' instead of creating a new one.\n",
      "C:\\Users\\cacic\\AppData\\Local\\Temp\\ipykernel_7360\\4150719641.py:86: ExperimentalWarning:\n",
      "\n",
      "upload_artifact is experimental (supported from v3.3.0). The interface can change in the future.\n",
      "\n",
      "C:\\Users\\cacic\\AppData\\Local\\Temp\\ipykernel_7360\\4150719641.py:94: ExperimentalWarning:\n",
      "\n",
      "upload_artifact is experimental (supported from v3.3.0). The interface can change in the future.\n",
      "\n",
      "[I 2024-08-22 19:47:22,420] Trial 305 finished with value: 0.35171411148804355 and parameters: {'lambda_l1': 4.332240875388796e-05, 'lambda_l2': 0.06739668969940067, 'num_leaves': 52, 'feature_fraction': 0.4995184362144431, 'bagging_fraction': 0.655096103051531, 'bagging_freq': 7, 'min_child_samples': 14}. Best is trial 237 with value: 0.370833783471845.\n",
      "C:\\Users\\cacic\\AppData\\Local\\Temp\\ipykernel_7360\\4150719641.py:86: ExperimentalWarning:\n",
      "\n",
      "upload_artifact is experimental (supported from v3.3.0). The interface can change in the future.\n",
      "\n",
      "C:\\Users\\cacic\\AppData\\Local\\Temp\\ipykernel_7360\\4150719641.py:94: ExperimentalWarning:\n",
      "\n",
      "upload_artifact is experimental (supported from v3.3.0). The interface can change in the future.\n",
      "\n",
      "[I 2024-08-22 19:47:46,778] Trial 306 finished with value: 0.3438468777520266 and parameters: {'lambda_l1': 0.0008428333059342579, 'lambda_l2': 0.8245103406955017, 'num_leaves': 194, 'feature_fraction': 0.6048920852167465, 'bagging_fraction': 0.9774583251434339, 'bagging_freq': 7, 'min_child_samples': 16}. Best is trial 237 with value: 0.370833783471845.\n",
      "C:\\Users\\cacic\\AppData\\Local\\Temp\\ipykernel_7360\\4150719641.py:86: ExperimentalWarning:\n",
      "\n",
      "upload_artifact is experimental (supported from v3.3.0). The interface can change in the future.\n",
      "\n",
      "C:\\Users\\cacic\\AppData\\Local\\Temp\\ipykernel_7360\\4150719641.py:94: ExperimentalWarning:\n",
      "\n",
      "upload_artifact is experimental (supported from v3.3.0). The interface can change in the future.\n",
      "\n",
      "[I 2024-08-22 19:48:05,046] Trial 307 finished with value: 0.3524412750940724 and parameters: {'lambda_l1': 1.66898377309404e-07, 'lambda_l2': 1.0489228087220694e-08, 'num_leaves': 60, 'feature_fraction': 0.5219314975390136, 'bagging_fraction': 0.9553484915005315, 'bagging_freq': 7, 'min_child_samples': 75}. Best is trial 237 with value: 0.370833783471845.\n",
      "C:\\Users\\cacic\\AppData\\Local\\Temp\\ipykernel_7360\\4150719641.py:86: ExperimentalWarning:\n",
      "\n",
      "upload_artifact is experimental (supported from v3.3.0). The interface can change in the future.\n",
      "\n",
      "C:\\Users\\cacic\\AppData\\Local\\Temp\\ipykernel_7360\\4150719641.py:94: ExperimentalWarning:\n",
      "\n",
      "upload_artifact is experimental (supported from v3.3.0). The interface can change in the future.\n",
      "\n",
      "[I 2024-08-22 19:48:20,587] Trial 308 finished with value: 0.3588765561110332 and parameters: {'lambda_l1': 0.00035962187098239365, 'lambda_l2': 0.27557392594453906, 'num_leaves': 65, 'feature_fraction': 0.5392292246121092, 'bagging_fraction': 0.9708858042961862, 'bagging_freq': 4, 'min_child_samples': 9}. Best is trial 237 with value: 0.370833783471845.\n",
      "C:\\Users\\cacic\\AppData\\Local\\Temp\\ipykernel_7360\\4150719641.py:86: ExperimentalWarning:\n",
      "\n",
      "upload_artifact is experimental (supported from v3.3.0). The interface can change in the future.\n",
      "\n",
      "C:\\Users\\cacic\\AppData\\Local\\Temp\\ipykernel_7360\\4150719641.py:94: ExperimentalWarning:\n",
      "\n",
      "upload_artifact is experimental (supported from v3.3.0). The interface can change in the future.\n",
      "\n",
      "[I 2024-08-22 19:48:39,241] Trial 309 finished with value: 0.34581424001440664 and parameters: {'lambda_l1': 0.0012817594463392383, 'lambda_l2': 1.9194234971775143e-08, 'num_leaves': 160, 'feature_fraction': 0.5604852992313205, 'bagging_fraction': 0.9869320139868141, 'bagging_freq': 7, 'min_child_samples': 14}. Best is trial 237 with value: 0.370833783471845.\n",
      "C:\\Users\\cacic\\AppData\\Local\\Temp\\ipykernel_7360\\4150719641.py:86: ExperimentalWarning:\n",
      "\n",
      "upload_artifact is experimental (supported from v3.3.0). The interface can change in the future.\n",
      "\n",
      "C:\\Users\\cacic\\AppData\\Local\\Temp\\ipykernel_7360\\4150719641.py:94: ExperimentalWarning:\n",
      "\n",
      "upload_artifact is experimental (supported from v3.3.0). The interface can change in the future.\n",
      "\n",
      "[I 2024-08-22 19:48:52,357] Trial 310 finished with value: 0.3318707485043221 and parameters: {'lambda_l1': 0.0006245513870754518, 'lambda_l2': 0.03132290982939435, 'num_leaves': 76, 'feature_fraction': 0.5311630774739148, 'bagging_fraction': 0.6965494791863491, 'bagging_freq': 7, 'min_child_samples': 18}. Best is trial 237 with value: 0.370833783471845.\n",
      "C:\\Users\\cacic\\AppData\\Local\\Temp\\ipykernel_7360\\4150719641.py:86: ExperimentalWarning:\n",
      "\n",
      "upload_artifact is experimental (supported from v3.3.0). The interface can change in the future.\n",
      "\n",
      "C:\\Users\\cacic\\AppData\\Local\\Temp\\ipykernel_7360\\4150719641.py:94: ExperimentalWarning:\n",
      "\n",
      "upload_artifact is experimental (supported from v3.3.0). The interface can change in the future.\n",
      "\n",
      "[I 2024-08-22 19:49:06,157] Trial 311 finished with value: 0.3593115787117073 and parameters: {'lambda_l1': 0.00015423331711445122, 'lambda_l2': 0.14133704597277388, 'num_leaves': 69, 'feature_fraction': 0.5150694929807617, 'bagging_fraction': 0.9548207185333067, 'bagging_freq': 7, 'min_child_samples': 13}. Best is trial 237 with value: 0.370833783471845.\n",
      "C:\\Users\\cacic\\AppData\\Local\\Temp\\ipykernel_7360\\4150719641.py:86: ExperimentalWarning:\n",
      "\n",
      "upload_artifact is experimental (supported from v3.3.0). The interface can change in the future.\n",
      "\n",
      "C:\\Users\\cacic\\AppData\\Local\\Temp\\ipykernel_7360\\4150719641.py:94: ExperimentalWarning:\n",
      "\n",
      "upload_artifact is experimental (supported from v3.3.0). The interface can change in the future.\n",
      "\n",
      "[I 2024-08-22 19:49:19,486] Trial 312 finished with value: 0.3564693230861842 and parameters: {'lambda_l1': 0.00216965473342912, 'lambda_l2': 6.645271412461936e-05, 'num_leaves': 55, 'feature_fraction': 0.543740351178166, 'bagging_fraction': 0.7935527511059873, 'bagging_freq': 7, 'min_child_samples': 20}. Best is trial 237 with value: 0.370833783471845.\n",
      "C:\\Users\\cacic\\AppData\\Local\\Temp\\ipykernel_7360\\4150719641.py:86: ExperimentalWarning:\n",
      "\n",
      "upload_artifact is experimental (supported from v3.3.0). The interface can change in the future.\n",
      "\n",
      "C:\\Users\\cacic\\AppData\\Local\\Temp\\ipykernel_7360\\4150719641.py:94: ExperimentalWarning:\n",
      "\n",
      "upload_artifact is experimental (supported from v3.3.0). The interface can change in the future.\n",
      "\n",
      "[I 2024-08-22 19:49:33,560] Trial 313 finished with value: 0.3519702803428756 and parameters: {'lambda_l1': 0.0010345236020346583, 'lambda_l2': 0.0035756763616390953, 'num_leaves': 62, 'feature_fraction': 0.5020571157663973, 'bagging_fraction': 0.9992732591313956, 'bagging_freq': 4, 'min_child_samples': 10}. Best is trial 237 with value: 0.370833783471845.\n",
      "C:\\Users\\cacic\\AppData\\Local\\Temp\\ipykernel_7360\\4150719641.py:86: ExperimentalWarning:\n",
      "\n",
      "upload_artifact is experimental (supported from v3.3.0). The interface can change in the future.\n",
      "\n",
      "C:\\Users\\cacic\\AppData\\Local\\Temp\\ipykernel_7360\\4150719641.py:94: ExperimentalWarning:\n",
      "\n",
      "upload_artifact is experimental (supported from v3.3.0). The interface can change in the future.\n",
      "\n",
      "[I 2024-08-22 19:49:46,303] Trial 314 finished with value: 0.34994123804274924 and parameters: {'lambda_l1': 0.00047327670869376476, 'lambda_l2': 0.43943915996047994, 'num_leaves': 47, 'feature_fraction': 0.5283034908102078, 'bagging_fraction': 0.9782058983345449, 'bagging_freq': 7, 'min_child_samples': 16}. Best is trial 237 with value: 0.370833783471845.\n",
      "C:\\Users\\cacic\\AppData\\Local\\Temp\\ipykernel_7360\\4150719641.py:86: ExperimentalWarning:\n",
      "\n",
      "upload_artifact is experimental (supported from v3.3.0). The interface can change in the future.\n",
      "\n",
      "C:\\Users\\cacic\\AppData\\Local\\Temp\\ipykernel_7360\\4150719641.py:94: ExperimentalWarning:\n",
      "\n",
      "upload_artifact is experimental (supported from v3.3.0). The interface can change in the future.\n",
      "\n",
      "[I 2024-08-22 19:50:03,350] Trial 315 finished with value: 0.34831332679828275 and parameters: {'lambda_l1': 0.0021573719838379217, 'lambda_l2': 1.0091124850142704e-08, 'num_leaves': 71, 'feature_fraction': 0.5211866318098721, 'bagging_fraction': 0.9435955862566436, 'bagging_freq': 6, 'min_child_samples': 13}. Best is trial 237 with value: 0.370833783471845.\n",
      "C:\\Users\\cacic\\AppData\\Local\\Temp\\ipykernel_7360\\4150719641.py:86: ExperimentalWarning:\n",
      "\n",
      "upload_artifact is experimental (supported from v3.3.0). The interface can change in the future.\n",
      "\n",
      "C:\\Users\\cacic\\AppData\\Local\\Temp\\ipykernel_7360\\4150719641.py:94: ExperimentalWarning:\n",
      "\n",
      "upload_artifact is experimental (supported from v3.3.0). The interface can change in the future.\n",
      "\n",
      "[I 2024-08-22 19:50:19,091] Trial 316 finished with value: 0.3498255340516892 and parameters: {'lambda_l1': 0.001445992958477247, 'lambda_l2': 1.9024939401346078e-08, 'num_leaves': 81, 'feature_fraction': 0.5538312489286056, 'bagging_fraction': 0.9674218016575667, 'bagging_freq': 7, 'min_child_samples': 8}. Best is trial 237 with value: 0.370833783471845.\n",
      "C:\\Users\\cacic\\AppData\\Local\\Temp\\ipykernel_7360\\4150719641.py:86: ExperimentalWarning:\n",
      "\n",
      "upload_artifact is experimental (supported from v3.3.0). The interface can change in the future.\n",
      "\n",
      "C:\\Users\\cacic\\AppData\\Local\\Temp\\ipykernel_7360\\4150719641.py:94: ExperimentalWarning:\n",
      "\n",
      "upload_artifact is experimental (supported from v3.3.0). The interface can change in the future.\n",
      "\n",
      "[I 2024-08-22 19:50:31,728] Trial 317 finished with value: 0.35046443627344653 and parameters: {'lambda_l1': 0.0008579113128622479, 'lambda_l2': 0.07097939152769238, 'num_leaves': 64, 'feature_fraction': 0.5428580524431887, 'bagging_fraction': 0.9584390265589667, 'bagging_freq': 7, 'min_child_samples': 26}. Best is trial 237 with value: 0.370833783471845.\n",
      "C:\\Users\\cacic\\AppData\\Local\\Temp\\ipykernel_7360\\4150719641.py:86: ExperimentalWarning:\n",
      "\n",
      "upload_artifact is experimental (supported from v3.3.0). The interface can change in the future.\n",
      "\n",
      "C:\\Users\\cacic\\AppData\\Local\\Temp\\ipykernel_7360\\4150719641.py:94: ExperimentalWarning:\n",
      "\n",
      "upload_artifact is experimental (supported from v3.3.0). The interface can change in the future.\n",
      "\n",
      "[I 2024-08-22 19:50:46,904] Trial 318 finished with value: 0.3567593045340891 and parameters: {'lambda_l1': 0.003964340224807991, 'lambda_l2': 0.194421134475472, 'num_leaves': 75, 'feature_fraction': 0.6255492687406362, 'bagging_fraction': 0.9879539332382535, 'bagging_freq': 7, 'min_child_samples': 15}. Best is trial 237 with value: 0.370833783471845.\n",
      "C:\\Users\\cacic\\AppData\\Local\\Temp\\ipykernel_7360\\4150719641.py:86: ExperimentalWarning:\n",
      "\n",
      "upload_artifact is experimental (supported from v3.3.0). The interface can change in the future.\n",
      "\n",
      "C:\\Users\\cacic\\AppData\\Local\\Temp\\ipykernel_7360\\4150719641.py:94: ExperimentalWarning:\n",
      "\n",
      "upload_artifact is experimental (supported from v3.3.0). The interface can change in the future.\n",
      "\n",
      "[I 2024-08-22 19:51:02,836] Trial 319 finished with value: 0.34765811410404374 and parameters: {'lambda_l1': 5.056804083410809e-08, 'lambda_l2': 1.1033072110892326, 'num_leaves': 147, 'feature_fraction': 0.5705065877500178, 'bagging_fraction': 0.9729408521884065, 'bagging_freq': 7, 'min_child_samples': 63}. Best is trial 237 with value: 0.370833783471845.\n",
      "C:\\Users\\cacic\\AppData\\Local\\Temp\\ipykernel_7360\\4150719641.py:86: ExperimentalWarning:\n",
      "\n",
      "upload_artifact is experimental (supported from v3.3.0). The interface can change in the future.\n",
      "\n",
      "C:\\Users\\cacic\\AppData\\Local\\Temp\\ipykernel_7360\\4150719641.py:94: ExperimentalWarning:\n",
      "\n",
      "upload_artifact is experimental (supported from v3.3.0). The interface can change in the future.\n",
      "\n",
      "[I 2024-08-22 19:51:15,840] Trial 320 finished with value: 0.3564680449276979 and parameters: {'lambda_l1': 0.0003260019885218624, 'lambda_l2': 0.00838606948755777, 'num_leaves': 56, 'feature_fraction': 0.4919343507889126, 'bagging_fraction': 0.9493815104481619, 'bagging_freq': 7, 'min_child_samples': 22}. Best is trial 237 with value: 0.370833783471845.\n",
      "C:\\Users\\cacic\\AppData\\Local\\Temp\\ipykernel_7360\\4150719641.py:86: ExperimentalWarning:\n",
      "\n",
      "upload_artifact is experimental (supported from v3.3.0). The interface can change in the future.\n",
      "\n",
      "C:\\Users\\cacic\\AppData\\Local\\Temp\\ipykernel_7360\\4150719641.py:94: ExperimentalWarning:\n",
      "\n",
      "upload_artifact is experimental (supported from v3.3.0). The interface can change in the future.\n",
      "\n",
      "[I 2024-08-22 19:51:30,043] Trial 321 finished with value: 0.35739444884664173 and parameters: {'lambda_l1': 0.0014920890752159605, 'lambda_l2': 1.5992678864326084e-08, 'num_leaves': 66, 'feature_fraction': 0.5112185932182476, 'bagging_fraction': 0.9779058330082032, 'bagging_freq': 7, 'min_child_samples': 11}. Best is trial 237 with value: 0.370833783471845.\n",
      "C:\\Users\\cacic\\AppData\\Local\\Temp\\ipykernel_7360\\4150719641.py:86: ExperimentalWarning:\n",
      "\n",
      "upload_artifact is experimental (supported from v3.3.0). The interface can change in the future.\n",
      "\n",
      "C:\\Users\\cacic\\AppData\\Local\\Temp\\ipykernel_7360\\4150719641.py:94: ExperimentalWarning:\n",
      "\n",
      "upload_artifact is experimental (supported from v3.3.0). The interface can change in the future.\n",
      "\n",
      "[I 2024-08-22 19:51:44,076] Trial 322 finished with value: 0.35764205793375686 and parameters: {'lambda_l1': 0.0005868755058479287, 'lambda_l2': 0.0037604534043234874, 'num_leaves': 59, 'feature_fraction': 0.5332340640078713, 'bagging_fraction': 0.9617511113365892, 'bagging_freq': 7, 'min_child_samples': 17}. Best is trial 237 with value: 0.370833783471845.\n",
      "C:\\Users\\cacic\\AppData\\Local\\Temp\\ipykernel_7360\\4150719641.py:86: ExperimentalWarning:\n",
      "\n",
      "upload_artifact is experimental (supported from v3.3.0). The interface can change in the future.\n",
      "\n",
      "C:\\Users\\cacic\\AppData\\Local\\Temp\\ipykernel_7360\\4150719641.py:94: ExperimentalWarning:\n",
      "\n",
      "upload_artifact is experimental (supported from v3.3.0). The interface can change in the future.\n",
      "\n",
      "[I 2024-08-22 19:52:01,293] Trial 323 finished with value: 0.3636797075740279 and parameters: {'lambda_l1': 0.001089904041590885, 'lambda_l2': 0.004778994516901366, 'num_leaves': 70, 'feature_fraction': 0.5211043330335273, 'bagging_fraction': 0.932405810691018, 'bagging_freq': 5, 'min_child_samples': 6}. Best is trial 237 with value: 0.370833783471845.\n",
      "C:\\Users\\cacic\\AppData\\Local\\Temp\\ipykernel_7360\\4150719641.py:86: ExperimentalWarning:\n",
      "\n",
      "upload_artifact is experimental (supported from v3.3.0). The interface can change in the future.\n",
      "\n",
      "C:\\Users\\cacic\\AppData\\Local\\Temp\\ipykernel_7360\\4150719641.py:94: ExperimentalWarning:\n",
      "\n",
      "upload_artifact is experimental (supported from v3.3.0). The interface can change in the future.\n",
      "\n",
      "[I 2024-08-22 19:52:16,080] Trial 324 finished with value: 0.35723846164757445 and parameters: {'lambda_l1': 0.0020718109038904494, 'lambda_l2': 0.0017561347728598008, 'num_leaves': 81, 'feature_fraction': 0.5362564215379321, 'bagging_fraction': 0.9898998805284188, 'bagging_freq': 7, 'min_child_samples': 72}. Best is trial 237 with value: 0.370833783471845.\n",
      "C:\\Users\\cacic\\AppData\\Local\\Temp\\ipykernel_7360\\4150719641.py:86: ExperimentalWarning:\n",
      "\n",
      "upload_artifact is experimental (supported from v3.3.0). The interface can change in the future.\n",
      "\n",
      "C:\\Users\\cacic\\AppData\\Local\\Temp\\ipykernel_7360\\4150719641.py:94: ExperimentalWarning:\n",
      "\n",
      "upload_artifact is experimental (supported from v3.3.0). The interface can change in the future.\n",
      "\n",
      "[I 2024-08-22 19:52:30,191] Trial 325 finished with value: 0.3540395781386052 and parameters: {'lambda_l1': 0.013077019004629823, 'lambda_l2': 1.579053302214867, 'num_leaves': 50, 'feature_fraction': 0.5821632836438082, 'bagging_fraction': 0.9690833286307001, 'bagging_freq': 7, 'min_child_samples': 13}. Best is trial 237 with value: 0.370833783471845.\n",
      "C:\\Users\\cacic\\AppData\\Local\\Temp\\ipykernel_7360\\4150719641.py:86: ExperimentalWarning:\n",
      "\n",
      "upload_artifact is experimental (supported from v3.3.0). The interface can change in the future.\n",
      "\n",
      "C:\\Users\\cacic\\AppData\\Local\\Temp\\ipykernel_7360\\4150719641.py:94: ExperimentalWarning:\n",
      "\n",
      "upload_artifact is experimental (supported from v3.3.0). The interface can change in the future.\n",
      "\n",
      "[I 2024-08-22 19:52:44,102] Trial 326 finished with value: 0.35990034423940265 and parameters: {'lambda_l1': 0.003024584930657779, 'lambda_l2': 0.28275607429121236, 'num_leaves': 63, 'feature_fraction': 0.5038709357960724, 'bagging_fraction': 0.951726739054249, 'bagging_freq': 7, 'min_child_samples': 10}. Best is trial 237 with value: 0.370833783471845.\n",
      "C:\\Users\\cacic\\AppData\\Local\\Temp\\ipykernel_7360\\4150719641.py:86: ExperimentalWarning:\n",
      "\n",
      "upload_artifact is experimental (supported from v3.3.0). The interface can change in the future.\n",
      "\n",
      "C:\\Users\\cacic\\AppData\\Local\\Temp\\ipykernel_7360\\4150719641.py:94: ExperimentalWarning:\n",
      "\n",
      "upload_artifact is experimental (supported from v3.3.0). The interface can change in the future.\n",
      "\n",
      "[I 2024-08-22 19:52:58,311] Trial 327 finished with value: 0.343575224453887 and parameters: {'lambda_l1': 0.0007670012871406495, 'lambda_l2': 0.4570891442281398, 'num_leaves': 76, 'feature_fraction': 0.5614048461836623, 'bagging_fraction': 0.999675393797078, 'bagging_freq': 7, 'min_child_samples': 15}. Best is trial 237 with value: 0.370833783471845.\n",
      "C:\\Users\\cacic\\AppData\\Local\\Temp\\ipykernel_7360\\4150719641.py:86: ExperimentalWarning:\n",
      "\n",
      "upload_artifact is experimental (supported from v3.3.0). The interface can change in the future.\n",
      "\n",
      "C:\\Users\\cacic\\AppData\\Local\\Temp\\ipykernel_7360\\4150719641.py:94: ExperimentalWarning:\n",
      "\n",
      "upload_artifact is experimental (supported from v3.3.0). The interface can change in the future.\n",
      "\n",
      "[I 2024-08-22 19:53:13,668] Trial 328 finished with value: 0.35116173843316456 and parameters: {'lambda_l1': 0.0004759441499769843, 'lambda_l2': 0.008076661709257344, 'num_leaves': 69, 'feature_fraction': 0.514775379395011, 'bagging_fraction': 0.9788181246616469, 'bagging_freq': 7, 'min_child_samples': 18}. Best is trial 237 with value: 0.370833783471845.\n",
      "C:\\Users\\cacic\\AppData\\Local\\Temp\\ipykernel_7360\\4150719641.py:86: ExperimentalWarning:\n",
      "\n",
      "upload_artifact is experimental (supported from v3.3.0). The interface can change in the future.\n",
      "\n",
      "C:\\Users\\cacic\\AppData\\Local\\Temp\\ipykernel_7360\\4150719641.py:94: ExperimentalWarning:\n",
      "\n",
      "upload_artifact is experimental (supported from v3.3.0). The interface can change in the future.\n",
      "\n",
      "[I 2024-08-22 19:53:26,588] Trial 329 finished with value: 0.35460462400582404 and parameters: {'lambda_l1': 3.9884156904567903e-08, 'lambda_l2': 0.011258706743620494, 'num_leaves': 58, 'feature_fraction': 0.547780481915429, 'bagging_fraction': 0.9696021697004366, 'bagging_freq': 7, 'min_child_samples': 13}. Best is trial 237 with value: 0.370833783471845.\n",
      "C:\\Users\\cacic\\AppData\\Local\\Temp\\ipykernel_7360\\4150719641.py:86: ExperimentalWarning:\n",
      "\n",
      "upload_artifact is experimental (supported from v3.3.0). The interface can change in the future.\n",
      "\n",
      "C:\\Users\\cacic\\AppData\\Local\\Temp\\ipykernel_7360\\4150719641.py:94: ExperimentalWarning:\n",
      "\n",
      "upload_artifact is experimental (supported from v3.3.0). The interface can change in the future.\n",
      "\n",
      "[I 2024-08-22 19:53:43,683] Trial 330 finished with value: 0.3503730058524015 and parameters: {'lambda_l1': 6.613726386742685, 'lambda_l2': 0.0369889233649413, 'num_leaves': 65, 'feature_fraction': 0.5265196576466484, 'bagging_fraction': 0.9417079018140303, 'bagging_freq': 6, 'min_child_samples': 11}. Best is trial 237 with value: 0.370833783471845.\n",
      "C:\\Users\\cacic\\AppData\\Local\\Temp\\ipykernel_7360\\4150719641.py:86: ExperimentalWarning:\n",
      "\n",
      "upload_artifact is experimental (supported from v3.3.0). The interface can change in the future.\n",
      "\n",
      "C:\\Users\\cacic\\AppData\\Local\\Temp\\ipykernel_7360\\4150719641.py:94: ExperimentalWarning:\n",
      "\n",
      "upload_artifact is experimental (supported from v3.3.0). The interface can change in the future.\n",
      "\n",
      "[I 2024-08-22 19:53:57,441] Trial 331 finished with value: 0.35117641530142607 and parameters: {'lambda_l1': 0.0015168910618727424, 'lambda_l2': 1.8361825435117827e-08, 'num_leaves': 72, 'feature_fraction': 0.5387175032472542, 'bagging_fraction': 0.9855644227812328, 'bagging_freq': 7, 'min_child_samples': 20}. Best is trial 237 with value: 0.370833783471845.\n",
      "C:\\Users\\cacic\\AppData\\Local\\Temp\\ipykernel_7360\\4150719641.py:86: ExperimentalWarning:\n",
      "\n",
      "upload_artifact is experimental (supported from v3.3.0). The interface can change in the future.\n",
      "\n",
      "C:\\Users\\cacic\\AppData\\Local\\Temp\\ipykernel_7360\\4150719641.py:94: ExperimentalWarning:\n",
      "\n",
      "upload_artifact is experimental (supported from v3.3.0). The interface can change in the future.\n",
      "\n",
      "[I 2024-08-22 19:54:13,253] Trial 332 finished with value: 0.35518281717770334 and parameters: {'lambda_l1': 0.004959978885857736, 'lambda_l2': 0.00012786815167061246, 'num_leaves': 54, 'feature_fraction': 0.4882957120671807, 'bagging_fraction': 0.9586511335564429, 'bagging_freq': 7, 'min_child_samples': 16}. Best is trial 237 with value: 0.370833783471845.\n",
      "C:\\Users\\cacic\\AppData\\Local\\Temp\\ipykernel_7360\\4150719641.py:86: ExperimentalWarning:\n",
      "\n",
      "upload_artifact is experimental (supported from v3.3.0). The interface can change in the future.\n",
      "\n",
      "C:\\Users\\cacic\\AppData\\Local\\Temp\\ipykernel_7360\\4150719641.py:94: ExperimentalWarning:\n",
      "\n",
      "upload_artifact is experimental (supported from v3.3.0). The interface can change in the future.\n",
      "\n",
      "[I 2024-08-22 19:54:27,705] Trial 333 finished with value: 0.36415529190331686 and parameters: {'lambda_l1': 0.0009205549609187913, 'lambda_l2': 0.0035135237609774123, 'num_leaves': 62, 'feature_fraction': 0.5524078448565418, 'bagging_fraction': 0.9760243400565962, 'bagging_freq': 7, 'min_child_samples': 9}. Best is trial 237 with value: 0.370833783471845.\n",
      "C:\\Users\\cacic\\AppData\\Local\\Temp\\ipykernel_7360\\4150719641.py:86: ExperimentalWarning:\n",
      "\n",
      "upload_artifact is experimental (supported from v3.3.0). The interface can change in the future.\n",
      "\n",
      "C:\\Users\\cacic\\AppData\\Local\\Temp\\ipykernel_7360\\4150719641.py:94: ExperimentalWarning:\n",
      "\n",
      "upload_artifact is experimental (supported from v3.3.0). The interface can change in the future.\n",
      "\n",
      "[I 2024-08-22 19:54:41,418] Trial 334 finished with value: 0.35266753900950626 and parameters: {'lambda_l1': 0.00022234685417573118, 'lambda_l2': 1.0340327378707627e-08, 'num_leaves': 76, 'feature_fraction': 0.5255337737852774, 'bagging_fraction': 0.9628530445402953, 'bagging_freq': 7, 'min_child_samples': 14}. Best is trial 237 with value: 0.370833783471845.\n",
      "C:\\Users\\cacic\\AppData\\Local\\Temp\\ipykernel_7360\\4150719641.py:86: ExperimentalWarning:\n",
      "\n",
      "upload_artifact is experimental (supported from v3.3.0). The interface can change in the future.\n",
      "\n",
      "C:\\Users\\cacic\\AppData\\Local\\Temp\\ipykernel_7360\\4150719641.py:94: ExperimentalWarning:\n",
      "\n",
      "upload_artifact is experimental (supported from v3.3.0). The interface can change in the future.\n",
      "\n",
      "[I 2024-08-22 19:54:55,420] Trial 335 finished with value: 0.36100942121312923 and parameters: {'lambda_l1': 0.0032291185539338584, 'lambda_l2': 0.005807662948136014, 'num_leaves': 69, 'feature_fraction': 0.5098243361035975, 'bagging_fraction': 0.9892169807549563, 'bagging_freq': 7, 'min_child_samples': 11}. Best is trial 237 with value: 0.370833783471845.\n",
      "C:\\Users\\cacic\\AppData\\Local\\Temp\\ipykernel_7360\\4150719641.py:86: ExperimentalWarning:\n",
      "\n",
      "upload_artifact is experimental (supported from v3.3.0). The interface can change in the future.\n",
      "\n",
      "C:\\Users\\cacic\\AppData\\Local\\Temp\\ipykernel_7360\\4150719641.py:94: ExperimentalWarning:\n",
      "\n",
      "upload_artifact is experimental (supported from v3.3.0). The interface can change in the future.\n",
      "\n",
      "[I 2024-08-22 19:55:10,861] Trial 336 finished with value: 0.36051092520622 and parameters: {'lambda_l1': 0.009871808773026606, 'lambda_l2': 0.11757268378168456, 'num_leaves': 60, 'feature_fraction': 0.5357215976602214, 'bagging_fraction': 0.9449088042012455, 'bagging_freq': 7, 'min_child_samples': 17}. Best is trial 237 with value: 0.370833783471845.\n",
      "C:\\Users\\cacic\\AppData\\Local\\Temp\\ipykernel_7360\\4150719641.py:86: ExperimentalWarning:\n",
      "\n",
      "upload_artifact is experimental (supported from v3.3.0). The interface can change in the future.\n",
      "\n",
      "C:\\Users\\cacic\\AppData\\Local\\Temp\\ipykernel_7360\\4150719641.py:94: ExperimentalWarning:\n",
      "\n",
      "upload_artifact is experimental (supported from v3.3.0). The interface can change in the future.\n",
      "\n",
      "[I 2024-08-22 19:55:24,067] Trial 337 finished with value: 0.35040881056763695 and parameters: {'lambda_l1': 0.0019289439754576043, 'lambda_l2': 2.9036736063502473e-08, 'num_leaves': 44, 'feature_fraction': 0.498830972555648, 'bagging_fraction': 0.9185303052512905, 'bagging_freq': 7, 'min_child_samples': 7}. Best is trial 237 with value: 0.370833783471845.\n",
      "C:\\Users\\cacic\\AppData\\Local\\Temp\\ipykernel_7360\\4150719641.py:86: ExperimentalWarning:\n",
      "\n",
      "upload_artifact is experimental (supported from v3.3.0). The interface can change in the future.\n",
      "\n",
      "C:\\Users\\cacic\\AppData\\Local\\Temp\\ipykernel_7360\\4150719641.py:94: ExperimentalWarning:\n",
      "\n",
      "upload_artifact is experimental (supported from v3.3.0). The interface can change in the future.\n",
      "\n",
      "[I 2024-08-22 19:55:36,903] Trial 338 finished with value: 0.348829865275633 and parameters: {'lambda_l1': 0.0006309621767893803, 'lambda_l2': 0.027560453523759132, 'num_leaves': 84, 'feature_fraction': 0.5209695517068315, 'bagging_fraction': 0.9761959920805596, 'bagging_freq': 7, 'min_child_samples': 13}. Best is trial 237 with value: 0.370833783471845.\n",
      "C:\\Users\\cacic\\AppData\\Local\\Temp\\ipykernel_7360\\4150719641.py:86: ExperimentalWarning:\n",
      "\n",
      "upload_artifact is experimental (supported from v3.3.0). The interface can change in the future.\n",
      "\n",
      "C:\\Users\\cacic\\AppData\\Local\\Temp\\ipykernel_7360\\4150719641.py:94: ExperimentalWarning:\n",
      "\n",
      "upload_artifact is experimental (supported from v3.3.0). The interface can change in the future.\n",
      "\n",
      "[I 2024-08-22 19:55:51,992] Trial 339 finished with value: 0.35816595993599326 and parameters: {'lambda_l1': 0.0011231234097310644, 'lambda_l2': 0.1890008787950275, 'num_leaves': 67, 'feature_fraction': 0.5452618882641519, 'bagging_fraction': 0.9586501232620059, 'bagging_freq': 2, 'min_child_samples': 15}. Best is trial 237 with value: 0.370833783471845.\n",
      "C:\\Users\\cacic\\AppData\\Local\\Temp\\ipykernel_7360\\4150719641.py:86: ExperimentalWarning:\n",
      "\n",
      "upload_artifact is experimental (supported from v3.3.0). The interface can change in the future.\n",
      "\n",
      "C:\\Users\\cacic\\AppData\\Local\\Temp\\ipykernel_7360\\4150719641.py:94: ExperimentalWarning:\n",
      "\n",
      "upload_artifact is experimental (supported from v3.3.0). The interface can change in the future.\n",
      "\n",
      "[I 2024-08-22 19:56:03,626] Trial 340 finished with value: 0.3558200483773962 and parameters: {'lambda_l1': 0.002262860018419354, 'lambda_l2': 0.011727084666676298, 'num_leaves': 53, 'feature_fraction': 0.5614251875979173, 'bagging_fraction': 0.9898148166139297, 'bagging_freq': 6, 'min_child_samples': 19}. Best is trial 237 with value: 0.370833783471845.\n",
      "C:\\Users\\cacic\\AppData\\Local\\Temp\\ipykernel_7360\\4150719641.py:86: ExperimentalWarning:\n",
      "\n",
      "upload_artifact is experimental (supported from v3.3.0). The interface can change in the future.\n",
      "\n",
      "C:\\Users\\cacic\\AppData\\Local\\Temp\\ipykernel_7360\\4150719641.py:94: ExperimentalWarning:\n",
      "\n",
      "upload_artifact is experimental (supported from v3.3.0). The interface can change in the future.\n",
      "\n",
      "[I 2024-08-22 19:56:18,236] Trial 341 finished with value: 0.36154014568382375 and parameters: {'lambda_l1': 0.023832950178408738, 'lambda_l2': 1.547968410315248e-08, 'num_leaves': 74, 'feature_fraction': 0.5315326109547741, 'bagging_fraction': 0.9686378887858716, 'bagging_freq': 7, 'min_child_samples': 9}. Best is trial 237 with value: 0.370833783471845.\n",
      "C:\\Users\\cacic\\AppData\\Local\\Temp\\ipykernel_7360\\4150719641.py:86: ExperimentalWarning:\n",
      "\n",
      "upload_artifact is experimental (supported from v3.3.0). The interface can change in the future.\n",
      "\n",
      "C:\\Users\\cacic\\AppData\\Local\\Temp\\ipykernel_7360\\4150719641.py:94: ExperimentalWarning:\n",
      "\n",
      "upload_artifact is experimental (supported from v3.3.0). The interface can change in the future.\n",
      "\n",
      "[I 2024-08-22 19:56:30,776] Trial 342 finished with value: 0.35480995887573996 and parameters: {'lambda_l1': 1.5305249260937767e-08, 'lambda_l2': 0.0019528564733798945, 'num_leaves': 63, 'feature_fraction': 0.660144478164724, 'bagging_fraction': 0.9358294925629185, 'bagging_freq': 7, 'min_child_samples': 12}. Best is trial 237 with value: 0.370833783471845.\n",
      "C:\\Users\\cacic\\AppData\\Local\\Temp\\ipykernel_7360\\4150719641.py:86: ExperimentalWarning:\n",
      "\n",
      "upload_artifact is experimental (supported from v3.3.0). The interface can change in the future.\n",
      "\n",
      "C:\\Users\\cacic\\AppData\\Local\\Temp\\ipykernel_7360\\4150719641.py:94: ExperimentalWarning:\n",
      "\n",
      "upload_artifact is experimental (supported from v3.3.0). The interface can change in the future.\n",
      "\n",
      "[I 2024-08-22 19:56:44,872] Trial 343 finished with value: 0.3503773356809729 and parameters: {'lambda_l1': 0.006904539587493064, 'lambda_l2': 0.36777767251910054, 'num_leaves': 79, 'feature_fraction': 0.5158345690620187, 'bagging_fraction': 0.999361187545952, 'bagging_freq': 7, 'min_child_samples': 15}. Best is trial 237 with value: 0.370833783471845.\n",
      "C:\\Users\\cacic\\AppData\\Local\\Temp\\ipykernel_7360\\4150719641.py:86: ExperimentalWarning:\n",
      "\n",
      "upload_artifact is experimental (supported from v3.3.0). The interface can change in the future.\n",
      "\n",
      "C:\\Users\\cacic\\AppData\\Local\\Temp\\ipykernel_7360\\4150719641.py:94: ExperimentalWarning:\n",
      "\n",
      "upload_artifact is experimental (supported from v3.3.0). The interface can change in the future.\n",
      "\n",
      "[I 2024-08-22 19:56:58,768] Trial 344 finished with value: 0.3515899287091201 and parameters: {'lambda_l1': 0.00031142855042511487, 'lambda_l2': 0.08190488557326321, 'num_leaves': 69, 'feature_fraction': 0.507203565831036, 'bagging_fraction': 0.9810077648345109, 'bagging_freq': 7, 'min_child_samples': 17}. Best is trial 237 with value: 0.370833783471845.\n",
      "C:\\Users\\cacic\\AppData\\Local\\Temp\\ipykernel_7360\\4150719641.py:86: ExperimentalWarning:\n",
      "\n",
      "upload_artifact is experimental (supported from v3.3.0). The interface can change in the future.\n",
      "\n",
      "C:\\Users\\cacic\\AppData\\Local\\Temp\\ipykernel_7360\\4150719641.py:94: ExperimentalWarning:\n",
      "\n",
      "upload_artifact is experimental (supported from v3.3.0). The interface can change in the future.\n",
      "\n",
      "[I 2024-08-22 19:57:15,695] Trial 345 finished with value: 0.35410285818284803 and parameters: {'lambda_l1': 3.454310976692294e-08, 'lambda_l2': 0.005138067801833746, 'num_leaves': 114, 'feature_fraction': 0.550154864110693, 'bagging_fraction': 0.9515893355937264, 'bagging_freq': 7, 'min_child_samples': 23}. Best is trial 237 with value: 0.370833783471845.\n",
      "C:\\Users\\cacic\\AppData\\Local\\Temp\\ipykernel_7360\\4150719641.py:86: ExperimentalWarning:\n",
      "\n",
      "upload_artifact is experimental (supported from v3.3.0). The interface can change in the future.\n",
      "\n",
      "C:\\Users\\cacic\\AppData\\Local\\Temp\\ipykernel_7360\\4150719641.py:94: ExperimentalWarning:\n",
      "\n",
      "upload_artifact is experimental (supported from v3.3.0). The interface can change in the future.\n",
      "\n",
      "[I 2024-08-22 19:57:29,592] Trial 346 finished with value: 0.3632020696744528 and parameters: {'lambda_l1': 0.001428359808613969, 'lambda_l2': 0.0035206924568626083, 'num_leaves': 58, 'feature_fraction': 0.5279344689792583, 'bagging_fraction': 0.9663367312186989, 'bagging_freq': 7, 'min_child_samples': 13}. Best is trial 237 with value: 0.370833783471845.\n",
      "C:\\Users\\cacic\\AppData\\Local\\Temp\\ipykernel_7360\\4150719641.py:86: ExperimentalWarning:\n",
      "\n",
      "upload_artifact is experimental (supported from v3.3.0). The interface can change in the future.\n",
      "\n",
      "C:\\Users\\cacic\\AppData\\Local\\Temp\\ipykernel_7360\\4150719641.py:94: ExperimentalWarning:\n",
      "\n",
      "upload_artifact is experimental (supported from v3.3.0). The interface can change in the future.\n",
      "\n",
      "[I 2024-08-22 19:57:43,131] Trial 347 finished with value: 0.3571741527034152 and parameters: {'lambda_l1': 2.9252608754111485e-07, 'lambda_l2': 0.008456333926922808, 'num_leaves': 47, 'feature_fraction': 0.5386987005188998, 'bagging_fraction': 0.9849230522169223, 'bagging_freq': 7, 'min_child_samples': 11}. Best is trial 237 with value: 0.370833783471845.\n",
      "C:\\Users\\cacic\\AppData\\Local\\Temp\\ipykernel_7360\\4150719641.py:86: ExperimentalWarning:\n",
      "\n",
      "upload_artifact is experimental (supported from v3.3.0). The interface can change in the future.\n",
      "\n",
      "C:\\Users\\cacic\\AppData\\Local\\Temp\\ipykernel_7360\\4150719641.py:94: ExperimentalWarning:\n",
      "\n",
      "upload_artifact is experimental (supported from v3.3.0). The interface can change in the future.\n",
      "\n",
      "[I 2024-08-22 19:57:54,713] Trial 348 finished with value: 0.3573819324675583 and parameters: {'lambda_l1': 0.004051823276097639, 'lambda_l2': 2.3887333769351904e-08, 'num_leaves': 65, 'feature_fraction': 0.5686772034515486, 'bagging_fraction': 0.9557285742358312, 'bagging_freq': 7, 'min_child_samples': 9}. Best is trial 237 with value: 0.370833783471845.\n",
      "C:\\Users\\cacic\\AppData\\Local\\Temp\\ipykernel_7360\\4150719641.py:86: ExperimentalWarning:\n",
      "\n",
      "upload_artifact is experimental (supported from v3.3.0). The interface can change in the future.\n",
      "\n",
      "C:\\Users\\cacic\\AppData\\Local\\Temp\\ipykernel_7360\\4150719641.py:94: ExperimentalWarning:\n",
      "\n",
      "upload_artifact is experimental (supported from v3.3.0). The interface can change in the future.\n",
      "\n",
      "[I 2024-08-22 19:58:09,694] Trial 349 finished with value: 0.35017433422764355 and parameters: {'lambda_l1': 0.0004843995454980161, 'lambda_l2': 0.631021732973033, 'num_leaves': 73, 'feature_fraction': 0.4974151485885598, 'bagging_fraction': 0.974070448486331, 'bagging_freq': 7, 'min_child_samples': 14}. Best is trial 237 with value: 0.370833783471845.\n",
      "C:\\Users\\cacic\\AppData\\Local\\Temp\\ipykernel_7360\\4150719641.py:86: ExperimentalWarning:\n",
      "\n",
      "upload_artifact is experimental (supported from v3.3.0). The interface can change in the future.\n",
      "\n",
      "C:\\Users\\cacic\\AppData\\Local\\Temp\\ipykernel_7360\\4150719641.py:94: ExperimentalWarning:\n",
      "\n",
      "upload_artifact is experimental (supported from v3.3.0). The interface can change in the future.\n",
      "\n",
      "[I 2024-08-22 19:58:24,578] Trial 350 finished with value: 0.35158777538924924 and parameters: {'lambda_l1': 0.000877284542688879, 'lambda_l2': 1.3914255834229412e-08, 'num_leaves': 57, 'feature_fraction': 0.5168105348815462, 'bagging_fraction': 0.9670759660199846, 'bagging_freq': 7, 'min_child_samples': 5}. Best is trial 237 with value: 0.370833783471845.\n",
      "C:\\Users\\cacic\\AppData\\Local\\Temp\\ipykernel_7360\\4150719641.py:86: ExperimentalWarning:\n",
      "\n",
      "upload_artifact is experimental (supported from v3.3.0). The interface can change in the future.\n",
      "\n",
      "C:\\Users\\cacic\\AppData\\Local\\Temp\\ipykernel_7360\\4150719641.py:94: ExperimentalWarning:\n",
      "\n",
      "upload_artifact is experimental (supported from v3.3.0). The interface can change in the future.\n",
      "\n",
      "[I 2024-08-22 19:58:38,967] Trial 351 finished with value: 0.361607112423083 and parameters: {'lambda_l1': 0.002703918957111783, 'lambda_l2': 0.23957032909858206, 'num_leaves': 62, 'feature_fraction': 0.47832775566283603, 'bagging_fraction': 0.9459582445974264, 'bagging_freq': 7, 'min_child_samples': 19}. Best is trial 237 with value: 0.370833783471845.\n",
      "C:\\Users\\cacic\\AppData\\Local\\Temp\\ipykernel_7360\\4150719641.py:86: ExperimentalWarning:\n",
      "\n",
      "upload_artifact is experimental (supported from v3.3.0). The interface can change in the future.\n",
      "\n",
      "C:\\Users\\cacic\\AppData\\Local\\Temp\\ipykernel_7360\\4150719641.py:94: ExperimentalWarning:\n",
      "\n",
      "upload_artifact is experimental (supported from v3.3.0). The interface can change in the future.\n",
      "\n",
      "[I 2024-08-22 19:58:51,133] Trial 352 finished with value: 0.35129377501377185 and parameters: {'lambda_l1': 0.0013298705798047432, 'lambda_l2': 0.006871573360622521, 'num_leaves': 67, 'feature_fraction': 0.5284555645011956, 'bagging_fraction': 0.986619642824346, 'bagging_freq': 6, 'min_child_samples': 16}. Best is trial 237 with value: 0.370833783471845.\n",
      "C:\\Users\\cacic\\AppData\\Local\\Temp\\ipykernel_7360\\4150719641.py:86: ExperimentalWarning:\n",
      "\n",
      "upload_artifact is experimental (supported from v3.3.0). The interface can change in the future.\n",
      "\n",
      "C:\\Users\\cacic\\AppData\\Local\\Temp\\ipykernel_7360\\4150719641.py:94: ExperimentalWarning:\n",
      "\n",
      "upload_artifact is experimental (supported from v3.3.0). The interface can change in the future.\n",
      "\n",
      "[I 2024-08-22 19:59:05,729] Trial 353 finished with value: 0.35770496406121766 and parameters: {'lambda_l1': 1.5672737777276766e-05, 'lambda_l2': 0.05165041685349724, 'num_leaves': 72, 'feature_fraction': 0.5451041525610714, 'bagging_fraction': 0.9752988073244114, 'bagging_freq': 7, 'min_child_samples': 11}. Best is trial 237 with value: 0.370833783471845.\n",
      "C:\\Users\\cacic\\AppData\\Local\\Temp\\ipykernel_7360\\4150719641.py:86: ExperimentalWarning:\n",
      "\n",
      "upload_artifact is experimental (supported from v3.3.0). The interface can change in the future.\n",
      "\n",
      "C:\\Users\\cacic\\AppData\\Local\\Temp\\ipykernel_7360\\4150719641.py:94: ExperimentalWarning:\n",
      "\n",
      "upload_artifact is experimental (supported from v3.3.0). The interface can change in the future.\n",
      "\n",
      "[I 2024-08-22 19:59:19,135] Trial 354 finished with value: 0.35137996792204396 and parameters: {'lambda_l1': 0.0007294107976787036, 'lambda_l2': 0.0012691359249037695, 'num_leaves': 52, 'feature_fraction': 0.5076179847456517, 'bagging_fraction': 0.9994893936468676, 'bagging_freq': 7, 'min_child_samples': 86}. Best is trial 237 with value: 0.370833783471845.\n",
      "C:\\Users\\cacic\\AppData\\Local\\Temp\\ipykernel_7360\\4150719641.py:86: ExperimentalWarning:\n",
      "\n",
      "upload_artifact is experimental (supported from v3.3.0). The interface can change in the future.\n",
      "\n",
      "C:\\Users\\cacic\\AppData\\Local\\Temp\\ipykernel_7360\\4150719641.py:94: ExperimentalWarning:\n",
      "\n",
      "upload_artifact is experimental (supported from v3.3.0). The interface can change in the future.\n",
      "\n",
      "[I 2024-08-22 19:59:31,098] Trial 355 finished with value: 0.3581691380717804 and parameters: {'lambda_l1': 0.004953769220810549, 'lambda_l2': 0.0029865678235129387, 'num_leaves': 61, 'feature_fraction': 0.7701177748706565, 'bagging_fraction': 0.9597011510456687, 'bagging_freq': 7, 'min_child_samples': 13}. Best is trial 237 with value: 0.370833783471845.\n",
      "C:\\Users\\cacic\\AppData\\Local\\Temp\\ipykernel_7360\\4150719641.py:86: ExperimentalWarning:\n",
      "\n",
      "upload_artifact is experimental (supported from v3.3.0). The interface can change in the future.\n",
      "\n",
      "C:\\Users\\cacic\\AppData\\Local\\Temp\\ipykernel_7360\\4150719641.py:94: ExperimentalWarning:\n",
      "\n",
      "upload_artifact is experimental (supported from v3.3.0). The interface can change in the future.\n",
      "\n",
      "[I 2024-08-22 19:59:45,269] Trial 356 finished with value: 0.3538310938203718 and parameters: {'lambda_l1': 0.00042777664652309574, 'lambda_l2': 0.010472692558468798, 'num_leaves': 78, 'feature_fraction': 0.558159232775915, 'bagging_fraction': 0.9331180936478406, 'bagging_freq': 7, 'min_child_samples': 21}. Best is trial 237 with value: 0.370833783471845.\n",
      "C:\\Users\\cacic\\AppData\\Local\\Temp\\ipykernel_7360\\4150719641.py:86: ExperimentalWarning:\n",
      "\n",
      "upload_artifact is experimental (supported from v3.3.0). The interface can change in the future.\n",
      "\n",
      "C:\\Users\\cacic\\AppData\\Local\\Temp\\ipykernel_7360\\4150719641.py:94: ExperimentalWarning:\n",
      "\n",
      "upload_artifact is experimental (supported from v3.3.0). The interface can change in the future.\n",
      "\n",
      "[I 2024-08-22 20:00:02,386] Trial 357 finished with value: 0.35190845550051597 and parameters: {'lambda_l1': 0.0018015220971333461, 'lambda_l2': 0.004655444574563852, 'num_leaves': 70, 'feature_fraction': 0.5910291609550472, 'bagging_fraction': 0.9827830591839358, 'bagging_freq': 7, 'min_child_samples': 17}. Best is trial 237 with value: 0.370833783471845.\n",
      "C:\\Users\\cacic\\AppData\\Local\\Temp\\ipykernel_7360\\4150719641.py:86: ExperimentalWarning:\n",
      "\n",
      "upload_artifact is experimental (supported from v3.3.0). The interface can change in the future.\n",
      "\n",
      "C:\\Users\\cacic\\AppData\\Local\\Temp\\ipykernel_7360\\4150719641.py:94: ExperimentalWarning:\n",
      "\n",
      "upload_artifact is experimental (supported from v3.3.0). The interface can change in the future.\n",
      "\n",
      "[I 2024-08-22 20:00:16,978] Trial 358 finished with value: 0.35539614212631476 and parameters: {'lambda_l1': 0.0009815910146736698, 'lambda_l2': 0.013265777032197397, 'num_leaves': 66, 'feature_fraction': 0.5193537712904613, 'bagging_fraction': 0.9659767993599214, 'bagging_freq': 7, 'min_child_samples': 14}. Best is trial 237 with value: 0.370833783471845.\n",
      "C:\\Users\\cacic\\AppData\\Local\\Temp\\ipykernel_7360\\4150719641.py:86: ExperimentalWarning:\n",
      "\n",
      "upload_artifact is experimental (supported from v3.3.0). The interface can change in the future.\n",
      "\n",
      "C:\\Users\\cacic\\AppData\\Local\\Temp\\ipykernel_7360\\4150719641.py:94: ExperimentalWarning:\n",
      "\n",
      "upload_artifact is experimental (supported from v3.3.0). The interface can change in the future.\n",
      "\n",
      "[I 2024-08-22 20:00:34,051] Trial 359 finished with value: 0.3441114477996578 and parameters: {'lambda_l1': 0.00292686121652172, 'lambda_l2': 1.9969504721916225e-08, 'num_leaves': 177, 'feature_fraction': 0.5341226772353552, 'bagging_fraction': 0.9494988005368143, 'bagging_freq': 7, 'min_child_samples': 8}. Best is trial 237 with value: 0.370833783471845.\n",
      "C:\\Users\\cacic\\AppData\\Local\\Temp\\ipykernel_7360\\4150719641.py:86: ExperimentalWarning:\n",
      "\n",
      "upload_artifact is experimental (supported from v3.3.0). The interface can change in the future.\n",
      "\n",
      "C:\\Users\\cacic\\AppData\\Local\\Temp\\ipykernel_7360\\4150719641.py:94: ExperimentalWarning:\n",
      "\n",
      "upload_artifact is experimental (supported from v3.3.0). The interface can change in the future.\n",
      "\n",
      "[I 2024-08-22 20:00:46,751] Trial 360 finished with value: 0.3483293075841845 and parameters: {'lambda_l1': 0.0006433419963353586, 'lambda_l2': 3.4394728426599055e-08, 'num_leaves': 57, 'feature_fraction': 0.4881119888666535, 'bagging_fraction': 0.6155215167789887, 'bagging_freq': 5, 'min_child_samples': 11}. Best is trial 237 with value: 0.370833783471845.\n",
      "C:\\Users\\cacic\\AppData\\Local\\Temp\\ipykernel_7360\\4150719641.py:86: ExperimentalWarning:\n",
      "\n",
      "upload_artifact is experimental (supported from v3.3.0). The interface can change in the future.\n",
      "\n",
      "C:\\Users\\cacic\\AppData\\Local\\Temp\\ipykernel_7360\\4150719641.py:94: ExperimentalWarning:\n",
      "\n",
      "upload_artifact is experimental (supported from v3.3.0). The interface can change in the future.\n",
      "\n",
      "[I 2024-08-22 20:00:58,551] Trial 361 finished with value: 0.3461503955081383 and parameters: {'lambda_l1': 0.0016900327734370665, 'lambda_l2': 1.0422300526420205e-08, 'num_leaves': 75, 'feature_fraction': 0.5478645185568709, 'bagging_fraction': 0.7458127690892864, 'bagging_freq': 7, 'min_child_samples': 15}. Best is trial 237 with value: 0.370833783471845.\n",
      "C:\\Users\\cacic\\AppData\\Local\\Temp\\ipykernel_7360\\4150719641.py:86: ExperimentalWarning:\n",
      "\n",
      "upload_artifact is experimental (supported from v3.3.0). The interface can change in the future.\n",
      "\n",
      "C:\\Users\\cacic\\AppData\\Local\\Temp\\ipykernel_7360\\4150719641.py:94: ExperimentalWarning:\n",
      "\n",
      "upload_artifact is experimental (supported from v3.3.0). The interface can change in the future.\n",
      "\n",
      "[I 2024-08-22 20:01:11,350] Trial 362 finished with value: 0.3499755654925254 and parameters: {'lambda_l1': 1.5102207100459127e-06, 'lambda_l2': 0.02410674304815802, 'num_leaves': 83, 'feature_fraction': 0.5251911168605575, 'bagging_fraction': 0.9769849635004983, 'bagging_freq': 7, 'min_child_samples': 18}. Best is trial 237 with value: 0.370833783471845.\n",
      "C:\\Users\\cacic\\AppData\\Local\\Temp\\ipykernel_7360\\4150719641.py:86: ExperimentalWarning:\n",
      "\n",
      "upload_artifact is experimental (supported from v3.3.0). The interface can change in the future.\n",
      "\n",
      "C:\\Users\\cacic\\AppData\\Local\\Temp\\ipykernel_7360\\4150719641.py:94: ExperimentalWarning:\n",
      "\n",
      "upload_artifact is experimental (supported from v3.3.0). The interface can change in the future.\n",
      "\n",
      "[I 2024-08-22 20:01:24,998] Trial 363 finished with value: 0.35696953467405446 and parameters: {'lambda_l1': 0.008178932649551997, 'lambda_l2': 0.14623755241179606, 'num_leaves': 40, 'feature_fraction': 0.5048073940722714, 'bagging_fraction': 0.9898025829207567, 'bagging_freq': 7, 'min_child_samples': 12}. Best is trial 237 with value: 0.370833783471845.\n",
      "C:\\Users\\cacic\\AppData\\Local\\Temp\\ipykernel_7360\\4150719641.py:86: ExperimentalWarning:\n",
      "\n",
      "upload_artifact is experimental (supported from v3.3.0). The interface can change in the future.\n",
      "\n",
      "C:\\Users\\cacic\\AppData\\Local\\Temp\\ipykernel_7360\\4150719641.py:94: ExperimentalWarning:\n",
      "\n",
      "upload_artifact is experimental (supported from v3.3.0). The interface can change in the future.\n",
      "\n",
      "[I 2024-08-22 20:01:37,942] Trial 364 finished with value: 0.35558724371827805 and parameters: {'lambda_l1': 0.0011487183605145203, 'lambda_l2': 0.3264244285862806, 'num_leaves': 62, 'feature_fraction': 0.5760669542009114, 'bagging_fraction': 0.9572644109731038, 'bagging_freq': 7, 'min_child_samples': 10}. Best is trial 237 with value: 0.370833783471845.\n",
      "C:\\Users\\cacic\\AppData\\Local\\Temp\\ipykernel_7360\\4150719641.py:86: ExperimentalWarning:\n",
      "\n",
      "upload_artifact is experimental (supported from v3.3.0). The interface can change in the future.\n",
      "\n",
      "C:\\Users\\cacic\\AppData\\Local\\Temp\\ipykernel_7360\\4150719641.py:94: ExperimentalWarning:\n",
      "\n",
      "upload_artifact is experimental (supported from v3.3.0). The interface can change in the future.\n",
      "\n",
      "[I 2024-08-22 20:01:47,640] Trial 365 finished with value: 0.34767059175686843 and parameters: {'lambda_l1': 0.0023931775198913173, 'lambda_l2': 0.0020727568961238533, 'num_leaves': 68, 'feature_fraction': 0.539801296712818, 'bagging_fraction': 0.9707611920245527, 'bagging_freq': 7, 'min_child_samples': 16}. Best is trial 237 with value: 0.370833783471845.\n",
      "C:\\Users\\cacic\\AppData\\Local\\Temp\\ipykernel_7360\\4150719641.py:86: ExperimentalWarning:\n",
      "\n",
      "upload_artifact is experimental (supported from v3.3.0). The interface can change in the future.\n",
      "\n",
      "C:\\Users\\cacic\\AppData\\Local\\Temp\\ipykernel_7360\\4150719641.py:94: ExperimentalWarning:\n",
      "\n",
      "upload_artifact is experimental (supported from v3.3.0). The interface can change in the future.\n",
      "\n",
      "[I 2024-08-22 20:02:01,731] Trial 366 finished with value: 0.3533226053635782 and parameters: {'lambda_l1': 0.0006348472391747511, 'lambda_l2': 0.006192850886146097, 'num_leaves': 72, 'feature_fraction': 0.5175979789134609, 'bagging_fraction': 0.9387854208164104, 'bagging_freq': 7, 'min_child_samples': 14}. Best is trial 237 with value: 0.370833783471845.\n",
      "C:\\Users\\cacic\\AppData\\Local\\Temp\\ipykernel_7360\\4150719641.py:86: ExperimentalWarning:\n",
      "\n",
      "upload_artifact is experimental (supported from v3.3.0). The interface can change in the future.\n",
      "\n",
      "C:\\Users\\cacic\\AppData\\Local\\Temp\\ipykernel_7360\\4150719641.py:94: ExperimentalWarning:\n",
      "\n",
      "upload_artifact is experimental (supported from v3.3.0). The interface can change in the future.\n",
      "\n",
      "[I 2024-08-22 20:02:13,626] Trial 367 finished with value: 0.356804300736683 and parameters: {'lambda_l1': 0.00031566346945572943, 'lambda_l2': 1.4894130029355767e-08, 'num_leaves': 54, 'feature_fraction': 0.5559214040062973, 'bagging_fraction': 0.9903920632325113, 'bagging_freq': 7, 'min_child_samples': 20}. Best is trial 237 with value: 0.370833783471845.\n",
      "C:\\Users\\cacic\\AppData\\Local\\Temp\\ipykernel_7360\\4150719641.py:86: ExperimentalWarning:\n",
      "\n",
      "upload_artifact is experimental (supported from v3.3.0). The interface can change in the future.\n",
      "\n",
      "C:\\Users\\cacic\\AppData\\Local\\Temp\\ipykernel_7360\\4150719641.py:94: ExperimentalWarning:\n",
      "\n",
      "upload_artifact is experimental (supported from v3.3.0). The interface can change in the future.\n",
      "\n",
      "[I 2024-08-22 20:02:26,399] Trial 368 finished with value: 0.35955016535852274 and parameters: {'lambda_l1': 0.00010151859492921291, 'lambda_l2': 0.08444767017623252, 'num_leaves': 64, 'feature_fraction': 0.534195486860933, 'bagging_fraction': 0.9627256785439676, 'bagging_freq': 7, 'min_child_samples': 7}. Best is trial 237 with value: 0.370833783471845.\n",
      "C:\\Users\\cacic\\AppData\\Local\\Temp\\ipykernel_7360\\4150719641.py:86: ExperimentalWarning:\n",
      "\n",
      "upload_artifact is experimental (supported from v3.3.0). The interface can change in the future.\n",
      "\n",
      "C:\\Users\\cacic\\AppData\\Local\\Temp\\ipykernel_7360\\4150719641.py:94: ExperimentalWarning:\n",
      "\n",
      "upload_artifact is experimental (supported from v3.3.0). The interface can change in the future.\n",
      "\n",
      "[I 2024-08-22 20:02:38,899] Trial 369 finished with value: 0.3462092158494501 and parameters: {'lambda_l1': 1.0701265654624319e-08, 'lambda_l2': 0.48330419725776697, 'num_leaves': 48, 'feature_fraction': 0.4977104343297996, 'bagging_fraction': 0.9218970961281393, 'bagging_freq': 4, 'min_child_samples': 13}. Best is trial 237 with value: 0.370833783471845.\n",
      "C:\\Users\\cacic\\AppData\\Local\\Temp\\ipykernel_7360\\4150719641.py:86: ExperimentalWarning:\n",
      "\n",
      "upload_artifact is experimental (supported from v3.3.0). The interface can change in the future.\n",
      "\n",
      "C:\\Users\\cacic\\AppData\\Local\\Temp\\ipykernel_7360\\4150719641.py:94: ExperimentalWarning:\n",
      "\n",
      "upload_artifact is experimental (supported from v3.3.0). The interface can change in the future.\n",
      "\n",
      "[I 2024-08-22 20:02:53,148] Trial 370 finished with value: 0.3505651240410479 and parameters: {'lambda_l1': 0.003859093123076049, 'lambda_l2': 0.002859426661610489, 'num_leaves': 80, 'feature_fraction': 0.5143179289806968, 'bagging_fraction': 0.9785857361607178, 'bagging_freq': 7, 'min_child_samples': 16}. Best is trial 237 with value: 0.370833783471845.\n",
      "C:\\Users\\cacic\\AppData\\Local\\Temp\\ipykernel_7360\\4150719641.py:86: ExperimentalWarning:\n",
      "\n",
      "upload_artifact is experimental (supported from v3.3.0). The interface can change in the future.\n",
      "\n",
      "C:\\Users\\cacic\\AppData\\Local\\Temp\\ipykernel_7360\\4150719641.py:94: ExperimentalWarning:\n",
      "\n",
      "upload_artifact is experimental (supported from v3.3.0). The interface can change in the future.\n",
      "\n",
      "[I 2024-08-22 20:03:07,412] Trial 371 finished with value: 0.3454464171219878 and parameters: {'lambda_l1': 0.001030256091574803, 'lambda_l2': 0.7729333707113136, 'num_leaves': 59, 'feature_fraction': 0.5275464669644477, 'bagging_fraction': 0.9533978529250331, 'bagging_freq': 7, 'min_child_samples': 10}. Best is trial 237 with value: 0.370833783471845.\n",
      "C:\\Users\\cacic\\AppData\\Local\\Temp\\ipykernel_7360\\4150719641.py:86: ExperimentalWarning:\n",
      "\n",
      "upload_artifact is experimental (supported from v3.3.0). The interface can change in the future.\n",
      "\n",
      "C:\\Users\\cacic\\AppData\\Local\\Temp\\ipykernel_7360\\4150719641.py:94: ExperimentalWarning:\n",
      "\n",
      "upload_artifact is experimental (supported from v3.3.0). The interface can change in the future.\n",
      "\n",
      "[I 2024-08-22 20:03:20,478] Trial 372 finished with value: 0.3524570232915979 and parameters: {'lambda_l1': 0.006121088037485359, 'lambda_l2': 0.015393392551191563, 'num_leaves': 67, 'feature_fraction': 0.5407602364723906, 'bagging_fraction': 0.9708187455936206, 'bagging_freq': 7, 'min_child_samples': 18}. Best is trial 237 with value: 0.370833783471845.\n",
      "C:\\Users\\cacic\\AppData\\Local\\Temp\\ipykernel_7360\\4150719641.py:86: ExperimentalWarning:\n",
      "\n",
      "upload_artifact is experimental (supported from v3.3.0). The interface can change in the future.\n",
      "\n",
      "C:\\Users\\cacic\\AppData\\Local\\Temp\\ipykernel_7360\\4150719641.py:94: ExperimentalWarning:\n",
      "\n",
      "upload_artifact is experimental (supported from v3.3.0). The interface can change in the future.\n",
      "\n",
      "[I 2024-08-22 20:03:34,437] Trial 373 finished with value: 0.3542738463814084 and parameters: {'lambda_l1': 0.0001875172995337826, 'lambda_l2': 0.0007533680814456202, 'num_leaves': 75, 'feature_fraction': 0.5624438777119778, 'bagging_fraction': 0.9997382139387279, 'bagging_freq': 7, 'min_child_samples': 12}. Best is trial 237 with value: 0.370833783471845.\n",
      "C:\\Users\\cacic\\AppData\\Local\\Temp\\ipykernel_7360\\4150719641.py:86: ExperimentalWarning:\n",
      "\n",
      "upload_artifact is experimental (supported from v3.3.0). The interface can change in the future.\n",
      "\n",
      "C:\\Users\\cacic\\AppData\\Local\\Temp\\ipykernel_7360\\4150719641.py:94: ExperimentalWarning:\n",
      "\n",
      "upload_artifact is experimental (supported from v3.3.0). The interface can change in the future.\n",
      "\n",
      "[I 2024-08-22 20:03:47,175] Trial 374 finished with value: 0.3605525658825089 and parameters: {'lambda_l1': 0.016422426934889933, 'lambda_l2': 0.005068053137401153, 'num_leaves': 59, 'feature_fraction': 0.5480648577506942, 'bagging_fraction': 0.9822687780405269, 'bagging_freq': 7, 'min_child_samples': 14}. Best is trial 237 with value: 0.370833783471845.\n",
      "C:\\Users\\cacic\\AppData\\Local\\Temp\\ipykernel_7360\\4150719641.py:86: ExperimentalWarning:\n",
      "\n",
      "upload_artifact is experimental (supported from v3.3.0). The interface can change in the future.\n",
      "\n",
      "C:\\Users\\cacic\\AppData\\Local\\Temp\\ipykernel_7360\\4150719641.py:94: ExperimentalWarning:\n",
      "\n",
      "upload_artifact is experimental (supported from v3.3.0). The interface can change in the future.\n",
      "\n",
      "[I 2024-08-22 20:04:00,953] Trial 375 finished with value: 0.35319723779181444 and parameters: {'lambda_l1': 0.001614703822846893, 'lambda_l2': 0.19304884999389593, 'num_leaves': 70, 'feature_fraction': 0.8185798154922316, 'bagging_fraction': 0.9478525226963049, 'bagging_freq': 6, 'min_child_samples': 9}. Best is trial 237 with value: 0.370833783471845.\n",
      "C:\\Users\\cacic\\AppData\\Local\\Temp\\ipykernel_7360\\4150719641.py:86: ExperimentalWarning:\n",
      "\n",
      "upload_artifact is experimental (supported from v3.3.0). The interface can change in the future.\n",
      "\n",
      "C:\\Users\\cacic\\AppData\\Local\\Temp\\ipykernel_7360\\4150719641.py:94: ExperimentalWarning:\n",
      "\n",
      "upload_artifact is experimental (supported from v3.3.0). The interface can change in the future.\n",
      "\n",
      "[I 2024-08-22 20:04:14,848] Trial 376 finished with value: 0.3523627282248516 and parameters: {'lambda_l1': 4.159692728182884e-06, 'lambda_l2': 0.009383722219301834, 'num_leaves': 64, 'feature_fraction': 0.5135579325595157, 'bagging_fraction': 0.9641995641128933, 'bagging_freq': 7, 'min_child_samples': 16}. Best is trial 237 with value: 0.370833783471845.\n",
      "C:\\Users\\cacic\\AppData\\Local\\Temp\\ipykernel_7360\\4150719641.py:86: ExperimentalWarning:\n",
      "\n",
      "upload_artifact is experimental (supported from v3.3.0). The interface can change in the future.\n",
      "\n",
      "C:\\Users\\cacic\\AppData\\Local\\Temp\\ipykernel_7360\\4150719641.py:94: ExperimentalWarning:\n",
      "\n",
      "upload_artifact is experimental (supported from v3.3.0). The interface can change in the future.\n",
      "\n",
      "[I 2024-08-22 20:04:29,091] Trial 377 finished with value: 0.3623763238534615 and parameters: {'lambda_l1': 1.1920033223592905e-07, 'lambda_l2': 2.0940427470542768e-08, 'num_leaves': 52, 'feature_fraction': 0.40752484738786315, 'bagging_fraction': 0.982137952433191, 'bagging_freq': 7, 'min_child_samples': 12}. Best is trial 237 with value: 0.370833783471845.\n",
      "C:\\Users\\cacic\\AppData\\Local\\Temp\\ipykernel_7360\\4150719641.py:86: ExperimentalWarning:\n",
      "\n",
      "upload_artifact is experimental (supported from v3.3.0). The interface can change in the future.\n",
      "\n",
      "C:\\Users\\cacic\\AppData\\Local\\Temp\\ipykernel_7360\\4150719641.py:94: ExperimentalWarning:\n",
      "\n",
      "upload_artifact is experimental (supported from v3.3.0). The interface can change in the future.\n",
      "\n",
      "[I 2024-08-22 20:04:42,658] Trial 378 finished with value: 0.34263914207352547 and parameters: {'lambda_l1': 0.0004290472143640092, 'lambda_l2': 1.0666075730873289e-08, 'num_leaves': 73, 'feature_fraction': 0.5279771701456754, 'bagging_fraction': 0.9720107911232062, 'bagging_freq': 7, 'min_child_samples': 15}. Best is trial 237 with value: 0.370833783471845.\n",
      "C:\\Users\\cacic\\AppData\\Local\\Temp\\ipykernel_7360\\4150719641.py:86: ExperimentalWarning:\n",
      "\n",
      "upload_artifact is experimental (supported from v3.3.0). The interface can change in the future.\n",
      "\n",
      "C:\\Users\\cacic\\AppData\\Local\\Temp\\ipykernel_7360\\4150719641.py:94: ExperimentalWarning:\n",
      "\n",
      "upload_artifact is experimental (supported from v3.3.0). The interface can change in the future.\n",
      "\n",
      "[I 2024-08-22 20:04:56,662] Trial 379 finished with value: 0.3563285468015346 and parameters: {'lambda_l1': 0.0028818137411108207, 'lambda_l2': 0.04183175766358545, 'num_leaves': 85, 'feature_fraction': 0.5034462543976024, 'bagging_fraction': 0.9415544200598063, 'bagging_freq': 5, 'min_child_samples': 19}. Best is trial 237 with value: 0.370833783471845.\n",
      "C:\\Users\\cacic\\AppData\\Local\\Temp\\ipykernel_7360\\4150719641.py:86: ExperimentalWarning:\n",
      "\n",
      "upload_artifact is experimental (supported from v3.3.0). The interface can change in the future.\n",
      "\n",
      "C:\\Users\\cacic\\AppData\\Local\\Temp\\ipykernel_7360\\4150719641.py:94: ExperimentalWarning:\n",
      "\n",
      "upload_artifact is experimental (supported from v3.3.0). The interface can change in the future.\n",
      "\n",
      "[I 2024-08-22 20:05:09,108] Trial 380 finished with value: 0.3527656119921388 and parameters: {'lambda_l1': 0.0008473868383911274, 'lambda_l2': 0.0015560020030896276, 'num_leaves': 66, 'feature_fraction': 0.5380005960380354, 'bagging_fraction': 0.957929583807662, 'bagging_freq': 7, 'min_child_samples': 11}. Best is trial 237 with value: 0.370833783471845.\n",
      "C:\\Users\\cacic\\AppData\\Local\\Temp\\ipykernel_7360\\4150719641.py:86: ExperimentalWarning:\n",
      "\n",
      "upload_artifact is experimental (supported from v3.3.0). The interface can change in the future.\n",
      "\n",
      "C:\\Users\\cacic\\AppData\\Local\\Temp\\ipykernel_7360\\4150719641.py:94: ExperimentalWarning:\n",
      "\n",
      "upload_artifact is experimental (supported from v3.3.0). The interface can change in the future.\n",
      "\n",
      "[I 2024-08-22 20:05:23,303] Trial 381 finished with value: 0.35352314398109586 and parameters: {'lambda_l1': 0.0012522221106537172, 'lambda_l2': 0.0002713507257820993, 'num_leaves': 56, 'feature_fraction': 0.5197712473290405, 'bagging_fraction': 0.9908753150429193, 'bagging_freq': 7, 'min_child_samples': 22}. Best is trial 237 with value: 0.370833783471845.\n",
      "C:\\Users\\cacic\\AppData\\Local\\Temp\\ipykernel_7360\\4150719641.py:86: ExperimentalWarning:\n",
      "\n",
      "upload_artifact is experimental (supported from v3.3.0). The interface can change in the future.\n",
      "\n",
      "C:\\Users\\cacic\\AppData\\Local\\Temp\\ipykernel_7360\\4150719641.py:94: ExperimentalWarning:\n",
      "\n",
      "upload_artifact is experimental (supported from v3.3.0). The interface can change in the future.\n",
      "\n",
      "[I 2024-08-22 20:05:37,520] Trial 382 finished with value: 0.34448867807551475 and parameters: {'lambda_l1': 0.0021252807479238693, 'lambda_l2': 0.02304863577638834, 'num_leaves': 79, 'feature_fraction': 0.48957126074362084, 'bagging_fraction': 0.9743114982541374, 'bagging_freq': 7, 'min_child_samples': 60}. Best is trial 237 with value: 0.370833783471845.\n",
      "C:\\Users\\cacic\\AppData\\Local\\Temp\\ipykernel_7360\\4150719641.py:86: ExperimentalWarning:\n",
      "\n",
      "upload_artifact is experimental (supported from v3.3.0). The interface can change in the future.\n",
      "\n",
      "C:\\Users\\cacic\\AppData\\Local\\Temp\\ipykernel_7360\\4150719641.py:94: ExperimentalWarning:\n",
      "\n",
      "upload_artifact is experimental (supported from v3.3.0). The interface can change in the future.\n",
      "\n",
      "[I 2024-08-22 20:05:50,037] Trial 383 finished with value: 0.3518283298242076 and parameters: {'lambda_l1': 0.0006594655969598147, 'lambda_l2': 0.004198038835457762, 'num_leaves': 123, 'feature_fraction': 0.5544736850890734, 'bagging_fraction': 0.9306436626529009, 'bagging_freq': 6, 'min_child_samples': 55}. Best is trial 237 with value: 0.370833783471845.\n",
      "C:\\Users\\cacic\\AppData\\Local\\Temp\\ipykernel_7360\\4150719641.py:86: ExperimentalWarning:\n",
      "\n",
      "upload_artifact is experimental (supported from v3.3.0). The interface can change in the future.\n",
      "\n",
      "C:\\Users\\cacic\\AppData\\Local\\Temp\\ipykernel_7360\\4150719641.py:94: ExperimentalWarning:\n",
      "\n",
      "upload_artifact is experimental (supported from v3.3.0). The interface can change in the future.\n",
      "\n",
      "[I 2024-08-22 20:06:08,554] Trial 384 finished with value: 0.36126042046868656 and parameters: {'lambda_l1': 0.0037511446964664202, 'lambda_l2': 0.28637093636734295, 'num_leaves': 61, 'feature_fraction': 0.5706062202779573, 'bagging_fraction': 0.989731315141037, 'bagging_freq': 1, 'min_child_samples': 8}. Best is trial 237 with value: 0.370833783471845.\n",
      "C:\\Users\\cacic\\AppData\\Local\\Temp\\ipykernel_7360\\4150719641.py:86: ExperimentalWarning:\n",
      "\n",
      "upload_artifact is experimental (supported from v3.3.0). The interface can change in the future.\n",
      "\n",
      "C:\\Users\\cacic\\AppData\\Local\\Temp\\ipykernel_7360\\4150719641.py:94: ExperimentalWarning:\n",
      "\n",
      "upload_artifact is experimental (supported from v3.3.0). The interface can change in the future.\n",
      "\n",
      "[I 2024-08-22 20:06:22,665] Trial 385 finished with value: 0.3549039474875662 and parameters: {'lambda_l1': 0.011409279931507935, 'lambda_l2': 0.008045467599078142, 'num_leaves': 70, 'feature_fraction': 0.5317445866793961, 'bagging_fraction': 0.9602985043384457, 'bagging_freq': 7, 'min_child_samples': 13}. Best is trial 237 with value: 0.370833783471845.\n",
      "C:\\Users\\cacic\\AppData\\Local\\Temp\\ipykernel_7360\\4150719641.py:86: ExperimentalWarning:\n",
      "\n",
      "upload_artifact is experimental (supported from v3.3.0). The interface can change in the future.\n",
      "\n",
      "C:\\Users\\cacic\\AppData\\Local\\Temp\\ipykernel_7360\\4150719641.py:94: ExperimentalWarning:\n",
      "\n",
      "upload_artifact is experimental (supported from v3.3.0). The interface can change in the future.\n",
      "\n",
      "[I 2024-08-22 20:06:33,432] Trial 386 finished with value: 0.35214337422915065 and parameters: {'lambda_l1': 0.0016074867418401032, 'lambda_l2': 1.5771675921507965e-08, 'num_leaves': 49, 'feature_fraction': 0.7006502886048789, 'bagging_fraction': 0.949090681681185, 'bagging_freq': 7, 'min_child_samples': 18}. Best is trial 237 with value: 0.370833783471845.\n",
      "C:\\Users\\cacic\\AppData\\Local\\Temp\\ipykernel_7360\\4150719641.py:86: ExperimentalWarning:\n",
      "\n",
      "upload_artifact is experimental (supported from v3.3.0). The interface can change in the future.\n",
      "\n",
      "C:\\Users\\cacic\\AppData\\Local\\Temp\\ipykernel_7360\\4150719641.py:94: ExperimentalWarning:\n",
      "\n",
      "upload_artifact is experimental (supported from v3.3.0). The interface can change in the future.\n",
      "\n",
      "[I 2024-08-22 20:06:49,711] Trial 387 finished with value: 0.35327162256752154 and parameters: {'lambda_l1': 0.0009122222740015288, 'lambda_l2': 1.7381609162202405, 'num_leaves': 63, 'feature_fraction': 0.4715236830512081, 'bagging_fraction': 0.9756009480739904, 'bagging_freq': 7, 'min_child_samples': 14}. Best is trial 237 with value: 0.370833783471845.\n",
      "C:\\Users\\cacic\\AppData\\Local\\Temp\\ipykernel_7360\\4150719641.py:86: ExperimentalWarning:\n",
      "\n",
      "upload_artifact is experimental (supported from v3.3.0). The interface can change in the future.\n",
      "\n",
      "C:\\Users\\cacic\\AppData\\Local\\Temp\\ipykernel_7360\\4150719641.py:94: ExperimentalWarning:\n",
      "\n",
      "upload_artifact is experimental (supported from v3.3.0). The interface can change in the future.\n",
      "\n",
      "[I 2024-08-22 20:07:07,389] Trial 388 finished with value: 0.3537281490449682 and parameters: {'lambda_l1': 0.004800583276935786, 'lambda_l2': 3.402330755673086e-08, 'num_leaves': 140, 'feature_fraction': 0.5089454419050383, 'bagging_fraction': 0.9654443423782388, 'bagging_freq': 7, 'min_child_samples': 10}. Best is trial 237 with value: 0.370833783471845.\n",
      "C:\\Users\\cacic\\AppData\\Local\\Temp\\ipykernel_7360\\4150719641.py:86: ExperimentalWarning:\n",
      "\n",
      "upload_artifact is experimental (supported from v3.3.0). The interface can change in the future.\n",
      "\n",
      "C:\\Users\\cacic\\AppData\\Local\\Temp\\ipykernel_7360\\4150719641.py:94: ExperimentalWarning:\n",
      "\n",
      "upload_artifact is experimental (supported from v3.3.0). The interface can change in the future.\n",
      "\n",
      "[I 2024-08-22 20:07:20,419] Trial 389 finished with value: 0.34989819658868415 and parameters: {'lambda_l1': 0.0004815287722261402, 'lambda_l2': 0.1167976532235415, 'num_leaves': 75, 'feature_fraction': 0.5445902851715091, 'bagging_fraction': 0.9844441081672926, 'bagging_freq': 7, 'min_child_samples': 16}. Best is trial 237 with value: 0.370833783471845.\n",
      "C:\\Users\\cacic\\AppData\\Local\\Temp\\ipykernel_7360\\4150719641.py:86: ExperimentalWarning:\n",
      "\n",
      "upload_artifact is experimental (supported from v3.3.0). The interface can change in the future.\n",
      "\n",
      "C:\\Users\\cacic\\AppData\\Local\\Temp\\ipykernel_7360\\4150719641.py:94: ExperimentalWarning:\n",
      "\n",
      "upload_artifact is experimental (supported from v3.3.0). The interface can change in the future.\n",
      "\n",
      "[I 2024-08-22 20:07:34,211] Trial 390 finished with value: 0.3570457258753795 and parameters: {'lambda_l1': 0.0023876834053243425, 'lambda_l2': 0.0027438212497593174, 'num_leaves': 68, 'feature_fraction': 0.5233823723504545, 'bagging_fraction': 0.9551018186922283, 'bagging_freq': 7, 'min_child_samples': 12}. Best is trial 237 with value: 0.370833783471845.\n",
      "C:\\Users\\cacic\\AppData\\Local\\Temp\\ipykernel_7360\\4150719641.py:86: ExperimentalWarning:\n",
      "\n",
      "upload_artifact is experimental (supported from v3.3.0). The interface can change in the future.\n",
      "\n",
      "C:\\Users\\cacic\\AppData\\Local\\Temp\\ipykernel_7360\\4150719641.py:94: ExperimentalWarning:\n",
      "\n",
      "upload_artifact is experimental (supported from v3.3.0). The interface can change in the future.\n",
      "\n",
      "[I 2024-08-22 20:07:48,302] Trial 391 finished with value: 0.3583408626505555 and parameters: {'lambda_l1': 0.0014808436079171683, 'lambda_l2': 0.006387959836703457, 'num_leaves': 56, 'feature_fraction': 0.5342421651109197, 'bagging_fraction': 0.99960976267393, 'bagging_freq': 7, 'min_child_samples': 17}. Best is trial 237 with value: 0.370833783471845.\n",
      "C:\\Users\\cacic\\AppData\\Local\\Temp\\ipykernel_7360\\4150719641.py:86: ExperimentalWarning:\n",
      "\n",
      "upload_artifact is experimental (supported from v3.3.0). The interface can change in the future.\n",
      "\n",
      "C:\\Users\\cacic\\AppData\\Local\\Temp\\ipykernel_7360\\4150719641.py:94: ExperimentalWarning:\n",
      "\n",
      "upload_artifact is experimental (supported from v3.3.0). The interface can change in the future.\n",
      "\n",
      "[I 2024-08-22 20:08:03,114] Trial 392 finished with value: 0.3556139260660027 and parameters: {'lambda_l1': 0.0005938910121068532, 'lambda_l2': 1.006486319235387e-08, 'num_leaves': 62, 'feature_fraction': 0.4970282985277091, 'bagging_fraction': 0.9697917623812189, 'bagging_freq': 7, 'min_child_samples': 14}. Best is trial 237 with value: 0.370833783471845.\n",
      "C:\\Users\\cacic\\AppData\\Local\\Temp\\ipykernel_7360\\4150719641.py:86: ExperimentalWarning:\n",
      "\n",
      "upload_artifact is experimental (supported from v3.3.0). The interface can change in the future.\n",
      "\n",
      "C:\\Users\\cacic\\AppData\\Local\\Temp\\ipykernel_7360\\4150719641.py:94: ExperimentalWarning:\n",
      "\n",
      "upload_artifact is experimental (supported from v3.3.0). The interface can change in the future.\n",
      "\n",
      "[I 2024-08-22 20:08:16,410] Trial 393 finished with value: 0.35438436944678237 and parameters: {'lambda_l1': 0.006492819233945854, 'lambda_l2': 0.011847003108621128, 'num_leaves': 44, 'feature_fraction': 0.5184533309188203, 'bagging_fraction': 0.9831710776172383, 'bagging_freq': 3, 'min_child_samples': 28}. Best is trial 237 with value: 0.370833783471845.\n",
      "C:\\Users\\cacic\\AppData\\Local\\Temp\\ipykernel_7360\\4150719641.py:86: ExperimentalWarning:\n",
      "\n",
      "upload_artifact is experimental (supported from v3.3.0). The interface can change in the future.\n",
      "\n",
      "C:\\Users\\cacic\\AppData\\Local\\Temp\\ipykernel_7360\\4150719641.py:94: ExperimentalWarning:\n",
      "\n",
      "upload_artifact is experimental (supported from v3.3.0). The interface can change in the future.\n",
      "\n",
      "[I 2024-08-22 20:08:30,258] Trial 394 finished with value: 0.3625796992681572 and parameters: {'lambda_l1': 0.0003124317877474738, 'lambda_l2': 0.003857681663262142, 'num_leaves': 70, 'feature_fraction': 0.5477447125133108, 'bagging_fraction': 0.9433367820719522, 'bagging_freq': 6, 'min_child_samples': 7}. Best is trial 237 with value: 0.370833783471845.\n",
      "C:\\Users\\cacic\\AppData\\Local\\Temp\\ipykernel_7360\\4150719641.py:86: ExperimentalWarning:\n",
      "\n",
      "upload_artifact is experimental (supported from v3.3.0). The interface can change in the future.\n",
      "\n",
      "C:\\Users\\cacic\\AppData\\Local\\Temp\\ipykernel_7360\\4150719641.py:94: ExperimentalWarning:\n",
      "\n",
      "upload_artifact is experimental (supported from v3.3.0). The interface can change in the future.\n",
      "\n",
      "[I 2024-08-22 20:08:44,401] Trial 395 finished with value: 0.3590998355629016 and parameters: {'lambda_l1': 0.0010522493633631886, 'lambda_l2': 3.0642236821516894e-05, 'num_leaves': 77, 'feature_fraction': 0.5106718015226142, 'bagging_fraction': 0.9623115972066232, 'bagging_freq': 7, 'min_child_samples': 10}. Best is trial 237 with value: 0.370833783471845.\n",
      "C:\\Users\\cacic\\AppData\\Local\\Temp\\ipykernel_7360\\4150719641.py:86: ExperimentalWarning:\n",
      "\n",
      "upload_artifact is experimental (supported from v3.3.0). The interface can change in the future.\n",
      "\n",
      "C:\\Users\\cacic\\AppData\\Local\\Temp\\ipykernel_7360\\4150719641.py:94: ExperimentalWarning:\n",
      "\n",
      "upload_artifact is experimental (supported from v3.3.0). The interface can change in the future.\n",
      "\n",
      "[I 2024-08-22 20:09:01,383] Trial 396 finished with value: 0.3498073405002864 and parameters: {'lambda_l1': 3.323723613034006, 'lambda_l2': 2.4655530952586042e-08, 'num_leaves': 65, 'feature_fraction': 0.5316312298019049, 'bagging_fraction': 0.9781261918856592, 'bagging_freq': 7, 'min_child_samples': 20}. Best is trial 237 with value: 0.370833783471845.\n",
      "C:\\Users\\cacic\\AppData\\Local\\Temp\\ipykernel_7360\\4150719641.py:86: ExperimentalWarning:\n",
      "\n",
      "upload_artifact is experimental (supported from v3.3.0). The interface can change in the future.\n",
      "\n",
      "C:\\Users\\cacic\\AppData\\Local\\Temp\\ipykernel_7360\\4150719641.py:94: ExperimentalWarning:\n",
      "\n",
      "upload_artifact is experimental (supported from v3.3.0). The interface can change in the future.\n",
      "\n",
      "[I 2024-08-22 20:09:14,334] Trial 397 finished with value: 0.3564147658945287 and parameters: {'lambda_l1': 0.003415270224291435, 'lambda_l2': 0.017812720159736038, 'num_leaves': 59, 'feature_fraction': 0.5558533708957016, 'bagging_fraction': 0.9905061287033656, 'bagging_freq': 7, 'min_child_samples': 15}. Best is trial 237 with value: 0.370833783471845.\n",
      "C:\\Users\\cacic\\AppData\\Local\\Temp\\ipykernel_7360\\4150719641.py:86: ExperimentalWarning:\n",
      "\n",
      "upload_artifact is experimental (supported from v3.3.0). The interface can change in the future.\n",
      "\n",
      "C:\\Users\\cacic\\AppData\\Local\\Temp\\ipykernel_7360\\4150719641.py:94: ExperimentalWarning:\n",
      "\n",
      "upload_artifact is experimental (supported from v3.3.0). The interface can change in the future.\n",
      "\n",
      "[I 2024-08-22 20:09:27,508] Trial 398 finished with value: 0.34589046047344435 and parameters: {'lambda_l1': 0.0022089204064298126, 'lambda_l2': 0.369786477968298, 'num_leaves': 52, 'feature_fraction': 0.525326842363746, 'bagging_fraction': 0.9322744235675415, 'bagging_freq': 7, 'min_child_samples': 67}. Best is trial 237 with value: 0.370833783471845.\n",
      "C:\\Users\\cacic\\AppData\\Local\\Temp\\ipykernel_7360\\4150719641.py:86: ExperimentalWarning:\n",
      "\n",
      "upload_artifact is experimental (supported from v3.3.0). The interface can change in the future.\n",
      "\n",
      "C:\\Users\\cacic\\AppData\\Local\\Temp\\ipykernel_7360\\4150719641.py:94: ExperimentalWarning:\n",
      "\n",
      "upload_artifact is experimental (supported from v3.3.0). The interface can change in the future.\n",
      "\n",
      "[I 2024-08-22 20:09:42,765] Trial 399 finished with value: 0.34566529380665356 and parameters: {'lambda_l1': 0.0008841565859103927, 'lambda_l2': 0.15455556535131706, 'num_leaves': 72, 'feature_fraction': 0.5052056847249822, 'bagging_fraction': 0.9516648804763315, 'bagging_freq': 7, 'min_child_samples': 24}. Best is trial 237 with value: 0.370833783471845.\n",
      "C:\\Users\\cacic\\AppData\\Local\\Temp\\ipykernel_7360\\4150719641.py:86: ExperimentalWarning:\n",
      "\n",
      "upload_artifact is experimental (supported from v3.3.0). The interface can change in the future.\n",
      "\n",
      "C:\\Users\\cacic\\AppData\\Local\\Temp\\ipykernel_7360\\4150719641.py:94: ExperimentalWarning:\n",
      "\n",
      "upload_artifact is experimental (supported from v3.3.0). The interface can change in the future.\n",
      "\n",
      "[I 2024-08-22 20:09:56,420] Trial 400 finished with value: 0.35460630271103344 and parameters: {'lambda_l1': 0.0014342376665023079, 'lambda_l2': 0.07295497304627141, 'num_leaves': 66, 'feature_fraction': 0.5657346675632061, 'bagging_fraction': 0.9687928477931421, 'bagging_freq': 7, 'min_child_samples': 12}. Best is trial 237 with value: 0.370833783471845.\n",
      "C:\\Users\\cacic\\AppData\\Local\\Temp\\ipykernel_7360\\4150719641.py:86: ExperimentalWarning:\n",
      "\n",
      "upload_artifact is experimental (supported from v3.3.0). The interface can change in the future.\n",
      "\n",
      "C:\\Users\\cacic\\AppData\\Local\\Temp\\ipykernel_7360\\4150719641.py:94: ExperimentalWarning:\n",
      "\n",
      "upload_artifact is experimental (supported from v3.3.0). The interface can change in the future.\n",
      "\n",
      "[I 2024-08-22 20:10:07,552] Trial 401 finished with value: 0.3556654797261445 and parameters: {'lambda_l1': 0.0005263817051507518, 'lambda_l2': 0.03474901927432045, 'num_leaves': 82, 'feature_fraction': 0.8812390409373957, 'bagging_fraction': 0.9810159695468234, 'bagging_freq': 7, 'min_child_samples': 17}. Best is trial 237 with value: 0.370833783471845.\n",
      "C:\\Users\\cacic\\AppData\\Local\\Temp\\ipykernel_7360\\4150719641.py:86: ExperimentalWarning:\n",
      "\n",
      "upload_artifact is experimental (supported from v3.3.0). The interface can change in the future.\n",
      "\n",
      "C:\\Users\\cacic\\AppData\\Local\\Temp\\ipykernel_7360\\4150719641.py:94: ExperimentalWarning:\n",
      "\n",
      "upload_artifact is experimental (supported from v3.3.0). The interface can change in the future.\n",
      "\n",
      "[I 2024-08-22 20:10:20,960] Trial 402 finished with value: 0.3522125306088678 and parameters: {'lambda_l1': 0.0002332047906402153, 'lambda_l2': 0.24632174129169154, 'num_leaves': 59, 'feature_fraction': 0.54195728965565, 'bagging_fraction': 0.999857553319994, 'bagging_freq': 7, 'min_child_samples': 13}. Best is trial 237 with value: 0.370833783471845.\n",
      "C:\\Users\\cacic\\AppData\\Local\\Temp\\ipykernel_7360\\4150719641.py:86: ExperimentalWarning:\n",
      "\n",
      "upload_artifact is experimental (supported from v3.3.0). The interface can change in the future.\n",
      "\n",
      "C:\\Users\\cacic\\AppData\\Local\\Temp\\ipykernel_7360\\4150719641.py:94: ExperimentalWarning:\n",
      "\n",
      "upload_artifact is experimental (supported from v3.3.0). The interface can change in the future.\n",
      "\n",
      "[I 2024-08-22 20:10:34,976] Trial 403 finished with value: 0.35012941804104186 and parameters: {'lambda_l1': 0.009005247361731398, 'lambda_l2': 1.5820482073661052e-08, 'num_leaves': 74, 'feature_fraction': 0.5198458242752686, 'bagging_fraction': 0.9599458493253185, 'bagging_freq': 7, 'min_child_samples': 15}. Best is trial 237 with value: 0.370833783471845.\n",
      "C:\\Users\\cacic\\AppData\\Local\\Temp\\ipykernel_7360\\4150719641.py:86: ExperimentalWarning:\n",
      "\n",
      "upload_artifact is experimental (supported from v3.3.0). The interface can change in the future.\n",
      "\n",
      "C:\\Users\\cacic\\AppData\\Local\\Temp\\ipykernel_7360\\4150719641.py:94: ExperimentalWarning:\n",
      "\n",
      "upload_artifact is experimental (supported from v3.3.0). The interface can change in the future.\n",
      "\n",
      "[I 2024-08-22 20:10:47,605] Trial 404 finished with value: 0.3512425744804798 and parameters: {'lambda_l1': 0.0007762473154404132, 'lambda_l2': 0.006473542749369837, 'num_leaves': 33, 'feature_fraction': 0.5409014692725904, 'bagging_fraction': 0.9129011026992805, 'bagging_freq': 7, 'min_child_samples': 8}. Best is trial 237 with value: 0.370833783471845.\n"
     ]
    }
   ],
   "source": [
    "#Inicio el store de artefactos (archivos) de optuna\n",
    "artifact_store = FileSystemArtifactStore(base_path=PATH_TO_OPTUNA_ARTIFACTS)\n",
    "\n",
    "#Genero estudio\n",
    "study = optuna.create_study(direction='maximize',\n",
    "                            storage=\"sqlite:///../work/db.sqlite3\",  # Specify the storage URL here.\n",
    "                            study_name=\"04 - LGB Multiclass CV\",\n",
    "                            load_if_exists = True)\n",
    "#Corro la optimizacion\n",
    "study.optimize(cv_es_lgb_objective, n_trials=100)"
   ]
  },
  {
   "cell_type": "markdown",
   "metadata": {},
   "source": [
    "Para ver el optuna dashboard tengo que correr este comando en la terminal"
   ]
  },
  {
   "cell_type": "code",
   "execution_count": 49,
   "metadata": {},
   "outputs": [
    {
     "name": "stdout",
     "output_type": "stream",
     "text": [
      "/home/gugui/anaconda3/envs/ldi2/lib/python3.12/site-packages/optuna_dashboard/_cli.py:127: ExperimentalWarning: FileSystemArtifactStore is experimental (supported from v3.3.0). The interface can change in the future.\n",
      "  artifact_store = FileSystemArtifactStore(args.artifact_dir)\n",
      "Listening on http://127.0.0.1:8081/\n",
      "Hit Ctrl-C to quit.\n",
      "\n",
      "127.0.0.1 - - [21/Aug/2024 17:52:07] \"GET / HTTP/1.1\" 302 0\n",
      "127.0.0.1 - - [21/Aug/2024 17:52:07] \"GET /static/bundle.js HTTP/1.1\" 200 2986981\n",
      "127.0.0.1 - - [21/Aug/2024 17:52:12] \"GET /api/studies HTTP/1.1\" 200 276\n",
      "127.0.0.1 - - [21/Aug/2024 17:52:13] \"GET /favicon.ico HTTP/1.1\" 200 7670\n",
      "127.0.0.1 - - [21/Aug/2024 17:52:25] \"GET /api/studies HTTP/1.1\" 200 276\n",
      "127.0.0.1 - - [21/Aug/2024 17:52:27] \"GET /api/meta HTTP/1.1\" 200 62\n",
      "/home/gugui/anaconda3/envs/ldi2/lib/python3.12/site-packages/optuna_dashboard/_importance.py:75: ExperimentalWarning: PedAnovaImportanceEvaluator is experimental (supported from v3.6.0). The interface can change in the future.\n",
      "  return get_param_importances(study, target=target, evaluator=PedAnovaImportanceEvaluator())\n",
      "127.0.0.1 - - [21/Aug/2024 17:52:28] \"GET /api/studies/2?after=0 HTTP/1.1\" 200 557241\n",
      "/home/gugui/anaconda3/envs/ldi2/lib/python3.12/site-packages/optuna/importance/_ped_anova/evaluator.py:150: UserWarning: PedAnovaImportanceEvaluator computes the importances of params to achieve low `target` values. If this is not what you want, please modify target, e.g., by multiplying the output by -1.\n",
      "  warnings.warn(\n",
      "127.0.0.1 - - [21/Aug/2024 17:52:29] \"GET /api/studies/2/param_importances HTTP/1.1\" 200 709\n",
      "127.0.0.1 - - [21/Aug/2024 17:52:29] \"GET /api/studies/2/param_importances HTTP/1.1\" 200 709\n",
      "127.0.0.1 - - [21/Aug/2024 17:52:40] \"GET /api/studies/2?after=228 HTTP/1.1\" 200 4589\n",
      "127.0.0.1 - - [21/Aug/2024 17:52:50] \"GET /api/studies/2?after=228 HTTP/1.1\" 200 4589\n",
      "127.0.0.1 - - [21/Aug/2024 17:53:01] \"GET /api/studies/2?after=228 HTTP/1.1\" 200 4589\n",
      "127.0.0.1 - - [21/Aug/2024 17:53:10] \"GET /api/studies/2?after=228 HTTP/1.1\" 200 4589\n",
      "127.0.0.1 - - [21/Aug/2024 17:53:16] \"GET /api/studies/2?after=228 HTTP/1.1\" 200 4589\n",
      "127.0.0.1 - - [21/Aug/2024 17:53:29] \"GET /api/studies/2?after=228 HTTP/1.1\" 200 4589\n",
      "127.0.0.1 - - [21/Aug/2024 17:53:41] \"GET /api/studies/2?after=228 HTTP/1.1\" 200 4589\n",
      "127.0.0.1 - - [21/Aug/2024 17:54:02] \"GET /api/studies/2?after=228 HTTP/1.1\" 200 4589\n",
      "127.0.0.1 - - [21/Aug/2024 17:54:05] \"GET /artifacts/2/169/2a7d5105-1e3f-4ba3-92af-736da9804d3f HTTP/1.1\" 200 45651\n",
      "127.0.0.1 - - [21/Aug/2024 17:54:11] \"GET /api/studies/2?after=228 HTTP/1.1\" 200 4589\n",
      "127.0.0.1 - - [21/Aug/2024 17:54:16] \"GET /api/studies/2?after=228 HTTP/1.1\" 200 4589\n",
      "127.0.0.1 - - [21/Aug/2024 17:54:32] \"GET /api/studies/2?after=228 HTTP/1.1\" 200 4589\n",
      "127.0.0.1 - - [21/Aug/2024 17:54:43] \"GET /api/studies/2?after=228 HTTP/1.1\" 200 4589\n",
      "127.0.0.1 - - [21/Aug/2024 17:54:53] \"GET /api/studies/2?after=228 HTTP/1.1\" 200 4589\n",
      "127.0.0.1 - - [21/Aug/2024 17:55:04] \"GET /api/studies/2?after=228 HTTP/1.1\" 200 4589\n",
      "127.0.0.1 - - [21/Aug/2024 17:55:11] \"GET /api/studies HTTP/1.1\" 200 276\n",
      "127.0.0.1 - - [21/Aug/2024 17:55:14] \"GET /api/meta HTTP/1.1\" 200 62\n",
      "127.0.0.1 - - [21/Aug/2024 17:55:15] \"GET /api/studies/1?after=0 HTTP/1.1\" 200 690493\n",
      "127.0.0.1 - - [21/Aug/2024 17:55:15] \"GET /api/studies/1/param_importances HTTP/1.1\" 200 709\n",
      "127.0.0.1 - - [21/Aug/2024 17:55:15] \"GET /api/studies/1/param_importances HTTP/1.1\" 200 709\n",
      "127.0.0.1 - - [21/Aug/2024 17:55:26] \"GET /api/studies/1?after=2 HTTP/1.1\" 200 686394\n",
      "127.0.0.1 - - [21/Aug/2024 17:55:37] \"GET /api/studies/1?after=2 HTTP/1.1\" 200 686394\n",
      "127.0.0.1 - - [21/Aug/2024 17:55:47] \"GET /api/studies/1?after=2 HTTP/1.1\" 200 686394\n",
      "127.0.0.1 - - [21/Aug/2024 17:55:58] \"GET /api/studies/1?after=2 HTTP/1.1\" 200 686394\n",
      "127.0.0.1 - - [21/Aug/2024 17:56:09] \"GET /api/studies/1?after=2 HTTP/1.1\" 200 686394\n",
      "127.0.0.1 - - [21/Aug/2024 17:56:20] \"GET /api/studies/1?after=2 HTTP/1.1\" 200 686394\n",
      "127.0.0.1 - - [21/Aug/2024 17:56:31] \"GET /api/studies/1?after=2 HTTP/1.1\" 200 686394\n",
      "127.0.0.1 - - [21/Aug/2024 17:56:41] \"GET /api/studies/1?after=2 HTTP/1.1\" 200 686394\n",
      "127.0.0.1 - - [21/Aug/2024 17:56:52] \"GET /api/studies/1?after=2 HTTP/1.1\" 200 686394\n",
      "127.0.0.1 - - [21/Aug/2024 17:57:03] \"GET /api/studies/1?after=2 HTTP/1.1\" 200 686394\n",
      "^C\n",
      "Traceback (most recent call last):\n",
      "  File \"/home/gugui/anaconda3/envs/ldi2/bin/optuna-dashboard\", line 10, in <module>\n",
      "    sys.exit(main())\n",
      "             ^^^^^^\n",
      "  File \"/home/gugui/anaconda3/envs/ldi2/lib/python3.12/site-packages/optuna_dashboard/_cli.py\", line 140, in main\n",
      "    run_wsgiref(app, args.host, args.port, args.quiet)\n",
      "  File \"/home/gugui/anaconda3/envs/ldi2/lib/python3.12/site-packages/optuna_dashboard/_cli.py\", line 44, in run_wsgiref\n",
      "    httpd.serve_forever()\n",
      "  File \"/home/gugui/anaconda3/envs/ldi2/lib/python3.12/socketserver.py\", line 235, in serve_forever\n",
      "    ready = selector.select(poll_interval)\n",
      "            ^^^^^^^^^^^^^^^^^^^^^^^^^^^^^^\n",
      "  File \"/home/gugui/anaconda3/envs/ldi2/lib/python3.12/selectors.py\", line 415, in select\n",
      "    fd_event_list = self._selector.poll(timeout)\n",
      "                    ^^^^^^^^^^^^^^^^^^^^^^^^^^^^\n",
      "KeyboardInterrupt\n"
     ]
    }
   ],
   "source": [
    "!optuna-dashboard sqlite:///../work/db.sqlite3 --artifact-dir ../work/optuna_artifacts --port 8081"
   ]
  }
 ],
 "metadata": {
  "kernelspec": {
   "display_name": "ldi2",
   "language": "python",
   "name": "python3"
  },
  "language_info": {
   "codemirror_mode": {
    "name": "ipython",
    "version": 3
   },
   "file_extension": ".py",
   "mimetype": "text/x-python",
   "name": "python",
   "nbconvert_exporter": "python",
   "pygments_lexer": "ipython3",
   "version": "3.12.4"
  }
 },
 "nbformat": 4,
 "nbformat_minor": 2
}
